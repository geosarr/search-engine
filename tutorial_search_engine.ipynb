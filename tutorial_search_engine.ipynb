{
 "cells": [
  {
   "cell_type": "markdown",
   "metadata": {},
   "source": [
    "This project is greatly inspired by the following article:\n",
    "\n",
    "[Building a full-text search engine in 150 lines of Python code](https://bart.degoe.de/building-a-full-text-search-engine-150-lines-of-code/)\n",
    "\n",
    "and the Information Retrieval and Web Search lectures at the University of Mannheim, Germany"
   ]
  },
  {
   "cell_type": "code",
   "execution_count": 1,
   "metadata": {},
   "outputs": [],
   "source": [
    "%load_ext autoreload\n",
    "%autoreload 2"
   ]
  },
  {
   "cell_type": "code",
   "execution_count": 2,
   "metadata": {},
   "outputs": [],
   "source": [
    "# ! pip install datasets\n",
    "# ! pip install gensim \n",
    "# ! pip install nltk\n",
    "# ! pip install tqdm"
   ]
  },
  {
   "cell_type": "code",
   "execution_count": 2,
   "metadata": {},
   "outputs": [
    {
     "name": "stdout",
     "output_type": "stream",
     "text": [
      "CPU times: user 45 µs, sys: 25 µs, total: 70 µs\n",
      "Wall time: 73.9 µs\n"
     ]
    }
   ],
   "source": [
    "%%time\n",
    "import warnings\n",
    "warnings.simplefilter(action='ignore', category=RuntimeWarning)\n",
    "\n",
    "from model_utils import tf, idf, unigram, doc_embed, cluster_docs, wd, opt_svd \n",
    "from search_models import Boolean, Vsm, Bim, BimExt, QueryLklhd, W2Vsm, Lsi\n",
    "from search import searching \n",
    "from saveload import indexing\n",
    "from indices import SubInvertedIndex\n",
    "import matplotlib.pyplot as plt\n",
    "import seaborn as sb\n",
    "import numpy as np\n",
    "import pandas as pd\n",
    "\n",
    "import gensim\n",
    "import gensim.downloader as api"
   ]
  },
  {
   "cell_type": "markdown",
   "metadata": {},
   "source": [
    "# Indexing the documents collection"
   ]
  },
  {
   "cell_type": "code",
   "execution_count": 3,
   "metadata": {},
   "outputs": [
    {
     "name": "stdout",
     "output_type": "stream",
     "text": [
      ".....................Collection indexation in progress.....................\n"
     ]
    },
    {
     "name": "stderr",
     "output_type": "stream",
     "text": [
      "Reusing dataset ms_marco (/home/georges_sarr/.cache/huggingface/datasets/ms_marco/v1.1/1.1.0/b6a62715fa5219aea5275dd3556601004cd63945cb63e36e022f77bb3cbbca84)\n",
      "100%|██████████| 9650/9650 [00:41<00:00, 229.94it/s]\n"
     ]
    },
    {
     "name": "stdout",
     "output_type": "stream",
     "text": [
      ".....................Successfully saved the index.....................\n",
      "CPU times: user 45.4 s, sys: 1.19 s, total: 46.6 s\n",
      "Wall time: 47.5 s\n"
     ]
    }
   ],
   "source": [
    "%%time\n",
    "inverted_index_sortpost=indexing(dataset=\"ms_marco\", save=True, save_load_path=\"./data\", index_type='inv')"
   ]
  },
  {
   "cell_type": "code",
   "execution_count": 4,
   "metadata": {},
   "outputs": [],
   "source": [
    "# TAKES TOO MUCH TIME TO RUN >= 10 minutes\n",
    "# %%time\n",
    "# positional_index_sortpost=indexing(dataset=\"ms_marco\", save=True, save_load_path=\"./data\", index_type=\"pos\")"
   ]
  },
  {
   "cell_type": "markdown",
   "metadata": {},
   "source": [
    "# Statistics"
   ]
  },
  {
   "cell_type": "code",
   "execution_count": 5,
   "metadata": {},
   "outputs": [
    {
     "name": "stdout",
     "output_type": "stream",
     "text": [
      "The vocabulary is made of 132161 words\n"
     ]
    }
   ],
   "source": [
    "print(f\"The vocabulary is made of {len(inverted_index_sortpost.index)} words\")"
   ]
  },
  {
   "cell_type": "markdown",
   "metadata": {},
   "source": [
    "### Document lengths"
   ]
  },
  {
   "cell_type": "code",
   "execution_count": 10,
   "metadata": {},
   "outputs": [
    {
     "name": "stdout",
     "output_type": "stream",
     "text": [
      "There are 79176 documents\n"
     ]
    },
    {
     "data": {
      "text/plain": [
       "<AxesSubplot:ylabel='Count'>"
      ]
     },
     "execution_count": 10,
     "metadata": {},
     "output_type": "execute_result"
    },
    {
     "data": {
      "image/png": "[encoded data removed]",
      "text/plain": [
       "<Figure size 432x288 with 1 Axes>"
      ]
     },
     "metadata": {
      "needs_background": "light"
     },
     "output_type": "display_data"
    }
   ],
   "source": [
    "print(f\"There are {len(inverted_index_sortpost.documents)} documents\")\n",
    "doc_lenghts=[len(inverted_index_sortpost.raw_freq[ID]) for ID in inverted_index_sortpost.documents]\n",
    "sb.histplot(doc_lenghts)"
   ]
  },
  {
   "cell_type": "code",
   "execution_count": 11,
   "metadata": {},
   "outputs": [
    {
     "data": {
      "text/html": [
       "<div>\n",
       "<style scoped>\n",
       "    .dataframe tbody tr th:only-of-type {\n",
       "        vertical-align: middle;\n",
       "    }\n",
       "\n",
       "    .dataframe tbody tr th {\n",
       "        vertical-align: top;\n",
       "    }\n",
       "\n",
       "    .dataframe thead th {\n",
       "        text-align: right;\n",
       "    }\n",
       "</style>\n",
       "<table border=\"1\" class=\"dataframe\">\n",
       "  <thead>\n",
       "    <tr style=\"text-align: right;\">\n",
       "      <th></th>\n",
       "      <th>doc_lengths</th>\n",
       "    </tr>\n",
       "  </thead>\n",
       "  <tbody>\n",
       "    <tr>\n",
       "      <th>count</th>\n",
       "      <td>79176.0</td>\n",
       "    </tr>\n",
       "    <tr>\n",
       "      <th>mean</th>\n",
       "      <td>49.0</td>\n",
       "    </tr>\n",
       "    <tr>\n",
       "      <th>std</th>\n",
       "      <td>15.0</td>\n",
       "    </tr>\n",
       "    <tr>\n",
       "      <th>min</th>\n",
       "      <td>4.0</td>\n",
       "    </tr>\n",
       "    <tr>\n",
       "      <th>25%</th>\n",
       "      <td>37.0</td>\n",
       "    </tr>\n",
       "    <tr>\n",
       "      <th>50%</th>\n",
       "      <td>48.0</td>\n",
       "    </tr>\n",
       "    <tr>\n",
       "      <th>75%</th>\n",
       "      <td>60.0</td>\n",
       "    </tr>\n",
       "    <tr>\n",
       "      <th>max</th>\n",
       "      <td>125.0</td>\n",
       "    </tr>\n",
       "  </tbody>\n",
       "</table>\n",
       "</div>"
      ],
      "text/plain": [
       "       doc_lengths\n",
       "count      79176.0\n",
       "mean          49.0\n",
       "std           15.0\n",
       "min            4.0\n",
       "25%           37.0\n",
       "50%           48.0\n",
       "75%           60.0\n",
       "max          125.0"
      ]
     },
     "execution_count": 11,
     "metadata": {},
     "output_type": "execute_result"
    }
   ],
   "source": [
    "round(pd.DataFrame({\"doc_lengths\": doc_lenghts}).describe(),0)"
   ]
  },
  {
   "cell_type": "markdown",
   "metadata": {},
   "source": [
    "### Word raw frequencies"
   ]
  },
  {
   "cell_type": "code",
   "execution_count": 12,
   "metadata": {},
   "outputs": [
    {
     "data": {
      "text/html": [
       "<div>\n",
       "<style scoped>\n",
       "    .dataframe tbody tr th:only-of-type {\n",
       "        vertical-align: middle;\n",
       "    }\n",
       "\n",
       "    .dataframe tbody tr th {\n",
       "        vertical-align: top;\n",
       "    }\n",
       "\n",
       "    .dataframe thead th {\n",
       "        text-align: right;\n",
       "    }\n",
       "</style>\n",
       "<table border=\"1\" class=\"dataframe\">\n",
       "  <thead>\n",
       "    <tr style=\"text-align: right;\">\n",
       "      <th></th>\n",
       "      <th>avg_raw_freqs</th>\n",
       "    </tr>\n",
       "  </thead>\n",
       "  <tbody>\n",
       "    <tr>\n",
       "      <th>count</th>\n",
       "      <td>132161.0</td>\n",
       "    </tr>\n",
       "    <tr>\n",
       "      <th>mean</th>\n",
       "      <td>1.0</td>\n",
       "    </tr>\n",
       "    <tr>\n",
       "      <th>std</th>\n",
       "      <td>0.0</td>\n",
       "    </tr>\n",
       "    <tr>\n",
       "      <th>min</th>\n",
       "      <td>1.0</td>\n",
       "    </tr>\n",
       "    <tr>\n",
       "      <th>25%</th>\n",
       "      <td>1.0</td>\n",
       "    </tr>\n",
       "    <tr>\n",
       "      <th>50%</th>\n",
       "      <td>1.0</td>\n",
       "    </tr>\n",
       "    <tr>\n",
       "      <th>75%</th>\n",
       "      <td>1.0</td>\n",
       "    </tr>\n",
       "    <tr>\n",
       "      <th>max</th>\n",
       "      <td>24.0</td>\n",
       "    </tr>\n",
       "  </tbody>\n",
       "</table>\n",
       "</div>"
      ],
      "text/plain": [
       "       avg_raw_freqs\n",
       "count       132161.0\n",
       "mean             1.0\n",
       "std              0.0\n",
       "min              1.0\n",
       "25%              1.0\n",
       "50%              1.0\n",
       "75%              1.0\n",
       "max             24.0"
      ]
     },
     "execution_count": 12,
     "metadata": {},
     "output_type": "execute_result"
    }
   ],
   "source": [
    "# average number of time each token appears in a document\n",
    "avg_raw_freqs = [np.mean([inverted_index_sortpost.raw_freq[ID][term] for ID in inverted_index_sortpost.index[term]]) for term in inverted_index_sortpost.index]\n",
    "round(pd.DataFrame({\"avg_raw_freqs\":avg_raw_freqs}).describe(),0)"
   ]
  },
  {
   "cell_type": "markdown",
   "metadata": {},
   "source": [
    "Most of the terms appear just once in a document."
   ]
  },
  {
   "cell_type": "markdown",
   "metadata": {},
   "source": [
    "### Document frequencies"
   ]
  },
  {
   "cell_type": "code",
   "execution_count": 13,
   "metadata": {},
   "outputs": [
    {
     "name": "stdout",
     "output_type": "stream",
     "text": [
      "CPU times: user 102 ms, sys: 187 µs, total: 102 ms\n",
      "Wall time: 102 ms\n"
     ]
    },
    {
     "data": {
      "text/html": [
       "<div>\n",
       "<style scoped>\n",
       "    .dataframe tbody tr th:only-of-type {\n",
       "        vertical-align: middle;\n",
       "    }\n",
       "\n",
       "    .dataframe tbody tr th {\n",
       "        vertical-align: top;\n",
       "    }\n",
       "\n",
       "    .dataframe thead th {\n",
       "        text-align: right;\n",
       "    }\n",
       "</style>\n",
       "<table border=\"1\" class=\"dataframe\">\n",
       "  <thead>\n",
       "    <tr style=\"text-align: right;\">\n",
       "      <th></th>\n",
       "      <th>doc_freqs</th>\n",
       "    </tr>\n",
       "  </thead>\n",
       "  <tbody>\n",
       "    <tr>\n",
       "      <th>count</th>\n",
       "      <td>132161.0</td>\n",
       "    </tr>\n",
       "    <tr>\n",
       "      <th>mean</th>\n",
       "      <td>29.0</td>\n",
       "    </tr>\n",
       "    <tr>\n",
       "      <th>std</th>\n",
       "      <td>571.0</td>\n",
       "    </tr>\n",
       "    <tr>\n",
       "      <th>min</th>\n",
       "      <td>1.0</td>\n",
       "    </tr>\n",
       "    <tr>\n",
       "      <th>25%</th>\n",
       "      <td>1.0</td>\n",
       "    </tr>\n",
       "    <tr>\n",
       "      <th>50%</th>\n",
       "      <td>2.0</td>\n",
       "    </tr>\n",
       "    <tr>\n",
       "      <th>75%</th>\n",
       "      <td>5.0</td>\n",
       "    </tr>\n",
       "    <tr>\n",
       "      <th>max</th>\n",
       "      <td>73633.0</td>\n",
       "    </tr>\n",
       "  </tbody>\n",
       "</table>\n",
       "</div>"
      ],
      "text/plain": [
       "       doc_freqs\n",
       "count   132161.0\n",
       "mean        29.0\n",
       "std        571.0\n",
       "min          1.0\n",
       "25%          1.0\n",
       "50%          2.0\n",
       "75%          5.0\n",
       "max      73633.0"
      ]
     },
     "execution_count": 13,
     "metadata": {},
     "output_type": "execute_result"
    }
   ],
   "source": [
    "%%time \n",
    "doc_freqs=[len(inverted_index_sortpost.index[token]) for token in inverted_index_sortpost.index]\n",
    "round(pd.DataFrame({\"doc_freqs\": doc_freqs}).describe(),0)"
   ]
  },
  {
   "cell_type": "markdown",
   "metadata": {},
   "source": [
    "A term appears on average in 30 $\\pm$ 500 documents, 75% of the terms appear in less than 5 documents (a lot of rare terms, weird ??). Lets try to visualize why"
   ]
  },
  {
   "cell_type": "code",
   "execution_count": 14,
   "metadata": {},
   "outputs": [
    {
     "name": "stdout",
     "output_type": "stream",
     "text": [
      "stink\n",
      "relocate\n",
      "scatter\n",
      "deters\n",
      "npr\n",
      "contributory\n",
      "coaltake\n",
      "fuelsoil\n",
      "circumscribes\n",
      "apothems\n",
      "4cm\n",
      "polygonsproperties\n",
      "incircle\n",
      "congruent\n",
      "equilateral\n",
      "weisstein\n",
      "mathworld\n",
      "sagitta\n",
      "inradius\n",
      "hypotenuse\n"
     ]
    }
   ],
   "source": [
    "for pos , term in enumerate(inverted_index_sortpost.index) : \n",
    "    if pos<=500 and len(inverted_index_sortpost.index[term])<=5: print(term) "
   ]
  },
  {
   "cell_type": "markdown",
   "metadata": {},
   "source": [
    "It looks plausible when we look at the above sequence of words (they look rare indeed)"
   ]
  },
  {
   "cell_type": "markdown",
   "metadata": {},
   "source": [
    "# Preparing for search"
   ]
  },
  {
   "cell_type": "markdown",
   "metadata": {},
   "source": [
    "### TF-IDF and language model"
   ]
  },
  {
   "cell_type": "code",
   "execution_count": 6,
   "metadata": {},
   "outputs": [],
   "source": [
    "tfreqs, idfs, unigram_model=tf(inverted_index_sortpost), idf(inverted_index_sortpost), unigram(inverted_index_sortpost)"
   ]
  },
  {
   "cell_type": "markdown",
   "metadata": {},
   "source": [
    "### Uploading word2vec model"
   ]
  },
  {
   "cell_type": "code",
   "execution_count": 7,
   "metadata": {},
   "outputs": [
    {
     "name": "stdout",
     "output_type": "stream",
     "text": [
      "Word2Vec model vocabulary size = 3000000 words\n"
     ]
    }
   ],
   "source": [
    "## Takes up to 10 minutes to run, but TO RUN ONCE !!!\n",
    "# path = api.load(\"word2vec-google-news-300\", return_path=True)\n",
    "path=\"~/gensim-data/word2vec-google-news-300/word2vec-google-news-300.gz\"\n",
    "# Takes up to 1 minute to load the google news word2vec model\n",
    "w2v = gensim.models.KeyedVectors.load_word2vec_format(path, binary=True)\n",
    "print(f\"Word2Vec model vocabulary size = {len(w2v.key_to_index)} words\")"
   ]
  },
  {
   "cell_type": "markdown",
   "metadata": {},
   "source": [
    "### Document embedding and document clustering"
   ]
  },
  {
   "cell_type": "code",
   "execution_count": 8,
   "metadata": {},
   "outputs": [
    {
     "name": "stderr",
     "output_type": "stream",
     "text": [
      "100%|██████████| 79176/79176 [00:19<00:00, 3963.81it/s]\n"
     ]
    }
   ],
   "source": [
    "doc2vec=doc_embed(inverted_index_sortpost, tfreqs, idfs, w2v)"
   ]
  },
  {
   "cell_type": "code",
   "execution_count": 59,
   "metadata": {},
   "outputs": [
    {
     "name": "stdout",
     "output_type": "stream",
     "text": [
      "Computing K-means model for different values of K\n"
     ]
    },
    {
     "name": "stderr",
     "output_type": "stream",
     "text": [
      "100%|██████████| 6/6 [07:49<00:00, 78.19s/it]\n"
     ]
    },
    {
     "data": {
      "image/png": "[encoded data removed]",
      "text/plain": [
       "<Figure size 432x288 with 1 Axes>"
      ]
     },
     "metadata": {
      "needs_background": "light"
     },
     "output_type": "display_data"
    }
   ],
   "source": [
    "doc_kmeans=cluster_docs(inverted_index_sortpost, doc_embeds=doc2vec,num_min_centr=50,num_max_centr=110,step=10,plot=True)"
   ]
  },
  {
   "cell_type": "markdown",
   "metadata": {},
   "source": [
    "### Random subsample of the index (for latent semantic indexing (lsi) model)"
   ]
  },
  {
   "cell_type": "code",
   "execution_count": 9,
   "metadata": {},
   "outputs": [
    {
     "name": "stderr",
     "output_type": "stream",
     "text": [
      "100%|██████████| 132161/132161 [00:16<00:00, 7842.44it/s] \n",
      "100%|██████████| 132161/132161 [00:00<00:00, 1893368.57it/s]\n",
      "100%|██████████| 1000/1000 [00:00<00:00, 536424.61it/s]\n",
      "100%|██████████| 1000/1000 [00:00<00:00, 698236.06it/s]\n"
     ]
    }
   ],
   "source": [
    "sub_inv = SubInvertedIndex()\n",
    "nb_docs=len(inverted_index_sortpost.documents)\n",
    "nb_sampled_docs=1000\n",
    "sampled_docs=np.random.choice(a=range(1,nb_docs+1),size=nb_sampled_docs, replace=False)\n",
    "sub_inv.reindex(inverted_index_sortpost, sampled_docs)"
   ]
  },
  {
   "cell_type": "code",
   "execution_count": 10,
   "metadata": {},
   "outputs": [
    {
     "name": "stderr",
     "output_type": "stream",
     "text": [
      "1000it [00:00, 17582.13it/s]\n"
     ]
    },
    {
     "data": {
      "text/plain": [
       "(11652, 1000)"
      ]
     },
     "execution_count": 10,
     "metadata": {},
     "output_type": "execute_result"
    }
   ],
   "source": [
    "WD, wtoi, dtoi = wd(sub_inv)\n",
    "WD.shape"
   ]
  },
  {
   "cell_type": "code",
   "execution_count": 11,
   "metadata": {},
   "outputs": [
    {
     "name": "stdout",
     "output_type": "stream",
     "text": [
      "Computing SVDs for different values of k\n"
     ]
    },
    {
     "name": "stderr",
     "output_type": "stream",
     "text": [
      "100%|██████████| 9/9 [01:02<00:00,  6.95s/it]\n"
     ]
    },
    {
     "data": {
      "image/png": "[encoded data removed]",
      "text/plain": [
       "<Figure size 432x288 with 1 Axes>"
      ]
     },
     "metadata": {
      "needs_background": "light"
     },
     "output_type": "display_data"
    }
   ],
   "source": [
    "svd_mats=opt_svd(WD,min_k=100,max_k=1000,step_k=100, penalty=5,plot=True)"
   ]
  },
  {
   "cell_type": "markdown",
   "metadata": {},
   "source": [
    "# Searching"
   ]
  },
  {
   "cell_type": "markdown",
   "metadata": {},
   "source": [
    "### Simple boolean retrieval"
   ]
  },
  {
   "cell_type": "code",
   "execution_count": 12,
   "metadata": {},
   "outputs": [
    {
     "name": "stdout",
     "output_type": "stream",
     "text": [
      "Did you mean: \u001b[36mchat is mids\u001b[0m ?\n",
      "\n",
      "\n",
      "Your query:  what is AIDS ?\n",
      "\n",
      "Result(s): \n",
      "Document(ID=36036, content='What is mean by opportunistic infection-Two examples of opportunistic infections are given below. In day to day life we unknowingly carry out many germs such as, fungi, bacteria, protozoa and viruses. When a person is HIV infection free the immune system resists such invaders. It controls them properly. Examples of Opportunistic Infection. Before going to see the examples of opportunistic infection, it would be better to learn that what is HIV and how it helps such infections to attack on the immune system. HIV is known as Human Immuno Deficiency Virus. The virus leads to develop the AIDS. It attacks on the CD4 cells') \n",
      "\n",
      "Document(ID=36038, content='Examples of opportunistic infections are given here for your sake. You can get the list of such examples in the given article. Moreover you would be able to know that what is opportunistic infection and how it leads a person to the life threatening disease that is AIDS. Examples of Opportunistic Infection. Before going to see the examples of opportunistic infection, it would be better to learn that what is HIV and how it helps such infections to attack on the immune system. HIV is known as Human Immuno Deficiency Virus. The virus leads to develop the AIDS. It attacks on the CD4 cells') \n",
      "\n",
      "Document(ID=44218, content='The salivary glands are located in the mouth, and their job is to secrete (guess what) saliva. When you first chew your food, the saliva moistens your food as it forms a bolus … . A moist bolus is easy to swallow. Making the world better, one answer at a time. The salivary glands secretes saliva that aids in chewing and starts the digestion process. This part of digestion is took place in your mouth. Saliva glands are located in the mouth providing the first ingested digestive chemical breakdown. Saliva also lubricates ingestion to aid in mastication') \n",
      "\n",
      "Document(ID=72655, content='The word mnemonic is derived from the Ancient Greek word μνημονικός (mnēmonikos), meaning of memory, or relating to memory and is related to Mnemosyne (remembrance), the name of the goddess of memory in Greek mythology. Both of these words are derived from μνήμη (mnēmē), remembrance, memory. Mnemonics in antiquity were most often considered in the context of what is today known as the art of memory. Ancient Greeks and Romans distinguished between two types of memory: the natural memory and the artificial memory. A mnemonic (. : /nəˈmɒnɨk/ , : /nɛˈmɑːnɪk/ the first m is silent), mnemonic device, or memory device is any learning technique that aids information retention in the human memory. Mnemonics aim to translate information into a form that the brain can retain better than its original form') \n",
      "\n"
     ]
    }
   ],
   "source": [
    "bl=Boolean(index=inverted_index_sortpost, query_type=\"AND\", correct_query=True)\n",
    "searching(bl)"
   ]
  },
  {
   "cell_type": "code",
   "execution_count": 37,
   "metadata": {},
   "outputs": [],
   "source": [
    "# OLD\n",
    "# searching(index=inverted_index_sortpost, modl='bool', top=3, query_type='AND') # example what is AIDS"
   ]
  },
  {
   "cell_type": "markdown",
   "metadata": {},
   "source": [
    "## Phrase queries retrieval PENDING( POSITIONAL INDEXING TAKES TIME TO RUN DUE TO PREPROCESSING)"
   ]
  },
  {
   "cell_type": "code",
   "execution_count": 14,
   "metadata": {},
   "outputs": [],
   "source": [
    "# %%time\n",
    "# query='''the effects of humidity on the mach number and static pressure in the\n",
    "# working section were investigated and the results are compared with\n",
    "# theoretical estimates at a nominal mach number 2.0'''\n",
    "# phrase_retrieval(positional_index_sortpost, query)"
   ]
  },
  {
   "cell_type": "markdown",
   "metadata": {},
   "source": [
    "### Vector Space Model"
   ]
  },
  {
   "cell_type": "code",
   "execution_count": 17,
   "metadata": {},
   "outputs": [
    {
     "name": "stdout",
     "output_type": "stream",
     "text": [
      "Your query:  what is AIDS ?\n",
      "\n",
      "Result(s): \n",
      "(Document(ID=37738, content='Uses. Famotidine is used to help reduce the amount of stomach acid produced. It aids in the treatment of stomach ulcers that are present and helps prevent ulcer formation. '), 'score = 0.9180889905564791') \n",
      "\n",
      "(Document(ID=36038, content='Examples of opportunistic infections are given here for your sake. You can get the list of such examples in the given article. Moreover you would be able to know that what is opportunistic infection and how it leads a person to the life threatening disease that is AIDS. Examples of Opportunistic Infection. Before going to see the examples of opportunistic infection, it would be better to learn that what is HIV and how it helps such infections to attack on the immune system. HIV is known as Human Immuno Deficiency Virus. The virus leads to develop the AIDS. It attacks on the CD4 cells'), 'score = 0.8149428146260839') \n",
      "\n",
      "(Document(ID=41258, content='Uses of This Medicine. Tenofovir is used in combination with other medicines for the treatment of the infection caused by the human immunodeficiency virus (HIV). HIV is the virus that causes acquired immunodeficiency syndrome (AIDS). Tenofovir will not cure or prevent HIV infection or AIDS. Tenofovir will not keep you from spreading HIV to other people. People who receive this medicine may continue to have some of the problems usually related to AIDS or HIV disease. Tenofovir is also used to treat chronic (long-term) hepatitis B virus (HBV) infection.'), 'score = 0.791182691690287') \n",
      "\n",
      "(Document(ID=30429, content='About Hepatitis C Infection. Hepatitis C is a disease caused by a virus that infects your liver. Your liver is an important organ in your body and has many functions. The liver removes harmful chemicals from your body, aids digestion, and processes vitamins and nutrients from food.'), 'score = 0.7901542783929851') \n",
      "\n",
      "(Document(ID=36035, content='Opportunistic infection: An infection that occurs because of a weakened immune system. Opportunistic infections are a particular danger for people with AIDS. The HIV virus itself does not cause death, but the opportunistic infections that occur because of its effect on the immune system can.'), 'score = 0.7726345481442873') \n",
      "\n"
     ]
    }
   ],
   "source": [
    "vsm=Vsm(index=inverted_index_sortpost, tfreqs=tfreqs, idfs=idfs, top=5, correct_query=False)\n",
    "searching(vsm)"
   ]
  },
  {
   "cell_type": "code",
   "execution_count": 39,
   "metadata": {},
   "outputs": [],
   "source": [
    "# OLD\n",
    "# searching(index=inverted_index_sortpost, modl='tf_idf',tfreqs= tfreqs, idfs=idfs, top=3)"
   ]
  },
  {
   "cell_type": "markdown",
   "metadata": {},
   "source": [
    "### Binary Independence models"
   ]
  },
  {
   "cell_type": "code",
   "execution_count": 19,
   "metadata": {},
   "outputs": [
    {
     "name": "stdout",
     "output_type": "stream",
     "text": [
      "Did you mean: \u001b[36mchat is franc\u001b[0m ?\n",
      "\n",
      "\n",
      "Your query:  what is Franc ?\n",
      "\n",
      "Result(s): \n",
      "(Document(ID=7493, content='[fʁɑ̃] ; sign: F or Fr), also commonly distinguished as the French franc (FF), was a currency of France. Between 1360 and 1641, it was the name of coins worth 1 livre tournois and it remained in common parlance as a term for this amount of money. It was reintroduced (in decimal form) in 1795. It was revalued in 1960, with each new franc (NF) being worth 100 old francs.'), 'score = 3.5975635615929686') \n",
      "\n",
      "(Document(ID=77924, content=\"By the end of the 20th century, the United States dollar was considered the world's most dominant reserve currency, and the world's need for dollars has allowed the United States government as well as Americans to borrow at lower costs, granting them an advantage in excess of $100 billion per year. The Swiss franc, despite gaining ground among the world's foreign-currency reserves and being often used in denominating foreign loans, cannot be considered as a world reserve currency, since the share of all foreign exchange reserves held in Swiss francs has historically been well below 0.5%.\"), 'score = 3.5975635615929686') \n",
      "\n",
      "(Document(ID=7487, content='French currency conversion. The French Franc is no longer used as money in France, it is now the Euro. The value of the French Franc was fixed at 1 Euro = 6.55957 French Francs, or 1 French Franc = 0.1524490172374104 Euro. '), 'score = 3.4512334049532027') \n",
      "\n"
     ]
    }
   ],
   "source": [
    "bim=Bim(index=inverted_index_sortpost , top=3, correct_query=True)\n",
    "searching(bim)"
   ]
  },
  {
   "cell_type": "markdown",
   "metadata": {},
   "source": [
    "### Improving with some extensions"
   ]
  },
  {
   "cell_type": "code",
   "execution_count": 29,
   "metadata": {},
   "outputs": [
    {
     "name": "stdout",
     "output_type": "stream",
     "text": [
      "Your query:   what is Franc ?\n",
      "\n",
      "Result(s): \n",
      "(Document(ID=7491, content=\"The currency of France before 2002 was the French Franc. The franc was abolished in 2002 and replaced by the Euro at the rate of €1 = 6.55957 francs. The subdivision of th … e franc was the centime, 1 franc = 100 centimes. The name 'centime' is also used in French for the subdivision of the Euro, €1 = 100 centimes.   France used the franc as its currency up till 2002. Confidence votes 55. The currency used in France is the Euro (symbol €) and its the subdivision is called the 'cent' (English) or 'centime' (French). The Euro replaced the French franc in 2002 at the rate of €1 = 6.55957 francs, and the franc was no longer redeemable after February 201\"), 'score = 7.162864914762384') \n",
      "\n",
      "(Document(ID=7487, content='French currency conversion. The French Franc is no longer used as money in France, it is now the Euro. The value of the French Franc was fixed at 1 Euro = 6.55957 French Francs, or 1 French Franc = 0.1524490172374104 Euro. '), 'score = 5.786896188407663') \n",
      "\n",
      "(Document(ID=7494, content='The franc (₣) is the name of several currency units. The French franc was the former currency of France until the euro was adopted in 1999 (by law, 2002 de facto). The Swiss franc is a major world currency today due to the prominence of Swiss financial institution'), 'score = 5.786896188407663') \n",
      "\n"
     ]
    }
   ],
   "source": [
    "two_poisson=BimExt(index=inverted_index_sortpost, extension='two_poisson', top=3)\n",
    "searching(two_poisson)"
   ]
  },
  {
   "cell_type": "code",
   "execution_count": 61,
   "metadata": {},
   "outputs": [],
   "source": [
    "# OLD\n",
    "# searching(inverted_index_sortpost, modl='bim_ext', tfreqs=tfreqs, top=3, extension=\"two_poisson\", k=1.5, b=0.75)"
   ]
  },
  {
   "cell_type": "code",
   "execution_count": 35,
   "metadata": {},
   "outputs": [
    {
     "name": "stdout",
     "output_type": "stream",
     "text": [
      "Your query:  what is Franc ?\n",
      "\n",
      "Result(s): \n",
      "(Document(ID=7491, content=\"The currency of France before 2002 was the French Franc. The franc was abolished in 2002 and replaced by the Euro at the rate of €1 = 6.55957 francs. The subdivision of th … e franc was the centime, 1 franc = 100 centimes. The name 'centime' is also used in French for the subdivision of the Euro, €1 = 100 centimes.   France used the franc as its currency up till 2002. Confidence votes 55. The currency used in France is the Euro (symbol €) and its the subdivision is called the 'cent' (English) or 'centime' (French). The Euro replaced the French franc in 2002 at the rate of €1 = 6.55957 francs, and the franc was no longer redeemable after February 201\"), 'score = 7.075626719547653') \n",
      "\n",
      "(Document(ID=7487, content='French currency conversion. The French Franc is no longer used as money in France, it is now the Euro. The value of the French Franc was fixed at 1 Euro = 6.55957 French Francs, or 1 French Franc = 0.1524490172374104 Euro. '), 'score = 6.832028495401131') \n",
      "\n",
      "(Document(ID=7494, content='The franc (₣) is the name of several currency units. The French franc was the former currency of France until the euro was adopted in 1999 (by law, 2002 de facto). The Swiss franc is a major world currency today due to the prominence of Swiss financial institution'), 'score = 6.468837905350552') \n",
      "\n",
      "(Document(ID=7493, content='[fʁɑ̃] ; sign: F or Fr), also commonly distinguished as the French franc (FF), was a currency of France. Between 1360 and 1641, it was the name of coins worth 1 livre tournois and it remained in common parlance as a term for this amount of money. It was reintroduced (in decimal form) in 1795. It was revalued in 1960, with each new franc (NF) being worth 100 old francs.'), 'score = 4.985492616519407') \n",
      "\n",
      "(Document(ID=65815, content='The Australian dollar (sign: $; code: AUD) is the currency of the Commonwealth of Australia, including Christmas Island, Cocos (Keeling) Islands, and Norfolk Island, as well as the independent Pacific Island states of Kiribati, Nauru and Tuvalu. It is subdivided into 100 cents. The Australian dollar is currently the sixth-most-traded currency in the world foreign exchange markets behind the US dollar, the euro, the yen, the pound sterling, and the Swiss franc, accounting in 2007 for approx. 3.3% of worldwide daily foreign-exchange turnover.'), 'score = 3.0604495209296143') \n",
      "\n"
     ]
    }
   ],
   "source": [
    "bm11=BimExt(index=inverted_index_sortpost, extension='bm11', top=5, k=1.5)\n",
    "searching(bm11)"
   ]
  },
  {
   "cell_type": "code",
   "execution_count": 30,
   "metadata": {},
   "outputs": [],
   "source": [
    "# OLD\n",
    "# searching(inverted_index_sortpost, modl='bim_ext', tfreqs=tfreqs, top=3, extension=\"bm11\", k=1.5, b=0.75)"
   ]
  },
  {
   "cell_type": "code",
   "execution_count": 36,
   "metadata": {},
   "outputs": [
    {
     "name": "stdout",
     "output_type": "stream",
     "text": [
      "Your query:  what is Franc ?\n",
      "\n",
      "Result(s): \n",
      "(Document(ID=7491, content=\"The currency of France before 2002 was the French Franc. The franc was abolished in 2002 and replaced by the Euro at the rate of €1 = 6.55957 francs. The subdivision of th … e franc was the centime, 1 franc = 100 centimes. The name 'centime' is also used in French for the subdivision of the Euro, €1 = 100 centimes.   France used the franc as its currency up till 2002. Confidence votes 55. The currency used in France is the Euro (symbol €) and its the subdivision is called the 'cent' (English) or 'centime' (French). The Euro replaced the French franc in 2002 at the rate of €1 = 6.55957 francs, and the franc was no longer redeemable after February 201\"), 'score = 7.092908779701432') \n",
      "\n",
      "(Document(ID=7487, content='French currency conversion. The French Franc is no longer used as money in France, it is now the Euro. The value of the French Franc was fixed at 1 Euro = 6.55957 French Francs, or 1 French Franc = 0.1524490172374104 Euro. '), 'score = 6.5939850614827655') \n",
      "\n",
      "(Document(ID=7494, content='The franc (₣) is the name of several currency units. The French franc was the former currency of France until the euro was adopted in 1999 (by law, 2002 de facto). The Swiss franc is a major world currency today due to the prominence of Swiss financial institution'), 'score = 6.319937734459581') \n",
      "\n",
      "(Document(ID=7493, content='[fʁɑ̃] ; sign: F or Fr), also commonly distinguished as the French franc (FF), was a currency of France. Between 1360 and 1641, it was the name of coins worth 1 livre tournois and it remained in common parlance as a term for this amount of money. It was reintroduced (in decimal form) in 1795. It was revalued in 1960, with each new franc (NF) being worth 100 old francs.'), 'score = 5.015527737179618') \n",
      "\n",
      "(Document(ID=65815, content='The Australian dollar (sign: $; code: AUD) is the currency of the Commonwealth of Australia, including Christmas Island, Cocos (Keeling) Islands, and Norfolk Island, as well as the independent Pacific Island states of Kiribati, Nauru and Tuvalu. It is subdivided into 100 cents. The Australian dollar is currently the sixth-most-traded currency in the world foreign exchange markets behind the US dollar, the euro, the yen, the pound sterling, and the Swiss franc, accounting in 2007 for approx. 3.3% of worldwide daily foreign-exchange turnover.'), 'score = 3.114976668509277') \n",
      "\n"
     ]
    }
   ],
   "source": [
    "bm25=BimExt(index=inverted_index_sortpost, extension='bm25', top=5, k=1.5, b=0.8)\n",
    "searching(bm25)"
   ]
  },
  {
   "cell_type": "code",
   "execution_count": 32,
   "metadata": {},
   "outputs": [],
   "source": [
    "# OLD\n",
    "# searching(inverted_index_sortpost, modl='bim_ext', tfreqs=tfreqs, top=3, extension=\"bm25\", k=1.5, b=0.75)"
   ]
  },
  {
   "cell_type": "markdown",
   "metadata": {},
   "source": [
    "### Language model"
   ]
  },
  {
   "cell_type": "code",
   "execution_count": 63,
   "metadata": {},
   "outputs": [
    {
     "name": "stdout",
     "output_type": "stream",
     "text": [
      "Did you mean: \u001b[36mlave the world\u001b[0m ?\n",
      "\n",
      "\n",
      "Your query:  Save the world !!!\n",
      "\n",
      "Result(s): \n",
      "(Document(ID=1, content='We have been feeding our back yard squirrels for the fall and winter and we noticed that a few of them have missing fur. One has a patch missing down his back and under both arms. Also another has some missing on his whole chest. They are all eating and seem to have a good appetite.'), 'score = 0.060670768902718046') \n",
      "\n",
      "(Document(ID=2, content='Critters cannot stand the smell of human hair, so sprinkling a barrier of hair clippings around your garden, or lightly working it into the soil when you plant bulbs, apparently does have some merit. The whole thing kind of makes me laugh. It never occurred to me that we are the ones that stink.'), 'score = 0.060670768902718046') \n",
      "\n",
      "(Document(ID=3, content=\"Spread some human hair around your vegetable and flower gardens. This will scare the squirrels away because humans are predators of squirrels. It is better if the hair hasn't been washed so the squirrels will easily pick up the human scent.\"), 'score = 0.060670768902718046') \n",
      "\n"
     ]
    }
   ],
   "source": [
    "ql=QueryLklhd(index=inverted_index_sortpost, lang_model=unigram_model, top=3, correct_query=True)\n",
    "searching(ql)"
   ]
  },
  {
   "cell_type": "code",
   "execution_count": 37,
   "metadata": {},
   "outputs": [],
   "source": [
    "# example  Save the world !!!\n",
    "# OLD\n",
    "# searching(inverted_index_sortpost, modl='query_lklh', top=5, lang_model=unigram_model)"
   ]
  },
  {
   "cell_type": "markdown",
   "metadata": {},
   "source": [
    "### Word2Vec Vector Space model"
   ]
  },
  {
   "cell_type": "code",
   "execution_count": 58,
   "metadata": {},
   "outputs": [
    {
     "name": "stderr",
     "output_type": "stream",
     "text": [
      "100%|██████████| 79176/79176 [00:09<00:00, 8110.84it/s]\n"
     ]
    },
    {
     "name": "stdout",
     "output_type": "stream",
     "text": [
      "Your query:  What is AIDS ?\n",
      "\n",
      "Result(s): \n",
      "(Document(ID=46456, content='Physical therapist assistants (PTAs) work as part of a dynamic healthcare team. Assistants help physical therapists maintain therapy facilities and monitor patient progress, while also helping patients by assisting them on difficult movements and instructing them on how to use walking aids. '), 'score = 0.5851810300657312') \n",
      "\n",
      "(Document(ID=31466, content=\"Biofeedback sessions are typically done in a therapist's office, but there are computer programs that connect the biofeedback sensor to your own computer. A biofeedback therapist helps you practice relaxation exercises, which you fine-tune to control different body functions. Researchers aren't exactly sure how or why biofeedback works. They do know that biofeedback promotes relaxation, which can help relieve a number of conditions that are related to stress. During a biofeedback session, electrodes are attached to your skin. Finger sensors can also be used. These electrodes/sensors send signals to a monitor, which displays a sound, flash of light, or image that represents your heart and breathing rate, blood pressure, skin temperature, sweating, or muscle activity\"), 'score = 0.5390073973316718') \n",
      "\n",
      "(Document(ID=37738, content='Uses. Famotidine is used to help reduce the amount of stomach acid produced. It aids in the treatment of stomach ulcers that are present and helps prevent ulcer formation. '), 'score = 0.5271540698588301') \n",
      "\n",
      "(Document(ID=24163, content=\"The biofeedback can help motivate a person to improve the technique. Biofeedback can help a person gain more control over some of the body's functions that they don’t usually think about. Biofeedback may also help with migraine headaches, chronic pain, incontinence and high blood pressure. The idea behind biofeedback is that, by harnessing the power of your mind and becoming aware of what's going on inside your body, you may gain more control over your health. Researchers aren't exactly sure how or why biofeedback works. They do know that biofeedback promotes relaxation, which can help relieve a number of conditions that are related to stress; but there is limited research on this treatment. During a biofeedback session, electrodes are attached to your skin.\"), 'score = 0.526910094816448') \n",
      "\n",
      "(Document(ID=31469, content=\"It's called biofeedback, and the therapy is used to help prevent or treat conditions, including migraine headaches, chronic pain, incontinence, and high blood pressure. Researchers aren't exactly sure how or why biofeedback works. They do know that biofeedback promotes relaxation, which can help relieve a number of conditions that are related to stress. During a biofeedback session, electrodes are attached to your skin. Finger sensors can also be used. These electrodes/sensors send signals to a monitor, which displays a sound, flash of light, or image that represents your heart and breathing rate, blood pressure, skin temperature, sweating, or muscle activity\"), 'score = 0.5259461603952059') \n",
      "\n"
     ]
    }
   ],
   "source": [
    "# Not clustering the documents before hand takes up to 10 seconds\n",
    "\n",
    "w2vvsm_np=W2Vsm(index=inverted_index_sortpost, idfs=idfs, word_embeds=w2v, doc_embeds=doc2vec, precluster=False)\n",
    "searching(w2vvsm_np)"
   ]
  },
  {
   "cell_type": "code",
   "execution_count": 46,
   "metadata": {},
   "outputs": [],
   "source": [
    "# OLD\n",
    "# searching(inverted_index_sortpost, modl='w2v_vsm',tfreqs= tfreqs, idfs=idfs, top=5, \\\n",
    "#         word_embeds=w2v, doc_embeds=doc2vec, precluster=False)"
   ]
  },
  {
   "cell_type": "code",
   "execution_count": 65,
   "metadata": {},
   "outputs": [
    {
     "name": "stdout",
     "output_type": "stream",
     "text": [
      "Your query:  what is AIDS ?\n",
      "\n",
      "Result(s): \n",
      "(Document(ID=46456, content='Physical therapist assistants (PTAs) work as part of a dynamic healthcare team. Assistants help physical therapists maintain therapy facilities and monitor patient progress, while also helping patients by assisting them on difficult movements and instructing them on how to use walking aids. '), 'score = 0.5851810300657312') \n",
      "\n",
      "(Document(ID=31466, content=\"Biofeedback sessions are typically done in a therapist's office, but there are computer programs that connect the biofeedback sensor to your own computer. A biofeedback therapist helps you practice relaxation exercises, which you fine-tune to control different body functions. Researchers aren't exactly sure how or why biofeedback works. They do know that biofeedback promotes relaxation, which can help relieve a number of conditions that are related to stress. During a biofeedback session, electrodes are attached to your skin. Finger sensors can also be used. These electrodes/sensors send signals to a monitor, which displays a sound, flash of light, or image that represents your heart and breathing rate, blood pressure, skin temperature, sweating, or muscle activity\"), 'score = 0.5390073973316718') \n",
      "\n",
      "(Document(ID=24163, content=\"The biofeedback can help motivate a person to improve the technique. Biofeedback can help a person gain more control over some of the body's functions that they don’t usually think about. Biofeedback may also help with migraine headaches, chronic pain, incontinence and high blood pressure. The idea behind biofeedback is that, by harnessing the power of your mind and becoming aware of what's going on inside your body, you may gain more control over your health. Researchers aren't exactly sure how or why biofeedback works. They do know that biofeedback promotes relaxation, which can help relieve a number of conditions that are related to stress; but there is limited research on this treatment. During a biofeedback session, electrodes are attached to your skin.\"), 'score = 0.526910094816448') \n",
      "\n",
      "(Document(ID=31469, content=\"It's called biofeedback, and the therapy is used to help prevent or treat conditions, including migraine headaches, chronic pain, incontinence, and high blood pressure. Researchers aren't exactly sure how or why biofeedback works. They do know that biofeedback promotes relaxation, which can help relieve a number of conditions that are related to stress. During a biofeedback session, electrodes are attached to your skin. Finger sensors can also be used. These electrodes/sensors send signals to a monitor, which displays a sound, flash of light, or image that represents your heart and breathing rate, blood pressure, skin temperature, sweating, or muscle activity\"), 'score = 0.5259461603952059') \n",
      "\n",
      "(Document(ID=50487, content='About the SHOP Talk Bulletin. SIECUS is a 35-year-old nonprofit organization, dedicated to affirming that sexuality is a natural and healthy part of life. SIECUS develops, collects, and disseminates information, promotes comprehensive education, and advocates the right of individuals to make responsible sexual choices. SIECUS has initiated a special AIDS education project. SIECUS publishes the Guidelines for Comprehensive Sexuality Education: K-12th Grade. SIECUS is working internationally to adapt the guidelines for use in other countries.'), 'score = 0.5243291688959645') \n",
      "\n"
     ]
    }
   ],
   "source": [
    "w2vvsm_p=W2Vsm(index=inverted_index_sortpost, idfs=idfs, word_embeds=w2v, doc_embeds=doc2vec, precluster=True,\n",
    "               cluster_centers=doc_kmeans.cluster_centers_, doc_cluster_labels=doc_kmeans.labels_, top_center=10)\n",
    "searching(w2vvsm_p)"
   ]
  },
  {
   "cell_type": "code",
   "execution_count": 64,
   "metadata": {},
   "outputs": [],
   "source": [
    "# OLD\n",
    "# searching(inverted_index_sortpost, modl='w2v_vsm',tfreqs= tfreqs, idfs=idfs, top=5, \\\n",
    "#         word_embeds=w2v, doc_embeds=doc2vec, precluster=True, cluster_centers=doc_kmeans.cluster_centers_, \\\n",
    "#         doc_cluster_labels=doc_kmeans.labels_,top_center=10)"
   ]
  },
  {
   "cell_type": "markdown",
   "metadata": {},
   "source": [
    "### Latent semantic indexing"
   ]
  },
  {
   "cell_type": "code",
   "execution_count": 79,
   "metadata": {},
   "outputs": [
    {
     "name": "stdout",
     "output_type": "stream",
     "text": [
      "Your query:  save the world !!\n",
      "\n",
      "Result(s): \n",
      "(Document(ID=42666, content='≈ 1 Comment. The Mayas believed in a world of three layers: Heaven, the middle world, and underworld. Its roots were in the underworld, its trunk in the middle world, and its branches in the highest layer of the other world. The tree represents the Milky Way. To the Maya, the universe created in this order: First came the earth and the seas, then animals.'), 'score = 0.3115682659706447') \n",
      "\n",
      "(Document(ID=51042, content='Top Thrill Dragster opened in 2003 as the tallest and fastest roller coaster in the world. Despite no longer being the tallest or fastest coaster in the world, Dragster still thrills riders by offering an incredible launch, huge tophat, and blazing speeds-all with lapbars.'), 'score = 0.2876844261988697') \n",
      "\n",
      "(Document(ID=46004, content='How you handle the fact that there is another man or woman has a great deal to do with whether or not you end up in divorce court or, are able to save your marriage. I have a few suggestions that will help save your sanity and possibly your marriage. Spend your time and energy focused on the problems in the marriage that led to an affair and finding a solution for those problems. See The Relationship For What It Really Is: The relationship with the other man/other woman is an intoxicating fantasy relationship with no foundation but lies and dishonesty.'), 'score = 0.23192356156542887') \n",
      "\n"
     ]
    }
   ],
   "source": [
    "lsi=Lsi(index=sub_inv, idfs=idfs, top=3, svd_word_doc_mat=svd_mats, dtoi=dtoi, wtoi=wtoi)\n",
    "searching(lsi)"
   ]
  },
  {
   "cell_type": "code",
   "execution_count": 80,
   "metadata": {},
   "outputs": [],
   "source": [
    "# OLD\n",
    "# searching(sub_inv, modl='lsi', idfs=idfs, top=5, \\\n",
    "#          svd_word_doc_mat=svd_mats, wtoi=wtoi, dtoi=dtoi)"
   ]
  },
  {
   "cell_type": "markdown",
   "metadata": {},
   "source": [
    "# Evaluation"
   ]
  }
 ],
 "metadata": {
  "kernelspec": {
   "display_name": "Python 3 (system-wide)",
   "language": "python",
   "name": "python3"
  },
  "language_info": {
   "codemirror_mode": {
    "name": "ipython",
    "version": 3
   },
   "file_extension": ".py",
   "mimetype": "text/x-python",
   "name": "python",
   "nbconvert_exporter": "python",
   "pygments_lexer": "ipython3",
   "version": "3.7.8"
  }
 },
 "nbformat": 4,
 "nbformat_minor": 4
}
