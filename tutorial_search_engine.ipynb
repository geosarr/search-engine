{
  "nbformat": 4,
  "nbformat_minor": 0,
  "metadata": {
    "colab": {
      "name": "tutorial-search-engine.ipynb",
      "provenance": [],
      "collapsed_sections": []
    },
    "kernelspec": {
      "name": "python3",
      "display_name": "Python 3"
    },
    "language_info": {
      "name": "python"
    },
    "widgets": {
      "application/vnd.jupyter.widget-state+json": {
        "b85d53d496c249008a8b5ff99b5dee83": {
          "model_module": "@jupyter-widgets/controls",
          "model_name": "HBoxModel",
          "model_module_version": "1.5.0",
          "state": {
            "_dom_classes": [],
            "_model_module": "@jupyter-widgets/controls",
            "_model_module_version": "1.5.0",
            "_model_name": "HBoxModel",
            "_view_count": null,
            "_view_module": "@jupyter-widgets/controls",
            "_view_module_version": "1.5.0",
            "_view_name": "HBoxView",
            "box_style": "",
            "children": [
              "IPY_MODEL_d63b0013de6646aaa594ddda6e8c682c",
              "IPY_MODEL_4b2a0d8ce2f342d7bb085f2b62f58bc0",
              "IPY_MODEL_efc5c00896a349f7bff65440adcf8aa4"
            ],
            "layout": "IPY_MODEL_319d365793de4a4698a08eb593cedf27"
          }
        },
        "d63b0013de6646aaa594ddda6e8c682c": {
          "model_module": "@jupyter-widgets/controls",
          "model_name": "HTMLModel",
          "model_module_version": "1.5.0",
          "state": {
            "_dom_classes": [],
            "_model_module": "@jupyter-widgets/controls",
            "_model_module_version": "1.5.0",
            "_model_name": "HTMLModel",
            "_view_count": null,
            "_view_module": "@jupyter-widgets/controls",
            "_view_module_version": "1.5.0",
            "_view_name": "HTMLView",
            "description": "",
            "description_tooltip": null,
            "layout": "IPY_MODEL_00721dc8acf746a79042566009f53e53",
            "placeholder": "​",
            "style": "IPY_MODEL_85571bd228794d19aa0df3a1a3c3d050",
            "value": "Downloading builder script: "
          }
        },
        "4b2a0d8ce2f342d7bb085f2b62f58bc0": {
          "model_module": "@jupyter-widgets/controls",
          "model_name": "FloatProgressModel",
          "model_module_version": "1.5.0",
          "state": {
            "_dom_classes": [],
            "_model_module": "@jupyter-widgets/controls",
            "_model_module_version": "1.5.0",
            "_model_name": "FloatProgressModel",
            "_view_count": null,
            "_view_module": "@jupyter-widgets/controls",
            "_view_module_version": "1.5.0",
            "_view_name": "ProgressView",
            "bar_style": "success",
            "description": "",
            "description_tooltip": null,
            "layout": "IPY_MODEL_3f1dbc9f3dea48839ce595a904e274d8",
            "max": 2531,
            "min": 0,
            "orientation": "horizontal",
            "style": "IPY_MODEL_f727beb1be0d47779625f489e177e29c",
            "value": 2531
          }
        },
        "efc5c00896a349f7bff65440adcf8aa4": {
          "model_module": "@jupyter-widgets/controls",
          "model_name": "HTMLModel",
          "model_module_version": "1.5.0",
          "state": {
            "_dom_classes": [],
            "_model_module": "@jupyter-widgets/controls",
            "_model_module_version": "1.5.0",
            "_model_name": "HTMLModel",
            "_view_count": null,
            "_view_module": "@jupyter-widgets/controls",
            "_view_module_version": "1.5.0",
            "_view_name": "HTMLView",
            "description": "",
            "description_tooltip": null,
            "layout": "IPY_MODEL_93a75ccc0c1a453da863cc52cd953336",
            "placeholder": "​",
            "style": "IPY_MODEL_1e674afdb48b41aa96bc41a7cbaebda4",
            "value": " 8.52k/? [00:00&lt;00:00, 191kB/s]"
          }
        },
        "319d365793de4a4698a08eb593cedf27": {
          "model_module": "@jupyter-widgets/base",
          "model_name": "LayoutModel",
          "model_module_version": "1.2.0",
          "state": {
            "_model_module": "@jupyter-widgets/base",
            "_model_module_version": "1.2.0",
            "_model_name": "LayoutModel",
            "_view_count": null,
            "_view_module": "@jupyter-widgets/base",
            "_view_module_version": "1.2.0",
            "_view_name": "LayoutView",
            "align_content": null,
            "align_items": null,
            "align_self": null,
            "border": null,
            "bottom": null,
            "display": null,
            "flex": null,
            "flex_flow": null,
            "grid_area": null,
            "grid_auto_columns": null,
            "grid_auto_flow": null,
            "grid_auto_rows": null,
            "grid_column": null,
            "grid_gap": null,
            "grid_row": null,
            "grid_template_areas": null,
            "grid_template_columns": null,
            "grid_template_rows": null,
            "height": null,
            "justify_content": null,
            "justify_items": null,
            "left": null,
            "margin": null,
            "max_height": null,
            "max_width": null,
            "min_height": null,
            "min_width": null,
            "object_fit": null,
            "object_position": null,
            "order": null,
            "overflow": null,
            "overflow_x": null,
            "overflow_y": null,
            "padding": null,
            "right": null,
            "top": null,
            "visibility": null,
            "width": null
          }
        },
        "00721dc8acf746a79042566009f53e53": {
          "model_module": "@jupyter-widgets/base",
          "model_name": "LayoutModel",
          "model_module_version": "1.2.0",
          "state": {
            "_model_module": "@jupyter-widgets/base",
            "_model_module_version": "1.2.0",
            "_model_name": "LayoutModel",
            "_view_count": null,
            "_view_module": "@jupyter-widgets/base",
            "_view_module_version": "1.2.0",
            "_view_name": "LayoutView",
            "align_content": null,
            "align_items": null,
            "align_self": null,
            "border": null,
            "bottom": null,
            "display": null,
            "flex": null,
            "flex_flow": null,
            "grid_area": null,
            "grid_auto_columns": null,
            "grid_auto_flow": null,
            "grid_auto_rows": null,
            "grid_column": null,
            "grid_gap": null,
            "grid_row": null,
            "grid_template_areas": null,
            "grid_template_columns": null,
            "grid_template_rows": null,
            "height": null,
            "justify_content": null,
            "justify_items": null,
            "left": null,
            "margin": null,
            "max_height": null,
            "max_width": null,
            "min_height": null,
            "min_width": null,
            "object_fit": null,
            "object_position": null,
            "order": null,
            "overflow": null,
            "overflow_x": null,
            "overflow_y": null,
            "padding": null,
            "right": null,
            "top": null,
            "visibility": null,
            "width": null
          }
        },
        "85571bd228794d19aa0df3a1a3c3d050": {
          "model_module": "@jupyter-widgets/controls",
          "model_name": "DescriptionStyleModel",
          "model_module_version": "1.5.0",
          "state": {
            "_model_module": "@jupyter-widgets/controls",
            "_model_module_version": "1.5.0",
            "_model_name": "DescriptionStyleModel",
            "_view_count": null,
            "_view_module": "@jupyter-widgets/base",
            "_view_module_version": "1.2.0",
            "_view_name": "StyleView",
            "description_width": ""
          }
        },
        "3f1dbc9f3dea48839ce595a904e274d8": {
          "model_module": "@jupyter-widgets/base",
          "model_name": "LayoutModel",
          "model_module_version": "1.2.0",
          "state": {
            "_model_module": "@jupyter-widgets/base",
            "_model_module_version": "1.2.0",
            "_model_name": "LayoutModel",
            "_view_count": null,
            "_view_module": "@jupyter-widgets/base",
            "_view_module_version": "1.2.0",
            "_view_name": "LayoutView",
            "align_content": null,
            "align_items": null,
            "align_self": null,
            "border": null,
            "bottom": null,
            "display": null,
            "flex": null,
            "flex_flow": null,
            "grid_area": null,
            "grid_auto_columns": null,
            "grid_auto_flow": null,
            "grid_auto_rows": null,
            "grid_column": null,
            "grid_gap": null,
            "grid_row": null,
            "grid_template_areas": null,
            "grid_template_columns": null,
            "grid_template_rows": null,
            "height": null,
            "justify_content": null,
            "justify_items": null,
            "left": null,
            "margin": null,
            "max_height": null,
            "max_width": null,
            "min_height": null,
            "min_width": null,
            "object_fit": null,
            "object_position": null,
            "order": null,
            "overflow": null,
            "overflow_x": null,
            "overflow_y": null,
            "padding": null,
            "right": null,
            "top": null,
            "visibility": null,
            "width": null
          }
        },
        "f727beb1be0d47779625f489e177e29c": {
          "model_module": "@jupyter-widgets/controls",
          "model_name": "ProgressStyleModel",
          "model_module_version": "1.5.0",
          "state": {
            "_model_module": "@jupyter-widgets/controls",
            "_model_module_version": "1.5.0",
            "_model_name": "ProgressStyleModel",
            "_view_count": null,
            "_view_module": "@jupyter-widgets/base",
            "_view_module_version": "1.2.0",
            "_view_name": "StyleView",
            "bar_color": null,
            "description_width": ""
          }
        },
        "93a75ccc0c1a453da863cc52cd953336": {
          "model_module": "@jupyter-widgets/base",
          "model_name": "LayoutModel",
          "model_module_version": "1.2.0",
          "state": {
            "_model_module": "@jupyter-widgets/base",
            "_model_module_version": "1.2.0",
            "_model_name": "LayoutModel",
            "_view_count": null,
            "_view_module": "@jupyter-widgets/base",
            "_view_module_version": "1.2.0",
            "_view_name": "LayoutView",
            "align_content": null,
            "align_items": null,
            "align_self": null,
            "border": null,
            "bottom": null,
            "display": null,
            "flex": null,
            "flex_flow": null,
            "grid_area": null,
            "grid_auto_columns": null,
            "grid_auto_flow": null,
            "grid_auto_rows": null,
            "grid_column": null,
            "grid_gap": null,
            "grid_row": null,
            "grid_template_areas": null,
            "grid_template_columns": null,
            "grid_template_rows": null,
            "height": null,
            "justify_content": null,
            "justify_items": null,
            "left": null,
            "margin": null,
            "max_height": null,
            "max_width": null,
            "min_height": null,
            "min_width": null,
            "object_fit": null,
            "object_position": null,
            "order": null,
            "overflow": null,
            "overflow_x": null,
            "overflow_y": null,
            "padding": null,
            "right": null,
            "top": null,
            "visibility": null,
            "width": null
          }
        },
        "1e674afdb48b41aa96bc41a7cbaebda4": {
          "model_module": "@jupyter-widgets/controls",
          "model_name": "DescriptionStyleModel",
          "model_module_version": "1.5.0",
          "state": {
            "_model_module": "@jupyter-widgets/controls",
            "_model_module_version": "1.5.0",
            "_model_name": "DescriptionStyleModel",
            "_view_count": null,
            "_view_module": "@jupyter-widgets/base",
            "_view_module_version": "1.2.0",
            "_view_name": "StyleView",
            "description_width": ""
          }
        },
        "99e9ce05c7344b40858a5d8b1fd59cdd": {
          "model_module": "@jupyter-widgets/controls",
          "model_name": "HBoxModel",
          "model_module_version": "1.5.0",
          "state": {
            "_dom_classes": [],
            "_model_module": "@jupyter-widgets/controls",
            "_model_module_version": "1.5.0",
            "_model_name": "HBoxModel",
            "_view_count": null,
            "_view_module": "@jupyter-widgets/controls",
            "_view_module_version": "1.5.0",
            "_view_name": "HBoxView",
            "box_style": "",
            "children": [
              "IPY_MODEL_cb99103c872f468b9093f11bae38eac2",
              "IPY_MODEL_6c15eb3e96cc48339af0185945391ee8",
              "IPY_MODEL_da401f1ba57a4e92aa2e4abac9167487"
            ],
            "layout": "IPY_MODEL_a4042bec64864b68a092d436b86aca03"
          }
        },
        "cb99103c872f468b9093f11bae38eac2": {
          "model_module": "@jupyter-widgets/controls",
          "model_name": "HTMLModel",
          "model_module_version": "1.5.0",
          "state": {
            "_dom_classes": [],
            "_model_module": "@jupyter-widgets/controls",
            "_model_module_version": "1.5.0",
            "_model_name": "HTMLModel",
            "_view_count": null,
            "_view_module": "@jupyter-widgets/controls",
            "_view_module_version": "1.5.0",
            "_view_name": "HTMLView",
            "description": "",
            "description_tooltip": null,
            "layout": "IPY_MODEL_9f29730f93ac4262beed39bc7e186061",
            "placeholder": "​",
            "style": "IPY_MODEL_eca9be7cc0f1417986c3e5e0543c3f80",
            "value": "Downloading metadata: "
          }
        },
        "6c15eb3e96cc48339af0185945391ee8": {
          "model_module": "@jupyter-widgets/controls",
          "model_name": "FloatProgressModel",
          "model_module_version": "1.5.0",
          "state": {
            "_dom_classes": [],
            "_model_module": "@jupyter-widgets/controls",
            "_model_module_version": "1.5.0",
            "_model_name": "FloatProgressModel",
            "_view_count": null,
            "_view_module": "@jupyter-widgets/controls",
            "_view_module_version": "1.5.0",
            "_view_name": "ProgressView",
            "bar_style": "success",
            "description": "",
            "description_tooltip": null,
            "layout": "IPY_MODEL_a1dba5fb90434e09a6164d3eafcea5b6",
            "max": 1977,
            "min": 0,
            "orientation": "horizontal",
            "style": "IPY_MODEL_edd2e8a4eee7425bbb682c1e171ea88c",
            "value": 1977
          }
        },
        "da401f1ba57a4e92aa2e4abac9167487": {
          "model_module": "@jupyter-widgets/controls",
          "model_name": "HTMLModel",
          "model_module_version": "1.5.0",
          "state": {
            "_dom_classes": [],
            "_model_module": "@jupyter-widgets/controls",
            "_model_module_version": "1.5.0",
            "_model_name": "HTMLModel",
            "_view_count": null,
            "_view_module": "@jupyter-widgets/controls",
            "_view_module_version": "1.5.0",
            "_view_name": "HTMLView",
            "description": "",
            "description_tooltip": null,
            "layout": "IPY_MODEL_aa9c6688253242068550745c181e7456",
            "placeholder": "​",
            "style": "IPY_MODEL_67d94cf01d5d4df2ad82e7aee9e566cb",
            "value": " 8.15k/? [00:00&lt;00:00, 113kB/s]"
          }
        },
        "a4042bec64864b68a092d436b86aca03": {
          "model_module": "@jupyter-widgets/base",
          "model_name": "LayoutModel",
          "model_module_version": "1.2.0",
          "state": {
            "_model_module": "@jupyter-widgets/base",
            "_model_module_version": "1.2.0",
            "_model_name": "LayoutModel",
            "_view_count": null,
            "_view_module": "@jupyter-widgets/base",
            "_view_module_version": "1.2.0",
            "_view_name": "LayoutView",
            "align_content": null,
            "align_items": null,
            "align_self": null,
            "border": null,
            "bottom": null,
            "display": null,
            "flex": null,
            "flex_flow": null,
            "grid_area": null,
            "grid_auto_columns": null,
            "grid_auto_flow": null,
            "grid_auto_rows": null,
            "grid_column": null,
            "grid_gap": null,
            "grid_row": null,
            "grid_template_areas": null,
            "grid_template_columns": null,
            "grid_template_rows": null,
            "height": null,
            "justify_content": null,
            "justify_items": null,
            "left": null,
            "margin": null,
            "max_height": null,
            "max_width": null,
            "min_height": null,
            "min_width": null,
            "object_fit": null,
            "object_position": null,
            "order": null,
            "overflow": null,
            "overflow_x": null,
            "overflow_y": null,
            "padding": null,
            "right": null,
            "top": null,
            "visibility": null,
            "width": null
          }
        },
        "9f29730f93ac4262beed39bc7e186061": {
          "model_module": "@jupyter-widgets/base",
          "model_name": "LayoutModel",
          "model_module_version": "1.2.0",
          "state": {
            "_model_module": "@jupyter-widgets/base",
            "_model_module_version": "1.2.0",
            "_model_name": "LayoutModel",
            "_view_count": null,
            "_view_module": "@jupyter-widgets/base",
            "_view_module_version": "1.2.0",
            "_view_name": "LayoutView",
            "align_content": null,
            "align_items": null,
            "align_self": null,
            "border": null,
            "bottom": null,
            "display": null,
            "flex": null,
            "flex_flow": null,
            "grid_area": null,
            "grid_auto_columns": null,
            "grid_auto_flow": null,
            "grid_auto_rows": null,
            "grid_column": null,
            "grid_gap": null,
            "grid_row": null,
            "grid_template_areas": null,
            "grid_template_columns": null,
            "grid_template_rows": null,
            "height": null,
            "justify_content": null,
            "justify_items": null,
            "left": null,
            "margin": null,
            "max_height": null,
            "max_width": null,
            "min_height": null,
            "min_width": null,
            "object_fit": null,
            "object_position": null,
            "order": null,
            "overflow": null,
            "overflow_x": null,
            "overflow_y": null,
            "padding": null,
            "right": null,
            "top": null,
            "visibility": null,
            "width": null
          }
        },
        "eca9be7cc0f1417986c3e5e0543c3f80": {
          "model_module": "@jupyter-widgets/controls",
          "model_name": "DescriptionStyleModel",
          "model_module_version": "1.5.0",
          "state": {
            "_model_module": "@jupyter-widgets/controls",
            "_model_module_version": "1.5.0",
            "_model_name": "DescriptionStyleModel",
            "_view_count": null,
            "_view_module": "@jupyter-widgets/base",
            "_view_module_version": "1.2.0",
            "_view_name": "StyleView",
            "description_width": ""
          }
        },
        "a1dba5fb90434e09a6164d3eafcea5b6": {
          "model_module": "@jupyter-widgets/base",
          "model_name": "LayoutModel",
          "model_module_version": "1.2.0",
          "state": {
            "_model_module": "@jupyter-widgets/base",
            "_model_module_version": "1.2.0",
            "_model_name": "LayoutModel",
            "_view_count": null,
            "_view_module": "@jupyter-widgets/base",
            "_view_module_version": "1.2.0",
            "_view_name": "LayoutView",
            "align_content": null,
            "align_items": null,
            "align_self": null,
            "border": null,
            "bottom": null,
            "display": null,
            "flex": null,
            "flex_flow": null,
            "grid_area": null,
            "grid_auto_columns": null,
            "grid_auto_flow": null,
            "grid_auto_rows": null,
            "grid_column": null,
            "grid_gap": null,
            "grid_row": null,
            "grid_template_areas": null,
            "grid_template_columns": null,
            "grid_template_rows": null,
            "height": null,
            "justify_content": null,
            "justify_items": null,
            "left": null,
            "margin": null,
            "max_height": null,
            "max_width": null,
            "min_height": null,
            "min_width": null,
            "object_fit": null,
            "object_position": null,
            "order": null,
            "overflow": null,
            "overflow_x": null,
            "overflow_y": null,
            "padding": null,
            "right": null,
            "top": null,
            "visibility": null,
            "width": null
          }
        },
        "edd2e8a4eee7425bbb682c1e171ea88c": {
          "model_module": "@jupyter-widgets/controls",
          "model_name": "ProgressStyleModel",
          "model_module_version": "1.5.0",
          "state": {
            "_model_module": "@jupyter-widgets/controls",
            "_model_module_version": "1.5.0",
            "_model_name": "ProgressStyleModel",
            "_view_count": null,
            "_view_module": "@jupyter-widgets/base",
            "_view_module_version": "1.2.0",
            "_view_name": "StyleView",
            "bar_color": null,
            "description_width": ""
          }
        },
        "aa9c6688253242068550745c181e7456": {
          "model_module": "@jupyter-widgets/base",
          "model_name": "LayoutModel",
          "model_module_version": "1.2.0",
          "state": {
            "_model_module": "@jupyter-widgets/base",
            "_model_module_version": "1.2.0",
            "_model_name": "LayoutModel",
            "_view_count": null,
            "_view_module": "@jupyter-widgets/base",
            "_view_module_version": "1.2.0",
            "_view_name": "LayoutView",
            "align_content": null,
            "align_items": null,
            "align_self": null,
            "border": null,
            "bottom": null,
            "display": null,
            "flex": null,
            "flex_flow": null,
            "grid_area": null,
            "grid_auto_columns": null,
            "grid_auto_flow": null,
            "grid_auto_rows": null,
            "grid_column": null,
            "grid_gap": null,
            "grid_row": null,
            "grid_template_areas": null,
            "grid_template_columns": null,
            "grid_template_rows": null,
            "height": null,
            "justify_content": null,
            "justify_items": null,
            "left": null,
            "margin": null,
            "max_height": null,
            "max_width": null,
            "min_height": null,
            "min_width": null,
            "object_fit": null,
            "object_position": null,
            "order": null,
            "overflow": null,
            "overflow_x": null,
            "overflow_y": null,
            "padding": null,
            "right": null,
            "top": null,
            "visibility": null,
            "width": null
          }
        },
        "67d94cf01d5d4df2ad82e7aee9e566cb": {
          "model_module": "@jupyter-widgets/controls",
          "model_name": "DescriptionStyleModel",
          "model_module_version": "1.5.0",
          "state": {
            "_model_module": "@jupyter-widgets/controls",
            "_model_module_version": "1.5.0",
            "_model_name": "DescriptionStyleModel",
            "_view_count": null,
            "_view_module": "@jupyter-widgets/base",
            "_view_module_version": "1.2.0",
            "_view_name": "StyleView",
            "description_width": ""
          }
        },
        "8f780e6a38d446d895591ea0ed4fcbd2": {
          "model_module": "@jupyter-widgets/controls",
          "model_name": "HBoxModel",
          "model_module_version": "1.5.0",
          "state": {
            "_dom_classes": [],
            "_model_module": "@jupyter-widgets/controls",
            "_model_module_version": "1.5.0",
            "_model_name": "HBoxModel",
            "_view_count": null,
            "_view_module": "@jupyter-widgets/controls",
            "_view_module_version": "1.5.0",
            "_view_name": "HBoxView",
            "box_style": "",
            "children": [
              "IPY_MODEL_04ec916d659c42009e053b1791057f04",
              "IPY_MODEL_cdc90db23cd24a34874c89de7d24c3c9",
              "IPY_MODEL_e5f65f8a3d57426c9171f7a43cd6cfa8"
            ],
            "layout": "IPY_MODEL_99a3b8f6a05448f1b83ff53dedbcbb97"
          }
        },
        "04ec916d659c42009e053b1791057f04": {
          "model_module": "@jupyter-widgets/controls",
          "model_name": "HTMLModel",
          "model_module_version": "1.5.0",
          "state": {
            "_dom_classes": [],
            "_model_module": "@jupyter-widgets/controls",
            "_model_module_version": "1.5.0",
            "_model_name": "HTMLModel",
            "_view_count": null,
            "_view_module": "@jupyter-widgets/controls",
            "_view_module_version": "1.5.0",
            "_view_name": "HTMLView",
            "description": "",
            "description_tooltip": null,
            "layout": "IPY_MODEL_58f37e3f021242bfadc458420b81828b",
            "placeholder": "​",
            "style": "IPY_MODEL_b1034e59126e48d8a695590eb2c48752",
            "value": "Downloading data files: 100%"
          }
        },
        "cdc90db23cd24a34874c89de7d24c3c9": {
          "model_module": "@jupyter-widgets/controls",
          "model_name": "FloatProgressModel",
          "model_module_version": "1.5.0",
          "state": {
            "_dom_classes": [],
            "_model_module": "@jupyter-widgets/controls",
            "_model_module_version": "1.5.0",
            "_model_name": "FloatProgressModel",
            "_view_count": null,
            "_view_module": "@jupyter-widgets/controls",
            "_view_module_version": "1.5.0",
            "_view_name": "ProgressView",
            "bar_style": "success",
            "description": "",
            "description_tooltip": null,
            "layout": "IPY_MODEL_d05b81f0850d43b88f513b076e7291dc",
            "max": 3,
            "min": 0,
            "orientation": "horizontal",
            "style": "IPY_MODEL_d4ff2e15e6c54ed7bbe449b13a8aa217",
            "value": 3
          }
        },
        "e5f65f8a3d57426c9171f7a43cd6cfa8": {
          "model_module": "@jupyter-widgets/controls",
          "model_name": "HTMLModel",
          "model_module_version": "1.5.0",
          "state": {
            "_dom_classes": [],
            "_model_module": "@jupyter-widgets/controls",
            "_model_module_version": "1.5.0",
            "_model_name": "HTMLModel",
            "_view_count": null,
            "_view_module": "@jupyter-widgets/controls",
            "_view_module_version": "1.5.0",
            "_view_name": "HTMLView",
            "description": "",
            "description_tooltip": null,
            "layout": "IPY_MODEL_6e56be1841584cdd90a80e1afbec9af4",
            "placeholder": "​",
            "style": "IPY_MODEL_445cbe65ddc9434f878b65e989f98981",
            "value": " 3/3 [00:43&lt;00:00, 12.22s/it]"
          }
        },
        "99a3b8f6a05448f1b83ff53dedbcbb97": {
          "model_module": "@jupyter-widgets/base",
          "model_name": "LayoutModel",
          "model_module_version": "1.2.0",
          "state": {
            "_model_module": "@jupyter-widgets/base",
            "_model_module_version": "1.2.0",
            "_model_name": "LayoutModel",
            "_view_count": null,
            "_view_module": "@jupyter-widgets/base",
            "_view_module_version": "1.2.0",
            "_view_name": "LayoutView",
            "align_content": null,
            "align_items": null,
            "align_self": null,
            "border": null,
            "bottom": null,
            "display": null,
            "flex": null,
            "flex_flow": null,
            "grid_area": null,
            "grid_auto_columns": null,
            "grid_auto_flow": null,
            "grid_auto_rows": null,
            "grid_column": null,
            "grid_gap": null,
            "grid_row": null,
            "grid_template_areas": null,
            "grid_template_columns": null,
            "grid_template_rows": null,
            "height": null,
            "justify_content": null,
            "justify_items": null,
            "left": null,
            "margin": null,
            "max_height": null,
            "max_width": null,
            "min_height": null,
            "min_width": null,
            "object_fit": null,
            "object_position": null,
            "order": null,
            "overflow": null,
            "overflow_x": null,
            "overflow_y": null,
            "padding": null,
            "right": null,
            "top": null,
            "visibility": null,
            "width": null
          }
        },
        "58f37e3f021242bfadc458420b81828b": {
          "model_module": "@jupyter-widgets/base",
          "model_name": "LayoutModel",
          "model_module_version": "1.2.0",
          "state": {
            "_model_module": "@jupyter-widgets/base",
            "_model_module_version": "1.2.0",
            "_model_name": "LayoutModel",
            "_view_count": null,
            "_view_module": "@jupyter-widgets/base",
            "_view_module_version": "1.2.0",
            "_view_name": "LayoutView",
            "align_content": null,
            "align_items": null,
            "align_self": null,
            "border": null,
            "bottom": null,
            "display": null,
            "flex": null,
            "flex_flow": null,
            "grid_area": null,
            "grid_auto_columns": null,
            "grid_auto_flow": null,
            "grid_auto_rows": null,
            "grid_column": null,
            "grid_gap": null,
            "grid_row": null,
            "grid_template_areas": null,
            "grid_template_columns": null,
            "grid_template_rows": null,
            "height": null,
            "justify_content": null,
            "justify_items": null,
            "left": null,
            "margin": null,
            "max_height": null,
            "max_width": null,
            "min_height": null,
            "min_width": null,
            "object_fit": null,
            "object_position": null,
            "order": null,
            "overflow": null,
            "overflow_x": null,
            "overflow_y": null,
            "padding": null,
            "right": null,
            "top": null,
            "visibility": null,
            "width": null
          }
        },
        "b1034e59126e48d8a695590eb2c48752": {
          "model_module": "@jupyter-widgets/controls",
          "model_name": "DescriptionStyleModel",
          "model_module_version": "1.5.0",
          "state": {
            "_model_module": "@jupyter-widgets/controls",
            "_model_module_version": "1.5.0",
            "_model_name": "DescriptionStyleModel",
            "_view_count": null,
            "_view_module": "@jupyter-widgets/base",
            "_view_module_version": "1.2.0",
            "_view_name": "StyleView",
            "description_width": ""
          }
        },
        "d05b81f0850d43b88f513b076e7291dc": {
          "model_module": "@jupyter-widgets/base",
          "model_name": "LayoutModel",
          "model_module_version": "1.2.0",
          "state": {
            "_model_module": "@jupyter-widgets/base",
            "_model_module_version": "1.2.0",
            "_model_name": "LayoutModel",
            "_view_count": null,
            "_view_module": "@jupyter-widgets/base",
            "_view_module_version": "1.2.0",
            "_view_name": "LayoutView",
            "align_content": null,
            "align_items": null,
            "align_self": null,
            "border": null,
            "bottom": null,
            "display": null,
            "flex": null,
            "flex_flow": null,
            "grid_area": null,
            "grid_auto_columns": null,
            "grid_auto_flow": null,
            "grid_auto_rows": null,
            "grid_column": null,
            "grid_gap": null,
            "grid_row": null,
            "grid_template_areas": null,
            "grid_template_columns": null,
            "grid_template_rows": null,
            "height": null,
            "justify_content": null,
            "justify_items": null,
            "left": null,
            "margin": null,
            "max_height": null,
            "max_width": null,
            "min_height": null,
            "min_width": null,
            "object_fit": null,
            "object_position": null,
            "order": null,
            "overflow": null,
            "overflow_x": null,
            "overflow_y": null,
            "padding": null,
            "right": null,
            "top": null,
            "visibility": null,
            "width": null
          }
        },
        "d4ff2e15e6c54ed7bbe449b13a8aa217": {
          "model_module": "@jupyter-widgets/controls",
          "model_name": "ProgressStyleModel",
          "model_module_version": "1.5.0",
          "state": {
            "_model_module": "@jupyter-widgets/controls",
            "_model_module_version": "1.5.0",
            "_model_name": "ProgressStyleModel",
            "_view_count": null,
            "_view_module": "@jupyter-widgets/base",
            "_view_module_version": "1.2.0",
            "_view_name": "StyleView",
            "bar_color": null,
            "description_width": ""
          }
        },
        "6e56be1841584cdd90a80e1afbec9af4": {
          "model_module": "@jupyter-widgets/base",
          "model_name": "LayoutModel",
          "model_module_version": "1.2.0",
          "state": {
            "_model_module": "@jupyter-widgets/base",
            "_model_module_version": "1.2.0",
            "_model_name": "LayoutModel",
            "_view_count": null,
            "_view_module": "@jupyter-widgets/base",
            "_view_module_version": "1.2.0",
            "_view_name": "LayoutView",
            "align_content": null,
            "align_items": null,
            "align_self": null,
            "border": null,
            "bottom": null,
            "display": null,
            "flex": null,
            "flex_flow": null,
            "grid_area": null,
            "grid_auto_columns": null,
            "grid_auto_flow": null,
            "grid_auto_rows": null,
            "grid_column": null,
            "grid_gap": null,
            "grid_row": null,
            "grid_template_areas": null,
            "grid_template_columns": null,
            "grid_template_rows": null,
            "height": null,
            "justify_content": null,
            "justify_items": null,
            "left": null,
            "margin": null,
            "max_height": null,
            "max_width": null,
            "min_height": null,
            "min_width": null,
            "object_fit": null,
            "object_position": null,
            "order": null,
            "overflow": null,
            "overflow_x": null,
            "overflow_y": null,
            "padding": null,
            "right": null,
            "top": null,
            "visibility": null,
            "width": null
          }
        },
        "445cbe65ddc9434f878b65e989f98981": {
          "model_module": "@jupyter-widgets/controls",
          "model_name": "DescriptionStyleModel",
          "model_module_version": "1.5.0",
          "state": {
            "_model_module": "@jupyter-widgets/controls",
            "_model_module_version": "1.5.0",
            "_model_name": "DescriptionStyleModel",
            "_view_count": null,
            "_view_module": "@jupyter-widgets/base",
            "_view_module_version": "1.2.0",
            "_view_name": "StyleView",
            "description_width": ""
          }
        },
        "0d26ccbf38a24b4bacc000d0c85beabd": {
          "model_module": "@jupyter-widgets/controls",
          "model_name": "HBoxModel",
          "model_module_version": "1.5.0",
          "state": {
            "_dom_classes": [],
            "_model_module": "@jupyter-widgets/controls",
            "_model_module_version": "1.5.0",
            "_model_name": "HBoxModel",
            "_view_count": null,
            "_view_module": "@jupyter-widgets/controls",
            "_view_module_version": "1.5.0",
            "_view_name": "HBoxView",
            "box_style": "",
            "children": [
              "IPY_MODEL_b5124081855a49038d84f65d893f7db6",
              "IPY_MODEL_955266362bfa4e71916852e00340c51d",
              "IPY_MODEL_d665fbfdb5cf4ec889656e77aef36e42"
            ],
            "layout": "IPY_MODEL_e65b97042a3146699665bc71bb031410"
          }
        },
        "b5124081855a49038d84f65d893f7db6": {
          "model_module": "@jupyter-widgets/controls",
          "model_name": "HTMLModel",
          "model_module_version": "1.5.0",
          "state": {
            "_dom_classes": [],
            "_model_module": "@jupyter-widgets/controls",
            "_model_module_version": "1.5.0",
            "_model_name": "HTMLModel",
            "_view_count": null,
            "_view_module": "@jupyter-widgets/controls",
            "_view_module_version": "1.5.0",
            "_view_name": "HTMLView",
            "description": "",
            "description_tooltip": null,
            "layout": "IPY_MODEL_3bdae0b9e5b549858b1bdb0698f1d273",
            "placeholder": "​",
            "style": "IPY_MODEL_77c83594386f4562881865d5945395d3",
            "value": "Downloading data: 100%"
          }
        },
        "955266362bfa4e71916852e00340c51d": {
          "model_module": "@jupyter-widgets/controls",
          "model_name": "FloatProgressModel",
          "model_module_version": "1.5.0",
          "state": {
            "_dom_classes": [],
            "_model_module": "@jupyter-widgets/controls",
            "_model_module_version": "1.5.0",
            "_model_name": "FloatProgressModel",
            "_view_count": null,
            "_view_module": "@jupyter-widgets/controls",
            "_view_module_version": "1.5.0",
            "_view_name": "ProgressView",
            "bar_style": "success",
            "description": "",
            "description_tooltip": null,
            "layout": "IPY_MODEL_7a27e27166bf4b4da98710de9187440e",
            "max": 110704491,
            "min": 0,
            "orientation": "horizontal",
            "style": "IPY_MODEL_032ecb9367f040f6953d6a14a286ef37",
            "value": 110704491
          }
        },
        "d665fbfdb5cf4ec889656e77aef36e42": {
          "model_module": "@jupyter-widgets/controls",
          "model_name": "HTMLModel",
          "model_module_version": "1.5.0",
          "state": {
            "_dom_classes": [],
            "_model_module": "@jupyter-widgets/controls",
            "_model_module_version": "1.5.0",
            "_model_name": "HTMLModel",
            "_view_count": null,
            "_view_module": "@jupyter-widgets/controls",
            "_view_module_version": "1.5.0",
            "_view_name": "HTMLView",
            "description": "",
            "description_tooltip": null,
            "layout": "IPY_MODEL_c5358f4006324f82bebd51cf96c36d74",
            "placeholder": "​",
            "style": "IPY_MODEL_4b3b63f644aa40bc9e2a8b7d305be286",
            "value": " 111M/111M [00:26&lt;00:00, 3.08MB/s]"
          }
        },
        "e65b97042a3146699665bc71bb031410": {
          "model_module": "@jupyter-widgets/base",
          "model_name": "LayoutModel",
          "model_module_version": "1.2.0",
          "state": {
            "_model_module": "@jupyter-widgets/base",
            "_model_module_version": "1.2.0",
            "_model_name": "LayoutModel",
            "_view_count": null,
            "_view_module": "@jupyter-widgets/base",
            "_view_module_version": "1.2.0",
            "_view_name": "LayoutView",
            "align_content": null,
            "align_items": null,
            "align_self": null,
            "border": null,
            "bottom": null,
            "display": null,
            "flex": null,
            "flex_flow": null,
            "grid_area": null,
            "grid_auto_columns": null,
            "grid_auto_flow": null,
            "grid_auto_rows": null,
            "grid_column": null,
            "grid_gap": null,
            "grid_row": null,
            "grid_template_areas": null,
            "grid_template_columns": null,
            "grid_template_rows": null,
            "height": null,
            "justify_content": null,
            "justify_items": null,
            "left": null,
            "margin": null,
            "max_height": null,
            "max_width": null,
            "min_height": null,
            "min_width": null,
            "object_fit": null,
            "object_position": null,
            "order": null,
            "overflow": null,
            "overflow_x": null,
            "overflow_y": null,
            "padding": null,
            "right": null,
            "top": null,
            "visibility": null,
            "width": null
          }
        },
        "3bdae0b9e5b549858b1bdb0698f1d273": {
          "model_module": "@jupyter-widgets/base",
          "model_name": "LayoutModel",
          "model_module_version": "1.2.0",
          "state": {
            "_model_module": "@jupyter-widgets/base",
            "_model_module_version": "1.2.0",
            "_model_name": "LayoutModel",
            "_view_count": null,
            "_view_module": "@jupyter-widgets/base",
            "_view_module_version": "1.2.0",
            "_view_name": "LayoutView",
            "align_content": null,
            "align_items": null,
            "align_self": null,
            "border": null,
            "bottom": null,
            "display": null,
            "flex": null,
            "flex_flow": null,
            "grid_area": null,
            "grid_auto_columns": null,
            "grid_auto_flow": null,
            "grid_auto_rows": null,
            "grid_column": null,
            "grid_gap": null,
            "grid_row": null,
            "grid_template_areas": null,
            "grid_template_columns": null,
            "grid_template_rows": null,
            "height": null,
            "justify_content": null,
            "justify_items": null,
            "left": null,
            "margin": null,
            "max_height": null,
            "max_width": null,
            "min_height": null,
            "min_width": null,
            "object_fit": null,
            "object_position": null,
            "order": null,
            "overflow": null,
            "overflow_x": null,
            "overflow_y": null,
            "padding": null,
            "right": null,
            "top": null,
            "visibility": null,
            "width": null
          }
        },
        "77c83594386f4562881865d5945395d3": {
          "model_module": "@jupyter-widgets/controls",
          "model_name": "DescriptionStyleModel",
          "model_module_version": "1.5.0",
          "state": {
            "_model_module": "@jupyter-widgets/controls",
            "_model_module_version": "1.5.0",
            "_model_name": "DescriptionStyleModel",
            "_view_count": null,
            "_view_module": "@jupyter-widgets/base",
            "_view_module_version": "1.2.0",
            "_view_name": "StyleView",
            "description_width": ""
          }
        },
        "7a27e27166bf4b4da98710de9187440e": {
          "model_module": "@jupyter-widgets/base",
          "model_name": "LayoutModel",
          "model_module_version": "1.2.0",
          "state": {
            "_model_module": "@jupyter-widgets/base",
            "_model_module_version": "1.2.0",
            "_model_name": "LayoutModel",
            "_view_count": null,
            "_view_module": "@jupyter-widgets/base",
            "_view_module_version": "1.2.0",
            "_view_name": "LayoutView",
            "align_content": null,
            "align_items": null,
            "align_self": null,
            "border": null,
            "bottom": null,
            "display": null,
            "flex": null,
            "flex_flow": null,
            "grid_area": null,
            "grid_auto_columns": null,
            "grid_auto_flow": null,
            "grid_auto_rows": null,
            "grid_column": null,
            "grid_gap": null,
            "grid_row": null,
            "grid_template_areas": null,
            "grid_template_columns": null,
            "grid_template_rows": null,
            "height": null,
            "justify_content": null,
            "justify_items": null,
            "left": null,
            "margin": null,
            "max_height": null,
            "max_width": null,
            "min_height": null,
            "min_width": null,
            "object_fit": null,
            "object_position": null,
            "order": null,
            "overflow": null,
            "overflow_x": null,
            "overflow_y": null,
            "padding": null,
            "right": null,
            "top": null,
            "visibility": null,
            "width": null
          }
        },
        "032ecb9367f040f6953d6a14a286ef37": {
          "model_module": "@jupyter-widgets/controls",
          "model_name": "ProgressStyleModel",
          "model_module_version": "1.5.0",
          "state": {
            "_model_module": "@jupyter-widgets/controls",
            "_model_module_version": "1.5.0",
            "_model_name": "ProgressStyleModel",
            "_view_count": null,
            "_view_module": "@jupyter-widgets/base",
            "_view_module_version": "1.2.0",
            "_view_name": "StyleView",
            "bar_color": null,
            "description_width": ""
          }
        },
        "c5358f4006324f82bebd51cf96c36d74": {
          "model_module": "@jupyter-widgets/base",
          "model_name": "LayoutModel",
          "model_module_version": "1.2.0",
          "state": {
            "_model_module": "@jupyter-widgets/base",
            "_model_module_version": "1.2.0",
            "_model_name": "LayoutModel",
            "_view_count": null,
            "_view_module": "@jupyter-widgets/base",
            "_view_module_version": "1.2.0",
            "_view_name": "LayoutView",
            "align_content": null,
            "align_items": null,
            "align_self": null,
            "border": null,
            "bottom": null,
            "display": null,
            "flex": null,
            "flex_flow": null,
            "grid_area": null,
            "grid_auto_columns": null,
            "grid_auto_flow": null,
            "grid_auto_rows": null,
            "grid_column": null,
            "grid_gap": null,
            "grid_row": null,
            "grid_template_areas": null,
            "grid_template_columns": null,
            "grid_template_rows": null,
            "height": null,
            "justify_content": null,
            "justify_items": null,
            "left": null,
            "margin": null,
            "max_height": null,
            "max_width": null,
            "min_height": null,
            "min_width": null,
            "object_fit": null,
            "object_position": null,
            "order": null,
            "overflow": null,
            "overflow_x": null,
            "overflow_y": null,
            "padding": null,
            "right": null,
            "top": null,
            "visibility": null,
            "width": null
          }
        },
        "4b3b63f644aa40bc9e2a8b7d305be286": {
          "model_module": "@jupyter-widgets/controls",
          "model_name": "DescriptionStyleModel",
          "model_module_version": "1.5.0",
          "state": {
            "_model_module": "@jupyter-widgets/controls",
            "_model_module_version": "1.5.0",
            "_model_name": "DescriptionStyleModel",
            "_view_count": null,
            "_view_module": "@jupyter-widgets/base",
            "_view_module_version": "1.2.0",
            "_view_name": "StyleView",
            "description_width": ""
          }
        },
        "bcc0068f061e4e789dbc742f2c556e11": {
          "model_module": "@jupyter-widgets/controls",
          "model_name": "HBoxModel",
          "model_module_version": "1.5.0",
          "state": {
            "_dom_classes": [],
            "_model_module": "@jupyter-widgets/controls",
            "_model_module_version": "1.5.0",
            "_model_name": "HBoxModel",
            "_view_count": null,
            "_view_module": "@jupyter-widgets/controls",
            "_view_module_version": "1.5.0",
            "_view_name": "HBoxView",
            "box_style": "",
            "children": [
              "IPY_MODEL_83b78237fd3d4803a5379bca380eb9e5",
              "IPY_MODEL_26b7e806b4724d079b3124681440ff10",
              "IPY_MODEL_3fdb6bb9dfe74a1b9ebb9d7c0701093d"
            ],
            "layout": "IPY_MODEL_60080abbfc3d4a7d897f6f7483892eaf"
          }
        },
        "83b78237fd3d4803a5379bca380eb9e5": {
          "model_module": "@jupyter-widgets/controls",
          "model_name": "HTMLModel",
          "model_module_version": "1.5.0",
          "state": {
            "_dom_classes": [],
            "_model_module": "@jupyter-widgets/controls",
            "_model_module_version": "1.5.0",
            "_model_name": "HTMLModel",
            "_view_count": null,
            "_view_module": "@jupyter-widgets/controls",
            "_view_module_version": "1.5.0",
            "_view_name": "HTMLView",
            "description": "",
            "description_tooltip": null,
            "layout": "IPY_MODEL_03259eab2f9b484d893d682efe5ecbe5",
            "placeholder": "​",
            "style": "IPY_MODEL_f139c70b8c2146638bedb2146f8e6494",
            "value": "Downloading data: 100%"
          }
        },
        "26b7e806b4724d079b3124681440ff10": {
          "model_module": "@jupyter-widgets/controls",
          "model_name": "FloatProgressModel",
          "model_module_version": "1.5.0",
          "state": {
            "_dom_classes": [],
            "_model_module": "@jupyter-widgets/controls",
            "_model_module_version": "1.5.0",
            "_model_name": "FloatProgressModel",
            "_view_count": null,
            "_view_module": "@jupyter-widgets/controls",
            "_view_module_version": "1.5.0",
            "_view_name": "ProgressView",
            "bar_style": "success",
            "description": "",
            "description_tooltip": null,
            "layout": "IPY_MODEL_34f51084e0784eef9ae7e5ad74ee7bbd",
            "max": 13493661,
            "min": 0,
            "orientation": "horizontal",
            "style": "IPY_MODEL_80a5d42520384af888c5d5b1a2824817",
            "value": 13493661
          }
        },
        "3fdb6bb9dfe74a1b9ebb9d7c0701093d": {
          "model_module": "@jupyter-widgets/controls",
          "model_name": "HTMLModel",
          "model_module_version": "1.5.0",
          "state": {
            "_dom_classes": [],
            "_model_module": "@jupyter-widgets/controls",
            "_model_module_version": "1.5.0",
            "_model_name": "HTMLModel",
            "_view_count": null,
            "_view_module": "@jupyter-widgets/controls",
            "_view_module_version": "1.5.0",
            "_view_name": "HTMLView",
            "description": "",
            "description_tooltip": null,
            "layout": "IPY_MODEL_3cfda4a3edbf44978e35e475a48e0344",
            "placeholder": "​",
            "style": "IPY_MODEL_718a4338fed84cad93fdfcd6bdc2152f",
            "value": " 13.5M/13.5M [00:07&lt;00:00, 2.14MB/s]"
          }
        },
        "60080abbfc3d4a7d897f6f7483892eaf": {
          "model_module": "@jupyter-widgets/base",
          "model_name": "LayoutModel",
          "model_module_version": "1.2.0",
          "state": {
            "_model_module": "@jupyter-widgets/base",
            "_model_module_version": "1.2.0",
            "_model_name": "LayoutModel",
            "_view_count": null,
            "_view_module": "@jupyter-widgets/base",
            "_view_module_version": "1.2.0",
            "_view_name": "LayoutView",
            "align_content": null,
            "align_items": null,
            "align_self": null,
            "border": null,
            "bottom": null,
            "display": null,
            "flex": null,
            "flex_flow": null,
            "grid_area": null,
            "grid_auto_columns": null,
            "grid_auto_flow": null,
            "grid_auto_rows": null,
            "grid_column": null,
            "grid_gap": null,
            "grid_row": null,
            "grid_template_areas": null,
            "grid_template_columns": null,
            "grid_template_rows": null,
            "height": null,
            "justify_content": null,
            "justify_items": null,
            "left": null,
            "margin": null,
            "max_height": null,
            "max_width": null,
            "min_height": null,
            "min_width": null,
            "object_fit": null,
            "object_position": null,
            "order": null,
            "overflow": null,
            "overflow_x": null,
            "overflow_y": null,
            "padding": null,
            "right": null,
            "top": null,
            "visibility": null,
            "width": null
          }
        },
        "03259eab2f9b484d893d682efe5ecbe5": {
          "model_module": "@jupyter-widgets/base",
          "model_name": "LayoutModel",
          "model_module_version": "1.2.0",
          "state": {
            "_model_module": "@jupyter-widgets/base",
            "_model_module_version": "1.2.0",
            "_model_name": "LayoutModel",
            "_view_count": null,
            "_view_module": "@jupyter-widgets/base",
            "_view_module_version": "1.2.0",
            "_view_name": "LayoutView",
            "align_content": null,
            "align_items": null,
            "align_self": null,
            "border": null,
            "bottom": null,
            "display": null,
            "flex": null,
            "flex_flow": null,
            "grid_area": null,
            "grid_auto_columns": null,
            "grid_auto_flow": null,
            "grid_auto_rows": null,
            "grid_column": null,
            "grid_gap": null,
            "grid_row": null,
            "grid_template_areas": null,
            "grid_template_columns": null,
            "grid_template_rows": null,
            "height": null,
            "justify_content": null,
            "justify_items": null,
            "left": null,
            "margin": null,
            "max_height": null,
            "max_width": null,
            "min_height": null,
            "min_width": null,
            "object_fit": null,
            "object_position": null,
            "order": null,
            "overflow": null,
            "overflow_x": null,
            "overflow_y": null,
            "padding": null,
            "right": null,
            "top": null,
            "visibility": null,
            "width": null
          }
        },
        "f139c70b8c2146638bedb2146f8e6494": {
          "model_module": "@jupyter-widgets/controls",
          "model_name": "DescriptionStyleModel",
          "model_module_version": "1.5.0",
          "state": {
            "_model_module": "@jupyter-widgets/controls",
            "_model_module_version": "1.5.0",
            "_model_name": "DescriptionStyleModel",
            "_view_count": null,
            "_view_module": "@jupyter-widgets/base",
            "_view_module_version": "1.2.0",
            "_view_name": "StyleView",
            "description_width": ""
          }
        },
        "34f51084e0784eef9ae7e5ad74ee7bbd": {
          "model_module": "@jupyter-widgets/base",
          "model_name": "LayoutModel",
          "model_module_version": "1.2.0",
          "state": {
            "_model_module": "@jupyter-widgets/base",
            "_model_module_version": "1.2.0",
            "_model_name": "LayoutModel",
            "_view_count": null,
            "_view_module": "@jupyter-widgets/base",
            "_view_module_version": "1.2.0",
            "_view_name": "LayoutView",
            "align_content": null,
            "align_items": null,
            "align_self": null,
            "border": null,
            "bottom": null,
            "display": null,
            "flex": null,
            "flex_flow": null,
            "grid_area": null,
            "grid_auto_columns": null,
            "grid_auto_flow": null,
            "grid_auto_rows": null,
            "grid_column": null,
            "grid_gap": null,
            "grid_row": null,
            "grid_template_areas": null,
            "grid_template_columns": null,
            "grid_template_rows": null,
            "height": null,
            "justify_content": null,
            "justify_items": null,
            "left": null,
            "margin": null,
            "max_height": null,
            "max_width": null,
            "min_height": null,
            "min_width": null,
            "object_fit": null,
            "object_position": null,
            "order": null,
            "overflow": null,
            "overflow_x": null,
            "overflow_y": null,
            "padding": null,
            "right": null,
            "top": null,
            "visibility": null,
            "width": null
          }
        },
        "80a5d42520384af888c5d5b1a2824817": {
          "model_module": "@jupyter-widgets/controls",
          "model_name": "ProgressStyleModel",
          "model_module_version": "1.5.0",
          "state": {
            "_model_module": "@jupyter-widgets/controls",
            "_model_module_version": "1.5.0",
            "_model_name": "ProgressStyleModel",
            "_view_count": null,
            "_view_module": "@jupyter-widgets/base",
            "_view_module_version": "1.2.0",
            "_view_name": "StyleView",
            "bar_color": null,
            "description_width": ""
          }
        },
        "3cfda4a3edbf44978e35e475a48e0344": {
          "model_module": "@jupyter-widgets/base",
          "model_name": "LayoutModel",
          "model_module_version": "1.2.0",
          "state": {
            "_model_module": "@jupyter-widgets/base",
            "_model_module_version": "1.2.0",
            "_model_name": "LayoutModel",
            "_view_count": null,
            "_view_module": "@jupyter-widgets/base",
            "_view_module_version": "1.2.0",
            "_view_name": "LayoutView",
            "align_content": null,
            "align_items": null,
            "align_self": null,
            "border": null,
            "bottom": null,
            "display": null,
            "flex": null,
            "flex_flow": null,
            "grid_area": null,
            "grid_auto_columns": null,
            "grid_auto_flow": null,
            "grid_auto_rows": null,
            "grid_column": null,
            "grid_gap": null,
            "grid_row": null,
            "grid_template_areas": null,
            "grid_template_columns": null,
            "grid_template_rows": null,
            "height": null,
            "justify_content": null,
            "justify_items": null,
            "left": null,
            "margin": null,
            "max_height": null,
            "max_width": null,
            "min_height": null,
            "min_width": null,
            "object_fit": null,
            "object_position": null,
            "order": null,
            "overflow": null,
            "overflow_x": null,
            "overflow_y": null,
            "padding": null,
            "right": null,
            "top": null,
            "visibility": null,
            "width": null
          }
        },
        "718a4338fed84cad93fdfcd6bdc2152f": {
          "model_module": "@jupyter-widgets/controls",
          "model_name": "DescriptionStyleModel",
          "model_module_version": "1.5.0",
          "state": {
            "_model_module": "@jupyter-widgets/controls",
            "_model_module_version": "1.5.0",
            "_model_name": "DescriptionStyleModel",
            "_view_count": null,
            "_view_module": "@jupyter-widgets/base",
            "_view_module_version": "1.2.0",
            "_view_name": "StyleView",
            "description_width": ""
          }
        },
        "10d1e42a4d08466d8e6d5daa59c3ee83": {
          "model_module": "@jupyter-widgets/controls",
          "model_name": "HBoxModel",
          "model_module_version": "1.5.0",
          "state": {
            "_dom_classes": [],
            "_model_module": "@jupyter-widgets/controls",
            "_model_module_version": "1.5.0",
            "_model_name": "HBoxModel",
            "_view_count": null,
            "_view_module": "@jupyter-widgets/controls",
            "_view_module_version": "1.5.0",
            "_view_name": "HBoxView",
            "box_style": "",
            "children": [
              "IPY_MODEL_1d2c8e05a7e64ce08385020c8333c6cd",
              "IPY_MODEL_723bb18a46d04dcf9fdbd7b5de9f7f0b",
              "IPY_MODEL_949e69fc928e4c65ab803379e995a226"
            ],
            "layout": "IPY_MODEL_de882168184244ad98d947b2b460bd82"
          }
        },
        "1d2c8e05a7e64ce08385020c8333c6cd": {
          "model_module": "@jupyter-widgets/controls",
          "model_name": "HTMLModel",
          "model_module_version": "1.5.0",
          "state": {
            "_dom_classes": [],
            "_model_module": "@jupyter-widgets/controls",
            "_model_module_version": "1.5.0",
            "_model_name": "HTMLModel",
            "_view_count": null,
            "_view_module": "@jupyter-widgets/controls",
            "_view_module_version": "1.5.0",
            "_view_name": "HTMLView",
            "description": "",
            "description_tooltip": null,
            "layout": "IPY_MODEL_ab82d857c543438f8416b765ff0909d2",
            "placeholder": "​",
            "style": "IPY_MODEL_2ed0c999915c40e5ac0fccb1e7dc4f5a",
            "value": "Downloading data: 100%"
          }
        },
        "723bb18a46d04dcf9fdbd7b5de9f7f0b": {
          "model_module": "@jupyter-widgets/controls",
          "model_name": "FloatProgressModel",
          "model_module_version": "1.5.0",
          "state": {
            "_dom_classes": [],
            "_model_module": "@jupyter-widgets/controls",
            "_model_module_version": "1.5.0",
            "_model_name": "FloatProgressModel",
            "_view_count": null,
            "_view_module": "@jupyter-widgets/controls",
            "_view_module_version": "1.5.0",
            "_view_name": "ProgressView",
            "bar_style": "success",
            "description": "",
            "description_tooltip": null,
            "layout": "IPY_MODEL_6d70081f470c4532b0648284ca71476b",
            "max": 44499856,
            "min": 0,
            "orientation": "horizontal",
            "style": "IPY_MODEL_1064e6cd3ee34eb38c76ae430d6bc6eb",
            "value": 44499856
          }
        },
        "949e69fc928e4c65ab803379e995a226": {
          "model_module": "@jupyter-widgets/controls",
          "model_name": "HTMLModel",
          "model_module_version": "1.5.0",
          "state": {
            "_dom_classes": [],
            "_model_module": "@jupyter-widgets/controls",
            "_model_module_version": "1.5.0",
            "_model_name": "HTMLModel",
            "_view_count": null,
            "_view_module": "@jupyter-widgets/controls",
            "_view_module_version": "1.5.0",
            "_view_name": "HTMLView",
            "description": "",
            "description_tooltip": null,
            "layout": "IPY_MODEL_0e249c24beb1467cb81925eb5394f92b",
            "placeholder": "​",
            "style": "IPY_MODEL_fde83e02e5c84533b744f52f4fe17e6e",
            "value": " 44.5M/44.5M [00:06&lt;00:00, 7.02MB/s]"
          }
        },
        "de882168184244ad98d947b2b460bd82": {
          "model_module": "@jupyter-widgets/base",
          "model_name": "LayoutModel",
          "model_module_version": "1.2.0",
          "state": {
            "_model_module": "@jupyter-widgets/base",
            "_model_module_version": "1.2.0",
            "_model_name": "LayoutModel",
            "_view_count": null,
            "_view_module": "@jupyter-widgets/base",
            "_view_module_version": "1.2.0",
            "_view_name": "LayoutView",
            "align_content": null,
            "align_items": null,
            "align_self": null,
            "border": null,
            "bottom": null,
            "display": null,
            "flex": null,
            "flex_flow": null,
            "grid_area": null,
            "grid_auto_columns": null,
            "grid_auto_flow": null,
            "grid_auto_rows": null,
            "grid_column": null,
            "grid_gap": null,
            "grid_row": null,
            "grid_template_areas": null,
            "grid_template_columns": null,
            "grid_template_rows": null,
            "height": null,
            "justify_content": null,
            "justify_items": null,
            "left": null,
            "margin": null,
            "max_height": null,
            "max_width": null,
            "min_height": null,
            "min_width": null,
            "object_fit": null,
            "object_position": null,
            "order": null,
            "overflow": null,
            "overflow_x": null,
            "overflow_y": null,
            "padding": null,
            "right": null,
            "top": null,
            "visibility": null,
            "width": null
          }
        },
        "ab82d857c543438f8416b765ff0909d2": {
          "model_module": "@jupyter-widgets/base",
          "model_name": "LayoutModel",
          "model_module_version": "1.2.0",
          "state": {
            "_model_module": "@jupyter-widgets/base",
            "_model_module_version": "1.2.0",
            "_model_name": "LayoutModel",
            "_view_count": null,
            "_view_module": "@jupyter-widgets/base",
            "_view_module_version": "1.2.0",
            "_view_name": "LayoutView",
            "align_content": null,
            "align_items": null,
            "align_self": null,
            "border": null,
            "bottom": null,
            "display": null,
            "flex": null,
            "flex_flow": null,
            "grid_area": null,
            "grid_auto_columns": null,
            "grid_auto_flow": null,
            "grid_auto_rows": null,
            "grid_column": null,
            "grid_gap": null,
            "grid_row": null,
            "grid_template_areas": null,
            "grid_template_columns": null,
            "grid_template_rows": null,
            "height": null,
            "justify_content": null,
            "justify_items": null,
            "left": null,
            "margin": null,
            "max_height": null,
            "max_width": null,
            "min_height": null,
            "min_width": null,
            "object_fit": null,
            "object_position": null,
            "order": null,
            "overflow": null,
            "overflow_x": null,
            "overflow_y": null,
            "padding": null,
            "right": null,
            "top": null,
            "visibility": null,
            "width": null
          }
        },
        "2ed0c999915c40e5ac0fccb1e7dc4f5a": {
          "model_module": "@jupyter-widgets/controls",
          "model_name": "DescriptionStyleModel",
          "model_module_version": "1.5.0",
          "state": {
            "_model_module": "@jupyter-widgets/controls",
            "_model_module_version": "1.5.0",
            "_model_name": "DescriptionStyleModel",
            "_view_count": null,
            "_view_module": "@jupyter-widgets/base",
            "_view_module_version": "1.2.0",
            "_view_name": "StyleView",
            "description_width": ""
          }
        },
        "6d70081f470c4532b0648284ca71476b": {
          "model_module": "@jupyter-widgets/base",
          "model_name": "LayoutModel",
          "model_module_version": "1.2.0",
          "state": {
            "_model_module": "@jupyter-widgets/base",
            "_model_module_version": "1.2.0",
            "_model_name": "LayoutModel",
            "_view_count": null,
            "_view_module": "@jupyter-widgets/base",
            "_view_module_version": "1.2.0",
            "_view_name": "LayoutView",
            "align_content": null,
            "align_items": null,
            "align_self": null,
            "border": null,
            "bottom": null,
            "display": null,
            "flex": null,
            "flex_flow": null,
            "grid_area": null,
            "grid_auto_columns": null,
            "grid_auto_flow": null,
            "grid_auto_rows": null,
            "grid_column": null,
            "grid_gap": null,
            "grid_row": null,
            "grid_template_areas": null,
            "grid_template_columns": null,
            "grid_template_rows": null,
            "height": null,
            "justify_content": null,
            "justify_items": null,
            "left": null,
            "margin": null,
            "max_height": null,
            "max_width": null,
            "min_height": null,
            "min_width": null,
            "object_fit": null,
            "object_position": null,
            "order": null,
            "overflow": null,
            "overflow_x": null,
            "overflow_y": null,
            "padding": null,
            "right": null,
            "top": null,
            "visibility": null,
            "width": null
          }
        },
        "1064e6cd3ee34eb38c76ae430d6bc6eb": {
          "model_module": "@jupyter-widgets/controls",
          "model_name": "ProgressStyleModel",
          "model_module_version": "1.5.0",
          "state": {
            "_model_module": "@jupyter-widgets/controls",
            "_model_module_version": "1.5.0",
            "_model_name": "ProgressStyleModel",
            "_view_count": null,
            "_view_module": "@jupyter-widgets/base",
            "_view_module_version": "1.2.0",
            "_view_name": "StyleView",
            "bar_color": null,
            "description_width": ""
          }
        },
        "0e249c24beb1467cb81925eb5394f92b": {
          "model_module": "@jupyter-widgets/base",
          "model_name": "LayoutModel",
          "model_module_version": "1.2.0",
          "state": {
            "_model_module": "@jupyter-widgets/base",
            "_model_module_version": "1.2.0",
            "_model_name": "LayoutModel",
            "_view_count": null,
            "_view_module": "@jupyter-widgets/base",
            "_view_module_version": "1.2.0",
            "_view_name": "LayoutView",
            "align_content": null,
            "align_items": null,
            "align_self": null,
            "border": null,
            "bottom": null,
            "display": null,
            "flex": null,
            "flex_flow": null,
            "grid_area": null,
            "grid_auto_columns": null,
            "grid_auto_flow": null,
            "grid_auto_rows": null,
            "grid_column": null,
            "grid_gap": null,
            "grid_row": null,
            "grid_template_areas": null,
            "grid_template_columns": null,
            "grid_template_rows": null,
            "height": null,
            "justify_content": null,
            "justify_items": null,
            "left": null,
            "margin": null,
            "max_height": null,
            "max_width": null,
            "min_height": null,
            "min_width": null,
            "object_fit": null,
            "object_position": null,
            "order": null,
            "overflow": null,
            "overflow_x": null,
            "overflow_y": null,
            "padding": null,
            "right": null,
            "top": null,
            "visibility": null,
            "width": null
          }
        },
        "fde83e02e5c84533b744f52f4fe17e6e": {
          "model_module": "@jupyter-widgets/controls",
          "model_name": "DescriptionStyleModel",
          "model_module_version": "1.5.0",
          "state": {
            "_model_module": "@jupyter-widgets/controls",
            "_model_module_version": "1.5.0",
            "_model_name": "DescriptionStyleModel",
            "_view_count": null,
            "_view_module": "@jupyter-widgets/base",
            "_view_module_version": "1.2.0",
            "_view_name": "StyleView",
            "description_width": ""
          }
        },
        "c41b1f99454544c4905ae2fee5960b6e": {
          "model_module": "@jupyter-widgets/controls",
          "model_name": "HBoxModel",
          "model_module_version": "1.5.0",
          "state": {
            "_dom_classes": [],
            "_model_module": "@jupyter-widgets/controls",
            "_model_module_version": "1.5.0",
            "_model_name": "HBoxModel",
            "_view_count": null,
            "_view_module": "@jupyter-widgets/controls",
            "_view_module_version": "1.5.0",
            "_view_name": "HBoxView",
            "box_style": "",
            "children": [
              "IPY_MODEL_12bc64a483304dd8957447d8e18c8101",
              "IPY_MODEL_30c83c8fb9184a77953272fb838e6c6e",
              "IPY_MODEL_d2fdf5c4520d42db9cc04b3403e15863"
            ],
            "layout": "IPY_MODEL_a9e773b4b8314d0dbcb1300f8cbdd254"
          }
        },
        "12bc64a483304dd8957447d8e18c8101": {
          "model_module": "@jupyter-widgets/controls",
          "model_name": "HTMLModel",
          "model_module_version": "1.5.0",
          "state": {
            "_dom_classes": [],
            "_model_module": "@jupyter-widgets/controls",
            "_model_module_version": "1.5.0",
            "_model_name": "HTMLModel",
            "_view_count": null,
            "_view_module": "@jupyter-widgets/controls",
            "_view_module_version": "1.5.0",
            "_view_name": "HTMLView",
            "description": "",
            "description_tooltip": null,
            "layout": "IPY_MODEL_fbfa082c487e4596a91454e47621e160",
            "placeholder": "​",
            "style": "IPY_MODEL_bf5cf19a36814bb5a50471aa2399cc43",
            "value": "Extracting data files: 100%"
          }
        },
        "30c83c8fb9184a77953272fb838e6c6e": {
          "model_module": "@jupyter-widgets/controls",
          "model_name": "FloatProgressModel",
          "model_module_version": "1.5.0",
          "state": {
            "_dom_classes": [],
            "_model_module": "@jupyter-widgets/controls",
            "_model_module_version": "1.5.0",
            "_model_name": "FloatProgressModel",
            "_view_count": null,
            "_view_module": "@jupyter-widgets/controls",
            "_view_module_version": "1.5.0",
            "_view_name": "ProgressView",
            "bar_style": "success",
            "description": "",
            "description_tooltip": null,
            "layout": "IPY_MODEL_be540dbea3934ab98e01cf0856132890",
            "max": 3,
            "min": 0,
            "orientation": "horizontal",
            "style": "IPY_MODEL_259e13be6c67461a91d01c99b00b21a3",
            "value": 3
          }
        },
        "d2fdf5c4520d42db9cc04b3403e15863": {
          "model_module": "@jupyter-widgets/controls",
          "model_name": "HTMLModel",
          "model_module_version": "1.5.0",
          "state": {
            "_dom_classes": [],
            "_model_module": "@jupyter-widgets/controls",
            "_model_module_version": "1.5.0",
            "_model_name": "HTMLModel",
            "_view_count": null,
            "_view_module": "@jupyter-widgets/controls",
            "_view_module_version": "1.5.0",
            "_view_name": "HTMLView",
            "description": "",
            "description_tooltip": null,
            "layout": "IPY_MODEL_34b4948c300d40c8a0f9409c9dc58063",
            "placeholder": "​",
            "style": "IPY_MODEL_6d30227bf8664360a8a135a6c031b1e1",
            "value": " 3/3 [00:03&lt;00:00,  1.70s/it]"
          }
        },
        "a9e773b4b8314d0dbcb1300f8cbdd254": {
          "model_module": "@jupyter-widgets/base",
          "model_name": "LayoutModel",
          "model_module_version": "1.2.0",
          "state": {
            "_model_module": "@jupyter-widgets/base",
            "_model_module_version": "1.2.0",
            "_model_name": "LayoutModel",
            "_view_count": null,
            "_view_module": "@jupyter-widgets/base",
            "_view_module_version": "1.2.0",
            "_view_name": "LayoutView",
            "align_content": null,
            "align_items": null,
            "align_self": null,
            "border": null,
            "bottom": null,
            "display": null,
            "flex": null,
            "flex_flow": null,
            "grid_area": null,
            "grid_auto_columns": null,
            "grid_auto_flow": null,
            "grid_auto_rows": null,
            "grid_column": null,
            "grid_gap": null,
            "grid_row": null,
            "grid_template_areas": null,
            "grid_template_columns": null,
            "grid_template_rows": null,
            "height": null,
            "justify_content": null,
            "justify_items": null,
            "left": null,
            "margin": null,
            "max_height": null,
            "max_width": null,
            "min_height": null,
            "min_width": null,
            "object_fit": null,
            "object_position": null,
            "order": null,
            "overflow": null,
            "overflow_x": null,
            "overflow_y": null,
            "padding": null,
            "right": null,
            "top": null,
            "visibility": null,
            "width": null
          }
        },
        "fbfa082c487e4596a91454e47621e160": {
          "model_module": "@jupyter-widgets/base",
          "model_name": "LayoutModel",
          "model_module_version": "1.2.0",
          "state": {
            "_model_module": "@jupyter-widgets/base",
            "_model_module_version": "1.2.0",
            "_model_name": "LayoutModel",
            "_view_count": null,
            "_view_module": "@jupyter-widgets/base",
            "_view_module_version": "1.2.0",
            "_view_name": "LayoutView",
            "align_content": null,
            "align_items": null,
            "align_self": null,
            "border": null,
            "bottom": null,
            "display": null,
            "flex": null,
            "flex_flow": null,
            "grid_area": null,
            "grid_auto_columns": null,
            "grid_auto_flow": null,
            "grid_auto_rows": null,
            "grid_column": null,
            "grid_gap": null,
            "grid_row": null,
            "grid_template_areas": null,
            "grid_template_columns": null,
            "grid_template_rows": null,
            "height": null,
            "justify_content": null,
            "justify_items": null,
            "left": null,
            "margin": null,
            "max_height": null,
            "max_width": null,
            "min_height": null,
            "min_width": null,
            "object_fit": null,
            "object_position": null,
            "order": null,
            "overflow": null,
            "overflow_x": null,
            "overflow_y": null,
            "padding": null,
            "right": null,
            "top": null,
            "visibility": null,
            "width": null
          }
        },
        "bf5cf19a36814bb5a50471aa2399cc43": {
          "model_module": "@jupyter-widgets/controls",
          "model_name": "DescriptionStyleModel",
          "model_module_version": "1.5.0",
          "state": {
            "_model_module": "@jupyter-widgets/controls",
            "_model_module_version": "1.5.0",
            "_model_name": "DescriptionStyleModel",
            "_view_count": null,
            "_view_module": "@jupyter-widgets/base",
            "_view_module_version": "1.2.0",
            "_view_name": "StyleView",
            "description_width": ""
          }
        },
        "be540dbea3934ab98e01cf0856132890": {
          "model_module": "@jupyter-widgets/base",
          "model_name": "LayoutModel",
          "model_module_version": "1.2.0",
          "state": {
            "_model_module": "@jupyter-widgets/base",
            "_model_module_version": "1.2.0",
            "_model_name": "LayoutModel",
            "_view_count": null,
            "_view_module": "@jupyter-widgets/base",
            "_view_module_version": "1.2.0",
            "_view_name": "LayoutView",
            "align_content": null,
            "align_items": null,
            "align_self": null,
            "border": null,
            "bottom": null,
            "display": null,
            "flex": null,
            "flex_flow": null,
            "grid_area": null,
            "grid_auto_columns": null,
            "grid_auto_flow": null,
            "grid_auto_rows": null,
            "grid_column": null,
            "grid_gap": null,
            "grid_row": null,
            "grid_template_areas": null,
            "grid_template_columns": null,
            "grid_template_rows": null,
            "height": null,
            "justify_content": null,
            "justify_items": null,
            "left": null,
            "margin": null,
            "max_height": null,
            "max_width": null,
            "min_height": null,
            "min_width": null,
            "object_fit": null,
            "object_position": null,
            "order": null,
            "overflow": null,
            "overflow_x": null,
            "overflow_y": null,
            "padding": null,
            "right": null,
            "top": null,
            "visibility": null,
            "width": null
          }
        },
        "259e13be6c67461a91d01c99b00b21a3": {
          "model_module": "@jupyter-widgets/controls",
          "model_name": "ProgressStyleModel",
          "model_module_version": "1.5.0",
          "state": {
            "_model_module": "@jupyter-widgets/controls",
            "_model_module_version": "1.5.0",
            "_model_name": "ProgressStyleModel",
            "_view_count": null,
            "_view_module": "@jupyter-widgets/base",
            "_view_module_version": "1.2.0",
            "_view_name": "StyleView",
            "bar_color": null,
            "description_width": ""
          }
        },
        "34b4948c300d40c8a0f9409c9dc58063": {
          "model_module": "@jupyter-widgets/base",
          "model_name": "LayoutModel",
          "model_module_version": "1.2.0",
          "state": {
            "_model_module": "@jupyter-widgets/base",
            "_model_module_version": "1.2.0",
            "_model_name": "LayoutModel",
            "_view_count": null,
            "_view_module": "@jupyter-widgets/base",
            "_view_module_version": "1.2.0",
            "_view_name": "LayoutView",
            "align_content": null,
            "align_items": null,
            "align_self": null,
            "border": null,
            "bottom": null,
            "display": null,
            "flex": null,
            "flex_flow": null,
            "grid_area": null,
            "grid_auto_columns": null,
            "grid_auto_flow": null,
            "grid_auto_rows": null,
            "grid_column": null,
            "grid_gap": null,
            "grid_row": null,
            "grid_template_areas": null,
            "grid_template_columns": null,
            "grid_template_rows": null,
            "height": null,
            "justify_content": null,
            "justify_items": null,
            "left": null,
            "margin": null,
            "max_height": null,
            "max_width": null,
            "min_height": null,
            "min_width": null,
            "object_fit": null,
            "object_position": null,
            "order": null,
            "overflow": null,
            "overflow_x": null,
            "overflow_y": null,
            "padding": null,
            "right": null,
            "top": null,
            "visibility": null,
            "width": null
          }
        },
        "6d30227bf8664360a8a135a6c031b1e1": {
          "model_module": "@jupyter-widgets/controls",
          "model_name": "DescriptionStyleModel",
          "model_module_version": "1.5.0",
          "state": {
            "_model_module": "@jupyter-widgets/controls",
            "_model_module_version": "1.5.0",
            "_model_name": "DescriptionStyleModel",
            "_view_count": null,
            "_view_module": "@jupyter-widgets/base",
            "_view_module_version": "1.2.0",
            "_view_name": "StyleView",
            "description_width": ""
          }
        },
        "60745412605b40829361ad17eb7b3b32": {
          "model_module": "@jupyter-widgets/controls",
          "model_name": "HBoxModel",
          "model_module_version": "1.5.0",
          "state": {
            "_dom_classes": [],
            "_model_module": "@jupyter-widgets/controls",
            "_model_module_version": "1.5.0",
            "_model_name": "HBoxModel",
            "_view_count": null,
            "_view_module": "@jupyter-widgets/controls",
            "_view_module_version": "1.5.0",
            "_view_name": "HBoxView",
            "box_style": "",
            "children": [
              "IPY_MODEL_9455f15461374a8a94e99c320b711ba3",
              "IPY_MODEL_8584df57dad743d7891e21cc0b2ce03d",
              "IPY_MODEL_4417146ce4d746cea76f1aabe5635e1e"
            ],
            "layout": "IPY_MODEL_fcda58548aec4594a437425ca2e7211e"
          }
        },
        "9455f15461374a8a94e99c320b711ba3": {
          "model_module": "@jupyter-widgets/controls",
          "model_name": "HTMLModel",
          "model_module_version": "1.5.0",
          "state": {
            "_dom_classes": [],
            "_model_module": "@jupyter-widgets/controls",
            "_model_module_version": "1.5.0",
            "_model_name": "HTMLModel",
            "_view_count": null,
            "_view_module": "@jupyter-widgets/controls",
            "_view_module_version": "1.5.0",
            "_view_name": "HTMLView",
            "description": "",
            "description_tooltip": null,
            "layout": "IPY_MODEL_f79cd37c186d432bb99bee208d24146a",
            "placeholder": "​",
            "style": "IPY_MODEL_6021c3ea22b0498ca8a860b895878750",
            "value": "Generating validation split:  98%"
          }
        },
        "8584df57dad743d7891e21cc0b2ce03d": {
          "model_module": "@jupyter-widgets/controls",
          "model_name": "FloatProgressModel",
          "model_module_version": "1.5.0",
          "state": {
            "_dom_classes": [],
            "_model_module": "@jupyter-widgets/controls",
            "_model_module_version": "1.5.0",
            "_model_name": "FloatProgressModel",
            "_view_count": null,
            "_view_module": "@jupyter-widgets/controls",
            "_view_module_version": "1.5.0",
            "_view_name": "ProgressView",
            "bar_style": "",
            "description": "",
            "description_tooltip": null,
            "layout": "IPY_MODEL_345578e3fdb0423eaa5cff0e7071b56c",
            "max": 10047,
            "min": 0,
            "orientation": "horizontal",
            "style": "IPY_MODEL_bf6f2ecbb1b94972ad07b64ec932c915",
            "value": 10047
          }
        },
        "4417146ce4d746cea76f1aabe5635e1e": {
          "model_module": "@jupyter-widgets/controls",
          "model_name": "HTMLModel",
          "model_module_version": "1.5.0",
          "state": {
            "_dom_classes": [],
            "_model_module": "@jupyter-widgets/controls",
            "_model_module_version": "1.5.0",
            "_model_name": "HTMLModel",
            "_view_count": null,
            "_view_module": "@jupyter-widgets/controls",
            "_view_module_version": "1.5.0",
            "_view_name": "HTMLView",
            "description": "",
            "description_tooltip": null,
            "layout": "IPY_MODEL_46890e6623484e1290fbc62d8480ccc7",
            "placeholder": "​",
            "style": "IPY_MODEL_85de3ce9a0c44f08bd6a9594b96335f2",
            "value": " 9867/10047 [00:03&lt;00:00, 3507.47 examples/s]"
          }
        },
        "fcda58548aec4594a437425ca2e7211e": {
          "model_module": "@jupyter-widgets/base",
          "model_name": "LayoutModel",
          "model_module_version": "1.2.0",
          "state": {
            "_model_module": "@jupyter-widgets/base",
            "_model_module_version": "1.2.0",
            "_model_name": "LayoutModel",
            "_view_count": null,
            "_view_module": "@jupyter-widgets/base",
            "_view_module_version": "1.2.0",
            "_view_name": "LayoutView",
            "align_content": null,
            "align_items": null,
            "align_self": null,
            "border": null,
            "bottom": null,
            "display": null,
            "flex": null,
            "flex_flow": null,
            "grid_area": null,
            "grid_auto_columns": null,
            "grid_auto_flow": null,
            "grid_auto_rows": null,
            "grid_column": null,
            "grid_gap": null,
            "grid_row": null,
            "grid_template_areas": null,
            "grid_template_columns": null,
            "grid_template_rows": null,
            "height": null,
            "justify_content": null,
            "justify_items": null,
            "left": null,
            "margin": null,
            "max_height": null,
            "max_width": null,
            "min_height": null,
            "min_width": null,
            "object_fit": null,
            "object_position": null,
            "order": null,
            "overflow": null,
            "overflow_x": null,
            "overflow_y": null,
            "padding": null,
            "right": null,
            "top": null,
            "visibility": null,
            "width": null
          }
        },
        "f79cd37c186d432bb99bee208d24146a": {
          "model_module": "@jupyter-widgets/base",
          "model_name": "LayoutModel",
          "model_module_version": "1.2.0",
          "state": {
            "_model_module": "@jupyter-widgets/base",
            "_model_module_version": "1.2.0",
            "_model_name": "LayoutModel",
            "_view_count": null,
            "_view_module": "@jupyter-widgets/base",
            "_view_module_version": "1.2.0",
            "_view_name": "LayoutView",
            "align_content": null,
            "align_items": null,
            "align_self": null,
            "border": null,
            "bottom": null,
            "display": null,
            "flex": null,
            "flex_flow": null,
            "grid_area": null,
            "grid_auto_columns": null,
            "grid_auto_flow": null,
            "grid_auto_rows": null,
            "grid_column": null,
            "grid_gap": null,
            "grid_row": null,
            "grid_template_areas": null,
            "grid_template_columns": null,
            "grid_template_rows": null,
            "height": null,
            "justify_content": null,
            "justify_items": null,
            "left": null,
            "margin": null,
            "max_height": null,
            "max_width": null,
            "min_height": null,
            "min_width": null,
            "object_fit": null,
            "object_position": null,
            "order": null,
            "overflow": null,
            "overflow_x": null,
            "overflow_y": null,
            "padding": null,
            "right": null,
            "top": null,
            "visibility": null,
            "width": null
          }
        },
        "6021c3ea22b0498ca8a860b895878750": {
          "model_module": "@jupyter-widgets/controls",
          "model_name": "DescriptionStyleModel",
          "model_module_version": "1.5.0",
          "state": {
            "_model_module": "@jupyter-widgets/controls",
            "_model_module_version": "1.5.0",
            "_model_name": "DescriptionStyleModel",
            "_view_count": null,
            "_view_module": "@jupyter-widgets/base",
            "_view_module_version": "1.2.0",
            "_view_name": "StyleView",
            "description_width": ""
          }
        },
        "345578e3fdb0423eaa5cff0e7071b56c": {
          "model_module": "@jupyter-widgets/base",
          "model_name": "LayoutModel",
          "model_module_version": "1.2.0",
          "state": {
            "_model_module": "@jupyter-widgets/base",
            "_model_module_version": "1.2.0",
            "_model_name": "LayoutModel",
            "_view_count": null,
            "_view_module": "@jupyter-widgets/base",
            "_view_module_version": "1.2.0",
            "_view_name": "LayoutView",
            "align_content": null,
            "align_items": null,
            "align_self": null,
            "border": null,
            "bottom": null,
            "display": null,
            "flex": null,
            "flex_flow": null,
            "grid_area": null,
            "grid_auto_columns": null,
            "grid_auto_flow": null,
            "grid_auto_rows": null,
            "grid_column": null,
            "grid_gap": null,
            "grid_row": null,
            "grid_template_areas": null,
            "grid_template_columns": null,
            "grid_template_rows": null,
            "height": null,
            "justify_content": null,
            "justify_items": null,
            "left": null,
            "margin": null,
            "max_height": null,
            "max_width": null,
            "min_height": null,
            "min_width": null,
            "object_fit": null,
            "object_position": null,
            "order": null,
            "overflow": null,
            "overflow_x": null,
            "overflow_y": null,
            "padding": null,
            "right": null,
            "top": null,
            "visibility": null,
            "width": null
          }
        },
        "bf6f2ecbb1b94972ad07b64ec932c915": {
          "model_module": "@jupyter-widgets/controls",
          "model_name": "ProgressStyleModel",
          "model_module_version": "1.5.0",
          "state": {
            "_model_module": "@jupyter-widgets/controls",
            "_model_module_version": "1.5.0",
            "_model_name": "ProgressStyleModel",
            "_view_count": null,
            "_view_module": "@jupyter-widgets/base",
            "_view_module_version": "1.2.0",
            "_view_name": "StyleView",
            "bar_color": null,
            "description_width": ""
          }
        },
        "46890e6623484e1290fbc62d8480ccc7": {
          "model_module": "@jupyter-widgets/base",
          "model_name": "LayoutModel",
          "model_module_version": "1.2.0",
          "state": {
            "_model_module": "@jupyter-widgets/base",
            "_model_module_version": "1.2.0",
            "_model_name": "LayoutModel",
            "_view_count": null,
            "_view_module": "@jupyter-widgets/base",
            "_view_module_version": "1.2.0",
            "_view_name": "LayoutView",
            "align_content": null,
            "align_items": null,
            "align_self": null,
            "border": null,
            "bottom": null,
            "display": null,
            "flex": null,
            "flex_flow": null,
            "grid_area": null,
            "grid_auto_columns": null,
            "grid_auto_flow": null,
            "grid_auto_rows": null,
            "grid_column": null,
            "grid_gap": null,
            "grid_row": null,
            "grid_template_areas": null,
            "grid_template_columns": null,
            "grid_template_rows": null,
            "height": null,
            "justify_content": null,
            "justify_items": null,
            "left": null,
            "margin": null,
            "max_height": null,
            "max_width": null,
            "min_height": null,
            "min_width": null,
            "object_fit": null,
            "object_position": null,
            "order": null,
            "overflow": null,
            "overflow_x": null,
            "overflow_y": null,
            "padding": null,
            "right": null,
            "top": null,
            "visibility": null,
            "width": null
          }
        },
        "85de3ce9a0c44f08bd6a9594b96335f2": {
          "model_module": "@jupyter-widgets/controls",
          "model_name": "DescriptionStyleModel",
          "model_module_version": "1.5.0",
          "state": {
            "_model_module": "@jupyter-widgets/controls",
            "_model_module_version": "1.5.0",
            "_model_name": "DescriptionStyleModel",
            "_view_count": null,
            "_view_module": "@jupyter-widgets/base",
            "_view_module_version": "1.2.0",
            "_view_name": "StyleView",
            "description_width": ""
          }
        },
        "e85dad3bb5c74993b6afbd01abf38e6b": {
          "model_module": "@jupyter-widgets/controls",
          "model_name": "HBoxModel",
          "model_module_version": "1.5.0",
          "state": {
            "_dom_classes": [],
            "_model_module": "@jupyter-widgets/controls",
            "_model_module_version": "1.5.0",
            "_model_name": "HBoxModel",
            "_view_count": null,
            "_view_module": "@jupyter-widgets/controls",
            "_view_module_version": "1.5.0",
            "_view_name": "HBoxView",
            "box_style": "",
            "children": [
              "IPY_MODEL_cad1e7b908f24cddbae1561a7a22f5f3",
              "IPY_MODEL_763c44cd082b4138b61a473d7bf09bec",
              "IPY_MODEL_28d6709f14a348a39748c921582e93c5"
            ],
            "layout": "IPY_MODEL_e415c05a5cb54aaabd159dd63e5cba0d"
          }
        },
        "cad1e7b908f24cddbae1561a7a22f5f3": {
          "model_module": "@jupyter-widgets/controls",
          "model_name": "HTMLModel",
          "model_module_version": "1.5.0",
          "state": {
            "_dom_classes": [],
            "_model_module": "@jupyter-widgets/controls",
            "_model_module_version": "1.5.0",
            "_model_name": "HTMLModel",
            "_view_count": null,
            "_view_module": "@jupyter-widgets/controls",
            "_view_module_version": "1.5.0",
            "_view_name": "HTMLView",
            "description": "",
            "description_tooltip": null,
            "layout": "IPY_MODEL_3c270ca087754d96a6a26c57f62055dc",
            "placeholder": "​",
            "style": "IPY_MODEL_4cf1a1479fb74dbc95af5e2db47fc680",
            "value": "Generating train split: 100%"
          }
        },
        "763c44cd082b4138b61a473d7bf09bec": {
          "model_module": "@jupyter-widgets/controls",
          "model_name": "FloatProgressModel",
          "model_module_version": "1.5.0",
          "state": {
            "_dom_classes": [],
            "_model_module": "@jupyter-widgets/controls",
            "_model_module_version": "1.5.0",
            "_model_name": "FloatProgressModel",
            "_view_count": null,
            "_view_module": "@jupyter-widgets/controls",
            "_view_module_version": "1.5.0",
            "_view_name": "ProgressView",
            "bar_style": "",
            "description": "",
            "description_tooltip": null,
            "layout": "IPY_MODEL_ccf3e18b230a41118ce2d93b7915f1e0",
            "max": 82326,
            "min": 0,
            "orientation": "horizontal",
            "style": "IPY_MODEL_10a8f06a39a446af86e147da8f6d6001",
            "value": 82326
          }
        },
        "28d6709f14a348a39748c921582e93c5": {
          "model_module": "@jupyter-widgets/controls",
          "model_name": "HTMLModel",
          "model_module_version": "1.5.0",
          "state": {
            "_dom_classes": [],
            "_model_module": "@jupyter-widgets/controls",
            "_model_module_version": "1.5.0",
            "_model_name": "HTMLModel",
            "_view_count": null,
            "_view_module": "@jupyter-widgets/controls",
            "_view_module_version": "1.5.0",
            "_view_name": "HTMLView",
            "description": "",
            "description_tooltip": null,
            "layout": "IPY_MODEL_e156bc0d9bd343e4b792d43a3ea5b5a5",
            "placeholder": "​",
            "style": "IPY_MODEL_1e06a25c48f7429caa48a29ffea2eca3",
            "value": " 82209/82326 [00:30&lt;00:00, 3060.85 examples/s]"
          }
        },
        "e415c05a5cb54aaabd159dd63e5cba0d": {
          "model_module": "@jupyter-widgets/base",
          "model_name": "LayoutModel",
          "model_module_version": "1.2.0",
          "state": {
            "_model_module": "@jupyter-widgets/base",
            "_model_module_version": "1.2.0",
            "_model_name": "LayoutModel",
            "_view_count": null,
            "_view_module": "@jupyter-widgets/base",
            "_view_module_version": "1.2.0",
            "_view_name": "LayoutView",
            "align_content": null,
            "align_items": null,
            "align_self": null,
            "border": null,
            "bottom": null,
            "display": null,
            "flex": null,
            "flex_flow": null,
            "grid_area": null,
            "grid_auto_columns": null,
            "grid_auto_flow": null,
            "grid_auto_rows": null,
            "grid_column": null,
            "grid_gap": null,
            "grid_row": null,
            "grid_template_areas": null,
            "grid_template_columns": null,
            "grid_template_rows": null,
            "height": null,
            "justify_content": null,
            "justify_items": null,
            "left": null,
            "margin": null,
            "max_height": null,
            "max_width": null,
            "min_height": null,
            "min_width": null,
            "object_fit": null,
            "object_position": null,
            "order": null,
            "overflow": null,
            "overflow_x": null,
            "overflow_y": null,
            "padding": null,
            "right": null,
            "top": null,
            "visibility": null,
            "width": null
          }
        },
        "3c270ca087754d96a6a26c57f62055dc": {
          "model_module": "@jupyter-widgets/base",
          "model_name": "LayoutModel",
          "model_module_version": "1.2.0",
          "state": {
            "_model_module": "@jupyter-widgets/base",
            "_model_module_version": "1.2.0",
            "_model_name": "LayoutModel",
            "_view_count": null,
            "_view_module": "@jupyter-widgets/base",
            "_view_module_version": "1.2.0",
            "_view_name": "LayoutView",
            "align_content": null,
            "align_items": null,
            "align_self": null,
            "border": null,
            "bottom": null,
            "display": null,
            "flex": null,
            "flex_flow": null,
            "grid_area": null,
            "grid_auto_columns": null,
            "grid_auto_flow": null,
            "grid_auto_rows": null,
            "grid_column": null,
            "grid_gap": null,
            "grid_row": null,
            "grid_template_areas": null,
            "grid_template_columns": null,
            "grid_template_rows": null,
            "height": null,
            "justify_content": null,
            "justify_items": null,
            "left": null,
            "margin": null,
            "max_height": null,
            "max_width": null,
            "min_height": null,
            "min_width": null,
            "object_fit": null,
            "object_position": null,
            "order": null,
            "overflow": null,
            "overflow_x": null,
            "overflow_y": null,
            "padding": null,
            "right": null,
            "top": null,
            "visibility": null,
            "width": null
          }
        },
        "4cf1a1479fb74dbc95af5e2db47fc680": {
          "model_module": "@jupyter-widgets/controls",
          "model_name": "DescriptionStyleModel",
          "model_module_version": "1.5.0",
          "state": {
            "_model_module": "@jupyter-widgets/controls",
            "_model_module_version": "1.5.0",
            "_model_name": "DescriptionStyleModel",
            "_view_count": null,
            "_view_module": "@jupyter-widgets/base",
            "_view_module_version": "1.2.0",
            "_view_name": "StyleView",
            "description_width": ""
          }
        },
        "ccf3e18b230a41118ce2d93b7915f1e0": {
          "model_module": "@jupyter-widgets/base",
          "model_name": "LayoutModel",
          "model_module_version": "1.2.0",
          "state": {
            "_model_module": "@jupyter-widgets/base",
            "_model_module_version": "1.2.0",
            "_model_name": "LayoutModel",
            "_view_count": null,
            "_view_module": "@jupyter-widgets/base",
            "_view_module_version": "1.2.0",
            "_view_name": "LayoutView",
            "align_content": null,
            "align_items": null,
            "align_self": null,
            "border": null,
            "bottom": null,
            "display": null,
            "flex": null,
            "flex_flow": null,
            "grid_area": null,
            "grid_auto_columns": null,
            "grid_auto_flow": null,
            "grid_auto_rows": null,
            "grid_column": null,
            "grid_gap": null,
            "grid_row": null,
            "grid_template_areas": null,
            "grid_template_columns": null,
            "grid_template_rows": null,
            "height": null,
            "justify_content": null,
            "justify_items": null,
            "left": null,
            "margin": null,
            "max_height": null,
            "max_width": null,
            "min_height": null,
            "min_width": null,
            "object_fit": null,
            "object_position": null,
            "order": null,
            "overflow": null,
            "overflow_x": null,
            "overflow_y": null,
            "padding": null,
            "right": null,
            "top": null,
            "visibility": null,
            "width": null
          }
        },
        "10a8f06a39a446af86e147da8f6d6001": {
          "model_module": "@jupyter-widgets/controls",
          "model_name": "ProgressStyleModel",
          "model_module_version": "1.5.0",
          "state": {
            "_model_module": "@jupyter-widgets/controls",
            "_model_module_version": "1.5.0",
            "_model_name": "ProgressStyleModel",
            "_view_count": null,
            "_view_module": "@jupyter-widgets/base",
            "_view_module_version": "1.2.0",
            "_view_name": "StyleView",
            "bar_color": null,
            "description_width": ""
          }
        },
        "e156bc0d9bd343e4b792d43a3ea5b5a5": {
          "model_module": "@jupyter-widgets/base",
          "model_name": "LayoutModel",
          "model_module_version": "1.2.0",
          "state": {
            "_model_module": "@jupyter-widgets/base",
            "_model_module_version": "1.2.0",
            "_model_name": "LayoutModel",
            "_view_count": null,
            "_view_module": "@jupyter-widgets/base",
            "_view_module_version": "1.2.0",
            "_view_name": "LayoutView",
            "align_content": null,
            "align_items": null,
            "align_self": null,
            "border": null,
            "bottom": null,
            "display": null,
            "flex": null,
            "flex_flow": null,
            "grid_area": null,
            "grid_auto_columns": null,
            "grid_auto_flow": null,
            "grid_auto_rows": null,
            "grid_column": null,
            "grid_gap": null,
            "grid_row": null,
            "grid_template_areas": null,
            "grid_template_columns": null,
            "grid_template_rows": null,
            "height": null,
            "justify_content": null,
            "justify_items": null,
            "left": null,
            "margin": null,
            "max_height": null,
            "max_width": null,
            "min_height": null,
            "min_width": null,
            "object_fit": null,
            "object_position": null,
            "order": null,
            "overflow": null,
            "overflow_x": null,
            "overflow_y": null,
            "padding": null,
            "right": null,
            "top": null,
            "visibility": null,
            "width": null
          }
        },
        "1e06a25c48f7429caa48a29ffea2eca3": {
          "model_module": "@jupyter-widgets/controls",
          "model_name": "DescriptionStyleModel",
          "model_module_version": "1.5.0",
          "state": {
            "_model_module": "@jupyter-widgets/controls",
            "_model_module_version": "1.5.0",
            "_model_name": "DescriptionStyleModel",
            "_view_count": null,
            "_view_module": "@jupyter-widgets/base",
            "_view_module_version": "1.2.0",
            "_view_name": "StyleView",
            "description_width": ""
          }
        },
        "de165bd7151f4af38c7858a1ac5c2dc3": {
          "model_module": "@jupyter-widgets/controls",
          "model_name": "HBoxModel",
          "model_module_version": "1.5.0",
          "state": {
            "_dom_classes": [],
            "_model_module": "@jupyter-widgets/controls",
            "_model_module_version": "1.5.0",
            "_model_name": "HBoxModel",
            "_view_count": null,
            "_view_module": "@jupyter-widgets/controls",
            "_view_module_version": "1.5.0",
            "_view_name": "HBoxView",
            "box_style": "",
            "children": [
              "IPY_MODEL_8e659da71bbf48f8858b179e65fa3627",
              "IPY_MODEL_19d7e7cd65f04b7f9b1dfbd05ff64698",
              "IPY_MODEL_7d3ab48580b04069b27ba8a91d7db6a7"
            ],
            "layout": "IPY_MODEL_8113b7496af6434380c1a62b178b8ab7"
          }
        },
        "8e659da71bbf48f8858b179e65fa3627": {
          "model_module": "@jupyter-widgets/controls",
          "model_name": "HTMLModel",
          "model_module_version": "1.5.0",
          "state": {
            "_dom_classes": [],
            "_model_module": "@jupyter-widgets/controls",
            "_model_module_version": "1.5.0",
            "_model_name": "HTMLModel",
            "_view_count": null,
            "_view_module": "@jupyter-widgets/controls",
            "_view_module_version": "1.5.0",
            "_view_name": "HTMLView",
            "description": "",
            "description_tooltip": null,
            "layout": "IPY_MODEL_eda55b802d224c13a71335130252853d",
            "placeholder": "​",
            "style": "IPY_MODEL_8da422c37cca415188087d72d51ce422",
            "value": "Generating test split: 100%"
          }
        },
        "19d7e7cd65f04b7f9b1dfbd05ff64698": {
          "model_module": "@jupyter-widgets/controls",
          "model_name": "FloatProgressModel",
          "model_module_version": "1.5.0",
          "state": {
            "_dom_classes": [],
            "_model_module": "@jupyter-widgets/controls",
            "_model_module_version": "1.5.0",
            "_model_name": "FloatProgressModel",
            "_view_count": null,
            "_view_module": "@jupyter-widgets/controls",
            "_view_module_version": "1.5.0",
            "_view_name": "ProgressView",
            "bar_style": "",
            "description": "",
            "description_tooltip": null,
            "layout": "IPY_MODEL_70bed5af8043470fa10dc9673985f561",
            "max": 9650,
            "min": 0,
            "orientation": "horizontal",
            "style": "IPY_MODEL_075b2a3715254c7fb5957c1a7e69d337",
            "value": 9650
          }
        },
        "7d3ab48580b04069b27ba8a91d7db6a7": {
          "model_module": "@jupyter-widgets/controls",
          "model_name": "HTMLModel",
          "model_module_version": "1.5.0",
          "state": {
            "_dom_classes": [],
            "_model_module": "@jupyter-widgets/controls",
            "_model_module_version": "1.5.0",
            "_model_name": "HTMLModel",
            "_view_count": null,
            "_view_module": "@jupyter-widgets/controls",
            "_view_module_version": "1.5.0",
            "_view_name": "HTMLView",
            "description": "",
            "description_tooltip": null,
            "layout": "IPY_MODEL_cce3314c54434f338a4a78b75764cc70",
            "placeholder": "​",
            "style": "IPY_MODEL_e61457b7d473429b82fa0dbcb2ca07db",
            "value": " 9646/9650 [00:03&lt;00:00, 3621.71 examples/s]"
          }
        },
        "8113b7496af6434380c1a62b178b8ab7": {
          "model_module": "@jupyter-widgets/base",
          "model_name": "LayoutModel",
          "model_module_version": "1.2.0",
          "state": {
            "_model_module": "@jupyter-widgets/base",
            "_model_module_version": "1.2.0",
            "_model_name": "LayoutModel",
            "_view_count": null,
            "_view_module": "@jupyter-widgets/base",
            "_view_module_version": "1.2.0",
            "_view_name": "LayoutView",
            "align_content": null,
            "align_items": null,
            "align_self": null,
            "border": null,
            "bottom": null,
            "display": null,
            "flex": null,
            "flex_flow": null,
            "grid_area": null,
            "grid_auto_columns": null,
            "grid_auto_flow": null,
            "grid_auto_rows": null,
            "grid_column": null,
            "grid_gap": null,
            "grid_row": null,
            "grid_template_areas": null,
            "grid_template_columns": null,
            "grid_template_rows": null,
            "height": null,
            "justify_content": null,
            "justify_items": null,
            "left": null,
            "margin": null,
            "max_height": null,
            "max_width": null,
            "min_height": null,
            "min_width": null,
            "object_fit": null,
            "object_position": null,
            "order": null,
            "overflow": null,
            "overflow_x": null,
            "overflow_y": null,
            "padding": null,
            "right": null,
            "top": null,
            "visibility": null,
            "width": null
          }
        },
        "eda55b802d224c13a71335130252853d": {
          "model_module": "@jupyter-widgets/base",
          "model_name": "LayoutModel",
          "model_module_version": "1.2.0",
          "state": {
            "_model_module": "@jupyter-widgets/base",
            "_model_module_version": "1.2.0",
            "_model_name": "LayoutModel",
            "_view_count": null,
            "_view_module": "@jupyter-widgets/base",
            "_view_module_version": "1.2.0",
            "_view_name": "LayoutView",
            "align_content": null,
            "align_items": null,
            "align_self": null,
            "border": null,
            "bottom": null,
            "display": null,
            "flex": null,
            "flex_flow": null,
            "grid_area": null,
            "grid_auto_columns": null,
            "grid_auto_flow": null,
            "grid_auto_rows": null,
            "grid_column": null,
            "grid_gap": null,
            "grid_row": null,
            "grid_template_areas": null,
            "grid_template_columns": null,
            "grid_template_rows": null,
            "height": null,
            "justify_content": null,
            "justify_items": null,
            "left": null,
            "margin": null,
            "max_height": null,
            "max_width": null,
            "min_height": null,
            "min_width": null,
            "object_fit": null,
            "object_position": null,
            "order": null,
            "overflow": null,
            "overflow_x": null,
            "overflow_y": null,
            "padding": null,
            "right": null,
            "top": null,
            "visibility": null,
            "width": null
          }
        },
        "8da422c37cca415188087d72d51ce422": {
          "model_module": "@jupyter-widgets/controls",
          "model_name": "DescriptionStyleModel",
          "model_module_version": "1.5.0",
          "state": {
            "_model_module": "@jupyter-widgets/controls",
            "_model_module_version": "1.5.0",
            "_model_name": "DescriptionStyleModel",
            "_view_count": null,
            "_view_module": "@jupyter-widgets/base",
            "_view_module_version": "1.2.0",
            "_view_name": "StyleView",
            "description_width": ""
          }
        },
        "70bed5af8043470fa10dc9673985f561": {
          "model_module": "@jupyter-widgets/base",
          "model_name": "LayoutModel",
          "model_module_version": "1.2.0",
          "state": {
            "_model_module": "@jupyter-widgets/base",
            "_model_module_version": "1.2.0",
            "_model_name": "LayoutModel",
            "_view_count": null,
            "_view_module": "@jupyter-widgets/base",
            "_view_module_version": "1.2.0",
            "_view_name": "LayoutView",
            "align_content": null,
            "align_items": null,
            "align_self": null,
            "border": null,
            "bottom": null,
            "display": null,
            "flex": null,
            "flex_flow": null,
            "grid_area": null,
            "grid_auto_columns": null,
            "grid_auto_flow": null,
            "grid_auto_rows": null,
            "grid_column": null,
            "grid_gap": null,
            "grid_row": null,
            "grid_template_areas": null,
            "grid_template_columns": null,
            "grid_template_rows": null,
            "height": null,
            "justify_content": null,
            "justify_items": null,
            "left": null,
            "margin": null,
            "max_height": null,
            "max_width": null,
            "min_height": null,
            "min_width": null,
            "object_fit": null,
            "object_position": null,
            "order": null,
            "overflow": null,
            "overflow_x": null,
            "overflow_y": null,
            "padding": null,
            "right": null,
            "top": null,
            "visibility": null,
            "width": null
          }
        },
        "075b2a3715254c7fb5957c1a7e69d337": {
          "model_module": "@jupyter-widgets/controls",
          "model_name": "ProgressStyleModel",
          "model_module_version": "1.5.0",
          "state": {
            "_model_module": "@jupyter-widgets/controls",
            "_model_module_version": "1.5.0",
            "_model_name": "ProgressStyleModel",
            "_view_count": null,
            "_view_module": "@jupyter-widgets/base",
            "_view_module_version": "1.2.0",
            "_view_name": "StyleView",
            "bar_color": null,
            "description_width": ""
          }
        },
        "cce3314c54434f338a4a78b75764cc70": {
          "model_module": "@jupyter-widgets/base",
          "model_name": "LayoutModel",
          "model_module_version": "1.2.0",
          "state": {
            "_model_module": "@jupyter-widgets/base",
            "_model_module_version": "1.2.0",
            "_model_name": "LayoutModel",
            "_view_count": null,
            "_view_module": "@jupyter-widgets/base",
            "_view_module_version": "1.2.0",
            "_view_name": "LayoutView",
            "align_content": null,
            "align_items": null,
            "align_self": null,
            "border": null,
            "bottom": null,
            "display": null,
            "flex": null,
            "flex_flow": null,
            "grid_area": null,
            "grid_auto_columns": null,
            "grid_auto_flow": null,
            "grid_auto_rows": null,
            "grid_column": null,
            "grid_gap": null,
            "grid_row": null,
            "grid_template_areas": null,
            "grid_template_columns": null,
            "grid_template_rows": null,
            "height": null,
            "justify_content": null,
            "justify_items": null,
            "left": null,
            "margin": null,
            "max_height": null,
            "max_width": null,
            "min_height": null,
            "min_width": null,
            "object_fit": null,
            "object_position": null,
            "order": null,
            "overflow": null,
            "overflow_x": null,
            "overflow_y": null,
            "padding": null,
            "right": null,
            "top": null,
            "visibility": null,
            "width": null
          }
        },
        "e61457b7d473429b82fa0dbcb2ca07db": {
          "model_module": "@jupyter-widgets/controls",
          "model_name": "DescriptionStyleModel",
          "model_module_version": "1.5.0",
          "state": {
            "_model_module": "@jupyter-widgets/controls",
            "_model_module_version": "1.5.0",
            "_model_name": "DescriptionStyleModel",
            "_view_count": null,
            "_view_module": "@jupyter-widgets/base",
            "_view_module_version": "1.2.0",
            "_view_name": "StyleView",
            "description_width": ""
          }
        }
      }
    }
  },
  "cells": [
    {
      "cell_type": "markdown",
      "source": [
        "[![Open In Colab](https://colab.research.google.com/assets/colab-badge.svg)](https://colab.research.google.com/drive/1y_VpfrOomKm33b6BxlmeNj09JEbV1b2a?usp=sharing)"
      ],
      "metadata": {
        "id": "Yuka_9_b8EMh"
      }
    },
    {
      "cell_type": "code",
      "execution_count": null,
      "metadata": {
        "colab": {
          "base_uri": "https://localhost:8080/"
        },
        "id": "zbRqJOpI3Ktu",
        "outputId": "85d0f27f-c1b9-4bed-b29a-a2644a7f33e4"
      },
      "outputs": [
        {
          "output_type": "stream",
          "name": "stdout",
          "text": [
            "Cloning into 'search-engine'...\n",
            "remote: Enumerating objects: 284, done.\u001b[K\n",
            "remote: Counting objects: 100% (21/21), done.\u001b[K\n",
            "remote: Compressing objects: 100% (17/17), done.\u001b[K\n",
            "remote: Total 284 (delta 7), reused 7 (delta 4), pack-reused 263\u001b[K\n",
            "Receiving objects: 100% (284/284), 3.76 MiB | 19.42 MiB/s, done.\n",
            "Resolving deltas: 100% (155/155), done.\n"
          ]
        }
      ],
      "source": [
        "! git clone https://github.com/geosarr/search-engine"
      ]
    },
    {
      "cell_type": "code",
      "source": [
        "# !rm -r search-engine/"
      ],
      "metadata": {
        "id": "q5-yIxHFWcja"
      },
      "execution_count": null,
      "outputs": []
    },
    {
      "cell_type": "code",
      "source": [
        "! pip install datasets\n",
        "! pip install gensim --upgrade\n",
        "! pip install nltk\n",
        "! pip install tqdm"
      ],
      "metadata": {
        "colab": {
          "base_uri": "https://localhost:8080/"
        },
        "id": "tDxqx9zL3dxj",
        "outputId": "5a6a3fd3-e0b1-4ae9-ad8a-36b696b5fd22"
      },
      "execution_count": null,
      "outputs": [
        {
          "output_type": "stream",
          "name": "stdout",
          "text": [
            "Collecting datasets\n",
            "  Downloading datasets-2.1.0-py3-none-any.whl (325 kB)\n",
            "\u001b[?25l\r\u001b[K     |█                               | 10 kB 18.2 MB/s eta 0:00:01\r\u001b[K     |██                              | 20 kB 15.3 MB/s eta 0:00:01\r\u001b[K     |███                             | 30 kB 20.0 MB/s eta 0:00:01\r\u001b[K     |████                            | 40 kB 15.0 MB/s eta 0:00:01\r\u001b[K     |█████                           | 51 kB 5.6 MB/s eta 0:00:01\r\u001b[K     |██████                          | 61 kB 6.6 MB/s eta 0:00:01\r\u001b[K     |███████                         | 71 kB 5.7 MB/s eta 0:00:01\r\u001b[K     |████████                        | 81 kB 4.6 MB/s eta 0:00:01\r\u001b[K     |█████████                       | 92 kB 5.0 MB/s eta 0:00:01\r\u001b[K     |██████████                      | 102 kB 5.5 MB/s eta 0:00:01\r\u001b[K     |███████████                     | 112 kB 5.5 MB/s eta 0:00:01\r\u001b[K     |████████████                    | 122 kB 5.5 MB/s eta 0:00:01\r\u001b[K     |█████████████                   | 133 kB 5.5 MB/s eta 0:00:01\r\u001b[K     |██████████████                  | 143 kB 5.5 MB/s eta 0:00:01\r\u001b[K     |███████████████                 | 153 kB 5.5 MB/s eta 0:00:01\r\u001b[K     |████████████████▏               | 163 kB 5.5 MB/s eta 0:00:01\r\u001b[K     |█████████████████▏              | 174 kB 5.5 MB/s eta 0:00:01\r\u001b[K     |██████████████████▏             | 184 kB 5.5 MB/s eta 0:00:01\r\u001b[K     |███████████████████▏            | 194 kB 5.5 MB/s eta 0:00:01\r\u001b[K     |████████████████████▏           | 204 kB 5.5 MB/s eta 0:00:01\r\u001b[K     |█████████████████████▏          | 215 kB 5.5 MB/s eta 0:00:01\r\u001b[K     |██████████████████████▏         | 225 kB 5.5 MB/s eta 0:00:01\r\u001b[K     |███████████████████████▏        | 235 kB 5.5 MB/s eta 0:00:01\r\u001b[K     |████████████████████████▏       | 245 kB 5.5 MB/s eta 0:00:01\r\u001b[K     |█████████████████████████▏      | 256 kB 5.5 MB/s eta 0:00:01\r\u001b[K     |██████████████████████████▏     | 266 kB 5.5 MB/s eta 0:00:01\r\u001b[K     |███████████████████████████▏    | 276 kB 5.5 MB/s eta 0:00:01\r\u001b[K     |████████████████████████████▏   | 286 kB 5.5 MB/s eta 0:00:01\r\u001b[K     |█████████████████████████████▏  | 296 kB 5.5 MB/s eta 0:00:01\r\u001b[K     |██████████████████████████████▏ | 307 kB 5.5 MB/s eta 0:00:01\r\u001b[K     |███████████████████████████████▏| 317 kB 5.5 MB/s eta 0:00:01\r\u001b[K     |████████████████████████████████| 325 kB 5.5 MB/s \n",
            "\u001b[?25hRequirement already satisfied: tqdm>=4.62.1 in /usr/local/lib/python3.7/dist-packages (from datasets) (4.64.0)\n",
            "Collecting aiohttp\n",
            "  Downloading aiohttp-3.8.1-cp37-cp37m-manylinux_2_5_x86_64.manylinux1_x86_64.manylinux_2_12_x86_64.manylinux2010_x86_64.whl (1.1 MB)\n",
            "\u001b[K     |████████████████████████████████| 1.1 MB 42.3 MB/s \n",
            "\u001b[?25hRequirement already satisfied: requests>=2.19.0 in /usr/local/lib/python3.7/dist-packages (from datasets) (2.23.0)\n",
            "Requirement already satisfied: numpy>=1.17 in /usr/local/lib/python3.7/dist-packages (from datasets) (1.21.6)\n",
            "Requirement already satisfied: multiprocess in /usr/local/lib/python3.7/dist-packages (from datasets) (0.70.12.2)\n",
            "Collecting huggingface-hub<1.0.0,>=0.1.0\n",
            "  Downloading huggingface_hub-0.5.1-py3-none-any.whl (77 kB)\n",
            "\u001b[K     |████████████████████████████████| 77 kB 5.7 MB/s \n",
            "\u001b[?25hRequirement already satisfied: importlib-metadata in /usr/local/lib/python3.7/dist-packages (from datasets) (4.11.3)\n",
            "Requirement already satisfied: pyarrow>=5.0.0 in /usr/local/lib/python3.7/dist-packages (from datasets) (6.0.1)\n",
            "Requirement already satisfied: dill in /usr/local/lib/python3.7/dist-packages (from datasets) (0.3.4)\n",
            "Collecting fsspec[http]>=2021.05.0\n",
            "  Downloading fsspec-2022.3.0-py3-none-any.whl (136 kB)\n",
            "\u001b[K     |████████████████████████████████| 136 kB 48.1 MB/s \n",
            "\u001b[?25hRequirement already satisfied: pandas in /usr/local/lib/python3.7/dist-packages (from datasets) (1.3.5)\n",
            "Collecting responses<0.19\n",
            "  Downloading responses-0.18.0-py3-none-any.whl (38 kB)\n",
            "Requirement already satisfied: packaging in /usr/local/lib/python3.7/dist-packages (from datasets) (21.3)\n",
            "Collecting xxhash\n",
            "  Downloading xxhash-3.0.0-cp37-cp37m-manylinux_2_17_x86_64.manylinux2014_x86_64.whl (212 kB)\n",
            "\u001b[K     |████████████████████████████████| 212 kB 26.7 MB/s \n",
            "\u001b[?25hRequirement already satisfied: pyyaml in /usr/local/lib/python3.7/dist-packages (from huggingface-hub<1.0.0,>=0.1.0->datasets) (3.13)\n",
            "Requirement already satisfied: filelock in /usr/local/lib/python3.7/dist-packages (from huggingface-hub<1.0.0,>=0.1.0->datasets) (3.6.0)\n",
            "Requirement already satisfied: typing-extensions>=3.7.4.3 in /usr/local/lib/python3.7/dist-packages (from huggingface-hub<1.0.0,>=0.1.0->datasets) (4.1.1)\n",
            "Requirement already satisfied: pyparsing!=3.0.5,>=2.0.2 in /usr/local/lib/python3.7/dist-packages (from packaging->datasets) (3.0.8)\n",
            "Requirement already satisfied: idna<3,>=2.5 in /usr/local/lib/python3.7/dist-packages (from requests>=2.19.0->datasets) (2.10)\n",
            "Requirement already satisfied: chardet<4,>=3.0.2 in /usr/local/lib/python3.7/dist-packages (from requests>=2.19.0->datasets) (3.0.4)\n",
            "Requirement already satisfied: urllib3!=1.25.0,!=1.25.1,<1.26,>=1.21.1 in /usr/local/lib/python3.7/dist-packages (from requests>=2.19.0->datasets) (1.24.3)\n",
            "Requirement already satisfied: certifi>=2017.4.17 in /usr/local/lib/python3.7/dist-packages (from requests>=2.19.0->datasets) (2021.10.8)\n",
            "Collecting urllib3!=1.25.0,!=1.25.1,<1.26,>=1.21.1\n",
            "  Downloading urllib3-1.25.11-py2.py3-none-any.whl (127 kB)\n",
            "\u001b[K     |████████████████████████████████| 127 kB 47.2 MB/s \n",
            "\u001b[?25hRequirement already satisfied: charset-normalizer<3.0,>=2.0 in /usr/local/lib/python3.7/dist-packages (from aiohttp->datasets) (2.0.12)\n",
            "Collecting multidict<7.0,>=4.5\n",
            "  Downloading multidict-6.0.2-cp37-cp37m-manylinux_2_17_x86_64.manylinux2014_x86_64.whl (94 kB)\n",
            "\u001b[K     |████████████████████████████████| 94 kB 497 kB/s \n",
            "\u001b[?25hCollecting frozenlist>=1.1.1\n",
            "  Downloading frozenlist-1.3.0-cp37-cp37m-manylinux_2_5_x86_64.manylinux1_x86_64.manylinux_2_17_x86_64.manylinux2014_x86_64.whl (144 kB)\n",
            "\u001b[K     |████████████████████████████████| 144 kB 40.4 MB/s \n",
            "\u001b[?25hCollecting asynctest==0.13.0\n",
            "  Downloading asynctest-0.13.0-py3-none-any.whl (26 kB)\n",
            "Collecting async-timeout<5.0,>=4.0.0a3\n",
            "  Downloading async_timeout-4.0.2-py3-none-any.whl (5.8 kB)\n",
            "Collecting yarl<2.0,>=1.0\n",
            "  Downloading yarl-1.7.2-cp37-cp37m-manylinux_2_5_x86_64.manylinux1_x86_64.manylinux_2_12_x86_64.manylinux2010_x86_64.whl (271 kB)\n",
            "\u001b[K     |████████████████████████████████| 271 kB 38.9 MB/s \n",
            "\u001b[?25hCollecting aiosignal>=1.1.2\n",
            "  Downloading aiosignal-1.2.0-py3-none-any.whl (8.2 kB)\n",
            "Requirement already satisfied: attrs>=17.3.0 in /usr/local/lib/python3.7/dist-packages (from aiohttp->datasets) (21.4.0)\n",
            "Requirement already satisfied: zipp>=0.5 in /usr/local/lib/python3.7/dist-packages (from importlib-metadata->datasets) (3.8.0)\n",
            "Requirement already satisfied: python-dateutil>=2.7.3 in /usr/local/lib/python3.7/dist-packages (from pandas->datasets) (2.8.2)\n",
            "Requirement already satisfied: pytz>=2017.3 in /usr/local/lib/python3.7/dist-packages (from pandas->datasets) (2022.1)\n",
            "Requirement already satisfied: six>=1.5 in /usr/local/lib/python3.7/dist-packages (from python-dateutil>=2.7.3->pandas->datasets) (1.15.0)\n",
            "Installing collected packages: multidict, frozenlist, yarl, urllib3, asynctest, async-timeout, aiosignal, fsspec, aiohttp, xxhash, responses, huggingface-hub, datasets\n",
            "  Attempting uninstall: urllib3\n",
            "    Found existing installation: urllib3 1.24.3\n",
            "    Uninstalling urllib3-1.24.3:\n",
            "      Successfully uninstalled urllib3-1.24.3\n",
            "\u001b[31mERROR: pip's dependency resolver does not currently take into account all the packages that are installed. This behaviour is the source of the following dependency conflicts.\n",
            "datascience 0.10.6 requires folium==0.2.1, but you have folium 0.8.3 which is incompatible.\u001b[0m\n",
            "Successfully installed aiohttp-3.8.1 aiosignal-1.2.0 async-timeout-4.0.2 asynctest-0.13.0 datasets-2.1.0 frozenlist-1.3.0 fsspec-2022.3.0 huggingface-hub-0.5.1 multidict-6.0.2 responses-0.18.0 urllib3-1.25.11 xxhash-3.0.0 yarl-1.7.2\n",
            "Requirement already satisfied: gensim in /usr/local/lib/python3.7/dist-packages (3.6.0)\n",
            "Collecting gensim\n",
            "  Downloading gensim-4.1.2-cp37-cp37m-manylinux_2_12_x86_64.manylinux2010_x86_64.whl (24.1 MB)\n",
            "\u001b[K     |████████████████████████████████| 24.1 MB 1.6 MB/s \n",
            "\u001b[?25hRequirement already satisfied: numpy>=1.17.0 in /usr/local/lib/python3.7/dist-packages (from gensim) (1.21.6)\n",
            "Requirement already satisfied: scipy>=0.18.1 in /usr/local/lib/python3.7/dist-packages (from gensim) (1.4.1)\n",
            "Requirement already satisfied: smart-open>=1.8.1 in /usr/local/lib/python3.7/dist-packages (from gensim) (5.2.1)\n",
            "Installing collected packages: gensim\n",
            "  Attempting uninstall: gensim\n",
            "    Found existing installation: gensim 3.6.0\n",
            "    Uninstalling gensim-3.6.0:\n",
            "      Successfully uninstalled gensim-3.6.0\n",
            "Successfully installed gensim-4.1.2\n",
            "Requirement already satisfied: nltk in /usr/local/lib/python3.7/dist-packages (3.2.5)\n",
            "Requirement already satisfied: six in /usr/local/lib/python3.7/dist-packages (from nltk) (1.15.0)\n",
            "Requirement already satisfied: tqdm in /usr/local/lib/python3.7/dist-packages (4.64.0)\n"
          ]
        }
      ]
    },
    {
      "cell_type": "code",
      "source": [
        "import warnings\n",
        "warnings.simplefilter(action='ignore', category=RuntimeWarning)\n",
        "\n",
        "import sys\n",
        "sys.path.insert(0, \"./search-engine\")\n",
        "\n",
        "from model_utils import tf, idf, unigram, doc_embed, cluster_docs, wd, opt_svd \n",
        "from search_models import Boolean, Vsm, Bim, BimExt, QueryLklhd, W2Vsm, Lsi\n",
        "from search import searching \n",
        "from saveload import indexing\n",
        "from indices import SubInvertedIndex\n",
        "from evaluation import MRR,MAP, run_benchmark\n",
        "\n",
        "import matplotlib.pyplot as plt\n",
        "import seaborn as sb\n",
        "import numpy as np\n",
        "import pandas as pd\n",
        "\n",
        "import gensim\n",
        "import gensim.downloader as api"
      ],
      "metadata": {
        "id": "qGJ7D-Un34OL",
        "colab": {
          "base_uri": "https://localhost:8080/"
        },
        "outputId": "805ccc9d-b35c-4756-d278-1d1c553512e0"
      },
      "execution_count": null,
      "outputs": [
        {
          "output_type": "stream",
          "name": "stdout",
          "text": [
            "[nltk_data] Downloading package words to /root/nltk_data...\n",
            "[nltk_data]   Unzipping corpora/words.zip.\n",
            "[nltk_data] Downloading package stopwords to /root/nltk_data...\n",
            "[nltk_data]   Unzipping corpora/stopwords.zip.\n"
          ]
        }
      ]
    },
    {
      "cell_type": "markdown",
      "source": [
        "# Indexing the documents collection"
      ],
      "metadata": {
        "id": "GAX_cisuxO9e"
      }
    },
    {
      "cell_type": "code",
      "source": [
        "judgments=dict()\n",
        "inverted_index_sortpost, judgments=indexing(dataset=\"ms_marco\", save=True, save_load_path=\"./data\", index_type='inv', judgments=judgments, version=\"v1.1\", split=\"test\")"
      ],
      "metadata": {
        "colab": {
          "base_uri": "https://localhost:8080/",
          "height": 347,
          "referenced_widgets": [
            "b85d53d496c249008a8b5ff99b5dee83",
            "d63b0013de6646aaa594ddda6e8c682c",
            "4b2a0d8ce2f342d7bb085f2b62f58bc0",
            "efc5c00896a349f7bff65440adcf8aa4",
            "319d365793de4a4698a08eb593cedf27",
            "00721dc8acf746a79042566009f53e53",
            "85571bd228794d19aa0df3a1a3c3d050",
            "3f1dbc9f3dea48839ce595a904e274d8",
            "f727beb1be0d47779625f489e177e29c",
            "93a75ccc0c1a453da863cc52cd953336",
            "1e674afdb48b41aa96bc41a7cbaebda4",
            "99e9ce05c7344b40858a5d8b1fd59cdd",
            "cb99103c872f468b9093f11bae38eac2",
            "6c15eb3e96cc48339af0185945391ee8",
            "da401f1ba57a4e92aa2e4abac9167487",
            "a4042bec64864b68a092d436b86aca03",
            "9f29730f93ac4262beed39bc7e186061",
            "eca9be7cc0f1417986c3e5e0543c3f80",
            "a1dba5fb90434e09a6164d3eafcea5b6",
            "edd2e8a4eee7425bbb682c1e171ea88c",
            "aa9c6688253242068550745c181e7456",
            "67d94cf01d5d4df2ad82e7aee9e566cb",
            "8f780e6a38d446d895591ea0ed4fcbd2",
            "04ec916d659c42009e053b1791057f04",
            "cdc90db23cd24a34874c89de7d24c3c9",
            "e5f65f8a3d57426c9171f7a43cd6cfa8",
            "99a3b8f6a05448f1b83ff53dedbcbb97",
            "58f37e3f021242bfadc458420b81828b",
            "b1034e59126e48d8a695590eb2c48752",
            "d05b81f0850d43b88f513b076e7291dc",
            "d4ff2e15e6c54ed7bbe449b13a8aa217",
            "6e56be1841584cdd90a80e1afbec9af4",
            "445cbe65ddc9434f878b65e989f98981",
            "0d26ccbf38a24b4bacc000d0c85beabd",
            "b5124081855a49038d84f65d893f7db6",
            "955266362bfa4e71916852e00340c51d",
            "d665fbfdb5cf4ec889656e77aef36e42",
            "e65b97042a3146699665bc71bb031410",
            "3bdae0b9e5b549858b1bdb0698f1d273",
            "77c83594386f4562881865d5945395d3",
            "7a27e27166bf4b4da98710de9187440e",
            "032ecb9367f040f6953d6a14a286ef37",
            "c5358f4006324f82bebd51cf96c36d74",
            "4b3b63f644aa40bc9e2a8b7d305be286",
            "bcc0068f061e4e789dbc742f2c556e11",
            "83b78237fd3d4803a5379bca380eb9e5",
            "26b7e806b4724d079b3124681440ff10",
            "3fdb6bb9dfe74a1b9ebb9d7c0701093d",
            "60080abbfc3d4a7d897f6f7483892eaf",
            "03259eab2f9b484d893d682efe5ecbe5",
            "f139c70b8c2146638bedb2146f8e6494",
            "34f51084e0784eef9ae7e5ad74ee7bbd",
            "80a5d42520384af888c5d5b1a2824817",
            "3cfda4a3edbf44978e35e475a48e0344",
            "718a4338fed84cad93fdfcd6bdc2152f",
            "10d1e42a4d08466d8e6d5daa59c3ee83",
            "1d2c8e05a7e64ce08385020c8333c6cd",
            "723bb18a46d04dcf9fdbd7b5de9f7f0b",
            "949e69fc928e4c65ab803379e995a226",
            "de882168184244ad98d947b2b460bd82",
            "ab82d857c543438f8416b765ff0909d2",
            "2ed0c999915c40e5ac0fccb1e7dc4f5a",
            "6d70081f470c4532b0648284ca71476b",
            "1064e6cd3ee34eb38c76ae430d6bc6eb",
            "0e249c24beb1467cb81925eb5394f92b",
            "fde83e02e5c84533b744f52f4fe17e6e",
            "c41b1f99454544c4905ae2fee5960b6e",
            "12bc64a483304dd8957447d8e18c8101",
            "30c83c8fb9184a77953272fb838e6c6e",
            "d2fdf5c4520d42db9cc04b3403e15863",
            "a9e773b4b8314d0dbcb1300f8cbdd254",
            "fbfa082c487e4596a91454e47621e160",
            "bf5cf19a36814bb5a50471aa2399cc43",
            "be540dbea3934ab98e01cf0856132890",
            "259e13be6c67461a91d01c99b00b21a3",
            "34b4948c300d40c8a0f9409c9dc58063",
            "6d30227bf8664360a8a135a6c031b1e1",
            "60745412605b40829361ad17eb7b3b32",
            "9455f15461374a8a94e99c320b711ba3",
            "8584df57dad743d7891e21cc0b2ce03d",
            "4417146ce4d746cea76f1aabe5635e1e",
            "fcda58548aec4594a437425ca2e7211e",
            "f79cd37c186d432bb99bee208d24146a",
            "6021c3ea22b0498ca8a860b895878750",
            "345578e3fdb0423eaa5cff0e7071b56c",
            "bf6f2ecbb1b94972ad07b64ec932c915",
            "46890e6623484e1290fbc62d8480ccc7",
            "85de3ce9a0c44f08bd6a9594b96335f2",
            "e85dad3bb5c74993b6afbd01abf38e6b",
            "cad1e7b908f24cddbae1561a7a22f5f3",
            "763c44cd082b4138b61a473d7bf09bec",
            "28d6709f14a348a39748c921582e93c5",
            "e415c05a5cb54aaabd159dd63e5cba0d",
            "3c270ca087754d96a6a26c57f62055dc",
            "4cf1a1479fb74dbc95af5e2db47fc680",
            "ccf3e18b230a41118ce2d93b7915f1e0",
            "10a8f06a39a446af86e147da8f6d6001",
            "e156bc0d9bd343e4b792d43a3ea5b5a5",
            "1e06a25c48f7429caa48a29ffea2eca3",
            "de165bd7151f4af38c7858a1ac5c2dc3",
            "8e659da71bbf48f8858b179e65fa3627",
            "19d7e7cd65f04b7f9b1dfbd05ff64698",
            "7d3ab48580b04069b27ba8a91d7db6a7",
            "8113b7496af6434380c1a62b178b8ab7",
            "eda55b802d224c13a71335130252853d",
            "8da422c37cca415188087d72d51ce422",
            "70bed5af8043470fa10dc9673985f561",
            "075b2a3715254c7fb5957c1a7e69d337",
            "cce3314c54434f338a4a78b75764cc70",
            "e61457b7d473429b82fa0dbcb2ca07db"
          ]
        },
        "id": "fbJfpfSYxLVR",
        "outputId": "638b26e8-bc1a-41f7-b735-0631f3d9ae39"
      },
      "execution_count": null,
      "outputs": [
        {
          "output_type": "stream",
          "name": "stdout",
          "text": [
            ".....................Collection indexation in progress.....................\n"
          ]
        },
        {
          "output_type": "display_data",
          "data": {
            "text/plain": [
              "Downloading builder script:   0%|          | 0.00/2.53k [00:00<?, ?B/s]"
            ],
            "application/vnd.jupyter.widget-view+json": {
              "version_major": 2,
              "version_minor": 0,
              "model_id": "b85d53d496c249008a8b5ff99b5dee83"
            }
          },
          "metadata": {}
        },
        {
          "output_type": "display_data",
          "data": {
            "text/plain": [
              "Downloading metadata:   0%|          | 0.00/1.98k [00:00<?, ?B/s]"
            ],
            "application/vnd.jupyter.widget-view+json": {
              "version_major": 2,
              "version_minor": 0,
              "model_id": "99e9ce05c7344b40858a5d8b1fd59cdd"
            }
          },
          "metadata": {}
        },
        {
          "output_type": "stream",
          "name": "stdout",
          "text": [
            "Downloading and preparing dataset ms_marco/v1.1 (download: 160.88 MiB, generated: 414.48 MiB, post-processed: Unknown size, total: 575.36 MiB) to /root/.cache/huggingface/datasets/ms_marco/v1.1/1.1.0/b6a62715fa5219aea5275dd3556601004cd63945cb63e36e022f77bb3cbbca84...\n"
          ]
        },
        {
          "output_type": "display_data",
          "data": {
            "text/plain": [
              "Downloading data files:   0%|          | 0/3 [00:00<?, ?it/s]"
            ],
            "application/vnd.jupyter.widget-view+json": {
              "version_major": 2,
              "version_minor": 0,
              "model_id": "8f780e6a38d446d895591ea0ed4fcbd2"
            }
          },
          "metadata": {}
        },
        {
          "output_type": "display_data",
          "data": {
            "text/plain": [
              "Downloading data:   0%|          | 0.00/111M [00:00<?, ?B/s]"
            ],
            "application/vnd.jupyter.widget-view+json": {
              "version_major": 2,
              "version_minor": 0,
              "model_id": "0d26ccbf38a24b4bacc000d0c85beabd"
            }
          },
          "metadata": {}
        },
        {
          "output_type": "display_data",
          "data": {
            "text/plain": [
              "Downloading data:   0%|          | 0.00/13.5M [00:00<?, ?B/s]"
            ],
            "application/vnd.jupyter.widget-view+json": {
              "version_major": 2,
              "version_minor": 0,
              "model_id": "bcc0068f061e4e789dbc742f2c556e11"
            }
          },
          "metadata": {}
        },
        {
          "output_type": "display_data",
          "data": {
            "text/plain": [
              "Downloading data:   0%|          | 0.00/44.5M [00:00<?, ?B/s]"
            ],
            "application/vnd.jupyter.widget-view+json": {
              "version_major": 2,
              "version_minor": 0,
              "model_id": "10d1e42a4d08466d8e6d5daa59c3ee83"
            }
          },
          "metadata": {}
        },
        {
          "output_type": "display_data",
          "data": {
            "text/plain": [
              "Extracting data files:   0%|          | 0/3 [00:00<?, ?it/s]"
            ],
            "application/vnd.jupyter.widget-view+json": {
              "version_major": 2,
              "version_minor": 0,
              "model_id": "c41b1f99454544c4905ae2fee5960b6e"
            }
          },
          "metadata": {}
        },
        {
          "output_type": "display_data",
          "data": {
            "text/plain": [
              "Generating validation split:   0%|          | 0/10047 [00:00<?, ? examples/s]"
            ],
            "application/vnd.jupyter.widget-view+json": {
              "version_major": 2,
              "version_minor": 0,
              "model_id": "60745412605b40829361ad17eb7b3b32"
            }
          },
          "metadata": {}
        },
        {
          "output_type": "display_data",
          "data": {
            "text/plain": [
              "Generating train split:   0%|          | 0/82326 [00:00<?, ? examples/s]"
            ],
            "application/vnd.jupyter.widget-view+json": {
              "version_major": 2,
              "version_minor": 0,
              "model_id": "e85dad3bb5c74993b6afbd01abf38e6b"
            }
          },
          "metadata": {}
        },
        {
          "output_type": "display_data",
          "data": {
            "text/plain": [
              "Generating test split:   0%|          | 0/9650 [00:00<?, ? examples/s]"
            ],
            "application/vnd.jupyter.widget-view+json": {
              "version_major": 2,
              "version_minor": 0,
              "model_id": "de165bd7151f4af38c7858a1ac5c2dc3"
            }
          },
          "metadata": {}
        },
        {
          "output_type": "stream",
          "name": "stdout",
          "text": [
            "Dataset ms_marco downloaded and prepared to /root/.cache/huggingface/datasets/ms_marco/v1.1/1.1.0/b6a62715fa5219aea5275dd3556601004cd63945cb63e36e022f77bb3cbbca84. Subsequent calls will reuse this data.\n"
          ]
        },
        {
          "output_type": "stream",
          "name": "stderr",
          "text": [
            "100%|██████████| 9650/9650 [01:02<00:00, 154.10it/s]"
          ]
        },
        {
          "output_type": "stream",
          "name": "stdout",
          "text": [
            ".....................Failed to save the index.....................\n"
          ]
        },
        {
          "output_type": "stream",
          "name": "stderr",
          "text": [
            "\n"
          ]
        }
      ]
    },
    {
      "cell_type": "code",
      "source": [
        "# TAKES TOO MUCH TIME TO RUN >= 10 minutes\n",
        "# %%time\n",
        "# positional_index_sortpost=indexing(dataset=\"ms_marco\", save=True, save_load_path=\"./data\", index_type=\"pos\")"
      ],
      "metadata": {
        "id": "Gps25TGqxqCZ"
      },
      "execution_count": null,
      "outputs": []
    },
    {
      "cell_type": "markdown",
      "source": [
        "# Statistics"
      ],
      "metadata": {
        "id": "-kN_QL1XJopV"
      }
    },
    {
      "cell_type": "code",
      "source": [
        "print(f\"The vocabulary is made of {len(inverted_index_sortpost.index)} words\")"
      ],
      "metadata": {
        "colab": {
          "base_uri": "https://localhost:8080/"
        },
        "id": "6c19ArzDx6_6",
        "outputId": "20677cea-f883-4c15-d554-0adba8411370"
      },
      "execution_count": null,
      "outputs": [
        {
          "output_type": "stream",
          "name": "stdout",
          "text": [
            "The vocabulary is made of 132161 words\n"
          ]
        }
      ]
    },
    {
      "cell_type": "markdown",
      "source": [
        "### Document lengths\n"
      ],
      "metadata": {
        "id": "wBkxSPhlxonf"
      }
    },
    {
      "cell_type": "code",
      "source": [
        "print(f\"There are {len(inverted_index_sortpost.documents)} documents\")\n",
        "doc_lenghts=[len(inverted_index_sortpost.raw_freq[ID]) for ID in inverted_index_sortpost.documents]\n",
        "sb.histplot(doc_lenghts)"
      ],
      "metadata": {
        "colab": {
          "base_uri": "https://localhost:8080/",
          "height": 300
        },
        "id": "fpeA_DIjyAU1",
        "outputId": "f669050e-6f36-4dbf-a4d8-29f97f62fb8a"
      },
      "execution_count": null,
      "outputs": [
        {
          "output_type": "stream",
          "name": "stdout",
          "text": [
            "There are 79176 documents\n"
          ]
        },
        {
          "output_type": "execute_result",
          "data": {
            "text/plain": [
              "<matplotlib.axes._subplots.AxesSubplot at 0x7fb05c1f9490>"
            ]
          },
          "metadata": {},
          "execution_count": 8
        },
        {
          "output_type": "display_data",
          "data": {
            "text/plain": [
              "<Figure size 432x288 with 1 Axes>"
            ],
            "image/png": "[encoded data removed]"
          },
          "metadata": {
            "needs_background": "light"
          }
        }
      ]
    },
    {
      "cell_type": "code",
      "source": [
        "round(pd.DataFrame({\"doc_lengths\": doc_lenghts}).describe(),0)"
      ],
      "metadata": {
        "colab": {
          "base_uri": "https://localhost:8080/",
          "height": 300
        },
        "id": "5jbUnEj_yLQf",
        "outputId": "42f6c8bb-3437-4c0d-992a-0c2baa54a924"
      },
      "execution_count": null,
      "outputs": [
        {
          "output_type": "execute_result",
          "data": {
            "text/plain": [
              "       doc_lengths\n",
              "count      79176.0\n",
              "mean          49.0\n",
              "std           15.0\n",
              "min            4.0\n",
              "25%           37.0\n",
              "50%           48.0\n",
              "75%           60.0\n",
              "max          125.0"
            ],
            "text/html": [
              "\n",
              "  <div id=\"df-849ad139-b240-4b0f-b105-e470c0f79e90\">\n",
              "    <div class=\"colab-df-container\">\n",
              "      <div>\n",
              "<style scoped>\n",
              "    .dataframe tbody tr th:only-of-type {\n",
              "        vertical-align: middle;\n",
              "    }\n",
              "\n",
              "    .dataframe tbody tr th {\n",
              "        vertical-align: top;\n",
              "    }\n",
              "\n",
              "    .dataframe thead th {\n",
              "        text-align: right;\n",
              "    }\n",
              "</style>\n",
              "<table border=\"1\" class=\"dataframe\">\n",
              "  <thead>\n",
              "    <tr style=\"text-align: right;\">\n",
              "      <th></th>\n",
              "      <th>doc_lengths</th>\n",
              "    </tr>\n",
              "  </thead>\n",
              "  <tbody>\n",
              "    <tr>\n",
              "      <th>count</th>\n",
              "      <td>79176.0</td>\n",
              "    </tr>\n",
              "    <tr>\n",
              "      <th>mean</th>\n",
              "      <td>49.0</td>\n",
              "    </tr>\n",
              "    <tr>\n",
              "      <th>std</th>\n",
              "      <td>15.0</td>\n",
              "    </tr>\n",
              "    <tr>\n",
              "      <th>min</th>\n",
              "      <td>4.0</td>\n",
              "    </tr>\n",
              "    <tr>\n",
              "      <th>25%</th>\n",
              "      <td>37.0</td>\n",
              "    </tr>\n",
              "    <tr>\n",
              "      <th>50%</th>\n",
              "      <td>48.0</td>\n",
              "    </tr>\n",
              "    <tr>\n",
              "      <th>75%</th>\n",
              "      <td>60.0</td>\n",
              "    </tr>\n",
              "    <tr>\n",
              "      <th>max</th>\n",
              "      <td>125.0</td>\n",
              "    </tr>\n",
              "  </tbody>\n",
              "</table>\n",
              "</div>\n",
              "      <button class=\"colab-df-convert\" onclick=\"convertToInteractive('df-849ad139-b240-4b0f-b105-e470c0f79e90')\"\n",
              "              title=\"Convert this dataframe to an interactive table.\"\n",
              "              style=\"display:none;\">\n",
              "        \n",
              "  <svg xmlns=\"http://www.w3.org/2000/svg\" height=\"24px\"viewBox=\"0 0 24 24\"\n",
              "       width=\"24px\">\n",
              "    <path d=\"M0 0h24v24H0V0z\" fill=\"none\"/>\n",
              "    <path d=\"M18.56 5.44l.94 2.06.94-2.06 2.06-.94-2.06-.94-.94-2.06-.94 2.06-2.06.94zm-11 1L8.5 8.5l.94-2.06 2.06-.94-2.06-.94L8.5 2.5l-.94 2.06-2.06.94zm10 10l.94 2.06.94-2.06 2.06-.94-2.06-.94-.94-2.06-.94 2.06-2.06.94z\"/><path d=\"M17.41 7.96l-1.37-1.37c-.4-.4-.92-.59-1.43-.59-.52 0-1.04.2-1.43.59L10.3 9.45l-7.72 7.72c-.78.78-.78 2.05 0 2.83L4 21.41c.39.39.9.59 1.41.59.51 0 1.02-.2 1.41-.59l7.78-7.78 2.81-2.81c.8-.78.8-2.07 0-2.86zM5.41 20L4 18.59l7.72-7.72 1.47 1.35L5.41 20z\"/>\n",
              "  </svg>\n",
              "      </button>\n",
              "      \n",
              "  <style>\n",
              "    .colab-df-container {\n",
              "      display:flex;\n",
              "      flex-wrap:wrap;\n",
              "      gap: 12px;\n",
              "    }\n",
              "\n",
              "    .colab-df-convert {\n",
              "      background-color: #E8F0FE;\n",
              "      border: none;\n",
              "      border-radius: 50%;\n",
              "      cursor: pointer;\n",
              "      display: none;\n",
              "      fill: #1967D2;\n",
              "      height: 32px;\n",
              "      padding: 0 0 0 0;\n",
              "      width: 32px;\n",
              "    }\n",
              "\n",
              "    .colab-df-convert:hover {\n",
              "      background-color: #E2EBFA;\n",
              "      box-shadow: 0px 1px 2px rgba(60, 64, 67, 0.3), 0px 1px 3px 1px rgba(60, 64, 67, 0.15);\n",
              "      fill: #174EA6;\n",
              "    }\n",
              "\n",
              "    [theme=dark] .colab-df-convert {\n",
              "      background-color: #3B4455;\n",
              "      fill: #D2E3FC;\n",
              "    }\n",
              "\n",
              "    [theme=dark] .colab-df-convert:hover {\n",
              "      background-color: #434B5C;\n",
              "      box-shadow: 0px 1px 3px 1px rgba(0, 0, 0, 0.15);\n",
              "      filter: drop-shadow(0px 1px 2px rgba(0, 0, 0, 0.3));\n",
              "      fill: #FFFFFF;\n",
              "    }\n",
              "  </style>\n",
              "\n",
              "      <script>\n",
              "        const buttonEl =\n",
              "          document.querySelector('#df-849ad139-b240-4b0f-b105-e470c0f79e90 button.colab-df-convert');\n",
              "        buttonEl.style.display =\n",
              "          google.colab.kernel.accessAllowed ? 'block' : 'none';\n",
              "\n",
              "        async function convertToInteractive(key) {\n",
              "          const element = document.querySelector('#df-849ad139-b240-4b0f-b105-e470c0f79e90');\n",
              "          const dataTable =\n",
              "            await google.colab.kernel.invokeFunction('convertToInteractive',\n",
              "                                                     [key], {});\n",
              "          if (!dataTable) return;\n",
              "\n",
              "          const docLinkHtml = 'Like what you see? Visit the ' +\n",
              "            '<a target=\"_blank\" href=https://colab.research.google.com/notebooks/data_table.ipynb>data table notebook</a>'\n",
              "            + ' to learn more about interactive tables.';\n",
              "          element.innerHTML = '';\n",
              "          dataTable['output_type'] = 'display_data';\n",
              "          await google.colab.output.renderOutput(dataTable, element);\n",
              "          const docLink = document.createElement('div');\n",
              "          docLink.innerHTML = docLinkHtml;\n",
              "          element.appendChild(docLink);\n",
              "        }\n",
              "      </script>\n",
              "    </div>\n",
              "  </div>\n",
              "  "
            ]
          },
          "metadata": {},
          "execution_count": 9
        }
      ]
    },
    {
      "cell_type": "markdown",
      "source": [
        "### Word raw frequencies"
      ],
      "metadata": {
        "id": "qxHrRm1XyP5O"
      }
    },
    {
      "cell_type": "code",
      "source": [
        "# average number of time each token appears in a document\n",
        "avg_raw_freqs = [np.mean([inverted_index_sortpost.raw_freq[ID][term] for ID in inverted_index_sortpost.index[term]]) for term in inverted_index_sortpost.index]\n",
        "round(pd.DataFrame({\"avg_raw_freqs\":avg_raw_freqs}).describe(),0)"
      ],
      "metadata": {
        "colab": {
          "base_uri": "https://localhost:8080/",
          "height": 300
        },
        "id": "T75AqLEVyObh",
        "outputId": "34ccc10b-c29e-412a-ef99-33a22fcae64e"
      },
      "execution_count": null,
      "outputs": [
        {
          "output_type": "execute_result",
          "data": {
            "text/plain": [
              "       avg_raw_freqs\n",
              "count       132161.0\n",
              "mean             1.0\n",
              "std              0.0\n",
              "min              1.0\n",
              "25%              1.0\n",
              "50%              1.0\n",
              "75%              1.0\n",
              "max             24.0"
            ],
            "text/html": [
              "\n",
              "  <div id=\"df-f90a2df6-6df2-417d-a15e-cf31f026b5f6\">\n",
              "    <div class=\"colab-df-container\">\n",
              "      <div>\n",
              "<style scoped>\n",
              "    .dataframe tbody tr th:only-of-type {\n",
              "        vertical-align: middle;\n",
              "    }\n",
              "\n",
              "    .dataframe tbody tr th {\n",
              "        vertical-align: top;\n",
              "    }\n",
              "\n",
              "    .dataframe thead th {\n",
              "        text-align: right;\n",
              "    }\n",
              "</style>\n",
              "<table border=\"1\" class=\"dataframe\">\n",
              "  <thead>\n",
              "    <tr style=\"text-align: right;\">\n",
              "      <th></th>\n",
              "      <th>avg_raw_freqs</th>\n",
              "    </tr>\n",
              "  </thead>\n",
              "  <tbody>\n",
              "    <tr>\n",
              "      <th>count</th>\n",
              "      <td>132161.0</td>\n",
              "    </tr>\n",
              "    <tr>\n",
              "      <th>mean</th>\n",
              "      <td>1.0</td>\n",
              "    </tr>\n",
              "    <tr>\n",
              "      <th>std</th>\n",
              "      <td>0.0</td>\n",
              "    </tr>\n",
              "    <tr>\n",
              "      <th>min</th>\n",
              "      <td>1.0</td>\n",
              "    </tr>\n",
              "    <tr>\n",
              "      <th>25%</th>\n",
              "      <td>1.0</td>\n",
              "    </tr>\n",
              "    <tr>\n",
              "      <th>50%</th>\n",
              "      <td>1.0</td>\n",
              "    </tr>\n",
              "    <tr>\n",
              "      <th>75%</th>\n",
              "      <td>1.0</td>\n",
              "    </tr>\n",
              "    <tr>\n",
              "      <th>max</th>\n",
              "      <td>24.0</td>\n",
              "    </tr>\n",
              "  </tbody>\n",
              "</table>\n",
              "</div>\n",
              "      <button class=\"colab-df-convert\" onclick=\"convertToInteractive('df-f90a2df6-6df2-417d-a15e-cf31f026b5f6')\"\n",
              "              title=\"Convert this dataframe to an interactive table.\"\n",
              "              style=\"display:none;\">\n",
              "        \n",
              "  <svg xmlns=\"http://www.w3.org/2000/svg\" height=\"24px\"viewBox=\"0 0 24 24\"\n",
              "       width=\"24px\">\n",
              "    <path d=\"M0 0h24v24H0V0z\" fill=\"none\"/>\n",
              "    <path d=\"M18.56 5.44l.94 2.06.94-2.06 2.06-.94-2.06-.94-.94-2.06-.94 2.06-2.06.94zm-11 1L8.5 8.5l.94-2.06 2.06-.94-2.06-.94L8.5 2.5l-.94 2.06-2.06.94zm10 10l.94 2.06.94-2.06 2.06-.94-2.06-.94-.94-2.06-.94 2.06-2.06.94z\"/><path d=\"M17.41 7.96l-1.37-1.37c-.4-.4-.92-.59-1.43-.59-.52 0-1.04.2-1.43.59L10.3 9.45l-7.72 7.72c-.78.78-.78 2.05 0 2.83L4 21.41c.39.39.9.59 1.41.59.51 0 1.02-.2 1.41-.59l7.78-7.78 2.81-2.81c.8-.78.8-2.07 0-2.86zM5.41 20L4 18.59l7.72-7.72 1.47 1.35L5.41 20z\"/>\n",
              "  </svg>\n",
              "      </button>\n",
              "      \n",
              "  <style>\n",
              "    .colab-df-container {\n",
              "      display:flex;\n",
              "      flex-wrap:wrap;\n",
              "      gap: 12px;\n",
              "    }\n",
              "\n",
              "    .colab-df-convert {\n",
              "      background-color: #E8F0FE;\n",
              "      border: none;\n",
              "      border-radius: 50%;\n",
              "      cursor: pointer;\n",
              "      display: none;\n",
              "      fill: #1967D2;\n",
              "      height: 32px;\n",
              "      padding: 0 0 0 0;\n",
              "      width: 32px;\n",
              "    }\n",
              "\n",
              "    .colab-df-convert:hover {\n",
              "      background-color: #E2EBFA;\n",
              "      box-shadow: 0px 1px 2px rgba(60, 64, 67, 0.3), 0px 1px 3px 1px rgba(60, 64, 67, 0.15);\n",
              "      fill: #174EA6;\n",
              "    }\n",
              "\n",
              "    [theme=dark] .colab-df-convert {\n",
              "      background-color: #3B4455;\n",
              "      fill: #D2E3FC;\n",
              "    }\n",
              "\n",
              "    [theme=dark] .colab-df-convert:hover {\n",
              "      background-color: #434B5C;\n",
              "      box-shadow: 0px 1px 3px 1px rgba(0, 0, 0, 0.15);\n",
              "      filter: drop-shadow(0px 1px 2px rgba(0, 0, 0, 0.3));\n",
              "      fill: #FFFFFF;\n",
              "    }\n",
              "  </style>\n",
              "\n",
              "      <script>\n",
              "        const buttonEl =\n",
              "          document.querySelector('#df-f90a2df6-6df2-417d-a15e-cf31f026b5f6 button.colab-df-convert');\n",
              "        buttonEl.style.display =\n",
              "          google.colab.kernel.accessAllowed ? 'block' : 'none';\n",
              "\n",
              "        async function convertToInteractive(key) {\n",
              "          const element = document.querySelector('#df-f90a2df6-6df2-417d-a15e-cf31f026b5f6');\n",
              "          const dataTable =\n",
              "            await google.colab.kernel.invokeFunction('convertToInteractive',\n",
              "                                                     [key], {});\n",
              "          if (!dataTable) return;\n",
              "\n",
              "          const docLinkHtml = 'Like what you see? Visit the ' +\n",
              "            '<a target=\"_blank\" href=https://colab.research.google.com/notebooks/data_table.ipynb>data table notebook</a>'\n",
              "            + ' to learn more about interactive tables.';\n",
              "          element.innerHTML = '';\n",
              "          dataTable['output_type'] = 'display_data';\n",
              "          await google.colab.output.renderOutput(dataTable, element);\n",
              "          const docLink = document.createElement('div');\n",
              "          docLink.innerHTML = docLinkHtml;\n",
              "          element.appendChild(docLink);\n",
              "        }\n",
              "      </script>\n",
              "    </div>\n",
              "  </div>\n",
              "  "
            ]
          },
          "metadata": {},
          "execution_count": 10
        }
      ]
    },
    {
      "cell_type": "markdown",
      "source": [
        "Most of the terms appear just once in a document."
      ],
      "metadata": {
        "id": "czWiunaZycje"
      }
    },
    {
      "cell_type": "markdown",
      "source": [
        "### Document frequencies"
      ],
      "metadata": {
        "id": "1lr1oMnyyh3f"
      }
    },
    {
      "cell_type": "code",
      "source": [
        "doc_freqs=[len(inverted_index_sortpost.index[token]) for token in inverted_index_sortpost.index]\n",
        "round(pd.DataFrame({\"doc_freqs\": doc_freqs}).describe(),0)"
      ],
      "metadata": {
        "colab": {
          "base_uri": "https://localhost:8080/",
          "height": 279
        },
        "id": "qDGridBbyV-O",
        "outputId": "caaca13d-c199-4a62-c38b-97ec0a284926"
      },
      "execution_count": null,
      "outputs": [
        {
          "output_type": "execute_result",
          "data": {
            "text/plain": [
              "       doc_freqs\n",
              "count   132161.0\n",
              "mean        29.0\n",
              "std        571.0\n",
              "min          1.0\n",
              "25%          1.0\n",
              "50%          2.0\n",
              "75%          5.0\n",
              "max      73633.0"
            ],
            "text/html": [
              "\n",
              "  <div id=\"df-7ebe70ff-6af1-4abd-885c-cfa936b85245\">\n",
              "    <div class=\"colab-df-container\">\n",
              "      <div>\n",
              "<style scoped>\n",
              "    .dataframe tbody tr th:only-of-type {\n",
              "        vertical-align: middle;\n",
              "    }\n",
              "\n",
              "    .dataframe tbody tr th {\n",
              "        vertical-align: top;\n",
              "    }\n",
              "\n",
              "    .dataframe thead th {\n",
              "        text-align: right;\n",
              "    }\n",
              "</style>\n",
              "<table border=\"1\" class=\"dataframe\">\n",
              "  <thead>\n",
              "    <tr style=\"text-align: right;\">\n",
              "      <th></th>\n",
              "      <th>doc_freqs</th>\n",
              "    </tr>\n",
              "  </thead>\n",
              "  <tbody>\n",
              "    <tr>\n",
              "      <th>count</th>\n",
              "      <td>132161.0</td>\n",
              "    </tr>\n",
              "    <tr>\n",
              "      <th>mean</th>\n",
              "      <td>29.0</td>\n",
              "    </tr>\n",
              "    <tr>\n",
              "      <th>std</th>\n",
              "      <td>571.0</td>\n",
              "    </tr>\n",
              "    <tr>\n",
              "      <th>min</th>\n",
              "      <td>1.0</td>\n",
              "    </tr>\n",
              "    <tr>\n",
              "      <th>25%</th>\n",
              "      <td>1.0</td>\n",
              "    </tr>\n",
              "    <tr>\n",
              "      <th>50%</th>\n",
              "      <td>2.0</td>\n",
              "    </tr>\n",
              "    <tr>\n",
              "      <th>75%</th>\n",
              "      <td>5.0</td>\n",
              "    </tr>\n",
              "    <tr>\n",
              "      <th>max</th>\n",
              "      <td>73633.0</td>\n",
              "    </tr>\n",
              "  </tbody>\n",
              "</table>\n",
              "</div>\n",
              "      <button class=\"colab-df-convert\" onclick=\"convertToInteractive('df-7ebe70ff-6af1-4abd-885c-cfa936b85245')\"\n",
              "              title=\"Convert this dataframe to an interactive table.\"\n",
              "              style=\"display:none;\">\n",
              "        \n",
              "  <svg xmlns=\"http://www.w3.org/2000/svg\" height=\"24px\"viewBox=\"0 0 24 24\"\n",
              "       width=\"24px\">\n",
              "    <path d=\"M0 0h24v24H0V0z\" fill=\"none\"/>\n",
              "    <path d=\"M18.56 5.44l.94 2.06.94-2.06 2.06-.94-2.06-.94-.94-2.06-.94 2.06-2.06.94zm-11 1L8.5 8.5l.94-2.06 2.06-.94-2.06-.94L8.5 2.5l-.94 2.06-2.06.94zm10 10l.94 2.06.94-2.06 2.06-.94-2.06-.94-.94-2.06-.94 2.06-2.06.94z\"/><path d=\"M17.41 7.96l-1.37-1.37c-.4-.4-.92-.59-1.43-.59-.52 0-1.04.2-1.43.59L10.3 9.45l-7.72 7.72c-.78.78-.78 2.05 0 2.83L4 21.41c.39.39.9.59 1.41.59.51 0 1.02-.2 1.41-.59l7.78-7.78 2.81-2.81c.8-.78.8-2.07 0-2.86zM5.41 20L4 18.59l7.72-7.72 1.47 1.35L5.41 20z\"/>\n",
              "  </svg>\n",
              "      </button>\n",
              "      \n",
              "  <style>\n",
              "    .colab-df-container {\n",
              "      display:flex;\n",
              "      flex-wrap:wrap;\n",
              "      gap: 12px;\n",
              "    }\n",
              "\n",
              "    .colab-df-convert {\n",
              "      background-color: #E8F0FE;\n",
              "      border: none;\n",
              "      border-radius: 50%;\n",
              "      cursor: pointer;\n",
              "      display: none;\n",
              "      fill: #1967D2;\n",
              "      height: 32px;\n",
              "      padding: 0 0 0 0;\n",
              "      width: 32px;\n",
              "    }\n",
              "\n",
              "    .colab-df-convert:hover {\n",
              "      background-color: #E2EBFA;\n",
              "      box-shadow: 0px 1px 2px rgba(60, 64, 67, 0.3), 0px 1px 3px 1px rgba(60, 64, 67, 0.15);\n",
              "      fill: #174EA6;\n",
              "    }\n",
              "\n",
              "    [theme=dark] .colab-df-convert {\n",
              "      background-color: #3B4455;\n",
              "      fill: #D2E3FC;\n",
              "    }\n",
              "\n",
              "    [theme=dark] .colab-df-convert:hover {\n",
              "      background-color: #434B5C;\n",
              "      box-shadow: 0px 1px 3px 1px rgba(0, 0, 0, 0.15);\n",
              "      filter: drop-shadow(0px 1px 2px rgba(0, 0, 0, 0.3));\n",
              "      fill: #FFFFFF;\n",
              "    }\n",
              "  </style>\n",
              "\n",
              "      <script>\n",
              "        const buttonEl =\n",
              "          document.querySelector('#df-7ebe70ff-6af1-4abd-885c-cfa936b85245 button.colab-df-convert');\n",
              "        buttonEl.style.display =\n",
              "          google.colab.kernel.accessAllowed ? 'block' : 'none';\n",
              "\n",
              "        async function convertToInteractive(key) {\n",
              "          const element = document.querySelector('#df-7ebe70ff-6af1-4abd-885c-cfa936b85245');\n",
              "          const dataTable =\n",
              "            await google.colab.kernel.invokeFunction('convertToInteractive',\n",
              "                                                     [key], {});\n",
              "          if (!dataTable) return;\n",
              "\n",
              "          const docLinkHtml = 'Like what you see? Visit the ' +\n",
              "            '<a target=\"_blank\" href=https://colab.research.google.com/notebooks/data_table.ipynb>data table notebook</a>'\n",
              "            + ' to learn more about interactive tables.';\n",
              "          element.innerHTML = '';\n",
              "          dataTable['output_type'] = 'display_data';\n",
              "          await google.colab.output.renderOutput(dataTable, element);\n",
              "          const docLink = document.createElement('div');\n",
              "          docLink.innerHTML = docLinkHtml;\n",
              "          element.appendChild(docLink);\n",
              "        }\n",
              "      </script>\n",
              "    </div>\n",
              "  </div>\n",
              "  "
            ]
          },
          "metadata": {},
          "execution_count": 11
        }
      ]
    },
    {
      "cell_type": "markdown",
      "source": [
        "A term appears on average in 30 $\\pm$ 500 documents, 75% of the terms appear in less than 5 documents (a lot of rare terms, weird ??). Lets try to visualize why."
      ],
      "metadata": {
        "id": "O4ZLGlwXypOr"
      }
    },
    {
      "cell_type": "code",
      "source": [
        "for pos , term in enumerate(inverted_index_sortpost.index) : \n",
        "    if pos<=500 and len(inverted_index_sortpost.index[term])<=5: print(term) "
      ],
      "metadata": {
        "colab": {
          "base_uri": "https://localhost:8080/"
        },
        "id": "qtF-KP8VymBj",
        "outputId": "e4706dfc-dad6-4566-e7c4-1ac9310d3e8a"
      },
      "execution_count": null,
      "outputs": [
        {
          "output_type": "stream",
          "name": "stdout",
          "text": [
            "stink\n",
            "relocate\n",
            "scatter\n",
            "deters\n",
            "npr\n",
            "contributory\n",
            "fuelsoil\n",
            "coaltake\n",
            "circumscribes\n",
            "apothems\n",
            "4cm\n",
            "polygonsproperties\n",
            "incircle\n",
            "congruent\n",
            "equilateral\n",
            "sagitta\n",
            "inradius\n",
            "mathworld\n",
            "weisstein\n",
            "hypotenuse\n"
          ]
        }
      ]
    },
    {
      "cell_type": "markdown",
      "source": [
        "It looks plausible when we look at the above sequence of words (they look rare indeed)\n"
      ],
      "metadata": {
        "id": "iOsIdh6fyyU-"
      }
    },
    {
      "cell_type": "markdown",
      "source": [
        "### Relevance judgments\n",
        "\n",
        "Judgments are used to evaluate models, each query is associated to some relevant documents, and those documents have a relevance score \n"
      ],
      "metadata": {
        "id": "5WDWFTuIKILZ"
      }
    },
    {
      "cell_type": "code",
      "source": [
        "[f'{query}: {judgments[query]}' for pos, query in enumerate(judgments) if pos<=2]"
      ],
      "metadata": {
        "colab": {
          "base_uri": "https://localhost:8080/"
        },
        "id": "FeGkvlafKK9x",
        "outputId": "c852720c-5b1a-4dd9-cac7-2506cbe8cdc5"
      },
      "execution_count": null,
      "outputs": [
        {
          "output_type": "execute_result",
          "data": {
            "text/plain": [
              "['does human hair stop squirrels: {1: 1, 2: 1, 3: 2, 4: 1, 5: 1, 6: 1, 7: 1}',\n",
              " 'what are the benefits of fossil fuels: {8: 1, 9: 2, 10: 1, 11: 1, 12: 1, 13: 1, 14: 1, 15: 1, 16: 1}',\n",
              " 'what is a apothem: {17: 1, 18: 1, 19: 1, 20: 1, 21: 1, 22: 2, 23: 1, 24: 1, 25: 1}']"
            ]
          },
          "metadata": {},
          "execution_count": 13
        }
      ]
    },
    {
      "cell_type": "code",
      "source": [
        "round(pd.DataFrame({\"nb_judgments\":[len(judgments[query]) for query in judgments]}).describe(),0)"
      ],
      "metadata": {
        "colab": {
          "base_uri": "https://localhost:8080/",
          "height": 300
        },
        "id": "efZaHg-eKTrW",
        "outputId": "e9068c73-f0a4-4790-e58a-eeb4dff8b175"
      },
      "execution_count": null,
      "outputs": [
        {
          "output_type": "execute_result",
          "data": {
            "text/plain": [
              "       nb_judgments\n",
              "count        9650.0\n",
              "mean            8.0\n",
              "std             1.0\n",
              "min             2.0\n",
              "25%             7.0\n",
              "50%             9.0\n",
              "75%             9.0\n",
              "max            11.0"
            ],
            "text/html": [
              "\n",
              "  <div id=\"df-97fce015-22e9-459b-81a6-0001c8df7c32\">\n",
              "    <div class=\"colab-df-container\">\n",
              "      <div>\n",
              "<style scoped>\n",
              "    .dataframe tbody tr th:only-of-type {\n",
              "        vertical-align: middle;\n",
              "    }\n",
              "\n",
              "    .dataframe tbody tr th {\n",
              "        vertical-align: top;\n",
              "    }\n",
              "\n",
              "    .dataframe thead th {\n",
              "        text-align: right;\n",
              "    }\n",
              "</style>\n",
              "<table border=\"1\" class=\"dataframe\">\n",
              "  <thead>\n",
              "    <tr style=\"text-align: right;\">\n",
              "      <th></th>\n",
              "      <th>nb_judgments</th>\n",
              "    </tr>\n",
              "  </thead>\n",
              "  <tbody>\n",
              "    <tr>\n",
              "      <th>count</th>\n",
              "      <td>9650.0</td>\n",
              "    </tr>\n",
              "    <tr>\n",
              "      <th>mean</th>\n",
              "      <td>8.0</td>\n",
              "    </tr>\n",
              "    <tr>\n",
              "      <th>std</th>\n",
              "      <td>1.0</td>\n",
              "    </tr>\n",
              "    <tr>\n",
              "      <th>min</th>\n",
              "      <td>2.0</td>\n",
              "    </tr>\n",
              "    <tr>\n",
              "      <th>25%</th>\n",
              "      <td>7.0</td>\n",
              "    </tr>\n",
              "    <tr>\n",
              "      <th>50%</th>\n",
              "      <td>9.0</td>\n",
              "    </tr>\n",
              "    <tr>\n",
              "      <th>75%</th>\n",
              "      <td>9.0</td>\n",
              "    </tr>\n",
              "    <tr>\n",
              "      <th>max</th>\n",
              "      <td>11.0</td>\n",
              "    </tr>\n",
              "  </tbody>\n",
              "</table>\n",
              "</div>\n",
              "      <button class=\"colab-df-convert\" onclick=\"convertToInteractive('df-97fce015-22e9-459b-81a6-0001c8df7c32')\"\n",
              "              title=\"Convert this dataframe to an interactive table.\"\n",
              "              style=\"display:none;\">\n",
              "        \n",
              "  <svg xmlns=\"http://www.w3.org/2000/svg\" height=\"24px\"viewBox=\"0 0 24 24\"\n",
              "       width=\"24px\">\n",
              "    <path d=\"M0 0h24v24H0V0z\" fill=\"none\"/>\n",
              "    <path d=\"M18.56 5.44l.94 2.06.94-2.06 2.06-.94-2.06-.94-.94-2.06-.94 2.06-2.06.94zm-11 1L8.5 8.5l.94-2.06 2.06-.94-2.06-.94L8.5 2.5l-.94 2.06-2.06.94zm10 10l.94 2.06.94-2.06 2.06-.94-2.06-.94-.94-2.06-.94 2.06-2.06.94z\"/><path d=\"M17.41 7.96l-1.37-1.37c-.4-.4-.92-.59-1.43-.59-.52 0-1.04.2-1.43.59L10.3 9.45l-7.72 7.72c-.78.78-.78 2.05 0 2.83L4 21.41c.39.39.9.59 1.41.59.51 0 1.02-.2 1.41-.59l7.78-7.78 2.81-2.81c.8-.78.8-2.07 0-2.86zM5.41 20L4 18.59l7.72-7.72 1.47 1.35L5.41 20z\"/>\n",
              "  </svg>\n",
              "      </button>\n",
              "      \n",
              "  <style>\n",
              "    .colab-df-container {\n",
              "      display:flex;\n",
              "      flex-wrap:wrap;\n",
              "      gap: 12px;\n",
              "    }\n",
              "\n",
              "    .colab-df-convert {\n",
              "      background-color: #E8F0FE;\n",
              "      border: none;\n",
              "      border-radius: 50%;\n",
              "      cursor: pointer;\n",
              "      display: none;\n",
              "      fill: #1967D2;\n",
              "      height: 32px;\n",
              "      padding: 0 0 0 0;\n",
              "      width: 32px;\n",
              "    }\n",
              "\n",
              "    .colab-df-convert:hover {\n",
              "      background-color: #E2EBFA;\n",
              "      box-shadow: 0px 1px 2px rgba(60, 64, 67, 0.3), 0px 1px 3px 1px rgba(60, 64, 67, 0.15);\n",
              "      fill: #174EA6;\n",
              "    }\n",
              "\n",
              "    [theme=dark] .colab-df-convert {\n",
              "      background-color: #3B4455;\n",
              "      fill: #D2E3FC;\n",
              "    }\n",
              "\n",
              "    [theme=dark] .colab-df-convert:hover {\n",
              "      background-color: #434B5C;\n",
              "      box-shadow: 0px 1px 3px 1px rgba(0, 0, 0, 0.15);\n",
              "      filter: drop-shadow(0px 1px 2px rgba(0, 0, 0, 0.3));\n",
              "      fill: #FFFFFF;\n",
              "    }\n",
              "  </style>\n",
              "\n",
              "      <script>\n",
              "        const buttonEl =\n",
              "          document.querySelector('#df-97fce015-22e9-459b-81a6-0001c8df7c32 button.colab-df-convert');\n",
              "        buttonEl.style.display =\n",
              "          google.colab.kernel.accessAllowed ? 'block' : 'none';\n",
              "\n",
              "        async function convertToInteractive(key) {\n",
              "          const element = document.querySelector('#df-97fce015-22e9-459b-81a6-0001c8df7c32');\n",
              "          const dataTable =\n",
              "            await google.colab.kernel.invokeFunction('convertToInteractive',\n",
              "                                                     [key], {});\n",
              "          if (!dataTable) return;\n",
              "\n",
              "          const docLinkHtml = 'Like what you see? Visit the ' +\n",
              "            '<a target=\"_blank\" href=https://colab.research.google.com/notebooks/data_table.ipynb>data table notebook</a>'\n",
              "            + ' to learn more about interactive tables.';\n",
              "          element.innerHTML = '';\n",
              "          dataTable['output_type'] = 'display_data';\n",
              "          await google.colab.output.renderOutput(dataTable, element);\n",
              "          const docLink = document.createElement('div');\n",
              "          docLink.innerHTML = docLinkHtml;\n",
              "          element.appendChild(docLink);\n",
              "        }\n",
              "      </script>\n",
              "    </div>\n",
              "  </div>\n",
              "  "
            ]
          },
          "metadata": {},
          "execution_count": 14
        }
      ]
    },
    {
      "cell_type": "markdown",
      "source": [
        "On average 8 judgment(s) per query"
      ],
      "metadata": {
        "id": "j7hQhfYtZw0q"
      }
    },
    {
      "cell_type": "code",
      "source": [
        "print(f\"The minimum and maximum relevance scores are {min([min(judgments[query].values()) for query in judgments])} and {max([max(judgments[query].values()) for query in judgments])} respectively\")"
      ],
      "metadata": {
        "colab": {
          "base_uri": "https://localhost:8080/"
        },
        "id": "g_IGGGpvKXUM",
        "outputId": "66cfe119-760d-4302-e737-2ea496d40acb"
      },
      "execution_count": null,
      "outputs": [
        {
          "output_type": "stream",
          "name": "stdout",
          "text": [
            "The minimum and maximum relevance scores are 1 and 2 respectively\n"
          ]
        }
      ]
    },
    {
      "cell_type": "markdown",
      "source": [
        "# Preparing for search"
      ],
      "metadata": {
        "id": "ddDpiE8Cy0kw"
      }
    },
    {
      "cell_type": "markdown",
      "source": [
        "### TF-IDF and language model\n"
      ],
      "metadata": {
        "id": "OIZ7Havcy2xU"
      }
    },
    {
      "cell_type": "markdown",
      "source": [
        "By default, the **term frequency** TF(t,d) of a term $t$ in document $d$ is given by\n",
        "$$\n",
        "TF(t,d)= 1+\\log_{10}(n_{t,d})\n",
        "$$\n",
        "where $n_{t,d}$ is the raw frequency (the number of occurences) of term $t$ in document $d$, and the **inverse document frequency** of $t$ is given by:\n",
        "$$\n",
        "IDF(t) = \\log_{10}\\bigg(\\frac{|C|}{\\big|\\{d \\in C, t\\in d\\}\\big|}\\bigg)\n",
        "$$\n",
        "where $C$ is the set of documents in the collection, and $|E|$ designates the cardinal of set $E$. Other variations of formula are also implemented. \n",
        "\n",
        "TF-IDFs are used to represent documents/queries in a same vector space (it is the Vector Space Model (Vsm)), coordinates being the TF-IDFs. This representation is sparse because documents/queries do not generally include most of the words in the collection). In Vsm, cosine similarity between query vector and document vectors is used to rank documents.\n",
        "\n",
        "\n",
        "The language model used is the **unigram model** where each term appearing in the documents are modelled as random instances with probability distribution given by:\n",
        "$$\n",
        "\\mathbb{P}(t|d) = \\frac{n_{t,d}}{n_d}\n",
        "$$\n",
        "where $n_{t,d}$ is the total number of occurences (raw frequency) of $t$ in document $d$, and $n_d$ is the total of occurrences of all terms appearing in the document (i.e the sum of the $n_{t',d}$ s). The language model is used to compute the query likelihood model (QueryLklhd) in which the aim is to estimate the probability $\\mathbb{P}(q|d)$ of query $q$ given document $d$ and rank the documents in a decreasing order of the estimates. If $q=\"t_1 t_2 ... t_q\"$ then\n",
        "\n",
        "In the original version of query likelihood model, it is assumed \n",
        "$$\\mathbb{P}(q|d) = \\prod_{j=1}^q\\mathbb{P}(t_j|d)$$\n",
        "\n",
        "This formulation allows $\\mathbb{P}(q|d)=0$ if there exists a term appearing in the query and not in the document. To avoid this, some extensions of the query likelihood model suggest a smoothing scheme (Laplace smoothing , Jelinek smoothing for example). These smoothings are not implemented yet, :). Instead the current implementation assumes $$\\mathbb{P}(q|d) = \\prod_{j=1 , t_j\\in d}^q\\mathbb{P}(t_j|d)$$"
      ],
      "metadata": {
        "id": "LV1aXteWDjb8"
      }
    },
    {
      "cell_type": "code",
      "source": [
        "tfreqs, idfs, unigram_model=tf(inverted_index_sortpost), idf(inverted_index_sortpost), unigram(inverted_index_sortpost)\n"
      ],
      "metadata": {
        "colab": {
          "base_uri": "https://localhost:8080/"
        },
        "id": "bSaJxnS5yvv7",
        "outputId": "e9432829-838d-4282-d318-64a79a2f24db"
      },
      "execution_count": null,
      "outputs": [
        {
          "output_type": "stream",
          "name": "stderr",
          "text": [
            "100%|██████████| 79176/79176 [00:05<00:00, 14451.46it/s]\n"
          ]
        }
      ]
    },
    {
      "cell_type": "markdown",
      "source": [
        "### Uploading word2vec model"
      ],
      "metadata": {
        "id": "ntug1THWzDDH"
      }
    },
    {
      "cell_type": "markdown",
      "source": [
        "google news word2vec model is used, It takes roughly up to 10 minutes to download, Run it ONCE per session."
      ],
      "metadata": {
        "id": "C8Th7vG_A-9Z"
      }
    },
    {
      "cell_type": "code",
      "source": [
        "## Takes up to 10 minutes to run, but TO RUN ONCE !!!\n",
        "path = api.load(\"word2vec-google-news-300\", return_path=True)\n",
        "# path=\"/root/gensim-data/word2vec-google-news-300/word2vec-google-news-300.gz\""
      ],
      "metadata": {
        "colab": {
          "base_uri": "https://localhost:8080/"
        },
        "id": "AP7KldiEy6xK",
        "outputId": "14e5fd6d-4650-4989-de55-54996c08d42a"
      },
      "execution_count": null,
      "outputs": [
        {
          "output_type": "stream",
          "name": "stdout",
          "text": [
            "[==================================================] 100.0% 1662.8/1662.8MB downloaded\n"
          ]
        }
      ]
    },
    {
      "cell_type": "code",
      "source": [
        "# Takes up to 1 minute to load the google news word2vec model\n",
        "w2v = gensim.models.KeyedVectors.load_word2vec_format(path, binary=True)"
      ],
      "metadata": {
        "id": "aKK4hcQL2cfg"
      },
      "execution_count": null,
      "outputs": []
    },
    {
      "cell_type": "code",
      "source": [
        "print(f\"Word2Vec model vocabulary size = {len(w2v.key_to_index)} words\")"
      ],
      "metadata": {
        "colab": {
          "base_uri": "https://localhost:8080/"
        },
        "id": "YNOuW14R2m9n",
        "outputId": "2638f432-0fb1-46fd-e078-17e6ea60e31c"
      },
      "execution_count": null,
      "outputs": [
        {
          "output_type": "stream",
          "name": "stdout",
          "text": [
            "Word2Vec model vocabulary size = 3000000 words\n"
          ]
        }
      ]
    },
    {
      "cell_type": "markdown",
      "source": [
        "### Document embedding\n"
      ],
      "metadata": {
        "id": "rLkMRFOazVWy"
      }
    },
    {
      "cell_type": "markdown",
      "source": [
        "Once we have the embeddings of the terms in the collection, one can compute the document embeddings by taking a weighted average of the embeddings of the terms it contains, that is the a document's embedding is given by:\n",
        "\n",
        "$$\n",
        "d_{embed} =  \\sum_{t \\in d} \\frac{w_{t,d}}{\\sum_{t'\\in d} w_{t',d}}  t_{embed}\n",
        "$$\n",
        "where $w_{t,d}$ is a weight for term $t\\in d$, $w_{t,d}=TF(t,d)\\times IDF(t)$ is used in the current implementation"
      ],
      "metadata": {
        "id": "xEyYX2brHc_j"
      }
    },
    {
      "cell_type": "code",
      "source": [
        "doc2vec=doc_embed(inverted_index_sortpost, tfreqs, idfs, w2v)"
      ],
      "metadata": {
        "colab": {
          "base_uri": "https://localhost:8080/"
        },
        "id": "bA-WMWl_zWFU",
        "outputId": "f2891955-4030-49af-a200-bfc8d93d6c84"
      },
      "execution_count": null,
      "outputs": [
        {
          "output_type": "stream",
          "name": "stderr",
          "text": [
            "100%|██████████| 79176/79176 [01:17<00:00, 1021.40it/s]\n"
          ]
        }
      ]
    },
    {
      "cell_type": "markdown",
      "source": [
        " ### Document clustering"
      ],
      "metadata": {
        "id": "ztCb_6GqJD7x"
      }
    },
    {
      "cell_type": "markdown",
      "source": [
        "Once documents have a numerical vector-like representation, one can cluster them. Why clustering ? The main reason is to speed-up retrieval (see W2Vec vector space model illustration). In fact when the representation of vectors is dense, computing cosine similarities on a large collection may take time. To speed up retrieval, one can precluster the documents first before a query is issued. When a query comes in, the query vector is compared to the centers (or representer in general) of the clusters (so a relatively small number of cosine similarities to compute), and afterwards the query is compared by cosine similarity to the documents in the clusters whose centers/representers are the most similar to the query.  \n",
        "\n",
        "Penalised inertia is used to compute the optimal Kmeans model with repect to the number of clusters. The objective is to minimise:\n",
        "\n",
        "$$\n",
        "\\text{Penalised Inertia}(K) = \\text{Inertia}(K) - \\text{penalty}\\times K\n",
        "$$\n",
        "w.r.t $K$"
      ],
      "metadata": {
        "id": "y9qdPscYBUnr"
      }
    },
    {
      "cell_type": "code",
      "source": [
        "doc_kmeans=cluster_docs(inverted_index_sortpost, doc_embeds=doc2vec,num_min_centr=100,num_max_centr=500, penalty=1, step=100, plot=True)\n"
      ],
      "metadata": {
        "colab": {
          "base_uri": "https://localhost:8080/",
          "height": 330
        },
        "id": "Gec3SPzSzakE",
        "outputId": "e9e815ca-a9fb-45be-c670-85f9eb9b1d16"
      },
      "execution_count": null,
      "outputs": [
        {
          "output_type": "stream",
          "name": "stdout",
          "text": [
            "Computing K-means model for different values of K\n"
          ]
        },
        {
          "output_type": "stream",
          "name": "stderr",
          "text": [
            "100%|██████████| 4/4 [33:52<00:00, 508.20s/it]\n"
          ]
        },
        {
          "output_type": "display_data",
          "data": {
            "text/plain": [
              "<Figure size 432x288 with 1 Axes>"
            ],
            "image/png": "[encoded data removed]"
          },
          "metadata": {
            "needs_background": "light"
          }
        }
      ]
    },
    {
      "cell_type": "markdown",
      "source": [
        "### Singular Value Decomposition of a word-document occurrence matrix"
      ],
      "metadata": {
        "id": "XbOASNG5DJAn"
      }
    },
    {
      "cell_type": "markdown",
      "source": [
        "This is used for latent semantic indexing, a model used in order to capture some semantic relation between the query and the documents in the collection. The idea behind this model is to start from a matrix whose coefficients are the raw frequencies of the terms in documents: \n",
        "$$\n",
        "WD=(n_{t,d}) \\in \\mathbb{R}^{|T|\\times |C|}\n",
        "$$\n",
        "where $T$ is the set of all the terms in the collection $C$.\n",
        "\n",
        "An SVD decomposition of $WD$ is given by:\n",
        "$$\n",
        "WD = U S V\n",
        "$$\n",
        "\n",
        "where $U\\in \\mathbb{O}(|T|)$ and $V \\in \\mathbb{O}(|C|)$ are orthogonal matrices and $S\\in \\mathbb{R}^{|T|\\times |C|}$ is a generalized diagonal matrix (all $S_{i,j}=0$ for $i\\neq j$). $U$ represents the matrix of latent vectors expressed in the term space and $SV$ is the matrix of the document vectors expressed in the latent space\n",
        "$$\n",
        "\\text{terms} \\left\\{\n",
        "    \\begin{array}{ll}\n",
        "         &  \\\\\n",
        "        & \n",
        "    \\end{array}\n",
        "\\right. \\overbrace{\\begin{pmatrix}\n",
        " & & & \\\\\n",
        " & & & \\\\\n",
        " \\end{pmatrix}}^{\\text{latent vectors}}=U\n",
        "$$\n",
        "\n",
        "$$\n",
        "\\text{latent vectors} \\left\\{\n",
        "    \\begin{array}{ll}\n",
        "         &  \\\\\n",
        "        & \n",
        "    \\end{array}\n",
        "\\right. \\overbrace{\\begin{pmatrix}\n",
        " & & & \\\\\n",
        " & & & \\\\\n",
        " \\end{pmatrix}}^{\\text{document vectors}}=SV\n",
        "$$\n",
        "\n",
        "To rank the documents, one projects the query vector on the latent space and compare the result to the documents representation in the latent space by cosine similarity (i.e computing $\\cos(U'q, (SV)_i)$), $U'$ designates the transpose of $U$.\n",
        "\n",
        "However from a practical point of view, $WD$ is very big in memory if we consider the whole collection (more than 10 billion integers to store in memory, easily more than 200 GB), that is why a random selection of documents is conducted first and $WD$ is built from those selected documents. "
      ],
      "metadata": {
        "id": "I5YhNo7-JYzK"
      }
    },
    {
      "cell_type": "code",
      "source": [
        "sub_inv = SubInvertedIndex()\n",
        "nb_docs=len(inverted_index_sortpost.documents)\n",
        "nb_sampled_docs=1000\n",
        "sampled_docs=np.random.choice(a=range(1,nb_docs+1),size=nb_sampled_docs, replace=False)\n",
        "sub_inv.reindex(inverted_index_sortpost, sampled_docs)"
      ],
      "metadata": {
        "colab": {
          "base_uri": "https://localhost:8080/"
        },
        "id": "C71IfBitzfUj",
        "outputId": "a316ea7d-1104-4827-ede9-d62904c288fe"
      },
      "execution_count": null,
      "outputs": [
        {
          "output_type": "stream",
          "name": "stderr",
          "text": [
            "100%|██████████| 132161/132161 [00:16<00:00, 8082.63it/s] \n",
            "100%|██████████| 132161/132161 [00:00<00:00, 1421754.02it/s]\n",
            "100%|██████████| 1000/1000 [00:00<00:00, 199766.81it/s]\n",
            "100%|██████████| 1000/1000 [00:00<00:00, 315527.27it/s]\n"
          ]
        }
      ]
    },
    {
      "cell_type": "code",
      "source": [
        "WD, wtoi, dtoi = wd(sub_inv)\n",
        "WD.shape"
      ],
      "metadata": {
        "colab": {
          "base_uri": "https://localhost:8080/"
        },
        "id": "BQiR8-0pzkp_",
        "outputId": "13cd1fb7-a995-43ed-e5b7-b176275424e4"
      },
      "execution_count": null,
      "outputs": [
        {
          "output_type": "stream",
          "name": "stderr",
          "text": [
            "1000it [00:00, 14419.36it/s]\n"
          ]
        },
        {
          "output_type": "execute_result",
          "data": {
            "text/plain": [
              "(11808, 1000)"
            ]
          },
          "metadata": {},
          "execution_count": 23
        }
      ]
    },
    {
      "cell_type": "markdown",
      "source": [
        "To speed up the retrieval a little bit, one chooses the K largest singular values of $WD$ instead and project the query vector on the space engendered by the corresponding latent vectors, not computing $\\cos(U'q, (SV)_i)$ but computing $\\cos(U_K'q, (S_KV_K)_i)$ to rank the documents, where $U_K \\in \\mathbb{R}^{|T|\\times K}$, $S_K \\in \\mathbb{R}^{K\\times K}$, $V_K \\in \\mathbb{R}^{K\\times |C|}$.\n",
        "\n",
        "The optimal $K$ is computed by maximizing with respect to $K$\n",
        "\n",
        "$$\n",
        "PSSV(K) = \\sum_{k=1}^K \\sigma_k - \\text{penalty}\\times K\n",
        "$$\n",
        "\n",
        "where $\\sigma_k$ is the $k^{th}$ largest singular value of $WD$"
      ],
      "metadata": {
        "id": "ETU70AfQhYAz"
      }
    },
    {
      "cell_type": "code",
      "source": [
        "svd_mats=opt_svd(WD,min_k=500,max_k=1000,step_k=100, penalty=5,plot=True)"
      ],
      "metadata": {
        "colab": {
          "base_uri": "https://localhost:8080/",
          "height": 330
        },
        "id": "hJ2cTat9zrEV",
        "outputId": "b9b648b3-c234-4cfb-ffa6-d6e778b4e201"
      },
      "execution_count": null,
      "outputs": [
        {
          "output_type": "stream",
          "name": "stdout",
          "text": [
            "Computing SVDs for different values of k\n"
          ]
        },
        {
          "output_type": "stream",
          "name": "stderr",
          "text": [
            "100%|██████████| 5/5 [03:13<00:00, 38.67s/it]\n"
          ]
        },
        {
          "output_type": "display_data",
          "data": {
            "text/plain": [
              "<Figure size 432x288 with 1 Axes>"
            ],
            "image/png": "[encoded data removed]"
          },
          "metadata": {
            "needs_background": "light"
          }
        }
      ]
    },
    {
      "cell_type": "markdown",
      "source": [
        "# Searching\n"
      ],
      "metadata": {
        "id": "6LyDnTqCzuoa"
      }
    },
    {
      "cell_type": "markdown",
      "source": [
        "### Simple boolean retrieval\n"
      ],
      "metadata": {
        "id": "8VNzV_Ktzw8t"
      }
    },
    {
      "cell_type": "code",
      "source": [
        "bl=Boolean(index=inverted_index_sortpost, query_type=\"AND\", correct_query=True)\n",
        "searching(bl)"
      ],
      "metadata": {
        "colab": {
          "base_uri": "https://localhost:8080/"
        },
        "id": "BJSbt9w4zvNM",
        "outputId": "fd02ba49-796d-45df-a43b-6daec72ad602"
      },
      "execution_count": null,
      "outputs": [
        {
          "name": "stdout",
          "output_type": "stream",
          "text": [
            "Welcome to the best search engine ever :)\n",
            "Enter some keywords or type \"exit\" to stop the engine: where is France ?\n",
            "Did you mean: \u001b[36mwhere is trance\u001b[0m ?\n",
            "\n",
            "\n",
            "Your query:  where is France ?\n",
            "\n",
            "Result(s): \n",
            "Nearly three times as much grenache is planted in Spain as in France. The spanish know this grape and wine as garnacha or garnacha tinta, where it is the dominant red wine variety in Catalonia and prominent in Rioja. 2 The grape is known in Italy as cannonau. Prior to the establishment of France's AOC, Burgundy's dirty little secret was that Grenache, grown in the Rhone Rhône, valley often contributed flavorful appeal to save the sometimes thin and Weak Pinot. Noir on its, own grenache can make, fleshy heady wines with lots of fruit appeal in their. youth \n",
            "\n",
            "Grenache (/ɡrəˈnɑːʃ/) or Garnacha (. [ɡarˈnatʃa]) is one of the most widely planted red wine grape varieties in the world. It ripens late, so it needs hot, dry conditions such as those found in Spain, where the grape most likely originated. It is also grown in Sardinia, the south of France, Australia, and California 's San Joaquin Valley. Until the mid 20th century, Grenache was Australia's most widely planted red wine grape variety with significant plantings in the vast Riverland region where it was vital component in the fortified port-style wines of the early Australian industry. \n",
            "\n",
            "Pinot Noir. Pinot Noir sets the benchmark for light red wine. It is the most widely grown wine variety, originally cultivated by Cistertian monks in Burgundy, France. Pinot Noir’s high acidity and low alcohol make it a great wine for long term aging. Because of the way it’s produced, Lambrusco is the lightest red wine on our list. Lambrusco is the name of several indigenous wine grapes in the region of Emilia Romagna in Northern Italy (where they make all that delicious cheese). There are about 15 kinds of Lambrusco grapes, but about 6 are commonly known. \n",
            "\n",
            "Babybel, a French version of Dutch Edam cheese, is sold internationally by 'The Bel Group, France' since 1952. In 1977, the company introduced Babybel's smaller version 'Mini Babybel', a delightful snack packed with calcium that is ready-to-eat anytime and anywhere. Today nearly 75% of Mini Babybel is consumed outside of France. Babybel, a semi-hard cheese is made from pasteurised cow milk. It comes in a net bag where each piece features a distinctive, red wax coating. As of now there are seven flavours offered in the US-Original, Sharp Original, Light, Bonbel, White Cheddar, Cheddar, and Gouda. Babybel is marketed as a on-the-go snack and is available in various flavours. So, jazz up your snack routine and enjoy a sophisticated cheese on-the-go. \n",
            "\n",
            "Fenugreek is used as an herb (dried or fresh leaves), spice (seeds), and vegetable (fresh leaves, sprouts, and microgreens). Sotolon is the chemical responsible for fenugreek's distinctive sweet smell. Major fenugreek-producing countries are Afghanistan, Pakistan, India, Iran, Nepal, Bangladesh, Argentina, Egypt, France, Spain, Turkey, and Morocco. The largest producer is India, where the major producing states are Rajasthan, Gujarat, Uttarakhand, Uttar Pradesh, Madhya Pradesh, Maharashtra, Haryana, and Punjab. \n",
            "\n",
            "Enter some keywords, type \"exit\" to quit: exit\n"
          ]
        }
      ]
    },
    {
      "cell_type": "markdown",
      "source": [
        "The correction is not good enough :). The retrieved documents, if any, are all judged relevant by the model according to the specified `query_type` argument. But in practice models with relevance score are preferred"
      ],
      "metadata": {
        "id": "jPv2XMc8-GbP"
      }
    },
    {
      "cell_type": "markdown",
      "source": [
        "### Vector Space Model"
      ],
      "metadata": {
        "id": "CpKb86d2z3Yi"
      }
    },
    {
      "cell_type": "code",
      "source": [
        "vsm=Vsm(index=inverted_index_sortpost, tfreqs=tfreqs, idfs=idfs, top=4, correct_query=False)\n",
        "searching(vsm)"
      ],
      "metadata": {
        "colab": {
          "base_uri": "https://localhost:8080/"
        },
        "id": "lYNHlpQcz_B_",
        "outputId": "444206ca-dbc3-4674-8a09-c9ea3dbc0edc"
      },
      "execution_count": null,
      "outputs": [
        {
          "name": "stdout",
          "output_type": "stream",
          "text": [
            "Welcome to the best search engine ever :)\n",
            "Enter some keywords or type \"exit\" to stop the engine: where is France ?\n",
            "Your query:  where is France ?\n",
            "\n",
            "Result(s): \n",
            "The Pyrenees. Feedback: France and Spain are separated by the Pyrenees range of mountains. The Pyrenees, is a range of mountains in southwest Europe that forms a natural border between France and Spain.  \n",
            "\n",
            "Hide summary. France to the west, Russia to the east; Germany had a strategic plan in case of war in... France to the west, Russia to the east; Germany had a strategic plan in case of war in the early 20th century.  \n",
            "\n",
            "Definition of MISTRAL. : a strong cold dry northerly wind of southern France. ADVERTISEMENT. \n",
            "\n",
            "Toulouse is one of France's most beautiful cities. It's a city located in southwest France. The metropolitan area of Toulouse is the second largest in Southern France and one of the fastest growing in Southern Europe. It is also the fourth largest city of France. Toulouse is called the chief city of Midi-Pyrenees Region. \n",
            "\n",
            "Enter some keywords, type \"exit\" to quit: exit\n"
          ]
        }
      ]
    },
    {
      "cell_type": "markdown",
      "source": [
        "### Binary Independence models\n"
      ],
      "metadata": {
        "id": "KG0S-Oaa0DcE"
      }
    },
    {
      "cell_type": "code",
      "source": [
        "bim=Bim(index=inverted_index_sortpost , top=3, correct_query=False)\n",
        "searching(bim)"
      ],
      "metadata": {
        "colab": {
          "base_uri": "https://localhost:8080/"
        },
        "id": "TcuImwy70GE3",
        "outputId": "20ad2c3a-2777-41e2-aaf0-213ec19364dd"
      },
      "execution_count": null,
      "outputs": [
        {
          "name": "stdout",
          "output_type": "stream",
          "text": [
            "Welcome to the best search engine ever :)\n",
            "Enter some keywords or type \"exit\" to stop the engine: save the world !!!\n",
            "Your query:  save the world !!!\n",
            "\n",
            "Result(s): \n",
            "The Answer: The first national observance of Daylight Saving Time in the United States was in 1918, to save energy during World War I. This lasted seven months before being repealed. A similar, year-round, national observance went into effect in World War II, starting February 9, 1942, and ending September 30, 1945. Beginning in 2007, the observance starts on the second Sunday in March and ends in the first Sunday in November, adding an additional month. For more on Daylight Saving Time around the world, click here. \n",
            "\n",
            "There are volcanoes all over the world. They are above sea level and below the oceans. What a volcano actually is a hole in the Earth’s crust that lava and other Earth debris come out of a lot of the. time or even hundreds of years apart. A lot of volcanoes are in a form of a mountain or a hill that have a crater from past eruptions. Many times, before an eruption, there is activity in the Earth’s surface that make the ground shake or even the crater in the volcano grow. Scientists are getting better at predicting eruptions. This can save many lives.  \n",
            "\n",
            "The surrender of the Empire of Japan was announced by Imperial Japan on August 15 and formally signed on September 2, 1945, bringing the hostilities of World War II to a close. By the end of July 1945, the Imperial Japanese Navy was incapable of conducting major operations and an Allied invasion of Japan was imminent. If Japan does not surrender, bombs will have to be dropped on her war industries and, unfortunately, thousands of civilian lives will be lost. I urge Japanese civilians to leave industrial cities immediately, and save themselves from destruction. I realize the tragic significance of the atomic bomb. \n",
            "\n",
            "Enter some keywords, type \"exit\" to quit: exit\n"
          ]
        }
      ]
    },
    {
      "cell_type": "markdown",
      "source": [
        "##### Improvement with some extensions"
      ],
      "metadata": {
        "id": "qK2ODZSf0Kgr"
      }
    },
    {
      "cell_type": "code",
      "source": [
        "two_poisson=BimExt(index=inverted_index_sortpost,k=1.25, b=0, top=3)\n",
        "searching(two_poisson)"
      ],
      "metadata": {
        "colab": {
          "base_uri": "https://localhost:8080/"
        },
        "id": "H25IHfPS0PkY",
        "outputId": "8dcc89f4-a74b-4462-dfe8-349f4f337497"
      },
      "execution_count": null,
      "outputs": [
        {
          "name": "stdout",
          "output_type": "stream",
          "text": [
            "Welcome to the best search engine ever :)\n",
            "Enter some keywords or type \"exit\" to stop the engine: save the world !!!\n",
            "Your query:  save the world !!!\n",
            "\n",
            "Result(s): \n",
            "Definition of Green. Living a green lifestyle – or going green – can begin in small, easy to manage ways. Recycling is a huge, obvious part of helping to save the world through green living. Reducing one’s reliance on oil-based energy sources is another popular method employed in trying to save the world. \n",
            "\n",
            "Going Green Tips. Some people find that an easy way of going green and helping to save the planet is by creating a compost pile in their backyards. Planting a vegetable garden instead of water hugging grass is another method being used by many people who are trying to save the world. \n",
            "\n",
            "The Answer: The first national observance of Daylight Saving Time in the United States was in 1918, to save energy during World War I. This lasted seven months before being repealed. A similar, year-round, national observance went into effect in World War II, starting February 9, 1942, and ending September 30, 1945. Beginning in 2007, the observance starts on the second Sunday in March and ends in the first Sunday in November, adding an additional month. For more on Daylight Saving Time around the world, click here. \n",
            "\n",
            "Enter some keywords, type \"exit\" to quit: exit\n"
          ]
        }
      ]
    },
    {
      "cell_type": "code",
      "source": [
        "bm11=BimExt(index=inverted_index_sortpost, top=3, k=1.5, b=1)\n",
        "searching(bm11)"
      ],
      "metadata": {
        "colab": {
          "base_uri": "https://localhost:8080/"
        },
        "id": "d1FJLQkI0Wfc",
        "outputId": "3d62c985-9bc8-474e-a788-64bcd4ba1b1e"
      },
      "execution_count": null,
      "outputs": [
        {
          "name": "stdout",
          "output_type": "stream",
          "text": [
            "Welcome to the best search engine ever :)\n",
            "Enter some keywords or type \"exit\" to stop the engine: save the world !!!\n",
            "Your query:  save the world !!!\n",
            "\n",
            "Result(s): \n",
            "Definition of Green. Living a green lifestyle – or going green – can begin in small, easy to manage ways. Recycling is a huge, obvious part of helping to save the world through green living. Reducing one’s reliance on oil-based energy sources is another popular method employed in trying to save the world. \n",
            "\n",
            "Going Green Tips. Some people find that an easy way of going green and helping to save the planet is by creating a compost pile in their backyards. Planting a vegetable garden instead of water hugging grass is another method being used by many people who are trying to save the world. \n",
            "\n",
            "In Acrobat Reader DC Save As Save As. To save a copy of a PDF Portfolio Save As Other PDF Portfolio. If you are viewing a PDF in a web browser, the Acrobat File menu is not available. Use the Save A Copy button in the Acrobat toolbar to save the PDF. To the top. \n",
            "\n",
            "Enter some keywords, type \"exit\" to quit: exit\n"
          ]
        }
      ]
    },
    {
      "cell_type": "code",
      "source": [
        "bm25=BimExt(index=inverted_index_sortpost, top=3, k=1.5, b=0.8)\n",
        "searching(bm25)"
      ],
      "metadata": {
        "colab": {
          "base_uri": "https://localhost:8080/"
        },
        "id": "-n2UeGsj0blD",
        "outputId": "527ac60a-97f5-49a3-ba07-d6c99d81869f"
      },
      "execution_count": null,
      "outputs": [
        {
          "name": "stdout",
          "output_type": "stream",
          "text": [
            "Welcome to the best search engine ever :)\n",
            "Enter some keywords or type \"exit\" to stop the engine: save the world !!!\n",
            "Your query:  save the world !!!\n",
            "\n",
            "Result(s): \n",
            "Definition of Green. Living a green lifestyle – or going green – can begin in small, easy to manage ways. Recycling is a huge, obvious part of helping to save the world through green living. Reducing one’s reliance on oil-based energy sources is another popular method employed in trying to save the world. \n",
            "\n",
            "Going Green Tips. Some people find that an easy way of going green and helping to save the planet is by creating a compost pile in their backyards. Planting a vegetable garden instead of water hugging grass is another method being used by many people who are trying to save the world. \n",
            "\n",
            "In Acrobat Reader DC Save As Save As. To save a copy of a PDF Portfolio Save As Other PDF Portfolio. If you are viewing a PDF in a web browser, the Acrobat File menu is not available. Use the Save A Copy button in the Acrobat toolbar to save the PDF. To the top. \n",
            "\n",
            "Enter some keywords, type \"exit\" to quit: exit\n"
          ]
        }
      ]
    },
    {
      "cell_type": "markdown",
      "source": [
        "### Language model"
      ],
      "metadata": {
        "id": "uy8bDSk70gwa"
      }
    },
    {
      "cell_type": "code",
      "source": [
        "ql=QueryLklhd(index=inverted_index_sortpost, lang_model=unigram_model, top=3)\n",
        "searching(ql)"
      ],
      "metadata": {
        "colab": {
          "base_uri": "https://localhost:8080/"
        },
        "id": "LXm5-W-s0hVW",
        "outputId": "8a3c952b-edb6-48bd-864f-a93d72149e05"
      },
      "execution_count": null,
      "outputs": [
        {
          "name": "stdout",
          "output_type": "stream",
          "text": [
            "Welcome to the best search engine ever :)\n",
            "Enter some keywords or type \"exit\" to stop the engine: save the world !!!\n",
            "Your query:  save the world !!!\n",
            "\n",
            "Result(s): \n",
            "The shorter the pushrod side of the rocker arm and the longer the valve side of the rocker arm, the higher the lift ratio of the rocker. If the length of the valve side of the rocker is 1.5 times that of the pushrod side, the lift ratio will be 1.5:1.  \n",
            "\n",
            "Remove the Transmission from the Vehicle. Place a transmission jack underneath the transmission. Raise the jack until it is supporting the weight of the transmission. Remove the bolts that connect the engine to the transmission. Remove the bolts that secure the transmission to the engine. Remove the bolts that secure the transmission to the transmission crossmember. Remove the bolts that connect the transmission crossmember to the vehicle's frame. Remove the transmission crossmember from the vehicle. Slide the transmission rearward until the front of the transmission housing disengages from the locating pins on the engine block \n",
            "\n",
            "The vertebral border of the scapula is also known as the medial border of the scapula, the  internal border of the scapula  and sometimes as the  base (of the scapula). The 3 borders of the scapula are 1  : the superior border of the scapula. 2  the medial border of the scapula (also known as the vertebral border of the scapula), and. 3  the axillary border of the scapula (also known as the lateral border of the scapula). \n",
            "\n",
            "Enter some keywords, type \"exit\" to quit: exit\n"
          ]
        }
      ]
    },
    {
      "cell_type": "markdown",
      "source": [
        "### Word2Vec Vector Space model"
      ],
      "metadata": {
        "id": "u_FxiqBW00iC"
      }
    },
    {
      "cell_type": "code",
      "source": [
        "# This takes up to 10 seconds to run a query\n",
        "w2vvsm_np=W2Vsm(index=inverted_index_sortpost, top=3, idfs=idfs, word_embeds=w2v, doc_embeds=doc2vec, precluster=False)\n",
        "searching(w2vvsm_np)"
      ],
      "metadata": {
        "colab": {
          "base_uri": "https://localhost:8080/"
        },
        "id": "XQlFn2XD01Ib",
        "outputId": "9d8bb504-77b4-407a-d549-d2de17c03364"
      },
      "execution_count": null,
      "outputs": [
        {
          "name": "stdout",
          "output_type": "stream",
          "text": [
            "Welcome to the best search engine ever :)\n",
            "Enter some keywords or type \"exit\" to stop the engine: what is AIDS ?\n"
          ]
        },
        {
          "output_type": "stream",
          "name": "stderr",
          "text": [
            "100%|██████████| 79176/79176 [00:10<00:00, 7472.77it/s]\n"
          ]
        },
        {
          "name": "stdout",
          "output_type": "stream",
          "text": [
            "Your query:  what is AIDS ?\n",
            "\n",
            "Result(s): \n",
            "Physical therapist assistants (PTAs) work as part of a dynamic healthcare team. Assistants help physical therapists maintain therapy facilities and monitor patient progress, while also helping patients by assisting them on difficult movements and instructing them on how to use walking aids.  \n",
            "\n",
            "Biofeedback sessions are typically done in a therapist's office, but there are computer programs that connect the biofeedback sensor to your own computer. A biofeedback therapist helps you practice relaxation exercises, which you fine-tune to control different body functions. Researchers aren't exactly sure how or why biofeedback works. They do know that biofeedback promotes relaxation, which can help relieve a number of conditions that are related to stress. During a biofeedback session, electrodes are attached to your skin. Finger sensors can also be used. These electrodes/sensors send signals to a monitor, which displays a sound, flash of light, or image that represents your heart and breathing rate, blood pressure, skin temperature, sweating, or muscle activity \n",
            "\n",
            "Uses. Famotidine is used to help reduce the amount of stomach acid produced. It aids in the treatment of stomach ulcers that are present and helps prevent ulcer formation.  \n",
            "\n",
            "Enter some keywords, type \"exit\" to quit: exit\n"
          ]
        }
      ]
    },
    {
      "cell_type": "code",
      "source": [
        "w2vvsm_p=W2Vsm(index=inverted_index_sortpost, idfs=idfs, top=3, word_embeds=w2v, doc_embeds=doc2vec, precluster=True,\n",
        "               cluster_centers=doc_kmeans.cluster_centers_, doc_cluster_labels=doc_kmeans.labels_, top_center=10)\n",
        "searching(w2vvsm_p)"
      ],
      "metadata": {
        "colab": {
          "base_uri": "https://localhost:8080/"
        },
        "id": "p1jBI-l90-Ib",
        "outputId": "c927d6c3-cc98-4dfd-e7a0-0c3376ee892d"
      },
      "execution_count": null,
      "outputs": [
        {
          "name": "stdout",
          "output_type": "stream",
          "text": [
            "Welcome to the best search engine ever :)\n",
            "Enter some keywords or type \"exit\" to stop the engine: what is AIDS ?\n",
            "Your query:  what is AIDS ?\n",
            "\n",
            "Result(s): \n",
            "Physical therapist assistants (PTAs) work as part of a dynamic healthcare team. Assistants help physical therapists maintain therapy facilities and monitor patient progress, while also helping patients by assisting them on difficult movements and instructing them on how to use walking aids.  \n",
            "\n",
            "Biofeedback sessions are typically done in a therapist's office, but there are computer programs that connect the biofeedback sensor to your own computer. A biofeedback therapist helps you practice relaxation exercises, which you fine-tune to control different body functions. Researchers aren't exactly sure how or why biofeedback works. They do know that biofeedback promotes relaxation, which can help relieve a number of conditions that are related to stress. During a biofeedback session, electrodes are attached to your skin. Finger sensors can also be used. These electrodes/sensors send signals to a monitor, which displays a sound, flash of light, or image that represents your heart and breathing rate, blood pressure, skin temperature, sweating, or muscle activity \n",
            "\n",
            "The biofeedback can help motivate a person to improve the technique. Biofeedback can help a person gain more control over some of the body's functions that they don’t usually think about. Biofeedback may also help with migraine headaches, chronic pain, incontinence and high blood pressure. The idea behind biofeedback is that, by harnessing the power of your mind and becoming aware of what's going on inside your body, you may gain more control over your health. Researchers aren't exactly sure how or why biofeedback works. They do know that biofeedback promotes relaxation, which can help relieve a number of conditions that are related to stress; but there is limited research on this treatment. During a biofeedback session, electrodes are attached to your skin. \n",
            "\n",
            "Enter some keywords, type \"exit\" to quit: exit\n"
          ]
        }
      ]
    },
    {
      "cell_type": "markdown",
      "source": [
        "### Latent semantic indexing\n"
      ],
      "metadata": {
        "id": "Uv_lIDfA1BJD"
      }
    },
    {
      "cell_type": "code",
      "source": [
        "lsi=Lsi(index=sub_inv, idfs=idfs, top=3, svd_word_doc_mat=svd_mats, dtoi=dtoi, wtoi=wtoi)\n",
        "searching(lsi)"
      ],
      "metadata": {
        "colab": {
          "base_uri": "https://localhost:8080/"
        },
        "id": "Q5k3e6d31Bl5",
        "outputId": "5562ce75-141e-4b80-9a36-1b7055ea46a9"
      },
      "execution_count": null,
      "outputs": [
        {
          "name": "stdout",
          "output_type": "stream",
          "text": [
            "Welcome to the best search engine ever :)\n",
            "Enter some keywords or type \"exit\" to stop the engine: what is money ?\n",
            "Your query:  what is money ?\n",
            "\n",
            "Result(s): \n",
            "On a $500,000 transaction, a buyer in our market would typically make an earnest money deposit of $5,000-$10,000. Remember, the earnest money deposit is not set and is to be negotiated between the buyer and seller. Here are some recommendations when trying to determine the proper amount of earnest money. \n",
            "\n",
            "What does unremarkable mean in medical terms? already exists. already exists as an alternate of this question. exists and is an alternate of. What do you think it is about Sirens that resonates with viewers? What does grossly unremarkable mean in medical terms? What does pulmonary vascular is unremarkable mean? What does unremarkable for age ... The comment 'unremarkable' in all laboratory testing, exams, and machine scans means there was nothing in the scan, test, or exam that indicates a problem. Everything ap … pears to be normal. \n",
            "\n",
            "1 All these cards charge similar ATM fees for the currencies they cover and give comparable exchange rates. 2  The exception is the OzForex Travel Card, which consistently offered better exchange rates, though they would be partially offset by a $15 purchase and $10 closing fee. That depends on the length of your trip and how much money you plan to throw around. If you're travelling for a couple of weeks or more and shopping is on the agenda, a travel money card is a good idea. \n",
            "\n",
            "Enter some keywords, type \"exit\" to quit: exit\n"
          ]
        }
      ]
    },
    {
      "cell_type": "markdown",
      "source": [
        "# Evaluation"
      ],
      "metadata": {
        "id": "br6RGEoX1Gk5"
      }
    },
    {
      "cell_type": "code",
      "source": [
        "[f'{query}: {judgments[query]}' for pos, query in enumerate(judgments) if pos<=2]"
      ],
      "metadata": {
        "colab": {
          "base_uri": "https://localhost:8080/"
        },
        "id": "8ToHMY37gvGL",
        "outputId": "9e75c05d-db32-4503-82d6-63cb72e1e9c4"
      },
      "execution_count": null,
      "outputs": [
        {
          "output_type": "execute_result",
          "data": {
            "text/plain": [
              "['does human hair stop squirrels: {1: 1, 2: 1, 3: 2, 4: 1, 5: 1, 6: 1, 7: 1}',\n",
              " 'what are the benefits of fossil fuels: {8: 1, 9: 2, 10: 1, 11: 1, 12: 1, 13: 1, 14: 1, 15: 1, 16: 1}',\n",
              " 'what is a apothem: {17: 1, 18: 1, 19: 1, 20: 1, 21: 1, 22: 2, 23: 1, 24: 1, 25: 1}']"
            ]
          },
          "metadata": {},
          "execution_count": 25
        }
      ]
    },
    {
      "cell_type": "markdown",
      "source": [
        "Each document is associated to document ids and the corresponding relevance judgments (relevance equal to msmarco initial relevance + 1)"
      ],
      "metadata": {
        "id": "XZq__0VAqs7V"
      }
    },
    {
      "cell_type": "code",
      "source": [
        "benchmark={\n",
        "      \"vsm\": {\"model\":[Vsm(index=inverted_index_sortpost, tfreqs=tfreqs, idfs=idfs)]},\n",
        "      \"bim\": {\"model\":[Bim(index=inverted_index_sortpost)]},\n",
        "      \"query_likelihood\": {\"model\":[QueryLklhd(index=inverted_index_sortpost, lang_model=unigram_model)]}, \n",
        "      \"w2vsm\":{\"model\":[W2Vsm(index=inverted_index_sortpost, idfs=idfs, word_embeds=w2v, doc_embeds=doc2vec, precluster=True,\\\n",
        "                              cluster_centers=doc_kmeans.cluster_centers_, doc_cluster_labels=doc_kmeans.labels_, top_center=10)]},\n",
        "      \"lsi\": {\"model\":[Lsi(index=sub_inv, idfs=idfs, svd_word_doc_mat=svd_mats, dtoi=dtoi, wtoi=wtoi)]}     \n",
        "           }\n",
        "\n",
        "ks=np.linspace(1,2,10)\n",
        "bs=np.linspace(0.05,0.95,10)\n",
        "# ks=[1.5]\n",
        "# bs=[0.75]\n",
        "\n",
        "at_Ks=[10]\n",
        "\n",
        "for ext in [\"two_poisson\", \"bm11\"]:\n",
        "      benchmark[ext]={\"model\":[BimExt(index=inverted_index_sortpost, b=(ext==\"bm11\")*1, k=k) for k in ks]}\n",
        "benchmark[\"bm25\"]={\"model\":[BimExt(index=inverted_index_sortpost, b=b, k=k) for b in bs for k in ks]}\n",
        "\n",
        "for m in benchmark:\n",
        "      benchmark[m][\"MRR@\"]={K: [] for K in at_Ks}\n",
        "      benchmark[m][\"MAP\"] = []\n",
        "\n",
        "subjudgments={query: rel for pos, (query, rel) in enumerate(judgments.items()) if pos<100}"
      ],
      "metadata": {
        "id": "__p1bIEAgydP"
      },
      "execution_count": null,
      "outputs": []
    },
    {
      "cell_type": "code",
      "source": [
        "results=run_benchmark(benchmark, subjudgments)"
      ],
      "metadata": {
        "colab": {
          "base_uri": "https://localhost:8080/"
        },
        "id": "FYWhm6P4rJEM",
        "outputId": "c2432a80-8884-47a7-cbab-2ea1ac53141f"
      },
      "execution_count": null,
      "outputs": [
        {
          "output_type": "stream",
          "name": "stdout",
          "text": [
            "Running 1 vsm model(s)\n",
            "\t1 model over 1\n"
          ]
        },
        {
          "output_type": "stream",
          "name": "stderr",
          "text": [
            "100%|██████████| 100/100 [08:39<00:00,  5.19s/it]\n",
            "100%|██████████| 100/100 [08:36<00:00,  5.17s/it]\n"
          ]
        },
        {
          "output_type": "stream",
          "name": "stdout",
          "text": [
            "Running 1 bim model(s)\n",
            "\t1 model over 1\n"
          ]
        },
        {
          "output_type": "stream",
          "name": "stderr",
          "text": [
            "100%|██████████| 100/100 [00:19<00:00,  5.03it/s]\n",
            "100%|██████████| 100/100 [00:19<00:00,  5.09it/s]\n"
          ]
        },
        {
          "output_type": "stream",
          "name": "stdout",
          "text": [
            "Running 1 query_likelihood model(s)\n",
            "\t1 model over 1\n"
          ]
        },
        {
          "output_type": "stream",
          "name": "stderr",
          "text": [
            "100%|██████████| 100/100 [00:20<00:00,  4.81it/s]\n",
            "100%|██████████| 100/100 [00:21<00:00,  4.72it/s]\n"
          ]
        },
        {
          "output_type": "stream",
          "name": "stdout",
          "text": [
            "Running 1 w2vsm model(s)\n",
            "\t1 model over 1\n"
          ]
        },
        {
          "output_type": "stream",
          "name": "stderr",
          "text": [
            "100%|██████████| 100/100 [00:33<00:00,  2.99it/s]\n",
            "100%|██████████| 100/100 [00:33<00:00,  2.99it/s]\n"
          ]
        },
        {
          "output_type": "stream",
          "name": "stdout",
          "text": [
            "Running 1 lsi model(s)\n",
            "\t1 model over 1\n"
          ]
        },
        {
          "output_type": "stream",
          "name": "stderr",
          "text": [
            "100%|██████████| 100/100 [02:07<00:00,  1.27s/it]\n",
            "100%|██████████| 100/100 [02:08<00:00,  1.29s/it]\n"
          ]
        },
        {
          "output_type": "stream",
          "name": "stdout",
          "text": [
            "Running 10 two_poisson model(s)\n",
            "\t1 model over 10\n"
          ]
        },
        {
          "output_type": "stream",
          "name": "stderr",
          "text": [
            "100%|██████████| 100/100 [00:52<00:00,  1.92it/s]\n",
            "100%|██████████| 100/100 [00:51<00:00,  1.94it/s]\n"
          ]
        },
        {
          "output_type": "stream",
          "name": "stdout",
          "text": [
            "\t2 model over 10\n"
          ]
        },
        {
          "output_type": "stream",
          "name": "stderr",
          "text": [
            "100%|██████████| 100/100 [00:51<00:00,  1.95it/s]\n",
            "100%|██████████| 100/100 [00:51<00:00,  1.93it/s]\n"
          ]
        },
        {
          "output_type": "stream",
          "name": "stdout",
          "text": [
            "\t3 model over 10\n"
          ]
        },
        {
          "output_type": "stream",
          "name": "stderr",
          "text": [
            "100%|██████████| 100/100 [00:51<00:00,  1.95it/s]\n",
            "100%|██████████| 100/100 [00:51<00:00,  1.95it/s]\n"
          ]
        },
        {
          "output_type": "stream",
          "name": "stdout",
          "text": [
            "\t4 model over 10\n"
          ]
        },
        {
          "output_type": "stream",
          "name": "stderr",
          "text": [
            "100%|██████████| 100/100 [00:51<00:00,  1.94it/s]\n",
            "100%|██████████| 100/100 [00:56<00:00,  1.78it/s]\n"
          ]
        },
        {
          "output_type": "stream",
          "name": "stdout",
          "text": [
            "\t5 model over 10\n"
          ]
        },
        {
          "output_type": "stream",
          "name": "stderr",
          "text": [
            "100%|██████████| 100/100 [00:51<00:00,  1.96it/s]\n",
            "100%|██████████| 100/100 [00:52<00:00,  1.91it/s]\n"
          ]
        },
        {
          "output_type": "stream",
          "name": "stdout",
          "text": [
            "\t6 model over 10\n"
          ]
        },
        {
          "output_type": "stream",
          "name": "stderr",
          "text": [
            "100%|██████████| 100/100 [00:51<00:00,  1.95it/s]\n",
            "100%|██████████| 100/100 [00:51<00:00,  1.93it/s]\n"
          ]
        },
        {
          "output_type": "stream",
          "name": "stdout",
          "text": [
            "\t7 model over 10\n"
          ]
        },
        {
          "output_type": "stream",
          "name": "stderr",
          "text": [
            "100%|██████████| 100/100 [00:51<00:00,  1.94it/s]\n",
            "100%|██████████| 100/100 [00:51<00:00,  1.94it/s]\n"
          ]
        },
        {
          "output_type": "stream",
          "name": "stdout",
          "text": [
            "\t8 model over 10\n"
          ]
        },
        {
          "output_type": "stream",
          "name": "stderr",
          "text": [
            "100%|██████████| 100/100 [00:51<00:00,  1.96it/s]\n",
            "100%|██████████| 100/100 [00:51<00:00,  1.93it/s]\n"
          ]
        },
        {
          "output_type": "stream",
          "name": "stdout",
          "text": [
            "\t9 model over 10\n"
          ]
        },
        {
          "output_type": "stream",
          "name": "stderr",
          "text": [
            "100%|██████████| 100/100 [00:51<00:00,  1.95it/s]\n",
            "100%|██████████| 100/100 [00:51<00:00,  1.95it/s]\n"
          ]
        },
        {
          "output_type": "stream",
          "name": "stdout",
          "text": [
            "\t10 model over 10\n"
          ]
        },
        {
          "output_type": "stream",
          "name": "stderr",
          "text": [
            "100%|██████████| 100/100 [00:51<00:00,  1.94it/s]\n",
            "100%|██████████| 100/100 [00:51<00:00,  1.96it/s]\n"
          ]
        },
        {
          "output_type": "stream",
          "name": "stdout",
          "text": [
            "Running 10 bm11 model(s)\n",
            "\t1 model over 10\n"
          ]
        },
        {
          "output_type": "stream",
          "name": "stderr",
          "text": [
            "100%|██████████| 100/100 [00:52<00:00,  1.91it/s]\n",
            "100%|██████████| 100/100 [00:54<00:00,  1.85it/s]\n"
          ]
        },
        {
          "output_type": "stream",
          "name": "stdout",
          "text": [
            "\t2 model over 10\n"
          ]
        },
        {
          "output_type": "stream",
          "name": "stderr",
          "text": [
            "100%|██████████| 100/100 [00:51<00:00,  1.93it/s]\n",
            "100%|██████████| 100/100 [00:53<00:00,  1.88it/s]\n"
          ]
        },
        {
          "output_type": "stream",
          "name": "stdout",
          "text": [
            "\t3 model over 10\n"
          ]
        },
        {
          "output_type": "stream",
          "name": "stderr",
          "text": [
            "100%|██████████| 100/100 [00:52<00:00,  1.90it/s]\n",
            "100%|██████████| 100/100 [00:51<00:00,  1.93it/s]\n"
          ]
        },
        {
          "output_type": "stream",
          "name": "stdout",
          "text": [
            "\t4 model over 10\n"
          ]
        },
        {
          "output_type": "stream",
          "name": "stderr",
          "text": [
            "100%|██████████| 100/100 [00:53<00:00,  1.88it/s]\n",
            "100%|██████████| 100/100 [00:52<00:00,  1.90it/s]\n"
          ]
        },
        {
          "output_type": "stream",
          "name": "stdout",
          "text": [
            "\t5 model over 10\n"
          ]
        },
        {
          "output_type": "stream",
          "name": "stderr",
          "text": [
            "100%|██████████| 100/100 [00:52<00:00,  1.89it/s]\n",
            "100%|██████████| 100/100 [00:52<00:00,  1.92it/s]\n"
          ]
        },
        {
          "output_type": "stream",
          "name": "stdout",
          "text": [
            "\t6 model over 10\n"
          ]
        },
        {
          "output_type": "stream",
          "name": "stderr",
          "text": [
            "100%|██████████| 100/100 [00:52<00:00,  1.91it/s]\n",
            "100%|██████████| 100/100 [00:51<00:00,  1.95it/s]\n"
          ]
        },
        {
          "output_type": "stream",
          "name": "stdout",
          "text": [
            "\t7 model over 10\n"
          ]
        },
        {
          "output_type": "stream",
          "name": "stderr",
          "text": [
            "100%|██████████| 100/100 [00:52<00:00,  1.90it/s]\n",
            "100%|██████████| 100/100 [00:52<00:00,  1.92it/s]\n"
          ]
        },
        {
          "output_type": "stream",
          "name": "stdout",
          "text": [
            "\t8 model over 10\n"
          ]
        },
        {
          "output_type": "stream",
          "name": "stderr",
          "text": [
            "100%|██████████| 100/100 [00:52<00:00,  1.89it/s]\n",
            "100%|██████████| 100/100 [00:52<00:00,  1.92it/s]\n"
          ]
        },
        {
          "output_type": "stream",
          "name": "stdout",
          "text": [
            "\t9 model over 10\n"
          ]
        },
        {
          "output_type": "stream",
          "name": "stderr",
          "text": [
            "100%|██████████| 100/100 [00:52<00:00,  1.91it/s]\n",
            "100%|██████████| 100/100 [00:52<00:00,  1.89it/s]\n"
          ]
        },
        {
          "output_type": "stream",
          "name": "stdout",
          "text": [
            "\t10 model over 10\n"
          ]
        },
        {
          "output_type": "stream",
          "name": "stderr",
          "text": [
            "100%|██████████| 100/100 [00:53<00:00,  1.88it/s]\n",
            "100%|██████████| 100/100 [00:53<00:00,  1.88it/s]\n"
          ]
        },
        {
          "output_type": "stream",
          "name": "stdout",
          "text": [
            "Running 100 bm25 model(s)\n",
            "\t1 model over 100\n"
          ]
        },
        {
          "output_type": "stream",
          "name": "stderr",
          "text": [
            "100%|██████████| 100/100 [00:51<00:00,  1.94it/s]\n",
            "100%|██████████| 100/100 [00:50<00:00,  1.98it/s]\n"
          ]
        },
        {
          "output_type": "stream",
          "name": "stdout",
          "text": [
            "\t2 model over 100\n"
          ]
        },
        {
          "output_type": "stream",
          "name": "stderr",
          "text": [
            "100%|██████████| 100/100 [00:51<00:00,  1.94it/s]\n",
            "100%|██████████| 100/100 [00:50<00:00,  1.99it/s]\n"
          ]
        },
        {
          "output_type": "stream",
          "name": "stdout",
          "text": [
            "\t3 model over 100\n"
          ]
        },
        {
          "output_type": "stream",
          "name": "stderr",
          "text": [
            "100%|██████████| 100/100 [00:52<00:00,  1.91it/s]\n",
            "100%|██████████| 100/100 [00:51<00:00,  1.94it/s]\n"
          ]
        },
        {
          "output_type": "stream",
          "name": "stdout",
          "text": [
            "\t4 model over 100\n"
          ]
        },
        {
          "output_type": "stream",
          "name": "stderr",
          "text": [
            "100%|██████████| 100/100 [00:50<00:00,  1.98it/s]\n",
            "100%|██████████| 100/100 [00:51<00:00,  1.93it/s]\n"
          ]
        },
        {
          "output_type": "stream",
          "name": "stdout",
          "text": [
            "\t5 model over 100\n"
          ]
        },
        {
          "output_type": "stream",
          "name": "stderr",
          "text": [
            "100%|██████████| 100/100 [00:50<00:00,  1.98it/s]\n",
            "100%|██████████| 100/100 [00:50<00:00,  1.97it/s]\n"
          ]
        },
        {
          "output_type": "stream",
          "name": "stdout",
          "text": [
            "\t6 model over 100\n"
          ]
        },
        {
          "output_type": "stream",
          "name": "stderr",
          "text": [
            "100%|██████████| 100/100 [00:52<00:00,  1.90it/s]\n",
            "100%|██████████| 100/100 [00:51<00:00,  1.96it/s]\n"
          ]
        },
        {
          "output_type": "stream",
          "name": "stdout",
          "text": [
            "\t7 model over 100\n"
          ]
        },
        {
          "output_type": "stream",
          "name": "stderr",
          "text": [
            "100%|██████████| 100/100 [00:50<00:00,  1.97it/s]\n",
            "100%|██████████| 100/100 [00:50<00:00,  1.98it/s]\n"
          ]
        },
        {
          "output_type": "stream",
          "name": "stdout",
          "text": [
            "\t8 model over 100\n"
          ]
        },
        {
          "output_type": "stream",
          "name": "stderr",
          "text": [
            "100%|██████████| 100/100 [00:52<00:00,  1.92it/s]\n",
            "100%|██████████| 100/100 [00:50<00:00,  1.98it/s]\n"
          ]
        },
        {
          "output_type": "stream",
          "name": "stdout",
          "text": [
            "\t9 model over 100\n"
          ]
        },
        {
          "output_type": "stream",
          "name": "stderr",
          "text": [
            "100%|██████████| 100/100 [00:52<00:00,  1.90it/s]\n",
            "100%|██████████| 100/100 [00:51<00:00,  1.94it/s]\n"
          ]
        },
        {
          "output_type": "stream",
          "name": "stdout",
          "text": [
            "\t10 model over 100\n"
          ]
        },
        {
          "output_type": "stream",
          "name": "stderr",
          "text": [
            "100%|██████████| 100/100 [00:51<00:00,  1.96it/s]\n",
            "100%|██████████| 100/100 [00:51<00:00,  1.94it/s]\n"
          ]
        },
        {
          "output_type": "stream",
          "name": "stdout",
          "text": [
            "\t11 model over 100\n"
          ]
        },
        {
          "output_type": "stream",
          "name": "stderr",
          "text": [
            "100%|██████████| 100/100 [00:51<00:00,  1.95it/s]\n",
            "100%|██████████| 100/100 [00:51<00:00,  1.95it/s]\n"
          ]
        },
        {
          "output_type": "stream",
          "name": "stdout",
          "text": [
            "\t12 model over 100\n"
          ]
        },
        {
          "output_type": "stream",
          "name": "stderr",
          "text": [
            "100%|██████████| 100/100 [00:51<00:00,  1.92it/s]\n",
            "100%|██████████| 100/100 [00:51<00:00,  1.92it/s]\n"
          ]
        },
        {
          "output_type": "stream",
          "name": "stdout",
          "text": [
            "\t13 model over 100\n"
          ]
        },
        {
          "output_type": "stream",
          "name": "stderr",
          "text": [
            "100%|██████████| 100/100 [00:53<00:00,  1.89it/s]\n",
            "100%|██████████| 100/100 [00:50<00:00,  1.97it/s]\n"
          ]
        },
        {
          "output_type": "stream",
          "name": "stdout",
          "text": [
            "\t14 model over 100\n"
          ]
        },
        {
          "output_type": "stream",
          "name": "stderr",
          "text": [
            "100%|██████████| 100/100 [00:51<00:00,  1.95it/s]\n",
            "100%|██████████| 100/100 [00:55<00:00,  1.82it/s]\n"
          ]
        },
        {
          "output_type": "stream",
          "name": "stdout",
          "text": [
            "\t15 model over 100\n"
          ]
        },
        {
          "output_type": "stream",
          "name": "stderr",
          "text": [
            "100%|██████████| 100/100 [00:51<00:00,  1.95it/s]\n",
            "100%|██████████| 100/100 [00:52<00:00,  1.90it/s]\n"
          ]
        },
        {
          "output_type": "stream",
          "name": "stdout",
          "text": [
            "\t16 model over 100\n"
          ]
        },
        {
          "output_type": "stream",
          "name": "stderr",
          "text": [
            "100%|██████████| 100/100 [00:52<00:00,  1.92it/s]\n",
            "100%|██████████| 100/100 [00:51<00:00,  1.96it/s]\n"
          ]
        },
        {
          "output_type": "stream",
          "name": "stdout",
          "text": [
            "\t17 model over 100\n"
          ]
        },
        {
          "output_type": "stream",
          "name": "stderr",
          "text": [
            "100%|██████████| 100/100 [00:51<00:00,  1.95it/s]\n",
            "100%|██████████| 100/100 [00:51<00:00,  1.93it/s]\n"
          ]
        },
        {
          "output_type": "stream",
          "name": "stdout",
          "text": [
            "\t18 model over 100\n"
          ]
        },
        {
          "output_type": "stream",
          "name": "stderr",
          "text": [
            "100%|██████████| 100/100 [00:50<00:00,  1.96it/s]\n",
            "100%|██████████| 100/100 [00:51<00:00,  1.94it/s]\n"
          ]
        },
        {
          "output_type": "stream",
          "name": "stdout",
          "text": [
            "\t19 model over 100\n"
          ]
        },
        {
          "output_type": "stream",
          "name": "stderr",
          "text": [
            "100%|██████████| 100/100 [00:51<00:00,  1.93it/s]\n",
            "100%|██████████| 100/100 [00:51<00:00,  1.94it/s]\n"
          ]
        },
        {
          "output_type": "stream",
          "name": "stdout",
          "text": [
            "\t20 model over 100\n"
          ]
        },
        {
          "output_type": "stream",
          "name": "stderr",
          "text": [
            "100%|██████████| 100/100 [00:51<00:00,  1.93it/s]\n",
            "100%|██████████| 100/100 [00:52<00:00,  1.90it/s]\n"
          ]
        },
        {
          "output_type": "stream",
          "name": "stdout",
          "text": [
            "\t21 model over 100\n"
          ]
        },
        {
          "output_type": "stream",
          "name": "stderr",
          "text": [
            "100%|██████████| 100/100 [00:51<00:00,  1.92it/s]\n",
            "100%|██████████| 100/100 [00:51<00:00,  1.94it/s]\n"
          ]
        },
        {
          "output_type": "stream",
          "name": "stdout",
          "text": [
            "\t22 model over 100\n"
          ]
        },
        {
          "output_type": "stream",
          "name": "stderr",
          "text": [
            "100%|██████████| 100/100 [00:51<00:00,  1.93it/s]\n",
            "100%|██████████| 100/100 [00:50<00:00,  1.98it/s]\n"
          ]
        },
        {
          "output_type": "stream",
          "name": "stdout",
          "text": [
            "\t23 model over 100\n"
          ]
        },
        {
          "output_type": "stream",
          "name": "stderr",
          "text": [
            "100%|██████████| 100/100 [00:51<00:00,  1.94it/s]\n",
            "100%|██████████| 100/100 [00:50<00:00,  1.97it/s]\n"
          ]
        },
        {
          "output_type": "stream",
          "name": "stdout",
          "text": [
            "\t24 model over 100\n"
          ]
        },
        {
          "output_type": "stream",
          "name": "stderr",
          "text": [
            "100%|██████████| 100/100 [00:50<00:00,  1.97it/s]\n",
            "100%|██████████| 100/100 [00:50<00:00,  1.97it/s]\n"
          ]
        },
        {
          "output_type": "stream",
          "name": "stdout",
          "text": [
            "\t25 model over 100\n"
          ]
        },
        {
          "output_type": "stream",
          "name": "stderr",
          "text": [
            "100%|██████████| 100/100 [00:50<00:00,  1.96it/s]\n",
            "100%|██████████| 100/100 [00:50<00:00,  1.97it/s]\n"
          ]
        },
        {
          "output_type": "stream",
          "name": "stdout",
          "text": [
            "\t26 model over 100\n"
          ]
        },
        {
          "output_type": "stream",
          "name": "stderr",
          "text": [
            "100%|██████████| 100/100 [00:51<00:00,  1.94it/s]\n",
            "100%|██████████| 100/100 [00:50<00:00,  1.97it/s]\n"
          ]
        },
        {
          "output_type": "stream",
          "name": "stdout",
          "text": [
            "\t27 model over 100\n"
          ]
        },
        {
          "output_type": "stream",
          "name": "stderr",
          "text": [
            "100%|██████████| 100/100 [00:51<00:00,  1.94it/s]\n",
            "100%|██████████| 100/100 [00:51<00:00,  1.94it/s]\n"
          ]
        },
        {
          "output_type": "stream",
          "name": "stdout",
          "text": [
            "\t28 model over 100\n"
          ]
        },
        {
          "output_type": "stream",
          "name": "stderr",
          "text": [
            "100%|██████████| 100/100 [00:51<00:00,  1.93it/s]\n",
            "100%|██████████| 100/100 [00:51<00:00,  1.95it/s]\n"
          ]
        },
        {
          "output_type": "stream",
          "name": "stdout",
          "text": [
            "\t29 model over 100\n"
          ]
        },
        {
          "output_type": "stream",
          "name": "stderr",
          "text": [
            "100%|██████████| 100/100 [00:51<00:00,  1.95it/s]\n",
            "100%|██████████| 100/100 [00:52<00:00,  1.92it/s]\n"
          ]
        },
        {
          "output_type": "stream",
          "name": "stdout",
          "text": [
            "\t30 model over 100\n"
          ]
        },
        {
          "output_type": "stream",
          "name": "stderr",
          "text": [
            "100%|██████████| 100/100 [00:50<00:00,  1.96it/s]\n",
            "100%|██████████| 100/100 [00:51<00:00,  1.94it/s]\n"
          ]
        },
        {
          "output_type": "stream",
          "name": "stdout",
          "text": [
            "\t31 model over 100\n"
          ]
        },
        {
          "output_type": "stream",
          "name": "stderr",
          "text": [
            "100%|██████████| 100/100 [00:51<00:00,  1.94it/s]\n",
            "100%|██████████| 100/100 [00:50<00:00,  1.99it/s]\n"
          ]
        },
        {
          "output_type": "stream",
          "name": "stdout",
          "text": [
            "\t32 model over 100\n"
          ]
        },
        {
          "output_type": "stream",
          "name": "stderr",
          "text": [
            "100%|██████████| 100/100 [00:51<00:00,  1.96it/s]\n",
            "100%|██████████| 100/100 [00:51<00:00,  1.96it/s]\n"
          ]
        },
        {
          "output_type": "stream",
          "name": "stdout",
          "text": [
            "\t33 model over 100\n"
          ]
        },
        {
          "output_type": "stream",
          "name": "stderr",
          "text": [
            "100%|██████████| 100/100 [00:51<00:00,  1.95it/s]\n",
            "100%|██████████| 100/100 [00:53<00:00,  1.89it/s]\n"
          ]
        },
        {
          "output_type": "stream",
          "name": "stdout",
          "text": [
            "\t34 model over 100\n"
          ]
        },
        {
          "output_type": "stream",
          "name": "stderr",
          "text": [
            "100%|██████████| 100/100 [00:51<00:00,  1.94it/s]\n",
            "100%|██████████| 100/100 [00:52<00:00,  1.92it/s]\n"
          ]
        },
        {
          "output_type": "stream",
          "name": "stdout",
          "text": [
            "\t35 model over 100\n"
          ]
        },
        {
          "output_type": "stream",
          "name": "stderr",
          "text": [
            "100%|██████████| 100/100 [00:51<00:00,  1.95it/s]\n",
            "100%|██████████| 100/100 [00:51<00:00,  1.95it/s]\n"
          ]
        },
        {
          "output_type": "stream",
          "name": "stdout",
          "text": [
            "\t36 model over 100\n"
          ]
        },
        {
          "output_type": "stream",
          "name": "stderr",
          "text": [
            "100%|██████████| 100/100 [00:50<00:00,  1.96it/s]\n",
            "100%|██████████| 100/100 [00:52<00:00,  1.92it/s]\n"
          ]
        },
        {
          "output_type": "stream",
          "name": "stdout",
          "text": [
            "\t37 model over 100\n"
          ]
        },
        {
          "output_type": "stream",
          "name": "stderr",
          "text": [
            "100%|██████████| 100/100 [00:51<00:00,  1.94it/s]\n",
            "100%|██████████| 100/100 [00:50<00:00,  1.97it/s]\n"
          ]
        },
        {
          "output_type": "stream",
          "name": "stdout",
          "text": [
            "\t38 model over 100\n"
          ]
        },
        {
          "output_type": "stream",
          "name": "stderr",
          "text": [
            "100%|██████████| 100/100 [00:51<00:00,  1.96it/s]\n",
            "100%|██████████| 100/100 [00:51<00:00,  1.93it/s]\n"
          ]
        },
        {
          "output_type": "stream",
          "name": "stdout",
          "text": [
            "\t39 model over 100\n"
          ]
        },
        {
          "output_type": "stream",
          "name": "stderr",
          "text": [
            "100%|██████████| 100/100 [00:51<00:00,  1.94it/s]\n",
            "100%|██████████| 100/100 [00:51<00:00,  1.94it/s]\n"
          ]
        },
        {
          "output_type": "stream",
          "name": "stdout",
          "text": [
            "\t40 model over 100\n"
          ]
        },
        {
          "output_type": "stream",
          "name": "stderr",
          "text": [
            "100%|██████████| 100/100 [00:51<00:00,  1.93it/s]\n",
            "100%|██████████| 100/100 [00:52<00:00,  1.92it/s]\n"
          ]
        },
        {
          "output_type": "stream",
          "name": "stdout",
          "text": [
            "\t41 model over 100\n"
          ]
        },
        {
          "output_type": "stream",
          "name": "stderr",
          "text": [
            "100%|██████████| 100/100 [00:51<00:00,  1.93it/s]\n",
            "100%|██████████| 100/100 [00:51<00:00,  1.95it/s]\n"
          ]
        },
        {
          "output_type": "stream",
          "name": "stdout",
          "text": [
            "\t42 model over 100\n"
          ]
        },
        {
          "output_type": "stream",
          "name": "stderr",
          "text": [
            "100%|██████████| 100/100 [00:51<00:00,  1.95it/s]\n",
            "100%|██████████| 100/100 [00:51<00:00,  1.93it/s]\n"
          ]
        },
        {
          "output_type": "stream",
          "name": "stdout",
          "text": [
            "\t43 model over 100\n"
          ]
        },
        {
          "output_type": "stream",
          "name": "stderr",
          "text": [
            "100%|██████████| 100/100 [00:51<00:00,  1.95it/s]\n",
            "100%|██████████| 100/100 [00:51<00:00,  1.93it/s]\n"
          ]
        },
        {
          "output_type": "stream",
          "name": "stdout",
          "text": [
            "\t44 model over 100\n"
          ]
        },
        {
          "output_type": "stream",
          "name": "stderr",
          "text": [
            "100%|██████████| 100/100 [00:51<00:00,  1.93it/s]\n",
            "100%|██████████| 100/100 [00:51<00:00,  1.95it/s]\n"
          ]
        },
        {
          "output_type": "stream",
          "name": "stdout",
          "text": [
            "\t45 model over 100\n"
          ]
        },
        {
          "output_type": "stream",
          "name": "stderr",
          "text": [
            "100%|██████████| 100/100 [00:51<00:00,  1.93it/s]\n",
            "100%|██████████| 100/100 [00:50<00:00,  1.99it/s]\n"
          ]
        },
        {
          "output_type": "stream",
          "name": "stdout",
          "text": [
            "\t46 model over 100\n"
          ]
        },
        {
          "output_type": "stream",
          "name": "stderr",
          "text": [
            "100%|██████████| 100/100 [00:51<00:00,  1.94it/s]\n",
            "100%|██████████| 100/100 [00:51<00:00,  1.95it/s]\n"
          ]
        },
        {
          "output_type": "stream",
          "name": "stdout",
          "text": [
            "\t47 model over 100\n"
          ]
        },
        {
          "output_type": "stream",
          "name": "stderr",
          "text": [
            "100%|██████████| 100/100 [00:52<00:00,  1.90it/s]\n",
            "100%|██████████| 100/100 [00:50<00:00,  1.97it/s]\n"
          ]
        },
        {
          "output_type": "stream",
          "name": "stdout",
          "text": [
            "\t48 model over 100\n"
          ]
        },
        {
          "output_type": "stream",
          "name": "stderr",
          "text": [
            "100%|██████████| 100/100 [00:50<00:00,  1.98it/s]\n",
            "100%|██████████| 100/100 [00:52<00:00,  1.89it/s]\n"
          ]
        },
        {
          "output_type": "stream",
          "name": "stdout",
          "text": [
            "\t49 model over 100\n"
          ]
        },
        {
          "output_type": "stream",
          "name": "stderr",
          "text": [
            "100%|██████████| 100/100 [00:51<00:00,  1.94it/s]\n",
            "100%|██████████| 100/100 [00:51<00:00,  1.93it/s]\n"
          ]
        },
        {
          "output_type": "stream",
          "name": "stdout",
          "text": [
            "\t50 model over 100\n"
          ]
        },
        {
          "output_type": "stream",
          "name": "stderr",
          "text": [
            "100%|██████████| 100/100 [00:51<00:00,  1.93it/s]\n",
            "100%|██████████| 100/100 [00:51<00:00,  1.94it/s]\n"
          ]
        },
        {
          "output_type": "stream",
          "name": "stdout",
          "text": [
            "\t51 model over 100\n"
          ]
        },
        {
          "output_type": "stream",
          "name": "stderr",
          "text": [
            "100%|██████████| 100/100 [00:51<00:00,  1.95it/s]\n",
            "100%|██████████| 100/100 [00:51<00:00,  1.95it/s]\n"
          ]
        },
        {
          "output_type": "stream",
          "name": "stdout",
          "text": [
            "\t52 model over 100\n"
          ]
        },
        {
          "output_type": "stream",
          "name": "stderr",
          "text": [
            "100%|██████████| 100/100 [00:51<00:00,  1.92it/s]\n",
            "100%|██████████| 100/100 [00:51<00:00,  1.94it/s]\n"
          ]
        },
        {
          "output_type": "stream",
          "name": "stdout",
          "text": [
            "\t53 model over 100\n"
          ]
        },
        {
          "output_type": "stream",
          "name": "stderr",
          "text": [
            "100%|██████████| 100/100 [00:51<00:00,  1.95it/s]\n",
            "100%|██████████| 100/100 [00:52<00:00,  1.91it/s]\n"
          ]
        },
        {
          "output_type": "stream",
          "name": "stdout",
          "text": [
            "\t54 model over 100\n"
          ]
        },
        {
          "output_type": "stream",
          "name": "stderr",
          "text": [
            "100%|██████████| 100/100 [00:53<00:00,  1.88it/s]\n",
            "100%|██████████| 100/100 [00:51<00:00,  1.95it/s]\n"
          ]
        },
        {
          "output_type": "stream",
          "name": "stdout",
          "text": [
            "\t55 model over 100\n"
          ]
        },
        {
          "output_type": "stream",
          "name": "stderr",
          "text": [
            "100%|██████████| 100/100 [00:51<00:00,  1.95it/s]\n",
            "100%|██████████| 100/100 [00:52<00:00,  1.92it/s]\n"
          ]
        },
        {
          "output_type": "stream",
          "name": "stdout",
          "text": [
            "\t56 model over 100\n"
          ]
        },
        {
          "output_type": "stream",
          "name": "stderr",
          "text": [
            "100%|██████████| 100/100 [00:50<00:00,  1.97it/s]\n",
            "100%|██████████| 100/100 [00:51<00:00,  1.93it/s]\n"
          ]
        },
        {
          "output_type": "stream",
          "name": "stdout",
          "text": [
            "\t57 model over 100\n"
          ]
        },
        {
          "output_type": "stream",
          "name": "stderr",
          "text": [
            "100%|██████████| 100/100 [00:51<00:00,  1.94it/s]\n",
            "100%|██████████| 100/100 [00:51<00:00,  1.93it/s]\n"
          ]
        },
        {
          "output_type": "stream",
          "name": "stdout",
          "text": [
            "\t58 model over 100\n"
          ]
        },
        {
          "output_type": "stream",
          "name": "stderr",
          "text": [
            "100%|██████████| 100/100 [00:52<00:00,  1.92it/s]\n",
            "100%|██████████| 100/100 [00:51<00:00,  1.95it/s]\n"
          ]
        },
        {
          "output_type": "stream",
          "name": "stdout",
          "text": [
            "\t59 model over 100\n"
          ]
        },
        {
          "output_type": "stream",
          "name": "stderr",
          "text": [
            "100%|██████████| 100/100 [00:52<00:00,  1.92it/s]\n",
            "100%|██████████| 100/100 [00:51<00:00,  1.94it/s]\n"
          ]
        },
        {
          "output_type": "stream",
          "name": "stdout",
          "text": [
            "\t60 model over 100\n"
          ]
        },
        {
          "output_type": "stream",
          "name": "stderr",
          "text": [
            "100%|██████████| 100/100 [00:51<00:00,  1.95it/s]\n",
            "100%|██████████| 100/100 [00:51<00:00,  1.94it/s]\n"
          ]
        },
        {
          "output_type": "stream",
          "name": "stdout",
          "text": [
            "\t61 model over 100\n"
          ]
        },
        {
          "output_type": "stream",
          "name": "stderr",
          "text": [
            "100%|██████████| 100/100 [00:51<00:00,  1.95it/s]\n",
            "100%|██████████| 100/100 [00:51<00:00,  1.96it/s]\n"
          ]
        },
        {
          "output_type": "stream",
          "name": "stdout",
          "text": [
            "\t62 model over 100\n"
          ]
        },
        {
          "output_type": "stream",
          "name": "stderr",
          "text": [
            "100%|██████████| 100/100 [00:52<00:00,  1.91it/s]\n",
            "100%|██████████| 100/100 [00:51<00:00,  1.95it/s]\n"
          ]
        },
        {
          "output_type": "stream",
          "name": "stdout",
          "text": [
            "\t63 model over 100\n"
          ]
        },
        {
          "output_type": "stream",
          "name": "stderr",
          "text": [
            "100%|██████████| 100/100 [00:51<00:00,  1.92it/s]\n",
            "100%|██████████| 100/100 [00:51<00:00,  1.93it/s]\n"
          ]
        },
        {
          "output_type": "stream",
          "name": "stdout",
          "text": [
            "\t64 model over 100\n"
          ]
        },
        {
          "output_type": "stream",
          "name": "stderr",
          "text": [
            "100%|██████████| 100/100 [00:51<00:00,  1.94it/s]\n",
            "100%|██████████| 100/100 [00:51<00:00,  1.95it/s]\n"
          ]
        },
        {
          "output_type": "stream",
          "name": "stdout",
          "text": [
            "\t65 model over 100\n"
          ]
        },
        {
          "output_type": "stream",
          "name": "stderr",
          "text": [
            "100%|██████████| 100/100 [00:51<00:00,  1.93it/s]\n",
            "100%|██████████| 100/100 [00:52<00:00,  1.90it/s]\n"
          ]
        },
        {
          "output_type": "stream",
          "name": "stdout",
          "text": [
            "\t66 model over 100\n"
          ]
        },
        {
          "output_type": "stream",
          "name": "stderr",
          "text": [
            "100%|██████████| 100/100 [00:52<00:00,  1.91it/s]\n",
            "100%|██████████| 100/100 [00:51<00:00,  1.95it/s]\n"
          ]
        },
        {
          "output_type": "stream",
          "name": "stdout",
          "text": [
            "\t67 model over 100\n"
          ]
        },
        {
          "output_type": "stream",
          "name": "stderr",
          "text": [
            "100%|██████████| 100/100 [00:52<00:00,  1.91it/s]\n",
            "100%|██████████| 100/100 [00:51<00:00,  1.94it/s]\n"
          ]
        },
        {
          "output_type": "stream",
          "name": "stdout",
          "text": [
            "\t68 model over 100\n"
          ]
        },
        {
          "output_type": "stream",
          "name": "stderr",
          "text": [
            "100%|██████████| 100/100 [00:51<00:00,  1.95it/s]\n",
            "100%|██████████| 100/100 [00:50<00:00,  1.96it/s]\n"
          ]
        },
        {
          "output_type": "stream",
          "name": "stdout",
          "text": [
            "\t69 model over 100\n"
          ]
        },
        {
          "output_type": "stream",
          "name": "stderr",
          "text": [
            "100%|██████████| 100/100 [00:51<00:00,  1.95it/s]\n",
            "100%|██████████| 100/100 [00:52<00:00,  1.92it/s]\n"
          ]
        },
        {
          "output_type": "stream",
          "name": "stdout",
          "text": [
            "\t70 model over 100\n"
          ]
        },
        {
          "output_type": "stream",
          "name": "stderr",
          "text": [
            "100%|██████████| 100/100 [00:51<00:00,  1.95it/s]\n",
            "100%|██████████| 100/100 [00:52<00:00,  1.90it/s]\n"
          ]
        },
        {
          "output_type": "stream",
          "name": "stdout",
          "text": [
            "\t71 model over 100\n"
          ]
        },
        {
          "output_type": "stream",
          "name": "stderr",
          "text": [
            "100%|██████████| 100/100 [00:51<00:00,  1.96it/s]\n",
            "100%|██████████| 100/100 [00:51<00:00,  1.94it/s]\n"
          ]
        },
        {
          "output_type": "stream",
          "name": "stdout",
          "text": [
            "\t72 model over 100\n"
          ]
        },
        {
          "output_type": "stream",
          "name": "stderr",
          "text": [
            "100%|██████████| 100/100 [00:50<00:00,  1.96it/s]\n",
            "100%|██████████| 100/100 [00:52<00:00,  1.92it/s]\n"
          ]
        },
        {
          "output_type": "stream",
          "name": "stdout",
          "text": [
            "\t73 model over 100\n"
          ]
        },
        {
          "output_type": "stream",
          "name": "stderr",
          "text": [
            "100%|██████████| 100/100 [00:52<00:00,  1.91it/s]\n",
            "100%|██████████| 100/100 [00:51<00:00,  1.93it/s]\n"
          ]
        },
        {
          "output_type": "stream",
          "name": "stdout",
          "text": [
            "\t74 model over 100\n"
          ]
        },
        {
          "output_type": "stream",
          "name": "stderr",
          "text": [
            "100%|██████████| 100/100 [00:52<00:00,  1.91it/s]\n",
            "100%|██████████| 100/100 [00:52<00:00,  1.91it/s]\n"
          ]
        },
        {
          "output_type": "stream",
          "name": "stdout",
          "text": [
            "\t75 model over 100\n"
          ]
        },
        {
          "output_type": "stream",
          "name": "stderr",
          "text": [
            "100%|██████████| 100/100 [00:51<00:00,  1.94it/s]\n",
            "100%|██████████| 100/100 [00:51<00:00,  1.95it/s]\n"
          ]
        },
        {
          "output_type": "stream",
          "name": "stdout",
          "text": [
            "\t76 model over 100\n"
          ]
        },
        {
          "output_type": "stream",
          "name": "stderr",
          "text": [
            "100%|██████████| 100/100 [00:51<00:00,  1.96it/s]\n",
            "100%|██████████| 100/100 [00:52<00:00,  1.90it/s]\n"
          ]
        },
        {
          "output_type": "stream",
          "name": "stdout",
          "text": [
            "\t77 model over 100\n"
          ]
        },
        {
          "output_type": "stream",
          "name": "stderr",
          "text": [
            "100%|██████████| 100/100 [00:52<00:00,  1.92it/s]\n",
            "100%|██████████| 100/100 [00:51<00:00,  1.94it/s]\n"
          ]
        },
        {
          "output_type": "stream",
          "name": "stdout",
          "text": [
            "\t78 model over 100\n"
          ]
        },
        {
          "output_type": "stream",
          "name": "stderr",
          "text": [
            "100%|██████████| 100/100 [00:51<00:00,  1.93it/s]\n",
            "100%|██████████| 100/100 [00:51<00:00,  1.95it/s]\n"
          ]
        },
        {
          "output_type": "stream",
          "name": "stdout",
          "text": [
            "\t79 model over 100\n"
          ]
        },
        {
          "output_type": "stream",
          "name": "stderr",
          "text": [
            "100%|██████████| 100/100 [00:51<00:00,  1.93it/s]\n",
            "100%|██████████| 100/100 [00:52<00:00,  1.91it/s]\n"
          ]
        },
        {
          "output_type": "stream",
          "name": "stdout",
          "text": [
            "\t80 model over 100\n"
          ]
        },
        {
          "output_type": "stream",
          "name": "stderr",
          "text": [
            "100%|██████████| 100/100 [00:51<00:00,  1.95it/s]\n",
            "100%|██████████| 100/100 [00:51<00:00,  1.95it/s]\n"
          ]
        },
        {
          "output_type": "stream",
          "name": "stdout",
          "text": [
            "\t81 model over 100\n"
          ]
        },
        {
          "output_type": "stream",
          "name": "stderr",
          "text": [
            "100%|██████████| 100/100 [00:52<00:00,  1.90it/s]\n",
            "100%|██████████| 100/100 [00:51<00:00,  1.94it/s]\n"
          ]
        },
        {
          "output_type": "stream",
          "name": "stdout",
          "text": [
            "\t82 model over 100\n"
          ]
        },
        {
          "output_type": "stream",
          "name": "stderr",
          "text": [
            "100%|██████████| 100/100 [00:51<00:00,  1.94it/s]\n",
            "100%|██████████| 100/100 [00:51<00:00,  1.94it/s]\n"
          ]
        },
        {
          "output_type": "stream",
          "name": "stdout",
          "text": [
            "\t83 model over 100\n"
          ]
        },
        {
          "output_type": "stream",
          "name": "stderr",
          "text": [
            "100%|██████████| 100/100 [00:50<00:00,  1.96it/s]\n",
            "100%|██████████| 100/100 [00:52<00:00,  1.90it/s]\n"
          ]
        },
        {
          "output_type": "stream",
          "name": "stdout",
          "text": [
            "\t84 model over 100\n"
          ]
        },
        {
          "output_type": "stream",
          "name": "stderr",
          "text": [
            "100%|██████████| 100/100 [00:55<00:00,  1.81it/s]\n",
            "100%|██████████| 100/100 [00:51<00:00,  1.95it/s]\n"
          ]
        },
        {
          "output_type": "stream",
          "name": "stdout",
          "text": [
            "\t85 model over 100\n"
          ]
        },
        {
          "output_type": "stream",
          "name": "stderr",
          "text": [
            "100%|██████████| 100/100 [00:51<00:00,  1.93it/s]\n",
            "100%|██████████| 100/100 [00:50<00:00,  1.97it/s]\n"
          ]
        },
        {
          "output_type": "stream",
          "name": "stdout",
          "text": [
            "\t86 model over 100\n"
          ]
        },
        {
          "output_type": "stream",
          "name": "stderr",
          "text": [
            "100%|██████████| 100/100 [00:51<00:00,  1.96it/s]\n",
            "100%|██████████| 100/100 [00:51<00:00,  1.93it/s]\n"
          ]
        },
        {
          "output_type": "stream",
          "name": "stdout",
          "text": [
            "\t87 model over 100\n"
          ]
        },
        {
          "output_type": "stream",
          "name": "stderr",
          "text": [
            "100%|██████████| 100/100 [00:51<00:00,  1.93it/s]\n",
            "100%|██████████| 100/100 [00:51<00:00,  1.95it/s]\n"
          ]
        },
        {
          "output_type": "stream",
          "name": "stdout",
          "text": [
            "\t88 model over 100\n"
          ]
        },
        {
          "output_type": "stream",
          "name": "stderr",
          "text": [
            "100%|██████████| 100/100 [00:51<00:00,  1.93it/s]\n",
            "100%|██████████| 100/100 [00:50<00:00,  1.99it/s]\n"
          ]
        },
        {
          "output_type": "stream",
          "name": "stdout",
          "text": [
            "\t89 model over 100\n"
          ]
        },
        {
          "output_type": "stream",
          "name": "stderr",
          "text": [
            "100%|██████████| 100/100 [00:49<00:00,  2.00it/s]\n",
            "100%|██████████| 100/100 [00:49<00:00,  2.02it/s]\n"
          ]
        },
        {
          "output_type": "stream",
          "name": "stdout",
          "text": [
            "\t90 model over 100\n"
          ]
        },
        {
          "output_type": "stream",
          "name": "stderr",
          "text": [
            "100%|██████████| 100/100 [00:50<00:00,  1.98it/s]\n",
            "100%|██████████| 100/100 [00:50<00:00,  1.98it/s]\n"
          ]
        },
        {
          "output_type": "stream",
          "name": "stdout",
          "text": [
            "\t91 model over 100\n"
          ]
        },
        {
          "output_type": "stream",
          "name": "stderr",
          "text": [
            "100%|██████████| 100/100 [00:50<00:00,  1.96it/s]\n",
            "100%|██████████| 100/100 [00:50<00:00,  1.98it/s]\n"
          ]
        },
        {
          "output_type": "stream",
          "name": "stdout",
          "text": [
            "\t92 model over 100\n"
          ]
        },
        {
          "output_type": "stream",
          "name": "stderr",
          "text": [
            "100%|██████████| 100/100 [00:50<00:00,  2.00it/s]\n",
            "100%|██████████| 100/100 [00:51<00:00,  1.96it/s]\n"
          ]
        },
        {
          "output_type": "stream",
          "name": "stdout",
          "text": [
            "\t93 model over 100\n"
          ]
        },
        {
          "output_type": "stream",
          "name": "stderr",
          "text": [
            "100%|██████████| 100/100 [00:50<00:00,  1.99it/s]\n",
            "100%|██████████| 100/100 [00:50<00:00,  1.99it/s]\n"
          ]
        },
        {
          "output_type": "stream",
          "name": "stdout",
          "text": [
            "\t94 model over 100\n"
          ]
        },
        {
          "output_type": "stream",
          "name": "stderr",
          "text": [
            "100%|██████████| 100/100 [00:51<00:00,  1.94it/s]\n",
            "100%|██████████| 100/100 [00:51<00:00,  1.95it/s]\n"
          ]
        },
        {
          "output_type": "stream",
          "name": "stdout",
          "text": [
            "\t95 model over 100\n"
          ]
        },
        {
          "output_type": "stream",
          "name": "stderr",
          "text": [
            "100%|██████████| 100/100 [00:50<00:00,  1.97it/s]\n",
            "100%|██████████| 100/100 [00:50<00:00,  1.97it/s]\n"
          ]
        },
        {
          "output_type": "stream",
          "name": "stdout",
          "text": [
            "\t96 model over 100\n"
          ]
        },
        {
          "output_type": "stream",
          "name": "stderr",
          "text": [
            "100%|██████████| 100/100 [00:50<00:00,  1.98it/s]\n",
            "100%|██████████| 100/100 [00:51<00:00,  1.95it/s]\n"
          ]
        },
        {
          "output_type": "stream",
          "name": "stdout",
          "text": [
            "\t97 model over 100\n"
          ]
        },
        {
          "output_type": "stream",
          "name": "stderr",
          "text": [
            "100%|██████████| 100/100 [00:51<00:00,  1.95it/s]\n",
            "100%|██████████| 100/100 [00:50<00:00,  1.98it/s]\n"
          ]
        },
        {
          "output_type": "stream",
          "name": "stdout",
          "text": [
            "\t98 model over 100\n"
          ]
        },
        {
          "output_type": "stream",
          "name": "stderr",
          "text": [
            "100%|██████████| 100/100 [00:51<00:00,  1.96it/s]\n",
            "100%|██████████| 100/100 [00:50<00:00,  1.97it/s]\n"
          ]
        },
        {
          "output_type": "stream",
          "name": "stdout",
          "text": [
            "\t99 model over 100\n"
          ]
        },
        {
          "output_type": "stream",
          "name": "stderr",
          "text": [
            "100%|██████████| 100/100 [00:51<00:00,  1.95it/s]\n",
            "100%|██████████| 100/100 [00:50<00:00,  1.97it/s]\n"
          ]
        },
        {
          "output_type": "stream",
          "name": "stdout",
          "text": [
            "\t100 model over 100\n"
          ]
        },
        {
          "output_type": "stream",
          "name": "stderr",
          "text": [
            "100%|██████████| 100/100 [00:51<00:00,  1.96it/s]\n",
            "100%|██████████| 100/100 [00:50<00:00,  1.96it/s]\n"
          ]
        }
      ]
    },
    {
      "cell_type": "code",
      "source": [
        "best={'MRR@': {K: {model_name:None for model_name in benchmark} for K in at_Ks},\n",
        "      'MAP':  {model_name: None for model_name in benchmark}\n",
        "     }\n",
        "\n",
        "for model_name in benchmark:\n",
        "    # sort models with respect to each metric\n",
        "    models=benchmark[model_name][\"model\"]\n",
        "    # print(len(models))\n",
        "    for K in at_Ks:\n",
        "        MRRAtKs=benchmark[model_name][\"MRR@\"][K]\n",
        "        # print(MRRAtKs)\n",
        "        best_model, bestMRRAtK=models[0], MRRAtKs[0]\n",
        "        for pos,model in enumerate(models[1:]):\n",
        "            if MRRAtKs[pos]>bestMRRAtK:\n",
        "                best_model, bestMRRAtK=models[pos], MRRAtKs[pos]\n",
        "        best[\"MRR@\"][K][model_name]=(best_model, bestMRRAtK)\n",
        "    MAPs=benchmark[model_name][\"MAP\"]\n",
        "    best_model, bestMAP=models[0], MAPs[0]\n",
        "    for pos, model in enumerate(models[1:]):\n",
        "        if MAPs[pos]>bestMAP:\n",
        "            best_model, bestMAP=models[pos], MAPs[pos]\n",
        "    best[\"MAP\"][model_name]=best_model, bestMAP"
      ],
      "metadata": {
        "id": "gcgTdaKyhPq1"
      },
      "execution_count": null,
      "outputs": []
    },
    {
      "cell_type": "code",
      "source": [
        "for K in best[\"MRR@\"]:\n",
        "  for model_name in best[\"MRR@\"][K]: \n",
        "    print(f\"Best {model_name} model has MRR@{K}={round(best['MRR@'][K][model_name][1],3)}\")\n",
        "print('\\n')\n",
        "for model_name in best[\"MAP\"]: \n",
        " print(f\"Best {model_name} model has MAP={round(best['MAP'][model_name][1],3)}\")"
      ],
      "metadata": {
        "colab": {
          "base_uri": "https://localhost:8080/"
        },
        "id": "hC_SqW-tg6YX",
        "outputId": "ee2b7518-4724-4c4b-d0ca-05089f16ede5"
      },
      "execution_count": null,
      "outputs": [
        {
          "output_type": "stream",
          "name": "stdout",
          "text": [
            "Best vsm model has MRR@10=0.308\n",
            "Best bim model has MRR@10=0.264\n",
            "Best query_likelihood model has MRR@10=0.0\n",
            "Best w2vsm model has MRR@10=0.225\n",
            "Best lsi model has MRR@10=0.005\n",
            "Best two_poisson model has MRR@10=0.34\n",
            "Best bm11 model has MRR@10=0.347\n",
            "Best bm25 model has MRR@10=0.358\n",
            "\n",
            "\n",
            "Best vsm model has MAP=0.57\n",
            "Best bim model has MAP=0.554\n",
            "Best query_likelihood model has MAP=0.002\n",
            "Best w2vsm model has MAP=0.356\n",
            "Best lsi model has MAP=0.009\n",
            "Best two_poisson model has MAP=0.555\n",
            "Best bm11 model has MAP=0.571\n",
            "Best bm25 model has MAP=0.572\n"
          ]
        }
      ]
    },
    {
      "cell_type": "code",
      "source": [
        "for K in best[\"MRR@\"]:\n",
        "    best_model=sorted(best[\"MRR@\"][K].items(),key=lambda item: item[1][1], reverse=True)[0]\n",
        "    print(f\"Best model with respect to MRR@{K} is {best_model[1][0].name} with score {best_model[1][1]}\\n\")\n",
        "\n",
        "best_model=sorted(best[\"MAP\"].items(),key=lambda item: item[1][1], reverse=True)[0]\n",
        "print(f\"Best model with respect to MAP is {best_model[1][0].name} with score {best_model[1][1]}\\n\")"
      ],
      "metadata": {
        "colab": {
          "base_uri": "https://localhost:8080/"
        },
        "id": "2wygHyOnkFge",
        "outputId": "d55ce8ed-4b14-400f-fb8d-b5f60a31fd09"
      },
      "execution_count": null,
      "outputs": [
        {
          "output_type": "stream",
          "name": "stdout",
          "text": [
            "Best model with respect to MRR@10 is bim_extension_k=2.0_b=0.65 with score 0.35816269841269827\n",
            "\n",
            "Best model with respect to MAP is bim_extension_k=1.0_b=0.75 with score 0.5720238095238096\n",
            "\n"
          ]
        }
      ]
    },
    {
      "cell_type": "code",
      "source": [
        "#  del tfreqs; del idfs; del unigram_model; del doc2vec; del doc_kmeans; del svd_mats; del WD; del wtoi; del dtoi; del w2v"
      ],
      "metadata": {
        "id": "YN-CU0xEvNFI"
      },
      "execution_count": null,
      "outputs": []
    },
    {
      "cell_type": "markdown",
      "source": [
        "# Next steps: improvement with deep learning models"
      ],
      "metadata": {
        "id": "m93pR7z-kKqd"
      }
    },
    {
      "cell_type": "markdown",
      "source": [
        "Training the MatchPyramid model"
      ],
      "metadata": {
        "id": "un0HwGRJkZii"
      }
    },
    {
      "cell_type": "code",
      "source": [
        "! python ./search-engine/match_pyramid.py"
      ],
      "metadata": {
        "colab": {
          "base_uri": "https://localhost:8080/"
        },
        "id": "_W0Zu0o6kJC9",
        "outputId": "ed249d4c-7a7a-4866-907c-b27daf282f26"
      },
      "execution_count": null,
      "outputs": [
        {
          "output_type": "stream",
          "name": "stdout",
          "text": [
            "Reusing dataset ms_marco (/root/.cache/huggingface/datasets/ms_marco/v1.1/1.1.0/b6a62715fa5219aea5275dd3556601004cd63945cb63e36e022f77bb3cbbca84)\n",
            "100% 3/3 [00:00<00:00, 19.24it/s]\n",
            ".vector_cache/glove.6B.zip: 862MB [02:41, 5.35MB/s]               \n",
            "100% 399999/400000 [00:10<00:00, 38256.69it/s]\n",
            "Preprocessing train split\n",
            "100% 82326/82326 [00:13<00:00, 5905.81it/s]\n",
            "100% 82326/82326 [00:25<00:00, 3178.71it/s]\n",
            "Preprocessing test split\n",
            "100% 9650/9650 [00:01<00:00, 6019.33it/s]\n",
            "100% 9650/9650 [00:02<00:00, 3333.46it/s]\n",
            "Preprocessing validation split\n",
            "100% 10047/10047 [00:02<00:00, 4309.29it/s]\n",
            "100% 10047/10047 [00:02<00:00, 3385.16it/s]\n",
            "device cpu\n",
            "Epoch 0:: 100% 3/3 [00:00<00:00,  4.31it/s]\n",
            "Epoch \u001b[34m0\u001b[0m/100 : \u001b[34mTraining\u001b[0m : (\u001b[36mloss\u001b[0m 0.9662131567796072) (\u001b[36macc\u001b[0m 1.0)\n",
            "validation:: 100% 3/3 [00:00<00:00, 244.55it/s]\n",
            "\u001b[34mvalidation\u001b[0m : (\u001b[36mloss\u001b[0m 0.8029371996720632) (\u001b[36macc\u001b[0m 0.6666666666666666)\n",
            "Epoch 1:: 100% 3/3 [00:00<00:00, 88.65it/s]\n",
            "Epoch \u001b[34m1\u001b[0m/100 : \u001b[34mTraining\u001b[0m : (\u001b[36mloss\u001b[0m 0.9727870523929596) (\u001b[36macc\u001b[0m 1.0)\n",
            "validation:: 100% 3/3 [00:00<00:00, 240.50it/s]\n",
            "\u001b[34mvalidation\u001b[0m : (\u001b[36mloss\u001b[0m 0.8070769409338633) (\u001b[36macc\u001b[0m 0.6666666666666666)\n",
            "Epoch 2:: 100% 3/3 [00:00<00:00, 63.59it/s]\n",
            "Epoch \u001b[34m2\u001b[0m/100 : \u001b[34mTraining\u001b[0m : (\u001b[36mloss\u001b[0m 0.9687483410040537) (\u001b[36macc\u001b[0m 1.0)\n",
            "validation:: 100% 3/3 [00:00<00:00, 230.35it/s]\n",
            "\u001b[34mvalidation\u001b[0m : (\u001b[36mloss\u001b[0m 0.804131954908371) (\u001b[36macc\u001b[0m 0.6666666666666666)\n",
            "Epoch 3:: 100% 3/3 [00:00<00:00, 79.96it/s]\n",
            "Epoch \u001b[34m3\u001b[0m/100 : \u001b[34mTraining\u001b[0m : (\u001b[36mloss\u001b[0m 0.9583691656589508) (\u001b[36macc\u001b[0m 1.0)\n",
            "validation:: 100% 3/3 [00:00<00:00, 247.84it/s]\n",
            "\u001b[34mvalidation\u001b[0m : (\u001b[36mloss\u001b[0m 0.8018820782502493) (\u001b[36macc\u001b[0m 0.6666666666666666)\n",
            "Epoch 4:: 100% 3/3 [00:00<00:00, 83.95it/s]\n",
            "Epoch \u001b[34m4\u001b[0m/100 : \u001b[34mTraining\u001b[0m : (\u001b[36mloss\u001b[0m 0.9654984474182129) (\u001b[36macc\u001b[0m 1.0)\n",
            "validation:: 100% 3/3 [00:00<00:00, 250.82it/s]\n",
            "\u001b[34mvalidation\u001b[0m : (\u001b[36mloss\u001b[0m 0.8061632613341013) (\u001b[36macc\u001b[0m 0.6666666666666666)\n",
            "Epoch 5:: 100% 3/3 [00:00<00:00, 74.30it/s]\n",
            "Epoch \u001b[34m5\u001b[0m/100 : \u001b[34mTraining\u001b[0m : (\u001b[36mloss\u001b[0m 0.9640378554662069) (\u001b[36macc\u001b[0m 1.0)\n",
            "validation:: 100% 3/3 [00:00<00:00, 234.85it/s]\n",
            "\u001b[34mvalidation\u001b[0m : (\u001b[36mloss\u001b[0m 0.8002142608165741) (\u001b[36macc\u001b[0m 0.6666666666666666)\n",
            "Epoch 6:: 100% 3/3 [00:00<00:00, 90.88it/s]\n",
            "Epoch \u001b[34m6\u001b[0m/100 : \u001b[34mTraining\u001b[0m : (\u001b[36mloss\u001b[0m 0.9679733117421468) (\u001b[36macc\u001b[0m 1.0)\n",
            "validation:: 100% 3/3 [00:00<00:00, 271.14it/s]\n",
            "\u001b[34mvalidation\u001b[0m : (\u001b[36mloss\u001b[0m 0.8056108852227529) (\u001b[36macc\u001b[0m 0.6666666666666666)\n",
            "Epoch 7:: 100% 3/3 [00:00<00:00, 89.71it/s]\n",
            "Epoch \u001b[34m7\u001b[0m/100 : \u001b[34mTraining\u001b[0m : (\u001b[36mloss\u001b[0m 0.9608188072840372) (\u001b[36macc\u001b[0m 1.0)\n",
            "validation:: 100% 3/3 [00:00<00:00, 241.78it/s]\n",
            "\u001b[34mvalidation\u001b[0m : (\u001b[36mloss\u001b[0m 0.8018275002638499) (\u001b[36macc\u001b[0m 0.6666666666666666)\n",
            "Epoch 8:: 100% 3/3 [00:00<00:00, 86.77it/s]\n",
            "Epoch \u001b[34m8\u001b[0m/100 : \u001b[34mTraining\u001b[0m : (\u001b[36mloss\u001b[0m 0.9632847706476847) (\u001b[36macc\u001b[0m 1.0)\n",
            "validation:: 100% 3/3 [00:00<00:00, 254.70it/s]\n",
            "\u001b[34mvalidation\u001b[0m : (\u001b[36mloss\u001b[0m 0.7975553572177887) (\u001b[36macc\u001b[0m 0.6666666666666666)\n",
            "Epoch 9:: 100% 3/3 [00:00<00:00, 90.52it/s]\n",
            "Epoch \u001b[34m9\u001b[0m/100 : \u001b[34mTraining\u001b[0m : (\u001b[36mloss\u001b[0m 0.9529351890087128) (\u001b[36macc\u001b[0m 1.0)\n",
            "validation:: 100% 3/3 [00:00<00:00, 252.83it/s]\n",
            "\u001b[34mvalidation\u001b[0m : (\u001b[36mloss\u001b[0m 0.8058487077554067) (\u001b[36macc\u001b[0m 0.6666666666666666)\n",
            "Epoch 10:: 100% 3/3 [00:00<00:00, 84.30it/s]\n",
            "Epoch \u001b[34m10\u001b[0m/100 : \u001b[34mTraining\u001b[0m : (\u001b[36mloss\u001b[0m 0.969505379597346) (\u001b[36macc\u001b[0m 1.0)\n",
            "validation:: 100% 3/3 [00:00<00:00, 263.63it/s]\n",
            "\u001b[34mvalidation\u001b[0m : (\u001b[36mloss\u001b[0m 0.7972396910190582) (\u001b[36macc\u001b[0m 0.6666666666666666)\n",
            "Epoch 11:: 100% 3/3 [00:00<00:00, 91.84it/s]\n",
            "Epoch \u001b[34m11\u001b[0m/100 : \u001b[34mTraining\u001b[0m : (\u001b[36mloss\u001b[0m 0.9582774837811788) (\u001b[36macc\u001b[0m 1.0)\n",
            "validation:: 100% 3/3 [00:00<00:00, 230.15it/s]\n",
            "\u001b[34mvalidation\u001b[0m : (\u001b[36mloss\u001b[0m 0.7937274674574534) (\u001b[36macc\u001b[0m 0.6666666666666666)\n",
            "Epoch 12:: 100% 3/3 [00:00<00:00, 81.21it/s]\n",
            "Epoch \u001b[34m12\u001b[0m/100 : \u001b[34mTraining\u001b[0m : (\u001b[36mloss\u001b[0m 0.960609128077825) (\u001b[36macc\u001b[0m 1.0)\n",
            "validation:: 100% 3/3 [00:00<00:00, 249.04it/s]\n",
            "\u001b[34mvalidation\u001b[0m : (\u001b[36mloss\u001b[0m 0.7967435717582703) (\u001b[36macc\u001b[0m 0.6666666666666666)\n",
            "Epoch 13:: 100% 3/3 [00:00<00:00, 91.00it/s]\n",
            "Epoch \u001b[34m13\u001b[0m/100 : \u001b[34mTraining\u001b[0m : (\u001b[36mloss\u001b[0m 0.951051245133082) (\u001b[36macc\u001b[0m 1.0)\n",
            "validation:: 100% 3/3 [00:00<00:00, 242.09it/s]\n",
            "\u001b[34mvalidation\u001b[0m : (\u001b[36mloss\u001b[0m 0.7945275207360586) (\u001b[36macc\u001b[0m 0.6666666666666666)\n",
            "Epoch 14:: 100% 3/3 [00:00<00:00, 94.07it/s]\n",
            "Epoch \u001b[34m14\u001b[0m/100 : \u001b[34mTraining\u001b[0m : (\u001b[36mloss\u001b[0m 0.9575613935788473) (\u001b[36macc\u001b[0m 1.0)\n",
            "validation:: 100% 3/3 [00:00<00:00, 252.51it/s]\n",
            "\u001b[34mvalidation\u001b[0m : (\u001b[36mloss\u001b[0m 0.7912155290444692) (\u001b[36macc\u001b[0m 0.6666666666666666)\n",
            "Epoch 15:: 100% 3/3 [00:00<00:00, 85.89it/s]\n",
            "Epoch \u001b[34m15\u001b[0m/100 : \u001b[34mTraining\u001b[0m : (\u001b[36mloss\u001b[0m 0.9377750953038534) (\u001b[36macc\u001b[0m 1.0)\n",
            "validation:: 100% 3/3 [00:00<00:00, 253.57it/s]\n",
            "\u001b[34mvalidation\u001b[0m : (\u001b[36mloss\u001b[0m 0.8047330677509308) (\u001b[36macc\u001b[0m 0.6666666666666666)\n",
            "Epoch 16:: 100% 3/3 [00:00<00:00, 89.34it/s]\n",
            "Epoch \u001b[34m16\u001b[0m/100 : \u001b[34mTraining\u001b[0m : (\u001b[36mloss\u001b[0m 0.935088187456131) (\u001b[36macc\u001b[0m 1.0)\n",
            "validation:: 100% 3/3 [00:00<00:00, 258.54it/s]\n",
            "\u001b[34mvalidation\u001b[0m : (\u001b[36mloss\u001b[0m 0.8005221287409464) (\u001b[36macc\u001b[0m 0.6666666666666666)\n",
            "Epoch 17:: 100% 3/3 [00:00<00:00, 84.87it/s]\n",
            "Epoch \u001b[34m17\u001b[0m/100 : \u001b[34mTraining\u001b[0m : (\u001b[36mloss\u001b[0m 0.9553688863913218) (\u001b[36macc\u001b[0m 1.0)\n",
            "validation:: 100% 3/3 [00:00<00:00, 220.44it/s]\n",
            "\u001b[34mvalidation\u001b[0m : (\u001b[36mloss\u001b[0m 0.7910213569800059) (\u001b[36macc\u001b[0m 0.6666666666666666)\n",
            "Epoch 18:: 100% 3/3 [00:00<00:00, 77.62it/s]\n",
            "Epoch \u001b[34m18\u001b[0m/100 : \u001b[34mTraining\u001b[0m : (\u001b[36mloss\u001b[0m 0.943200687567393) (\u001b[36macc\u001b[0m 1.0)\n",
            "validation:: 100% 3/3 [00:00<00:00, 267.28it/s]\n",
            "\u001b[34mvalidation\u001b[0m : (\u001b[36mloss\u001b[0m 0.7930356959501902) (\u001b[36macc\u001b[0m 0.6666666666666666)\n",
            "Epoch 19:: 100% 3/3 [00:00<00:00, 88.73it/s]\n",
            "Epoch \u001b[34m19\u001b[0m/100 : \u001b[34mTraining\u001b[0m : (\u001b[36mloss\u001b[0m 0.9394695858160654) (\u001b[36macc\u001b[0m 1.0)\n",
            "validation:: 100% 3/3 [00:00<00:00, 264.62it/s]\n",
            "\u001b[34mvalidation\u001b[0m : (\u001b[36mloss\u001b[0m 0.7859831154346466) (\u001b[36macc\u001b[0m 0.6666666666666666)\n",
            "Epoch 20:: 100% 3/3 [00:00<00:00, 90.60it/s]\n",
            "Epoch \u001b[34m20\u001b[0m/100 : \u001b[34mTraining\u001b[0m : (\u001b[36mloss\u001b[0m 0.9258432984352112) (\u001b[36macc\u001b[0m 1.0)\n",
            "validation:: 100% 3/3 [00:00<00:00, 277.59it/s]\n",
            "\u001b[34mvalidation\u001b[0m : (\u001b[36mloss\u001b[0m 0.7915489673614502) (\u001b[36macc\u001b[0m 0.6666666666666666)\n",
            "Epoch 21:: 100% 3/3 [00:00<00:00, 96.55it/s]\n",
            "Epoch \u001b[34m21\u001b[0m/100 : \u001b[34mTraining\u001b[0m : (\u001b[36mloss\u001b[0m 0.9267940719922384) (\u001b[36macc\u001b[0m 1.0)\n",
            "validation:: 100% 3/3 [00:00<00:00, 261.22it/s]\n",
            "\u001b[34mvalidation\u001b[0m : (\u001b[36mloss\u001b[0m 0.7906206448872884) (\u001b[36macc\u001b[0m 0.6666666666666666)\n",
            "Epoch 22:: 100% 3/3 [00:00<00:00, 89.75it/s]\n",
            "Epoch \u001b[34m22\u001b[0m/100 : \u001b[34mTraining\u001b[0m : (\u001b[36mloss\u001b[0m 0.9182111422220866) (\u001b[36macc\u001b[0m 1.0)\n",
            "validation:: 100% 3/3 [00:00<00:00, 277.96it/s]\n",
            "\u001b[34mvalidation\u001b[0m : (\u001b[36mloss\u001b[0m 0.7976870834827423) (\u001b[36macc\u001b[0m 0.6666666666666666)\n",
            "Epoch 23:: 100% 3/3 [00:00<00:00, 77.85it/s]\n",
            "Epoch \u001b[34m23\u001b[0m/100 : \u001b[34mTraining\u001b[0m : (\u001b[36mloss\u001b[0m 0.9189457396666209) (\u001b[36macc\u001b[0m 1.0)\n",
            "validation:: 100% 3/3 [00:00<00:00, 177.31it/s]\n",
            "\u001b[34mvalidation\u001b[0m : (\u001b[36mloss\u001b[0m 0.7919290165106455) (\u001b[36macc\u001b[0m 0.6666666666666666)\n",
            "Epoch 24:: 100% 3/3 [00:00<00:00, 69.89it/s]\n",
            "Epoch \u001b[34m24\u001b[0m/100 : \u001b[34mTraining\u001b[0m : (\u001b[36mloss\u001b[0m 0.9216863612333933) (\u001b[36macc\u001b[0m 1.0)\n",
            "validation:: 100% 3/3 [00:00<00:00, 237.50it/s]\n",
            "\u001b[34mvalidation\u001b[0m : (\u001b[36mloss\u001b[0m 0.7939932644367218) (\u001b[36macc\u001b[0m 0.6666666666666666)\n",
            "Epoch 25:: 100% 3/3 [00:00<00:00, 88.26it/s]\n",
            "Epoch \u001b[34m25\u001b[0m/100 : \u001b[34mTraining\u001b[0m : (\u001b[36mloss\u001b[0m 0.9057605564594269) (\u001b[36macc\u001b[0m 1.0)\n",
            "validation:: 100% 3/3 [00:00<00:00, 255.96it/s]\n",
            "\u001b[34mvalidation\u001b[0m : (\u001b[36mloss\u001b[0m 0.7818478047847748) (\u001b[36macc\u001b[0m 0.6666666666666666)\n",
            "Epoch 26:: 100% 3/3 [00:00<00:00, 89.73it/s]\n",
            "Epoch \u001b[34m26\u001b[0m/100 : \u001b[34mTraining\u001b[0m : (\u001b[36mloss\u001b[0m 0.9035059213638306) (\u001b[36macc\u001b[0m 1.0)\n",
            "validation:: 100% 3/3 [00:00<00:00, 247.29it/s]\n",
            "\u001b[34mvalidation\u001b[0m : (\u001b[36mloss\u001b[0m 0.7733697493871053) (\u001b[36macc\u001b[0m 0.6666666666666666)\n",
            "Epoch 27:: 100% 3/3 [00:00<00:00, 89.92it/s]\n",
            "Epoch \u001b[34m27\u001b[0m/100 : \u001b[34mTraining\u001b[0m : (\u001b[36mloss\u001b[0m 0.8925938705603281) (\u001b[36macc\u001b[0m 1.0)\n",
            "validation:: 100% 3/3 [00:00<00:00, 256.06it/s]\n",
            "\u001b[34mvalidation\u001b[0m : (\u001b[36mloss\u001b[0m 0.7531272172927856) (\u001b[36macc\u001b[0m 0.6666666666666666)\n",
            "Epoch 28:: 100% 3/3 [00:00<00:00, 89.66it/s]\n",
            "Epoch \u001b[34m28\u001b[0m/100 : \u001b[34mTraining\u001b[0m : (\u001b[36mloss\u001b[0m 0.9373696545759836) (\u001b[36macc\u001b[0m 1.0)\n",
            "validation:: 100% 3/3 [00:00<00:00, 262.61it/s]\n",
            "\u001b[34mvalidation\u001b[0m : (\u001b[36mloss\u001b[0m 0.7652076085408529) (\u001b[36macc\u001b[0m 0.6666666666666666)\n",
            "Epoch 29:: 100% 3/3 [00:00<00:00, 92.88it/s]\n",
            "Epoch \u001b[34m29\u001b[0m/100 : \u001b[34mTraining\u001b[0m : (\u001b[36mloss\u001b[0m 0.871593584616979) (\u001b[36macc\u001b[0m 1.0)\n",
            "validation:: 100% 3/3 [00:00<00:00, 263.09it/s]\n",
            "\u001b[34mvalidation\u001b[0m : (\u001b[36mloss\u001b[0m 0.7596850991249084) (\u001b[36macc\u001b[0m 0.6666666666666666)\n",
            "Epoch 30:: 100% 3/3 [00:00<00:00, 95.71it/s]\n",
            "Epoch \u001b[34m30\u001b[0m/100 : \u001b[34mTraining\u001b[0m : (\u001b[36mloss\u001b[0m 0.8660945693651835) (\u001b[36macc\u001b[0m 1.0)\n",
            "validation:: 100% 3/3 [00:00<00:00, 197.74it/s]\n",
            "\u001b[34mvalidation\u001b[0m : (\u001b[36mloss\u001b[0m 0.7659859855969747) (\u001b[36macc\u001b[0m 0.6666666666666666)\n",
            "Epoch 31:: 100% 3/3 [00:00<00:00, 82.65it/s]\n",
            "Epoch \u001b[34m31\u001b[0m/100 : \u001b[34mTraining\u001b[0m : (\u001b[36mloss\u001b[0m 0.8359043498833975) (\u001b[36macc\u001b[0m 1.0)\n",
            "validation:: 100% 3/3 [00:00<00:00, 264.90it/s]\n",
            "\u001b[34mvalidation\u001b[0m : (\u001b[36mloss\u001b[0m 0.72963813940684) (\u001b[36macc\u001b[0m 0.6666666666666666)\n",
            "Epoch 32:: 100% 3/3 [00:00<00:00, 92.66it/s]\n",
            "Epoch \u001b[34m32\u001b[0m/100 : \u001b[34mTraining\u001b[0m : (\u001b[36mloss\u001b[0m 0.8479371418555578) (\u001b[36macc\u001b[0m 1.0)\n",
            "validation:: 100% 3/3 [00:00<00:00, 237.40it/s]\n",
            "\u001b[34mvalidation\u001b[0m : (\u001b[36mloss\u001b[0m 0.7666890124479929) (\u001b[36macc\u001b[0m 0.6666666666666666)\n",
            "Epoch 33:: 100% 3/3 [00:00<00:00, 90.19it/s]\n",
            "Epoch \u001b[34m33\u001b[0m/100 : \u001b[34mTraining\u001b[0m : (\u001b[36mloss\u001b[0m 0.8219026873509089) (\u001b[36macc\u001b[0m 1.0)\n",
            "validation:: 100% 3/3 [00:00<00:00, 268.39it/s]\n",
            "\u001b[34mvalidation\u001b[0m : (\u001b[36mloss\u001b[0m 0.7820371389389038) (\u001b[36macc\u001b[0m 0.6666666666666666)\n",
            "Epoch 34:: 100% 3/3 [00:00<00:00, 91.82it/s]\n",
            "Epoch \u001b[34m34\u001b[0m/100 : \u001b[34mTraining\u001b[0m : (\u001b[36mloss\u001b[0m 0.831015462676684) (\u001b[36macc\u001b[0m 1.0)\n",
            "validation:: 100% 3/3 [00:00<00:00, 258.96it/s]\n",
            "\u001b[34mvalidation\u001b[0m : (\u001b[36mloss\u001b[0m 0.7340371608734131) (\u001b[36macc\u001b[0m 0.6666666666666666)\n",
            "Epoch 35:: 100% 3/3 [00:00<00:00, 92.65it/s]\n",
            "Epoch \u001b[34m35\u001b[0m/100 : \u001b[34mTraining\u001b[0m : (\u001b[36mloss\u001b[0m 0.7890983621279398) (\u001b[36macc\u001b[0m 1.0)\n",
            "validation:: 100% 3/3 [00:00<00:00, 261.63it/s]\n",
            "\u001b[34mvalidation\u001b[0m : (\u001b[36mloss\u001b[0m 0.7220657219489416) (\u001b[36macc\u001b[0m 0.6666666666666666)\n",
            "Epoch 36:: 100% 3/3 [00:00<00:00, 95.90it/s]\n",
            "Epoch \u001b[34m36\u001b[0m/100 : \u001b[34mTraining\u001b[0m : (\u001b[36mloss\u001b[0m 0.7283033883819977) (\u001b[36macc\u001b[0m 1.0)\n",
            "validation:: 100% 3/3 [00:00<00:00, 246.55it/s]\n",
            "\u001b[34mvalidation\u001b[0m : (\u001b[36mloss\u001b[0m 0.759957546989123) (\u001b[36macc\u001b[0m 0.6666666666666666)\n",
            "Epoch 37:: 100% 3/3 [00:00<00:00, 78.80it/s]\n",
            "Epoch \u001b[34m37\u001b[0m/100 : \u001b[34mTraining\u001b[0m : (\u001b[36mloss\u001b[0m 0.7676432753602663) (\u001b[36macc\u001b[0m 1.0)\n",
            "validation:: 100% 3/3 [00:00<00:00, 251.64it/s]\n",
            "\u001b[34mvalidation\u001b[0m : (\u001b[36mloss\u001b[0m 0.7400236229101816) (\u001b[36macc\u001b[0m 0.6666666666666666)\n",
            "Epoch 38:: 100% 3/3 [00:00<00:00, 92.57it/s]\n",
            "Epoch \u001b[34m38\u001b[0m/100 : \u001b[34mTraining\u001b[0m : (\u001b[36mloss\u001b[0m 0.7872806067268053) (\u001b[36macc\u001b[0m 1.0)\n",
            "validation:: 100% 3/3 [00:00<00:00, 212.82it/s]\n",
            "\u001b[34mvalidation\u001b[0m : (\u001b[36mloss\u001b[0m 0.6994704554478327) (\u001b[36macc\u001b[0m 0.6666666666666666)\n",
            "Epoch 39:: 100% 3/3 [00:00<00:00, 83.06it/s]\n",
            "Epoch \u001b[34m39\u001b[0m/100 : \u001b[34mTraining\u001b[0m : (\u001b[36mloss\u001b[0m 0.7644189720352491) (\u001b[36macc\u001b[0m 1.0)\n",
            "validation:: 100% 3/3 [00:00<00:00, 258.26it/s]\n",
            "\u001b[34mvalidation\u001b[0m : (\u001b[36mloss\u001b[0m 0.706406536201636) (\u001b[36macc\u001b[0m 0.6666666666666666)\n",
            "Epoch 40:: 100% 3/3 [00:00<00:00, 83.57it/s]\n",
            "Epoch \u001b[34m40\u001b[0m/100 : \u001b[34mTraining\u001b[0m : (\u001b[36mloss\u001b[0m 0.8081549803415934) (\u001b[36macc\u001b[0m 1.0)\n",
            "validation:: 100% 3/3 [00:00<00:00, 254.31it/s]\n",
            "\u001b[34mvalidation\u001b[0m : (\u001b[36mloss\u001b[0m 0.7052995984752973) (\u001b[36macc\u001b[0m 0.6666666666666666)\n",
            "Epoch 41:: 100% 3/3 [00:00<00:00, 94.91it/s]\n",
            "Epoch \u001b[34m41\u001b[0m/100 : \u001b[34mTraining\u001b[0m : (\u001b[36mloss\u001b[0m 0.7409209149579207) (\u001b[36macc\u001b[0m 1.0)\n",
            "validation:: 100% 3/3 [00:00<00:00, 276.07it/s]\n",
            "\u001b[34mvalidation\u001b[0m : (\u001b[36mloss\u001b[0m 0.7423247148593267) (\u001b[36macc\u001b[0m 0.6666666666666666)\n",
            "Epoch 42:: 100% 3/3 [00:00<00:00, 93.25it/s]\n",
            "Epoch \u001b[34m42\u001b[0m/100 : \u001b[34mTraining\u001b[0m : (\u001b[36mloss\u001b[0m 0.7449893951416016) (\u001b[36macc\u001b[0m 1.0)\n",
            "validation:: 100% 3/3 [00:00<00:00, 267.84it/s]\n",
            "\u001b[34mvalidation\u001b[0m : (\u001b[36mloss\u001b[0m 0.7088607872525851) (\u001b[36macc\u001b[0m 0.6666666666666666)\n",
            "Epoch 43:: 100% 3/3 [00:00<00:00, 81.49it/s]\n",
            "Epoch \u001b[34m43\u001b[0m/100 : \u001b[34mTraining\u001b[0m : (\u001b[36mloss\u001b[0m 0.7184959749380747) (\u001b[36macc\u001b[0m 1.0)\n",
            "validation:: 100% 3/3 [00:00<00:00, 247.32it/s]\n",
            "\u001b[34mvalidation\u001b[0m : (\u001b[36mloss\u001b[0m 0.7465986609458923) (\u001b[36macc\u001b[0m 0.6666666666666666)\n",
            "Epoch 44:: 100% 3/3 [00:00<00:00, 91.64it/s]\n",
            "Epoch \u001b[34m44\u001b[0m/100 : \u001b[34mTraining\u001b[0m : (\u001b[36mloss\u001b[0m 0.7243378236889839) (\u001b[36macc\u001b[0m 1.0)\n",
            "validation:: 100% 3/3 [00:00<00:00, 202.17it/s]\n",
            "\u001b[34mvalidation\u001b[0m : (\u001b[36mloss\u001b[0m 0.7370990018049876) (\u001b[36macc\u001b[0m 0.6666666666666666)\n",
            "Epoch 45:: 100% 3/3 [00:00<00:00, 64.26it/s]\n",
            "Epoch \u001b[34m45\u001b[0m/100 : \u001b[34mTraining\u001b[0m : (\u001b[36mloss\u001b[0m 0.7315774286786715) (\u001b[36macc\u001b[0m 1.0)\n",
            "validation:: 100% 3/3 [00:00<00:00, 251.85it/s]\n",
            "\u001b[34mvalidation\u001b[0m : (\u001b[36mloss\u001b[0m 0.7203728295862675) (\u001b[36macc\u001b[0m 0.6666666666666666)\n",
            "Epoch 46:: 100% 3/3 [00:00<00:00, 90.23it/s]\n",
            "Epoch \u001b[34m46\u001b[0m/100 : \u001b[34mTraining\u001b[0m : (\u001b[36mloss\u001b[0m 0.7428371117760738) (\u001b[36macc\u001b[0m 1.0)\n",
            "validation:: 100% 3/3 [00:00<00:00, 238.34it/s]\n",
            "\u001b[34mvalidation\u001b[0m : (\u001b[36mloss\u001b[0m 0.7471735129753748) (\u001b[36macc\u001b[0m 0.6666666666666666)\n",
            "Epoch 47:: 100% 3/3 [00:00<00:00, 87.88it/s]\n",
            "Epoch \u001b[34m47\u001b[0m/100 : \u001b[34mTraining\u001b[0m : (\u001b[36mloss\u001b[0m 0.7394184377044439) (\u001b[36macc\u001b[0m 1.0)\n",
            "validation:: 100% 3/3 [00:00<00:00, 250.42it/s]\n",
            "\u001b[34mvalidation\u001b[0m : (\u001b[36mloss\u001b[0m 0.7324962293108305) (\u001b[36macc\u001b[0m 0.6666666666666666)\n",
            "Epoch 48:: 100% 3/3 [00:00<00:00, 88.03it/s]\n",
            "Epoch \u001b[34m48\u001b[0m/100 : \u001b[34mTraining\u001b[0m : (\u001b[36mloss\u001b[0m 0.7267652715866765) (\u001b[36macc\u001b[0m 1.0)\n",
            "validation:: 100% 3/3 [00:00<00:00, 272.45it/s]\n",
            "\u001b[34mvalidation\u001b[0m : (\u001b[36mloss\u001b[0m 0.7055259651194016) (\u001b[36macc\u001b[0m 0.6666666666666666)\n",
            "Epoch 49:: 100% 3/3 [00:00<00:00, 90.74it/s]\n",
            "Epoch \u001b[34m49\u001b[0m/100 : \u001b[34mTraining\u001b[0m : (\u001b[36mloss\u001b[0m 0.7292707298571864) (\u001b[36macc\u001b[0m 1.0)\n",
            "validation:: 100% 3/3 [00:00<00:00, 250.54it/s]\n",
            "\u001b[34mvalidation\u001b[0m : (\u001b[36mloss\u001b[0m 0.72256467739741) (\u001b[36macc\u001b[0m 0.6666666666666666)\n",
            "Epoch 50:: 100% 3/3 [00:00<00:00, 100.94it/s]\n",
            "Epoch \u001b[34m50\u001b[0m/100 : \u001b[34mTraining\u001b[0m : (\u001b[36mloss\u001b[0m 0.7089233516405026) (\u001b[36macc\u001b[0m 1.0)\n",
            "validation:: 100% 3/3 [00:00<00:00, 276.05it/s]\n",
            "\u001b[34mvalidation\u001b[0m : (\u001b[36mloss\u001b[0m 0.698002760608991) (\u001b[36macc\u001b[0m 0.6666666666666666)\n",
            "Epoch 51:: 100% 3/3 [00:00<00:00, 101.34it/s]\n",
            "Epoch \u001b[34m51\u001b[0m/100 : \u001b[34mTraining\u001b[0m : (\u001b[36mloss\u001b[0m 0.7047487329691648) (\u001b[36macc\u001b[0m 1.0)\n",
            "validation:: 100% 3/3 [00:00<00:00, 278.45it/s]\n",
            "\u001b[34mvalidation\u001b[0m : (\u001b[36mloss\u001b[0m 0.7149811511238416) (\u001b[36macc\u001b[0m 0.6666666666666666)\n",
            "Epoch 52:: 100% 3/3 [00:00<00:00, 101.24it/s]\n",
            "Epoch \u001b[34m52\u001b[0m/100 : \u001b[34mTraining\u001b[0m : (\u001b[36mloss\u001b[0m 0.7044134436485668) (\u001b[36macc\u001b[0m 1.0)\n",
            "validation:: 100% 3/3 [00:00<00:00, 226.19it/s]\n",
            "\u001b[34mvalidation\u001b[0m : (\u001b[36mloss\u001b[0m 0.71487932279706) (\u001b[36macc\u001b[0m 0.6666666666666666)\n",
            "Epoch 53:: 100% 3/3 [00:00<00:00, 99.41it/s]\n",
            "Epoch \u001b[34m53\u001b[0m/100 : \u001b[34mTraining\u001b[0m : (\u001b[36mloss\u001b[0m 0.7136362288147211) (\u001b[36macc\u001b[0m 1.0)\n",
            "validation:: 100% 3/3 [00:00<00:00, 283.24it/s]\n",
            "\u001b[34mvalidation\u001b[0m : (\u001b[36mloss\u001b[0m 0.6945513300597668) (\u001b[36macc\u001b[0m 0.6666666666666666)\n",
            "Epoch 54:: 100% 3/3 [00:00<00:00, 100.18it/s]\n",
            "Epoch \u001b[34m54\u001b[0m/100 : \u001b[34mTraining\u001b[0m : (\u001b[36mloss\u001b[0m 0.7124919466053447) (\u001b[36macc\u001b[0m 1.0)\n",
            "validation:: 100% 3/3 [00:00<00:00, 271.05it/s]\n",
            "\u001b[34mvalidation\u001b[0m : (\u001b[36mloss\u001b[0m 0.7035900801420212) (\u001b[36macc\u001b[0m 0.6666666666666666)\n",
            "Epoch 55:: 100% 3/3 [00:00<00:00, 100.08it/s]\n",
            "Epoch \u001b[34m55\u001b[0m/100 : \u001b[34mTraining\u001b[0m : (\u001b[36mloss\u001b[0m 0.7042987123131752) (\u001b[36macc\u001b[0m 1.0)\n",
            "validation:: 100% 3/3 [00:00<00:00, 270.95it/s]\n",
            "\u001b[34mvalidation\u001b[0m : (\u001b[36mloss\u001b[0m 0.6785113639198244) (\u001b[36macc\u001b[0m 0.6666666666666666)\n",
            "Epoch 56:: 100% 3/3 [00:00<00:00, 92.38it/s]\n",
            "Epoch \u001b[34m56\u001b[0m/100 : \u001b[34mTraining\u001b[0m : (\u001b[36mloss\u001b[0m 0.7103695787955076) (\u001b[36macc\u001b[0m 1.0)\n",
            "validation:: 100% 3/3 [00:00<00:00, 237.56it/s]\n",
            "\u001b[34mvalidation\u001b[0m : (\u001b[36mloss\u001b[0m 0.7029197240869204) (\u001b[36macc\u001b[0m 0.6666666666666666)\n",
            "Epoch 57:: 100% 3/3 [00:00<00:00, 96.28it/s]\n",
            "Epoch \u001b[34m57\u001b[0m/100 : \u001b[34mTraining\u001b[0m : (\u001b[36mloss\u001b[0m 0.7154459211354455) (\u001b[36macc\u001b[0m 1.0)\n",
            "validation:: 100% 3/3 [00:00<00:00, 260.71it/s]\n",
            "\u001b[34mvalidation\u001b[0m : (\u001b[36mloss\u001b[0m 0.7013941627616683) (\u001b[36macc\u001b[0m 0.6666666666666666)\n",
            "Epoch 58:: 100% 3/3 [00:00<00:00, 97.90it/s]\n",
            "Epoch \u001b[34m58\u001b[0m/100 : \u001b[34mTraining\u001b[0m : (\u001b[36mloss\u001b[0m 0.7058945633471012) (\u001b[36macc\u001b[0m 1.0)\n",
            "validation:: 100% 3/3 [00:00<00:00, 269.04it/s]\n",
            "\u001b[34mvalidation\u001b[0m : (\u001b[36mloss\u001b[0m 0.6876551682750384) (\u001b[36macc\u001b[0m 0.6666666666666666)\n",
            "Epoch 59:: 100% 3/3 [00:00<00:00, 100.62it/s]\n",
            "Epoch \u001b[34m59\u001b[0m/100 : \u001b[34mTraining\u001b[0m : (\u001b[36mloss\u001b[0m 0.6947586406798413) (\u001b[36macc\u001b[0m 1.0)\n",
            "validation:: 100% 3/3 [00:00<00:00, 285.88it/s]\n",
            "\u001b[34mvalidation\u001b[0m : (\u001b[36mloss\u001b[0m 0.7087216762204965) (\u001b[36macc\u001b[0m 0.6666666666666666)\n",
            "Epoch 60:: 100% 3/3 [00:00<00:00, 90.55it/s]\n",
            "Epoch \u001b[34m60\u001b[0m/100 : \u001b[34mTraining\u001b[0m : (\u001b[36mloss\u001b[0m 0.699794377743577) (\u001b[36macc\u001b[0m 1.0)\n",
            "validation:: 100% 3/3 [00:00<00:00, 254.22it/s]\n",
            "\u001b[34mvalidation\u001b[0m : (\u001b[36mloss\u001b[0m 0.6988005253175894) (\u001b[36macc\u001b[0m 0.6666666666666666)\n",
            "Epoch 61:: 100% 3/3 [00:00<00:00, 84.82it/s]\n",
            "Epoch \u001b[34m61\u001b[0m/100 : \u001b[34mTraining\u001b[0m : (\u001b[36mloss\u001b[0m 0.6989607850943381) (\u001b[36macc\u001b[0m 1.0)\n",
            "validation:: 100% 3/3 [00:00<00:00, 258.45it/s]\n",
            "\u001b[34mvalidation\u001b[0m : (\u001b[36mloss\u001b[0m 0.7070595696568489) (\u001b[36macc\u001b[0m 0.6666666666666666)\n",
            "Epoch 62:: 100% 3/3 [00:00<00:00, 86.91it/s]\n",
            "Epoch \u001b[34m62\u001b[0m/100 : \u001b[34mTraining\u001b[0m : (\u001b[36mloss\u001b[0m 0.7004706123843789) (\u001b[36macc\u001b[0m 1.0)\n",
            "validation:: 100% 3/3 [00:00<00:00, 225.73it/s]\n",
            "\u001b[34mvalidation\u001b[0m : (\u001b[36mloss\u001b[0m 0.704815849972268) (\u001b[36macc\u001b[0m 0.6666666666666666)\n",
            "Epoch 63:: 100% 3/3 [00:00<00:00, 85.87it/s]\n",
            "Epoch \u001b[34m63\u001b[0m/100 : \u001b[34mTraining\u001b[0m : (\u001b[36mloss\u001b[0m 0.697099083151746) (\u001b[36macc\u001b[0m 1.0)\n",
            "validation:: 100% 3/3 [00:00<00:00, 271.71it/s]\n",
            "\u001b[34mvalidation\u001b[0m : (\u001b[36mloss\u001b[0m 0.6931563479593024) (\u001b[36macc\u001b[0m 0.6666666666666666)\n",
            "Epoch 64:: 100% 3/3 [00:00<00:00, 100.03it/s]\n",
            "Epoch \u001b[34m64\u001b[0m/100 : \u001b[34mTraining\u001b[0m : (\u001b[36mloss\u001b[0m 0.7032461669296026) (\u001b[36macc\u001b[0m 1.0)\n",
            "validation:: 100% 3/3 [00:00<00:00, 277.22it/s]\n",
            "\u001b[34mvalidation\u001b[0m : (\u001b[36mloss\u001b[0m 0.6932162538481256) (\u001b[36macc\u001b[0m 0.6666666666666666)\n",
            "Epoch 65:: 100% 3/3 [00:00<00:00, 98.13it/s]\n",
            "Epoch \u001b[34m65\u001b[0m/100 : \u001b[34mTraining\u001b[0m : (\u001b[36mloss\u001b[0m 0.6966443859661618) (\u001b[36macc\u001b[0m 1.0)\n",
            "validation:: 100% 3/3 [00:00<00:00, 279.35it/s]\n",
            "\u001b[34mvalidation\u001b[0m : (\u001b[36mloss\u001b[0m 0.6863062523577051) (\u001b[36macc\u001b[0m 0.6666666666666666)\n",
            "Epoch 66:: 100% 3/3 [00:00<00:00, 100.58it/s]\n",
            "Epoch \u001b[34m66\u001b[0m/100 : \u001b[34mTraining\u001b[0m : (\u001b[36mloss\u001b[0m 0.7046273435019733) (\u001b[36macc\u001b[0m 1.0)\n",
            "validation:: 100% 3/3 [00:00<00:00, 248.40it/s]\n",
            "\u001b[34mvalidation\u001b[0m : (\u001b[36mloss\u001b[0m 0.6963594562063614) (\u001b[36macc\u001b[0m 0.6666666666666666)\n",
            "Epoch 67:: 100% 3/3 [00:00<00:00, 85.76it/s]\n",
            "Epoch \u001b[34m67\u001b[0m/100 : \u001b[34mTraining\u001b[0m : (\u001b[36mloss\u001b[0m 0.6943784312267477) (\u001b[36macc\u001b[0m 1.0)\n",
            "validation:: 100% 3/3 [00:00<00:00, 183.05it/s]\n",
            "\u001b[34mvalidation\u001b[0m : (\u001b[36mloss\u001b[0m 0.705729766904066) (\u001b[36macc\u001b[0m 0.6666666666666666)\n",
            "Epoch 68:: 100% 3/3 [00:00<00:00, 97.21it/s]\n",
            "Epoch \u001b[34m68\u001b[0m/100 : \u001b[34mTraining\u001b[0m : (\u001b[36mloss\u001b[0m 0.7099395500845276) (\u001b[36macc\u001b[0m 1.0)\n",
            "validation:: 100% 3/3 [00:00<00:00, 264.61it/s]\n",
            "\u001b[34mvalidation\u001b[0m : (\u001b[36mloss\u001b[0m 0.6937710507772863) (\u001b[36macc\u001b[0m 0.6666666666666666)\n",
            "Epoch 69:: 100% 3/3 [00:00<00:00, 94.98it/s]\n",
            "Epoch \u001b[34m69\u001b[0m/100 : \u001b[34mTraining\u001b[0m : (\u001b[36mloss\u001b[0m 0.7024521547524879) (\u001b[36macc\u001b[0m 1.0)\n",
            "validation:: 100% 3/3 [00:00<00:00, 229.12it/s]\n",
            "\u001b[34mvalidation\u001b[0m : (\u001b[36mloss\u001b[0m 0.7052616269017259) (\u001b[36macc\u001b[0m 0.6666666666666666)\n",
            "Epoch 70:: 100% 3/3 [00:00<00:00, 90.96it/s]\n",
            "Epoch \u001b[34m70\u001b[0m/100 : \u001b[34mTraining\u001b[0m : (\u001b[36mloss\u001b[0m 0.6968088172531376) (\u001b[36macc\u001b[0m 1.0)\n",
            "validation:: 100% 3/3 [00:00<00:00, 267.24it/s]\n",
            "\u001b[34mvalidation\u001b[0m : (\u001b[36mloss\u001b[0m 0.6926183666413029) (\u001b[36macc\u001b[0m 0.6666666666666666)\n",
            "Epoch 71:: 100% 3/3 [00:00<00:00, 90.67it/s]\n",
            "Epoch \u001b[34m71\u001b[0m/100 : \u001b[34mTraining\u001b[0m : (\u001b[36mloss\u001b[0m 0.7015161569385479) (\u001b[36macc\u001b[0m 1.0)\n",
            "validation:: 100% 3/3 [00:00<00:00, 244.93it/s]\n",
            "\u001b[34mvalidation\u001b[0m : (\u001b[36mloss\u001b[0m 0.6836164655784766) (\u001b[36macc\u001b[0m 0.6666666666666666)\n",
            "Epoch 72:: 100% 3/3 [00:00<00:00, 85.08it/s]\n",
            "Epoch \u001b[34m72\u001b[0m/100 : \u001b[34mTraining\u001b[0m : (\u001b[36mloss\u001b[0m 0.7065257146023214) (\u001b[36macc\u001b[0m 1.0)\n",
            "validation:: 100% 3/3 [00:00<00:00, 192.50it/s]\n",
            "\u001b[34mvalidation\u001b[0m : (\u001b[36mloss\u001b[0m 0.6961162388324738) (\u001b[36macc\u001b[0m 0.6666666666666666)\n",
            "Epoch 73:: 100% 3/3 [00:00<00:00, 94.62it/s]\n",
            "Epoch \u001b[34m73\u001b[0m/100 : \u001b[34mTraining\u001b[0m : (\u001b[36mloss\u001b[0m 0.6989104010475179) (\u001b[36macc\u001b[0m 1.0)\n",
            "validation:: 100% 3/3 [00:00<00:00, 268.72it/s]\n",
            "\u001b[34mvalidation\u001b[0m : (\u001b[36mloss\u001b[0m 0.6992079457268119) (\u001b[36macc\u001b[0m 0.6666666666666666)\n",
            "Epoch 74:: 100% 3/3 [00:00<00:00, 67.16it/s]\n",
            "Epoch \u001b[34m74\u001b[0m/100 : \u001b[34mTraining\u001b[0m : (\u001b[36mloss\u001b[0m 0.7050146044736417) (\u001b[36macc\u001b[0m 1.0)\n",
            "validation:: 100% 3/3 [00:00<00:00, 261.54it/s]\n",
            "\u001b[34mvalidation\u001b[0m : (\u001b[36mloss\u001b[0m 0.6919214970742663) (\u001b[36macc\u001b[0m 0.6666666666666666)\n",
            "Epoch 75:: 100% 3/3 [00:00<00:00, 95.68it/s]\n",
            "Epoch \u001b[34m75\u001b[0m/100 : \u001b[34mTraining\u001b[0m : (\u001b[36mloss\u001b[0m 0.6942588284437079) (\u001b[36macc\u001b[0m 1.0)\n",
            "validation:: 100% 3/3 [00:00<00:00, 274.85it/s]\n",
            "\u001b[34mvalidation\u001b[0m : (\u001b[36mloss\u001b[0m 0.6938692318896452) (\u001b[36macc\u001b[0m 0.6666666666666666)\n",
            "Epoch 76:: 100% 3/3 [00:00<00:00, 90.81it/s]\n",
            "Epoch \u001b[34m76\u001b[0m/100 : \u001b[34mTraining\u001b[0m : (\u001b[36mloss\u001b[0m 0.6937361021797793) (\u001b[36macc\u001b[0m 1.0)\n",
            "validation:: 100% 3/3 [00:00<00:00, 265.85it/s]\n",
            "\u001b[34mvalidation\u001b[0m : (\u001b[36mloss\u001b[0m 0.72043475912263) (\u001b[36macc\u001b[0m 0.6666666666666666)\n",
            "Epoch 77:: 100% 3/3 [00:00<00:00, 97.42it/s]\n",
            "Epoch \u001b[34m77\u001b[0m/100 : \u001b[34mTraining\u001b[0m : (\u001b[36mloss\u001b[0m 0.6966475282485286) (\u001b[36macc\u001b[0m 1.0)\n",
            "validation:: 100% 3/3 [00:00<00:00, 273.08it/s]\n",
            "\u001b[34mvalidation\u001b[0m : (\u001b[36mloss\u001b[0m 0.6892200571795305) (\u001b[36macc\u001b[0m 0.6666666666666666)\n",
            "Epoch 78:: 100% 3/3 [00:00<00:00, 95.20it/s]\n",
            "Epoch \u001b[34m78\u001b[0m/100 : \u001b[34mTraining\u001b[0m : (\u001b[36mloss\u001b[0m 0.6953693144023418) (\u001b[36macc\u001b[0m 1.0)\n",
            "validation:: 100% 3/3 [00:00<00:00, 274.30it/s]\n",
            "\u001b[34mvalidation\u001b[0m : (\u001b[36mloss\u001b[0m 0.7033890833457311) (\u001b[36macc\u001b[0m 0.6666666666666666)\n",
            "Epoch 79:: 100% 3/3 [00:00<00:00, 88.33it/s]\n",
            "Epoch \u001b[34m79\u001b[0m/100 : \u001b[34mTraining\u001b[0m : (\u001b[36mloss\u001b[0m 0.6944924446676547) (\u001b[36macc\u001b[0m 1.0)\n",
            "validation:: 100% 3/3 [00:00<00:00, 237.26it/s]\n",
            "\u001b[34mvalidation\u001b[0m : (\u001b[36mloss\u001b[0m 0.6756389821724346) (\u001b[36macc\u001b[0m 0.6666666666666666)\n",
            "Epoch 80:: 100% 3/3 [00:00<00:00, 77.54it/s]\n",
            "Epoch \u001b[34m80\u001b[0m/100 : \u001b[34mTraining\u001b[0m : (\u001b[36mloss\u001b[0m 0.6972343376304101) (\u001b[36macc\u001b[0m 1.0)\n",
            "validation:: 100% 3/3 [00:00<00:00, 244.39it/s]\n",
            "\u001b[34mvalidation\u001b[0m : (\u001b[36mloss\u001b[0m 0.6920746861336132) (\u001b[36macc\u001b[0m 0.6666666666666666)\n",
            "Epoch 81:: 100% 3/3 [00:00<00:00, 86.57it/s]\n",
            "Epoch \u001b[34m81\u001b[0m/100 : \u001b[34mTraining\u001b[0m : (\u001b[36mloss\u001b[0m 0.6969157320369656) (\u001b[36macc\u001b[0m 1.0)\n",
            "validation:: 100% 3/3 [00:00<00:00, 245.00it/s]\n",
            "\u001b[34mvalidation\u001b[0m : (\u001b[36mloss\u001b[0m 0.7014965160439411) (\u001b[36macc\u001b[0m 0.6666666666666666)\n",
            "Epoch 82:: 100% 3/3 [00:00<00:00, 84.91it/s]\n",
            "Epoch \u001b[34m82\u001b[0m/100 : \u001b[34mTraining\u001b[0m : (\u001b[36mloss\u001b[0m 0.6948820319181929) (\u001b[36macc\u001b[0m 1.0)\n",
            "validation:: 100% 3/3 [00:00<00:00, 264.92it/s]\n",
            "\u001b[34mvalidation\u001b[0m : (\u001b[36mloss\u001b[0m 0.6888318203855306) (\u001b[36macc\u001b[0m 0.6666666666666666)\n",
            "Epoch 83:: 100% 3/3 [00:00<00:00, 79.28it/s]\n",
            "Epoch \u001b[34m83\u001b[0m/100 : \u001b[34mTraining\u001b[0m : (\u001b[36mloss\u001b[0m 0.7009505503810942) (\u001b[36macc\u001b[0m 1.0)\n",
            "validation:: 100% 3/3 [00:00<00:00, 252.46it/s]\n",
            "\u001b[34mvalidation\u001b[0m : (\u001b[36mloss\u001b[0m 0.6908951632600898) (\u001b[36macc\u001b[0m 0.6666666666666666)\n",
            "Epoch 84:: 100% 3/3 [00:00<00:00, 88.02it/s]\n",
            "Epoch \u001b[34m84\u001b[0m/100 : \u001b[34mTraining\u001b[0m : (\u001b[36mloss\u001b[0m 0.7023506582481787) (\u001b[36macc\u001b[0m 1.0)\n",
            "validation:: 100% 3/3 [00:00<00:00, 247.51it/s]\n",
            "\u001b[34mvalidation\u001b[0m : (\u001b[36mloss\u001b[0m 0.6907255127443932) (\u001b[36macc\u001b[0m 0.6666666666666666)\n",
            "Epoch 85:: 100% 3/3 [00:00<00:00, 90.30it/s]\n",
            "Epoch \u001b[34m85\u001b[0m/100 : \u001b[34mTraining\u001b[0m : (\u001b[36mloss\u001b[0m 0.7093970910451995) (\u001b[36macc\u001b[0m 1.0)\n",
            "validation:: 100% 3/3 [00:00<00:00, 234.75it/s]\n",
            "\u001b[34mvalidation\u001b[0m : (\u001b[36mloss\u001b[0m 0.6878311290250471) (\u001b[36macc\u001b[0m 0.6666666666666666)\n",
            "Epoch 86:: 100% 3/3 [00:00<00:00, 90.13it/s]\n",
            "Epoch \u001b[34m86\u001b[0m/100 : \u001b[34mTraining\u001b[0m : (\u001b[36mloss\u001b[0m 0.6936094945461567) (\u001b[36macc\u001b[0m 1.0)\n",
            "validation:: 100% 3/3 [00:00<00:00, 190.40it/s]\n",
            "\u001b[34mvalidation\u001b[0m : (\u001b[36mloss\u001b[0m 0.6625483888298428) (\u001b[36macc\u001b[0m 0.6666666666666666)\n",
            "Epoch 87:: 100% 3/3 [00:00<00:00, 83.03it/s]\n",
            "Epoch \u001b[34m87\u001b[0m/100 : \u001b[34mTraining\u001b[0m : (\u001b[36mloss\u001b[0m 0.6950147433090024) (\u001b[36macc\u001b[0m 1.0)\n",
            "validation:: 100% 3/3 [00:00<00:00, 249.77it/s]\n",
            "\u001b[34mvalidation\u001b[0m : (\u001b[36mloss\u001b[0m 0.6944461550253133) (\u001b[36macc\u001b[0m 0.6666666666666666)\n",
            "Epoch 88:: 100% 3/3 [00:00<00:00, 92.79it/s]\n",
            "Epoch \u001b[34m88\u001b[0m/100 : \u001b[34mTraining\u001b[0m : (\u001b[36mloss\u001b[0m 0.7084423325334986) (\u001b[36macc\u001b[0m 1.0)\n",
            "validation:: 100% 3/3 [00:00<00:00, 207.75it/s]\n",
            "\u001b[34mvalidation\u001b[0m : (\u001b[36mloss\u001b[0m 0.6958347464290758) (\u001b[36macc\u001b[0m 0.6666666666666666)\n",
            "Epoch 89:: 100% 3/3 [00:00<00:00, 74.32it/s]\n",
            "Epoch \u001b[34m89\u001b[0m/100 : \u001b[34mTraining\u001b[0m : (\u001b[36mloss\u001b[0m 0.6972932336793747) (\u001b[36macc\u001b[0m 1.0)\n",
            "validation:: 100% 3/3 [00:00<00:00, 254.49it/s]\n",
            "\u001b[34mvalidation\u001b[0m : (\u001b[36mloss\u001b[0m 0.6966617672393719) (\u001b[36macc\u001b[0m 0.6666666666666666)\n",
            "Epoch 90:: 100% 3/3 [00:00<00:00, 90.73it/s]\n",
            "Epoch \u001b[34m90\u001b[0m/100 : \u001b[34mTraining\u001b[0m : (\u001b[36mloss\u001b[0m 0.7013098456471502) (\u001b[36macc\u001b[0m 1.0)\n",
            "validation:: 100% 3/3 [00:00<00:00, 263.30it/s]\n",
            "\u001b[34mvalidation\u001b[0m : (\u001b[36mloss\u001b[0m 0.6925479583442211) (\u001b[36macc\u001b[0m 0.6666666666666666)\n",
            "Epoch 91:: 100% 3/3 [00:00<00:00, 91.69it/s]\n",
            "Epoch \u001b[34m91\u001b[0m/100 : \u001b[34mTraining\u001b[0m : (\u001b[36mloss\u001b[0m 0.6940713374836681) (\u001b[36macc\u001b[0m 1.0)\n",
            "validation:: 100% 3/3 [00:00<00:00, 245.42it/s]\n",
            "\u001b[34mvalidation\u001b[0m : (\u001b[36mloss\u001b[0m 0.7074227736641964) (\u001b[36macc\u001b[0m 0.6666666666666666)\n",
            "Epoch 92:: 100% 3/3 [00:00<00:00, 89.56it/s]\n",
            "Epoch \u001b[34m92\u001b[0m/100 : \u001b[34mTraining\u001b[0m : (\u001b[36mloss\u001b[0m 0.6954695171831796) (\u001b[36macc\u001b[0m 1.0)\n",
            "validation:: 100% 3/3 [00:00<00:00, 229.12it/s]\n",
            "\u001b[34mvalidation\u001b[0m : (\u001b[36mloss\u001b[0m 0.6924447258934379) (\u001b[36macc\u001b[0m 0.6666666666666666)\n",
            "Epoch 93:: 100% 3/3 [00:00<00:00, 91.37it/s]\n",
            "Epoch \u001b[34m93\u001b[0m/100 : \u001b[34mTraining\u001b[0m : (\u001b[36mloss\u001b[0m 0.7104528871714137) (\u001b[36macc\u001b[0m 1.0)\n",
            "validation:: 100% 3/3 [00:00<00:00, 274.68it/s]\n",
            "\u001b[34mvalidation\u001b[0m : (\u001b[36mloss\u001b[0m 0.6923260343804335) (\u001b[36macc\u001b[0m 0.6666666666666666)\n",
            "Epoch 94:: 100% 3/3 [00:00<00:00, 100.17it/s]\n",
            "Epoch \u001b[34m94\u001b[0m/100 : \u001b[34mTraining\u001b[0m : (\u001b[36mloss\u001b[0m 0.7126502088891963) (\u001b[36macc\u001b[0m 1.0)\n",
            "validation:: 100% 3/3 [00:00<00:00, 283.79it/s]\n",
            "\u001b[34mvalidation\u001b[0m : (\u001b[36mloss\u001b[0m 0.693541849575316) (\u001b[36macc\u001b[0m 0.6666666666666666)\n",
            "Epoch 95:: 100% 3/3 [00:00<00:00, 88.17it/s]\n",
            "Epoch \u001b[34m95\u001b[0m/100 : \u001b[34mTraining\u001b[0m : (\u001b[36mloss\u001b[0m 0.6999867779801813) (\u001b[36macc\u001b[0m 1.0)\n",
            "validation:: 100% 3/3 [00:00<00:00, 232.23it/s]\n",
            "\u001b[34mvalidation\u001b[0m : (\u001b[36mloss\u001b[0m 0.6968193920329213) (\u001b[36macc\u001b[0m 0.6666666666666666)\n",
            "Epoch 96:: 100% 3/3 [00:00<00:00, 98.64it/s]\n",
            "Epoch \u001b[34m96\u001b[0m/100 : \u001b[34mTraining\u001b[0m : (\u001b[36mloss\u001b[0m 0.6937360201651851) (\u001b[36macc\u001b[0m 1.0)\n",
            "validation:: 100% 3/3 [00:00<00:00, 273.71it/s]\n",
            "\u001b[34mvalidation\u001b[0m : (\u001b[36mloss\u001b[0m 0.6940103982730458) (\u001b[36macc\u001b[0m 0.6666666666666666)\n",
            "Epoch 97:: 100% 3/3 [00:00<00:00, 96.05it/s]\n",
            "Epoch \u001b[34m97\u001b[0m/100 : \u001b[34mTraining\u001b[0m : (\u001b[36mloss\u001b[0m 0.6952479022438638) (\u001b[36macc\u001b[0m 1.0)\n",
            "validation:: 100% 3/3 [00:00<00:00, 269.90it/s]\n",
            "\u001b[34mvalidation\u001b[0m : (\u001b[36mloss\u001b[0m 0.7191908042877913) (\u001b[36macc\u001b[0m 0.6666666666666666)\n",
            "Epoch 98:: 100% 3/3 [00:00<00:00, 91.48it/s]\n",
            "Epoch \u001b[34m98\u001b[0m/100 : \u001b[34mTraining\u001b[0m : (\u001b[36mloss\u001b[0m 0.6980531831504777) (\u001b[36macc\u001b[0m 1.0)\n",
            "validation:: 100% 3/3 [00:00<00:00, 273.60it/s]\n",
            "\u001b[34mvalidation\u001b[0m : (\u001b[36mloss\u001b[0m 0.6931440300152948) (\u001b[36macc\u001b[0m 0.6666666666666666)\n",
            "Epoch 99:: 100% 3/3 [00:00<00:00, 92.68it/s]\n",
            "Epoch \u001b[34m99\u001b[0m/100 : \u001b[34mTraining\u001b[0m : (\u001b[36mloss\u001b[0m 0.6956754612814015) (\u001b[36macc\u001b[0m 1.0)\n",
            "validation:: 100% 3/3 [00:00<00:00, 214.18it/s]\n",
            "\u001b[34mvalidation\u001b[0m : (\u001b[36mloss\u001b[0m 0.6924309877989193) (\u001b[36macc\u001b[0m 0.6666666666666666)\n",
            "<Figure size 640x480 with 1 Axes>\n",
            "test:: 100% 3/3 [00:00<00:00, 243.81it/s]\n",
            "\u001b[34mtest\u001b[0m : (\u001b[36mloss\u001b[0m 0.6903141512884758) (\u001b[36macc\u001b[0m 0.6666666666666666)\n"
          ]
        }
      ]
    }
  ]
}
