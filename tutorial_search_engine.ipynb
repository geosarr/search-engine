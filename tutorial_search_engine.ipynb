{
 "cells": [
  {
   "cell_type": "markdown",
   "metadata": {
    "id": "Yuka_9_b8EMh"
   },
   "source": [
    "[![Open In Colab](https://colab.research.google.com/assets/colab-badge.svg)](https://colab.research.google.com/drive/1y_VpfrOomKm33b6BxlmeNj09JEbV1b2a?usp=sharing)"
   ]
  },
  {
   "cell_type": "markdown",
   "metadata": {},
   "source": [
    "# Machine Learning for Natural Language Processing Project\n",
    "By: Georges SARR, Hamdi BEL HADJ HASSINE"
   ]
  },
  {
   "cell_type": "code",
   "execution_count": 1,
   "metadata": {
    "colab": {
     "base_uri": "https://localhost:8080/"
    },
    "id": "zbRqJOpI3Ktu",
    "outputId": "9a6dbb58-49e7-4346-9c26-9f4d6851a8dd"
   },
   "outputs": [
    {
     "name": "stdout",
     "output_type": "stream",
     "text": [
      "Cloning into 'search-engine'...\n",
      "remote: Enumerating objects: 300, done.\u001b[K\n",
      "remote: Counting objects: 100% (37/37), done.\u001b[K\n",
      "remote: Compressing objects: 100% (29/29), done.\u001b[K\n",
      "remote: Total 300 (delta 17), reused 14 (delta 8), pack-reused 263\u001b[K\n",
      "Receiving objects: 100% (300/300), 3.84 MiB | 16.46 MiB/s, done.\n",
      "Resolving deltas: 100% (165/165), done.\n"
     ]
    }
   ],
   "source": [
    "! git clone https://github.com/geosarr/search-engine"
   ]
  },
  {
   "cell_type": "code",
   "execution_count": 2,
   "metadata": {
    "colab": {
     "base_uri": "https://localhost:8080/"
    },
    "id": "tDxqx9zL3dxj",
    "outputId": "a3467b71-dc9f-49ea-f5d8-37dfcf9589ab"
   },
   "outputs": [
    {
     "name": "stdout",
     "output_type": "stream",
     "text": [
      "Collecting datasets\n",
      "  Downloading datasets-2.1.0-py3-none-any.whl (325 kB)\n",
      "\u001b[K     |████████████████████████████████| 325 kB 5.0 MB/s \n",
      "\u001b[?25hCollecting huggingface-hub<1.0.0,>=0.1.0\n",
      "  Downloading huggingface_hub-0.5.1-py3-none-any.whl (77 kB)\n",
      "\u001b[K     |████████████████████████████████| 77 kB 5.7 MB/s \n",
      "\u001b[?25hRequirement already satisfied: tqdm>=4.62.1 in /usr/local/lib/python3.7/dist-packages (from datasets) (4.64.0)\n",
      "Collecting xxhash\n",
      "  Downloading xxhash-3.0.0-cp37-cp37m-manylinux_2_17_x86_64.manylinux2014_x86_64.whl (212 kB)\n",
      "\u001b[K     |████████████████████████████████| 212 kB 43.9 MB/s \n",
      "\u001b[?25hCollecting fsspec[http]>=2021.05.0\n",
      "  Downloading fsspec-2022.3.0-py3-none-any.whl (136 kB)\n",
      "\u001b[K     |████████████████████████████████| 136 kB 43.1 MB/s \n",
      "\u001b[?25hRequirement already satisfied: pyarrow>=5.0.0 in /usr/local/lib/python3.7/dist-packages (from datasets) (6.0.1)\n",
      "Requirement already satisfied: packaging in /usr/local/lib/python3.7/dist-packages (from datasets) (21.3)\n",
      "Requirement already satisfied: importlib-metadata in /usr/local/lib/python3.7/dist-packages (from datasets) (4.11.3)\n",
      "Requirement already satisfied: dill in /usr/local/lib/python3.7/dist-packages (from datasets) (0.3.4)\n",
      "Collecting aiohttp\n",
      "  Downloading aiohttp-3.8.1-cp37-cp37m-manylinux_2_5_x86_64.manylinux1_x86_64.manylinux_2_12_x86_64.manylinux2010_x86_64.whl (1.1 MB)\n",
      "\u001b[K     |████████████████████████████████| 1.1 MB 49.8 MB/s \n",
      "\u001b[?25hRequirement already satisfied: numpy>=1.17 in /usr/local/lib/python3.7/dist-packages (from datasets) (1.21.6)\n",
      "Requirement already satisfied: multiprocess in /usr/local/lib/python3.7/dist-packages (from datasets) (0.70.12.2)\n",
      "Requirement already satisfied: requests>=2.19.0 in /usr/local/lib/python3.7/dist-packages (from datasets) (2.23.0)\n",
      "Requirement already satisfied: pandas in /usr/local/lib/python3.7/dist-packages (from datasets) (1.3.5)\n",
      "Collecting responses<0.19\n",
      "  Downloading responses-0.18.0-py3-none-any.whl (38 kB)\n",
      "Requirement already satisfied: typing-extensions>=3.7.4.3 in /usr/local/lib/python3.7/dist-packages (from huggingface-hub<1.0.0,>=0.1.0->datasets) (4.1.1)\n",
      "Requirement already satisfied: filelock in /usr/local/lib/python3.7/dist-packages (from huggingface-hub<1.0.0,>=0.1.0->datasets) (3.6.0)\n",
      "Requirement already satisfied: pyyaml in /usr/local/lib/python3.7/dist-packages (from huggingface-hub<1.0.0,>=0.1.0->datasets) (3.13)\n",
      "Requirement already satisfied: pyparsing!=3.0.5,>=2.0.2 in /usr/local/lib/python3.7/dist-packages (from packaging->datasets) (3.0.8)\n",
      "Requirement already satisfied: certifi>=2017.4.17 in /usr/local/lib/python3.7/dist-packages (from requests>=2.19.0->datasets) (2021.10.8)\n",
      "Requirement already satisfied: urllib3!=1.25.0,!=1.25.1,<1.26,>=1.21.1 in /usr/local/lib/python3.7/dist-packages (from requests>=2.19.0->datasets) (1.24.3)\n",
      "Requirement already satisfied: chardet<4,>=3.0.2 in /usr/local/lib/python3.7/dist-packages (from requests>=2.19.0->datasets) (3.0.4)\n",
      "Requirement already satisfied: idna<3,>=2.5 in /usr/local/lib/python3.7/dist-packages (from requests>=2.19.0->datasets) (2.10)\n",
      "Collecting urllib3!=1.25.0,!=1.25.1,<1.26,>=1.21.1\n",
      "  Downloading urllib3-1.25.11-py2.py3-none-any.whl (127 kB)\n",
      "\u001b[K     |████████████████████████████████| 127 kB 59.4 MB/s \n",
      "\u001b[?25hCollecting frozenlist>=1.1.1\n",
      "  Downloading frozenlist-1.3.0-cp37-cp37m-manylinux_2_5_x86_64.manylinux1_x86_64.manylinux_2_17_x86_64.manylinux2014_x86_64.whl (144 kB)\n",
      "\u001b[K     |████████████████████████████████| 144 kB 56.2 MB/s \n",
      "\u001b[?25hRequirement already satisfied: attrs>=17.3.0 in /usr/local/lib/python3.7/dist-packages (from aiohttp->datasets) (21.4.0)\n",
      "Requirement already satisfied: charset-normalizer<3.0,>=2.0 in /usr/local/lib/python3.7/dist-packages (from aiohttp->datasets) (2.0.12)\n",
      "Collecting aiosignal>=1.1.2\n",
      "  Downloading aiosignal-1.2.0-py3-none-any.whl (8.2 kB)\n",
      "Collecting async-timeout<5.0,>=4.0.0a3\n",
      "  Downloading async_timeout-4.0.2-py3-none-any.whl (5.8 kB)\n",
      "Collecting yarl<2.0,>=1.0\n",
      "  Downloading yarl-1.7.2-cp37-cp37m-manylinux_2_5_x86_64.manylinux1_x86_64.manylinux_2_12_x86_64.manylinux2010_x86_64.whl (271 kB)\n",
      "\u001b[K     |████████████████████████████████| 271 kB 57.6 MB/s \n",
      "\u001b[?25hCollecting asynctest==0.13.0\n",
      "  Downloading asynctest-0.13.0-py3-none-any.whl (26 kB)\n",
      "Collecting multidict<7.0,>=4.5\n",
      "  Downloading multidict-6.0.2-cp37-cp37m-manylinux_2_17_x86_64.manylinux2014_x86_64.whl (94 kB)\n",
      "\u001b[K     |████████████████████████████████| 94 kB 3.5 MB/s \n",
      "\u001b[?25hRequirement already satisfied: zipp>=0.5 in /usr/local/lib/python3.7/dist-packages (from importlib-metadata->datasets) (3.8.0)\n",
      "Requirement already satisfied: pytz>=2017.3 in /usr/local/lib/python3.7/dist-packages (from pandas->datasets) (2022.1)\n",
      "Requirement already satisfied: python-dateutil>=2.7.3 in /usr/local/lib/python3.7/dist-packages (from pandas->datasets) (2.8.2)\n",
      "Requirement already satisfied: six>=1.5 in /usr/local/lib/python3.7/dist-packages (from python-dateutil>=2.7.3->pandas->datasets) (1.15.0)\n",
      "Installing collected packages: multidict, frozenlist, yarl, urllib3, asynctest, async-timeout, aiosignal, fsspec, aiohttp, xxhash, responses, huggingface-hub, datasets\n",
      "  Attempting uninstall: urllib3\n",
      "    Found existing installation: urllib3 1.24.3\n",
      "    Uninstalling urllib3-1.24.3:\n",
      "      Successfully uninstalled urllib3-1.24.3\n",
      "\u001b[31mERROR: pip's dependency resolver does not currently take into account all the packages that are installed. This behaviour is the source of the following dependency conflicts.\n",
      "datascience 0.10.6 requires folium==0.2.1, but you have folium 0.8.3 which is incompatible.\u001b[0m\n",
      "Successfully installed aiohttp-3.8.1 aiosignal-1.2.0 async-timeout-4.0.2 asynctest-0.13.0 datasets-2.1.0 frozenlist-1.3.0 fsspec-2022.3.0 huggingface-hub-0.5.1 multidict-6.0.2 responses-0.18.0 urllib3-1.25.11 xxhash-3.0.0 yarl-1.7.2\n",
      "Requirement already satisfied: gensim in /usr/local/lib/python3.7/dist-packages (3.6.0)\n",
      "Collecting gensim\n",
      "  Downloading gensim-4.1.2-cp37-cp37m-manylinux_2_12_x86_64.manylinux2010_x86_64.whl (24.1 MB)\n",
      "\u001b[K     |████████████████████████████████| 24.1 MB 79.4 MB/s \n",
      "\u001b[?25hRequirement already satisfied: smart-open>=1.8.1 in /usr/local/lib/python3.7/dist-packages (from gensim) (5.2.1)\n",
      "Requirement already satisfied: scipy>=0.18.1 in /usr/local/lib/python3.7/dist-packages (from gensim) (1.4.1)\n",
      "Requirement already satisfied: numpy>=1.17.0 in /usr/local/lib/python3.7/dist-packages (from gensim) (1.21.6)\n",
      "Installing collected packages: gensim\n",
      "  Attempting uninstall: gensim\n",
      "    Found existing installation: gensim 3.6.0\n",
      "    Uninstalling gensim-3.6.0:\n",
      "      Successfully uninstalled gensim-3.6.0\n",
      "Successfully installed gensim-4.1.2\n",
      "Requirement already satisfied: nltk in /usr/local/lib/python3.7/dist-packages (3.2.5)\n",
      "Requirement already satisfied: six in /usr/local/lib/python3.7/dist-packages (from nltk) (1.15.0)\n",
      "Requirement already satisfied: tqdm in /usr/local/lib/python3.7/dist-packages (4.64.0)\n"
     ]
    }
   ],
   "source": [
    "! pip install datasets\n",
    "! pip install gensim --upgrade\n",
    "! pip install nltk\n",
    "! pip install tqdm\n",
    "! pip install transformers"
   ]
  },
  {
   "cell_type": "code",
   "execution_count": 1,
   "metadata": {
    "colab": {
     "base_uri": "https://localhost:8080/"
    },
    "id": "qGJ7D-Un34OL",
    "outputId": "a76d0820-3fde-40ac-c382-c17768e151c3"
   },
   "outputs": [
    {
     "name": "stdout",
     "output_type": "stream",
     "text": [
      "[nltk_data] Downloading package words to /root/nltk_data...\n",
      "[nltk_data]   Package words is already up-to-date!\n",
      "[nltk_data] Downloading package stopwords to /root/nltk_data...\n",
      "[nltk_data]   Package stopwords is already up-to-date!\n"
     ]
    }
   ],
   "source": [
    "import warnings\n",
    "warnings.simplefilter(action='ignore', category=RuntimeWarning)\n",
    "\n",
    "import sys\n",
    "sys.path.insert(0, \"./search-engine\")\n",
    "\n",
    "from model_utils import tf, idf, unigram, doc_embed, cluster_docs, wd, opt_svd \n",
    "from search_models import Boolean, Vsm, Bim, BimExt, QueryLklhd, W2Vsm, Lsi\n",
    "from search import searching \n",
    "from saveload import indexing\n",
    "from indices import SubInvertedIndex\n",
    "from evaluation import MRR,MAP, run_benchmark\n",
    "\n",
    "import matplotlib.pyplot as plt\n",
    "import seaborn as sb\n",
    "import numpy as np\n",
    "import pandas as pd\n",
    "\n",
    "import gensim\n",
    "import gensim.downloader as api\n",
    "\n",
    "from tqdm.auto import tqdm\n",
    "import datasets\n",
    "import torch\n",
    "from torch.optim import Adam\n",
    "from transformers import DistilBertTokenizer, DistilBertForSequenceClassification\n",
    "from transformers import get_scheduler\n",
    "from torch.utils.data import DataLoader\n",
    "from datasets import load_dataset\n",
    "import joblib\n",
    "from collections import Counter\n",
    "from sklearn.metrics import confusion_matrix, roc_curve, auc, plot_roc_curve\n",
    "import matplotlib.pyplot as plt\n",
    "import seaborn as sn\n",
    "device = 'cuda' if torch.cuda.is_available() else 'cpu'"
   ]
  },
  {
   "cell_type": "markdown",
   "metadata": {
    "id": "GAX_cisuxO9e"
   },
   "source": [
    "# Indexing the documents collection"
   ]
  },
  {
   "cell_type": "code",
   "execution_count": 2,
   "metadata": {
    "colab": {
     "base_uri": "https://localhost:8080/"
    },
    "id": "fbJfpfSYxLVR",
    "outputId": "16eb3108-e1a9-4060-ef82-f3b512dc0448"
   },
   "outputs": [
    {
     "name": "stdout",
     "output_type": "stream",
     "text": [
      ".....................Collection indexation in progress.....................\n"
     ]
    },
    {
     "name": "stderr",
     "output_type": "stream",
     "text": [
      "Reusing dataset ms_marco (/root/.cache/huggingface/datasets/ms_marco/v1.1/1.1.0/b6a62715fa5219aea5275dd3556601004cd63945cb63e36e022f77bb3cbbca84)\n",
      "100%|██████████| 9650/9650 [00:47<00:00, 201.40it/s]"
     ]
    },
    {
     "name": "stdout",
     "output_type": "stream",
     "text": [
      ".....................Failed to save the index.....................\n"
     ]
    },
    {
     "name": "stderr",
     "output_type": "stream",
     "text": [
      "\n"
     ]
    }
   ],
   "source": [
    "judgments=dict()\n",
    "inverted_index_sortpost, judgments=indexing(dataset=\"ms_marco\", save=True, save_load_path=\"./data\", index_type='inv', judgments=judgments, version=\"v1.1\", split=\"test\")"
   ]
  },
  {
   "cell_type": "markdown",
   "metadata": {
    "id": "-kN_QL1XJopV"
   },
   "source": [
    "# Statistics"
   ]
  },
  {
   "cell_type": "code",
   "execution_count": null,
   "metadata": {
    "colab": {
     "base_uri": "https://localhost:8080/"
    },
    "id": "6c19ArzDx6_6",
    "outputId": "20677cea-f883-4c15-d554-0adba8411370"
   },
   "outputs": [
    {
     "name": "stdout",
     "output_type": "stream",
     "text": [
      "The vocabulary is made of 132161 words\n"
     ]
    }
   ],
   "source": [
    "print(f\"The vocabulary is made of {len(inverted_index_sortpost.index)} words\")"
   ]
  },
  {
   "cell_type": "markdown",
   "metadata": {
    "id": "wBkxSPhlxonf"
   },
   "source": [
    "### Document lengths\n"
   ]
  },
  {
   "cell_type": "code",
   "execution_count": null,
   "metadata": {
    "colab": {
     "base_uri": "https://localhost:8080/",
     "height": 300
    },
    "id": "fpeA_DIjyAU1",
    "outputId": "f669050e-6f36-4dbf-a4d8-29f97f62fb8a"
   },
   "outputs": [
    {
     "name": "stdout",
     "output_type": "stream",
     "text": [
      "There are 79176 documents\n"
     ]
    },
    {
     "data": {
      "text/plain": [
       "<matplotlib.axes._subplots.AxesSubplot at 0x7fb05c1f9490>"
      ]
     },
     "execution_count": 8,
     "metadata": {},
     "output_type": "execute_result"
    },
    {
     "data": {
      "image/png": "[encoded data removed]",
      "text/plain": [
       "<Figure size 432x288 with 1 Axes>"
      ]
     },
     "metadata": {
      "needs_background": "light"
     },
     "output_type": "display_data"
    }
   ],
   "source": [
    "print(f\"There are {len(inverted_index_sortpost.documents)} documents\")\n",
    "doc_lenghts=[len(inverted_index_sortpost.raw_freq[ID]) for ID in inverted_index_sortpost.documents]\n",
    "sb.histplot(doc_lenghts)"
   ]
  },
  {
   "cell_type": "code",
   "execution_count": null,
   "metadata": {
    "colab": {
     "base_uri": "https://localhost:8080/",
     "height": 300
    },
    "id": "5jbUnEj_yLQf",
    "outputId": "42f6c8bb-3437-4c0d-992a-0c2baa54a924"
   },
   "outputs": [
    {
     "data": {
      "text/html": [
       "\n",
       "  <div id=\"df-849ad139-b240-4b0f-b105-e470c0f79e90\">\n",
       "    <div class=\"colab-df-container\">\n",
       "      <div>\n",
       "<style scoped>\n",
       "    .dataframe tbody tr th:only-of-type {\n",
       "        vertical-align: middle;\n",
       "    }\n",
       "\n",
       "    .dataframe tbody tr th {\n",
       "        vertical-align: top;\n",
       "    }\n",
       "\n",
       "    .dataframe thead th {\n",
       "        text-align: right;\n",
       "    }\n",
       "</style>\n",
       "<table border=\"1\" class=\"dataframe\">\n",
       "  <thead>\n",
       "    <tr style=\"text-align: right;\">\n",
       "      <th></th>\n",
       "      <th>doc_lengths</th>\n",
       "    </tr>\n",
       "  </thead>\n",
       "  <tbody>\n",
       "    <tr>\n",
       "      <th>count</th>\n",
       "      <td>79176.0</td>\n",
       "    </tr>\n",
       "    <tr>\n",
       "      <th>mean</th>\n",
       "      <td>49.0</td>\n",
       "    </tr>\n",
       "    <tr>\n",
       "      <th>std</th>\n",
       "      <td>15.0</td>\n",
       "    </tr>\n",
       "    <tr>\n",
       "      <th>min</th>\n",
       "      <td>4.0</td>\n",
       "    </tr>\n",
       "    <tr>\n",
       "      <th>25%</th>\n",
       "      <td>37.0</td>\n",
       "    </tr>\n",
       "    <tr>\n",
       "      <th>50%</th>\n",
       "      <td>48.0</td>\n",
       "    </tr>\n",
       "    <tr>\n",
       "      <th>75%</th>\n",
       "      <td>60.0</td>\n",
       "    </tr>\n",
       "    <tr>\n",
       "      <th>max</th>\n",
       "      <td>125.0</td>\n",
       "    </tr>\n",
       "  </tbody>\n",
       "</table>\n",
       "</div>\n",
       "      <button class=\"colab-df-convert\" onclick=\"convertToInteractive('df-849ad139-b240-4b0f-b105-e470c0f79e90')\"\n",
       "              title=\"Convert this dataframe to an interactive table.\"\n",
       "              style=\"display:none;\">\n",
       "        \n",
       "  <svg xmlns=\"http://www.w3.org/2000/svg\" height=\"24px\"viewBox=\"0 0 24 24\"\n",
       "       width=\"24px\">\n",
       "    <path d=\"M0 0h24v24H0V0z\" fill=\"none\"/>\n",
       "    <path d=\"M18.56 5.44l.94 2.06.94-2.06 2.06-.94-2.06-.94-.94-2.06-.94 2.06-2.06.94zm-11 1L8.5 8.5l.94-2.06 2.06-.94-2.06-.94L8.5 2.5l-.94 2.06-2.06.94zm10 10l.94 2.06.94-2.06 2.06-.94-2.06-.94-.94-2.06-.94 2.06-2.06.94z\"/><path d=\"M17.41 7.96l-1.37-1.37c-.4-.4-.92-.59-1.43-.59-.52 0-1.04.2-1.43.59L10.3 9.45l-7.72 7.72c-.78.78-.78 2.05 0 2.83L4 21.41c.39.39.9.59 1.41.59.51 0 1.02-.2 1.41-.59l7.78-7.78 2.81-2.81c.8-.78.8-2.07 0-2.86zM5.41 20L4 18.59l7.72-7.72 1.47 1.35L5.41 20z\"/>\n",
       "  </svg>\n",
       "      </button>\n",
       "      \n",
       "  <style>\n",
       "    .colab-df-container {\n",
       "      display:flex;\n",
       "      flex-wrap:wrap;\n",
       "      gap: 12px;\n",
       "    }\n",
       "\n",
       "    .colab-df-convert {\n",
       "      background-color: #E8F0FE;\n",
       "      border: none;\n",
       "      border-radius: 50%;\n",
       "      cursor: pointer;\n",
       "      display: none;\n",
       "      fill: #1967D2;\n",
       "      height: 32px;\n",
       "      padding: 0 0 0 0;\n",
       "      width: 32px;\n",
       "    }\n",
       "\n",
       "    .colab-df-convert:hover {\n",
       "      background-color: #E2EBFA;\n",
       "      box-shadow: 0px 1px 2px rgba(60, 64, 67, 0.3), 0px 1px 3px 1px rgba(60, 64, 67, 0.15);\n",
       "      fill: #174EA6;\n",
       "    }\n",
       "\n",
       "    [theme=dark] .colab-df-convert {\n",
       "      background-color: #3B4455;\n",
       "      fill: #D2E3FC;\n",
       "    }\n",
       "\n",
       "    [theme=dark] .colab-df-convert:hover {\n",
       "      background-color: #434B5C;\n",
       "      box-shadow: 0px 1px 3px 1px rgba(0, 0, 0, 0.15);\n",
       "      filter: drop-shadow(0px 1px 2px rgba(0, 0, 0, 0.3));\n",
       "      fill: #FFFFFF;\n",
       "    }\n",
       "  </style>\n",
       "\n",
       "      <script>\n",
       "        const buttonEl =\n",
       "          document.querySelector('#df-849ad139-b240-4b0f-b105-e470c0f79e90 button.colab-df-convert');\n",
       "        buttonEl.style.display =\n",
       "          google.colab.kernel.accessAllowed ? 'block' : 'none';\n",
       "\n",
       "        async function convertToInteractive(key) {\n",
       "          const element = document.querySelector('#df-849ad139-b240-4b0f-b105-e470c0f79e90');\n",
       "          const dataTable =\n",
       "            await google.colab.kernel.invokeFunction('convertToInteractive',\n",
       "                                                     [key], {});\n",
       "          if (!dataTable) return;\n",
       "\n",
       "          const docLinkHtml = 'Like what you see? Visit the ' +\n",
       "            '<a target=\"_blank\" href=https://colab.research.google.com/notebooks/data_table.ipynb>data table notebook</a>'\n",
       "            + ' to learn more about interactive tables.';\n",
       "          element.innerHTML = '';\n",
       "          dataTable['output_type'] = 'display_data';\n",
       "          await google.colab.output.renderOutput(dataTable, element);\n",
       "          const docLink = document.createElement('div');\n",
       "          docLink.innerHTML = docLinkHtml;\n",
       "          element.appendChild(docLink);\n",
       "        }\n",
       "      </script>\n",
       "    </div>\n",
       "  </div>\n",
       "  "
      ],
      "text/plain": [
       "       doc_lengths\n",
       "count      79176.0\n",
       "mean          49.0\n",
       "std           15.0\n",
       "min            4.0\n",
       "25%           37.0\n",
       "50%           48.0\n",
       "75%           60.0\n",
       "max          125.0"
      ]
     },
     "execution_count": 9,
     "metadata": {},
     "output_type": "execute_result"
    }
   ],
   "source": [
    "round(pd.DataFrame({\"doc_lengths\": doc_lenghts}).describe(),0)"
   ]
  },
  {
   "cell_type": "markdown",
   "metadata": {
    "id": "qxHrRm1XyP5O"
   },
   "source": [
    "### Word raw frequencies"
   ]
  },
  {
   "cell_type": "code",
   "execution_count": null,
   "metadata": {
    "colab": {
     "base_uri": "https://localhost:8080/",
     "height": 300
    },
    "id": "T75AqLEVyObh",
    "outputId": "34ccc10b-c29e-412a-ef99-33a22fcae64e"
   },
   "outputs": [
    {
     "data": {
      "text/html": [
       "\n",
       "  <div id=\"df-f90a2df6-6df2-417d-a15e-cf31f026b5f6\">\n",
       "    <div class=\"colab-df-container\">\n",
       "      <div>\n",
       "<style scoped>\n",
       "    .dataframe tbody tr th:only-of-type {\n",
       "        vertical-align: middle;\n",
       "    }\n",
       "\n",
       "    .dataframe tbody tr th {\n",
       "        vertical-align: top;\n",
       "    }\n",
       "\n",
       "    .dataframe thead th {\n",
       "        text-align: right;\n",
       "    }\n",
       "</style>\n",
       "<table border=\"1\" class=\"dataframe\">\n",
       "  <thead>\n",
       "    <tr style=\"text-align: right;\">\n",
       "      <th></th>\n",
       "      <th>avg_raw_freqs</th>\n",
       "    </tr>\n",
       "  </thead>\n",
       "  <tbody>\n",
       "    <tr>\n",
       "      <th>count</th>\n",
       "      <td>132161.0</td>\n",
       "    </tr>\n",
       "    <tr>\n",
       "      <th>mean</th>\n",
       "      <td>1.0</td>\n",
       "    </tr>\n",
       "    <tr>\n",
       "      <th>std</th>\n",
       "      <td>0.0</td>\n",
       "    </tr>\n",
       "    <tr>\n",
       "      <th>min</th>\n",
       "      <td>1.0</td>\n",
       "    </tr>\n",
       "    <tr>\n",
       "      <th>25%</th>\n",
       "      <td>1.0</td>\n",
       "    </tr>\n",
       "    <tr>\n",
       "      <th>50%</th>\n",
       "      <td>1.0</td>\n",
       "    </tr>\n",
       "    <tr>\n",
       "      <th>75%</th>\n",
       "      <td>1.0</td>\n",
       "    </tr>\n",
       "    <tr>\n",
       "      <th>max</th>\n",
       "      <td>24.0</td>\n",
       "    </tr>\n",
       "  </tbody>\n",
       "</table>\n",
       "</div>\n",
       "      <button class=\"colab-df-convert\" onclick=\"convertToInteractive('df-f90a2df6-6df2-417d-a15e-cf31f026b5f6')\"\n",
       "              title=\"Convert this dataframe to an interactive table.\"\n",
       "              style=\"display:none;\">\n",
       "        \n",
       "  <svg xmlns=\"http://www.w3.org/2000/svg\" height=\"24px\"viewBox=\"0 0 24 24\"\n",
       "       width=\"24px\">\n",
       "    <path d=\"M0 0h24v24H0V0z\" fill=\"none\"/>\n",
       "    <path d=\"M18.56 5.44l.94 2.06.94-2.06 2.06-.94-2.06-.94-.94-2.06-.94 2.06-2.06.94zm-11 1L8.5 8.5l.94-2.06 2.06-.94-2.06-.94L8.5 2.5l-.94 2.06-2.06.94zm10 10l.94 2.06.94-2.06 2.06-.94-2.06-.94-.94-2.06-.94 2.06-2.06.94z\"/><path d=\"M17.41 7.96l-1.37-1.37c-.4-.4-.92-.59-1.43-.59-.52 0-1.04.2-1.43.59L10.3 9.45l-7.72 7.72c-.78.78-.78 2.05 0 2.83L4 21.41c.39.39.9.59 1.41.59.51 0 1.02-.2 1.41-.59l7.78-7.78 2.81-2.81c.8-.78.8-2.07 0-2.86zM5.41 20L4 18.59l7.72-7.72 1.47 1.35L5.41 20z\"/>\n",
       "  </svg>\n",
       "      </button>\n",
       "      \n",
       "  <style>\n",
       "    .colab-df-container {\n",
       "      display:flex;\n",
       "      flex-wrap:wrap;\n",
       "      gap: 12px;\n",
       "    }\n",
       "\n",
       "    .colab-df-convert {\n",
       "      background-color: #E8F0FE;\n",
       "      border: none;\n",
       "      border-radius: 50%;\n",
       "      cursor: pointer;\n",
       "      display: none;\n",
       "      fill: #1967D2;\n",
       "      height: 32px;\n",
       "      padding: 0 0 0 0;\n",
       "      width: 32px;\n",
       "    }\n",
       "\n",
       "    .colab-df-convert:hover {\n",
       "      background-color: #E2EBFA;\n",
       "      box-shadow: 0px 1px 2px rgba(60, 64, 67, 0.3), 0px 1px 3px 1px rgba(60, 64, 67, 0.15);\n",
       "      fill: #174EA6;\n",
       "    }\n",
       "\n",
       "    [theme=dark] .colab-df-convert {\n",
       "      background-color: #3B4455;\n",
       "      fill: #D2E3FC;\n",
       "    }\n",
       "\n",
       "    [theme=dark] .colab-df-convert:hover {\n",
       "      background-color: #434B5C;\n",
       "      box-shadow: 0px 1px 3px 1px rgba(0, 0, 0, 0.15);\n",
       "      filter: drop-shadow(0px 1px 2px rgba(0, 0, 0, 0.3));\n",
       "      fill: #FFFFFF;\n",
       "    }\n",
       "  </style>\n",
       "\n",
       "      <script>\n",
       "        const buttonEl =\n",
       "          document.querySelector('#df-f90a2df6-6df2-417d-a15e-cf31f026b5f6 button.colab-df-convert');\n",
       "        buttonEl.style.display =\n",
       "          google.colab.kernel.accessAllowed ? 'block' : 'none';\n",
       "\n",
       "        async function convertToInteractive(key) {\n",
       "          const element = document.querySelector('#df-f90a2df6-6df2-417d-a15e-cf31f026b5f6');\n",
       "          const dataTable =\n",
       "            await google.colab.kernel.invokeFunction('convertToInteractive',\n",
       "                                                     [key], {});\n",
       "          if (!dataTable) return;\n",
       "\n",
       "          const docLinkHtml = 'Like what you see? Visit the ' +\n",
       "            '<a target=\"_blank\" href=https://colab.research.google.com/notebooks/data_table.ipynb>data table notebook</a>'\n",
       "            + ' to learn more about interactive tables.';\n",
       "          element.innerHTML = '';\n",
       "          dataTable['output_type'] = 'display_data';\n",
       "          await google.colab.output.renderOutput(dataTable, element);\n",
       "          const docLink = document.createElement('div');\n",
       "          docLink.innerHTML = docLinkHtml;\n",
       "          element.appendChild(docLink);\n",
       "        }\n",
       "      </script>\n",
       "    </div>\n",
       "  </div>\n",
       "  "
      ],
      "text/plain": [
       "       avg_raw_freqs\n",
       "count       132161.0\n",
       "mean             1.0\n",
       "std              0.0\n",
       "min              1.0\n",
       "25%              1.0\n",
       "50%              1.0\n",
       "75%              1.0\n",
       "max             24.0"
      ]
     },
     "execution_count": 10,
     "metadata": {},
     "output_type": "execute_result"
    }
   ],
   "source": [
    "# average number of time each token appears in a document\n",
    "avg_raw_freqs = [np.mean([inverted_index_sortpost.raw_freq[ID][term] for ID in inverted_index_sortpost.index[term]]) for term in inverted_index_sortpost.index]\n",
    "round(pd.DataFrame({\"avg_raw_freqs\":avg_raw_freqs}).describe(),0)"
   ]
  },
  {
   "cell_type": "markdown",
   "metadata": {
    "id": "czWiunaZycje"
   },
   "source": [
    "Most of the terms appear just once in a document."
   ]
  },
  {
   "cell_type": "markdown",
   "metadata": {
    "id": "1lr1oMnyyh3f"
   },
   "source": [
    "### Document frequencies"
   ]
  },
  {
   "cell_type": "code",
   "execution_count": null,
   "metadata": {
    "colab": {
     "base_uri": "https://localhost:8080/",
     "height": 279
    },
    "id": "qDGridBbyV-O",
    "outputId": "caaca13d-c199-4a62-c38b-97ec0a284926"
   },
   "outputs": [
    {
     "data": {
      "text/html": [
       "\n",
       "  <div id=\"df-7ebe70ff-6af1-4abd-885c-cfa936b85245\">\n",
       "    <div class=\"colab-df-container\">\n",
       "      <div>\n",
       "<style scoped>\n",
       "    .dataframe tbody tr th:only-of-type {\n",
       "        vertical-align: middle;\n",
       "    }\n",
       "\n",
       "    .dataframe tbody tr th {\n",
       "        vertical-align: top;\n",
       "    }\n",
       "\n",
       "    .dataframe thead th {\n",
       "        text-align: right;\n",
       "    }\n",
       "</style>\n",
       "<table border=\"1\" class=\"dataframe\">\n",
       "  <thead>\n",
       "    <tr style=\"text-align: right;\">\n",
       "      <th></th>\n",
       "      <th>doc_freqs</th>\n",
       "    </tr>\n",
       "  </thead>\n",
       "  <tbody>\n",
       "    <tr>\n",
       "      <th>count</th>\n",
       "      <td>132161.0</td>\n",
       "    </tr>\n",
       "    <tr>\n",
       "      <th>mean</th>\n",
       "      <td>29.0</td>\n",
       "    </tr>\n",
       "    <tr>\n",
       "      <th>std</th>\n",
       "      <td>571.0</td>\n",
       "    </tr>\n",
       "    <tr>\n",
       "      <th>min</th>\n",
       "      <td>1.0</td>\n",
       "    </tr>\n",
       "    <tr>\n",
       "      <th>25%</th>\n",
       "      <td>1.0</td>\n",
       "    </tr>\n",
       "    <tr>\n",
       "      <th>50%</th>\n",
       "      <td>2.0</td>\n",
       "    </tr>\n",
       "    <tr>\n",
       "      <th>75%</th>\n",
       "      <td>5.0</td>\n",
       "    </tr>\n",
       "    <tr>\n",
       "      <th>max</th>\n",
       "      <td>73633.0</td>\n",
       "    </tr>\n",
       "  </tbody>\n",
       "</table>\n",
       "</div>\n",
       "      <button class=\"colab-df-convert\" onclick=\"convertToInteractive('df-7ebe70ff-6af1-4abd-885c-cfa936b85245')\"\n",
       "              title=\"Convert this dataframe to an interactive table.\"\n",
       "              style=\"display:none;\">\n",
       "        \n",
       "  <svg xmlns=\"http://www.w3.org/2000/svg\" height=\"24px\"viewBox=\"0 0 24 24\"\n",
       "       width=\"24px\">\n",
       "    <path d=\"M0 0h24v24H0V0z\" fill=\"none\"/>\n",
       "    <path d=\"M18.56 5.44l.94 2.06.94-2.06 2.06-.94-2.06-.94-.94-2.06-.94 2.06-2.06.94zm-11 1L8.5 8.5l.94-2.06 2.06-.94-2.06-.94L8.5 2.5l-.94 2.06-2.06.94zm10 10l.94 2.06.94-2.06 2.06-.94-2.06-.94-.94-2.06-.94 2.06-2.06.94z\"/><path d=\"M17.41 7.96l-1.37-1.37c-.4-.4-.92-.59-1.43-.59-.52 0-1.04.2-1.43.59L10.3 9.45l-7.72 7.72c-.78.78-.78 2.05 0 2.83L4 21.41c.39.39.9.59 1.41.59.51 0 1.02-.2 1.41-.59l7.78-7.78 2.81-2.81c.8-.78.8-2.07 0-2.86zM5.41 20L4 18.59l7.72-7.72 1.47 1.35L5.41 20z\"/>\n",
       "  </svg>\n",
       "      </button>\n",
       "      \n",
       "  <style>\n",
       "    .colab-df-container {\n",
       "      display:flex;\n",
       "      flex-wrap:wrap;\n",
       "      gap: 12px;\n",
       "    }\n",
       "\n",
       "    .colab-df-convert {\n",
       "      background-color: #E8F0FE;\n",
       "      border: none;\n",
       "      border-radius: 50%;\n",
       "      cursor: pointer;\n",
       "      display: none;\n",
       "      fill: #1967D2;\n",
       "      height: 32px;\n",
       "      padding: 0 0 0 0;\n",
       "      width: 32px;\n",
       "    }\n",
       "\n",
       "    .colab-df-convert:hover {\n",
       "      background-color: #E2EBFA;\n",
       "      box-shadow: 0px 1px 2px rgba(60, 64, 67, 0.3), 0px 1px 3px 1px rgba(60, 64, 67, 0.15);\n",
       "      fill: #174EA6;\n",
       "    }\n",
       "\n",
       "    [theme=dark] .colab-df-convert {\n",
       "      background-color: #3B4455;\n",
       "      fill: #D2E3FC;\n",
       "    }\n",
       "\n",
       "    [theme=dark] .colab-df-convert:hover {\n",
       "      background-color: #434B5C;\n",
       "      box-shadow: 0px 1px 3px 1px rgba(0, 0, 0, 0.15);\n",
       "      filter: drop-shadow(0px 1px 2px rgba(0, 0, 0, 0.3));\n",
       "      fill: #FFFFFF;\n",
       "    }\n",
       "  </style>\n",
       "\n",
       "      <script>\n",
       "        const buttonEl =\n",
       "          document.querySelector('#df-7ebe70ff-6af1-4abd-885c-cfa936b85245 button.colab-df-convert');\n",
       "        buttonEl.style.display =\n",
       "          google.colab.kernel.accessAllowed ? 'block' : 'none';\n",
       "\n",
       "        async function convertToInteractive(key) {\n",
       "          const element = document.querySelector('#df-7ebe70ff-6af1-4abd-885c-cfa936b85245');\n",
       "          const dataTable =\n",
       "            await google.colab.kernel.invokeFunction('convertToInteractive',\n",
       "                                                     [key], {});\n",
       "          if (!dataTable) return;\n",
       "\n",
       "          const docLinkHtml = 'Like what you see? Visit the ' +\n",
       "            '<a target=\"_blank\" href=https://colab.research.google.com/notebooks/data_table.ipynb>data table notebook</a>'\n",
       "            + ' to learn more about interactive tables.';\n",
       "          element.innerHTML = '';\n",
       "          dataTable['output_type'] = 'display_data';\n",
       "          await google.colab.output.renderOutput(dataTable, element);\n",
       "          const docLink = document.createElement('div');\n",
       "          docLink.innerHTML = docLinkHtml;\n",
       "          element.appendChild(docLink);\n",
       "        }\n",
       "      </script>\n",
       "    </div>\n",
       "  </div>\n",
       "  "
      ],
      "text/plain": [
       "       doc_freqs\n",
       "count   132161.0\n",
       "mean        29.0\n",
       "std        571.0\n",
       "min          1.0\n",
       "25%          1.0\n",
       "50%          2.0\n",
       "75%          5.0\n",
       "max      73633.0"
      ]
     },
     "execution_count": 11,
     "metadata": {},
     "output_type": "execute_result"
    }
   ],
   "source": [
    "doc_freqs=[len(inverted_index_sortpost.index[token]) for token in inverted_index_sortpost.index]\n",
    "round(pd.DataFrame({\"doc_freqs\": doc_freqs}).describe(),0)"
   ]
  },
  {
   "cell_type": "markdown",
   "metadata": {
    "id": "O4ZLGlwXypOr"
   },
   "source": [
    "A term appears on average in 30 $\\pm$ 500 documents, 75% of the terms appear in less than 5 documents (a lot of rare terms, weird ??). Lets try to visualize why."
   ]
  },
  {
   "cell_type": "code",
   "execution_count": null,
   "metadata": {
    "colab": {
     "base_uri": "https://localhost:8080/"
    },
    "id": "qtF-KP8VymBj",
    "outputId": "e4706dfc-dad6-4566-e7c4-1ac9310d3e8a"
   },
   "outputs": [
    {
     "name": "stdout",
     "output_type": "stream",
     "text": [
      "stink\n",
      "relocate\n",
      "scatter\n",
      "deters\n",
      "npr\n",
      "contributory\n",
      "fuelsoil\n",
      "coaltake\n",
      "circumscribes\n",
      "apothems\n",
      "4cm\n",
      "polygonsproperties\n",
      "incircle\n",
      "congruent\n",
      "equilateral\n",
      "sagitta\n",
      "inradius\n",
      "mathworld\n",
      "weisstein\n",
      "hypotenuse\n"
     ]
    }
   ],
   "source": [
    "for pos , term in enumerate(inverted_index_sortpost.index) : \n",
    "    if pos<=500 and len(inverted_index_sortpost.index[term])<=5: print(term) "
   ]
  },
  {
   "cell_type": "markdown",
   "metadata": {
    "id": "iOsIdh6fyyU-"
   },
   "source": [
    "It looks plausible when we look at the above sequence of words (they look rare indeed)\n"
   ]
  },
  {
   "cell_type": "markdown",
   "metadata": {
    "id": "5WDWFTuIKILZ"
   },
   "source": [
    "### Relevance judgments\n",
    "\n",
    "Judgments are used to evaluate models, each query is associated to some relevant documents, and those documents have a relevance score \n"
   ]
  },
  {
   "cell_type": "code",
   "execution_count": null,
   "metadata": {
    "colab": {
     "base_uri": "https://localhost:8080/"
    },
    "id": "FeGkvlafKK9x",
    "outputId": "c852720c-5b1a-4dd9-cac7-2506cbe8cdc5"
   },
   "outputs": [
    {
     "data": {
      "text/plain": [
       "['does human hair stop squirrels: {1: 1, 2: 1, 3: 2, 4: 1, 5: 1, 6: 1, 7: 1}',\n",
       " 'what are the benefits of fossil fuels: {8: 1, 9: 2, 10: 1, 11: 1, 12: 1, 13: 1, 14: 1, 15: 1, 16: 1}',\n",
       " 'what is a apothem: {17: 1, 18: 1, 19: 1, 20: 1, 21: 1, 22: 2, 23: 1, 24: 1, 25: 1}']"
      ]
     },
     "execution_count": 13,
     "metadata": {},
     "output_type": "execute_result"
    }
   ],
   "source": [
    "[f'{query}: {judgments[query]}' for pos, query in enumerate(judgments) if pos<=2]"
   ]
  },
  {
   "cell_type": "code",
   "execution_count": null,
   "metadata": {
    "colab": {
     "base_uri": "https://localhost:8080/",
     "height": 300
    },
    "id": "efZaHg-eKTrW",
    "outputId": "e9068c73-f0a4-4790-e58a-eeb4dff8b175"
   },
   "outputs": [
    {
     "data": {
      "text/html": [
       "\n",
       "  <div id=\"df-97fce015-22e9-459b-81a6-0001c8df7c32\">\n",
       "    <div class=\"colab-df-container\">\n",
       "      <div>\n",
       "<style scoped>\n",
       "    .dataframe tbody tr th:only-of-type {\n",
       "        vertical-align: middle;\n",
       "    }\n",
       "\n",
       "    .dataframe tbody tr th {\n",
       "        vertical-align: top;\n",
       "    }\n",
       "\n",
       "    .dataframe thead th {\n",
       "        text-align: right;\n",
       "    }\n",
       "</style>\n",
       "<table border=\"1\" class=\"dataframe\">\n",
       "  <thead>\n",
       "    <tr style=\"text-align: right;\">\n",
       "      <th></th>\n",
       "      <th>nb_judgments</th>\n",
       "    </tr>\n",
       "  </thead>\n",
       "  <tbody>\n",
       "    <tr>\n",
       "      <th>count</th>\n",
       "      <td>9650.0</td>\n",
       "    </tr>\n",
       "    <tr>\n",
       "      <th>mean</th>\n",
       "      <td>8.0</td>\n",
       "    </tr>\n",
       "    <tr>\n",
       "      <th>std</th>\n",
       "      <td>1.0</td>\n",
       "    </tr>\n",
       "    <tr>\n",
       "      <th>min</th>\n",
       "      <td>2.0</td>\n",
       "    </tr>\n",
       "    <tr>\n",
       "      <th>25%</th>\n",
       "      <td>7.0</td>\n",
       "    </tr>\n",
       "    <tr>\n",
       "      <th>50%</th>\n",
       "      <td>9.0</td>\n",
       "    </tr>\n",
       "    <tr>\n",
       "      <th>75%</th>\n",
       "      <td>9.0</td>\n",
       "    </tr>\n",
       "    <tr>\n",
       "      <th>max</th>\n",
       "      <td>11.0</td>\n",
       "    </tr>\n",
       "  </tbody>\n",
       "</table>\n",
       "</div>\n",
       "      <button class=\"colab-df-convert\" onclick=\"convertToInteractive('df-97fce015-22e9-459b-81a6-0001c8df7c32')\"\n",
       "              title=\"Convert this dataframe to an interactive table.\"\n",
       "              style=\"display:none;\">\n",
       "        \n",
       "  <svg xmlns=\"http://www.w3.org/2000/svg\" height=\"24px\"viewBox=\"0 0 24 24\"\n",
       "       width=\"24px\">\n",
       "    <path d=\"M0 0h24v24H0V0z\" fill=\"none\"/>\n",
       "    <path d=\"M18.56 5.44l.94 2.06.94-2.06 2.06-.94-2.06-.94-.94-2.06-.94 2.06-2.06.94zm-11 1L8.5 8.5l.94-2.06 2.06-.94-2.06-.94L8.5 2.5l-.94 2.06-2.06.94zm10 10l.94 2.06.94-2.06 2.06-.94-2.06-.94-.94-2.06-.94 2.06-2.06.94z\"/><path d=\"M17.41 7.96l-1.37-1.37c-.4-.4-.92-.59-1.43-.59-.52 0-1.04.2-1.43.59L10.3 9.45l-7.72 7.72c-.78.78-.78 2.05 0 2.83L4 21.41c.39.39.9.59 1.41.59.51 0 1.02-.2 1.41-.59l7.78-7.78 2.81-2.81c.8-.78.8-2.07 0-2.86zM5.41 20L4 18.59l7.72-7.72 1.47 1.35L5.41 20z\"/>\n",
       "  </svg>\n",
       "      </button>\n",
       "      \n",
       "  <style>\n",
       "    .colab-df-container {\n",
       "      display:flex;\n",
       "      flex-wrap:wrap;\n",
       "      gap: 12px;\n",
       "    }\n",
       "\n",
       "    .colab-df-convert {\n",
       "      background-color: #E8F0FE;\n",
       "      border: none;\n",
       "      border-radius: 50%;\n",
       "      cursor: pointer;\n",
       "      display: none;\n",
       "      fill: #1967D2;\n",
       "      height: 32px;\n",
       "      padding: 0 0 0 0;\n",
       "      width: 32px;\n",
       "    }\n",
       "\n",
       "    .colab-df-convert:hover {\n",
       "      background-color: #E2EBFA;\n",
       "      box-shadow: 0px 1px 2px rgba(60, 64, 67, 0.3), 0px 1px 3px 1px rgba(60, 64, 67, 0.15);\n",
       "      fill: #174EA6;\n",
       "    }\n",
       "\n",
       "    [theme=dark] .colab-df-convert {\n",
       "      background-color: #3B4455;\n",
       "      fill: #D2E3FC;\n",
       "    }\n",
       "\n",
       "    [theme=dark] .colab-df-convert:hover {\n",
       "      background-color: #434B5C;\n",
       "      box-shadow: 0px 1px 3px 1px rgba(0, 0, 0, 0.15);\n",
       "      filter: drop-shadow(0px 1px 2px rgba(0, 0, 0, 0.3));\n",
       "      fill: #FFFFFF;\n",
       "    }\n",
       "  </style>\n",
       "\n",
       "      <script>\n",
       "        const buttonEl =\n",
       "          document.querySelector('#df-97fce015-22e9-459b-81a6-0001c8df7c32 button.colab-df-convert');\n",
       "        buttonEl.style.display =\n",
       "          google.colab.kernel.accessAllowed ? 'block' : 'none';\n",
       "\n",
       "        async function convertToInteractive(key) {\n",
       "          const element = document.querySelector('#df-97fce015-22e9-459b-81a6-0001c8df7c32');\n",
       "          const dataTable =\n",
       "            await google.colab.kernel.invokeFunction('convertToInteractive',\n",
       "                                                     [key], {});\n",
       "          if (!dataTable) return;\n",
       "\n",
       "          const docLinkHtml = 'Like what you see? Visit the ' +\n",
       "            '<a target=\"_blank\" href=https://colab.research.google.com/notebooks/data_table.ipynb>data table notebook</a>'\n",
       "            + ' to learn more about interactive tables.';\n",
       "          element.innerHTML = '';\n",
       "          dataTable['output_type'] = 'display_data';\n",
       "          await google.colab.output.renderOutput(dataTable, element);\n",
       "          const docLink = document.createElement('div');\n",
       "          docLink.innerHTML = docLinkHtml;\n",
       "          element.appendChild(docLink);\n",
       "        }\n",
       "      </script>\n",
       "    </div>\n",
       "  </div>\n",
       "  "
      ],
      "text/plain": [
       "       nb_judgments\n",
       "count        9650.0\n",
       "mean            8.0\n",
       "std             1.0\n",
       "min             2.0\n",
       "25%             7.0\n",
       "50%             9.0\n",
       "75%             9.0\n",
       "max            11.0"
      ]
     },
     "execution_count": 14,
     "metadata": {},
     "output_type": "execute_result"
    }
   ],
   "source": [
    "round(pd.DataFrame({\"nb_judgments\":[len(judgments[query]) for query in judgments]}).describe(),0)"
   ]
  },
  {
   "cell_type": "markdown",
   "metadata": {
    "id": "j7hQhfYtZw0q"
   },
   "source": [
    "On average 8 judgment(s) per query"
   ]
  },
  {
   "cell_type": "code",
   "execution_count": null,
   "metadata": {
    "colab": {
     "base_uri": "https://localhost:8080/"
    },
    "id": "g_IGGGpvKXUM",
    "outputId": "66cfe119-760d-4302-e737-2ea496d40acb"
   },
   "outputs": [
    {
     "name": "stdout",
     "output_type": "stream",
     "text": [
      "The minimum and maximum relevance scores are 1 and 2 respectively\n"
     ]
    }
   ],
   "source": [
    "print(f\"The minimum and maximum relevance scores are {min([min(judgments[query].values()) for query in judgments])} and {max([max(judgments[query].values()) for query in judgments])} respectively\")"
   ]
  },
  {
   "cell_type": "markdown",
   "metadata": {
    "id": "ddDpiE8Cy0kw"
   },
   "source": [
    "# Preparing for search"
   ]
  },
  {
   "cell_type": "markdown",
   "metadata": {
    "id": "OIZ7Havcy2xU"
   },
   "source": [
    "### TF-IDF and language model\n"
   ]
  },
  {
   "cell_type": "markdown",
   "metadata": {
    "id": "LV1aXteWDjb8"
   },
   "source": [
    "By default, the **term frequency** TF(t,d) of a term $t$ in document $d$ is given by\n",
    "$$\n",
    "TF(t,d)= 1+\\log_{10}(n_{t,d})\n",
    "$$\n",
    "where $n_{t,d}$ is the raw frequency (the number of occurences) of term $t$ in document $d$, and the **inverse document frequency** of $t$ is given by:\n",
    "$$\n",
    "IDF(t) = \\log_{10}\\bigg(\\frac{|C|}{\\big|\\{d \\in C, t\\in d\\}\\big|}\\bigg)\n",
    "$$\n",
    "where $C$ is the set of documents in the collection, and $|E|$ designates the cardinal of set $E$. Other variations of formula are also implemented. \n",
    "\n",
    "TF-IDFs are used to represent documents/queries in a same vector space (it is the Vector Space Model (Vsm)), coordinates being the TF-IDFs. This representation is sparse because documents/queries do not generally include most of the words in the collection). In Vsm, cosine similarity between query vector and document vectors is used to rank documents.\n",
    "\n",
    "\n",
    "The language model used is the **unigram model** where each term appearing in the documents are modelled as random instances with probability distribution given by:\n",
    "$$\n",
    "\\mathbb{P}(t|d) = \\frac{n_{t,d}}{n_d}\n",
    "$$\n",
    "where $n_{t,d}$ is the total number of occurences (raw frequency) of $t$ in document $d$, and $n_d$ is the total of occurrences of all terms appearing in the document (i.e the sum of the $n_{t',d}$ s). The language model is used to compute the query likelihood model (QueryLklhd) in which the aim is to estimate the probability $\\mathbb{P}(q|d)$ of query $q$ given document $d$ and rank the documents in a decreasing order of the estimates. If $q=\"t_1 t_2 ... t_q\"$ then\n",
    "\n",
    "In the original version of query likelihood model, it is assumed \n",
    "$$\\mathbb{P}(q|d) = \\prod_{j=1}^q\\mathbb{P}(t_j|d)$$\n",
    "\n",
    "This formulation allows $\\mathbb{P}(q|d)=0$ if there exists a term appearing in the query and not in the document. To avoid this, some extensions of the query likelihood model suggest a smoothing scheme (Laplace smoothing , Jelinek smoothing for example). These smoothings are not implemented yet, :). Instead the current implementation assumes $$\\mathbb{P}(q|d) = \\prod_{j=1 , t_j\\in d}^q\\mathbb{P}(t_j|d)$$"
   ]
  },
  {
   "cell_type": "code",
   "execution_count": null,
   "metadata": {
    "colab": {
     "base_uri": "https://localhost:8080/"
    },
    "id": "bSaJxnS5yvv7",
    "outputId": "e9432829-838d-4282-d318-64a79a2f24db"
   },
   "outputs": [
    {
     "name": "stderr",
     "output_type": "stream",
     "text": [
      "100%|██████████| 79176/79176 [00:05<00:00, 14451.46it/s]\n"
     ]
    }
   ],
   "source": [
    "tfreqs, idfs, unigram_model=tf(inverted_index_sortpost), idf(inverted_index_sortpost), unigram(inverted_index_sortpost)\n"
   ]
  },
  {
   "cell_type": "markdown",
   "metadata": {
    "id": "ntug1THWzDDH"
   },
   "source": [
    "### Uploading word2vec model"
   ]
  },
  {
   "cell_type": "markdown",
   "metadata": {
    "id": "C8Th7vG_A-9Z"
   },
   "source": [
    "google news word2vec model is used, It takes roughly up to 10 minutes to download, Run it ONCE per session."
   ]
  },
  {
   "cell_type": "code",
   "execution_count": null,
   "metadata": {
    "colab": {
     "base_uri": "https://localhost:8080/"
    },
    "id": "AP7KldiEy6xK",
    "outputId": "14e5fd6d-4650-4989-de55-54996c08d42a"
   },
   "outputs": [
    {
     "name": "stdout",
     "output_type": "stream",
     "text": [
      "[==================================================] 100.0% 1662.8/1662.8MB downloaded\n"
     ]
    }
   ],
   "source": [
    "## Takes up to 10 minutes to run, but TO RUN ONCE !!!\n",
    "path = api.load(\"word2vec-google-news-300\", return_path=True)\n",
    "# path=\"/root/gensim-data/word2vec-google-news-300/word2vec-google-news-300.gz\""
   ]
  },
  {
   "cell_type": "code",
   "execution_count": null,
   "metadata": {
    "id": "aKK4hcQL2cfg"
   },
   "outputs": [],
   "source": [
    "# Takes up to 1 minute to load the google news word2vec model\n",
    "w2v = gensim.models.KeyedVectors.load_word2vec_format(path, binary=True)"
   ]
  },
  {
   "cell_type": "code",
   "execution_count": null,
   "metadata": {
    "colab": {
     "base_uri": "https://localhost:8080/"
    },
    "id": "YNOuW14R2m9n",
    "outputId": "2638f432-0fb1-46fd-e078-17e6ea60e31c"
   },
   "outputs": [
    {
     "name": "stdout",
     "output_type": "stream",
     "text": [
      "Word2Vec model vocabulary size = 3000000 words\n"
     ]
    }
   ],
   "source": [
    "print(f\"Word2Vec model vocabulary size = {len(w2v.key_to_index)} words\")"
   ]
  },
  {
   "cell_type": "markdown",
   "metadata": {
    "id": "rLkMRFOazVWy"
   },
   "source": [
    "### Document embedding\n"
   ]
  },
  {
   "cell_type": "markdown",
   "metadata": {
    "id": "xEyYX2brHc_j"
   },
   "source": [
    "Once we have the embeddings of the terms in the collection, one can compute the document embeddings by taking a weighted average of the embeddings of the terms it contains, that is the a document's embedding is given by:\n",
    "\n",
    "$$\n",
    "d_{embed} =  \\sum_{t \\in d} \\frac{w_{t,d}}{\\sum_{t'\\in d} w_{t',d}}  t_{embed}\n",
    "$$\n",
    "where $w_{t,d}$ is a weight for term $t\\in d$, $w_{t,d}=TF(t,d)\\times IDF(t)$ is used in the current implementation"
   ]
  },
  {
   "cell_type": "code",
   "execution_count": null,
   "metadata": {
    "colab": {
     "base_uri": "https://localhost:8080/"
    },
    "id": "bA-WMWl_zWFU",
    "outputId": "f2891955-4030-49af-a200-bfc8d93d6c84"
   },
   "outputs": [
    {
     "name": "stderr",
     "output_type": "stream",
     "text": [
      "100%|██████████| 79176/79176 [01:17<00:00, 1021.40it/s]\n"
     ]
    }
   ],
   "source": [
    "doc2vec=doc_embed(inverted_index_sortpost, tfreqs, idfs, w2v)"
   ]
  },
  {
   "cell_type": "markdown",
   "metadata": {
    "id": "ztCb_6GqJD7x"
   },
   "source": [
    " ### Document clustering"
   ]
  },
  {
   "cell_type": "markdown",
   "metadata": {
    "id": "y9qdPscYBUnr"
   },
   "source": [
    "Once documents have a numerical vector-like representation, one can cluster them. Why clustering ? The main reason is to speed-up retrieval (see W2Vec vector space model illustration). In fact when the representation of vectors is dense, computing cosine similarities on a large collection may take time. To speed up retrieval, one can precluster the documents first before a query is issued. When a query comes in, the query vector is compared to the centers (or representer in general) of the clusters (so a relatively small number of cosine similarities to compute), and afterwards the query is compared by cosine similarity to the documents in the clusters whose centers/representers are the most similar to the query.  \n",
    "\n",
    "Penalised inertia is used to compute the optimal Kmeans model with repect to the number of clusters. The objective is to minimise:\n",
    "\n",
    "$$\n",
    "\\text{Penalised Inertia}(K) = \\text{Inertia}(K) - \\text{penalty}\\times K\n",
    "$$\n",
    "w.r.t $K$"
   ]
  },
  {
   "cell_type": "code",
   "execution_count": null,
   "metadata": {
    "colab": {
     "base_uri": "https://localhost:8080/",
     "height": 330
    },
    "id": "Gec3SPzSzakE",
    "outputId": "e9e815ca-a9fb-45be-c670-85f9eb9b1d16"
   },
   "outputs": [
    {
     "name": "stdout",
     "output_type": "stream",
     "text": [
      "Computing K-means model for different values of K\n"
     ]
    },
    {
     "name": "stderr",
     "output_type": "stream",
     "text": [
      "100%|██████████| 4/4 [33:52<00:00, 508.20s/it]\n"
     ]
    },
    {
     "data": {
      "image/png": "[encoded data removed]",
      "text/plain": [
       "<Figure size 432x288 with 1 Axes>"
      ]
     },
     "metadata": {
      "needs_background": "light"
     },
     "output_type": "display_data"
    }
   ],
   "source": [
    "doc_kmeans=cluster_docs(inverted_index_sortpost, doc_embeds=doc2vec,num_min_centr=100,num_max_centr=500, penalty=1, step=100, plot=True)\n"
   ]
  },
  {
   "cell_type": "markdown",
   "metadata": {
    "id": "XbOASNG5DJAn"
   },
   "source": [
    "### Singular Value Decomposition of a word-document occurrence matrix"
   ]
  },
  {
   "cell_type": "markdown",
   "metadata": {
    "id": "I5YhNo7-JYzK"
   },
   "source": [
    "This is used for latent semantic indexing, a model used in order to capture some semantic relation between the query and the documents in the collection. The idea behind this model is to start from a matrix whose coefficients are the raw frequencies of the terms in documents: \n",
    "$$\n",
    "WD=(n_{t,d}) \\in \\mathbb{R}^{|T|\\times |C|}\n",
    "$$\n",
    "where $T$ is the set of all the terms in the collection $C$.\n",
    "\n",
    "An SVD decomposition of $WD$ is given by:\n",
    "$$\n",
    "WD = U S V\n",
    "$$\n",
    "\n",
    "where $U\\in \\mathbb{O}(|T|)$ and $V \\in \\mathbb{O}(|C|)$ are orthogonal matrices and $S\\in \\mathbb{R}^{|T|\\times |C|}$ is a generalized diagonal matrix (all $S_{i,j}=0$ for $i\\neq j$). $U$ represents the matrix of latent vectors expressed in the term space and $SV$ is the matrix of the document vectors expressed in the latent space\n",
    "$$\n",
    "\\text{terms} \\left\\{\n",
    "    \\begin{array}{ll}\n",
    "         &  \\\\\n",
    "        & \n",
    "    \\end{array}\n",
    "\\right. \\overbrace{\\begin{pmatrix}\n",
    " & & & \\\\\n",
    " & & & \\\\\n",
    " \\end{pmatrix}}^{\\text{latent vectors}}=U\n",
    "$$\n",
    "\n",
    "$$\n",
    "\\text{latent vectors} \\left\\{\n",
    "    \\begin{array}{ll}\n",
    "         &  \\\\\n",
    "        & \n",
    "    \\end{array}\n",
    "\\right. \\overbrace{\\begin{pmatrix}\n",
    " & & & \\\\\n",
    " & & & \\\\\n",
    " \\end{pmatrix}}^{\\text{document vectors}}=SV\n",
    "$$\n",
    "\n",
    "To rank the documents, one projects the query vector on the latent space and compare the result to the documents representation in the latent space by cosine similarity (i.e computing $\\cos(U'q, (SV)_i)$), $U'$ designates the transpose of $U$.\n",
    "\n",
    "However from a practical point of view, $WD$ is very big in memory if we consider the whole collection (more than 10 billion integers to store in memory, easily more than 200 GB), that is why a random selection of documents is conducted first and $WD$ is built from those selected documents. "
   ]
  },
  {
   "cell_type": "code",
   "execution_count": null,
   "metadata": {
    "colab": {
     "base_uri": "https://localhost:8080/"
    },
    "id": "C71IfBitzfUj",
    "outputId": "a316ea7d-1104-4827-ede9-d62904c288fe"
   },
   "outputs": [
    {
     "name": "stderr",
     "output_type": "stream",
     "text": [
      "100%|██████████| 132161/132161 [00:16<00:00, 8082.63it/s] \n",
      "100%|██████████| 132161/132161 [00:00<00:00, 1421754.02it/s]\n",
      "100%|██████████| 1000/1000 [00:00<00:00, 199766.81it/s]\n",
      "100%|██████████| 1000/1000 [00:00<00:00, 315527.27it/s]\n"
     ]
    }
   ],
   "source": [
    "sub_inv = SubInvertedIndex()\n",
    "nb_docs=len(inverted_index_sortpost.documents)\n",
    "nb_sampled_docs=1000\n",
    "sampled_docs=np.random.choice(a=range(1,nb_docs+1),size=nb_sampled_docs, replace=False)\n",
    "sub_inv.reindex(inverted_index_sortpost, sampled_docs)"
   ]
  },
  {
   "cell_type": "code",
   "execution_count": null,
   "metadata": {
    "colab": {
     "base_uri": "https://localhost:8080/"
    },
    "id": "BQiR8-0pzkp_",
    "outputId": "13cd1fb7-a995-43ed-e5b7-b176275424e4"
   },
   "outputs": [
    {
     "name": "stderr",
     "output_type": "stream",
     "text": [
      "1000it [00:00, 14419.36it/s]\n"
     ]
    },
    {
     "data": {
      "text/plain": [
       "(11808, 1000)"
      ]
     },
     "execution_count": 23,
     "metadata": {},
     "output_type": "execute_result"
    }
   ],
   "source": [
    "WD, wtoi, dtoi = wd(sub_inv)\n",
    "WD.shape"
   ]
  },
  {
   "cell_type": "markdown",
   "metadata": {
    "id": "ETU70AfQhYAz"
   },
   "source": [
    "To speed up the retrieval a little bit, one chooses the K largest singular values of $WD$ instead and project the query vector on the space engendered by the corresponding latent vectors, not computing $\\cos(U'q, (SV)_i)$ but computing $\\cos(U_K'q, (S_KV_K)_i)$ to rank the documents, where $U_K \\in \\mathbb{R}^{|T|\\times K}$, $S_K \\in \\mathbb{R}^{K\\times K}$, $V_K \\in \\mathbb{R}^{K\\times |C|}$.\n",
    "\n",
    "The optimal $K$ is computed by maximizing with respect to $K$\n",
    "\n",
    "$$\n",
    "PSSV(K) = \\sum_{k=1}^K \\sigma_k - \\text{penalty}\\times K\n",
    "$$\n",
    "\n",
    "where $\\sigma_k$ is the $k^{th}$ largest singular value of $WD$"
   ]
  },
  {
   "cell_type": "code",
   "execution_count": null,
   "metadata": {
    "colab": {
     "base_uri": "https://localhost:8080/",
     "height": 330
    },
    "id": "hJ2cTat9zrEV",
    "outputId": "b9b648b3-c234-4cfb-ffa6-d6e778b4e201"
   },
   "outputs": [
    {
     "name": "stdout",
     "output_type": "stream",
     "text": [
      "Computing SVDs for different values of k\n"
     ]
    },
    {
     "name": "stderr",
     "output_type": "stream",
     "text": [
      "100%|██████████| 5/5 [03:13<00:00, 38.67s/it]\n"
     ]
    },
    {
     "data": {
      "image/png": "[encoded data removed]",
      "text/plain": [
       "<Figure size 432x288 with 1 Axes>"
      ]
     },
     "metadata": {
      "needs_background": "light"
     },
     "output_type": "display_data"
    }
   ],
   "source": [
    "svd_mats=opt_svd(WD,min_k=500,max_k=1000,step_k=100, penalty=5,plot=True)"
   ]
  },
  {
   "cell_type": "markdown",
   "metadata": {
    "id": "6LyDnTqCzuoa"
   },
   "source": [
    "# Searching\n"
   ]
  },
  {
   "cell_type": "markdown",
   "metadata": {
    "id": "8VNzV_Ktzw8t"
   },
   "source": [
    "### Simple boolean retrieval\n"
   ]
  },
  {
   "cell_type": "code",
   "execution_count": null,
   "metadata": {
    "colab": {
     "base_uri": "https://localhost:8080/"
    },
    "id": "BJSbt9w4zvNM",
    "outputId": "fd02ba49-796d-45df-a43b-6daec72ad602"
   },
   "outputs": [
    {
     "name": "stdout",
     "output_type": "stream",
     "text": [
      "Welcome to the best search engine ever :)\n",
      "Enter some keywords or type \"exit\" to stop the engine: where is France ?\n",
      "Did you mean: \u001b[36mwhere is trance\u001b[0m ?\n",
      "\n",
      "\n",
      "Your query:  where is France ?\n",
      "\n",
      "Result(s): \n",
      "Nearly three times as much grenache is planted in Spain as in France. The spanish know this grape and wine as garnacha or garnacha tinta, where it is the dominant red wine variety in Catalonia and prominent in Rioja. 2 The grape is known in Italy as cannonau. Prior to the establishment of France's AOC, Burgundy's dirty little secret was that Grenache, grown in the Rhone Rhône, valley often contributed flavorful appeal to save the sometimes thin and Weak Pinot. Noir on its, own grenache can make, fleshy heady wines with lots of fruit appeal in their. youth \n",
      "\n",
      "Grenache (/ɡrəˈnɑːʃ/) or Garnacha (. [ɡarˈnatʃa]) is one of the most widely planted red wine grape varieties in the world. It ripens late, so it needs hot, dry conditions such as those found in Spain, where the grape most likely originated. It is also grown in Sardinia, the south of France, Australia, and California 's San Joaquin Valley. Until the mid 20th century, Grenache was Australia's most widely planted red wine grape variety with significant plantings in the vast Riverland region where it was vital component in the fortified port-style wines of the early Australian industry. \n",
      "\n",
      "Pinot Noir. Pinot Noir sets the benchmark for light red wine. It is the most widely grown wine variety, originally cultivated by Cistertian monks in Burgundy, France. Pinot Noir’s high acidity and low alcohol make it a great wine for long term aging. Because of the way it’s produced, Lambrusco is the lightest red wine on our list. Lambrusco is the name of several indigenous wine grapes in the region of Emilia Romagna in Northern Italy (where they make all that delicious cheese). There are about 15 kinds of Lambrusco grapes, but about 6 are commonly known. \n",
      "\n",
      "Babybel, a French version of Dutch Edam cheese, is sold internationally by 'The Bel Group, France' since 1952. In 1977, the company introduced Babybel's smaller version 'Mini Babybel', a delightful snack packed with calcium that is ready-to-eat anytime and anywhere. Today nearly 75% of Mini Babybel is consumed outside of France. Babybel, a semi-hard cheese is made from pasteurised cow milk. It comes in a net bag where each piece features a distinctive, red wax coating. As of now there are seven flavours offered in the US-Original, Sharp Original, Light, Bonbel, White Cheddar, Cheddar, and Gouda. Babybel is marketed as a on-the-go snack and is available in various flavours. So, jazz up your snack routine and enjoy a sophisticated cheese on-the-go. \n",
      "\n",
      "Fenugreek is used as an herb (dried or fresh leaves), spice (seeds), and vegetable (fresh leaves, sprouts, and microgreens). Sotolon is the chemical responsible for fenugreek's distinctive sweet smell. Major fenugreek-producing countries are Afghanistan, Pakistan, India, Iran, Nepal, Bangladesh, Argentina, Egypt, France, Spain, Turkey, and Morocco. The largest producer is India, where the major producing states are Rajasthan, Gujarat, Uttarakhand, Uttar Pradesh, Madhya Pradesh, Maharashtra, Haryana, and Punjab. \n",
      "\n",
      "Enter some keywords, type \"exit\" to quit: exit\n"
     ]
    }
   ],
   "source": [
    "bl=Boolean(index=inverted_index_sortpost, query_type=\"AND\", correct_query=True)\n",
    "searching(bl)"
   ]
  },
  {
   "cell_type": "markdown",
   "metadata": {
    "id": "jPv2XMc8-GbP"
   },
   "source": [
    "The correction is not good enough :). The retrieved documents, if any, are all judged relevant by the model according to the specified `query_type` argument. But in practice models with relevance score are preferred"
   ]
  },
  {
   "cell_type": "markdown",
   "metadata": {
    "id": "CpKb86d2z3Yi"
   },
   "source": [
    "### Vector Space Model"
   ]
  },
  {
   "cell_type": "code",
   "execution_count": null,
   "metadata": {
    "colab": {
     "base_uri": "https://localhost:8080/"
    },
    "id": "lYNHlpQcz_B_",
    "outputId": "444206ca-dbc3-4674-8a09-c9ea3dbc0edc"
   },
   "outputs": [
    {
     "name": "stdout",
     "output_type": "stream",
     "text": [
      "Welcome to the best search engine ever :)\n",
      "Enter some keywords or type \"exit\" to stop the engine: where is France ?\n",
      "Your query:  where is France ?\n",
      "\n",
      "Result(s): \n",
      "The Pyrenees. Feedback: France and Spain are separated by the Pyrenees range of mountains. The Pyrenees, is a range of mountains in southwest Europe that forms a natural border between France and Spain.  \n",
      "\n",
      "Hide summary. France to the west, Russia to the east; Germany had a strategic plan in case of war in... France to the west, Russia to the east; Germany had a strategic plan in case of war in the early 20th century.  \n",
      "\n",
      "Definition of MISTRAL. : a strong cold dry northerly wind of southern France. ADVERTISEMENT. \n",
      "\n",
      "Toulouse is one of France's most beautiful cities. It's a city located in southwest France. The metropolitan area of Toulouse is the second largest in Southern France and one of the fastest growing in Southern Europe. It is also the fourth largest city of France. Toulouse is called the chief city of Midi-Pyrenees Region. \n",
      "\n",
      "Enter some keywords, type \"exit\" to quit: exit\n"
     ]
    }
   ],
   "source": [
    "vsm=Vsm(index=inverted_index_sortpost, tfreqs=tfreqs, idfs=idfs, top=4, correct_query=False)\n",
    "searching(vsm)"
   ]
  },
  {
   "cell_type": "markdown",
   "metadata": {
    "id": "KG0S-Oaa0DcE"
   },
   "source": [
    "### Binary Independence models\n"
   ]
  },
  {
   "cell_type": "code",
   "execution_count": null,
   "metadata": {
    "colab": {
     "base_uri": "https://localhost:8080/"
    },
    "id": "TcuImwy70GE3",
    "outputId": "20ad2c3a-2777-41e2-aaf0-213ec19364dd"
   },
   "outputs": [
    {
     "name": "stdout",
     "output_type": "stream",
     "text": [
      "Welcome to the best search engine ever :)\n",
      "Enter some keywords or type \"exit\" to stop the engine: save the world !!!\n",
      "Your query:  save the world !!!\n",
      "\n",
      "Result(s): \n",
      "The Answer: The first national observance of Daylight Saving Time in the United States was in 1918, to save energy during World War I. This lasted seven months before being repealed. A similar, year-round, national observance went into effect in World War II, starting February 9, 1942, and ending September 30, 1945. Beginning in 2007, the observance starts on the second Sunday in March and ends in the first Sunday in November, adding an additional month. For more on Daylight Saving Time around the world, click here. \n",
      "\n",
      "There are volcanoes all over the world. They are above sea level and below the oceans. What a volcano actually is a hole in the Earth’s crust that lava and other Earth debris come out of a lot of the. time or even hundreds of years apart. A lot of volcanoes are in a form of a mountain or a hill that have a crater from past eruptions. Many times, before an eruption, there is activity in the Earth’s surface that make the ground shake or even the crater in the volcano grow. Scientists are getting better at predicting eruptions. This can save many lives.  \n",
      "\n",
      "The surrender of the Empire of Japan was announced by Imperial Japan on August 15 and formally signed on September 2, 1945, bringing the hostilities of World War II to a close. By the end of July 1945, the Imperial Japanese Navy was incapable of conducting major operations and an Allied invasion of Japan was imminent. If Japan does not surrender, bombs will have to be dropped on her war industries and, unfortunately, thousands of civilian lives will be lost. I urge Japanese civilians to leave industrial cities immediately, and save themselves from destruction. I realize the tragic significance of the atomic bomb. \n",
      "\n",
      "Enter some keywords, type \"exit\" to quit: exit\n"
     ]
    }
   ],
   "source": [
    "bim=Bim(index=inverted_index_sortpost , top=3, correct_query=False)\n",
    "searching(bim)"
   ]
  },
  {
   "cell_type": "markdown",
   "metadata": {
    "id": "qK2ODZSf0Kgr"
   },
   "source": [
    "##### Improvement with some extensions"
   ]
  },
  {
   "cell_type": "code",
   "execution_count": null,
   "metadata": {
    "colab": {
     "base_uri": "https://localhost:8080/"
    },
    "id": "H25IHfPS0PkY",
    "outputId": "8dcc89f4-a74b-4462-dfe8-349f4f337497"
   },
   "outputs": [
    {
     "name": "stdout",
     "output_type": "stream",
     "text": [
      "Welcome to the best search engine ever :)\n",
      "Enter some keywords or type \"exit\" to stop the engine: save the world !!!\n",
      "Your query:  save the world !!!\n",
      "\n",
      "Result(s): \n",
      "Definition of Green. Living a green lifestyle – or going green – can begin in small, easy to manage ways. Recycling is a huge, obvious part of helping to save the world through green living. Reducing one’s reliance on oil-based energy sources is another popular method employed in trying to save the world. \n",
      "\n",
      "Going Green Tips. Some people find that an easy way of going green and helping to save the planet is by creating a compost pile in their backyards. Planting a vegetable garden instead of water hugging grass is another method being used by many people who are trying to save the world. \n",
      "\n",
      "The Answer: The first national observance of Daylight Saving Time in the United States was in 1918, to save energy during World War I. This lasted seven months before being repealed. A similar, year-round, national observance went into effect in World War II, starting February 9, 1942, and ending September 30, 1945. Beginning in 2007, the observance starts on the second Sunday in March and ends in the first Sunday in November, adding an additional month. For more on Daylight Saving Time around the world, click here. \n",
      "\n",
      "Enter some keywords, type \"exit\" to quit: exit\n"
     ]
    }
   ],
   "source": [
    "two_poisson=BimExt(index=inverted_index_sortpost,k=1.25, b=0, top=3)\n",
    "searching(two_poisson)"
   ]
  },
  {
   "cell_type": "code",
   "execution_count": null,
   "metadata": {
    "colab": {
     "base_uri": "https://localhost:8080/"
    },
    "id": "d1FJLQkI0Wfc",
    "outputId": "3d62c985-9bc8-474e-a788-64bcd4ba1b1e"
   },
   "outputs": [
    {
     "name": "stdout",
     "output_type": "stream",
     "text": [
      "Welcome to the best search engine ever :)\n",
      "Enter some keywords or type \"exit\" to stop the engine: save the world !!!\n",
      "Your query:  save the world !!!\n",
      "\n",
      "Result(s): \n",
      "Definition of Green. Living a green lifestyle – or going green – can begin in small, easy to manage ways. Recycling is a huge, obvious part of helping to save the world through green living. Reducing one’s reliance on oil-based energy sources is another popular method employed in trying to save the world. \n",
      "\n",
      "Going Green Tips. Some people find that an easy way of going green and helping to save the planet is by creating a compost pile in their backyards. Planting a vegetable garden instead of water hugging grass is another method being used by many people who are trying to save the world. \n",
      "\n",
      "In Acrobat Reader DC Save As Save As. To save a copy of a PDF Portfolio Save As Other PDF Portfolio. If you are viewing a PDF in a web browser, the Acrobat File menu is not available. Use the Save A Copy button in the Acrobat toolbar to save the PDF. To the top. \n",
      "\n",
      "Enter some keywords, type \"exit\" to quit: exit\n"
     ]
    }
   ],
   "source": [
    "bm11=BimExt(index=inverted_index_sortpost, top=3, k=1.5, b=1)\n",
    "searching(bm11)"
   ]
  },
  {
   "cell_type": "code",
   "execution_count": null,
   "metadata": {
    "colab": {
     "base_uri": "https://localhost:8080/"
    },
    "id": "-n2UeGsj0blD",
    "outputId": "527ac60a-97f5-49a3-ba07-d6c99d81869f"
   },
   "outputs": [
    {
     "name": "stdout",
     "output_type": "stream",
     "text": [
      "Welcome to the best search engine ever :)\n",
      "Enter some keywords or type \"exit\" to stop the engine: save the world !!!\n",
      "Your query:  save the world !!!\n",
      "\n",
      "Result(s): \n",
      "Definition of Green. Living a green lifestyle – or going green – can begin in small, easy to manage ways. Recycling is a huge, obvious part of helping to save the world through green living. Reducing one’s reliance on oil-based energy sources is another popular method employed in trying to save the world. \n",
      "\n",
      "Going Green Tips. Some people find that an easy way of going green and helping to save the planet is by creating a compost pile in their backyards. Planting a vegetable garden instead of water hugging grass is another method being used by many people who are trying to save the world. \n",
      "\n",
      "In Acrobat Reader DC Save As Save As. To save a copy of a PDF Portfolio Save As Other PDF Portfolio. If you are viewing a PDF in a web browser, the Acrobat File menu is not available. Use the Save A Copy button in the Acrobat toolbar to save the PDF. To the top. \n",
      "\n",
      "Enter some keywords, type \"exit\" to quit: exit\n"
     ]
    }
   ],
   "source": [
    "bm25=BimExt(index=inverted_index_sortpost, top=3, k=1.5, b=0.8)\n",
    "searching(bm25)"
   ]
  },
  {
   "cell_type": "markdown",
   "metadata": {
    "id": "uy8bDSk70gwa"
   },
   "source": [
    "### Language model"
   ]
  },
  {
   "cell_type": "code",
   "execution_count": null,
   "metadata": {
    "colab": {
     "base_uri": "https://localhost:8080/"
    },
    "id": "LXm5-W-s0hVW",
    "outputId": "8a3c952b-edb6-48bd-864f-a93d72149e05"
   },
   "outputs": [
    {
     "name": "stdout",
     "output_type": "stream",
     "text": [
      "Welcome to the best search engine ever :)\n",
      "Enter some keywords or type \"exit\" to stop the engine: save the world !!!\n",
      "Your query:  save the world !!!\n",
      "\n",
      "Result(s): \n",
      "The shorter the pushrod side of the rocker arm and the longer the valve side of the rocker arm, the higher the lift ratio of the rocker. If the length of the valve side of the rocker is 1.5 times that of the pushrod side, the lift ratio will be 1.5:1.  \n",
      "\n",
      "Remove the Transmission from the Vehicle. Place a transmission jack underneath the transmission. Raise the jack until it is supporting the weight of the transmission. Remove the bolts that connect the engine to the transmission. Remove the bolts that secure the transmission to the engine. Remove the bolts that secure the transmission to the transmission crossmember. Remove the bolts that connect the transmission crossmember to the vehicle's frame. Remove the transmission crossmember from the vehicle. Slide the transmission rearward until the front of the transmission housing disengages from the locating pins on the engine block \n",
      "\n",
      "The vertebral border of the scapula is also known as the medial border of the scapula, the  internal border of the scapula  and sometimes as the  base (of the scapula). The 3 borders of the scapula are 1  : the superior border of the scapula. 2  the medial border of the scapula (also known as the vertebral border of the scapula), and. 3  the axillary border of the scapula (also known as the lateral border of the scapula). \n",
      "\n",
      "Enter some keywords, type \"exit\" to quit: exit\n"
     ]
    }
   ],
   "source": [
    "ql=QueryLklhd(index=inverted_index_sortpost, lang_model=unigram_model, top=3)\n",
    "searching(ql)"
   ]
  },
  {
   "cell_type": "markdown",
   "metadata": {
    "id": "u_FxiqBW00iC"
   },
   "source": [
    "### Word2Vec Vector Space model"
   ]
  },
  {
   "cell_type": "code",
   "execution_count": null,
   "metadata": {
    "colab": {
     "base_uri": "https://localhost:8080/"
    },
    "id": "XQlFn2XD01Ib",
    "outputId": "9d8bb504-77b4-407a-d549-d2de17c03364"
   },
   "outputs": [
    {
     "name": "stdout",
     "output_type": "stream",
     "text": [
      "Welcome to the best search engine ever :)\n",
      "Enter some keywords or type \"exit\" to stop the engine: what is AIDS ?\n"
     ]
    },
    {
     "name": "stderr",
     "output_type": "stream",
     "text": [
      "100%|██████████| 79176/79176 [00:10<00:00, 7472.77it/s]\n"
     ]
    },
    {
     "name": "stdout",
     "output_type": "stream",
     "text": [
      "Your query:  what is AIDS ?\n",
      "\n",
      "Result(s): \n",
      "Physical therapist assistants (PTAs) work as part of a dynamic healthcare team. Assistants help physical therapists maintain therapy facilities and monitor patient progress, while also helping patients by assisting them on difficult movements and instructing them on how to use walking aids.  \n",
      "\n",
      "Biofeedback sessions are typically done in a therapist's office, but there are computer programs that connect the biofeedback sensor to your own computer. A biofeedback therapist helps you practice relaxation exercises, which you fine-tune to control different body functions. Researchers aren't exactly sure how or why biofeedback works. They do know that biofeedback promotes relaxation, which can help relieve a number of conditions that are related to stress. During a biofeedback session, electrodes are attached to your skin. Finger sensors can also be used. These electrodes/sensors send signals to a monitor, which displays a sound, flash of light, or image that represents your heart and breathing rate, blood pressure, skin temperature, sweating, or muscle activity \n",
      "\n",
      "Uses. Famotidine is used to help reduce the amount of stomach acid produced. It aids in the treatment of stomach ulcers that are present and helps prevent ulcer formation.  \n",
      "\n",
      "Enter some keywords, type \"exit\" to quit: exit\n"
     ]
    }
   ],
   "source": [
    "# This takes up to 10 seconds to run a query\n",
    "w2vvsm_np=W2Vsm(index=inverted_index_sortpost, top=3, idfs=idfs, word_embeds=w2v, doc_embeds=doc2vec, precluster=False)\n",
    "searching(w2vvsm_np)"
   ]
  },
  {
   "cell_type": "code",
   "execution_count": null,
   "metadata": {
    "colab": {
     "base_uri": "https://localhost:8080/"
    },
    "id": "p1jBI-l90-Ib",
    "outputId": "c927d6c3-cc98-4dfd-e7a0-0c3376ee892d"
   },
   "outputs": [
    {
     "name": "stdout",
     "output_type": "stream",
     "text": [
      "Welcome to the best search engine ever :)\n",
      "Enter some keywords or type \"exit\" to stop the engine: what is AIDS ?\n",
      "Your query:  what is AIDS ?\n",
      "\n",
      "Result(s): \n",
      "Physical therapist assistants (PTAs) work as part of a dynamic healthcare team. Assistants help physical therapists maintain therapy facilities and monitor patient progress, while also helping patients by assisting them on difficult movements and instructing them on how to use walking aids.  \n",
      "\n",
      "Biofeedback sessions are typically done in a therapist's office, but there are computer programs that connect the biofeedback sensor to your own computer. A biofeedback therapist helps you practice relaxation exercises, which you fine-tune to control different body functions. Researchers aren't exactly sure how or why biofeedback works. They do know that biofeedback promotes relaxation, which can help relieve a number of conditions that are related to stress. During a biofeedback session, electrodes are attached to your skin. Finger sensors can also be used. These electrodes/sensors send signals to a monitor, which displays a sound, flash of light, or image that represents your heart and breathing rate, blood pressure, skin temperature, sweating, or muscle activity \n",
      "\n",
      "The biofeedback can help motivate a person to improve the technique. Biofeedback can help a person gain more control over some of the body's functions that they don’t usually think about. Biofeedback may also help with migraine headaches, chronic pain, incontinence and high blood pressure. The idea behind biofeedback is that, by harnessing the power of your mind and becoming aware of what's going on inside your body, you may gain more control over your health. Researchers aren't exactly sure how or why biofeedback works. They do know that biofeedback promotes relaxation, which can help relieve a number of conditions that are related to stress; but there is limited research on this treatment. During a biofeedback session, electrodes are attached to your skin. \n",
      "\n",
      "Enter some keywords, type \"exit\" to quit: exit\n"
     ]
    }
   ],
   "source": [
    "w2vvsm_p=W2Vsm(index=inverted_index_sortpost, idfs=idfs, top=3, word_embeds=w2v, doc_embeds=doc2vec, precluster=True,\n",
    "               cluster_centers=doc_kmeans.cluster_centers_, doc_cluster_labels=doc_kmeans.labels_, top_center=10)\n",
    "searching(w2vvsm_p)"
   ]
  },
  {
   "cell_type": "markdown",
   "metadata": {
    "id": "Uv_lIDfA1BJD"
   },
   "source": [
    "### Latent semantic indexing\n"
   ]
  },
  {
   "cell_type": "code",
   "execution_count": null,
   "metadata": {
    "colab": {
     "base_uri": "https://localhost:8080/"
    },
    "id": "Q5k3e6d31Bl5",
    "outputId": "5562ce75-141e-4b80-9a36-1b7055ea46a9"
   },
   "outputs": [
    {
     "name": "stdout",
     "output_type": "stream",
     "text": [
      "Welcome to the best search engine ever :)\n",
      "Enter some keywords or type \"exit\" to stop the engine: what is money ?\n",
      "Your query:  what is money ?\n",
      "\n",
      "Result(s): \n",
      "On a $500,000 transaction, a buyer in our market would typically make an earnest money deposit of $5,000-$10,000. Remember, the earnest money deposit is not set and is to be negotiated between the buyer and seller. Here are some recommendations when trying to determine the proper amount of earnest money. \n",
      "\n",
      "What does unremarkable mean in medical terms? already exists. already exists as an alternate of this question. exists and is an alternate of. What do you think it is about Sirens that resonates with viewers? What does grossly unremarkable mean in medical terms? What does pulmonary vascular is unremarkable mean? What does unremarkable for age ... The comment 'unremarkable' in all laboratory testing, exams, and machine scans means there was nothing in the scan, test, or exam that indicates a problem. Everything ap … pears to be normal. \n",
      "\n",
      "1 All these cards charge similar ATM fees for the currencies they cover and give comparable exchange rates. 2  The exception is the OzForex Travel Card, which consistently offered better exchange rates, though they would be partially offset by a $15 purchase and $10 closing fee. That depends on the length of your trip and how much money you plan to throw around. If you're travelling for a couple of weeks or more and shopping is on the agenda, a travel money card is a good idea. \n",
      "\n",
      "Enter some keywords, type \"exit\" to quit: exit\n"
     ]
    }
   ],
   "source": [
    "lsi=Lsi(index=sub_inv, idfs=idfs, top=3, svd_word_doc_mat=svd_mats, dtoi=dtoi, wtoi=wtoi)\n",
    "searching(lsi)"
   ]
  },
  {
   "cell_type": "markdown",
   "metadata": {
    "id": "br6RGEoX1Gk5"
   },
   "source": [
    "# Evaluation"
   ]
  },
  {
   "cell_type": "code",
   "execution_count": null,
   "metadata": {
    "colab": {
     "base_uri": "https://localhost:8080/"
    },
    "id": "8ToHMY37gvGL",
    "outputId": "9e75c05d-db32-4503-82d6-63cb72e1e9c4"
   },
   "outputs": [
    {
     "data": {
      "text/plain": [
       "['does human hair stop squirrels: {1: 1, 2: 1, 3: 2, 4: 1, 5: 1, 6: 1, 7: 1}',\n",
       " 'what are the benefits of fossil fuels: {8: 1, 9: 2, 10: 1, 11: 1, 12: 1, 13: 1, 14: 1, 15: 1, 16: 1}',\n",
       " 'what is a apothem: {17: 1, 18: 1, 19: 1, 20: 1, 21: 1, 22: 2, 23: 1, 24: 1, 25: 1}']"
      ]
     },
     "execution_count": 25,
     "metadata": {},
     "output_type": "execute_result"
    }
   ],
   "source": [
    "[f'{query}: {judgments[query]}' for pos, query in enumerate(judgments) if pos<=2]"
   ]
  },
  {
   "cell_type": "markdown",
   "metadata": {
    "id": "XZq__0VAqs7V"
   },
   "source": [
    "Each document is associated to document ids and the corresponding relevance judgments (relevance equal to msmarco initial relevance + 1)"
   ]
  },
  {
   "cell_type": "code",
   "execution_count": null,
   "metadata": {
    "id": "__p1bIEAgydP"
   },
   "outputs": [],
   "source": [
    "benchmark={\n",
    "      \"vsm\": {\"model\":[Vsm(index=inverted_index_sortpost, tfreqs=tfreqs, idfs=idfs)]},\n",
    "      \"bim\": {\"model\":[Bim(index=inverted_index_sortpost)]},\n",
    "      \"query_likelihood\": {\"model\":[QueryLklhd(index=inverted_index_sortpost, lang_model=unigram_model)]}, \n",
    "      \"w2vsm\":{\"model\":[W2Vsm(index=inverted_index_sortpost, idfs=idfs, word_embeds=w2v, doc_embeds=doc2vec, precluster=True,\\\n",
    "                              cluster_centers=doc_kmeans.cluster_centers_, doc_cluster_labels=doc_kmeans.labels_, top_center=10)]},\n",
    "      \"lsi\": {\"model\":[Lsi(index=sub_inv, idfs=idfs, svd_word_doc_mat=svd_mats, dtoi=dtoi, wtoi=wtoi)]}     \n",
    "           }\n",
    "\n",
    "ks=np.linspace(1,2,10)\n",
    "bs=np.linspace(0.05,0.95,10)\n",
    "# ks=[1.5]\n",
    "# bs=[0.75]\n",
    "\n",
    "at_Ks=[10]\n",
    "\n",
    "for ext in [\"two_poisson\", \"bm11\"]:\n",
    "      benchmark[ext]={\"model\":[BimExt(index=inverted_index_sortpost, b=(ext==\"bm11\")*1, k=k) for k in ks]}\n",
    "benchmark[\"bm25\"]={\"model\":[BimExt(index=inverted_index_sortpost, b=b, k=k) for b in bs for k in ks]}\n",
    "\n",
    "for m in benchmark:\n",
    "      benchmark[m][\"MRR@\"]={K: [] for K in at_Ks}\n",
    "      benchmark[m][\"MAP\"] = []\n",
    "\n",
    "subjudgments={query: rel for pos, (query, rel) in enumerate(judgments.items()) if pos<100}"
   ]
  },
  {
   "cell_type": "code",
   "execution_count": null,
   "metadata": {
    "colab": {
     "base_uri": "https://localhost:8080/"
    },
    "id": "FYWhm6P4rJEM",
    "outputId": "c2432a80-8884-47a7-cbab-2ea1ac53141f"
   },
   "outputs": [
    {
     "name": "stdout",
     "output_type": "stream",
     "text": [
      "Running 1 vsm model(s)\n",
      "\t1 model over 1\n"
     ]
    },
    {
     "name": "stderr",
     "output_type": "stream",
     "text": [
      "100%|██████████| 100/100 [08:39<00:00,  5.19s/it]\n",
      "100%|██████████| 100/100 [08:36<00:00,  5.17s/it]\n"
     ]
    },
    {
     "name": "stdout",
     "output_type": "stream",
     "text": [
      "Running 1 bim model(s)\n",
      "\t1 model over 1\n"
     ]
    },
    {
     "name": "stderr",
     "output_type": "stream",
     "text": [
      "100%|██████████| 100/100 [00:19<00:00,  5.03it/s]\n",
      "100%|██████████| 100/100 [00:19<00:00,  5.09it/s]\n"
     ]
    },
    {
     "name": "stdout",
     "output_type": "stream",
     "text": [
      "Running 1 query_likelihood model(s)\n",
      "\t1 model over 1\n"
     ]
    },
    {
     "name": "stderr",
     "output_type": "stream",
     "text": [
      "100%|██████████| 100/100 [00:20<00:00,  4.81it/s]\n",
      "100%|██████████| 100/100 [00:21<00:00,  4.72it/s]\n"
     ]
    },
    {
     "name": "stdout",
     "output_type": "stream",
     "text": [
      "Running 1 w2vsm model(s)\n",
      "\t1 model over 1\n"
     ]
    },
    {
     "name": "stderr",
     "output_type": "stream",
     "text": [
      "100%|██████████| 100/100 [00:33<00:00,  2.99it/s]\n",
      "100%|██████████| 100/100 [00:33<00:00,  2.99it/s]\n"
     ]
    },
    {
     "name": "stdout",
     "output_type": "stream",
     "text": [
      "Running 1 lsi model(s)\n",
      "\t1 model over 1\n"
     ]
    },
    {
     "name": "stderr",
     "output_type": "stream",
     "text": [
      "100%|██████████| 100/100 [02:07<00:00,  1.27s/it]\n",
      "100%|██████████| 100/100 [02:08<00:00,  1.29s/it]\n"
     ]
    },
    {
     "name": "stdout",
     "output_type": "stream",
     "text": [
      "Running 10 two_poisson model(s)\n",
      "\t1 model over 10\n"
     ]
    },
    {
     "name": "stderr",
     "output_type": "stream",
     "text": [
      "100%|██████████| 100/100 [00:52<00:00,  1.92it/s]\n",
      "100%|██████████| 100/100 [00:51<00:00,  1.94it/s]\n"
     ]
    },
    {
     "name": "stdout",
     "output_type": "stream",
     "text": [
      "\t2 model over 10\n"
     ]
    },
    {
     "name": "stderr",
     "output_type": "stream",
     "text": [
      "100%|██████████| 100/100 [00:51<00:00,  1.95it/s]\n",
      "100%|██████████| 100/100 [00:51<00:00,  1.93it/s]\n"
     ]
    },
    {
     "name": "stdout",
     "output_type": "stream",
     "text": [
      "\t3 model over 10\n"
     ]
    },
    {
     "name": "stderr",
     "output_type": "stream",
     "text": [
      "100%|██████████| 100/100 [00:51<00:00,  1.95it/s]\n",
      "100%|██████████| 100/100 [00:51<00:00,  1.95it/s]\n"
     ]
    },
    {
     "name": "stdout",
     "output_type": "stream",
     "text": [
      "\t4 model over 10\n"
     ]
    },
    {
     "name": "stderr",
     "output_type": "stream",
     "text": [
      "100%|██████████| 100/100 [00:51<00:00,  1.94it/s]\n",
      "100%|██████████| 100/100 [00:56<00:00,  1.78it/s]\n"
     ]
    },
    {
     "name": "stdout",
     "output_type": "stream",
     "text": [
      "\t5 model over 10\n"
     ]
    },
    {
     "name": "stderr",
     "output_type": "stream",
     "text": [
      "100%|██████████| 100/100 [00:51<00:00,  1.96it/s]\n",
      "100%|██████████| 100/100 [00:52<00:00,  1.91it/s]\n"
     ]
    },
    {
     "name": "stdout",
     "output_type": "stream",
     "text": [
      "\t6 model over 10\n"
     ]
    },
    {
     "name": "stderr",
     "output_type": "stream",
     "text": [
      "100%|██████████| 100/100 [00:51<00:00,  1.95it/s]\n",
      "100%|██████████| 100/100 [00:51<00:00,  1.93it/s]\n"
     ]
    },
    {
     "name": "stdout",
     "output_type": "stream",
     "text": [
      "\t7 model over 10\n"
     ]
    },
    {
     "name": "stderr",
     "output_type": "stream",
     "text": [
      "100%|██████████| 100/100 [00:51<00:00,  1.94it/s]\n",
      "100%|██████████| 100/100 [00:51<00:00,  1.94it/s]\n"
     ]
    },
    {
     "name": "stdout",
     "output_type": "stream",
     "text": [
      "\t8 model over 10\n"
     ]
    },
    {
     "name": "stderr",
     "output_type": "stream",
     "text": [
      "100%|██████████| 100/100 [00:51<00:00,  1.96it/s]\n",
      "100%|██████████| 100/100 [00:51<00:00,  1.93it/s]\n"
     ]
    },
    {
     "name": "stdout",
     "output_type": "stream",
     "text": [
      "\t9 model over 10\n"
     ]
    },
    {
     "name": "stderr",
     "output_type": "stream",
     "text": [
      "100%|██████████| 100/100 [00:51<00:00,  1.95it/s]\n",
      "100%|██████████| 100/100 [00:51<00:00,  1.95it/s]\n"
     ]
    },
    {
     "name": "stdout",
     "output_type": "stream",
     "text": [
      "\t10 model over 10\n"
     ]
    },
    {
     "name": "stderr",
     "output_type": "stream",
     "text": [
      "100%|██████████| 100/100 [00:51<00:00,  1.94it/s]\n",
      "100%|██████████| 100/100 [00:51<00:00,  1.96it/s]\n"
     ]
    },
    {
     "name": "stdout",
     "output_type": "stream",
     "text": [
      "Running 10 bm11 model(s)\n",
      "\t1 model over 10\n"
     ]
    },
    {
     "name": "stderr",
     "output_type": "stream",
     "text": [
      "100%|██████████| 100/100 [00:52<00:00,  1.91it/s]\n",
      "100%|██████████| 100/100 [00:54<00:00,  1.85it/s]\n"
     ]
    },
    {
     "name": "stdout",
     "output_type": "stream",
     "text": [
      "\t2 model over 10\n"
     ]
    },
    {
     "name": "stderr",
     "output_type": "stream",
     "text": [
      "100%|██████████| 100/100 [00:51<00:00,  1.93it/s]\n",
      "100%|██████████| 100/100 [00:53<00:00,  1.88it/s]\n"
     ]
    },
    {
     "name": "stdout",
     "output_type": "stream",
     "text": [
      "\t3 model over 10\n"
     ]
    },
    {
     "name": "stderr",
     "output_type": "stream",
     "text": [
      "100%|██████████| 100/100 [00:52<00:00,  1.90it/s]\n",
      "100%|██████████| 100/100 [00:51<00:00,  1.93it/s]\n"
     ]
    },
    {
     "name": "stdout",
     "output_type": "stream",
     "text": [
      "\t4 model over 10\n"
     ]
    },
    {
     "name": "stderr",
     "output_type": "stream",
     "text": [
      "100%|██████████| 100/100 [00:53<00:00,  1.88it/s]\n",
      "100%|██████████| 100/100 [00:52<00:00,  1.90it/s]\n"
     ]
    },
    {
     "name": "stdout",
     "output_type": "stream",
     "text": [
      "\t5 model over 10\n"
     ]
    },
    {
     "name": "stderr",
     "output_type": "stream",
     "text": [
      "100%|██████████| 100/100 [00:52<00:00,  1.89it/s]\n",
      "100%|██████████| 100/100 [00:52<00:00,  1.92it/s]\n"
     ]
    },
    {
     "name": "stdout",
     "output_type": "stream",
     "text": [
      "\t6 model over 10\n"
     ]
    },
    {
     "name": "stderr",
     "output_type": "stream",
     "text": [
      "100%|██████████| 100/100 [00:52<00:00,  1.91it/s]\n",
      "100%|██████████| 100/100 [00:51<00:00,  1.95it/s]\n"
     ]
    },
    {
     "name": "stdout",
     "output_type": "stream",
     "text": [
      "\t7 model over 10\n"
     ]
    },
    {
     "name": "stderr",
     "output_type": "stream",
     "text": [
      "100%|██████████| 100/100 [00:52<00:00,  1.90it/s]\n",
      "100%|██████████| 100/100 [00:52<00:00,  1.92it/s]\n"
     ]
    },
    {
     "name": "stdout",
     "output_type": "stream",
     "text": [
      "\t8 model over 10\n"
     ]
    },
    {
     "name": "stderr",
     "output_type": "stream",
     "text": [
      "100%|██████████| 100/100 [00:52<00:00,  1.89it/s]\n",
      "100%|██████████| 100/100 [00:52<00:00,  1.92it/s]\n"
     ]
    },
    {
     "name": "stdout",
     "output_type": "stream",
     "text": [
      "\t9 model over 10\n"
     ]
    },
    {
     "name": "stderr",
     "output_type": "stream",
     "text": [
      "100%|██████████| 100/100 [00:52<00:00,  1.91it/s]\n",
      "100%|██████████| 100/100 [00:52<00:00,  1.89it/s]\n"
     ]
    },
    {
     "name": "stdout",
     "output_type": "stream",
     "text": [
      "\t10 model over 10\n"
     ]
    },
    {
     "name": "stderr",
     "output_type": "stream",
     "text": [
      "100%|██████████| 100/100 [00:53<00:00,  1.88it/s]\n",
      "100%|██████████| 100/100 [00:53<00:00,  1.88it/s]\n"
     ]
    },
    {
     "name": "stdout",
     "output_type": "stream",
     "text": [
      "Running 100 bm25 model(s)\n",
      "\t1 model over 100\n"
     ]
    },
    {
     "name": "stderr",
     "output_type": "stream",
     "text": [
      "100%|██████████| 100/100 [00:51<00:00,  1.94it/s]\n",
      "100%|██████████| 100/100 [00:50<00:00,  1.98it/s]\n"
     ]
    },
    {
     "name": "stdout",
     "output_type": "stream",
     "text": [
      "\t2 model over 100\n"
     ]
    },
    {
     "name": "stderr",
     "output_type": "stream",
     "text": [
      "100%|██████████| 100/100 [00:51<00:00,  1.94it/s]\n",
      "100%|██████████| 100/100 [00:50<00:00,  1.99it/s]\n"
     ]
    },
    {
     "name": "stdout",
     "output_type": "stream",
     "text": [
      "\t3 model over 100\n"
     ]
    },
    {
     "name": "stderr",
     "output_type": "stream",
     "text": [
      "100%|██████████| 100/100 [00:52<00:00,  1.91it/s]\n",
      "100%|██████████| 100/100 [00:51<00:00,  1.94it/s]\n"
     ]
    },
    {
     "name": "stdout",
     "output_type": "stream",
     "text": [
      "\t4 model over 100\n"
     ]
    },
    {
     "name": "stderr",
     "output_type": "stream",
     "text": [
      "100%|██████████| 100/100 [00:50<00:00,  1.98it/s]\n",
      "100%|██████████| 100/100 [00:51<00:00,  1.93it/s]\n"
     ]
    },
    {
     "name": "stdout",
     "output_type": "stream",
     "text": [
      "\t5 model over 100\n"
     ]
    },
    {
     "name": "stderr",
     "output_type": "stream",
     "text": [
      "100%|██████████| 100/100 [00:50<00:00,  1.98it/s]\n",
      "100%|██████████| 100/100 [00:50<00:00,  1.97it/s]\n"
     ]
    },
    {
     "name": "stdout",
     "output_type": "stream",
     "text": [
      "\t6 model over 100\n"
     ]
    },
    {
     "name": "stderr",
     "output_type": "stream",
     "text": [
      "100%|██████████| 100/100 [00:52<00:00,  1.90it/s]\n",
      "100%|██████████| 100/100 [00:51<00:00,  1.96it/s]\n"
     ]
    },
    {
     "name": "stdout",
     "output_type": "stream",
     "text": [
      "\t7 model over 100\n"
     ]
    },
    {
     "name": "stderr",
     "output_type": "stream",
     "text": [
      "100%|██████████| 100/100 [00:50<00:00,  1.97it/s]\n",
      "100%|██████████| 100/100 [00:50<00:00,  1.98it/s]\n"
     ]
    },
    {
     "name": "stdout",
     "output_type": "stream",
     "text": [
      "\t8 model over 100\n"
     ]
    },
    {
     "name": "stderr",
     "output_type": "stream",
     "text": [
      "100%|██████████| 100/100 [00:52<00:00,  1.92it/s]\n",
      "100%|██████████| 100/100 [00:50<00:00,  1.98it/s]\n"
     ]
    },
    {
     "name": "stdout",
     "output_type": "stream",
     "text": [
      "\t9 model over 100\n"
     ]
    },
    {
     "name": "stderr",
     "output_type": "stream",
     "text": [
      "100%|██████████| 100/100 [00:52<00:00,  1.90it/s]\n",
      "100%|██████████| 100/100 [00:51<00:00,  1.94it/s]\n"
     ]
    },
    {
     "name": "stdout",
     "output_type": "stream",
     "text": [
      "\t10 model over 100\n"
     ]
    },
    {
     "name": "stderr",
     "output_type": "stream",
     "text": [
      "100%|██████████| 100/100 [00:51<00:00,  1.96it/s]\n",
      "100%|██████████| 100/100 [00:51<00:00,  1.94it/s]\n"
     ]
    },
    {
     "name": "stdout",
     "output_type": "stream",
     "text": [
      "\t11 model over 100\n"
     ]
    },
    {
     "name": "stderr",
     "output_type": "stream",
     "text": [
      "100%|██████████| 100/100 [00:51<00:00,  1.95it/s]\n",
      "100%|██████████| 100/100 [00:51<00:00,  1.95it/s]\n"
     ]
    },
    {
     "name": "stdout",
     "output_type": "stream",
     "text": [
      "\t12 model over 100\n"
     ]
    },
    {
     "name": "stderr",
     "output_type": "stream",
     "text": [
      "100%|██████████| 100/100 [00:51<00:00,  1.92it/s]\n",
      "100%|██████████| 100/100 [00:51<00:00,  1.92it/s]\n"
     ]
    },
    {
     "name": "stdout",
     "output_type": "stream",
     "text": [
      "\t13 model over 100\n"
     ]
    },
    {
     "name": "stderr",
     "output_type": "stream",
     "text": [
      "100%|██████████| 100/100 [00:53<00:00,  1.89it/s]\n",
      "100%|██████████| 100/100 [00:50<00:00,  1.97it/s]\n"
     ]
    },
    {
     "name": "stdout",
     "output_type": "stream",
     "text": [
      "\t14 model over 100\n"
     ]
    },
    {
     "name": "stderr",
     "output_type": "stream",
     "text": [
      "100%|██████████| 100/100 [00:51<00:00,  1.95it/s]\n",
      "100%|██████████| 100/100 [00:55<00:00,  1.82it/s]\n"
     ]
    },
    {
     "name": "stdout",
     "output_type": "stream",
     "text": [
      "\t15 model over 100\n"
     ]
    },
    {
     "name": "stderr",
     "output_type": "stream",
     "text": [
      "100%|██████████| 100/100 [00:51<00:00,  1.95it/s]\n",
      "100%|██████████| 100/100 [00:52<00:00,  1.90it/s]\n"
     ]
    },
    {
     "name": "stdout",
     "output_type": "stream",
     "text": [
      "\t16 model over 100\n"
     ]
    },
    {
     "name": "stderr",
     "output_type": "stream",
     "text": [
      "100%|██████████| 100/100 [00:52<00:00,  1.92it/s]\n",
      "100%|██████████| 100/100 [00:51<00:00,  1.96it/s]\n"
     ]
    },
    {
     "name": "stdout",
     "output_type": "stream",
     "text": [
      "\t17 model over 100\n"
     ]
    },
    {
     "name": "stderr",
     "output_type": "stream",
     "text": [
      "100%|██████████| 100/100 [00:51<00:00,  1.95it/s]\n",
      "100%|██████████| 100/100 [00:51<00:00,  1.93it/s]\n"
     ]
    },
    {
     "name": "stdout",
     "output_type": "stream",
     "text": [
      "\t18 model over 100\n"
     ]
    },
    {
     "name": "stderr",
     "output_type": "stream",
     "text": [
      "100%|██████████| 100/100 [00:50<00:00,  1.96it/s]\n",
      "100%|██████████| 100/100 [00:51<00:00,  1.94it/s]\n"
     ]
    },
    {
     "name": "stdout",
     "output_type": "stream",
     "text": [
      "\t19 model over 100\n"
     ]
    },
    {
     "name": "stderr",
     "output_type": "stream",
     "text": [
      "100%|██████████| 100/100 [00:51<00:00,  1.93it/s]\n",
      "100%|██████████| 100/100 [00:51<00:00,  1.94it/s]\n"
     ]
    },
    {
     "name": "stdout",
     "output_type": "stream",
     "text": [
      "\t20 model over 100\n"
     ]
    },
    {
     "name": "stderr",
     "output_type": "stream",
     "text": [
      "100%|██████████| 100/100 [00:51<00:00,  1.93it/s]\n",
      "100%|██████████| 100/100 [00:52<00:00,  1.90it/s]\n"
     ]
    },
    {
     "name": "stdout",
     "output_type": "stream",
     "text": [
      "\t21 model over 100\n"
     ]
    },
    {
     "name": "stderr",
     "output_type": "stream",
     "text": [
      "100%|██████████| 100/100 [00:51<00:00,  1.92it/s]\n",
      "100%|██████████| 100/100 [00:51<00:00,  1.94it/s]\n"
     ]
    },
    {
     "name": "stdout",
     "output_type": "stream",
     "text": [
      "\t22 model over 100\n"
     ]
    },
    {
     "name": "stderr",
     "output_type": "stream",
     "text": [
      "100%|██████████| 100/100 [00:51<00:00,  1.93it/s]\n",
      "100%|██████████| 100/100 [00:50<00:00,  1.98it/s]\n"
     ]
    },
    {
     "name": "stdout",
     "output_type": "stream",
     "text": [
      "\t23 model over 100\n"
     ]
    },
    {
     "name": "stderr",
     "output_type": "stream",
     "text": [
      "100%|██████████| 100/100 [00:51<00:00,  1.94it/s]\n",
      "100%|██████████| 100/100 [00:50<00:00,  1.97it/s]\n"
     ]
    },
    {
     "name": "stdout",
     "output_type": "stream",
     "text": [
      "\t24 model over 100\n"
     ]
    },
    {
     "name": "stderr",
     "output_type": "stream",
     "text": [
      "100%|██████████| 100/100 [00:50<00:00,  1.97it/s]\n",
      "100%|██████████| 100/100 [00:50<00:00,  1.97it/s]\n"
     ]
    },
    {
     "name": "stdout",
     "output_type": "stream",
     "text": [
      "\t25 model over 100\n"
     ]
    },
    {
     "name": "stderr",
     "output_type": "stream",
     "text": [
      "100%|██████████| 100/100 [00:50<00:00,  1.96it/s]\n",
      "100%|██████████| 100/100 [00:50<00:00,  1.97it/s]\n"
     ]
    },
    {
     "name": "stdout",
     "output_type": "stream",
     "text": [
      "\t26 model over 100\n"
     ]
    },
    {
     "name": "stderr",
     "output_type": "stream",
     "text": [
      "100%|██████████| 100/100 [00:51<00:00,  1.94it/s]\n",
      "100%|██████████| 100/100 [00:50<00:00,  1.97it/s]\n"
     ]
    },
    {
     "name": "stdout",
     "output_type": "stream",
     "text": [
      "\t27 model over 100\n"
     ]
    },
    {
     "name": "stderr",
     "output_type": "stream",
     "text": [
      "100%|██████████| 100/100 [00:51<00:00,  1.94it/s]\n",
      "100%|██████████| 100/100 [00:51<00:00,  1.94it/s]\n"
     ]
    },
    {
     "name": "stdout",
     "output_type": "stream",
     "text": [
      "\t28 model over 100\n"
     ]
    },
    {
     "name": "stderr",
     "output_type": "stream",
     "text": [
      "100%|██████████| 100/100 [00:51<00:00,  1.93it/s]\n",
      "100%|██████████| 100/100 [00:51<00:00,  1.95it/s]\n"
     ]
    },
    {
     "name": "stdout",
     "output_type": "stream",
     "text": [
      "\t29 model over 100\n"
     ]
    },
    {
     "name": "stderr",
     "output_type": "stream",
     "text": [
      "100%|██████████| 100/100 [00:51<00:00,  1.95it/s]\n",
      "100%|██████████| 100/100 [00:52<00:00,  1.92it/s]\n"
     ]
    },
    {
     "name": "stdout",
     "output_type": "stream",
     "text": [
      "\t30 model over 100\n"
     ]
    },
    {
     "name": "stderr",
     "output_type": "stream",
     "text": [
      "100%|██████████| 100/100 [00:50<00:00,  1.96it/s]\n",
      "100%|██████████| 100/100 [00:51<00:00,  1.94it/s]\n"
     ]
    },
    {
     "name": "stdout",
     "output_type": "stream",
     "text": [
      "\t31 model over 100\n"
     ]
    },
    {
     "name": "stderr",
     "output_type": "stream",
     "text": [
      "100%|██████████| 100/100 [00:51<00:00,  1.94it/s]\n",
      "100%|██████████| 100/100 [00:50<00:00,  1.99it/s]\n"
     ]
    },
    {
     "name": "stdout",
     "output_type": "stream",
     "text": [
      "\t32 model over 100\n"
     ]
    },
    {
     "name": "stderr",
     "output_type": "stream",
     "text": [
      "100%|██████████| 100/100 [00:51<00:00,  1.96it/s]\n",
      "100%|██████████| 100/100 [00:51<00:00,  1.96it/s]\n"
     ]
    },
    {
     "name": "stdout",
     "output_type": "stream",
     "text": [
      "\t33 model over 100\n"
     ]
    },
    {
     "name": "stderr",
     "output_type": "stream",
     "text": [
      "100%|██████████| 100/100 [00:51<00:00,  1.95it/s]\n",
      "100%|██████████| 100/100 [00:53<00:00,  1.89it/s]\n"
     ]
    },
    {
     "name": "stdout",
     "output_type": "stream",
     "text": [
      "\t34 model over 100\n"
     ]
    },
    {
     "name": "stderr",
     "output_type": "stream",
     "text": [
      "100%|██████████| 100/100 [00:51<00:00,  1.94it/s]\n",
      "100%|██████████| 100/100 [00:52<00:00,  1.92it/s]\n"
     ]
    },
    {
     "name": "stdout",
     "output_type": "stream",
     "text": [
      "\t35 model over 100\n"
     ]
    },
    {
     "name": "stderr",
     "output_type": "stream",
     "text": [
      "100%|██████████| 100/100 [00:51<00:00,  1.95it/s]\n",
      "100%|██████████| 100/100 [00:51<00:00,  1.95it/s]\n"
     ]
    },
    {
     "name": "stdout",
     "output_type": "stream",
     "text": [
      "\t36 model over 100\n"
     ]
    },
    {
     "name": "stderr",
     "output_type": "stream",
     "text": [
      "100%|██████████| 100/100 [00:50<00:00,  1.96it/s]\n",
      "100%|██████████| 100/100 [00:52<00:00,  1.92it/s]\n"
     ]
    },
    {
     "name": "stdout",
     "output_type": "stream",
     "text": [
      "\t37 model over 100\n"
     ]
    },
    {
     "name": "stderr",
     "output_type": "stream",
     "text": [
      "100%|██████████| 100/100 [00:51<00:00,  1.94it/s]\n",
      "100%|██████████| 100/100 [00:50<00:00,  1.97it/s]\n"
     ]
    },
    {
     "name": "stdout",
     "output_type": "stream",
     "text": [
      "\t38 model over 100\n"
     ]
    },
    {
     "name": "stderr",
     "output_type": "stream",
     "text": [
      "100%|██████████| 100/100 [00:51<00:00,  1.96it/s]\n",
      "100%|██████████| 100/100 [00:51<00:00,  1.93it/s]\n"
     ]
    },
    {
     "name": "stdout",
     "output_type": "stream",
     "text": [
      "\t39 model over 100\n"
     ]
    },
    {
     "name": "stderr",
     "output_type": "stream",
     "text": [
      "100%|██████████| 100/100 [00:51<00:00,  1.94it/s]\n",
      "100%|██████████| 100/100 [00:51<00:00,  1.94it/s]\n"
     ]
    },
    {
     "name": "stdout",
     "output_type": "stream",
     "text": [
      "\t40 model over 100\n"
     ]
    },
    {
     "name": "stderr",
     "output_type": "stream",
     "text": [
      "100%|██████████| 100/100 [00:51<00:00,  1.93it/s]\n",
      "100%|██████████| 100/100 [00:52<00:00,  1.92it/s]\n"
     ]
    },
    {
     "name": "stdout",
     "output_type": "stream",
     "text": [
      "\t41 model over 100\n"
     ]
    },
    {
     "name": "stderr",
     "output_type": "stream",
     "text": [
      "100%|██████████| 100/100 [00:51<00:00,  1.93it/s]\n",
      "100%|██████████| 100/100 [00:51<00:00,  1.95it/s]\n"
     ]
    },
    {
     "name": "stdout",
     "output_type": "stream",
     "text": [
      "\t42 model over 100\n"
     ]
    },
    {
     "name": "stderr",
     "output_type": "stream",
     "text": [
      "100%|██████████| 100/100 [00:51<00:00,  1.95it/s]\n",
      "100%|██████████| 100/100 [00:51<00:00,  1.93it/s]\n"
     ]
    },
    {
     "name": "stdout",
     "output_type": "stream",
     "text": [
      "\t43 model over 100\n"
     ]
    },
    {
     "name": "stderr",
     "output_type": "stream",
     "text": [
      "100%|██████████| 100/100 [00:51<00:00,  1.95it/s]\n",
      "100%|██████████| 100/100 [00:51<00:00,  1.93it/s]\n"
     ]
    },
    {
     "name": "stdout",
     "output_type": "stream",
     "text": [
      "\t44 model over 100\n"
     ]
    },
    {
     "name": "stderr",
     "output_type": "stream",
     "text": [
      "100%|██████████| 100/100 [00:51<00:00,  1.93it/s]\n",
      "100%|██████████| 100/100 [00:51<00:00,  1.95it/s]\n"
     ]
    },
    {
     "name": "stdout",
     "output_type": "stream",
     "text": [
      "\t45 model over 100\n"
     ]
    },
    {
     "name": "stderr",
     "output_type": "stream",
     "text": [
      "100%|██████████| 100/100 [00:51<00:00,  1.93it/s]\n",
      "100%|██████████| 100/100 [00:50<00:00,  1.99it/s]\n"
     ]
    },
    {
     "name": "stdout",
     "output_type": "stream",
     "text": [
      "\t46 model over 100\n"
     ]
    },
    {
     "name": "stderr",
     "output_type": "stream",
     "text": [
      "100%|██████████| 100/100 [00:51<00:00,  1.94it/s]\n",
      "100%|██████████| 100/100 [00:51<00:00,  1.95it/s]\n"
     ]
    },
    {
     "name": "stdout",
     "output_type": "stream",
     "text": [
      "\t47 model over 100\n"
     ]
    },
    {
     "name": "stderr",
     "output_type": "stream",
     "text": [
      "100%|██████████| 100/100 [00:52<00:00,  1.90it/s]\n",
      "100%|██████████| 100/100 [00:50<00:00,  1.97it/s]\n"
     ]
    },
    {
     "name": "stdout",
     "output_type": "stream",
     "text": [
      "\t48 model over 100\n"
     ]
    },
    {
     "name": "stderr",
     "output_type": "stream",
     "text": [
      "100%|██████████| 100/100 [00:50<00:00,  1.98it/s]\n",
      "100%|██████████| 100/100 [00:52<00:00,  1.89it/s]\n"
     ]
    },
    {
     "name": "stdout",
     "output_type": "stream",
     "text": [
      "\t49 model over 100\n"
     ]
    },
    {
     "name": "stderr",
     "output_type": "stream",
     "text": [
      "100%|██████████| 100/100 [00:51<00:00,  1.94it/s]\n",
      "100%|██████████| 100/100 [00:51<00:00,  1.93it/s]\n"
     ]
    },
    {
     "name": "stdout",
     "output_type": "stream",
     "text": [
      "\t50 model over 100\n"
     ]
    },
    {
     "name": "stderr",
     "output_type": "stream",
     "text": [
      "100%|██████████| 100/100 [00:51<00:00,  1.93it/s]\n",
      "100%|██████████| 100/100 [00:51<00:00,  1.94it/s]\n"
     ]
    },
    {
     "name": "stdout",
     "output_type": "stream",
     "text": [
      "\t51 model over 100\n"
     ]
    },
    {
     "name": "stderr",
     "output_type": "stream",
     "text": [
      "100%|██████████| 100/100 [00:51<00:00,  1.95it/s]\n",
      "100%|██████████| 100/100 [00:51<00:00,  1.95it/s]\n"
     ]
    },
    {
     "name": "stdout",
     "output_type": "stream",
     "text": [
      "\t52 model over 100\n"
     ]
    },
    {
     "name": "stderr",
     "output_type": "stream",
     "text": [
      "100%|██████████| 100/100 [00:51<00:00,  1.92it/s]\n",
      "100%|██████████| 100/100 [00:51<00:00,  1.94it/s]\n"
     ]
    },
    {
     "name": "stdout",
     "output_type": "stream",
     "text": [
      "\t53 model over 100\n"
     ]
    },
    {
     "name": "stderr",
     "output_type": "stream",
     "text": [
      "100%|██████████| 100/100 [00:51<00:00,  1.95it/s]\n",
      "100%|██████████| 100/100 [00:52<00:00,  1.91it/s]\n"
     ]
    },
    {
     "name": "stdout",
     "output_type": "stream",
     "text": [
      "\t54 model over 100\n"
     ]
    },
    {
     "name": "stderr",
     "output_type": "stream",
     "text": [
      "100%|██████████| 100/100 [00:53<00:00,  1.88it/s]\n",
      "100%|██████████| 100/100 [00:51<00:00,  1.95it/s]\n"
     ]
    },
    {
     "name": "stdout",
     "output_type": "stream",
     "text": [
      "\t55 model over 100\n"
     ]
    },
    {
     "name": "stderr",
     "output_type": "stream",
     "text": [
      "100%|██████████| 100/100 [00:51<00:00,  1.95it/s]\n",
      "100%|██████████| 100/100 [00:52<00:00,  1.92it/s]\n"
     ]
    },
    {
     "name": "stdout",
     "output_type": "stream",
     "text": [
      "\t56 model over 100\n"
     ]
    },
    {
     "name": "stderr",
     "output_type": "stream",
     "text": [
      "100%|██████████| 100/100 [00:50<00:00,  1.97it/s]\n",
      "100%|██████████| 100/100 [00:51<00:00,  1.93it/s]\n"
     ]
    },
    {
     "name": "stdout",
     "output_type": "stream",
     "text": [
      "\t57 model over 100\n"
     ]
    },
    {
     "name": "stderr",
     "output_type": "stream",
     "text": [
      "100%|██████████| 100/100 [00:51<00:00,  1.94it/s]\n",
      "100%|██████████| 100/100 [00:51<00:00,  1.93it/s]\n"
     ]
    },
    {
     "name": "stdout",
     "output_type": "stream",
     "text": [
      "\t58 model over 100\n"
     ]
    },
    {
     "name": "stderr",
     "output_type": "stream",
     "text": [
      "100%|██████████| 100/100 [00:52<00:00,  1.92it/s]\n",
      "100%|██████████| 100/100 [00:51<00:00,  1.95it/s]\n"
     ]
    },
    {
     "name": "stdout",
     "output_type": "stream",
     "text": [
      "\t59 model over 100\n"
     ]
    },
    {
     "name": "stderr",
     "output_type": "stream",
     "text": [
      "100%|██████████| 100/100 [00:52<00:00,  1.92it/s]\n",
      "100%|██████████| 100/100 [00:51<00:00,  1.94it/s]\n"
     ]
    },
    {
     "name": "stdout",
     "output_type": "stream",
     "text": [
      "\t60 model over 100\n"
     ]
    },
    {
     "name": "stderr",
     "output_type": "stream",
     "text": [
      "100%|██████████| 100/100 [00:51<00:00,  1.95it/s]\n",
      "100%|██████████| 100/100 [00:51<00:00,  1.94it/s]\n"
     ]
    },
    {
     "name": "stdout",
     "output_type": "stream",
     "text": [
      "\t61 model over 100\n"
     ]
    },
    {
     "name": "stderr",
     "output_type": "stream",
     "text": [
      "100%|██████████| 100/100 [00:51<00:00,  1.95it/s]\n",
      "100%|██████████| 100/100 [00:51<00:00,  1.96it/s]\n"
     ]
    },
    {
     "name": "stdout",
     "output_type": "stream",
     "text": [
      "\t62 model over 100\n"
     ]
    },
    {
     "name": "stderr",
     "output_type": "stream",
     "text": [
      "100%|██████████| 100/100 [00:52<00:00,  1.91it/s]\n",
      "100%|██████████| 100/100 [00:51<00:00,  1.95it/s]\n"
     ]
    },
    {
     "name": "stdout",
     "output_type": "stream",
     "text": [
      "\t63 model over 100\n"
     ]
    },
    {
     "name": "stderr",
     "output_type": "stream",
     "text": [
      "100%|██████████| 100/100 [00:51<00:00,  1.92it/s]\n",
      "100%|██████████| 100/100 [00:51<00:00,  1.93it/s]\n"
     ]
    },
    {
     "name": "stdout",
     "output_type": "stream",
     "text": [
      "\t64 model over 100\n"
     ]
    },
    {
     "name": "stderr",
     "output_type": "stream",
     "text": [
      "100%|██████████| 100/100 [00:51<00:00,  1.94it/s]\n",
      "100%|██████████| 100/100 [00:51<00:00,  1.95it/s]\n"
     ]
    },
    {
     "name": "stdout",
     "output_type": "stream",
     "text": [
      "\t65 model over 100\n"
     ]
    },
    {
     "name": "stderr",
     "output_type": "stream",
     "text": [
      "100%|██████████| 100/100 [00:51<00:00,  1.93it/s]\n",
      "100%|██████████| 100/100 [00:52<00:00,  1.90it/s]\n"
     ]
    },
    {
     "name": "stdout",
     "output_type": "stream",
     "text": [
      "\t66 model over 100\n"
     ]
    },
    {
     "name": "stderr",
     "output_type": "stream",
     "text": [
      "100%|██████████| 100/100 [00:52<00:00,  1.91it/s]\n",
      "100%|██████████| 100/100 [00:51<00:00,  1.95it/s]\n"
     ]
    },
    {
     "name": "stdout",
     "output_type": "stream",
     "text": [
      "\t67 model over 100\n"
     ]
    },
    {
     "name": "stderr",
     "output_type": "stream",
     "text": [
      "100%|██████████| 100/100 [00:52<00:00,  1.91it/s]\n",
      "100%|██████████| 100/100 [00:51<00:00,  1.94it/s]\n"
     ]
    },
    {
     "name": "stdout",
     "output_type": "stream",
     "text": [
      "\t68 model over 100\n"
     ]
    },
    {
     "name": "stderr",
     "output_type": "stream",
     "text": [
      "100%|██████████| 100/100 [00:51<00:00,  1.95it/s]\n",
      "100%|██████████| 100/100 [00:50<00:00,  1.96it/s]\n"
     ]
    },
    {
     "name": "stdout",
     "output_type": "stream",
     "text": [
      "\t69 model over 100\n"
     ]
    },
    {
     "name": "stderr",
     "output_type": "stream",
     "text": [
      "100%|██████████| 100/100 [00:51<00:00,  1.95it/s]\n",
      "100%|██████████| 100/100 [00:52<00:00,  1.92it/s]\n"
     ]
    },
    {
     "name": "stdout",
     "output_type": "stream",
     "text": [
      "\t70 model over 100\n"
     ]
    },
    {
     "name": "stderr",
     "output_type": "stream",
     "text": [
      "100%|██████████| 100/100 [00:51<00:00,  1.95it/s]\n",
      "100%|██████████| 100/100 [00:52<00:00,  1.90it/s]\n"
     ]
    },
    {
     "name": "stdout",
     "output_type": "stream",
     "text": [
      "\t71 model over 100\n"
     ]
    },
    {
     "name": "stderr",
     "output_type": "stream",
     "text": [
      "100%|██████████| 100/100 [00:51<00:00,  1.96it/s]\n",
      "100%|██████████| 100/100 [00:51<00:00,  1.94it/s]\n"
     ]
    },
    {
     "name": "stdout",
     "output_type": "stream",
     "text": [
      "\t72 model over 100\n"
     ]
    },
    {
     "name": "stderr",
     "output_type": "stream",
     "text": [
      "100%|██████████| 100/100 [00:50<00:00,  1.96it/s]\n",
      "100%|██████████| 100/100 [00:52<00:00,  1.92it/s]\n"
     ]
    },
    {
     "name": "stdout",
     "output_type": "stream",
     "text": [
      "\t73 model over 100\n"
     ]
    },
    {
     "name": "stderr",
     "output_type": "stream",
     "text": [
      "100%|██████████| 100/100 [00:52<00:00,  1.91it/s]\n",
      "100%|██████████| 100/100 [00:51<00:00,  1.93it/s]\n"
     ]
    },
    {
     "name": "stdout",
     "output_type": "stream",
     "text": [
      "\t74 model over 100\n"
     ]
    },
    {
     "name": "stderr",
     "output_type": "stream",
     "text": [
      "100%|██████████| 100/100 [00:52<00:00,  1.91it/s]\n",
      "100%|██████████| 100/100 [00:52<00:00,  1.91it/s]\n"
     ]
    },
    {
     "name": "stdout",
     "output_type": "stream",
     "text": [
      "\t75 model over 100\n"
     ]
    },
    {
     "name": "stderr",
     "output_type": "stream",
     "text": [
      "100%|██████████| 100/100 [00:51<00:00,  1.94it/s]\n",
      "100%|██████████| 100/100 [00:51<00:00,  1.95it/s]\n"
     ]
    },
    {
     "name": "stdout",
     "output_type": "stream",
     "text": [
      "\t76 model over 100\n"
     ]
    },
    {
     "name": "stderr",
     "output_type": "stream",
     "text": [
      "100%|██████████| 100/100 [00:51<00:00,  1.96it/s]\n",
      "100%|██████████| 100/100 [00:52<00:00,  1.90it/s]\n"
     ]
    },
    {
     "name": "stdout",
     "output_type": "stream",
     "text": [
      "\t77 model over 100\n"
     ]
    },
    {
     "name": "stderr",
     "output_type": "stream",
     "text": [
      "100%|██████████| 100/100 [00:52<00:00,  1.92it/s]\n",
      "100%|██████████| 100/100 [00:51<00:00,  1.94it/s]\n"
     ]
    },
    {
     "name": "stdout",
     "output_type": "stream",
     "text": [
      "\t78 model over 100\n"
     ]
    },
    {
     "name": "stderr",
     "output_type": "stream",
     "text": [
      "100%|██████████| 100/100 [00:51<00:00,  1.93it/s]\n",
      "100%|██████████| 100/100 [00:51<00:00,  1.95it/s]\n"
     ]
    },
    {
     "name": "stdout",
     "output_type": "stream",
     "text": [
      "\t79 model over 100\n"
     ]
    },
    {
     "name": "stderr",
     "output_type": "stream",
     "text": [
      "100%|██████████| 100/100 [00:51<00:00,  1.93it/s]\n",
      "100%|██████████| 100/100 [00:52<00:00,  1.91it/s]\n"
     ]
    },
    {
     "name": "stdout",
     "output_type": "stream",
     "text": [
      "\t80 model over 100\n"
     ]
    },
    {
     "name": "stderr",
     "output_type": "stream",
     "text": [
      "100%|██████████| 100/100 [00:51<00:00,  1.95it/s]\n",
      "100%|██████████| 100/100 [00:51<00:00,  1.95it/s]\n"
     ]
    },
    {
     "name": "stdout",
     "output_type": "stream",
     "text": [
      "\t81 model over 100\n"
     ]
    },
    {
     "name": "stderr",
     "output_type": "stream",
     "text": [
      "100%|██████████| 100/100 [00:52<00:00,  1.90it/s]\n",
      "100%|██████████| 100/100 [00:51<00:00,  1.94it/s]\n"
     ]
    },
    {
     "name": "stdout",
     "output_type": "stream",
     "text": [
      "\t82 model over 100\n"
     ]
    },
    {
     "name": "stderr",
     "output_type": "stream",
     "text": [
      "100%|██████████| 100/100 [00:51<00:00,  1.94it/s]\n",
      "100%|██████████| 100/100 [00:51<00:00,  1.94it/s]\n"
     ]
    },
    {
     "name": "stdout",
     "output_type": "stream",
     "text": [
      "\t83 model over 100\n"
     ]
    },
    {
     "name": "stderr",
     "output_type": "stream",
     "text": [
      "100%|██████████| 100/100 [00:50<00:00,  1.96it/s]\n",
      "100%|██████████| 100/100 [00:52<00:00,  1.90it/s]\n"
     ]
    },
    {
     "name": "stdout",
     "output_type": "stream",
     "text": [
      "\t84 model over 100\n"
     ]
    },
    {
     "name": "stderr",
     "output_type": "stream",
     "text": [
      "100%|██████████| 100/100 [00:55<00:00,  1.81it/s]\n",
      "100%|██████████| 100/100 [00:51<00:00,  1.95it/s]\n"
     ]
    },
    {
     "name": "stdout",
     "output_type": "stream",
     "text": [
      "\t85 model over 100\n"
     ]
    },
    {
     "name": "stderr",
     "output_type": "stream",
     "text": [
      "100%|██████████| 100/100 [00:51<00:00,  1.93it/s]\n",
      "100%|██████████| 100/100 [00:50<00:00,  1.97it/s]\n"
     ]
    },
    {
     "name": "stdout",
     "output_type": "stream",
     "text": [
      "\t86 model over 100\n"
     ]
    },
    {
     "name": "stderr",
     "output_type": "stream",
     "text": [
      "100%|██████████| 100/100 [00:51<00:00,  1.96it/s]\n",
      "100%|██████████| 100/100 [00:51<00:00,  1.93it/s]\n"
     ]
    },
    {
     "name": "stdout",
     "output_type": "stream",
     "text": [
      "\t87 model over 100\n"
     ]
    },
    {
     "name": "stderr",
     "output_type": "stream",
     "text": [
      "100%|██████████| 100/100 [00:51<00:00,  1.93it/s]\n",
      "100%|██████████| 100/100 [00:51<00:00,  1.95it/s]\n"
     ]
    },
    {
     "name": "stdout",
     "output_type": "stream",
     "text": [
      "\t88 model over 100\n"
     ]
    },
    {
     "name": "stderr",
     "output_type": "stream",
     "text": [
      "100%|██████████| 100/100 [00:51<00:00,  1.93it/s]\n",
      "100%|██████████| 100/100 [00:50<00:00,  1.99it/s]\n"
     ]
    },
    {
     "name": "stdout",
     "output_type": "stream",
     "text": [
      "\t89 model over 100\n"
     ]
    },
    {
     "name": "stderr",
     "output_type": "stream",
     "text": [
      "100%|██████████| 100/100 [00:49<00:00,  2.00it/s]\n",
      "100%|██████████| 100/100 [00:49<00:00,  2.02it/s]\n"
     ]
    },
    {
     "name": "stdout",
     "output_type": "stream",
     "text": [
      "\t90 model over 100\n"
     ]
    },
    {
     "name": "stderr",
     "output_type": "stream",
     "text": [
      "100%|██████████| 100/100 [00:50<00:00,  1.98it/s]\n",
      "100%|██████████| 100/100 [00:50<00:00,  1.98it/s]\n"
     ]
    },
    {
     "name": "stdout",
     "output_type": "stream",
     "text": [
      "\t91 model over 100\n"
     ]
    },
    {
     "name": "stderr",
     "output_type": "stream",
     "text": [
      "100%|██████████| 100/100 [00:50<00:00,  1.96it/s]\n",
      "100%|██████████| 100/100 [00:50<00:00,  1.98it/s]\n"
     ]
    },
    {
     "name": "stdout",
     "output_type": "stream",
     "text": [
      "\t92 model over 100\n"
     ]
    },
    {
     "name": "stderr",
     "output_type": "stream",
     "text": [
      "100%|██████████| 100/100 [00:50<00:00,  2.00it/s]\n",
      "100%|██████████| 100/100 [00:51<00:00,  1.96it/s]\n"
     ]
    },
    {
     "name": "stdout",
     "output_type": "stream",
     "text": [
      "\t93 model over 100\n"
     ]
    },
    {
     "name": "stderr",
     "output_type": "stream",
     "text": [
      "100%|██████████| 100/100 [00:50<00:00,  1.99it/s]\n",
      "100%|██████████| 100/100 [00:50<00:00,  1.99it/s]\n"
     ]
    },
    {
     "name": "stdout",
     "output_type": "stream",
     "text": [
      "\t94 model over 100\n"
     ]
    },
    {
     "name": "stderr",
     "output_type": "stream",
     "text": [
      "100%|██████████| 100/100 [00:51<00:00,  1.94it/s]\n",
      "100%|██████████| 100/100 [00:51<00:00,  1.95it/s]\n"
     ]
    },
    {
     "name": "stdout",
     "output_type": "stream",
     "text": [
      "\t95 model over 100\n"
     ]
    },
    {
     "name": "stderr",
     "output_type": "stream",
     "text": [
      "100%|██████████| 100/100 [00:50<00:00,  1.97it/s]\n",
      "100%|██████████| 100/100 [00:50<00:00,  1.97it/s]\n"
     ]
    },
    {
     "name": "stdout",
     "output_type": "stream",
     "text": [
      "\t96 model over 100\n"
     ]
    },
    {
     "name": "stderr",
     "output_type": "stream",
     "text": [
      "100%|██████████| 100/100 [00:50<00:00,  1.98it/s]\n",
      "100%|██████████| 100/100 [00:51<00:00,  1.95it/s]\n"
     ]
    },
    {
     "name": "stdout",
     "output_type": "stream",
     "text": [
      "\t97 model over 100\n"
     ]
    },
    {
     "name": "stderr",
     "output_type": "stream",
     "text": [
      "100%|██████████| 100/100 [00:51<00:00,  1.95it/s]\n",
      "100%|██████████| 100/100 [00:50<00:00,  1.98it/s]\n"
     ]
    },
    {
     "name": "stdout",
     "output_type": "stream",
     "text": [
      "\t98 model over 100\n"
     ]
    },
    {
     "name": "stderr",
     "output_type": "stream",
     "text": [
      "100%|██████████| 100/100 [00:51<00:00,  1.96it/s]\n",
      "100%|██████████| 100/100 [00:50<00:00,  1.97it/s]\n"
     ]
    },
    {
     "name": "stdout",
     "output_type": "stream",
     "text": [
      "\t99 model over 100\n"
     ]
    },
    {
     "name": "stderr",
     "output_type": "stream",
     "text": [
      "100%|██████████| 100/100 [00:51<00:00,  1.95it/s]\n",
      "100%|██████████| 100/100 [00:50<00:00,  1.97it/s]\n"
     ]
    },
    {
     "name": "stdout",
     "output_type": "stream",
     "text": [
      "\t100 model over 100\n"
     ]
    },
    {
     "name": "stderr",
     "output_type": "stream",
     "text": [
      "100%|██████████| 100/100 [00:51<00:00,  1.96it/s]\n",
      "100%|██████████| 100/100 [00:50<00:00,  1.96it/s]\n"
     ]
    }
   ],
   "source": [
    "results=run_benchmark(benchmark, subjudgments)"
   ]
  },
  {
   "cell_type": "code",
   "execution_count": null,
   "metadata": {
    "id": "gcgTdaKyhPq1"
   },
   "outputs": [],
   "source": [
    "best={'MRR@': {K: {model_name:None for model_name in benchmark} for K in at_Ks},\n",
    "      'MAP':  {model_name: None for model_name in benchmark}\n",
    "     }\n",
    "\n",
    "for model_name in benchmark:\n",
    "    # sort models with respect to each metric\n",
    "    models=benchmark[model_name][\"model\"]\n",
    "    # print(len(models))\n",
    "    for K in at_Ks:\n",
    "        MRRAtKs=benchmark[model_name][\"MRR@\"][K]\n",
    "        # print(MRRAtKs)\n",
    "        best_model, bestMRRAtK=models[0], MRRAtKs[0]\n",
    "        for pos,model in enumerate(models[1:]):\n",
    "            if MRRAtKs[pos]>bestMRRAtK:\n",
    "                best_model, bestMRRAtK=models[pos], MRRAtKs[pos]\n",
    "        best[\"MRR@\"][K][model_name]=(best_model, bestMRRAtK)\n",
    "    MAPs=benchmark[model_name][\"MAP\"]\n",
    "    best_model, bestMAP=models[0], MAPs[0]\n",
    "    for pos, model in enumerate(models[1:]):\n",
    "        if MAPs[pos]>bestMAP:\n",
    "            best_model, bestMAP=models[pos], MAPs[pos]\n",
    "    best[\"MAP\"][model_name]=best_model, bestMAP"
   ]
  },
  {
   "cell_type": "code",
   "execution_count": null,
   "metadata": {
    "colab": {
     "base_uri": "https://localhost:8080/"
    },
    "id": "hC_SqW-tg6YX",
    "outputId": "ee2b7518-4724-4c4b-d0ca-05089f16ede5"
   },
   "outputs": [
    {
     "name": "stdout",
     "output_type": "stream",
     "text": [
      "Best vsm model has MRR@10=0.308\n",
      "Best bim model has MRR@10=0.264\n",
      "Best query_likelihood model has MRR@10=0.0\n",
      "Best w2vsm model has MRR@10=0.225\n",
      "Best lsi model has MRR@10=0.005\n",
      "Best two_poisson model has MRR@10=0.34\n",
      "Best bm11 model has MRR@10=0.347\n",
      "Best bm25 model has MRR@10=0.358\n",
      "\n",
      "\n",
      "Best vsm model has MAP=0.57\n",
      "Best bim model has MAP=0.554\n",
      "Best query_likelihood model has MAP=0.002\n",
      "Best w2vsm model has MAP=0.356\n",
      "Best lsi model has MAP=0.009\n",
      "Best two_poisson model has MAP=0.555\n",
      "Best bm11 model has MAP=0.571\n",
      "Best bm25 model has MAP=0.572\n"
     ]
    }
   ],
   "source": [
    "for K in best[\"MRR@\"]:\n",
    "  for model_name in best[\"MRR@\"][K]: \n",
    "    print(f\"Best {model_name} model has MRR@{K}={round(best['MRR@'][K][model_name][1],3)}\")\n",
    "print('\\n')\n",
    "for model_name in best[\"MAP\"]: \n",
    " print(f\"Best {model_name} model has MAP={round(best['MAP'][model_name][1],3)}\")"
   ]
  },
  {
   "cell_type": "code",
   "execution_count": null,
   "metadata": {
    "colab": {
     "base_uri": "https://localhost:8080/"
    },
    "id": "2wygHyOnkFge",
    "outputId": "d55ce8ed-4b14-400f-fb8d-b5f60a31fd09"
   },
   "outputs": [
    {
     "name": "stdout",
     "output_type": "stream",
     "text": [
      "Best model with respect to MRR@10 is bim_extension_k=2.0_b=0.65 with score 0.35816269841269827\n",
      "\n",
      "Best model with respect to MAP is bim_extension_k=1.0_b=0.75 with score 0.5720238095238096\n",
      "\n"
     ]
    }
   ],
   "source": [
    "for K in best[\"MRR@\"]:\n",
    "    best_model=sorted(best[\"MRR@\"][K].items(),key=lambda item: item[1][1], reverse=True)[0]\n",
    "    print(f\"Best model with respect to MRR@{K} is {best_model[1][0].name} with score {best_model[1][1]}\\n\")\n",
    "\n",
    "best_model=sorted(best[\"MAP\"].items(),key=lambda item: item[1][1], reverse=True)[0]\n",
    "print(f\"Best model with respect to MAP is {best_model[1][0].name} with score {best_model[1][1]}\\n\")"
   ]
  },
  {
   "cell_type": "code",
   "execution_count": null,
   "metadata": {
    "id": "YN-CU0xEvNFI"
   },
   "outputs": [],
   "source": [
    "#  del tfreqs; del idfs; del unigram_model; del doc2vec; del doc_kmeans; del svd_mats; del WD; del wtoi; del dtoi; del w2v"
   ]
  },
  {
   "cell_type": "markdown",
   "metadata": {
    "id": "fab2Has0QCsp"
   },
   "source": [
    "## Deep Learning models\n",
    "### DistilBERT\n",
    "#### Training\n",
    "\n",
    "\n",
    "We will train and evaluate two models: one that does binary classification to predict if a document is labeled \"is_selected\" (i.e. the most relevant documents for the query, selected by a human assessor), and one that is trained for multilabel classification between non-relevant, relevant and selected documents.\n",
    "\n",
    "We use DistilBERT since it is faster and requires less resources to train than BERT (with similar performance according to its paper). The input of the model is the concatenation of a given query and a given document (tokenized) as in J. Devlin et al. 2018 (https://arxiv.org/abs/1810.04805).\n",
    "\n",
    "We start by training the first model.\n",
    "\n",
    "Note that here we use the terms document and passage interchangeably because we used the passage retrieval dataset to train the model faster, but in practice we could also use full length documents, or split them into passages and train the model on the passages."
   ]
  },
  {
   "cell_type": "code",
   "execution_count": 10,
   "metadata": {
    "colab": {
     "base_uri": "https://localhost:8080/",
     "height": 66,
     "referenced_widgets": [
      "a33e2f120add40bb8f1e3fef0af9a0c3",
      "c5b8b74eae7b43a8a02c6e45de56ce19",
      "8e42d679bee844a380688c7d0052a002",
      "3647e075e01a44cc919b1caf99c69611",
      "85f879f2e3834baf9d63dbba0b35b9c4",
      "c2917f6ef7f84564894fd532b3826a95",
      "0e03cbdfc3284cf19bb6cba12b895c19",
      "d131112e255f4218ad37be6c4ae65d1a",
      "49d280df40a54e20ade085c9f84140bc",
      "08309f46c7ba46cc832b651c3fae3626",
      "a273ebbcca584748ac47639e7fcd4424"
     ]
    },
    "id": "_kP2uSfXQMcP",
    "outputId": "fd21ef05-2724-4c92-9d53-ae65df82630a"
   },
   "outputs": [
    {
     "name": "stderr",
     "output_type": "stream",
     "text": [
      "Reusing dataset ms_marco (/root/.cache/huggingface/datasets/ms_marco/v1.1/1.1.0/b6a62715fa5219aea5275dd3556601004cd63945cb63e36e022f77bb3cbbca84)\n"
     ]
    },
    {
     "data": {
      "application/vnd.jupyter.widget-view+json": {
       "model_id": "a33e2f120add40bb8f1e3fef0af9a0c3",
       "version_major": 2,
       "version_minor": 0
      },
      "text/plain": [
       "  0%|          | 0/3 [00:00<?, ?it/s]"
      ]
     },
     "metadata": {},
     "output_type": "display_data"
    }
   ],
   "source": [
    "dataset = load_dataset('ms_marco', 'v1.1')\n",
    "df = dataset[\"train\"].to_pandas()"
   ]
  },
  {
   "cell_type": "code",
   "execution_count": 12,
   "metadata": {
    "id": "2dXEy-1RRGp7"
   },
   "outputs": [],
   "source": [
    "# Create tokenizer\n",
    "tokenizer = DistilBertTokenizer.from_pretrained(\"distilbert-base-uncased\", use_fast=True)"
   ]
  },
  {
   "cell_type": "code",
   "execution_count": 13,
   "metadata": {
    "colab": {
     "base_uri": "https://localhost:8080/",
     "height": 49,
     "referenced_widgets": [
      "572dee5be8224e2388f977fb50b985be",
      "a3981d4c0646400a9229d48255a974bc",
      "1444dd9a059e4c76954e3848f428839c",
      "1d636b99aee94c269b16084c20e427cf",
      "18af118122f649e2a574b2c43634f54d",
      "5bd5ace3dfa84d0597d62d0bbfd94b52",
      "fcdc3d4e5ce44b9b9f1477084e5f7fb1",
      "a629d54c92614a2081ee5e15b249d51a",
      "5cb182159fe34913b223f5f414e736bb",
      "0a88bd52cc4e4d36badaf06273a9654d",
      "b09f6a5af72e4cb7923bd1c6e81b035f"
     ]
    },
    "id": "_kdTfve8R90N",
    "outputId": "b02bf3fa-31da-4bac-d135-ef3abb06c7dd"
   },
   "outputs": [
    {
     "data": {
      "application/vnd.jupyter.widget-view+json": {
       "model_id": "572dee5be8224e2388f977fb50b985be",
       "version_major": 2,
       "version_minor": 0
      },
      "text/plain": [
       "  0%|          | 0/82326 [00:00<?, ?it/s]"
      ]
     },
     "metadata": {},
     "output_type": "display_data"
    }
   ],
   "source": [
    "# Construct model inputs (tokenize and concatenate query and passage)\n",
    "l_input_ids, l_attention_mask, l_selected = [],[],[]\n",
    "for i in tqdm(range(len(df))):\n",
    "    l_selected = l_selected + list(df[\"passages\"][i][\"is_selected\"])\n",
    "    q = df[\"query\"].iloc[i]\n",
    "    q = tokenizer(q, max_length=64, truncation=True)\n",
    "    q_len = len(q['input_ids'])\n",
    "    for j in range(len(df[\"passages\"][i][\"is_selected\"])):\n",
    "        p = df[\"passages\"][i][\"passage_text\"][j]\n",
    "        p = tokenizer(p, max_length=512-q_len+1, padding=\"max_length\", truncation=True)\n",
    "        # remove the extra [CLS] token\n",
    "        p['input_ids'] = p['input_ids'][1:]\n",
    "        p['attention_mask'] = p['attention_mask'][1:]\n",
    "        # merge\n",
    "        l_input_ids.append(q['input_ids']+p['input_ids'])\n",
    "        l_attention_mask.append(q['attention_mask']+p['attention_mask'])"
   ]
  },
  {
   "cell_type": "code",
   "execution_count": null,
   "metadata": {
    "id": "fIBhrcUeTAd-"
   },
   "outputs": [],
   "source": [
    "# create dataloaders\n",
    "dataset_df = pd.DataFrame(list(zip(l_input_ids, l_attention_mask, l_selected)), columns=[\"input_ids\", \"attention_mask\", \"labels\"])\n",
    "train_dataset = datasets.Dataset.from_pandas(dataset_df)\n",
    "eval_dataset = train_dataset.shuffle(seed=42).select(range(10000))\n",
    "train_dataset = train_dataset.shuffle(seed=42).select(range(10000,len(train_dataset)))\n",
    "train_dataloader = DataLoader(train_dataset, shuffle=True, batch_size=16)\n",
    "eval_dataloader = DataLoader(eval_dataset, batch_size=16)"
   ]
  },
  {
   "cell_type": "code",
   "execution_count": null,
   "metadata": {
    "id": "PvvnBy2WTbIW"
   },
   "outputs": [],
   "source": [
    "# define model and optimizer\n",
    "model = DistilBertForSequenceClassification.from_pretrained(\"distilbert-base-uncased\", num_labels=3)\n",
    "model.to(device)\n",
    "optimizer = Adam(model.parameters(), lr=1e-5)\n",
    "num_epochs = 2\n",
    "num_training_steps = num_epochs * len(train_dataloader)\n",
    "lr_scheduler = get_scheduler(\n",
    "    name=\"linear\", optimizer=optimizer, num_warmup_steps=3000, num_training_steps=num_training_steps\n",
    ")"
   ]
  },
  {
   "cell_type": "code",
   "execution_count": 24,
   "metadata": {
    "collapsed": true,
    "jupyter": {
     "outputs_hidden": true
    },
    "tags": []
   },
   "outputs": [
    {
     "data": {
      "application/vnd.jupyter.widget-view+json": {
       "model_id": "daf80282eebf464ea9592959edd4789a",
       "version_major": 2,
       "version_minor": 0
      },
      "text/plain": [
       "  0%|          | 0/41638 [00:00<?, ?it/s]"
      ]
     },
     "metadata": {},
     "output_type": "display_data"
    },
    {
     "name": "stdout",
     "output_type": "stream",
     "text": [
      "epoch 1\n"
     ]
    },
    {
     "data": {
      "application/vnd.jupyter.widget-view+json": {
       "model_id": "60637b668d494eb7a6bd615c76a16cd4",
       "version_major": 2,
       "version_minor": 0
      },
      "text/plain": [
       "evaluating:   0%|          | 0/625 [00:00<?, ?it/s]"
      ]
     },
     "metadata": {},
     "output_type": "display_data"
    },
    {
     "name": "stdout",
     "output_type": "stream",
     "text": [
      "{'accuracy': 0.4465}\n",
      "0.5707088074306691\n"
     ]
    },
    {
     "data": {
      "application/vnd.jupyter.widget-view+json": {
       "model_id": "0e0c1ea118464574a90f33c12042c79c",
       "version_major": 2,
       "version_minor": 0
      },
      "text/plain": [
       "evaluating:   0%|          | 0/625 [00:00<?, ?it/s]"
      ]
     },
     "metadata": {},
     "output_type": "display_data"
    },
    {
     "name": "stdout",
     "output_type": "stream",
     "text": [
      "{'accuracy': 0.5513}\n",
      "0.5812298145169527\n"
     ]
    },
    {
     "data": {
      "application/vnd.jupyter.widget-view+json": {
       "model_id": "fe1cf1e3b4164be3ba697daf52650839",
       "version_major": 2,
       "version_minor": 0
      },
      "text/plain": [
       "evaluating:   0%|          | 0/625 [00:00<?, ?it/s]"
      ]
     },
     "metadata": {},
     "output_type": "display_data"
    },
    {
     "name": "stdout",
     "output_type": "stream",
     "text": [
      "{'accuracy': 0.6634}\n",
      "0.6084428952064043\n"
     ]
    },
    {
     "data": {
      "application/vnd.jupyter.widget-view+json": {
       "model_id": "4b22076e9f1840c181fb7947a959751e",
       "version_major": 2,
       "version_minor": 0
      },
      "text/plain": [
       "evaluating:   0%|          | 0/625 [00:00<?, ?it/s]"
      ]
     },
     "metadata": {},
     "output_type": "display_data"
    },
    {
     "name": "stdout",
     "output_type": "stream",
     "text": [
      "{'accuracy': 0.7295}\n",
      "0.6370060185894382\n"
     ]
    },
    {
     "data": {
      "application/vnd.jupyter.widget-view+json": {
       "model_id": "c8e241a9981e4347b038bae17f9e56d0",
       "version_major": 2,
       "version_minor": 0
      },
      "text/plain": [
       "evaluating:   0%|          | 0/625 [00:00<?, ?it/s]"
      ]
     },
     "metadata": {},
     "output_type": "display_data"
    },
    {
     "name": "stdout",
     "output_type": "stream",
     "text": [
      "{'accuracy': 0.6365}\n",
      "0.6450952378926108\n"
     ]
    },
    {
     "data": {
      "application/vnd.jupyter.widget-view+json": {
       "model_id": "4679c4134c5b41eead916bbc8f675864",
       "version_major": 2,
       "version_minor": 0
      },
      "text/plain": [
       "evaluating:   0%|          | 0/625 [00:00<?, ?it/s]"
      ]
     },
     "metadata": {},
     "output_type": "display_data"
    },
    {
     "name": "stdout",
     "output_type": "stream",
     "text": [
      "{'accuracy': 0.5325}\n",
      "0.6595436378761574\n"
     ]
    },
    {
     "data": {
      "application/vnd.jupyter.widget-view+json": {
       "model_id": "406c137b1f9e488481726ac0d950788d",
       "version_major": 2,
       "version_minor": 0
      },
      "text/plain": [
       "evaluating:   0%|          | 0/625 [00:00<?, ?it/s]"
      ]
     },
     "metadata": {},
     "output_type": "display_data"
    },
    {
     "name": "stdout",
     "output_type": "stream",
     "text": [
      "{'accuracy': 0.6297}\n",
      "0.6667769022756672\n"
     ]
    },
    {
     "data": {
      "application/vnd.jupyter.widget-view+json": {
       "model_id": "b33ba69e9e964ebfb9752201db464059",
       "version_major": 2,
       "version_minor": 0
      },
      "text/plain": [
       "evaluating:   0%|          | 0/625 [00:00<?, ?it/s]"
      ]
     },
     "metadata": {},
     "output_type": "display_data"
    },
    {
     "name": "stdout",
     "output_type": "stream",
     "text": [
      "{'accuracy': 0.603}\n",
      "0.6743073196798973\n"
     ]
    },
    {
     "data": {
      "application/vnd.jupyter.widget-view+json": {
       "model_id": "80e6cb924709448ca667b310fc5d7836",
       "version_major": 2,
       "version_minor": 0
      },
      "text/plain": [
       "evaluating:   0%|          | 0/625 [00:00<?, ?it/s]"
      ]
     },
     "metadata": {},
     "output_type": "display_data"
    },
    {
     "name": "stdout",
     "output_type": "stream",
     "text": [
      "{'accuracy': 0.6383}\n",
      "0.668584642154026\n"
     ]
    },
    {
     "data": {
      "application/vnd.jupyter.widget-view+json": {
       "model_id": "c8e0ec55d2914fe996410f05211a4631",
       "version_major": 2,
       "version_minor": 0
      },
      "text/plain": [
       "evaluating:   0%|          | 0/625 [00:00<?, ?it/s]"
      ]
     },
     "metadata": {},
     "output_type": "display_data"
    },
    {
     "name": "stdout",
     "output_type": "stream",
     "text": [
      "{'accuracy': 0.5922}\n",
      "0.6869461624710649\n"
     ]
    },
    {
     "data": {
      "application/vnd.jupyter.widget-view+json": {
       "model_id": "a572f075c91a4c088d908a331285b3ca",
       "version_major": 2,
       "version_minor": 0
      },
      "text/plain": [
       "evaluating:   0%|          | 0/625 [00:00<?, ?it/s]"
      ]
     },
     "metadata": {},
     "output_type": "display_data"
    },
    {
     "name": "stdout",
     "output_type": "stream",
     "text": [
      "{'accuracy': 0.6816}\n",
      "0.6884801528033089\n"
     ]
    },
    {
     "data": {
      "application/vnd.jupyter.widget-view+json": {
       "model_id": "737186a344cd42cb9373b2f4a0d25d27",
       "version_major": 2,
       "version_minor": 0
      },
      "text/plain": [
       "evaluating:   0%|          | 0/625 [00:00<?, ?it/s]"
      ]
     },
     "metadata": {},
     "output_type": "display_data"
    },
    {
     "name": "stdout",
     "output_type": "stream",
     "text": [
      "{'accuracy': 0.6695}\n",
      "0.684426877666576\n"
     ]
    },
    {
     "data": {
      "application/vnd.jupyter.widget-view+json": {
       "model_id": "48153d3a308f414fbd653d268b420b4a",
       "version_major": 2,
       "version_minor": 0
      },
      "text/plain": [
       "evaluating:   0%|          | 0/625 [00:00<?, ?it/s]"
      ]
     },
     "metadata": {},
     "output_type": "display_data"
    },
    {
     "name": "stdout",
     "output_type": "stream",
     "text": [
      "{'accuracy': 0.6538}\n",
      "0.7055452633527369\n"
     ]
    },
    {
     "data": {
      "application/vnd.jupyter.widget-view+json": {
       "model_id": "768dc9a67da24e2ba485f8df71408c8c",
       "version_major": 2,
       "version_minor": 0
      },
      "text/plain": [
       "evaluating:   0%|          | 0/625 [00:00<?, ?it/s]"
      ]
     },
     "metadata": {},
     "output_type": "display_data"
    },
    {
     "name": "stdout",
     "output_type": "stream",
     "text": [
      "{'accuracy': 0.6792}\n",
      "0.6984717009633714\n"
     ]
    },
    {
     "data": {
      "application/vnd.jupyter.widget-view+json": {
       "model_id": "80f912263fee4638866d0e620b4c56c8",
       "version_major": 2,
       "version_minor": 0
      },
      "text/plain": [
       "evaluating:   0%|          | 0/625 [00:00<?, ?it/s]"
      ]
     },
     "metadata": {},
     "output_type": "display_data"
    },
    {
     "name": "stdout",
     "output_type": "stream",
     "text": [
      "{'accuracy': 0.5789}\n",
      "0.6999964717513162\n"
     ]
    },
    {
     "data": {
      "application/vnd.jupyter.widget-view+json": {
       "model_id": "325a3ef292084ddab89fcdeb1c8fecd2",
       "version_major": 2,
       "version_minor": 0
      },
      "text/plain": [
       "evaluating:   0%|          | 0/625 [00:00<?, ?it/s]"
      ]
     },
     "metadata": {},
     "output_type": "display_data"
    },
    {
     "name": "stdout",
     "output_type": "stream",
     "text": [
      "{'accuracy': 0.5604}\n",
      "0.7033600097301651\n"
     ]
    },
    {
     "data": {
      "application/vnd.jupyter.widget-view+json": {
       "model_id": "e32ccb5aede245ecb23643aa02a6ac90",
       "version_major": 2,
       "version_minor": 0
      },
      "text/plain": [
       "evaluating:   0%|          | 0/625 [00:00<?, ?it/s]"
      ]
     },
     "metadata": {},
     "output_type": "display_data"
    },
    {
     "name": "stdout",
     "output_type": "stream",
     "text": [
      "{'accuracy': 0.6394}\n",
      "0.7064693896945351\n"
     ]
    },
    {
     "data": {
      "application/vnd.jupyter.widget-view+json": {
       "model_id": "42fb6f8ac85a48be9cb6af041bf58e5e",
       "version_major": 2,
       "version_minor": 0
      },
      "text/plain": [
       "evaluating:   0%|          | 0/625 [00:00<?, ?it/s]"
      ]
     },
     "metadata": {},
     "output_type": "display_data"
    },
    {
     "name": "stdout",
     "output_type": "stream",
     "text": [
      "{'accuracy': 0.6681}\n",
      "0.7098562868072577\n"
     ]
    },
    {
     "data": {
      "application/vnd.jupyter.widget-view+json": {
       "model_id": "93c1cad7d55d4ab7834f9d0983f92282",
       "version_major": 2,
       "version_minor": 0
      },
      "text/plain": [
       "evaluating:   0%|          | 0/625 [00:00<?, ?it/s]"
      ]
     },
     "metadata": {},
     "output_type": "display_data"
    },
    {
     "name": "stdout",
     "output_type": "stream",
     "text": [
      "{'accuracy': 0.6204}\n",
      "0.7058082419889252\n"
     ]
    },
    {
     "data": {
      "application/vnd.jupyter.widget-view+json": {
       "model_id": "e1d4c165393e4facba9cf5f4d4c71848",
       "version_major": 2,
       "version_minor": 0
      },
      "text/plain": [
       "evaluating:   0%|          | 0/625 [00:00<?, ?it/s]"
      ]
     },
     "metadata": {},
     "output_type": "display_data"
    },
    {
     "name": "stdout",
     "output_type": "stream",
     "text": [
      "{'accuracy': 0.6766}\n",
      "0.691765014382489\n"
     ]
    },
    {
     "data": {
      "application/vnd.jupyter.widget-view+json": {
       "model_id": "951eb44e245b46da9d8651e52e2affef",
       "version_major": 2,
       "version_minor": 0
      },
      "text/plain": [
       "evaluating:   0%|          | 0/625 [00:00<?, ?it/s]"
      ]
     },
     "metadata": {},
     "output_type": "display_data"
    },
    {
     "name": "stdout",
     "output_type": "stream",
     "text": [
      "{'accuracy': 0.644}\n",
      "0.7110380284926471\n"
     ]
    },
    {
     "data": {
      "application/vnd.jupyter.widget-view+json": {
       "model_id": "05037acfbad7478983e67c11c1791a76",
       "version_major": 2,
       "version_minor": 0
      },
      "text/plain": [
       "evaluating:   0%|          | 0/625 [00:00<?, ?it/s]"
      ]
     },
     "metadata": {},
     "output_type": "display_data"
    },
    {
     "name": "stdout",
     "output_type": "stream",
     "text": [
      "{'accuracy': 0.6496}\n",
      "0.7074301725898693\n"
     ]
    },
    {
     "data": {
      "application/vnd.jupyter.widget-view+json": {
       "model_id": "0358172c8d884b00bbccbb970e35c9ff",
       "version_major": 2,
       "version_minor": 0
      },
      "text/plain": [
       "evaluating:   0%|          | 0/625 [00:00<?, ?it/s]"
      ]
     },
     "metadata": {},
     "output_type": "display_data"
    },
    {
     "name": "stdout",
     "output_type": "stream",
     "text": [
      "{'accuracy': 0.6798}\n",
      "0.7085753020464551\n"
     ]
    },
    {
     "data": {
      "application/vnd.jupyter.widget-view+json": {
       "model_id": "ab5e0bed2c324a0287c422e4b9fe4e1f",
       "version_major": 2,
       "version_minor": 0
      },
      "text/plain": [
       "evaluating:   0%|          | 0/625 [00:00<?, ?it/s]"
      ]
     },
     "metadata": {},
     "output_type": "display_data"
    },
    {
     "name": "stdout",
     "output_type": "stream",
     "text": [
      "{'accuracy': 0.6741}\n",
      "0.717545741350649\n"
     ]
    },
    {
     "data": {
      "application/vnd.jupyter.widget-view+json": {
       "model_id": "c488adf9e89b4afdb6db2052f373c498",
       "version_major": 2,
       "version_minor": 0
      },
      "text/plain": [
       "evaluating:   0%|          | 0/625 [00:00<?, ?it/s]"
      ]
     },
     "metadata": {},
     "output_type": "display_data"
    },
    {
     "name": "stdout",
     "output_type": "stream",
     "text": [
      "{'accuracy': 0.6417}\n",
      "0.711028410025758\n"
     ]
    },
    {
     "data": {
      "application/vnd.jupyter.widget-view+json": {
       "model_id": "7652c6e73e6446ddb472134e7dabb859",
       "version_major": 2,
       "version_minor": 0
      },
      "text/plain": [
       "evaluating:   0%|          | 0/625 [00:00<?, ?it/s]"
      ]
     },
     "metadata": {},
     "output_type": "display_data"
    },
    {
     "name": "stdout",
     "output_type": "stream",
     "text": [
      "{'accuracy': 0.6382}\n",
      "0.717172039533406\n"
     ]
    },
    {
     "data": {
      "application/vnd.jupyter.widget-view+json": {
       "model_id": "fdb1009cb1e5413a851df09e0cacc398",
       "version_major": 2,
       "version_minor": 0
      },
      "text/plain": [
       "evaluating:   0%|          | 0/625 [00:00<?, ?it/s]"
      ]
     },
     "metadata": {},
     "output_type": "display_data"
    },
    {
     "name": "stdout",
     "output_type": "stream",
     "text": [
      "{'accuracy': 0.5287}\n",
      "0.7185599798730256\n"
     ]
    },
    {
     "data": {
      "application/vnd.jupyter.widget-view+json": {
       "model_id": "a78920323cf043139d73cb5b6fd0da11",
       "version_major": 2,
       "version_minor": 0
      },
      "text/plain": [
       "evaluating:   0%|          | 0/625 [00:00<?, ?it/s]"
      ]
     },
     "metadata": {},
     "output_type": "display_data"
    },
    {
     "name": "stdout",
     "output_type": "stream",
     "text": [
      "{'accuracy': 0.5887}\n",
      "0.7215239303910221\n"
     ]
    },
    {
     "data": {
      "application/vnd.jupyter.widget-view+json": {
       "model_id": "13bebccad54841918d0bf8755fdf6fc0",
       "version_major": 2,
       "version_minor": 0
      },
      "text/plain": [
       "evaluating:   0%|          | 0/625 [00:00<?, ?it/s]"
      ]
     },
     "metadata": {},
     "output_type": "display_data"
    },
    {
     "name": "stdout",
     "output_type": "stream",
     "text": [
      "{'accuracy': 0.6016}\n",
      "0.7090897792131898\n"
     ]
    },
    {
     "data": {
      "application/vnd.jupyter.widget-view+json": {
       "model_id": "8bc91669b4804d12b14b98abb9b5a1c0",
       "version_major": 2,
       "version_minor": 0
      },
      "text/plain": [
       "evaluating:   0%|          | 0/625 [00:00<?, ?it/s]"
      ]
     },
     "metadata": {},
     "output_type": "display_data"
    },
    {
     "name": "stdout",
     "output_type": "stream",
     "text": [
      "{'accuracy': 0.6167}\n",
      "0.7221184136993918\n"
     ]
    },
    {
     "data": {
      "application/vnd.jupyter.widget-view+json": {
       "model_id": "6cee64fbe16943eb87d53ccb47972197",
       "version_major": 2,
       "version_minor": 0
      },
      "text/plain": [
       "evaluating:   0%|          | 0/625 [00:00<?, ?it/s]"
      ]
     },
     "metadata": {},
     "output_type": "display_data"
    },
    {
     "name": "stdout",
     "output_type": "stream",
     "text": [
      "{'accuracy': 0.6656}\n",
      "0.7209239064911266\n"
     ]
    },
    {
     "data": {
      "application/vnd.jupyter.widget-view+json": {
       "model_id": "3eb9b7dba1914b178990a07b33544cfd",
       "version_major": 2,
       "version_minor": 0
      },
      "text/plain": [
       "evaluating:   0%|          | 0/625 [00:00<?, ?it/s]"
      ]
     },
     "metadata": {},
     "output_type": "display_data"
    },
    {
     "name": "stdout",
     "output_type": "stream",
     "text": [
      "{'accuracy': 0.5968}\n",
      "0.7195575079713599\n"
     ]
    },
    {
     "data": {
      "application/vnd.jupyter.widget-view+json": {
       "model_id": "506fa0f8f1384494b1c0c6a085c97b4c",
       "version_major": 2,
       "version_minor": 0
      },
      "text/plain": [
       "evaluating:   0%|          | 0/625 [00:00<?, ?it/s]"
      ]
     },
     "metadata": {},
     "output_type": "display_data"
    },
    {
     "name": "stdout",
     "output_type": "stream",
     "text": [
      "{'accuracy': 0.6814}\n",
      "0.726327756218228\n"
     ]
    },
    {
     "data": {
      "application/vnd.jupyter.widget-view+json": {
       "model_id": "9ca65dec89c34a509bdc6515c06882e2",
       "version_major": 2,
       "version_minor": 0
      },
      "text/plain": [
       "evaluating:   0%|          | 0/625 [00:00<?, ?it/s]"
      ]
     },
     "metadata": {},
     "output_type": "display_data"
    },
    {
     "name": "stdout",
     "output_type": "stream",
     "text": [
      "{'accuracy': 0.6662}\n",
      "0.7317997773834651\n"
     ]
    },
    {
     "data": {
      "application/vnd.jupyter.widget-view+json": {
       "model_id": "89e7ebac9c724861bd769cc0f8fd6e73",
       "version_major": 2,
       "version_minor": 0
      },
      "text/plain": [
       "evaluating:   0%|          | 0/625 [00:00<?, ?it/s]"
      ]
     },
     "metadata": {},
     "output_type": "display_data"
    },
    {
     "name": "stdout",
     "output_type": "stream",
     "text": [
      "{'accuracy': 0.6127}\n",
      "0.723185930549882\n"
     ]
    },
    {
     "data": {
      "application/vnd.jupyter.widget-view+json": {
       "model_id": "328e11fb6779478b967b334936d56543",
       "version_major": 2,
       "version_minor": 0
      },
      "text/plain": [
       "evaluating:   0%|          | 0/625 [00:00<?, ?it/s]"
      ]
     },
     "metadata": {},
     "output_type": "display_data"
    },
    {
     "name": "stdout",
     "output_type": "stream",
     "text": [
      "{'accuracy': 0.6482}\n",
      "0.7229300881955791\n"
     ]
    },
    {
     "data": {
      "application/vnd.jupyter.widget-view+json": {
       "model_id": "dc56bca686c74707a2357e8e9f871c0e",
       "version_major": 2,
       "version_minor": 0
      },
      "text/plain": [
       "evaluating:   0%|          | 0/625 [00:00<?, ?it/s]"
      ]
     },
     "metadata": {},
     "output_type": "display_data"
    },
    {
     "name": "stdout",
     "output_type": "stream",
     "text": [
      "{'accuracy': 0.676}\n",
      "0.7274388442804784\n"
     ]
    },
    {
     "data": {
      "application/vnd.jupyter.widget-view+json": {
       "model_id": "9ed9a8ba3b2e4acfbb051a13f326c160",
       "version_major": 2,
       "version_minor": 0
      },
      "text/plain": [
       "evaluating:   0%|          | 0/625 [00:00<?, ?it/s]"
      ]
     },
     "metadata": {},
     "output_type": "display_data"
    },
    {
     "name": "stdout",
     "output_type": "stream",
     "text": [
      "{'accuracy': 0.6405}\n",
      "0.7278473410125045\n"
     ]
    },
    {
     "data": {
      "application/vnd.jupyter.widget-view+json": {
       "model_id": "130abb10d2564be697715fa0ae102f51",
       "version_major": 2,
       "version_minor": 0
      },
      "text/plain": [
       "evaluating:   0%|          | 0/625 [00:00<?, ?it/s]"
      ]
     },
     "metadata": {},
     "output_type": "display_data"
    },
    {
     "name": "stdout",
     "output_type": "stream",
     "text": [
      "{'accuracy': 0.6662}\n",
      "0.7281539795099173\n"
     ]
    },
    {
     "data": {
      "application/vnd.jupyter.widget-view+json": {
       "model_id": "a9b23d69e74943fbbf5fedfb5e00e080",
       "version_major": 2,
       "version_minor": 0
      },
      "text/plain": [
       "evaluating:   0%|          | 0/625 [00:00<?, ?it/s]"
      ]
     },
     "metadata": {},
     "output_type": "display_data"
    },
    {
     "name": "stdout",
     "output_type": "stream",
     "text": [
      "{'accuracy': 0.6631}\n",
      "0.7233422195556464\n"
     ]
    },
    {
     "data": {
      "application/vnd.jupyter.widget-view+json": {
       "model_id": "768b5aac26f24bb3b328e61f4e1b3619",
       "version_major": 2,
       "version_minor": 0
      },
      "text/plain": [
       "evaluating:   0%|          | 0/625 [00:00<?, ?it/s]"
      ]
     },
     "metadata": {},
     "output_type": "display_data"
    },
    {
     "name": "stdout",
     "output_type": "stream",
     "text": [
      "{'accuracy': 0.6284}\n",
      "0.7264864830842639\n"
     ]
    },
    {
     "data": {
      "application/vnd.jupyter.widget-view+json": {
       "model_id": "094a941d365d4976b59cd297dea4d3b3",
       "version_major": 2,
       "version_minor": 0
      },
      "text/plain": [
       "evaluating:   0%|          | 0/625 [00:00<?, ?it/s]"
      ]
     },
     "metadata": {},
     "output_type": "display_data"
    },
    {
     "name": "stdout",
     "output_type": "stream",
     "text": [
      "{'accuracy': 0.6859}\n",
      "0.7279503960148874\n"
     ]
    },
    {
     "data": {
      "application/vnd.jupyter.widget-view+json": {
       "model_id": "f3a95b18adca4a47ba8cc64f8c5dd13d",
       "version_major": 2,
       "version_minor": 0
      },
      "text/plain": [
       "evaluating:   0%|          | 0/625 [00:00<?, ?it/s]"
      ]
     },
     "metadata": {},
     "output_type": "display_data"
    },
    {
     "name": "stdout",
     "output_type": "stream",
     "text": [
      "{'accuracy': 0.6511}\n",
      "0.7313101220667665\n"
     ]
    },
    {
     "data": {
      "application/vnd.jupyter.widget-view+json": {
       "model_id": "1a91eb4ac7b44a5ba019133a13cf3e63",
       "version_major": 2,
       "version_minor": 0
      },
      "text/plain": [
       "evaluating:   0%|          | 0/625 [00:00<?, ?it/s]"
      ]
     },
     "metadata": {},
     "output_type": "display_data"
    },
    {
     "name": "stdout",
     "output_type": "stream",
     "text": [
      "{'accuracy': 0.6108}\n",
      "0.7304717640817902\n"
     ]
    },
    {
     "data": {
      "application/vnd.jupyter.widget-view+json": {
       "model_id": "a3c4756b2d4244229277f96941bf70bb",
       "version_major": 2,
       "version_minor": 0
      },
      "text/plain": [
       "evaluating:   0%|          | 0/625 [00:00<?, ?it/s]"
      ]
     },
     "metadata": {},
     "output_type": "display_data"
    },
    {
     "name": "stdout",
     "output_type": "stream",
     "text": [
      "{'accuracy': 0.7109}\n",
      "0.7256459531874092\n"
     ]
    },
    {
     "data": {
      "application/vnd.jupyter.widget-view+json": {
       "model_id": "f918943b6bd542599fd6da6c0013f162",
       "version_major": 2,
       "version_minor": 0
      },
      "text/plain": [
       "evaluating:   0%|          | 0/625 [00:00<?, ?it/s]"
      ]
     },
     "metadata": {},
     "output_type": "display_data"
    },
    {
     "name": "stdout",
     "output_type": "stream",
     "text": [
      "{'accuracy': 0.6374}\n",
      "0.7266827086737473\n"
     ]
    },
    {
     "data": {
      "application/vnd.jupyter.widget-view+json": {
       "model_id": "7e8c70d32cc644bb94f5a769ceb4f77b",
       "version_major": 2,
       "version_minor": 0
      },
      "text/plain": [
       "evaluating:   0%|          | 0/625 [00:00<?, ?it/s]"
      ]
     },
     "metadata": {},
     "output_type": "display_data"
    },
    {
     "name": "stdout",
     "output_type": "stream",
     "text": [
      "{'accuracy': 0.6365}\n",
      "0.7335670044565858\n"
     ]
    },
    {
     "data": {
      "application/vnd.jupyter.widget-view+json": {
       "model_id": "befef4f28bd1411eaf8d9b0bd1b08c05",
       "version_major": 2,
       "version_minor": 0
      },
      "text/plain": [
       "evaluating:   0%|          | 0/625 [00:00<?, ?it/s]"
      ]
     },
     "metadata": {},
     "output_type": "display_data"
    },
    {
     "name": "stdout",
     "output_type": "stream",
     "text": [
      "{'accuracy': 0.5519}\n",
      "0.7328415858892747\n"
     ]
    },
    {
     "data": {
      "application/vnd.jupyter.widget-view+json": {
       "model_id": "8b976f950d2e412d8bbb7912e2f60a59",
       "version_major": 2,
       "version_minor": 0
      },
      "text/plain": [
       "evaluating:   0%|          | 0/625 [00:00<?, ?it/s]"
      ]
     },
     "metadata": {},
     "output_type": "display_data"
    },
    {
     "name": "stdout",
     "output_type": "stream",
     "text": [
      "{'accuracy': 0.6475}\n",
      "0.7298705434141248\n"
     ]
    },
    {
     "data": {
      "application/vnd.jupyter.widget-view+json": {
       "model_id": "1f2795e0369845d8801e9c2a2ec74579",
       "version_major": 2,
       "version_minor": 0
      },
      "text/plain": [
       "evaluating:   0%|          | 0/625 [00:00<?, ?it/s]"
      ]
     },
     "metadata": {},
     "output_type": "display_data"
    },
    {
     "name": "stdout",
     "output_type": "stream",
     "text": [
      "{'accuracy': 0.6182}\n",
      "0.7354354692180692\n"
     ]
    },
    {
     "data": {
      "application/vnd.jupyter.widget-view+json": {
       "model_id": "cb24d1591a9343ab86c896f7b8c9b198",
       "version_major": 2,
       "version_minor": 0
      },
      "text/plain": [
       "evaluating:   0%|          | 0/625 [00:00<?, ?it/s]"
      ]
     },
     "metadata": {},
     "output_type": "display_data"
    },
    {
     "name": "stdout",
     "output_type": "stream",
     "text": [
      "{'accuracy': 0.7071}\n",
      "0.7372483950900962\n"
     ]
    },
    {
     "data": {
      "application/vnd.jupyter.widget-view+json": {
       "model_id": "0c5e7297cdcd4456b7a5c96594518a12",
       "version_major": 2,
       "version_minor": 0
      },
      "text/plain": [
       "evaluating:   0%|          | 0/625 [00:00<?, ?it/s]"
      ]
     },
     "metadata": {},
     "output_type": "display_data"
    },
    {
     "name": "stdout",
     "output_type": "stream",
     "text": [
      "{'accuracy': 0.6871}\n",
      "0.7376686822008897\n"
     ]
    },
    {
     "data": {
      "application/vnd.jupyter.widget-view+json": {
       "model_id": "c8290b1d87244a16849b41004c4e7245",
       "version_major": 2,
       "version_minor": 0
      },
      "text/plain": [
       "evaluating:   0%|          | 0/625 [00:00<?, ?it/s]"
      ]
     },
     "metadata": {},
     "output_type": "display_data"
    },
    {
     "name": "stdout",
     "output_type": "stream",
     "text": [
      "{'accuracy': 0.6636}\n",
      "0.7381980968023782\n"
     ]
    },
    {
     "data": {
      "application/vnd.jupyter.widget-view+json": {
       "model_id": "a29ccc2c3db247a28fd56134b9e8d6d0",
       "version_major": 2,
       "version_minor": 0
      },
      "text/plain": [
       "evaluating:   0%|          | 0/625 [00:00<?, ?it/s]"
      ]
     },
     "metadata": {},
     "output_type": "display_data"
    },
    {
     "name": "stdout",
     "output_type": "stream",
     "text": [
      "{'accuracy': 0.7034}\n",
      "0.7369184417835422\n"
     ]
    },
    {
     "data": {
      "application/vnd.jupyter.widget-view+json": {
       "model_id": "82b4b4602e544055868c4d1fb5bab078",
       "version_major": 2,
       "version_minor": 0
      },
      "text/plain": [
       "evaluating:   0%|          | 0/625 [00:00<?, ?it/s]"
      ]
     },
     "metadata": {},
     "output_type": "display_data"
    },
    {
     "name": "stdout",
     "output_type": "stream",
     "text": [
      "{'accuracy': 0.637}\n",
      "0.7347738782651372\n"
     ]
    },
    {
     "data": {
      "application/vnd.jupyter.widget-view+json": {
       "model_id": "8702a9661b844426976e95bdfe064c42",
       "version_major": 2,
       "version_minor": 0
      },
      "text/plain": [
       "evaluating:   0%|          | 0/625 [00:00<?, ?it/s]"
      ]
     },
     "metadata": {},
     "output_type": "display_data"
    },
    {
     "name": "stdout",
     "output_type": "stream",
     "text": [
      "{'accuracy': 0.6639}\n",
      "0.7399304403112518\n"
     ]
    },
    {
     "data": {
      "application/vnd.jupyter.widget-view+json": {
       "model_id": "fa27a885274f4f16beb375c2fd85f33a",
       "version_major": 2,
       "version_minor": 0
      },
      "text/plain": [
       "evaluating:   0%|          | 0/625 [00:00<?, ?it/s]"
      ]
     },
     "metadata": {},
     "output_type": "display_data"
    },
    {
     "name": "stdout",
     "output_type": "stream",
     "text": [
      "{'accuracy': 0.5851}\n",
      "0.7339038280966323\n"
     ]
    },
    {
     "data": {
      "application/vnd.jupyter.widget-view+json": {
       "model_id": "01b6ebcd0e3e43a1828b369415c875da",
       "version_major": 2,
       "version_minor": 0
      },
      "text/plain": [
       "evaluating:   0%|          | 0/625 [00:00<?, ?it/s]"
      ]
     },
     "metadata": {},
     "output_type": "display_data"
    },
    {
     "name": "stdout",
     "output_type": "stream",
     "text": [
      "{'accuracy': 0.6333}\n",
      "0.7370685696515296\n"
     ]
    },
    {
     "data": {
      "application/vnd.jupyter.widget-view+json": {
       "model_id": "ed9806bb965d4ac2ae879b90e75ae3ca",
       "version_major": 2,
       "version_minor": 0
      },
      "text/plain": [
       "evaluating:   0%|          | 0/625 [00:00<?, ?it/s]"
      ]
     },
     "metadata": {},
     "output_type": "display_data"
    },
    {
     "name": "stdout",
     "output_type": "stream",
     "text": [
      "{'accuracy': 0.6151}\n",
      "0.7342220796738834\n"
     ]
    },
    {
     "data": {
      "application/vnd.jupyter.widget-view+json": {
       "model_id": "1bd7ecee7ff04a8f996e938911a90b0d",
       "version_major": 2,
       "version_minor": 0
      },
      "text/plain": [
       "evaluating:   0%|          | 0/625 [00:00<?, ?it/s]"
      ]
     },
     "metadata": {},
     "output_type": "display_data"
    },
    {
     "name": "stdout",
     "output_type": "stream",
     "text": [
      "{'accuracy': 0.6494}\n",
      "0.7375128807671795\n"
     ]
    },
    {
     "data": {
      "application/vnd.jupyter.widget-view+json": {
       "model_id": "f1417def8b5041cbbfaf638c98e91cb8",
       "version_major": 2,
       "version_minor": 0
      },
      "text/plain": [
       "evaluating:   0%|          | 0/625 [00:00<?, ?it/s]"
      ]
     },
     "metadata": {},
     "output_type": "display_data"
    },
    {
     "name": "stdout",
     "output_type": "stream",
     "text": [
      "{'accuracy': 0.6334}\n",
      "0.7340289124909223\n"
     ]
    },
    {
     "data": {
      "application/vnd.jupyter.widget-view+json": {
       "model_id": "7567b725dc9446ebabd082c0fc140b02",
       "version_major": 2,
       "version_minor": 0
      },
      "text/plain": [
       "evaluating:   0%|          | 0/625 [00:00<?, ?it/s]"
      ]
     },
     "metadata": {},
     "output_type": "display_data"
    },
    {
     "name": "stdout",
     "output_type": "stream",
     "text": [
      "{'accuracy': 0.6749}\n",
      "0.7352409279684096\n"
     ]
    },
    {
     "data": {
      "application/vnd.jupyter.widget-view+json": {
       "model_id": "19232387c69d4f089883e01983aef265",
       "version_major": 2,
       "version_minor": 0
      },
      "text/plain": [
       "evaluating:   0%|          | 0/625 [00:00<?, ?it/s]"
      ]
     },
     "metadata": {},
     "output_type": "display_data"
    },
    {
     "name": "stdout",
     "output_type": "stream",
     "text": [
      "{'accuracy': 0.6369}\n",
      "0.7352787369649827\n"
     ]
    },
    {
     "data": {
      "application/vnd.jupyter.widget-view+json": {
       "model_id": "5bc76669374d4fc0893123184008f482",
       "version_major": 2,
       "version_minor": 0
      },
      "text/plain": [
       "evaluating:   0%|          | 0/625 [00:00<?, ?it/s]"
      ]
     },
     "metadata": {},
     "output_type": "display_data"
    },
    {
     "name": "stdout",
     "output_type": "stream",
     "text": [
      "{'accuracy': 0.6063}\n",
      "0.7390764800205383\n"
     ]
    },
    {
     "data": {
      "application/vnd.jupyter.widget-view+json": {
       "model_id": "98e25ea39d4c44fea7f4e51bcae0ef83",
       "version_major": 2,
       "version_minor": 0
      },
      "text/plain": [
       "evaluating:   0%|          | 0/625 [00:00<?, ?it/s]"
      ]
     },
     "metadata": {},
     "output_type": "display_data"
    },
    {
     "name": "stdout",
     "output_type": "stream",
     "text": [
      "{'accuracy': 0.6924}\n",
      "0.742833488647195\n"
     ]
    },
    {
     "data": {
      "application/vnd.jupyter.widget-view+json": {
       "model_id": "b6b33a42a2204e8da3e131fcdff44d16",
       "version_major": 2,
       "version_minor": 0
      },
      "text/plain": [
       "evaluating:   0%|          | 0/625 [00:00<?, ?it/s]"
      ]
     },
     "metadata": {},
     "output_type": "display_data"
    },
    {
     "name": "stdout",
     "output_type": "stream",
     "text": [
      "{'accuracy': 0.6446}\n",
      "0.7371636905268474\n"
     ]
    },
    {
     "data": {
      "application/vnd.jupyter.widget-view+json": {
       "model_id": "c29021083a0b4d249b6f6e35ff81ae8b",
       "version_major": 2,
       "version_minor": 0
      },
      "text/plain": [
       "evaluating:   0%|          | 0/625 [00:00<?, ?it/s]"
      ]
     },
     "metadata": {},
     "output_type": "display_data"
    },
    {
     "name": "stdout",
     "output_type": "stream",
     "text": [
      "{'accuracy': 0.7163}\n",
      "0.7413062356742465\n"
     ]
    },
    {
     "data": {
      "application/vnd.jupyter.widget-view+json": {
       "model_id": "1a35d3f20253400f9fb6f5876bdde50a",
       "version_major": 2,
       "version_minor": 0
      },
      "text/plain": [
       "evaluating:   0%|          | 0/625 [00:00<?, ?it/s]"
      ]
     },
     "metadata": {},
     "output_type": "display_data"
    },
    {
     "name": "stdout",
     "output_type": "stream",
     "text": [
      "{'accuracy': 0.6362}\n",
      "0.7410503046704792\n"
     ]
    },
    {
     "data": {
      "application/vnd.jupyter.widget-view+json": {
       "model_id": "f07361ff220b452880563ed63c63d427",
       "version_major": 2,
       "version_minor": 0
      },
      "text/plain": [
       "evaluating:   0%|          | 0/625 [00:00<?, ?it/s]"
      ]
     },
     "metadata": {},
     "output_type": "display_data"
    },
    {
     "name": "stdout",
     "output_type": "stream",
     "text": [
      "{'accuracy': 0.6539}\n",
      "0.7427910255537401\n"
     ]
    },
    {
     "data": {
      "application/vnd.jupyter.widget-view+json": {
       "model_id": "51724f211c694b03a6648ba3f60107d8",
       "version_major": 2,
       "version_minor": 0
      },
      "text/plain": [
       "evaluating:   0%|          | 0/625 [00:00<?, ?it/s]"
      ]
     },
     "metadata": {},
     "output_type": "display_data"
    },
    {
     "name": "stdout",
     "output_type": "stream",
     "text": [
      "{'accuracy': 0.606}\n",
      "0.7393216844391113\n"
     ]
    },
    {
     "data": {
      "application/vnd.jupyter.widget-view+json": {
       "model_id": "62ca5df79f744f0abe781099ec5f0537",
       "version_major": 2,
       "version_minor": 0
      },
      "text/plain": [
       "evaluating:   0%|          | 0/625 [00:00<?, ?it/s]"
      ]
     },
     "metadata": {},
     "output_type": "display_data"
    },
    {
     "name": "stdout",
     "output_type": "stream",
     "text": [
      "{'accuracy': 0.6647}\n",
      "0.7401611505423928\n"
     ]
    },
    {
     "data": {
      "application/vnd.jupyter.widget-view+json": {
       "model_id": "f14a6cb7d54a4cc1937832260bcb8a53",
       "version_major": 2,
       "version_minor": 0
      },
      "text/plain": [
       "evaluating:   0%|          | 0/625 [00:00<?, ?it/s]"
      ]
     },
     "metadata": {},
     "output_type": "display_data"
    },
    {
     "name": "stdout",
     "output_type": "stream",
     "text": [
      "{'accuracy': 0.6268}\n",
      "0.741143741205973\n"
     ]
    },
    {
     "data": {
      "application/vnd.jupyter.widget-view+json": {
       "model_id": "cacc0c123fa34f6fa8702e1aa41590c3",
       "version_major": 2,
       "version_minor": 0
      },
      "text/plain": [
       "evaluating:   0%|          | 0/625 [00:00<?, ?it/s]"
      ]
     },
     "metadata": {},
     "output_type": "display_data"
    },
    {
     "name": "stdout",
     "output_type": "stream",
     "text": [
      "{'accuracy': 0.6399}\n",
      "0.739095628304852\n"
     ]
    },
    {
     "data": {
      "application/vnd.jupyter.widget-view+json": {
       "model_id": "fb17812d6962400baf7e102f6f31dc4e",
       "version_major": 2,
       "version_minor": 0
      },
      "text/plain": [
       "evaluating:   0%|          | 0/625 [00:00<?, ?it/s]"
      ]
     },
     "metadata": {},
     "output_type": "display_data"
    },
    {
     "name": "stdout",
     "output_type": "stream",
     "text": [
      "{'accuracy': 0.6856}\n",
      "0.7398914345469091\n"
     ]
    },
    {
     "data": {
      "application/vnd.jupyter.widget-view+json": {
       "model_id": "09018a8a00f342deb3cd51c2b17b2f16",
       "version_major": 2,
       "version_minor": 0
      },
      "text/plain": [
       "evaluating:   0%|          | 0/625 [00:00<?, ?it/s]"
      ]
     },
     "metadata": {},
     "output_type": "display_data"
    },
    {
     "name": "stdout",
     "output_type": "stream",
     "text": [
      "{'accuracy': 0.6769}\n",
      "0.7436706055396696\n"
     ]
    },
    {
     "data": {
      "application/vnd.jupyter.widget-view+json": {
       "model_id": "fa1a44f6b19e49adbc1906a3a0a8e4f4",
       "version_major": 2,
       "version_minor": 0
      },
      "text/plain": [
       "evaluating:   0%|          | 0/625 [00:00<?, ?it/s]"
      ]
     },
     "metadata": {},
     "output_type": "display_data"
    },
    {
     "name": "stdout",
     "output_type": "stream",
     "text": [
      "{'accuracy': 0.6437}\n",
      "0.744736703998729\n"
     ]
    },
    {
     "data": {
      "application/vnd.jupyter.widget-view+json": {
       "model_id": "bdba391a2bf54e67b0273aff35e449ea",
       "version_major": 2,
       "version_minor": 0
      },
      "text/plain": [
       "evaluating:   0%|          | 0/625 [00:00<?, ?it/s]"
      ]
     },
     "metadata": {},
     "output_type": "display_data"
    },
    {
     "name": "stdout",
     "output_type": "stream",
     "text": [
      "{'accuracy': 0.6401}\n",
      "0.7434029728065995\n"
     ]
    },
    {
     "data": {
      "application/vnd.jupyter.widget-view+json": {
       "model_id": "d5a72ffaed064576a26906b53f518073",
       "version_major": 2,
       "version_minor": 0
      },
      "text/plain": [
       "evaluating:   0%|          | 0/625 [00:00<?, ?it/s]"
      ]
     },
     "metadata": {},
     "output_type": "display_data"
    },
    {
     "name": "stdout",
     "output_type": "stream",
     "text": [
      "{'accuracy': 0.643}\n",
      "0.7444948239350717\n"
     ]
    },
    {
     "data": {
      "application/vnd.jupyter.widget-view+json": {
       "model_id": "f6c200681659497aa3b7d8cdaaadbbdb",
       "version_major": 2,
       "version_minor": 0
      },
      "text/plain": [
       "evaluating:   0%|          | 0/625 [00:00<?, ?it/s]"
      ]
     },
     "metadata": {},
     "output_type": "display_data"
    },
    {
     "name": "stdout",
     "output_type": "stream",
     "text": [
      "{'accuracy': 0.6731}\n",
      "0.7405700905217412\n"
     ]
    },
    {
     "data": {
      "application/vnd.jupyter.widget-view+json": {
       "model_id": "f6e9a42e993442228a2b81d870258c7a",
       "version_major": 2,
       "version_minor": 0
      },
      "text/plain": [
       "evaluating:   0%|          | 0/625 [00:00<?, ?it/s]"
      ]
     },
     "metadata": {},
     "output_type": "display_data"
    },
    {
     "name": "stdout",
     "output_type": "stream",
     "text": [
      "{'accuracy': 0.6683}\n",
      "0.7423538950447076\n"
     ]
    },
    {
     "data": {
      "application/vnd.jupyter.widget-view+json": {
       "model_id": "e8700f2b7c154f2fbae397919066f3d7",
       "version_major": 2,
       "version_minor": 0
      },
      "text/plain": [
       "evaluating:   0%|          | 0/625 [00:00<?, ?it/s]"
      ]
     },
     "metadata": {},
     "output_type": "display_data"
    },
    {
     "name": "stdout",
     "output_type": "stream",
     "text": [
      "{'accuracy': 0.6387}\n",
      "0.742796787768927\n"
     ]
    },
    {
     "data": {
      "application/vnd.jupyter.widget-view+json": {
       "model_id": "1a66aeb3370744ad95d95a189806d2eb",
       "version_major": 2,
       "version_minor": 0
      },
      "text/plain": [
       "evaluating:   0%|          | 0/625 [00:00<?, ?it/s]"
      ]
     },
     "metadata": {},
     "output_type": "display_data"
    },
    {
     "name": "stdout",
     "output_type": "stream",
     "text": [
      "{'accuracy': 0.6448}\n",
      "0.7408762414470996\n"
     ]
    },
    {
     "data": {
      "application/vnd.jupyter.widget-view+json": {
       "model_id": "888fe2b87f664f02a66e08a09357d66b",
       "version_major": 2,
       "version_minor": 0
      },
      "text/plain": [
       "evaluating:   0%|          | 0/625 [00:00<?, ?it/s]"
      ]
     },
     "metadata": {},
     "output_type": "display_data"
    },
    {
     "name": "stdout",
     "output_type": "stream",
     "text": [
      "{'accuracy': 0.648}\n",
      "0.7416124309243374\n"
     ]
    },
    {
     "data": {
      "application/vnd.jupyter.widget-view+json": {
       "model_id": "6ad20093d6a84b0a98b80e28acc82827",
       "version_major": 2,
       "version_minor": 0
      },
      "text/plain": [
       "evaluating:   0%|          | 0/625 [00:00<?, ?it/s]"
      ]
     },
     "metadata": {},
     "output_type": "display_data"
    },
    {
     "name": "stdout",
     "output_type": "stream",
     "text": [
      "{'accuracy': 0.6628}\n",
      "0.7428712089943037\n"
     ]
    },
    {
     "data": {
      "application/vnd.jupyter.widget-view+json": {
       "model_id": "4e5ef3d74f6241a9a6b7f6d4edc1987a",
       "version_major": 2,
       "version_minor": 0
      },
      "text/plain": [
       "evaluating:   0%|          | 0/625 [00:00<?, ?it/s]"
      ]
     },
     "metadata": {},
     "output_type": "display_data"
    },
    {
     "name": "stdout",
     "output_type": "stream",
     "text": [
      "{'accuracy': 0.6486}\n",
      "0.7406294856628994\n"
     ]
    },
    {
     "data": {
      "application/vnd.jupyter.widget-view+json": {
       "model_id": "6de51cc7f76d4f36ba1f36a4d529f9dc",
       "version_major": 2,
       "version_minor": 0
      },
      "text/plain": [
       "evaluating:   0%|          | 0/625 [00:00<?, ?it/s]"
      ]
     },
     "metadata": {},
     "output_type": "display_data"
    },
    {
     "name": "stdout",
     "output_type": "stream",
     "text": [
      "{'accuracy': 0.669}\n",
      "0.7446416717728758\n"
     ]
    },
    {
     "data": {
      "application/vnd.jupyter.widget-view+json": {
       "model_id": "eed7087db2e84410a7dd7e885b4d4898",
       "version_major": 2,
       "version_minor": 0
      },
      "text/plain": [
       "evaluating:   0%|          | 0/625 [00:00<?, ?it/s]"
      ]
     },
     "metadata": {},
     "output_type": "display_data"
    },
    {
     "name": "stdout",
     "output_type": "stream",
     "text": [
      "{'accuracy': 0.6673}\n",
      "0.7431241702410131\n"
     ]
    },
    {
     "data": {
      "application/vnd.jupyter.widget-view+json": {
       "model_id": "5508faf577594e5f9867d8f1df715dd0",
       "version_major": 2,
       "version_minor": 0
      },
      "text/plain": [
       "evaluating:   0%|          | 0/625 [00:00<?, ?it/s]"
      ]
     },
     "metadata": {},
     "output_type": "display_data"
    },
    {
     "name": "stdout",
     "output_type": "stream",
     "text": [
      "{'accuracy': 0.6263}\n",
      "0.7413286639887436\n"
     ]
    },
    {
     "data": {
      "application/vnd.jupyter.widget-view+json": {
       "model_id": "80778ac9a8a04383a108dcb2a9c3fa03",
       "version_major": 2,
       "version_minor": 0
      },
      "text/plain": [
       "evaluating:   0%|          | 0/625 [00:00<?, ?it/s]"
      ]
     },
     "metadata": {},
     "output_type": "display_data"
    },
    {
     "name": "stdout",
     "output_type": "stream",
     "text": [
      "{'accuracy': 0.6403}\n",
      "0.7433118411571806\n"
     ]
    },
    {
     "data": {
      "application/vnd.jupyter.widget-view+json": {
       "model_id": "d2d312fa673d4c83acc0e50684c02923",
       "version_major": 2,
       "version_minor": 0
      },
      "text/plain": [
       "evaluating:   0%|          | 0/625 [00:00<?, ?it/s]"
      ]
     },
     "metadata": {},
     "output_type": "display_data"
    },
    {
     "name": "stdout",
     "output_type": "stream",
     "text": [
      "{'accuracy': 0.6622}\n",
      "0.7448381189860204\n"
     ]
    },
    {
     "data": {
      "application/vnd.jupyter.widget-view+json": {
       "model_id": "0fb6f847891e4291bcde092a3aaeb434",
       "version_major": 2,
       "version_minor": 0
      },
      "text/plain": [
       "evaluating:   0%|          | 0/625 [00:00<?, ?it/s]"
      ]
     },
     "metadata": {},
     "output_type": "display_data"
    },
    {
     "name": "stdout",
     "output_type": "stream",
     "text": [
      "{'accuracy': 0.6479}\n",
      "0.7442327761182598\n"
     ]
    },
    {
     "data": {
      "application/vnd.jupyter.widget-view+json": {
       "model_id": "7ec6b78ea32a45d4b6f294c1889c1352",
       "version_major": 2,
       "version_minor": 0
      },
      "text/plain": [
       "evaluating:   0%|          | 0/625 [00:00<?, ?it/s]"
      ]
     },
     "metadata": {},
     "output_type": "display_data"
    },
    {
     "name": "stdout",
     "output_type": "stream",
     "text": [
      "{'accuracy': 0.6814}\n",
      "0.7450496366081154\n"
     ]
    },
    {
     "data": {
      "application/vnd.jupyter.widget-view+json": {
       "model_id": "308a66d4842a4111ad515282a7112e12",
       "version_major": 2,
       "version_minor": 0
      },
      "text/plain": [
       "evaluating:   0%|          | 0/625 [00:00<?, ?it/s]"
      ]
     },
     "metadata": {},
     "output_type": "display_data"
    },
    {
     "name": "stdout",
     "output_type": "stream",
     "text": [
      "{'accuracy': 0.6455}\n",
      "0.7459063007074936\n"
     ]
    },
    {
     "data": {
      "application/vnd.jupyter.widget-view+json": {
       "model_id": "a0ac830f3b724bad91bc1fc87d9088bf",
       "version_major": 2,
       "version_minor": 0
      },
      "text/plain": [
       "evaluating:   0%|          | 0/625 [00:00<?, ?it/s]"
      ]
     },
     "metadata": {},
     "output_type": "display_data"
    },
    {
     "name": "stdout",
     "output_type": "stream",
     "text": [
      "{'accuracy': 0.6651}\n",
      "0.7445418968006762\n"
     ]
    },
    {
     "data": {
      "application/vnd.jupyter.widget-view+json": {
       "model_id": "c0846a951fae4b29af70e71bf9271c39",
       "version_major": 2,
       "version_minor": 0
      },
      "text/plain": [
       "evaluating:   0%|          | 0/625 [00:00<?, ?it/s]"
      ]
     },
     "metadata": {},
     "output_type": "display_data"
    },
    {
     "name": "stdout",
     "output_type": "stream",
     "text": [
      "{'accuracy': 0.6731}\n",
      "0.744959036855483\n"
     ]
    },
    {
     "data": {
      "application/vnd.jupyter.widget-view+json": {
       "model_id": "d572839ec64245759e973dbb4de95c24",
       "version_major": 2,
       "version_minor": 0
      },
      "text/plain": [
       "evaluating:   0%|          | 0/625 [00:00<?, ?it/s]"
      ]
     },
     "metadata": {},
     "output_type": "display_data"
    },
    {
     "name": "stdout",
     "output_type": "stream",
     "text": [
      "{'accuracy': 0.6727}\n",
      "0.7454796751599946\n"
     ]
    },
    {
     "data": {
      "application/vnd.jupyter.widget-view+json": {
       "model_id": "ab46843941ee4b6f81e0c9a1af1e76a4",
       "version_major": 2,
       "version_minor": 0
      },
      "text/plain": [
       "evaluating:   0%|          | 0/625 [00:00<?, ?it/s]"
      ]
     },
     "metadata": {},
     "output_type": "display_data"
    },
    {
     "name": "stdout",
     "output_type": "stream",
     "text": [
      "{'accuracy': 0.6593}\n",
      "0.7464018512135756\n"
     ]
    },
    {
     "data": {
      "application/vnd.jupyter.widget-view+json": {
       "model_id": "86585bfa48a949938abdcf436c0dfcf1",
       "version_major": 2,
       "version_minor": 0
      },
      "text/plain": [
       "evaluating:   0%|          | 0/625 [00:00<?, ?it/s]"
      ]
     },
     "metadata": {},
     "output_type": "display_data"
    },
    {
     "name": "stdout",
     "output_type": "stream",
     "text": [
      "{'accuracy': 0.6764}\n",
      "0.7475742847052016\n"
     ]
    },
    {
     "data": {
      "application/vnd.jupyter.widget-view+json": {
       "model_id": "b628a08e14d4405daefbab349a5f7ebe",
       "version_major": 2,
       "version_minor": 0
      },
      "text/plain": [
       "evaluating:   0%|          | 0/625 [00:00<?, ?it/s]"
      ]
     },
     "metadata": {},
     "output_type": "display_data"
    },
    {
     "name": "stdout",
     "output_type": "stream",
     "text": [
      "{'accuracy': 0.6461}\n",
      "0.7473703909370462\n"
     ]
    },
    {
     "data": {
      "application/vnd.jupyter.widget-view+json": {
       "model_id": "e82b82ef891a4e94b6cd436ae8640b0c",
       "version_major": 2,
       "version_minor": 0
      },
      "text/plain": [
       "evaluating:   0%|          | 0/625 [00:00<?, ?it/s]"
      ]
     },
     "metadata": {},
     "output_type": "display_data"
    },
    {
     "name": "stdout",
     "output_type": "stream",
     "text": [
      "{'accuracy': 0.6635}\n",
      "0.7473890073245735\n"
     ]
    },
    {
     "data": {
      "application/vnd.jupyter.widget-view+json": {
       "model_id": "9b29b538c3ca4b8295cfc8356027fa4a",
       "version_major": 2,
       "version_minor": 0
      },
      "text/plain": [
       "evaluating:   0%|          | 0/625 [00:00<?, ?it/s]"
      ]
     },
     "metadata": {},
     "output_type": "display_data"
    },
    {
     "name": "stdout",
     "output_type": "stream",
     "text": [
      "{'accuracy': 0.6694}\n",
      "0.747555845616603\n"
     ]
    },
    {
     "data": {
      "application/vnd.jupyter.widget-view+json": {
       "model_id": "5a1976526da746b28b63976f6f3a0008",
       "version_major": 2,
       "version_minor": 0
      },
      "text/plain": [
       "evaluating:   0%|          | 0/625 [00:00<?, ?it/s]"
      ]
     },
     "metadata": {},
     "output_type": "display_data"
    },
    {
     "name": "stdout",
     "output_type": "stream",
     "text": [
      "{'accuracy': 0.6629}\n",
      "0.7475688770878721\n"
     ]
    },
    {
     "data": {
      "application/vnd.jupyter.widget-view+json": {
       "model_id": "f62d460f04584fe99694f8429502d6c7",
       "version_major": 2,
       "version_minor": 0
      },
      "text/plain": [
       "evaluating:   0%|          | 0/625 [00:00<?, ?it/s]"
      ]
     },
     "metadata": {},
     "output_type": "display_data"
    },
    {
     "name": "stdout",
     "output_type": "stream",
     "text": [
      "{'accuracy': 0.6485}\n",
      "0.7470290018495825\n"
     ]
    },
    {
     "data": {
      "application/vnd.jupyter.widget-view+json": {
       "model_id": "6ee5cfa447e54b4f842d74a96ecbd216",
       "version_major": 2,
       "version_minor": 0
      },
      "text/plain": [
       "evaluating:   0%|          | 0/625 [00:00<?, ?it/s]"
      ]
     },
     "metadata": {},
     "output_type": "display_data"
    },
    {
     "name": "stdout",
     "output_type": "stream",
     "text": [
      "{'accuracy': 0.6504}\n",
      "0.7469094137220861\n"
     ]
    },
    {
     "data": {
      "application/vnd.jupyter.widget-view+json": {
       "model_id": "d2dd3e70e9bc41d6ba7307252eb964e1",
       "version_major": 2,
       "version_minor": 0
      },
      "text/plain": [
       "evaluating:   0%|          | 0/625 [00:00<?, ?it/s]"
      ]
     },
     "metadata": {},
     "output_type": "display_data"
    },
    {
     "name": "stdout",
     "output_type": "stream",
     "text": [
      "{'accuracy': 0.6555}\n",
      "0.747306341699006\n"
     ]
    },
    {
     "data": {
      "application/vnd.jupyter.widget-view+json": {
       "model_id": "27a6f478096d4fd89c677af5e6263a06",
       "version_major": 2,
       "version_minor": 0
      },
      "text/plain": [
       "evaluating:   0%|          | 0/625 [00:00<?, ?it/s]"
      ]
     },
     "metadata": {},
     "output_type": "display_data"
    },
    {
     "name": "stdout",
     "output_type": "stream",
     "text": [
      "{'accuracy': 0.6544}\n",
      "0.7474455656828703\n"
     ]
    },
    {
     "data": {
      "application/vnd.jupyter.widget-view+json": {
       "model_id": "3f3035b0cbdb466eba77cd560beb381c",
       "version_major": 2,
       "version_minor": 0
      },
      "text/plain": [
       "evaluating:   0%|          | 0/625 [00:00<?, ?it/s]"
      ]
     },
     "metadata": {},
     "output_type": "display_data"
    },
    {
     "name": "stdout",
     "output_type": "stream",
     "text": [
      "{'accuracy': 0.6426}\n",
      "0.7472689316250226\n"
     ]
    },
    {
     "data": {
      "application/vnd.jupyter.widget-view+json": {
       "model_id": "2dbadb5b13344d2b8751c7ad7aed58d8",
       "version_major": 2,
       "version_minor": 0
      },
      "text/plain": [
       "evaluating:   0%|          | 0/625 [00:00<?, ?it/s]"
      ]
     },
     "metadata": {},
     "output_type": "display_data"
    },
    {
     "name": "stdout",
     "output_type": "stream",
     "text": [
      "{'accuracy': 0.6495}\n",
      "0.7473365268416395\n"
     ]
    },
    {
     "data": {
      "application/vnd.jupyter.widget-view+json": {
       "model_id": "d5bdfccaf0ec45e78601a1c649dc62ad",
       "version_major": 2,
       "version_minor": 0
      },
      "text/plain": [
       "evaluating:   0%|          | 0/625 [00:00<?, ?it/s]"
      ]
     },
     "metadata": {},
     "output_type": "display_data"
    },
    {
     "name": "stdout",
     "output_type": "stream",
     "text": [
      "{'accuracy': 0.6523}\n",
      "0.7473544340334514\n"
     ]
    }
   ],
   "source": [
    "# model training\n",
    "num_classes = 2\n",
    "progress_bar = tqdm(range(num_training_steps))\n",
    "i=0\n",
    "metric = load_metric(\"accuracy\")\n",
    "\n",
    "for epoch in range(num_epochs):\n",
    "    print(f\"epoch {epoch+1}\")\n",
    "    model.train()\n",
    "    for batch in train_dataloader:\n",
    "        #batch = {k: v for k, v in batch.items()}\n",
    "        batch[\"input_ids\"] = torch.stack(batch[\"input_ids\"], axis=1).to(device)\n",
    "        batch[\"attention_mask\"] = torch.stack(batch[\"attention_mask\"], axis=1).to(device)\n",
    "        batch[\"labels\"] = batch[\"labels\"].to(device)\n",
    "        b_counter = Counter(batch['labels'].detach().cpu().tolist())\n",
    "        b_weights = torch.tensor([sum(batch['labels'].detach().cpu().tolist()) / b_counter[label] if b_counter[label] > 0 else 0 for label in list(range(num_classes)) ] )\n",
    "        b_weights = b_weights.to(device)\n",
    "        outputs = model(**batch)\n",
    "        logits = outputs.logits\n",
    "        criterion = torch.nn.CrossEntropyLoss(weight=b_weights)\n",
    "        loss = criterion(logits, batch['labels'])\n",
    "        loss.backward()\n",
    "\n",
    "        optimizer.step()\n",
    "        lr_scheduler.step()\n",
    "        optimizer.zero_grad()\n",
    "        progress_bar.update(1)\n",
    "    \n",
    "        i+=1\n",
    "        if i%1000==0:\n",
    "            model.eval()\n",
    "            preds, trues, logits = [], [], []\n",
    "            for i, batch in tqdm(enumerate(eval_dataloader), desc=\"evaluating\", total=eval_dataloader.__len__()):\n",
    "                batch = {k: v for k, v in batch.items()}\n",
    "                batch[\"input_ids\"] = torch.stack(batch[\"input_ids\"], axis=1).to(device)\n",
    "                batch[\"attention_mask\"] = torch.stack(batch[\"attention_mask\"], axis=1).to(device)\n",
    "                batch[\"labels\"] = batch[\"labels\"].to(device)\n",
    "                with torch.no_grad():\n",
    "                    outputs = model(**batch)\n",
    "\n",
    "                b_logits = outputs.logits\n",
    "                predictions = torch.argmax(b_logits, dim=-1)\n",
    "                metric.add_batch(predictions=predictions, references=batch[\"labels\"])\n",
    "\n",
    "                _, tag_seq  = torch.max(b_logits, 1)\n",
    "                preds.extend(tag_seq.cpu().detach().tolist())\n",
    "                trues.extend(batch['labels'].cpu().detach().tolist())\n",
    "                logits.extend(b_logits.cpu().detach().tolist())\n",
    "\n",
    "            print(metric.compute())\n",
    "\n",
    "            scores = torch.nn.functional.softmax(torch.tensor(logits), dim=1)[:,1]\n",
    "            fpr, tpr, thresholds = roc_curve(trues, scores)\n",
    "            print(auc(fpr, tpr))\n",
    "        if i > 5000:\n",
    "            break"
   ]
  },
  {
   "cell_type": "code",
   "execution_count": null,
   "metadata": {
    "id": "bq9PjGSvYZMl"
   },
   "outputs": [],
   "source": [
    "# The model seems to have converged\n",
    "model.save_pretrained(\"model2_save\")"
   ]
  },
  {
   "cell_type": "code",
   "execution_count": 26,
   "metadata": {},
   "outputs": [
    {
     "data": {
      "image/png": "[encoded data removed]",
      "text/plain": [
       "<Figure size 432x288 with 2 Axes>"
      ]
     },
     "metadata": {},
     "output_type": "display_data"
    }
   ],
   "source": [
    "# Confusion matrix\n",
    "names = [\"0\", \"1\"]\n",
    "cm = confusion_matrix(np.array(trues).flatten(), np.array(preds).flatten())\n",
    "df_cm = pd.DataFrame(cm, index=names, columns=names)\n",
    "sn.set(font_scale=1)\n",
    "sn.heatmap(df_cm, annot=True, annot_kws={\"size\": 8}, cmap='coolwarm', linewidth=0.5, fmt=\"\")\n",
    "plt.show()"
   ]
  },
  {
   "cell_type": "markdown",
   "metadata": {},
   "source": [
    "The dataset is heavily unbalanced, but for each class (every row) the majority of the samples are correctly classified"
   ]
  },
  {
   "cell_type": "code",
   "execution_count": 40,
   "metadata": {},
   "outputs": [
    {
     "data": {
      "image/png": "[encoded data removed]",
      "text/plain": [
       "<Figure size 432x288 with 1 Axes>"
      ]
     },
     "metadata": {},
     "output_type": "display_data"
    }
   ],
   "source": [
    "plt.plot(fpr,tpr)\n",
    "plt.title(\"ROC curve\");"
   ]
  },
  {
   "cell_type": "markdown",
   "metadata": {},
   "source": [
    "Given that this task is relatively difficult even for a human, the results seem satisfying."
   ]
  },
  {
   "cell_type": "markdown",
   "metadata": {
    "id": "VcWizidCahdd"
   },
   "source": [
    "Now we train the second model with 3 classes (we use negative sampling by randomly selecting irrelevant samples and assigning the label 0 to them)"
   ]
  },
  {
   "cell_type": "code",
   "execution_count": 135,
   "metadata": {},
   "outputs": [
    {
     "data": {
      "application/vnd.jupyter.widget-view+json": {
       "model_id": "6a5bfe9c395b4c519916914f37513226",
       "version_major": 2,
       "version_minor": 0
      },
      "text/plain": [
       "  0%|          | 0/88523 [00:00<?, ?it/s]"
      ]
     },
     "metadata": {},
     "output_type": "display_data"
    }
   ],
   "source": [
    "# add negative samples\n",
    "n_selected = np.sum(l_selected)\n",
    "l_selected = list(np.array(l_selected)+1)\n",
    "\n",
    "for i in tqdm(range(n_selected)):\n",
    "    # sample unrelated query and passage indices\n",
    "    q_idx = int(np.floor(np.random.uniform(low=0, high=len(df))))\n",
    "    p_idx = int(np.floor(np.random.uniform(low=0, high=len(df))))\n",
    "    # tokenize the query\n",
    "    q = df[\"query\"].iloc[q_idx]\n",
    "    q = tokenizer(q, max_length=64, truncation=True)\n",
    "    q_len = len(q['input_ids'])\n",
    "    # tokenize the passage\n",
    "    non_selected = np.where(np.array(df[\"passages\"][p_idx][\"is_selected\"])==0)[0]\n",
    "    while (q_idx==p_idx or len(non_selected)==0):\n",
    "        p_idx = int(np.floor(np.random.uniform(low=0, high=len(df))))\n",
    "        non_selected = np.where(np.array(df[\"passages\"][p_idx][\"is_selected\"])==0)[0]\n",
    "    p_idx2 = np.random.choice(non_selected)\n",
    "    p = df[\"passages\"][p_idx][\"passage_text\"][p_idx2]\n",
    "    p = tokenizer(p, max_length=512-q_len+1, padding=\"max_length\", truncation=True)\n",
    "    p['input_ids'] = p['input_ids'][1:]\n",
    "    p['attention_mask'] = p['attention_mask'][1:]\n",
    "    # merge query and passage, add to list\n",
    "    l_input_ids.append(q['input_ids']+p['input_ids'])\n",
    "    l_attention_mask.append(q['attention_mask']+p['attention_mask'])\n",
    "    # add a negative sample\n",
    "    l_selected.append(0)"
   ]
  },
  {
   "cell_type": "code",
   "execution_count": 184,
   "metadata": {},
   "outputs": [
    {
     "data": {
      "application/vnd.jupyter.widget-view+json": {
       "model_id": "8642062764af41f88ad159cc87fb73f8",
       "version_major": 2,
       "version_minor": 0
      },
      "text/plain": [
       "  0%|          | 0/47170 [00:00<?, ?it/s]"
      ]
     },
     "metadata": {},
     "output_type": "display_data"
    },
    {
     "name": "stdout",
     "output_type": "stream",
     "text": [
      "epoch 1\n"
     ]
    },
    {
     "data": {
      "application/vnd.jupyter.widget-view+json": {
       "model_id": "7a5fcc8024bc48859b1c0b05c82e9961",
       "version_major": 2,
       "version_minor": 0
      },
      "text/plain": [
       "evaluating:   0%|          | 0/625 [00:00<?, ?it/s]"
      ]
     },
     "metadata": {},
     "output_type": "display_data"
    },
    {
     "name": "stdout",
     "output_type": "stream",
     "text": [
      "{'accuracy': 0.7345963172804533}\n",
      "AUC class 0:  0.9993316619660705\n",
      "AUC class 1:  0.8533103997233228\n",
      "AUC class 2:  0.7637849885325299\n"
     ]
    },
    {
     "data": {
      "application/vnd.jupyter.widget-view+json": {
       "model_id": "525be2b1dc4246b88a95ea9403e015fe",
       "version_major": 2,
       "version_minor": 0
      },
      "text/plain": [
       "evaluating:   0%|          | 0/625 [00:00<?, ?it/s]"
      ]
     },
     "metadata": {},
     "output_type": "display_data"
    },
    {
     "name": "stdout",
     "output_type": "stream",
     "text": [
      "{'accuracy': 0.6722}\n",
      "AUC class 0:  0.9991488996865341\n",
      "AUC class 1:  0.8497334676376743\n",
      "AUC class 2:  0.7678999400332488\n"
     ]
    },
    {
     "data": {
      "application/vnd.jupyter.widget-view+json": {
       "model_id": "a982bdea3837490d93981cff0e10b6ba",
       "version_major": 2,
       "version_minor": 0
      },
      "text/plain": [
       "evaluating:   0%|          | 0/625 [00:00<?, ?it/s]"
      ]
     },
     "metadata": {},
     "output_type": "display_data"
    },
    {
     "name": "stdout",
     "output_type": "stream",
     "text": [
      "{'accuracy': 0.6774}\n",
      "AUC class 0:  0.9992392116048029\n",
      "AUC class 1:  0.8518151398450429\n",
      "AUC class 2:  0.7650162433693956\n"
     ]
    },
    {
     "data": {
      "application/vnd.jupyter.widget-view+json": {
       "model_id": "7311e842d2aa4c5f889e51a33883f211",
       "version_major": 2,
       "version_minor": 0
      },
      "text/plain": [
       "evaluating:   0%|          | 0/625 [00:00<?, ?it/s]"
      ]
     },
     "metadata": {},
     "output_type": "display_data"
    },
    {
     "name": "stdout",
     "output_type": "stream",
     "text": [
      "{'accuracy': 0.7456}\n",
      "AUC class 0:  0.999329722448002\n",
      "AUC class 1:  0.8585723340382677\n",
      "AUC class 2:  0.772284205893508\n"
     ]
    },
    {
     "data": {
      "application/vnd.jupyter.widget-view+json": {
       "model_id": "2ba5cb5be82740b7908bd34899a2e7ff",
       "version_major": 2,
       "version_minor": 0
      },
      "text/plain": [
       "evaluating:   0%|          | 0/625 [00:00<?, ?it/s]"
      ]
     },
     "metadata": {},
     "output_type": "display_data"
    },
    {
     "name": "stdout",
     "output_type": "stream",
     "text": [
      "{'accuracy': 0.7612}\n",
      "AUC class 0:  0.9994097897323704\n",
      "AUC class 1:  0.8555344279959753\n",
      "AUC class 2:  0.7677374435620541\n"
     ]
    },
    {
     "data": {
      "application/vnd.jupyter.widget-view+json": {
       "model_id": "e19158db8a8e43a2a7d6614e328380e6",
       "version_major": 2,
       "version_minor": 0
      },
      "text/plain": [
       "evaluating:   0%|          | 0/625 [00:00<?, ?it/s]"
      ]
     },
     "metadata": {},
     "output_type": "display_data"
    },
    {
     "name": "stdout",
     "output_type": "stream",
     "text": [
      "{'accuracy': 0.7048}\n",
      "AUC class 0:  0.999311222429502\n",
      "AUC class 1:  0.8549661869833536\n",
      "AUC class 2:  0.7676491208144121\n"
     ]
    },
    {
     "data": {
      "application/vnd.jupyter.widget-view+json": {
       "model_id": "f0d50a5a69894893afd6dcf0fe4560da",
       "version_major": 2,
       "version_minor": 0
      },
      "text/plain": [
       "evaluating:   0%|          | 0/625 [00:00<?, ?it/s]"
      ]
     },
     "metadata": {},
     "output_type": "display_data"
    },
    {
     "name": "stdout",
     "output_type": "stream",
     "text": [
      "{'accuracy': 0.7416}\n",
      "AUC class 0:  0.9993334522904415\n",
      "AUC class 1:  0.8574070314599298\n",
      "AUC class 2:  0.7709338674614072\n"
     ]
    },
    {
     "data": {
      "application/vnd.jupyter.widget-view+json": {
       "model_id": "3ddf64659d48461b92af3dbc5a020f3e",
       "version_major": 2,
       "version_minor": 0
      },
      "text/plain": [
       "evaluating:   0%|          | 0/625 [00:00<?, ?it/s]"
      ]
     },
     "metadata": {},
     "output_type": "display_data"
    },
    {
     "name": "stdout",
     "output_type": "stream",
     "text": [
      "{'accuracy': 0.7372}\n",
      "AUC class 0:  0.9994044187592573\n",
      "AUC class 1:  0.8587914885666358\n",
      "AUC class 2:  0.7718894336343649\n"
     ]
    },
    {
     "data": {
      "application/vnd.jupyter.widget-view+json": {
       "model_id": "43b8eda228b14589b1613d46f4835894",
       "version_major": 2,
       "version_minor": 0
      },
      "text/plain": [
       "evaluating:   0%|          | 0/625 [00:00<?, ?it/s]"
      ]
     },
     "metadata": {},
     "output_type": "display_data"
    },
    {
     "name": "stdout",
     "output_type": "stream",
     "text": [
      "{'accuracy': 0.7384}\n",
      "AUC class 0:  0.9994199349038059\n",
      "AUC class 1:  0.8566038029269172\n",
      "AUC class 2:  0.7707126018355486\n"
     ]
    },
    {
     "data": {
      "application/vnd.jupyter.widget-view+json": {
       "model_id": "17e856fc4c7b429bac87390a3192634e",
       "version_major": 2,
       "version_minor": 0
      },
      "text/plain": [
       "evaluating:   0%|          | 0/625 [00:00<?, ?it/s]"
      ]
     },
     "metadata": {},
     "output_type": "display_data"
    },
    {
     "name": "stdout",
     "output_type": "stream",
     "text": [
      "{'accuracy': 0.7292}\n",
      "AUC class 0:  0.9994299806127763\n",
      "AUC class 1:  0.8592126968650844\n",
      "AUC class 2:  0.7734218743526098\n"
     ]
    }
   ],
   "source": [
    "# train a new model\n",
    "\n",
    "dataset_df = pd.DataFrame(list(zip(l_input_ids, l_attention_mask, l_selected)), columns=[\"input_ids\", \"attention_mask\", \"labels\"])\n",
    "train_dataset = datasets.Dataset.from_pandas(dataset_df)\n",
    "eval_dataset = train_dataset.shuffle(seed=42).select(range(10000))\n",
    "train_dataset = train_dataset.shuffle(seed=42).select(range(10000,len(train_dataset)))\n",
    "train_dataloader = DataLoader(train_dataset, shuffle=True, batch_size=16)\n",
    "eval_dataloader = DataLoader(eval_dataset, batch_size=16)\n",
    "\n",
    "model = DistilBertForSequenceClassification.from_pretrained(\"distilbert-base-uncased\", num_labels=3)\n",
    "model.to(device)\n",
    "optimizer = Adam(model.parameters(), lr=1e-5)\n",
    "num_training_steps = num_epochs * len(train_dataloader)\n",
    "lr_scheduler = get_scheduler(\n",
    "    name=\"linear\", optimizer=optimizer, num_warmup_steps=3000, num_training_steps=num_training_steps\n",
    ")\n",
    "metric = load_metric(\"accuracy\")\n",
    "num_classes = 3\n",
    "progress_bar = tqdm(range(num_training_steps))\n",
    "i=0\n",
    "\n",
    "for epoch in range(num_epochs):\n",
    "    print(f\"epoch {epoch+1}\")\n",
    "    model.train()\n",
    "    for batch in train_dataloader:\n",
    "        #batch = {k: v for k, v in batch.items()}\n",
    "        batch[\"input_ids\"] = torch.stack(batch[\"input_ids\"], axis=1).to(device)\n",
    "        batch[\"attention_mask\"] = torch.stack(batch[\"attention_mask\"], axis=1).to(device)\n",
    "        batch[\"labels\"] = batch[\"labels\"].to(device)\n",
    "        b_counter = Counter(batch['labels'].detach().cpu().tolist())\n",
    "        b_weights = torch.tensor([sum(batch['labels'].detach().cpu().tolist()) / b_counter[label] if b_counter[label] > 0 else 0 for label in list(range(num_classes)) ] )\n",
    "        b_weights = b_weights.to(device)\n",
    "        outputs = model(**batch)\n",
    "        logits = outputs.logits\n",
    "        criterion = torch.nn.CrossEntropyLoss(weight=b_weights)\n",
    "        loss = criterion(logits, batch['labels'])\n",
    "        loss.backward()\n",
    "\n",
    "        optimizer.step()\n",
    "        lr_scheduler.step()\n",
    "        optimizer.zero_grad()\n",
    "        progress_bar.update(1)\n",
    "    \n",
    "        i+=1\n",
    "        if i%5000==0:\n",
    "            model.eval()\n",
    "            preds, trues, logits = [], [], []\n",
    "            for i, batch in tqdm(enumerate(eval_dataloader), desc=\"evaluating\", total=eval_dataloader.__len__()):\n",
    "                batch = {k: v for k, v in batch.items()}\n",
    "                batch[\"input_ids\"] = torch.stack(batch[\"input_ids\"], axis=1).to(device)\n",
    "                batch[\"attention_mask\"] = torch.stack(batch[\"attention_mask\"], axis=1).to(device)\n",
    "                batch[\"labels\"] = batch[\"labels\"].to(device)\n",
    "                with torch.no_grad():\n",
    "                    outputs = model(**batch)\n",
    "\n",
    "                b_logits = outputs.logits\n",
    "                predictions = torch.argmax(b_logits, dim=-1)\n",
    "                metric.add_batch(predictions=predictions, references=batch[\"labels\"])\n",
    "\n",
    "                _, tag_seq  = torch.max(b_logits, 1)\n",
    "                preds.extend(tag_seq.cpu().detach().tolist())\n",
    "                trues.extend(batch['labels'].cpu().detach().tolist())\n",
    "                logits.extend(b_logits.cpu().detach().tolist())\n",
    "\n",
    "            print(metric.compute())\n",
    "\n",
    "            scores, binary_trues = [],[]\n",
    "            for j in range(num_classes):\n",
    "                scores = torch.nn.functional.softmax(torch.tensor(logits), dim=1)[:,j]\n",
    "                binary_trues = np.array(trues)==j\n",
    "                fpr, tpr, thresholds = roc_curve(binary_trues, scores)\n",
    "                print(f\"AUC class {j}: \", auc(fpr, tpr))"
   ]
  },
  {
   "cell_type": "markdown",
   "metadata": {},
   "source": [
    "The model correctly classifies almost all class 0 documents because they do not feature the same keywords as the query, so they are easy to detect. But we obtain good performance on the other classes too."
   ]
  },
  {
   "cell_type": "code",
   "execution_count": 185,
   "metadata": {},
   "outputs": [],
   "source": [
    "model.save_pretrained(\"model2_save\")"
   ]
  },
  {
   "cell_type": "markdown",
   "metadata": {
    "id": "nsIfvODeizu7"
   },
   "source": [
    "### Evaluation of DistilBERT"
   ]
  },
  {
   "cell_type": "markdown",
   "metadata": {},
   "source": [
    "The models take many hours to train so to make this part immediately runnable we download some saved results:"
   ]
  },
  {
   "cell_type": "code",
   "execution_count": null,
   "metadata": {},
   "outputs": [],
   "source": [
    "!pip install gdown"
   ]
  },
  {
   "cell_type": "code",
   "execution_count": null,
   "metadata": {},
   "outputs": [],
   "source": [
    "!gdown --folder https://drive.google.com/drive/folders/15XH7NaUnRV82haWlK-JBOMR-YOSiZYCM?usp=sharing"
   ]
  },
  {
   "cell_type": "code",
   "execution_count": null,
   "metadata": {},
   "outputs": [],
   "source": [
    "!gdown --folder https://drive.google.com/drive/folders/1Bykb1l3ra-IpBK8K5iIbKWchC7GawRsz?usp=sharing"
   ]
  },
  {
   "cell_type": "code",
   "execution_count": 4,
   "metadata": {
    "id": "c8zjQibQi9Ql"
   },
   "outputs": [],
   "source": [
    "saves_path = \"model1_save/\""
   ]
  },
  {
   "cell_type": "code",
   "execution_count": 6,
   "metadata": {
    "id": "1ZxxsarSo79e"
   },
   "outputs": [],
   "source": [
    "tokenizer = DistilBertTokenizer.from_pretrained(\"distilbert-base-uncased\", use_fast=True)"
   ]
  },
  {
   "cell_type": "markdown",
   "metadata": {
    "id": "YhLGd2HApfgl"
   },
   "source": [
    "We load the dataset (MS MARCO test set for the evaluation)"
   ]
  },
  {
   "cell_type": "code",
   "execution_count": 23,
   "metadata": {
    "colab": {
     "base_uri": "https://localhost:8080/",
     "height": 66,
     "referenced_widgets": [
      "cca3ebea33904b7d8a7260b5db09af4e",
      "132113947b84477eb671a4b876d1e2d9",
      "4c130b31f595482196b5d11d412c95d2",
      "06d80a0e7dc049d3b75cc771a97d11bc",
      "7a6c079175044c83959a7b393d491847",
      "4fa4ad220b1d41168680f759f0fc1a75",
      "dfadd29dac1c4aac93d8ebf1303ff715",
      "46fab1db06fb4df0808329495f267d3b",
      "ff136bbf84334ca4925630a717c77bb9",
      "05550cb1d98b421082cfc1946562481b",
      "f37cae372a7440e1917db36cc84c865d"
     ]
    },
    "id": "ioefHcu_oJCx",
    "outputId": "fa5e70fe-a6a5-449d-e655-7b05d3d13a21"
   },
   "outputs": [
    {
     "name": "stderr",
     "output_type": "stream",
     "text": [
      "Reusing dataset ms_marco (/root/.cache/huggingface/datasets/ms_marco/v1.1/1.1.0/b6a62715fa5219aea5275dd3556601004cd63945cb63e36e022f77bb3cbbca84)\n"
     ]
    },
    {
     "data": {
      "application/vnd.jupyter.widget-view+json": {
       "model_id": "cca3ebea33904b7d8a7260b5db09af4e",
       "version_major": 2,
       "version_minor": 0
      },
      "text/plain": [
       "  0%|          | 0/3 [00:00<?, ?it/s]"
      ]
     },
     "metadata": {},
     "output_type": "display_data"
    }
   ],
   "source": [
    "dataset = load_dataset('ms_marco', 'v1.1')\n",
    "df = dataset[\"test\"].to_pandas()\n",
    "del dataset"
   ]
  },
  {
   "cell_type": "markdown",
   "metadata": {
    "id": "Vi24Ztmtp05m"
   },
   "source": [
    "We tokenize the queries and documents"
   ]
  },
  {
   "cell_type": "code",
   "execution_count": null,
   "metadata": {
    "id": "LAZnwGdUpziS"
   },
   "outputs": [],
   "source": [
    "l_input_ids, l_attention_mask = [],[] # model inputs\n",
    "df_doc_dict = {} # maps each df index to its passage\n",
    "doc_number = 0\n",
    "bm25 = BimExt(index=inverted_index_sortpost, extension='bm25', k=1.5, b=0.75)\n",
    "bm25.top = 50\n",
    "for q in df[\"query\"]:\n",
    "    q_tokenized = tokenizer(q, max_length=64, truncation=True)\n",
    "    for id,_ in bm25.retrieval(query=q):\n",
    "        # get passage\n",
    "        p = bm25.index.documents[id].content\n",
    "        # add passage to dict\n",
    "        df_doc_dict[doc_number] = p\n",
    "        doc_number += 1\n",
    "        # get model input (token ids and attention mask)\n",
    "        input_ids, attention_mask = tokenize_passage(q_tokenized,p)\n",
    "        l_input_ids.append(input_ids)\n",
    "        l_attention_mask.append(attention_mask)"
   ]
  },
  {
   "cell_type": "code",
   "execution_count": 6,
   "metadata": {
    "id": "kZcnFUEnxTVj"
   },
   "outputs": [],
   "source": [
    "# The last cell takes a few minutes to run, we saved its results for faster access\n",
    "l_input_ids = joblib.load(saves_path+\"l_input_ids.pkl\")\n",
    "l_attention_mask = joblib.load(saves_path+\"l_attention_mask.pkl\")"
   ]
  },
  {
   "cell_type": "markdown",
   "metadata": {
    "id": "lJ8_IZtnqo2C"
   },
   "source": [
    "We create the dataloader"
   ]
  },
  {
   "cell_type": "code",
   "execution_count": null,
   "metadata": {
    "id": "MOa2rEwz6IEQ"
   },
   "outputs": [],
   "source": [
    "dataset_df = pd.DataFrame(list(zip(l_input_ids, l_attention_mask)), columns=[\"input_ids\", \"attention_mask\"])\n",
    "del l_input_ids\n",
    "del l_attention_mask\n",
    "test_dataset = datasets.Dataset.from_pandas(dataset_df)\n",
    "test_dataloader = DataLoader(test_dataset, batch_size=16)"
   ]
  },
  {
   "cell_type": "markdown",
   "metadata": {
    "id": "jQ8RViLYzT2s"
   },
   "source": [
    "Perform model inference and obtain classification scores"
   ]
  },
  {
   "cell_type": "code",
   "execution_count": 340,
   "metadata": {},
   "outputs": [
    {
     "data": {
      "application/vnd.jupyter.widget-view+json": {
       "model_id": "cc7fe6446684410c9824a0e806958c96",
       "version_major": 2,
       "version_minor": 0
      },
      "text/plain": [
       "evaluating:   0%|          | 0/30157 [00:00<?, ?it/s]"
      ]
     },
     "metadata": {},
     "output_type": "display_data"
    }
   ],
   "source": [
    "model1 = DistilBertForSequenceClassification.from_pretrained(\"model2_save\", num_labels=3)\n",
    "model1.to(device)\n",
    "model1.eval()\n",
    "logits = []\n",
    "for i, batch in tqdm(enumerate(test_dataloader), desc=\"evaluating\", total=test_dataloader.__len__()):\n",
    "    batch[\"input_ids\"] = torch.stack(batch[\"input_ids\"], axis=1).to(device)\n",
    "    batch[\"attention_mask\"] = torch.stack(batch[\"attention_mask\"], axis=1).to(device)\n",
    "    with torch.no_grad():\n",
    "        outputs = model1(**batch)\n",
    "    logits.extend(outputs.logits.cpu().detach().tolist())\n",
    "scores = torch.nn.functional.softmax(torch.tensor(logits), dim=1)[:,1]"
   ]
  },
  {
   "cell_type": "code",
   "execution_count": 5,
   "metadata": {
    "id": "gfwlS_tAmiAx"
   },
   "outputs": [],
   "source": [
    "# The preceding code takes a few hours to run, we saved its results so they can be used immediately\n",
    "# saved logits from model inference\n",
    "logits = joblib.load(saves_path+\"logits.pkl\")\n",
    "# saved dict of document ids used for indexation\n",
    "df_doc_dict = joblib.load(saves_path+\"df_doc_dict.pkl\")"
   ]
  },
  {
   "cell_type": "code",
   "execution_count": 18,
   "metadata": {
    "id": "zl1QHkR4mhTc"
   },
   "outputs": [],
   "source": [
    "# Some dictionaries needed to map documents and queries with their IDs\n",
    "doc_dict = {}\n",
    "for i in range(1,np.max(list(inverted_index_sortpost.documents.keys()))+1):\n",
    "    doc_dict[inverted_index_sortpost.documents[i].content] = i\n",
    "queries = {}\n",
    "i=0\n",
    "for query in judgments:\n",
    "    queries[query] = i\n",
    "    i+=1"
   ]
  },
  {
   "cell_type": "code",
   "execution_count": 37,
   "metadata": {
    "id": "lGnsehUyizbs"
   },
   "outputs": [],
   "source": [
    "# Placeholder class to yield the retrieval results for model evalutaion\n",
    "class BERT_model():\n",
    "    def __init__(self):\n",
    "        self.top = 10\n",
    "    def retrieval(self, query):\n",
    "        # get query id\n",
    "        query_id = queries[query]\n",
    "        # get passage scores\n",
    "        passage_starting_id = query_id*50\n",
    "        passage_scores = np.array(scores[passage_starting_id:passage_starting_id+50])\n",
    "        # get the top K\n",
    "        ind = np.argpartition(passage_scores, -self.top)[-self.top:]\n",
    "        ind = ind[np.argsort(passage_scores[ind])][::-1] + passage_starting_id\n",
    "        # convert their indices to IDs\n",
    "        ids = [doc_dict[df_doc_dict[i]] for i in ind]\n",
    "        res = [(ids[i], float(scores[ind[i]])) for i in range(len(ids))]\n",
    "        return(res)\n",
    "\n",
    "bert1 = BERT_model()"
   ]
  },
  {
   "cell_type": "code",
   "execution_count": 342,
   "metadata": {},
   "outputs": [
    {
     "name": "stderr",
     "output_type": "stream",
     "text": [
      "100%|██████████| 101/101 [00:00<00:00, 21187.59it/s]\n"
     ]
    },
    {
     "data": {
      "text/plain": [
       "0.44235030645921736"
      ]
     },
     "execution_count": 342,
     "metadata": {},
     "output_type": "execute_result"
    }
   ],
   "source": [
    "MRR(bert1, {query: rel for pos, (query, rel) in enumerate(judgments.items()) if pos<=100}, at_K=10)"
   ]
  },
  {
   "cell_type": "code",
   "execution_count": 343,
   "metadata": {},
   "outputs": [
    {
     "data": {
      "application/vnd.jupyter.widget-view+json": {
       "model_id": "652d2099612f40e6816d0951e8472a5a",
       "version_major": 2,
       "version_minor": 0
      },
      "text/plain": [
       "  0%|          | 0/9650 [00:00<?, ?it/s]"
      ]
     },
     "metadata": {},
     "output_type": "display_data"
    },
    {
     "data": {
      "text/plain": [
       "0.45378162453550946"
      ]
     },
     "execution_count": 343,
     "metadata": {},
     "output_type": "execute_result"
    }
   ],
   "source": [
    "MAP(bert1, judgments)"
   ]
  },
  {
   "cell_type": "markdown",
   "metadata": {},
   "source": [
    "Now we evaluate the second model (multiclass):"
   ]
  },
  {
   "cell_type": "code",
   "execution_count": null,
   "metadata": {
    "id": "hvyEqfiJzPe1"
   },
   "outputs": [],
   "source": [
    "model2 = DistilBertForSequenceClassification.from_pretrained(\"model2_save\", num_labels=3)\n",
    "model2.to(device)\n",
    "model2.eval()\n",
    "logits = []\n",
    "for i, batch in tqdm(enumerate(test_dataloader), desc=\"evaluating\", total=test_dataloader.__len__()):\n",
    "    batch = {k: v for k, v in batch.items()}\n",
    "    batch[\"input_ids\"] = torch.stack(batch[\"input_ids\"], axis=1).to(device)\n",
    "    batch[\"attention_mask\"] = torch.stack(batch[\"attention_mask\"], axis=1).to(device)\n",
    "    with torch.no_grad():\n",
    "        outputs = model2(**batch)\n",
    "    logits.extend(outputs.logits.cpu().detach().tolist())"
   ]
  },
  {
   "cell_type": "code",
   "execution_count": null,
   "metadata": {},
   "outputs": [],
   "source": [
    "# saved logits\n",
    "#logits = joblib.load(\"drive/MyDrive/Projects/NLP/model2_save/logits.pkl\")"
   ]
  },
  {
   "cell_type": "markdown",
   "metadata": {
    "id": "eJcN-HxE3dpA"
   },
   "source": [
    "We calculate the score of each document with a weighted average of the score of the class 2 (is_selected) and class 1 (relevant). We give more weight to class 2 since its documents are the most relevant."
   ]
  },
  {
   "cell_type": "code",
   "execution_count": 36,
   "metadata": {
    "id": "pmGtOppOma7-"
   },
   "outputs": [],
   "source": [
    "scores_1 = torch.nn.functional.softmax(torch.tensor(logits), dim=1)[:,1]\n",
    "scores_2 = torch.nn.functional.softmax(torch.tensor(logits), dim=1)[:,2]\n",
    "scores = (scores_1+scores_2*2)/3"
   ]
  },
  {
   "cell_type": "code",
   "execution_count": null,
   "metadata": {},
   "outputs": [],
   "source": [
    "bert2 = BERT_model() # this object will retrieve the scores from the 'scores' variable"
   ]
  },
  {
   "cell_type": "code",
   "execution_count": 38,
   "metadata": {
    "colab": {
     "base_uri": "https://localhost:8080/"
    },
    "id": "AHPVlGHAiu7f",
    "outputId": "fad93fb4-6efc-4a27-9cb1-ad4223e198b3"
   },
   "outputs": [
    {
     "name": "stderr",
     "output_type": "stream",
     "text": [
      "100%|██████████| 101/101 [00:00<00:00, 6612.52it/s]\n"
     ]
    },
    {
     "data": {
      "text/plain": [
       "0.45594452302373095"
      ]
     },
     "execution_count": 38,
     "metadata": {},
     "output_type": "execute_result"
    }
   ],
   "source": [
    "MRR(bert2, {query: rel for pos, (query, rel) in enumerate(judgments.items()) if pos<=100}, at_K=10)"
   ]
  },
  {
   "cell_type": "code",
   "execution_count": 39,
   "metadata": {
    "colab": {
     "base_uri": "https://localhost:8080/"
    },
    "id": "BbG2xYNrsHVr",
    "outputId": "c7380cf6-c3fe-4968-a1e7-6fba28488577"
   },
   "outputs": [
    {
     "name": "stderr",
     "output_type": "stream",
     "text": [
      "100%|██████████| 9650/9650 [00:01<00:00, 8592.37it/s]\n"
     ]
    },
    {
     "data": {
      "text/plain": [
       "0.5267302297587247"
      ]
     },
     "execution_count": 39,
     "metadata": {},
     "output_type": "execute_result"
    }
   ],
   "source": [
    "MAP(bert2, judgments)"
   ]
  },
  {
   "cell_type": "markdown",
   "metadata": {},
   "source": [
    "We obtain a significantly better MRR score than the other models, while the MAP is not the best but still satisfactory. We retain the second model (multiclass)."
   ]
  },
  {
   "cell_type": "markdown",
   "metadata": {
    "id": "m93pR7z-kKqd"
   },
   "source": [
    "### Next steps: Other deep learning models"
   ]
  },
  {
   "cell_type": "markdown",
   "metadata": {
    "id": "un0HwGRJkZii"
   },
   "source": [
    "Training the MatchPyramid model"
   ]
  },
  {
   "cell_type": "code",
   "execution_count": null,
   "metadata": {
    "colab": {
     "base_uri": "https://localhost:8080/"
    },
    "id": "_W0Zu0o6kJC9",
    "outputId": "ed249d4c-7a7a-4866-907c-b27daf282f26"
   },
   "outputs": [
    {
     "name": "stdout",
     "output_type": "stream",
     "text": [
      "Reusing dataset ms_marco (/root/.cache/huggingface/datasets/ms_marco/v1.1/1.1.0/b6a62715fa5219aea5275dd3556601004cd63945cb63e36e022f77bb3cbbca84)\n",
      "100% 3/3 [00:00<00:00, 19.24it/s]\n",
      ".vector_cache/glove.6B.zip: 862MB [02:41, 5.35MB/s]               \n",
      "100% 399999/400000 [00:10<00:00, 38256.69it/s]\n",
      "Preprocessing train split\n",
      "100% 82326/82326 [00:13<00:00, 5905.81it/s]\n",
      "100% 82326/82326 [00:25<00:00, 3178.71it/s]\n",
      "Preprocessing test split\n",
      "100% 9650/9650 [00:01<00:00, 6019.33it/s]\n",
      "100% 9650/9650 [00:02<00:00, 3333.46it/s]\n",
      "Preprocessing validation split\n",
      "100% 10047/10047 [00:02<00:00, 4309.29it/s]\n",
      "100% 10047/10047 [00:02<00:00, 3385.16it/s]\n",
      "device cpu\n",
      "Epoch 0:: 100% 3/3 [00:00<00:00,  4.31it/s]\n",
      "Epoch \u001b[34m0\u001b[0m/100 : \u001b[34mTraining\u001b[0m : (\u001b[36mloss\u001b[0m 0.9662131567796072) (\u001b[36macc\u001b[0m 1.0)\n",
      "validation:: 100% 3/3 [00:00<00:00, 244.55it/s]\n",
      "\u001b[34mvalidation\u001b[0m : (\u001b[36mloss\u001b[0m 0.8029371996720632) (\u001b[36macc\u001b[0m 0.6666666666666666)\n",
      "Epoch 1:: 100% 3/3 [00:00<00:00, 88.65it/s]\n",
      "Epoch \u001b[34m1\u001b[0m/100 : \u001b[34mTraining\u001b[0m : (\u001b[36mloss\u001b[0m 0.9727870523929596) (\u001b[36macc\u001b[0m 1.0)\n",
      "validation:: 100% 3/3 [00:00<00:00, 240.50it/s]\n",
      "\u001b[34mvalidation\u001b[0m : (\u001b[36mloss\u001b[0m 0.8070769409338633) (\u001b[36macc\u001b[0m 0.6666666666666666)\n",
      "Epoch 2:: 100% 3/3 [00:00<00:00, 63.59it/s]\n",
      "Epoch \u001b[34m2\u001b[0m/100 : \u001b[34mTraining\u001b[0m : (\u001b[36mloss\u001b[0m 0.9687483410040537) (\u001b[36macc\u001b[0m 1.0)\n",
      "validation:: 100% 3/3 [00:00<00:00, 230.35it/s]\n",
      "\u001b[34mvalidation\u001b[0m : (\u001b[36mloss\u001b[0m 0.804131954908371) (\u001b[36macc\u001b[0m 0.6666666666666666)\n",
      "Epoch 3:: 100% 3/3 [00:00<00:00, 79.96it/s]\n",
      "Epoch \u001b[34m3\u001b[0m/100 : \u001b[34mTraining\u001b[0m : (\u001b[36mloss\u001b[0m 0.9583691656589508) (\u001b[36macc\u001b[0m 1.0)\n",
      "validation:: 100% 3/3 [00:00<00:00, 247.84it/s]\n",
      "\u001b[34mvalidation\u001b[0m : (\u001b[36mloss\u001b[0m 0.8018820782502493) (\u001b[36macc\u001b[0m 0.6666666666666666)\n",
      "Epoch 4:: 100% 3/3 [00:00<00:00, 83.95it/s]\n",
      "Epoch \u001b[34m4\u001b[0m/100 : \u001b[34mTraining\u001b[0m : (\u001b[36mloss\u001b[0m 0.9654984474182129) (\u001b[36macc\u001b[0m 1.0)\n",
      "validation:: 100% 3/3 [00:00<00:00, 250.82it/s]\n",
      "\u001b[34mvalidation\u001b[0m : (\u001b[36mloss\u001b[0m 0.8061632613341013) (\u001b[36macc\u001b[0m 0.6666666666666666)\n",
      "Epoch 5:: 100% 3/3 [00:00<00:00, 74.30it/s]\n",
      "Epoch \u001b[34m5\u001b[0m/100 : \u001b[34mTraining\u001b[0m : (\u001b[36mloss\u001b[0m 0.9640378554662069) (\u001b[36macc\u001b[0m 1.0)\n",
      "validation:: 100% 3/3 [00:00<00:00, 234.85it/s]\n",
      "\u001b[34mvalidation\u001b[0m : (\u001b[36mloss\u001b[0m 0.8002142608165741) (\u001b[36macc\u001b[0m 0.6666666666666666)\n",
      "Epoch 6:: 100% 3/3 [00:00<00:00, 90.88it/s]\n",
      "Epoch \u001b[34m6\u001b[0m/100 : \u001b[34mTraining\u001b[0m : (\u001b[36mloss\u001b[0m 0.9679733117421468) (\u001b[36macc\u001b[0m 1.0)\n",
      "validation:: 100% 3/3 [00:00<00:00, 271.14it/s]\n",
      "\u001b[34mvalidation\u001b[0m : (\u001b[36mloss\u001b[0m 0.8056108852227529) (\u001b[36macc\u001b[0m 0.6666666666666666)\n",
      "Epoch 7:: 100% 3/3 [00:00<00:00, 89.71it/s]\n",
      "Epoch \u001b[34m7\u001b[0m/100 : \u001b[34mTraining\u001b[0m : (\u001b[36mloss\u001b[0m 0.9608188072840372) (\u001b[36macc\u001b[0m 1.0)\n",
      "validation:: 100% 3/3 [00:00<00:00, 241.78it/s]\n",
      "\u001b[34mvalidation\u001b[0m : (\u001b[36mloss\u001b[0m 0.8018275002638499) (\u001b[36macc\u001b[0m 0.6666666666666666)\n",
      "Epoch 8:: 100% 3/3 [00:00<00:00, 86.77it/s]\n",
      "Epoch \u001b[34m8\u001b[0m/100 : \u001b[34mTraining\u001b[0m : (\u001b[36mloss\u001b[0m 0.9632847706476847) (\u001b[36macc\u001b[0m 1.0)\n",
      "validation:: 100% 3/3 [00:00<00:00, 254.70it/s]\n",
      "\u001b[34mvalidation\u001b[0m : (\u001b[36mloss\u001b[0m 0.7975553572177887) (\u001b[36macc\u001b[0m 0.6666666666666666)\n",
      "Epoch 9:: 100% 3/3 [00:00<00:00, 90.52it/s]\n",
      "Epoch \u001b[34m9\u001b[0m/100 : \u001b[34mTraining\u001b[0m : (\u001b[36mloss\u001b[0m 0.9529351890087128) (\u001b[36macc\u001b[0m 1.0)\n",
      "validation:: 100% 3/3 [00:00<00:00, 252.83it/s]\n",
      "\u001b[34mvalidation\u001b[0m : (\u001b[36mloss\u001b[0m 0.8058487077554067) (\u001b[36macc\u001b[0m 0.6666666666666666)\n",
      "Epoch 10:: 100% 3/3 [00:00<00:00, 84.30it/s]\n",
      "Epoch \u001b[34m10\u001b[0m/100 : \u001b[34mTraining\u001b[0m : (\u001b[36mloss\u001b[0m 0.969505379597346) (\u001b[36macc\u001b[0m 1.0)\n",
      "validation:: 100% 3/3 [00:00<00:00, 263.63it/s]\n",
      "\u001b[34mvalidation\u001b[0m : (\u001b[36mloss\u001b[0m 0.7972396910190582) (\u001b[36macc\u001b[0m 0.6666666666666666)\n",
      "Epoch 11:: 100% 3/3 [00:00<00:00, 91.84it/s]\n",
      "Epoch \u001b[34m11\u001b[0m/100 : \u001b[34mTraining\u001b[0m : (\u001b[36mloss\u001b[0m 0.9582774837811788) (\u001b[36macc\u001b[0m 1.0)\n",
      "validation:: 100% 3/3 [00:00<00:00, 230.15it/s]\n",
      "\u001b[34mvalidation\u001b[0m : (\u001b[36mloss\u001b[0m 0.7937274674574534) (\u001b[36macc\u001b[0m 0.6666666666666666)\n",
      "Epoch 12:: 100% 3/3 [00:00<00:00, 81.21it/s]\n",
      "Epoch \u001b[34m12\u001b[0m/100 : \u001b[34mTraining\u001b[0m : (\u001b[36mloss\u001b[0m 0.960609128077825) (\u001b[36macc\u001b[0m 1.0)\n",
      "validation:: 100% 3/3 [00:00<00:00, 249.04it/s]\n",
      "\u001b[34mvalidation\u001b[0m : (\u001b[36mloss\u001b[0m 0.7967435717582703) (\u001b[36macc\u001b[0m 0.6666666666666666)\n",
      "Epoch 13:: 100% 3/3 [00:00<00:00, 91.00it/s]\n",
      "Epoch \u001b[34m13\u001b[0m/100 : \u001b[34mTraining\u001b[0m : (\u001b[36mloss\u001b[0m 0.951051245133082) (\u001b[36macc\u001b[0m 1.0)\n",
      "validation:: 100% 3/3 [00:00<00:00, 242.09it/s]\n",
      "\u001b[34mvalidation\u001b[0m : (\u001b[36mloss\u001b[0m 0.7945275207360586) (\u001b[36macc\u001b[0m 0.6666666666666666)\n",
      "Epoch 14:: 100% 3/3 [00:00<00:00, 94.07it/s]\n",
      "Epoch \u001b[34m14\u001b[0m/100 : \u001b[34mTraining\u001b[0m : (\u001b[36mloss\u001b[0m 0.9575613935788473) (\u001b[36macc\u001b[0m 1.0)\n",
      "validation:: 100% 3/3 [00:00<00:00, 252.51it/s]\n",
      "\u001b[34mvalidation\u001b[0m : (\u001b[36mloss\u001b[0m 0.7912155290444692) (\u001b[36macc\u001b[0m 0.6666666666666666)\n",
      "Epoch 15:: 100% 3/3 [00:00<00:00, 85.89it/s]\n",
      "Epoch \u001b[34m15\u001b[0m/100 : \u001b[34mTraining\u001b[0m : (\u001b[36mloss\u001b[0m 0.9377750953038534) (\u001b[36macc\u001b[0m 1.0)\n",
      "validation:: 100% 3/3 [00:00<00:00, 253.57it/s]\n",
      "\u001b[34mvalidation\u001b[0m : (\u001b[36mloss\u001b[0m 0.8047330677509308) (\u001b[36macc\u001b[0m 0.6666666666666666)\n",
      "Epoch 16:: 100% 3/3 [00:00<00:00, 89.34it/s]\n",
      "Epoch \u001b[34m16\u001b[0m/100 : \u001b[34mTraining\u001b[0m : (\u001b[36mloss\u001b[0m 0.935088187456131) (\u001b[36macc\u001b[0m 1.0)\n",
      "validation:: 100% 3/3 [00:00<00:00, 258.54it/s]\n",
      "\u001b[34mvalidation\u001b[0m : (\u001b[36mloss\u001b[0m 0.8005221287409464) (\u001b[36macc\u001b[0m 0.6666666666666666)\n",
      "Epoch 17:: 100% 3/3 [00:00<00:00, 84.87it/s]\n",
      "Epoch \u001b[34m17\u001b[0m/100 : \u001b[34mTraining\u001b[0m : (\u001b[36mloss\u001b[0m 0.9553688863913218) (\u001b[36macc\u001b[0m 1.0)\n",
      "validation:: 100% 3/3 [00:00<00:00, 220.44it/s]\n",
      "\u001b[34mvalidation\u001b[0m : (\u001b[36mloss\u001b[0m 0.7910213569800059) (\u001b[36macc\u001b[0m 0.6666666666666666)\n",
      "Epoch 18:: 100% 3/3 [00:00<00:00, 77.62it/s]\n",
      "Epoch \u001b[34m18\u001b[0m/100 : \u001b[34mTraining\u001b[0m : (\u001b[36mloss\u001b[0m 0.943200687567393) (\u001b[36macc\u001b[0m 1.0)\n",
      "validation:: 100% 3/3 [00:00<00:00, 267.28it/s]\n",
      "\u001b[34mvalidation\u001b[0m : (\u001b[36mloss\u001b[0m 0.7930356959501902) (\u001b[36macc\u001b[0m 0.6666666666666666)\n",
      "Epoch 19:: 100% 3/3 [00:00<00:00, 88.73it/s]\n",
      "Epoch \u001b[34m19\u001b[0m/100 : \u001b[34mTraining\u001b[0m : (\u001b[36mloss\u001b[0m 0.9394695858160654) (\u001b[36macc\u001b[0m 1.0)\n",
      "validation:: 100% 3/3 [00:00<00:00, 264.62it/s]\n",
      "\u001b[34mvalidation\u001b[0m : (\u001b[36mloss\u001b[0m 0.7859831154346466) (\u001b[36macc\u001b[0m 0.6666666666666666)\n",
      "Epoch 20:: 100% 3/3 [00:00<00:00, 90.60it/s]\n",
      "Epoch \u001b[34m20\u001b[0m/100 : \u001b[34mTraining\u001b[0m : (\u001b[36mloss\u001b[0m 0.9258432984352112) (\u001b[36macc\u001b[0m 1.0)\n",
      "validation:: 100% 3/3 [00:00<00:00, 277.59it/s]\n",
      "\u001b[34mvalidation\u001b[0m : (\u001b[36mloss\u001b[0m 0.7915489673614502) (\u001b[36macc\u001b[0m 0.6666666666666666)\n",
      "Epoch 21:: 100% 3/3 [00:00<00:00, 96.55it/s]\n",
      "Epoch \u001b[34m21\u001b[0m/100 : \u001b[34mTraining\u001b[0m : (\u001b[36mloss\u001b[0m 0.9267940719922384) (\u001b[36macc\u001b[0m 1.0)\n",
      "validation:: 100% 3/3 [00:00<00:00, 261.22it/s]\n",
      "\u001b[34mvalidation\u001b[0m : (\u001b[36mloss\u001b[0m 0.7906206448872884) (\u001b[36macc\u001b[0m 0.6666666666666666)\n",
      "Epoch 22:: 100% 3/3 [00:00<00:00, 89.75it/s]\n",
      "Epoch \u001b[34m22\u001b[0m/100 : \u001b[34mTraining\u001b[0m : (\u001b[36mloss\u001b[0m 0.9182111422220866) (\u001b[36macc\u001b[0m 1.0)\n",
      "validation:: 100% 3/3 [00:00<00:00, 277.96it/s]\n",
      "\u001b[34mvalidation\u001b[0m : (\u001b[36mloss\u001b[0m 0.7976870834827423) (\u001b[36macc\u001b[0m 0.6666666666666666)\n",
      "Epoch 23:: 100% 3/3 [00:00<00:00, 77.85it/s]\n",
      "Epoch \u001b[34m23\u001b[0m/100 : \u001b[34mTraining\u001b[0m : (\u001b[36mloss\u001b[0m 0.9189457396666209) (\u001b[36macc\u001b[0m 1.0)\n",
      "validation:: 100% 3/3 [00:00<00:00, 177.31it/s]\n",
      "\u001b[34mvalidation\u001b[0m : (\u001b[36mloss\u001b[0m 0.7919290165106455) (\u001b[36macc\u001b[0m 0.6666666666666666)\n",
      "Epoch 24:: 100% 3/3 [00:00<00:00, 69.89it/s]\n",
      "Epoch \u001b[34m24\u001b[0m/100 : \u001b[34mTraining\u001b[0m : (\u001b[36mloss\u001b[0m 0.9216863612333933) (\u001b[36macc\u001b[0m 1.0)\n",
      "validation:: 100% 3/3 [00:00<00:00, 237.50it/s]\n",
      "\u001b[34mvalidation\u001b[0m : (\u001b[36mloss\u001b[0m 0.7939932644367218) (\u001b[36macc\u001b[0m 0.6666666666666666)\n",
      "Epoch 25:: 100% 3/3 [00:00<00:00, 88.26it/s]\n",
      "Epoch \u001b[34m25\u001b[0m/100 : \u001b[34mTraining\u001b[0m : (\u001b[36mloss\u001b[0m 0.9057605564594269) (\u001b[36macc\u001b[0m 1.0)\n",
      "validation:: 100% 3/3 [00:00<00:00, 255.96it/s]\n",
      "\u001b[34mvalidation\u001b[0m : (\u001b[36mloss\u001b[0m 0.7818478047847748) (\u001b[36macc\u001b[0m 0.6666666666666666)\n",
      "Epoch 26:: 100% 3/3 [00:00<00:00, 89.73it/s]\n",
      "Epoch \u001b[34m26\u001b[0m/100 : \u001b[34mTraining\u001b[0m : (\u001b[36mloss\u001b[0m 0.9035059213638306) (\u001b[36macc\u001b[0m 1.0)\n",
      "validation:: 100% 3/3 [00:00<00:00, 247.29it/s]\n",
      "\u001b[34mvalidation\u001b[0m : (\u001b[36mloss\u001b[0m 0.7733697493871053) (\u001b[36macc\u001b[0m 0.6666666666666666)\n",
      "Epoch 27:: 100% 3/3 [00:00<00:00, 89.92it/s]\n",
      "Epoch \u001b[34m27\u001b[0m/100 : \u001b[34mTraining\u001b[0m : (\u001b[36mloss\u001b[0m 0.8925938705603281) (\u001b[36macc\u001b[0m 1.0)\n",
      "validation:: 100% 3/3 [00:00<00:00, 256.06it/s]\n",
      "\u001b[34mvalidation\u001b[0m : (\u001b[36mloss\u001b[0m 0.7531272172927856) (\u001b[36macc\u001b[0m 0.6666666666666666)\n",
      "Epoch 28:: 100% 3/3 [00:00<00:00, 89.66it/s]\n",
      "Epoch \u001b[34m28\u001b[0m/100 : \u001b[34mTraining\u001b[0m : (\u001b[36mloss\u001b[0m 0.9373696545759836) (\u001b[36macc\u001b[0m 1.0)\n",
      "validation:: 100% 3/3 [00:00<00:00, 262.61it/s]\n",
      "\u001b[34mvalidation\u001b[0m : (\u001b[36mloss\u001b[0m 0.7652076085408529) (\u001b[36macc\u001b[0m 0.6666666666666666)\n",
      "Epoch 29:: 100% 3/3 [00:00<00:00, 92.88it/s]\n",
      "Epoch \u001b[34m29\u001b[0m/100 : \u001b[34mTraining\u001b[0m : (\u001b[36mloss\u001b[0m 0.871593584616979) (\u001b[36macc\u001b[0m 1.0)\n",
      "validation:: 100% 3/3 [00:00<00:00, 263.09it/s]\n",
      "\u001b[34mvalidation\u001b[0m : (\u001b[36mloss\u001b[0m 0.7596850991249084) (\u001b[36macc\u001b[0m 0.6666666666666666)\n",
      "Epoch 30:: 100% 3/3 [00:00<00:00, 95.71it/s]\n",
      "Epoch \u001b[34m30\u001b[0m/100 : \u001b[34mTraining\u001b[0m : (\u001b[36mloss\u001b[0m 0.8660945693651835) (\u001b[36macc\u001b[0m 1.0)\n",
      "validation:: 100% 3/3 [00:00<00:00, 197.74it/s]\n",
      "\u001b[34mvalidation\u001b[0m : (\u001b[36mloss\u001b[0m 0.7659859855969747) (\u001b[36macc\u001b[0m 0.6666666666666666)\n",
      "Epoch 31:: 100% 3/3 [00:00<00:00, 82.65it/s]\n",
      "Epoch \u001b[34m31\u001b[0m/100 : \u001b[34mTraining\u001b[0m : (\u001b[36mloss\u001b[0m 0.8359043498833975) (\u001b[36macc\u001b[0m 1.0)\n",
      "validation:: 100% 3/3 [00:00<00:00, 264.90it/s]\n",
      "\u001b[34mvalidation\u001b[0m : (\u001b[36mloss\u001b[0m 0.72963813940684) (\u001b[36macc\u001b[0m 0.6666666666666666)\n",
      "Epoch 32:: 100% 3/3 [00:00<00:00, 92.66it/s]\n",
      "Epoch \u001b[34m32\u001b[0m/100 : \u001b[34mTraining\u001b[0m : (\u001b[36mloss\u001b[0m 0.8479371418555578) (\u001b[36macc\u001b[0m 1.0)\n",
      "validation:: 100% 3/3 [00:00<00:00, 237.40it/s]\n",
      "\u001b[34mvalidation\u001b[0m : (\u001b[36mloss\u001b[0m 0.7666890124479929) (\u001b[36macc\u001b[0m 0.6666666666666666)\n",
      "Epoch 33:: 100% 3/3 [00:00<00:00, 90.19it/s]\n",
      "Epoch \u001b[34m33\u001b[0m/100 : \u001b[34mTraining\u001b[0m : (\u001b[36mloss\u001b[0m 0.8219026873509089) (\u001b[36macc\u001b[0m 1.0)\n",
      "validation:: 100% 3/3 [00:00<00:00, 268.39it/s]\n",
      "\u001b[34mvalidation\u001b[0m : (\u001b[36mloss\u001b[0m 0.7820371389389038) (\u001b[36macc\u001b[0m 0.6666666666666666)\n",
      "Epoch 34:: 100% 3/3 [00:00<00:00, 91.82it/s]\n",
      "Epoch \u001b[34m34\u001b[0m/100 : \u001b[34mTraining\u001b[0m : (\u001b[36mloss\u001b[0m 0.831015462676684) (\u001b[36macc\u001b[0m 1.0)\n",
      "validation:: 100% 3/3 [00:00<00:00, 258.96it/s]\n",
      "\u001b[34mvalidation\u001b[0m : (\u001b[36mloss\u001b[0m 0.7340371608734131) (\u001b[36macc\u001b[0m 0.6666666666666666)\n",
      "Epoch 35:: 100% 3/3 [00:00<00:00, 92.65it/s]\n",
      "Epoch \u001b[34m35\u001b[0m/100 : \u001b[34mTraining\u001b[0m : (\u001b[36mloss\u001b[0m 0.7890983621279398) (\u001b[36macc\u001b[0m 1.0)\n",
      "validation:: 100% 3/3 [00:00<00:00, 261.63it/s]\n",
      "\u001b[34mvalidation\u001b[0m : (\u001b[36mloss\u001b[0m 0.7220657219489416) (\u001b[36macc\u001b[0m 0.6666666666666666)\n",
      "Epoch 36:: 100% 3/3 [00:00<00:00, 95.90it/s]\n",
      "Epoch \u001b[34m36\u001b[0m/100 : \u001b[34mTraining\u001b[0m : (\u001b[36mloss\u001b[0m 0.7283033883819977) (\u001b[36macc\u001b[0m 1.0)\n",
      "validation:: 100% 3/3 [00:00<00:00, 246.55it/s]\n",
      "\u001b[34mvalidation\u001b[0m : (\u001b[36mloss\u001b[0m 0.759957546989123) (\u001b[36macc\u001b[0m 0.6666666666666666)\n",
      "Epoch 37:: 100% 3/3 [00:00<00:00, 78.80it/s]\n",
      "Epoch \u001b[34m37\u001b[0m/100 : \u001b[34mTraining\u001b[0m : (\u001b[36mloss\u001b[0m 0.7676432753602663) (\u001b[36macc\u001b[0m 1.0)\n",
      "validation:: 100% 3/3 [00:00<00:00, 251.64it/s]\n",
      "\u001b[34mvalidation\u001b[0m : (\u001b[36mloss\u001b[0m 0.7400236229101816) (\u001b[36macc\u001b[0m 0.6666666666666666)\n",
      "Epoch 38:: 100% 3/3 [00:00<00:00, 92.57it/s]\n",
      "Epoch \u001b[34m38\u001b[0m/100 : \u001b[34mTraining\u001b[0m : (\u001b[36mloss\u001b[0m 0.7872806067268053) (\u001b[36macc\u001b[0m 1.0)\n",
      "validation:: 100% 3/3 [00:00<00:00, 212.82it/s]\n",
      "\u001b[34mvalidation\u001b[0m : (\u001b[36mloss\u001b[0m 0.6994704554478327) (\u001b[36macc\u001b[0m 0.6666666666666666)\n",
      "Epoch 39:: 100% 3/3 [00:00<00:00, 83.06it/s]\n",
      "Epoch \u001b[34m39\u001b[0m/100 : \u001b[34mTraining\u001b[0m : (\u001b[36mloss\u001b[0m 0.7644189720352491) (\u001b[36macc\u001b[0m 1.0)\n",
      "validation:: 100% 3/3 [00:00<00:00, 258.26it/s]\n",
      "\u001b[34mvalidation\u001b[0m : (\u001b[36mloss\u001b[0m 0.706406536201636) (\u001b[36macc\u001b[0m 0.6666666666666666)\n",
      "Epoch 40:: 100% 3/3 [00:00<00:00, 83.57it/s]\n",
      "Epoch \u001b[34m40\u001b[0m/100 : \u001b[34mTraining\u001b[0m : (\u001b[36mloss\u001b[0m 0.8081549803415934) (\u001b[36macc\u001b[0m 1.0)\n",
      "validation:: 100% 3/3 [00:00<00:00, 254.31it/s]\n",
      "\u001b[34mvalidation\u001b[0m : (\u001b[36mloss\u001b[0m 0.7052995984752973) (\u001b[36macc\u001b[0m 0.6666666666666666)\n",
      "Epoch 41:: 100% 3/3 [00:00<00:00, 94.91it/s]\n",
      "Epoch \u001b[34m41\u001b[0m/100 : \u001b[34mTraining\u001b[0m : (\u001b[36mloss\u001b[0m 0.7409209149579207) (\u001b[36macc\u001b[0m 1.0)\n",
      "validation:: 100% 3/3 [00:00<00:00, 276.07it/s]\n",
      "\u001b[34mvalidation\u001b[0m : (\u001b[36mloss\u001b[0m 0.7423247148593267) (\u001b[36macc\u001b[0m 0.6666666666666666)\n",
      "Epoch 42:: 100% 3/3 [00:00<00:00, 93.25it/s]\n",
      "Epoch \u001b[34m42\u001b[0m/100 : \u001b[34mTraining\u001b[0m : (\u001b[36mloss\u001b[0m 0.7449893951416016) (\u001b[36macc\u001b[0m 1.0)\n",
      "validation:: 100% 3/3 [00:00<00:00, 267.84it/s]\n",
      "\u001b[34mvalidation\u001b[0m : (\u001b[36mloss\u001b[0m 0.7088607872525851) (\u001b[36macc\u001b[0m 0.6666666666666666)\n",
      "Epoch 43:: 100% 3/3 [00:00<00:00, 81.49it/s]\n",
      "Epoch \u001b[34m43\u001b[0m/100 : \u001b[34mTraining\u001b[0m : (\u001b[36mloss\u001b[0m 0.7184959749380747) (\u001b[36macc\u001b[0m 1.0)\n",
      "validation:: 100% 3/3 [00:00<00:00, 247.32it/s]\n",
      "\u001b[34mvalidation\u001b[0m : (\u001b[36mloss\u001b[0m 0.7465986609458923) (\u001b[36macc\u001b[0m 0.6666666666666666)\n",
      "Epoch 44:: 100% 3/3 [00:00<00:00, 91.64it/s]\n",
      "Epoch \u001b[34m44\u001b[0m/100 : \u001b[34mTraining\u001b[0m : (\u001b[36mloss\u001b[0m 0.7243378236889839) (\u001b[36macc\u001b[0m 1.0)\n",
      "validation:: 100% 3/3 [00:00<00:00, 202.17it/s]\n",
      "\u001b[34mvalidation\u001b[0m : (\u001b[36mloss\u001b[0m 0.7370990018049876) (\u001b[36macc\u001b[0m 0.6666666666666666)\n",
      "Epoch 45:: 100% 3/3 [00:00<00:00, 64.26it/s]\n",
      "Epoch \u001b[34m45\u001b[0m/100 : \u001b[34mTraining\u001b[0m : (\u001b[36mloss\u001b[0m 0.7315774286786715) (\u001b[36macc\u001b[0m 1.0)\n",
      "validation:: 100% 3/3 [00:00<00:00, 251.85it/s]\n",
      "\u001b[34mvalidation\u001b[0m : (\u001b[36mloss\u001b[0m 0.7203728295862675) (\u001b[36macc\u001b[0m 0.6666666666666666)\n",
      "Epoch 46:: 100% 3/3 [00:00<00:00, 90.23it/s]\n",
      "Epoch \u001b[34m46\u001b[0m/100 : \u001b[34mTraining\u001b[0m : (\u001b[36mloss\u001b[0m 0.7428371117760738) (\u001b[36macc\u001b[0m 1.0)\n",
      "validation:: 100% 3/3 [00:00<00:00, 238.34it/s]\n",
      "\u001b[34mvalidation\u001b[0m : (\u001b[36mloss\u001b[0m 0.7471735129753748) (\u001b[36macc\u001b[0m 0.6666666666666666)\n",
      "Epoch 47:: 100% 3/3 [00:00<00:00, 87.88it/s]\n",
      "Epoch \u001b[34m47\u001b[0m/100 : \u001b[34mTraining\u001b[0m : (\u001b[36mloss\u001b[0m 0.7394184377044439) (\u001b[36macc\u001b[0m 1.0)\n",
      "validation:: 100% 3/3 [00:00<00:00, 250.42it/s]\n",
      "\u001b[34mvalidation\u001b[0m : (\u001b[36mloss\u001b[0m 0.7324962293108305) (\u001b[36macc\u001b[0m 0.6666666666666666)\n",
      "Epoch 48:: 100% 3/3 [00:00<00:00, 88.03it/s]\n",
      "Epoch \u001b[34m48\u001b[0m/100 : \u001b[34mTraining\u001b[0m : (\u001b[36mloss\u001b[0m 0.7267652715866765) (\u001b[36macc\u001b[0m 1.0)\n",
      "validation:: 100% 3/3 [00:00<00:00, 272.45it/s]\n",
      "\u001b[34mvalidation\u001b[0m : (\u001b[36mloss\u001b[0m 0.7055259651194016) (\u001b[36macc\u001b[0m 0.6666666666666666)\n",
      "Epoch 49:: 100% 3/3 [00:00<00:00, 90.74it/s]\n",
      "Epoch \u001b[34m49\u001b[0m/100 : \u001b[34mTraining\u001b[0m : (\u001b[36mloss\u001b[0m 0.7292707298571864) (\u001b[36macc\u001b[0m 1.0)\n",
      "validation:: 100% 3/3 [00:00<00:00, 250.54it/s]\n",
      "\u001b[34mvalidation\u001b[0m : (\u001b[36mloss\u001b[0m 0.72256467739741) (\u001b[36macc\u001b[0m 0.6666666666666666)\n",
      "Epoch 50:: 100% 3/3 [00:00<00:00, 100.94it/s]\n",
      "Epoch \u001b[34m50\u001b[0m/100 : \u001b[34mTraining\u001b[0m : (\u001b[36mloss\u001b[0m 0.7089233516405026) (\u001b[36macc\u001b[0m 1.0)\n",
      "validation:: 100% 3/3 [00:00<00:00, 276.05it/s]\n",
      "\u001b[34mvalidation\u001b[0m : (\u001b[36mloss\u001b[0m 0.698002760608991) (\u001b[36macc\u001b[0m 0.6666666666666666)\n",
      "Epoch 51:: 100% 3/3 [00:00<00:00, 101.34it/s]\n",
      "Epoch \u001b[34m51\u001b[0m/100 : \u001b[34mTraining\u001b[0m : (\u001b[36mloss\u001b[0m 0.7047487329691648) (\u001b[36macc\u001b[0m 1.0)\n",
      "validation:: 100% 3/3 [00:00<00:00, 278.45it/s]\n",
      "\u001b[34mvalidation\u001b[0m : (\u001b[36mloss\u001b[0m 0.7149811511238416) (\u001b[36macc\u001b[0m 0.6666666666666666)\n",
      "Epoch 52:: 100% 3/3 [00:00<00:00, 101.24it/s]\n",
      "Epoch \u001b[34m52\u001b[0m/100 : \u001b[34mTraining\u001b[0m : (\u001b[36mloss\u001b[0m 0.7044134436485668) (\u001b[36macc\u001b[0m 1.0)\n",
      "validation:: 100% 3/3 [00:00<00:00, 226.19it/s]\n",
      "\u001b[34mvalidation\u001b[0m : (\u001b[36mloss\u001b[0m 0.71487932279706) (\u001b[36macc\u001b[0m 0.6666666666666666)\n",
      "Epoch 53:: 100% 3/3 [00:00<00:00, 99.41it/s]\n",
      "Epoch \u001b[34m53\u001b[0m/100 : \u001b[34mTraining\u001b[0m : (\u001b[36mloss\u001b[0m 0.7136362288147211) (\u001b[36macc\u001b[0m 1.0)\n",
      "validation:: 100% 3/3 [00:00<00:00, 283.24it/s]\n",
      "\u001b[34mvalidation\u001b[0m : (\u001b[36mloss\u001b[0m 0.6945513300597668) (\u001b[36macc\u001b[0m 0.6666666666666666)\n",
      "Epoch 54:: 100% 3/3 [00:00<00:00, 100.18it/s]\n",
      "Epoch \u001b[34m54\u001b[0m/100 : \u001b[34mTraining\u001b[0m : (\u001b[36mloss\u001b[0m 0.7124919466053447) (\u001b[36macc\u001b[0m 1.0)\n",
      "validation:: 100% 3/3 [00:00<00:00, 271.05it/s]\n",
      "\u001b[34mvalidation\u001b[0m : (\u001b[36mloss\u001b[0m 0.7035900801420212) (\u001b[36macc\u001b[0m 0.6666666666666666)\n",
      "Epoch 55:: 100% 3/3 [00:00<00:00, 100.08it/s]\n",
      "Epoch \u001b[34m55\u001b[0m/100 : \u001b[34mTraining\u001b[0m : (\u001b[36mloss\u001b[0m 0.7042987123131752) (\u001b[36macc\u001b[0m 1.0)\n",
      "validation:: 100% 3/3 [00:00<00:00, 270.95it/s]\n",
      "\u001b[34mvalidation\u001b[0m : (\u001b[36mloss\u001b[0m 0.6785113639198244) (\u001b[36macc\u001b[0m 0.6666666666666666)\n",
      "Epoch 56:: 100% 3/3 [00:00<00:00, 92.38it/s]\n",
      "Epoch \u001b[34m56\u001b[0m/100 : \u001b[34mTraining\u001b[0m : (\u001b[36mloss\u001b[0m 0.7103695787955076) (\u001b[36macc\u001b[0m 1.0)\n",
      "validation:: 100% 3/3 [00:00<00:00, 237.56it/s]\n",
      "\u001b[34mvalidation\u001b[0m : (\u001b[36mloss\u001b[0m 0.7029197240869204) (\u001b[36macc\u001b[0m 0.6666666666666666)\n",
      "Epoch 57:: 100% 3/3 [00:00<00:00, 96.28it/s]\n",
      "Epoch \u001b[34m57\u001b[0m/100 : \u001b[34mTraining\u001b[0m : (\u001b[36mloss\u001b[0m 0.7154459211354455) (\u001b[36macc\u001b[0m 1.0)\n",
      "validation:: 100% 3/3 [00:00<00:00, 260.71it/s]\n",
      "\u001b[34mvalidation\u001b[0m : (\u001b[36mloss\u001b[0m 0.7013941627616683) (\u001b[36macc\u001b[0m 0.6666666666666666)\n",
      "Epoch 58:: 100% 3/3 [00:00<00:00, 97.90it/s]\n",
      "Epoch \u001b[34m58\u001b[0m/100 : \u001b[34mTraining\u001b[0m : (\u001b[36mloss\u001b[0m 0.7058945633471012) (\u001b[36macc\u001b[0m 1.0)\n",
      "validation:: 100% 3/3 [00:00<00:00, 269.04it/s]\n",
      "\u001b[34mvalidation\u001b[0m : (\u001b[36mloss\u001b[0m 0.6876551682750384) (\u001b[36macc\u001b[0m 0.6666666666666666)\n",
      "Epoch 59:: 100% 3/3 [00:00<00:00, 100.62it/s]\n",
      "Epoch \u001b[34m59\u001b[0m/100 : \u001b[34mTraining\u001b[0m : (\u001b[36mloss\u001b[0m 0.6947586406798413) (\u001b[36macc\u001b[0m 1.0)\n",
      "validation:: 100% 3/3 [00:00<00:00, 285.88it/s]\n",
      "\u001b[34mvalidation\u001b[0m : (\u001b[36mloss\u001b[0m 0.7087216762204965) (\u001b[36macc\u001b[0m 0.6666666666666666)\n",
      "Epoch 60:: 100% 3/3 [00:00<00:00, 90.55it/s]\n",
      "Epoch \u001b[34m60\u001b[0m/100 : \u001b[34mTraining\u001b[0m : (\u001b[36mloss\u001b[0m 0.699794377743577) (\u001b[36macc\u001b[0m 1.0)\n",
      "validation:: 100% 3/3 [00:00<00:00, 254.22it/s]\n",
      "\u001b[34mvalidation\u001b[0m : (\u001b[36mloss\u001b[0m 0.6988005253175894) (\u001b[36macc\u001b[0m 0.6666666666666666)\n",
      "Epoch 61:: 100% 3/3 [00:00<00:00, 84.82it/s]\n",
      "Epoch \u001b[34m61\u001b[0m/100 : \u001b[34mTraining\u001b[0m : (\u001b[36mloss\u001b[0m 0.6989607850943381) (\u001b[36macc\u001b[0m 1.0)\n",
      "validation:: 100% 3/3 [00:00<00:00, 258.45it/s]\n",
      "\u001b[34mvalidation\u001b[0m : (\u001b[36mloss\u001b[0m 0.7070595696568489) (\u001b[36macc\u001b[0m 0.6666666666666666)\n",
      "Epoch 62:: 100% 3/3 [00:00<00:00, 86.91it/s]\n",
      "Epoch \u001b[34m62\u001b[0m/100 : \u001b[34mTraining\u001b[0m : (\u001b[36mloss\u001b[0m 0.7004706123843789) (\u001b[36macc\u001b[0m 1.0)\n",
      "validation:: 100% 3/3 [00:00<00:00, 225.73it/s]\n",
      "\u001b[34mvalidation\u001b[0m : (\u001b[36mloss\u001b[0m 0.704815849972268) (\u001b[36macc\u001b[0m 0.6666666666666666)\n",
      "Epoch 63:: 100% 3/3 [00:00<00:00, 85.87it/s]\n",
      "Epoch \u001b[34m63\u001b[0m/100 : \u001b[34mTraining\u001b[0m : (\u001b[36mloss\u001b[0m 0.697099083151746) (\u001b[36macc\u001b[0m 1.0)\n",
      "validation:: 100% 3/3 [00:00<00:00, 271.71it/s]\n",
      "\u001b[34mvalidation\u001b[0m : (\u001b[36mloss\u001b[0m 0.6931563479593024) (\u001b[36macc\u001b[0m 0.6666666666666666)\n",
      "Epoch 64:: 100% 3/3 [00:00<00:00, 100.03it/s]\n",
      "Epoch \u001b[34m64\u001b[0m/100 : \u001b[34mTraining\u001b[0m : (\u001b[36mloss\u001b[0m 0.7032461669296026) (\u001b[36macc\u001b[0m 1.0)\n",
      "validation:: 100% 3/3 [00:00<00:00, 277.22it/s]\n",
      "\u001b[34mvalidation\u001b[0m : (\u001b[36mloss\u001b[0m 0.6932162538481256) (\u001b[36macc\u001b[0m 0.6666666666666666)\n",
      "Epoch 65:: 100% 3/3 [00:00<00:00, 98.13it/s]\n",
      "Epoch \u001b[34m65\u001b[0m/100 : \u001b[34mTraining\u001b[0m : (\u001b[36mloss\u001b[0m 0.6966443859661618) (\u001b[36macc\u001b[0m 1.0)\n",
      "validation:: 100% 3/3 [00:00<00:00, 279.35it/s]\n",
      "\u001b[34mvalidation\u001b[0m : (\u001b[36mloss\u001b[0m 0.6863062523577051) (\u001b[36macc\u001b[0m 0.6666666666666666)\n",
      "Epoch 66:: 100% 3/3 [00:00<00:00, 100.58it/s]\n",
      "Epoch \u001b[34m66\u001b[0m/100 : \u001b[34mTraining\u001b[0m : (\u001b[36mloss\u001b[0m 0.7046273435019733) (\u001b[36macc\u001b[0m 1.0)\n",
      "validation:: 100% 3/3 [00:00<00:00, 248.40it/s]\n",
      "\u001b[34mvalidation\u001b[0m : (\u001b[36mloss\u001b[0m 0.6963594562063614) (\u001b[36macc\u001b[0m 0.6666666666666666)\n",
      "Epoch 67:: 100% 3/3 [00:00<00:00, 85.76it/s]\n",
      "Epoch \u001b[34m67\u001b[0m/100 : \u001b[34mTraining\u001b[0m : (\u001b[36mloss\u001b[0m 0.6943784312267477) (\u001b[36macc\u001b[0m 1.0)\n",
      "validation:: 100% 3/3 [00:00<00:00, 183.05it/s]\n",
      "\u001b[34mvalidation\u001b[0m : (\u001b[36mloss\u001b[0m 0.705729766904066) (\u001b[36macc\u001b[0m 0.6666666666666666)\n",
      "Epoch 68:: 100% 3/3 [00:00<00:00, 97.21it/s]\n",
      "Epoch \u001b[34m68\u001b[0m/100 : \u001b[34mTraining\u001b[0m : (\u001b[36mloss\u001b[0m 0.7099395500845276) (\u001b[36macc\u001b[0m 1.0)\n",
      "validation:: 100% 3/3 [00:00<00:00, 264.61it/s]\n",
      "\u001b[34mvalidation\u001b[0m : (\u001b[36mloss\u001b[0m 0.6937710507772863) (\u001b[36macc\u001b[0m 0.6666666666666666)\n",
      "Epoch 69:: 100% 3/3 [00:00<00:00, 94.98it/s]\n",
      "Epoch \u001b[34m69\u001b[0m/100 : \u001b[34mTraining\u001b[0m : (\u001b[36mloss\u001b[0m 0.7024521547524879) (\u001b[36macc\u001b[0m 1.0)\n",
      "validation:: 100% 3/3 [00:00<00:00, 229.12it/s]\n",
      "\u001b[34mvalidation\u001b[0m : (\u001b[36mloss\u001b[0m 0.7052616269017259) (\u001b[36macc\u001b[0m 0.6666666666666666)\n",
      "Epoch 70:: 100% 3/3 [00:00<00:00, 90.96it/s]\n",
      "Epoch \u001b[34m70\u001b[0m/100 : \u001b[34mTraining\u001b[0m : (\u001b[36mloss\u001b[0m 0.6968088172531376) (\u001b[36macc\u001b[0m 1.0)\n",
      "validation:: 100% 3/3 [00:00<00:00, 267.24it/s]\n",
      "\u001b[34mvalidation\u001b[0m : (\u001b[36mloss\u001b[0m 0.6926183666413029) (\u001b[36macc\u001b[0m 0.6666666666666666)\n",
      "Epoch 71:: 100% 3/3 [00:00<00:00, 90.67it/s]\n",
      "Epoch \u001b[34m71\u001b[0m/100 : \u001b[34mTraining\u001b[0m : (\u001b[36mloss\u001b[0m 0.7015161569385479) (\u001b[36macc\u001b[0m 1.0)\n",
      "validation:: 100% 3/3 [00:00<00:00, 244.93it/s]\n",
      "\u001b[34mvalidation\u001b[0m : (\u001b[36mloss\u001b[0m 0.6836164655784766) (\u001b[36macc\u001b[0m 0.6666666666666666)\n",
      "Epoch 72:: 100% 3/3 [00:00<00:00, 85.08it/s]\n",
      "Epoch \u001b[34m72\u001b[0m/100 : \u001b[34mTraining\u001b[0m : (\u001b[36mloss\u001b[0m 0.7065257146023214) (\u001b[36macc\u001b[0m 1.0)\n",
      "validation:: 100% 3/3 [00:00<00:00, 192.50it/s]\n",
      "\u001b[34mvalidation\u001b[0m : (\u001b[36mloss\u001b[0m 0.6961162388324738) (\u001b[36macc\u001b[0m 0.6666666666666666)\n",
      "Epoch 73:: 100% 3/3 [00:00<00:00, 94.62it/s]\n",
      "Epoch \u001b[34m73\u001b[0m/100 : \u001b[34mTraining\u001b[0m : (\u001b[36mloss\u001b[0m 0.6989104010475179) (\u001b[36macc\u001b[0m 1.0)\n",
      "validation:: 100% 3/3 [00:00<00:00, 268.72it/s]\n",
      "\u001b[34mvalidation\u001b[0m : (\u001b[36mloss\u001b[0m 0.6992079457268119) (\u001b[36macc\u001b[0m 0.6666666666666666)\n",
      "Epoch 74:: 100% 3/3 [00:00<00:00, 67.16it/s]\n",
      "Epoch \u001b[34m74\u001b[0m/100 : \u001b[34mTraining\u001b[0m : (\u001b[36mloss\u001b[0m 0.7050146044736417) (\u001b[36macc\u001b[0m 1.0)\n",
      "validation:: 100% 3/3 [00:00<00:00, 261.54it/s]\n",
      "\u001b[34mvalidation\u001b[0m : (\u001b[36mloss\u001b[0m 0.6919214970742663) (\u001b[36macc\u001b[0m 0.6666666666666666)\n",
      "Epoch 75:: 100% 3/3 [00:00<00:00, 95.68it/s]\n",
      "Epoch \u001b[34m75\u001b[0m/100 : \u001b[34mTraining\u001b[0m : (\u001b[36mloss\u001b[0m 0.6942588284437079) (\u001b[36macc\u001b[0m 1.0)\n",
      "validation:: 100% 3/3 [00:00<00:00, 274.85it/s]\n",
      "\u001b[34mvalidation\u001b[0m : (\u001b[36mloss\u001b[0m 0.6938692318896452) (\u001b[36macc\u001b[0m 0.6666666666666666)\n",
      "Epoch 76:: 100% 3/3 [00:00<00:00, 90.81it/s]\n",
      "Epoch \u001b[34m76\u001b[0m/100 : \u001b[34mTraining\u001b[0m : (\u001b[36mloss\u001b[0m 0.6937361021797793) (\u001b[36macc\u001b[0m 1.0)\n",
      "validation:: 100% 3/3 [00:00<00:00, 265.85it/s]\n",
      "\u001b[34mvalidation\u001b[0m : (\u001b[36mloss\u001b[0m 0.72043475912263) (\u001b[36macc\u001b[0m 0.6666666666666666)\n",
      "Epoch 77:: 100% 3/3 [00:00<00:00, 97.42it/s]\n",
      "Epoch \u001b[34m77\u001b[0m/100 : \u001b[34mTraining\u001b[0m : (\u001b[36mloss\u001b[0m 0.6966475282485286) (\u001b[36macc\u001b[0m 1.0)\n",
      "validation:: 100% 3/3 [00:00<00:00, 273.08it/s]\n",
      "\u001b[34mvalidation\u001b[0m : (\u001b[36mloss\u001b[0m 0.6892200571795305) (\u001b[36macc\u001b[0m 0.6666666666666666)\n",
      "Epoch 78:: 100% 3/3 [00:00<00:00, 95.20it/s]\n",
      "Epoch \u001b[34m78\u001b[0m/100 : \u001b[34mTraining\u001b[0m : (\u001b[36mloss\u001b[0m 0.6953693144023418) (\u001b[36macc\u001b[0m 1.0)\n",
      "validation:: 100% 3/3 [00:00<00:00, 274.30it/s]\n",
      "\u001b[34mvalidation\u001b[0m : (\u001b[36mloss\u001b[0m 0.7033890833457311) (\u001b[36macc\u001b[0m 0.6666666666666666)\n",
      "Epoch 79:: 100% 3/3 [00:00<00:00, 88.33it/s]\n",
      "Epoch \u001b[34m79\u001b[0m/100 : \u001b[34mTraining\u001b[0m : (\u001b[36mloss\u001b[0m 0.6944924446676547) (\u001b[36macc\u001b[0m 1.0)\n",
      "validation:: 100% 3/3 [00:00<00:00, 237.26it/s]\n",
      "\u001b[34mvalidation\u001b[0m : (\u001b[36mloss\u001b[0m 0.6756389821724346) (\u001b[36macc\u001b[0m 0.6666666666666666)\n",
      "Epoch 80:: 100% 3/3 [00:00<00:00, 77.54it/s]\n",
      "Epoch \u001b[34m80\u001b[0m/100 : \u001b[34mTraining\u001b[0m : (\u001b[36mloss\u001b[0m 0.6972343376304101) (\u001b[36macc\u001b[0m 1.0)\n",
      "validation:: 100% 3/3 [00:00<00:00, 244.39it/s]\n",
      "\u001b[34mvalidation\u001b[0m : (\u001b[36mloss\u001b[0m 0.6920746861336132) (\u001b[36macc\u001b[0m 0.6666666666666666)\n",
      "Epoch 81:: 100% 3/3 [00:00<00:00, 86.57it/s]\n",
      "Epoch \u001b[34m81\u001b[0m/100 : \u001b[34mTraining\u001b[0m : (\u001b[36mloss\u001b[0m 0.6969157320369656) (\u001b[36macc\u001b[0m 1.0)\n",
      "validation:: 100% 3/3 [00:00<00:00, 245.00it/s]\n",
      "\u001b[34mvalidation\u001b[0m : (\u001b[36mloss\u001b[0m 0.7014965160439411) (\u001b[36macc\u001b[0m 0.6666666666666666)\n",
      "Epoch 82:: 100% 3/3 [00:00<00:00, 84.91it/s]\n",
      "Epoch \u001b[34m82\u001b[0m/100 : \u001b[34mTraining\u001b[0m : (\u001b[36mloss\u001b[0m 0.6948820319181929) (\u001b[36macc\u001b[0m 1.0)\n",
      "validation:: 100% 3/3 [00:00<00:00, 264.92it/s]\n",
      "\u001b[34mvalidation\u001b[0m : (\u001b[36mloss\u001b[0m 0.6888318203855306) (\u001b[36macc\u001b[0m 0.6666666666666666)\n",
      "Epoch 83:: 100% 3/3 [00:00<00:00, 79.28it/s]\n",
      "Epoch \u001b[34m83\u001b[0m/100 : \u001b[34mTraining\u001b[0m : (\u001b[36mloss\u001b[0m 0.7009505503810942) (\u001b[36macc\u001b[0m 1.0)\n",
      "validation:: 100% 3/3 [00:00<00:00, 252.46it/s]\n",
      "\u001b[34mvalidation\u001b[0m : (\u001b[36mloss\u001b[0m 0.6908951632600898) (\u001b[36macc\u001b[0m 0.6666666666666666)\n",
      "Epoch 84:: 100% 3/3 [00:00<00:00, 88.02it/s]\n",
      "Epoch \u001b[34m84\u001b[0m/100 : \u001b[34mTraining\u001b[0m : (\u001b[36mloss\u001b[0m 0.7023506582481787) (\u001b[36macc\u001b[0m 1.0)\n",
      "validation:: 100% 3/3 [00:00<00:00, 247.51it/s]\n",
      "\u001b[34mvalidation\u001b[0m : (\u001b[36mloss\u001b[0m 0.6907255127443932) (\u001b[36macc\u001b[0m 0.6666666666666666)\n",
      "Epoch 85:: 100% 3/3 [00:00<00:00, 90.30it/s]\n",
      "Epoch \u001b[34m85\u001b[0m/100 : \u001b[34mTraining\u001b[0m : (\u001b[36mloss\u001b[0m 0.7093970910451995) (\u001b[36macc\u001b[0m 1.0)\n",
      "validation:: 100% 3/3 [00:00<00:00, 234.75it/s]\n",
      "\u001b[34mvalidation\u001b[0m : (\u001b[36mloss\u001b[0m 0.6878311290250471) (\u001b[36macc\u001b[0m 0.6666666666666666)\n",
      "Epoch 86:: 100% 3/3 [00:00<00:00, 90.13it/s]\n",
      "Epoch \u001b[34m86\u001b[0m/100 : \u001b[34mTraining\u001b[0m : (\u001b[36mloss\u001b[0m 0.6936094945461567) (\u001b[36macc\u001b[0m 1.0)\n",
      "validation:: 100% 3/3 [00:00<00:00, 190.40it/s]\n",
      "\u001b[34mvalidation\u001b[0m : (\u001b[36mloss\u001b[0m 0.6625483888298428) (\u001b[36macc\u001b[0m 0.6666666666666666)\n",
      "Epoch 87:: 100% 3/3 [00:00<00:00, 83.03it/s]\n",
      "Epoch \u001b[34m87\u001b[0m/100 : \u001b[34mTraining\u001b[0m : (\u001b[36mloss\u001b[0m 0.6950147433090024) (\u001b[36macc\u001b[0m 1.0)\n",
      "validation:: 100% 3/3 [00:00<00:00, 249.77it/s]\n",
      "\u001b[34mvalidation\u001b[0m : (\u001b[36mloss\u001b[0m 0.6944461550253133) (\u001b[36macc\u001b[0m 0.6666666666666666)\n",
      "Epoch 88:: 100% 3/3 [00:00<00:00, 92.79it/s]\n",
      "Epoch \u001b[34m88\u001b[0m/100 : \u001b[34mTraining\u001b[0m : (\u001b[36mloss\u001b[0m 0.7084423325334986) (\u001b[36macc\u001b[0m 1.0)\n",
      "validation:: 100% 3/3 [00:00<00:00, 207.75it/s]\n",
      "\u001b[34mvalidation\u001b[0m : (\u001b[36mloss\u001b[0m 0.6958347464290758) (\u001b[36macc\u001b[0m 0.6666666666666666)\n",
      "Epoch 89:: 100% 3/3 [00:00<00:00, 74.32it/s]\n",
      "Epoch \u001b[34m89\u001b[0m/100 : \u001b[34mTraining\u001b[0m : (\u001b[36mloss\u001b[0m 0.6972932336793747) (\u001b[36macc\u001b[0m 1.0)\n",
      "validation:: 100% 3/3 [00:00<00:00, 254.49it/s]\n",
      "\u001b[34mvalidation\u001b[0m : (\u001b[36mloss\u001b[0m 0.6966617672393719) (\u001b[36macc\u001b[0m 0.6666666666666666)\n",
      "Epoch 90:: 100% 3/3 [00:00<00:00, 90.73it/s]\n",
      "Epoch \u001b[34m90\u001b[0m/100 : \u001b[34mTraining\u001b[0m : (\u001b[36mloss\u001b[0m 0.7013098456471502) (\u001b[36macc\u001b[0m 1.0)\n",
      "validation:: 100% 3/3 [00:00<00:00, 263.30it/s]\n",
      "\u001b[34mvalidation\u001b[0m : (\u001b[36mloss\u001b[0m 0.6925479583442211) (\u001b[36macc\u001b[0m 0.6666666666666666)\n",
      "Epoch 91:: 100% 3/3 [00:00<00:00, 91.69it/s]\n",
      "Epoch \u001b[34m91\u001b[0m/100 : \u001b[34mTraining\u001b[0m : (\u001b[36mloss\u001b[0m 0.6940713374836681) (\u001b[36macc\u001b[0m 1.0)\n",
      "validation:: 100% 3/3 [00:00<00:00, 245.42it/s]\n",
      "\u001b[34mvalidation\u001b[0m : (\u001b[36mloss\u001b[0m 0.7074227736641964) (\u001b[36macc\u001b[0m 0.6666666666666666)\n",
      "Epoch 92:: 100% 3/3 [00:00<00:00, 89.56it/s]\n",
      "Epoch \u001b[34m92\u001b[0m/100 : \u001b[34mTraining\u001b[0m : (\u001b[36mloss\u001b[0m 0.6954695171831796) (\u001b[36macc\u001b[0m 1.0)\n",
      "validation:: 100% 3/3 [00:00<00:00, 229.12it/s]\n",
      "\u001b[34mvalidation\u001b[0m : (\u001b[36mloss\u001b[0m 0.6924447258934379) (\u001b[36macc\u001b[0m 0.6666666666666666)\n",
      "Epoch 93:: 100% 3/3 [00:00<00:00, 91.37it/s]\n",
      "Epoch \u001b[34m93\u001b[0m/100 : \u001b[34mTraining\u001b[0m : (\u001b[36mloss\u001b[0m 0.7104528871714137) (\u001b[36macc\u001b[0m 1.0)\n",
      "validation:: 100% 3/3 [00:00<00:00, 274.68it/s]\n",
      "\u001b[34mvalidation\u001b[0m : (\u001b[36mloss\u001b[0m 0.6923260343804335) (\u001b[36macc\u001b[0m 0.6666666666666666)\n",
      "Epoch 94:: 100% 3/3 [00:00<00:00, 100.17it/s]\n",
      "Epoch \u001b[34m94\u001b[0m/100 : \u001b[34mTraining\u001b[0m : (\u001b[36mloss\u001b[0m 0.7126502088891963) (\u001b[36macc\u001b[0m 1.0)\n",
      "validation:: 100% 3/3 [00:00<00:00, 283.79it/s]\n",
      "\u001b[34mvalidation\u001b[0m : (\u001b[36mloss\u001b[0m 0.693541849575316) (\u001b[36macc\u001b[0m 0.6666666666666666)\n",
      "Epoch 95:: 100% 3/3 [00:00<00:00, 88.17it/s]\n",
      "Epoch \u001b[34m95\u001b[0m/100 : \u001b[34mTraining\u001b[0m : (\u001b[36mloss\u001b[0m 0.6999867779801813) (\u001b[36macc\u001b[0m 1.0)\n",
      "validation:: 100% 3/3 [00:00<00:00, 232.23it/s]\n",
      "\u001b[34mvalidation\u001b[0m : (\u001b[36mloss\u001b[0m 0.6968193920329213) (\u001b[36macc\u001b[0m 0.6666666666666666)\n",
      "Epoch 96:: 100% 3/3 [00:00<00:00, 98.64it/s]\n",
      "Epoch \u001b[34m96\u001b[0m/100 : \u001b[34mTraining\u001b[0m : (\u001b[36mloss\u001b[0m 0.6937360201651851) (\u001b[36macc\u001b[0m 1.0)\n",
      "validation:: 100% 3/3 [00:00<00:00, 273.71it/s]\n",
      "\u001b[34mvalidation\u001b[0m : (\u001b[36mloss\u001b[0m 0.6940103982730458) (\u001b[36macc\u001b[0m 0.6666666666666666)\n",
      "Epoch 97:: 100% 3/3 [00:00<00:00, 96.05it/s]\n",
      "Epoch \u001b[34m97\u001b[0m/100 : \u001b[34mTraining\u001b[0m : (\u001b[36mloss\u001b[0m 0.6952479022438638) (\u001b[36macc\u001b[0m 1.0)\n",
      "validation:: 100% 3/3 [00:00<00:00, 269.90it/s]\n",
      "\u001b[34mvalidation\u001b[0m : (\u001b[36mloss\u001b[0m 0.7191908042877913) (\u001b[36macc\u001b[0m 0.6666666666666666)\n",
      "Epoch 98:: 100% 3/3 [00:00<00:00, 91.48it/s]\n",
      "Epoch \u001b[34m98\u001b[0m/100 : \u001b[34mTraining\u001b[0m : (\u001b[36mloss\u001b[0m 0.6980531831504777) (\u001b[36macc\u001b[0m 1.0)\n",
      "validation:: 100% 3/3 [00:00<00:00, 273.60it/s]\n",
      "\u001b[34mvalidation\u001b[0m : (\u001b[36mloss\u001b[0m 0.6931440300152948) (\u001b[36macc\u001b[0m 0.6666666666666666)\n",
      "Epoch 99:: 100% 3/3 [00:00<00:00, 92.68it/s]\n",
      "Epoch \u001b[34m99\u001b[0m/100 : \u001b[34mTraining\u001b[0m : (\u001b[36mloss\u001b[0m 0.6956754612814015) (\u001b[36macc\u001b[0m 1.0)\n",
      "validation:: 100% 3/3 [00:00<00:00, 214.18it/s]\n",
      "\u001b[34mvalidation\u001b[0m : (\u001b[36mloss\u001b[0m 0.6924309877989193) (\u001b[36macc\u001b[0m 0.6666666666666666)\n",
      "<Figure size 640x480 with 1 Axes>\n",
      "test:: 100% 3/3 [00:00<00:00, 243.81it/s]\n",
      "\u001b[34mtest\u001b[0m : (\u001b[36mloss\u001b[0m 0.6903141512884758) (\u001b[36macc\u001b[0m 0.6666666666666666)\n"
     ]
    }
   ],
   "source": [
    "! python ./search-engine/match_pyramid.py"
   ]
  }
 ],
 "metadata": {
  "colab": {
   "collapsed_sections": [],
   "name": "[Last]Copie de tutorial-search-engine.ipynb",
   "provenance": []
  },
  "kernelspec": {
   "display_name": "Python 3",
   "language": "python",
   "name": "python3"
  },
  "language_info": {
   "codemirror_mode": {
    "name": "ipython",
    "version": 3
   },
   "file_extension": ".py",
   "mimetype": "text/x-python",
   "name": "python",
   "nbconvert_exporter": "python",
   "pygments_lexer": "ipython3",
   "version": "3.9.7"
  },
  "widgets": {
   "application/vnd.jupyter.widget-state+json": {
    "05550cb1d98b421082cfc1946562481b": {
     "model_module": "@jupyter-widgets/base",
     "model_module_version": "1.2.0",
     "model_name": "LayoutModel",
     "state": {
      "_model_module": "@jupyter-widgets/base",
      "_model_module_version": "1.2.0",
      "_model_name": "LayoutModel",
      "_view_count": null,
      "_view_module": "@jupyter-widgets/base",
      "_view_module_version": "1.2.0",
      "_view_name": "LayoutView",
      "align_content": null,
      "align_items": null,
      "align_self": null,
      "border": null,
      "bottom": null,
      "display": null,
      "flex": null,
      "flex_flow": null,
      "grid_area": null,
      "grid_auto_columns": null,
      "grid_auto_flow": null,
      "grid_auto_rows": null,
      "grid_column": null,
      "grid_gap": null,
      "grid_row": null,
      "grid_template_areas": null,
      "grid_template_columns": null,
      "grid_template_rows": null,
      "height": null,
      "justify_content": null,
      "justify_items": null,
      "left": null,
      "margin": null,
      "max_height": null,
      "max_width": null,
      "min_height": null,
      "min_width": null,
      "object_fit": null,
      "object_position": null,
      "order": null,
      "overflow": null,
      "overflow_x": null,
      "overflow_y": null,
      "padding": null,
      "right": null,
      "top": null,
      "visibility": null,
      "width": null
     }
    },
    "06d80a0e7dc049d3b75cc771a97d11bc": {
     "model_module": "@jupyter-widgets/controls",
     "model_module_version": "1.5.0",
     "model_name": "HTMLModel",
     "state": {
      "_dom_classes": [],
      "_model_module": "@jupyter-widgets/controls",
      "_model_module_version": "1.5.0",
      "_model_name": "HTMLModel",
      "_view_count": null,
      "_view_module": "@jupyter-widgets/controls",
      "_view_module_version": "1.5.0",
      "_view_name": "HTMLView",
      "description": "",
      "description_tooltip": null,
      "layout": "IPY_MODEL_05550cb1d98b421082cfc1946562481b",
      "placeholder": "​",
      "style": "IPY_MODEL_f37cae372a7440e1917db36cc84c865d",
      "value": " 3/3 [00:00&lt;00:00, 41.04it/s]"
     }
    },
    "08309f46c7ba46cc832b651c3fae3626": {
     "model_module": "@jupyter-widgets/base",
     "model_module_version": "1.2.0",
     "model_name": "LayoutModel",
     "state": {
      "_model_module": "@jupyter-widgets/base",
      "_model_module_version": "1.2.0",
      "_model_name": "LayoutModel",
      "_view_count": null,
      "_view_module": "@jupyter-widgets/base",
      "_view_module_version": "1.2.0",
      "_view_name": "LayoutView",
      "align_content": null,
      "align_items": null,
      "align_self": null,
      "border": null,
      "bottom": null,
      "display": null,
      "flex": null,
      "flex_flow": null,
      "grid_area": null,
      "grid_auto_columns": null,
      "grid_auto_flow": null,
      "grid_auto_rows": null,
      "grid_column": null,
      "grid_gap": null,
      "grid_row": null,
      "grid_template_areas": null,
      "grid_template_columns": null,
      "grid_template_rows": null,
      "height": null,
      "justify_content": null,
      "justify_items": null,
      "left": null,
      "margin": null,
      "max_height": null,
      "max_width": null,
      "min_height": null,
      "min_width": null,
      "object_fit": null,
      "object_position": null,
      "order": null,
      "overflow": null,
      "overflow_x": null,
      "overflow_y": null,
      "padding": null,
      "right": null,
      "top": null,
      "visibility": null,
      "width": null
     }
    },
    "0a88bd52cc4e4d36badaf06273a9654d": {
     "model_module": "@jupyter-widgets/base",
     "model_module_version": "1.2.0",
     "model_name": "LayoutModel",
     "state": {
      "_model_module": "@jupyter-widgets/base",
      "_model_module_version": "1.2.0",
      "_model_name": "LayoutModel",
      "_view_count": null,
      "_view_module": "@jupyter-widgets/base",
      "_view_module_version": "1.2.0",
      "_view_name": "LayoutView",
      "align_content": null,
      "align_items": null,
      "align_self": null,
      "border": null,
      "bottom": null,
      "display": null,
      "flex": null,
      "flex_flow": null,
      "grid_area": null,
      "grid_auto_columns": null,
      "grid_auto_flow": null,
      "grid_auto_rows": null,
      "grid_column": null,
      "grid_gap": null,
      "grid_row": null,
      "grid_template_areas": null,
      "grid_template_columns": null,
      "grid_template_rows": null,
      "height": null,
      "justify_content": null,
      "justify_items": null,
      "left": null,
      "margin": null,
      "max_height": null,
      "max_width": null,
      "min_height": null,
      "min_width": null,
      "object_fit": null,
      "object_position": null,
      "order": null,
      "overflow": null,
      "overflow_x": null,
      "overflow_y": null,
      "padding": null,
      "right": null,
      "top": null,
      "visibility": null,
      "width": null
     }
    },
    "0e03cbdfc3284cf19bb6cba12b895c19": {
     "model_module": "@jupyter-widgets/controls",
     "model_module_version": "1.5.0",
     "model_name": "DescriptionStyleModel",
     "state": {
      "_model_module": "@jupyter-widgets/controls",
      "_model_module_version": "1.5.0",
      "_model_name": "DescriptionStyleModel",
      "_view_count": null,
      "_view_module": "@jupyter-widgets/base",
      "_view_module_version": "1.2.0",
      "_view_name": "StyleView",
      "description_width": ""
     }
    },
    "132113947b84477eb671a4b876d1e2d9": {
     "model_module": "@jupyter-widgets/controls",
     "model_module_version": "1.5.0",
     "model_name": "HTMLModel",
     "state": {
      "_dom_classes": [],
      "_model_module": "@jupyter-widgets/controls",
      "_model_module_version": "1.5.0",
      "_model_name": "HTMLModel",
      "_view_count": null,
      "_view_module": "@jupyter-widgets/controls",
      "_view_module_version": "1.5.0",
      "_view_name": "HTMLView",
      "description": "",
      "description_tooltip": null,
      "layout": "IPY_MODEL_4fa4ad220b1d41168680f759f0fc1a75",
      "placeholder": "​",
      "style": "IPY_MODEL_dfadd29dac1c4aac93d8ebf1303ff715",
      "value": "100%"
     }
    },
    "1444dd9a059e4c76954e3848f428839c": {
     "model_module": "@jupyter-widgets/controls",
     "model_module_version": "1.5.0",
     "model_name": "FloatProgressModel",
     "state": {
      "_dom_classes": [],
      "_model_module": "@jupyter-widgets/controls",
      "_model_module_version": "1.5.0",
      "_model_name": "FloatProgressModel",
      "_view_count": null,
      "_view_module": "@jupyter-widgets/controls",
      "_view_module_version": "1.5.0",
      "_view_name": "ProgressView",
      "bar_style": "success",
      "description": "",
      "description_tooltip": null,
      "layout": "IPY_MODEL_a629d54c92614a2081ee5e15b249d51a",
      "max": 82326,
      "min": 0,
      "orientation": "horizontal",
      "style": "IPY_MODEL_5cb182159fe34913b223f5f414e736bb",
      "value": 82326
     }
    },
    "18af118122f649e2a574b2c43634f54d": {
     "model_module": "@jupyter-widgets/base",
     "model_module_version": "1.2.0",
     "model_name": "LayoutModel",
     "state": {
      "_model_module": "@jupyter-widgets/base",
      "_model_module_version": "1.2.0",
      "_model_name": "LayoutModel",
      "_view_count": null,
      "_view_module": "@jupyter-widgets/base",
      "_view_module_version": "1.2.0",
      "_view_name": "LayoutView",
      "align_content": null,
      "align_items": null,
      "align_self": null,
      "border": null,
      "bottom": null,
      "display": null,
      "flex": null,
      "flex_flow": null,
      "grid_area": null,
      "grid_auto_columns": null,
      "grid_auto_flow": null,
      "grid_auto_rows": null,
      "grid_column": null,
      "grid_gap": null,
      "grid_row": null,
      "grid_template_areas": null,
      "grid_template_columns": null,
      "grid_template_rows": null,
      "height": null,
      "justify_content": null,
      "justify_items": null,
      "left": null,
      "margin": null,
      "max_height": null,
      "max_width": null,
      "min_height": null,
      "min_width": null,
      "object_fit": null,
      "object_position": null,
      "order": null,
      "overflow": null,
      "overflow_x": null,
      "overflow_y": null,
      "padding": null,
      "right": null,
      "top": null,
      "visibility": null,
      "width": null
     }
    },
    "1d636b99aee94c269b16084c20e427cf": {
     "model_module": "@jupyter-widgets/controls",
     "model_module_version": "1.5.0",
     "model_name": "HTMLModel",
     "state": {
      "_dom_classes": [],
      "_model_module": "@jupyter-widgets/controls",
      "_model_module_version": "1.5.0",
      "_model_name": "HTMLModel",
      "_view_count": null,
      "_view_module": "@jupyter-widgets/controls",
      "_view_module_version": "1.5.0",
      "_view_name": "HTMLView",
      "description": "",
      "description_tooltip": null,
      "layout": "IPY_MODEL_0a88bd52cc4e4d36badaf06273a9654d",
      "placeholder": "​",
      "style": "IPY_MODEL_b09f6a5af72e4cb7923bd1c6e81b035f",
      "value": " 82326/82326 [40:22&lt;00:00, 32.77it/s]"
     }
    },
    "3647e075e01a44cc919b1caf99c69611": {
     "model_module": "@jupyter-widgets/controls",
     "model_module_version": "1.5.0",
     "model_name": "HTMLModel",
     "state": {
      "_dom_classes": [],
      "_model_module": "@jupyter-widgets/controls",
      "_model_module_version": "1.5.0",
      "_model_name": "HTMLModel",
      "_view_count": null,
      "_view_module": "@jupyter-widgets/controls",
      "_view_module_version": "1.5.0",
      "_view_name": "HTMLView",
      "description": "",
      "description_tooltip": null,
      "layout": "IPY_MODEL_08309f46c7ba46cc832b651c3fae3626",
      "placeholder": "​",
      "style": "IPY_MODEL_a273ebbcca584748ac47639e7fcd4424",
      "value": " 3/3 [00:00&lt;00:00,  9.32it/s]"
     }
    },
    "46fab1db06fb4df0808329495f267d3b": {
     "model_module": "@jupyter-widgets/base",
     "model_module_version": "1.2.0",
     "model_name": "LayoutModel",
     "state": {
      "_model_module": "@jupyter-widgets/base",
      "_model_module_version": "1.2.0",
      "_model_name": "LayoutModel",
      "_view_count": null,
      "_view_module": "@jupyter-widgets/base",
      "_view_module_version": "1.2.0",
      "_view_name": "LayoutView",
      "align_content": null,
      "align_items": null,
      "align_self": null,
      "border": null,
      "bottom": null,
      "display": null,
      "flex": null,
      "flex_flow": null,
      "grid_area": null,
      "grid_auto_columns": null,
      "grid_auto_flow": null,
      "grid_auto_rows": null,
      "grid_column": null,
      "grid_gap": null,
      "grid_row": null,
      "grid_template_areas": null,
      "grid_template_columns": null,
      "grid_template_rows": null,
      "height": null,
      "justify_content": null,
      "justify_items": null,
      "left": null,
      "margin": null,
      "max_height": null,
      "max_width": null,
      "min_height": null,
      "min_width": null,
      "object_fit": null,
      "object_position": null,
      "order": null,
      "overflow": null,
      "overflow_x": null,
      "overflow_y": null,
      "padding": null,
      "right": null,
      "top": null,
      "visibility": null,
      "width": null
     }
    },
    "49d280df40a54e20ade085c9f84140bc": {
     "model_module": "@jupyter-widgets/controls",
     "model_module_version": "1.5.0",
     "model_name": "ProgressStyleModel",
     "state": {
      "_model_module": "@jupyter-widgets/controls",
      "_model_module_version": "1.5.0",
      "_model_name": "ProgressStyleModel",
      "_view_count": null,
      "_view_module": "@jupyter-widgets/base",
      "_view_module_version": "1.2.0",
      "_view_name": "StyleView",
      "bar_color": null,
      "description_width": ""
     }
    },
    "4c130b31f595482196b5d11d412c95d2": {
     "model_module": "@jupyter-widgets/controls",
     "model_module_version": "1.5.0",
     "model_name": "FloatProgressModel",
     "state": {
      "_dom_classes": [],
      "_model_module": "@jupyter-widgets/controls",
      "_model_module_version": "1.5.0",
      "_model_name": "FloatProgressModel",
      "_view_count": null,
      "_view_module": "@jupyter-widgets/controls",
      "_view_module_version": "1.5.0",
      "_view_name": "ProgressView",
      "bar_style": "success",
      "description": "",
      "description_tooltip": null,
      "layout": "IPY_MODEL_46fab1db06fb4df0808329495f267d3b",
      "max": 3,
      "min": 0,
      "orientation": "horizontal",
      "style": "IPY_MODEL_ff136bbf84334ca4925630a717c77bb9",
      "value": 3
     }
    },
    "4fa4ad220b1d41168680f759f0fc1a75": {
     "model_module": "@jupyter-widgets/base",
     "model_module_version": "1.2.0",
     "model_name": "LayoutModel",
     "state": {
      "_model_module": "@jupyter-widgets/base",
      "_model_module_version": "1.2.0",
      "_model_name": "LayoutModel",
      "_view_count": null,
      "_view_module": "@jupyter-widgets/base",
      "_view_module_version": "1.2.0",
      "_view_name": "LayoutView",
      "align_content": null,
      "align_items": null,
      "align_self": null,
      "border": null,
      "bottom": null,
      "display": null,
      "flex": null,
      "flex_flow": null,
      "grid_area": null,
      "grid_auto_columns": null,
      "grid_auto_flow": null,
      "grid_auto_rows": null,
      "grid_column": null,
      "grid_gap": null,
      "grid_row": null,
      "grid_template_areas": null,
      "grid_template_columns": null,
      "grid_template_rows": null,
      "height": null,
      "justify_content": null,
      "justify_items": null,
      "left": null,
      "margin": null,
      "max_height": null,
      "max_width": null,
      "min_height": null,
      "min_width": null,
      "object_fit": null,
      "object_position": null,
      "order": null,
      "overflow": null,
      "overflow_x": null,
      "overflow_y": null,
      "padding": null,
      "right": null,
      "top": null,
      "visibility": null,
      "width": null
     }
    },
    "572dee5be8224e2388f977fb50b985be": {
     "model_module": "@jupyter-widgets/controls",
     "model_module_version": "1.5.0",
     "model_name": "HBoxModel",
     "state": {
      "_dom_classes": [],
      "_model_module": "@jupyter-widgets/controls",
      "_model_module_version": "1.5.0",
      "_model_name": "HBoxModel",
      "_view_count": null,
      "_view_module": "@jupyter-widgets/controls",
      "_view_module_version": "1.5.0",
      "_view_name": "HBoxView",
      "box_style": "",
      "children": [
       "IPY_MODEL_a3981d4c0646400a9229d48255a974bc",
       "IPY_MODEL_1444dd9a059e4c76954e3848f428839c",
       "IPY_MODEL_1d636b99aee94c269b16084c20e427cf"
      ],
      "layout": "IPY_MODEL_18af118122f649e2a574b2c43634f54d"
     }
    },
    "5bd5ace3dfa84d0597d62d0bbfd94b52": {
     "model_module": "@jupyter-widgets/base",
     "model_module_version": "1.2.0",
     "model_name": "LayoutModel",
     "state": {
      "_model_module": "@jupyter-widgets/base",
      "_model_module_version": "1.2.0",
      "_model_name": "LayoutModel",
      "_view_count": null,
      "_view_module": "@jupyter-widgets/base",
      "_view_module_version": "1.2.0",
      "_view_name": "LayoutView",
      "align_content": null,
      "align_items": null,
      "align_self": null,
      "border": null,
      "bottom": null,
      "display": null,
      "flex": null,
      "flex_flow": null,
      "grid_area": null,
      "grid_auto_columns": null,
      "grid_auto_flow": null,
      "grid_auto_rows": null,
      "grid_column": null,
      "grid_gap": null,
      "grid_row": null,
      "grid_template_areas": null,
      "grid_template_columns": null,
      "grid_template_rows": null,
      "height": null,
      "justify_content": null,
      "justify_items": null,
      "left": null,
      "margin": null,
      "max_height": null,
      "max_width": null,
      "min_height": null,
      "min_width": null,
      "object_fit": null,
      "object_position": null,
      "order": null,
      "overflow": null,
      "overflow_x": null,
      "overflow_y": null,
      "padding": null,
      "right": null,
      "top": null,
      "visibility": null,
      "width": null
     }
    },
    "5cb182159fe34913b223f5f414e736bb": {
     "model_module": "@jupyter-widgets/controls",
     "model_module_version": "1.5.0",
     "model_name": "ProgressStyleModel",
     "state": {
      "_model_module": "@jupyter-widgets/controls",
      "_model_module_version": "1.5.0",
      "_model_name": "ProgressStyleModel",
      "_view_count": null,
      "_view_module": "@jupyter-widgets/base",
      "_view_module_version": "1.2.0",
      "_view_name": "StyleView",
      "bar_color": null,
      "description_width": ""
     }
    },
    "7a6c079175044c83959a7b393d491847": {
     "model_module": "@jupyter-widgets/base",
     "model_module_version": "1.2.0",
     "model_name": "LayoutModel",
     "state": {
      "_model_module": "@jupyter-widgets/base",
      "_model_module_version": "1.2.0",
      "_model_name": "LayoutModel",
      "_view_count": null,
      "_view_module": "@jupyter-widgets/base",
      "_view_module_version": "1.2.0",
      "_view_name": "LayoutView",
      "align_content": null,
      "align_items": null,
      "align_self": null,
      "border": null,
      "bottom": null,
      "display": null,
      "flex": null,
      "flex_flow": null,
      "grid_area": null,
      "grid_auto_columns": null,
      "grid_auto_flow": null,
      "grid_auto_rows": null,
      "grid_column": null,
      "grid_gap": null,
      "grid_row": null,
      "grid_template_areas": null,
      "grid_template_columns": null,
      "grid_template_rows": null,
      "height": null,
      "justify_content": null,
      "justify_items": null,
      "left": null,
      "margin": null,
      "max_height": null,
      "max_width": null,
      "min_height": null,
      "min_width": null,
      "object_fit": null,
      "object_position": null,
      "order": null,
      "overflow": null,
      "overflow_x": null,
      "overflow_y": null,
      "padding": null,
      "right": null,
      "top": null,
      "visibility": null,
      "width": null
     }
    },
    "85f879f2e3834baf9d63dbba0b35b9c4": {
     "model_module": "@jupyter-widgets/base",
     "model_module_version": "1.2.0",
     "model_name": "LayoutModel",
     "state": {
      "_model_module": "@jupyter-widgets/base",
      "_model_module_version": "1.2.0",
      "_model_name": "LayoutModel",
      "_view_count": null,
      "_view_module": "@jupyter-widgets/base",
      "_view_module_version": "1.2.0",
      "_view_name": "LayoutView",
      "align_content": null,
      "align_items": null,
      "align_self": null,
      "border": null,
      "bottom": null,
      "display": null,
      "flex": null,
      "flex_flow": null,
      "grid_area": null,
      "grid_auto_columns": null,
      "grid_auto_flow": null,
      "grid_auto_rows": null,
      "grid_column": null,
      "grid_gap": null,
      "grid_row": null,
      "grid_template_areas": null,
      "grid_template_columns": null,
      "grid_template_rows": null,
      "height": null,
      "justify_content": null,
      "justify_items": null,
      "left": null,
      "margin": null,
      "max_height": null,
      "max_width": null,
      "min_height": null,
      "min_width": null,
      "object_fit": null,
      "object_position": null,
      "order": null,
      "overflow": null,
      "overflow_x": null,
      "overflow_y": null,
      "padding": null,
      "right": null,
      "top": null,
      "visibility": null,
      "width": null
     }
    },
    "8e42d679bee844a380688c7d0052a002": {
     "model_module": "@jupyter-widgets/controls",
     "model_module_version": "1.5.0",
     "model_name": "FloatProgressModel",
     "state": {
      "_dom_classes": [],
      "_model_module": "@jupyter-widgets/controls",
      "_model_module_version": "1.5.0",
      "_model_name": "FloatProgressModel",
      "_view_count": null,
      "_view_module": "@jupyter-widgets/controls",
      "_view_module_version": "1.5.0",
      "_view_name": "ProgressView",
      "bar_style": "success",
      "description": "",
      "description_tooltip": null,
      "layout": "IPY_MODEL_d131112e255f4218ad37be6c4ae65d1a",
      "max": 3,
      "min": 0,
      "orientation": "horizontal",
      "style": "IPY_MODEL_49d280df40a54e20ade085c9f84140bc",
      "value": 3
     }
    },
    "a273ebbcca584748ac47639e7fcd4424": {
     "model_module": "@jupyter-widgets/controls",
     "model_module_version": "1.5.0",
     "model_name": "DescriptionStyleModel",
     "state": {
      "_model_module": "@jupyter-widgets/controls",
      "_model_module_version": "1.5.0",
      "_model_name": "DescriptionStyleModel",
      "_view_count": null,
      "_view_module": "@jupyter-widgets/base",
      "_view_module_version": "1.2.0",
      "_view_name": "StyleView",
      "description_width": ""
     }
    },
    "a33e2f120add40bb8f1e3fef0af9a0c3": {
     "model_module": "@jupyter-widgets/controls",
     "model_module_version": "1.5.0",
     "model_name": "HBoxModel",
     "state": {
      "_dom_classes": [],
      "_model_module": "@jupyter-widgets/controls",
      "_model_module_version": "1.5.0",
      "_model_name": "HBoxModel",
      "_view_count": null,
      "_view_module": "@jupyter-widgets/controls",
      "_view_module_version": "1.5.0",
      "_view_name": "HBoxView",
      "box_style": "",
      "children": [
       "IPY_MODEL_c5b8b74eae7b43a8a02c6e45de56ce19",
       "IPY_MODEL_8e42d679bee844a380688c7d0052a002",
       "IPY_MODEL_3647e075e01a44cc919b1caf99c69611"
      ],
      "layout": "IPY_MODEL_85f879f2e3834baf9d63dbba0b35b9c4"
     }
    },
    "a3981d4c0646400a9229d48255a974bc": {
     "model_module": "@jupyter-widgets/controls",
     "model_module_version": "1.5.0",
     "model_name": "HTMLModel",
     "state": {
      "_dom_classes": [],
      "_model_module": "@jupyter-widgets/controls",
      "_model_module_version": "1.5.0",
      "_model_name": "HTMLModel",
      "_view_count": null,
      "_view_module": "@jupyter-widgets/controls",
      "_view_module_version": "1.5.0",
      "_view_name": "HTMLView",
      "description": "",
      "description_tooltip": null,
      "layout": "IPY_MODEL_5bd5ace3dfa84d0597d62d0bbfd94b52",
      "placeholder": "​",
      "style": "IPY_MODEL_fcdc3d4e5ce44b9b9f1477084e5f7fb1",
      "value": "100%"
     }
    },
    "a629d54c92614a2081ee5e15b249d51a": {
     "model_module": "@jupyter-widgets/base",
     "model_module_version": "1.2.0",
     "model_name": "LayoutModel",
     "state": {
      "_model_module": "@jupyter-widgets/base",
      "_model_module_version": "1.2.0",
      "_model_name": "LayoutModel",
      "_view_count": null,
      "_view_module": "@jupyter-widgets/base",
      "_view_module_version": "1.2.0",
      "_view_name": "LayoutView",
      "align_content": null,
      "align_items": null,
      "align_self": null,
      "border": null,
      "bottom": null,
      "display": null,
      "flex": null,
      "flex_flow": null,
      "grid_area": null,
      "grid_auto_columns": null,
      "grid_auto_flow": null,
      "grid_auto_rows": null,
      "grid_column": null,
      "grid_gap": null,
      "grid_row": null,
      "grid_template_areas": null,
      "grid_template_columns": null,
      "grid_template_rows": null,
      "height": null,
      "justify_content": null,
      "justify_items": null,
      "left": null,
      "margin": null,
      "max_height": null,
      "max_width": null,
      "min_height": null,
      "min_width": null,
      "object_fit": null,
      "object_position": null,
      "order": null,
      "overflow": null,
      "overflow_x": null,
      "overflow_y": null,
      "padding": null,
      "right": null,
      "top": null,
      "visibility": null,
      "width": null
     }
    },
    "b09f6a5af72e4cb7923bd1c6e81b035f": {
     "model_module": "@jupyter-widgets/controls",
     "model_module_version": "1.5.0",
     "model_name": "DescriptionStyleModel",
     "state": {
      "_model_module": "@jupyter-widgets/controls",
      "_model_module_version": "1.5.0",
      "_model_name": "DescriptionStyleModel",
      "_view_count": null,
      "_view_module": "@jupyter-widgets/base",
      "_view_module_version": "1.2.0",
      "_view_name": "StyleView",
      "description_width": ""
     }
    },
    "c2917f6ef7f84564894fd532b3826a95": {
     "model_module": "@jupyter-widgets/base",
     "model_module_version": "1.2.0",
     "model_name": "LayoutModel",
     "state": {
      "_model_module": "@jupyter-widgets/base",
      "_model_module_version": "1.2.0",
      "_model_name": "LayoutModel",
      "_view_count": null,
      "_view_module": "@jupyter-widgets/base",
      "_view_module_version": "1.2.0",
      "_view_name": "LayoutView",
      "align_content": null,
      "align_items": null,
      "align_self": null,
      "border": null,
      "bottom": null,
      "display": null,
      "flex": null,
      "flex_flow": null,
      "grid_area": null,
      "grid_auto_columns": null,
      "grid_auto_flow": null,
      "grid_auto_rows": null,
      "grid_column": null,
      "grid_gap": null,
      "grid_row": null,
      "grid_template_areas": null,
      "grid_template_columns": null,
      "grid_template_rows": null,
      "height": null,
      "justify_content": null,
      "justify_items": null,
      "left": null,
      "margin": null,
      "max_height": null,
      "max_width": null,
      "min_height": null,
      "min_width": null,
      "object_fit": null,
      "object_position": null,
      "order": null,
      "overflow": null,
      "overflow_x": null,
      "overflow_y": null,
      "padding": null,
      "right": null,
      "top": null,
      "visibility": null,
      "width": null
     }
    },
    "c5b8b74eae7b43a8a02c6e45de56ce19": {
     "model_module": "@jupyter-widgets/controls",
     "model_module_version": "1.5.0",
     "model_name": "HTMLModel",
     "state": {
      "_dom_classes": [],
      "_model_module": "@jupyter-widgets/controls",
      "_model_module_version": "1.5.0",
      "_model_name": "HTMLModel",
      "_view_count": null,
      "_view_module": "@jupyter-widgets/controls",
      "_view_module_version": "1.5.0",
      "_view_name": "HTMLView",
      "description": "",
      "description_tooltip": null,
      "layout": "IPY_MODEL_c2917f6ef7f84564894fd532b3826a95",
      "placeholder": "​",
      "style": "IPY_MODEL_0e03cbdfc3284cf19bb6cba12b895c19",
      "value": "100%"
     }
    },
    "cca3ebea33904b7d8a7260b5db09af4e": {
     "model_module": "@jupyter-widgets/controls",
     "model_module_version": "1.5.0",
     "model_name": "HBoxModel",
     "state": {
      "_dom_classes": [],
      "_model_module": "@jupyter-widgets/controls",
      "_model_module_version": "1.5.0",
      "_model_name": "HBoxModel",
      "_view_count": null,
      "_view_module": "@jupyter-widgets/controls",
      "_view_module_version": "1.5.0",
      "_view_name": "HBoxView",
      "box_style": "",
      "children": [
       "IPY_MODEL_132113947b84477eb671a4b876d1e2d9",
       "IPY_MODEL_4c130b31f595482196b5d11d412c95d2",
       "IPY_MODEL_06d80a0e7dc049d3b75cc771a97d11bc"
      ],
      "layout": "IPY_MODEL_7a6c079175044c83959a7b393d491847"
     }
    },
    "d131112e255f4218ad37be6c4ae65d1a": {
     "model_module": "@jupyter-widgets/base",
     "model_module_version": "1.2.0",
     "model_name": "LayoutModel",
     "state": {
      "_model_module": "@jupyter-widgets/base",
      "_model_module_version": "1.2.0",
      "_model_name": "LayoutModel",
      "_view_count": null,
      "_view_module": "@jupyter-widgets/base",
      "_view_module_version": "1.2.0",
      "_view_name": "LayoutView",
      "align_content": null,
      "align_items": null,
      "align_self": null,
      "border": null,
      "bottom": null,
      "display": null,
      "flex": null,
      "flex_flow": null,
      "grid_area": null,
      "grid_auto_columns": null,
      "grid_auto_flow": null,
      "grid_auto_rows": null,
      "grid_column": null,
      "grid_gap": null,
      "grid_row": null,
      "grid_template_areas": null,
      "grid_template_columns": null,
      "grid_template_rows": null,
      "height": null,
      "justify_content": null,
      "justify_items": null,
      "left": null,
      "margin": null,
      "max_height": null,
      "max_width": null,
      "min_height": null,
      "min_width": null,
      "object_fit": null,
      "object_position": null,
      "order": null,
      "overflow": null,
      "overflow_x": null,
      "overflow_y": null,
      "padding": null,
      "right": null,
      "top": null,
      "visibility": null,
      "width": null
     }
    },
    "dfadd29dac1c4aac93d8ebf1303ff715": {
     "model_module": "@jupyter-widgets/controls",
     "model_module_version": "1.5.0",
     "model_name": "DescriptionStyleModel",
     "state": {
      "_model_module": "@jupyter-widgets/controls",
      "_model_module_version": "1.5.0",
      "_model_name": "DescriptionStyleModel",
      "_view_count": null,
      "_view_module": "@jupyter-widgets/base",
      "_view_module_version": "1.2.0",
      "_view_name": "StyleView",
      "description_width": ""
     }
    },
    "f37cae372a7440e1917db36cc84c865d": {
     "model_module": "@jupyter-widgets/controls",
     "model_module_version": "1.5.0",
     "model_name": "DescriptionStyleModel",
     "state": {
      "_model_module": "@jupyter-widgets/controls",
      "_model_module_version": "1.5.0",
      "_model_name": "DescriptionStyleModel",
      "_view_count": null,
      "_view_module": "@jupyter-widgets/base",
      "_view_module_version": "1.2.0",
      "_view_name": "StyleView",
      "description_width": ""
     }
    },
    "fcdc3d4e5ce44b9b9f1477084e5f7fb1": {
     "model_module": "@jupyter-widgets/controls",
     "model_module_version": "1.5.0",
     "model_name": "DescriptionStyleModel",
     "state": {
      "_model_module": "@jupyter-widgets/controls",
      "_model_module_version": "1.5.0",
      "_model_name": "DescriptionStyleModel",
      "_view_count": null,
      "_view_module": "@jupyter-widgets/base",
      "_view_module_version": "1.2.0",
      "_view_name": "StyleView",
      "description_width": ""
     }
    },
    "ff136bbf84334ca4925630a717c77bb9": {
     "model_module": "@jupyter-widgets/controls",
     "model_module_version": "1.5.0",
     "model_name": "ProgressStyleModel",
     "state": {
      "_model_module": "@jupyter-widgets/controls",
      "_model_module_version": "1.5.0",
      "_model_name": "ProgressStyleModel",
      "_view_count": null,
      "_view_module": "@jupyter-widgets/base",
      "_view_module_version": "1.2.0",
      "_view_name": "StyleView",
      "bar_color": null,
      "description_width": ""
     }
    }
   }
  }
 },
 "nbformat": 4,
 "nbformat_minor": 4
}
