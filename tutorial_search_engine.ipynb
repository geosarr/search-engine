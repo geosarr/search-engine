{
 "cells": [
  {
   "cell_type": "markdown",
   "metadata": {},
   "source": [
    "[![Open In Colab](https://colab.research.google.com/assets/colab-badge.svg)](https://colab.research.google.com/drive/1y_VpfrOomKm33b6BxlmeNj09JEbV1b2a)"
   ]
  },
  {
   "cell_type": "code",
   "execution_count": 2,
   "metadata": {},
   "outputs": [],
   "source": [
    "%load_ext autoreload\n",
    "%autoreload 2"
   ]
  },
  {
   "cell_type": "code",
   "execution_count": 3,
   "metadata": {},
   "outputs": [],
   "source": [
    "# ! pip install datasets\n",
    "# ! pip install gensim \n",
    "# ! pip install nltk\n",
    "# ! pip install tqdm"
   ]
  },
  {
   "cell_type": "code",
   "execution_count": 4,
   "metadata": {},
   "outputs": [
    {
     "name": "stderr",
     "output_type": "stream",
     "text": [
      "[nltk_data] Downloading package words to\n",
      "[nltk_data]     /home/georges_sarr/nltk_data...\n",
      "[nltk_data]   Package words is already up-to-date!\n",
      "[nltk_data] Downloading package stopwords to\n",
      "[nltk_data]     /home/georges_sarr/nltk_data...\n",
      "[nltk_data]   Package stopwords is already up-to-date!\n"
     ]
    },
    {
     "name": "stdout",
     "output_type": "stream",
     "text": [
      "CPU times: user 5.08 s, sys: 2.9 s, total: 7.98 s\n",
      "Wall time: 20.5 s\n"
     ]
    }
   ],
   "source": [
    "%%time\n",
    "import warnings\n",
    "warnings.simplefilter(action='ignore', category=RuntimeWarning)\n",
    "\n",
    "from model_utils import tf, idf, unigram, doc_embed, cluster_docs, wd, opt_svd \n",
    "from search_models import Boolean, Vsm, Bim, BimExt, QueryLklhd, W2Vsm, Lsi\n",
    "from search import searching \n",
    "from saveload import indexing\n",
    "from indices import SubInvertedIndex\n",
    "from evaluation import MRR\n",
    "\n",
    "import matplotlib.pyplot as plt\n",
    "import seaborn as sb\n",
    "import numpy as np\n",
    "import pandas as pd\n",
    "\n",
    "import gensim\n",
    "import gensim.downloader as api"
   ]
  },
  {
   "cell_type": "markdown",
   "metadata": {},
   "source": [
    "# Indexing the documents collection"
   ]
  },
  {
   "cell_type": "code",
   "execution_count": 5,
   "metadata": {},
   "outputs": [
    {
     "name": "stdout",
     "output_type": "stream",
     "text": [
      ".....................Collection indexation in progress.....................\n"
     ]
    },
    {
     "name": "stderr",
     "output_type": "stream",
     "text": [
      "Reusing dataset ms_marco (/home/georges_sarr/.cache/huggingface/datasets/ms_marco/v1.1/1.1.0/b6a62715fa5219aea5275dd3556601004cd63945cb63e36e022f77bb3cbbca84)\n",
      "100%|██████████| 9650/9650 [00:36<00:00, 264.52it/s]\n"
     ]
    },
    {
     "name": "stdout",
     "output_type": "stream",
     "text": [
      ".....................Successfully saved the index.....................\n",
      "CPU times: user 38.8 s, sys: 1.24 s, total: 40.1 s\n",
      "Wall time: 41.4 s\n"
     ]
    }
   ],
   "source": [
    "%%time\n",
    "judgments=dict()\n",
    "inverted_index_sortpost, judgments=indexing(dataset=\"ms_marco\", save=True, save_load_path=\"./data\", index_type='inv', judgments=judgments, version=\"v1.1\", split=\"test\")"
   ]
  },
  {
   "cell_type": "code",
   "execution_count": 6,
   "metadata": {},
   "outputs": [],
   "source": [
    "# TAKES TOO MUCH TIME TO RUN >= 10 minutes\n",
    "# %%time\n",
    "# positional_index_sortpost=indexing(dataset=\"ms_marco\", save=True, save_load_path=\"./data\", index_type=\"pos\")"
   ]
  },
  {
   "cell_type": "markdown",
   "metadata": {},
   "source": [
    "# Statistics"
   ]
  },
  {
   "cell_type": "code",
   "execution_count": 6,
   "metadata": {},
   "outputs": [
    {
     "name": "stdout",
     "output_type": "stream",
     "text": [
      "The vocabulary is made of 132161 words\n"
     ]
    }
   ],
   "source": [
    "print(f\"The vocabulary is made of {len(inverted_index_sortpost.index)} words\")"
   ]
  },
  {
   "cell_type": "markdown",
   "metadata": {},
   "source": [
    "### Document lengths"
   ]
  },
  {
   "cell_type": "code",
   "execution_count": 7,
   "metadata": {},
   "outputs": [
    {
     "name": "stdout",
     "output_type": "stream",
     "text": [
      "There are 79176 documents\n"
     ]
    },
    {
     "data": {
      "text/plain": [
       "<AxesSubplot:ylabel='Count'>"
      ]
     },
     "execution_count": 7,
     "metadata": {},
     "output_type": "execute_result"
    },
    {
     "data": {
      "image/png": "[encoded data removed]",
      "text/plain": [
       "<Figure size 432x288 with 1 Axes>"
      ]
     },
     "metadata": {
      "needs_background": "light"
     },
     "output_type": "display_data"
    }
   ],
   "source": [
    "print(f\"There are {len(inverted_index_sortpost.documents)} documents\")\n",
    "doc_lenghts=[len(inverted_index_sortpost.raw_freq[ID]) for ID in inverted_index_sortpost.documents]\n",
    "sb.histplot(doc_lenghts)"
   ]
  },
  {
   "cell_type": "code",
   "execution_count": 8,
   "metadata": {},
   "outputs": [
    {
     "data": {
      "text/html": [
       "<div>\n",
       "<style scoped>\n",
       "    .dataframe tbody tr th:only-of-type {\n",
       "        vertical-align: middle;\n",
       "    }\n",
       "\n",
       "    .dataframe tbody tr th {\n",
       "        vertical-align: top;\n",
       "    }\n",
       "\n",
       "    .dataframe thead th {\n",
       "        text-align: right;\n",
       "    }\n",
       "</style>\n",
       "<table border=\"1\" class=\"dataframe\">\n",
       "  <thead>\n",
       "    <tr style=\"text-align: right;\">\n",
       "      <th></th>\n",
       "      <th>doc_lengths</th>\n",
       "    </tr>\n",
       "  </thead>\n",
       "  <tbody>\n",
       "    <tr>\n",
       "      <th>count</th>\n",
       "      <td>79176.0</td>\n",
       "    </tr>\n",
       "    <tr>\n",
       "      <th>mean</th>\n",
       "      <td>49.0</td>\n",
       "    </tr>\n",
       "    <tr>\n",
       "      <th>std</th>\n",
       "      <td>15.0</td>\n",
       "    </tr>\n",
       "    <tr>\n",
       "      <th>min</th>\n",
       "      <td>4.0</td>\n",
       "    </tr>\n",
       "    <tr>\n",
       "      <th>25%</th>\n",
       "      <td>37.0</td>\n",
       "    </tr>\n",
       "    <tr>\n",
       "      <th>50%</th>\n",
       "      <td>48.0</td>\n",
       "    </tr>\n",
       "    <tr>\n",
       "      <th>75%</th>\n",
       "      <td>60.0</td>\n",
       "    </tr>\n",
       "    <tr>\n",
       "      <th>max</th>\n",
       "      <td>125.0</td>\n",
       "    </tr>\n",
       "  </tbody>\n",
       "</table>\n",
       "</div>"
      ],
      "text/plain": [
       "       doc_lengths\n",
       "count      79176.0\n",
       "mean          49.0\n",
       "std           15.0\n",
       "min            4.0\n",
       "25%           37.0\n",
       "50%           48.0\n",
       "75%           60.0\n",
       "max          125.0"
      ]
     },
     "execution_count": 8,
     "metadata": {},
     "output_type": "execute_result"
    }
   ],
   "source": [
    "round(pd.DataFrame({\"doc_lengths\": doc_lenghts}).describe(),0)"
   ]
  },
  {
   "cell_type": "markdown",
   "metadata": {},
   "source": [
    "### Word raw frequencies"
   ]
  },
  {
   "cell_type": "code",
   "execution_count": 9,
   "metadata": {},
   "outputs": [
    {
     "data": {
      "text/html": [
       "<div>\n",
       "<style scoped>\n",
       "    .dataframe tbody tr th:only-of-type {\n",
       "        vertical-align: middle;\n",
       "    }\n",
       "\n",
       "    .dataframe tbody tr th {\n",
       "        vertical-align: top;\n",
       "    }\n",
       "\n",
       "    .dataframe thead th {\n",
       "        text-align: right;\n",
       "    }\n",
       "</style>\n",
       "<table border=\"1\" class=\"dataframe\">\n",
       "  <thead>\n",
       "    <tr style=\"text-align: right;\">\n",
       "      <th></th>\n",
       "      <th>avg_raw_freqs</th>\n",
       "    </tr>\n",
       "  </thead>\n",
       "  <tbody>\n",
       "    <tr>\n",
       "      <th>count</th>\n",
       "      <td>132161.0</td>\n",
       "    </tr>\n",
       "    <tr>\n",
       "      <th>mean</th>\n",
       "      <td>1.0</td>\n",
       "    </tr>\n",
       "    <tr>\n",
       "      <th>std</th>\n",
       "      <td>0.0</td>\n",
       "    </tr>\n",
       "    <tr>\n",
       "      <th>min</th>\n",
       "      <td>1.0</td>\n",
       "    </tr>\n",
       "    <tr>\n",
       "      <th>25%</th>\n",
       "      <td>1.0</td>\n",
       "    </tr>\n",
       "    <tr>\n",
       "      <th>50%</th>\n",
       "      <td>1.0</td>\n",
       "    </tr>\n",
       "    <tr>\n",
       "      <th>75%</th>\n",
       "      <td>1.0</td>\n",
       "    </tr>\n",
       "    <tr>\n",
       "      <th>max</th>\n",
       "      <td>24.0</td>\n",
       "    </tr>\n",
       "  </tbody>\n",
       "</table>\n",
       "</div>"
      ],
      "text/plain": [
       "       avg_raw_freqs\n",
       "count       132161.0\n",
       "mean             1.0\n",
       "std              0.0\n",
       "min              1.0\n",
       "25%              1.0\n",
       "50%              1.0\n",
       "75%              1.0\n",
       "max             24.0"
      ]
     },
     "execution_count": 9,
     "metadata": {},
     "output_type": "execute_result"
    }
   ],
   "source": [
    "# average number of time each token appears in a document\n",
    "avg_raw_freqs = [np.mean([inverted_index_sortpost.raw_freq[ID][term] for ID in inverted_index_sortpost.index[term]]) for term in inverted_index_sortpost.index]\n",
    "round(pd.DataFrame({\"avg_raw_freqs\":avg_raw_freqs}).describe(),0)"
   ]
  },
  {
   "cell_type": "markdown",
   "metadata": {},
   "source": [
    "Most of the terms appear just once in a document."
   ]
  },
  {
   "cell_type": "markdown",
   "metadata": {},
   "source": [
    "### Document frequencies"
   ]
  },
  {
   "cell_type": "code",
   "execution_count": 10,
   "metadata": {},
   "outputs": [
    {
     "name": "stdout",
     "output_type": "stream",
     "text": [
      "CPU times: user 94.5 ms, sys: 0 ns, total: 94.5 ms\n",
      "Wall time: 93.6 ms\n"
     ]
    },
    {
     "data": {
      "text/html": [
       "<div>\n",
       "<style scoped>\n",
       "    .dataframe tbody tr th:only-of-type {\n",
       "        vertical-align: middle;\n",
       "    }\n",
       "\n",
       "    .dataframe tbody tr th {\n",
       "        vertical-align: top;\n",
       "    }\n",
       "\n",
       "    .dataframe thead th {\n",
       "        text-align: right;\n",
       "    }\n",
       "</style>\n",
       "<table border=\"1\" class=\"dataframe\">\n",
       "  <thead>\n",
       "    <tr style=\"text-align: right;\">\n",
       "      <th></th>\n",
       "      <th>doc_freqs</th>\n",
       "    </tr>\n",
       "  </thead>\n",
       "  <tbody>\n",
       "    <tr>\n",
       "      <th>count</th>\n",
       "      <td>132161.0</td>\n",
       "    </tr>\n",
       "    <tr>\n",
       "      <th>mean</th>\n",
       "      <td>29.0</td>\n",
       "    </tr>\n",
       "    <tr>\n",
       "      <th>std</th>\n",
       "      <td>571.0</td>\n",
       "    </tr>\n",
       "    <tr>\n",
       "      <th>min</th>\n",
       "      <td>1.0</td>\n",
       "    </tr>\n",
       "    <tr>\n",
       "      <th>25%</th>\n",
       "      <td>1.0</td>\n",
       "    </tr>\n",
       "    <tr>\n",
       "      <th>50%</th>\n",
       "      <td>2.0</td>\n",
       "    </tr>\n",
       "    <tr>\n",
       "      <th>75%</th>\n",
       "      <td>5.0</td>\n",
       "    </tr>\n",
       "    <tr>\n",
       "      <th>max</th>\n",
       "      <td>73633.0</td>\n",
       "    </tr>\n",
       "  </tbody>\n",
       "</table>\n",
       "</div>"
      ],
      "text/plain": [
       "       doc_freqs\n",
       "count   132161.0\n",
       "mean        29.0\n",
       "std        571.0\n",
       "min          1.0\n",
       "25%          1.0\n",
       "50%          2.0\n",
       "75%          5.0\n",
       "max      73633.0"
      ]
     },
     "execution_count": 10,
     "metadata": {},
     "output_type": "execute_result"
    }
   ],
   "source": [
    "%%time \n",
    "doc_freqs=[len(inverted_index_sortpost.index[token]) for token in inverted_index_sortpost.index]\n",
    "round(pd.DataFrame({\"doc_freqs\": doc_freqs}).describe(),0)"
   ]
  },
  {
   "cell_type": "markdown",
   "metadata": {},
   "source": [
    "A term appears on average in 30 $\\pm$ 500 documents, 75% of the terms appear in less than 5 documents (a lot of rare terms, weird ??). Lets try to visualize why"
   ]
  },
  {
   "cell_type": "code",
   "execution_count": 11,
   "metadata": {},
   "outputs": [
    {
     "name": "stdout",
     "output_type": "stream",
     "text": [
      "stink\n",
      "relocate\n",
      "scatter\n",
      "npr\n",
      "deters\n",
      "contributory\n",
      "fuelsoil\n",
      "coaltake\n",
      "circumscribes\n",
      "apothems\n",
      "4cm\n",
      "polygonsproperties\n",
      "incircle\n",
      "congruent\n",
      "equilateral\n",
      "mathworld\n",
      "sagitta\n",
      "weisstein\n",
      "inradius\n",
      "hypotenuse\n"
     ]
    }
   ],
   "source": [
    "for pos , term in enumerate(inverted_index_sortpost.index) : \n",
    "    if pos<=500 and len(inverted_index_sortpost.index[term])<=5: print(term) "
   ]
  },
  {
   "cell_type": "markdown",
   "metadata": {},
   "source": [
    "It looks plausible when we look at the above sequence of words (they look rare indeed)"
   ]
  },
  {
   "cell_type": "markdown",
   "metadata": {},
   "source": [
    "### Relevance judgments"
   ]
  },
  {
   "cell_type": "markdown",
   "metadata": {},
   "source": [
    "Judgments are used to evaluate models, each query is associated to some relevant documents, and those documents have a relevance score "
   ]
  },
  {
   "cell_type": "code",
   "execution_count": 12,
   "metadata": {},
   "outputs": [
    {
     "data": {
      "text/plain": [
       "['does human hair stop squirrels: {1: 1, 2: 1, 3: 2, 4: 1, 5: 1, 6: 1, 7: 1}',\n",
       " 'what are the benefits of fossil fuels: {8: 1, 9: 2, 10: 1, 11: 1, 12: 1, 13: 1, 14: 1, 15: 1, 16: 1}',\n",
       " 'what is a apothem: {17: 1, 18: 1, 19: 1, 20: 1, 21: 1, 22: 2, 23: 1, 24: 1, 25: 1}']"
      ]
     },
     "execution_count": 12,
     "metadata": {},
     "output_type": "execute_result"
    }
   ],
   "source": [
    "[f'{query}: {judgments[query]}' for pos, query in enumerate(judgments) if pos<=2]"
   ]
  },
  {
   "cell_type": "code",
   "execution_count": 13,
   "metadata": {},
   "outputs": [
    {
     "name": "stdout",
     "output_type": "stream",
     "text": [
      "On average 8 judgment(s) per query\n"
     ]
    }
   ],
   "source": [
    "print(f\"On average {int(np.mean([len(judgments[query]) for query in judgments]))} judgment(s) per query\")"
   ]
  },
  {
   "cell_type": "code",
   "execution_count": 14,
   "metadata": {},
   "outputs": [
    {
     "name": "stdout",
     "output_type": "stream",
     "text": [
      "The minimum and maximum relevance scores are 1 and 2 respectively\n"
     ]
    }
   ],
   "source": [
    "print(f\"The minimum and maximum relevance scores are {min([min(judgments[query].values()) for query in judgments])} and {max([max(judgments[query].values()) for query in judgments])} respectively\")"
   ]
  },
  {
   "cell_type": "markdown",
   "metadata": {},
   "source": [
    "# Preparing for search"
   ]
  },
  {
   "cell_type": "markdown",
   "metadata": {},
   "source": [
    "### TF-IDF and language model"
   ]
  },
  {
   "cell_type": "code",
   "execution_count": 15,
   "metadata": {},
   "outputs": [
    {
     "name": "stderr",
     "output_type": "stream",
     "text": [
      "100%|██████████| 79176/79176 [00:03<00:00, 20730.25it/s]\n"
     ]
    }
   ],
   "source": [
    "tfreqs, idfs, unigram_model=tf(inverted_index_sortpost), idf(inverted_index_sortpost), unigram(inverted_index_sortpost)"
   ]
  },
  {
   "cell_type": "markdown",
   "metadata": {},
   "source": [
    "### Uploading word2vec model"
   ]
  },
  {
   "cell_type": "code",
   "execution_count": 16,
   "metadata": {},
   "outputs": [
    {
     "name": "stdout",
     "output_type": "stream",
     "text": [
      "Word2Vec model vocabulary size = 3000000 words\n"
     ]
    }
   ],
   "source": [
    "## Takes up to 10 minutes to run, but TO RUN ONCE !!!\n",
    "# path = api.load(\"word2vec-google-news-300\", return_path=True)\n",
    "path=\"~/gensim-data/word2vec-google-news-300/word2vec-google-news-300.gz\"\n",
    "# Takes up to 1 minute to load the google news word2vec model\n",
    "w2v = gensim.models.KeyedVectors.load_word2vec_format(path, binary=True)\n",
    "print(f\"Word2Vec model vocabulary size = {len(w2v.key_to_index)} words\")"
   ]
  },
  {
   "cell_type": "markdown",
   "metadata": {},
   "source": [
    "### Document embedding and document clustering"
   ]
  },
  {
   "cell_type": "code",
   "execution_count": 17,
   "metadata": {},
   "outputs": [
    {
     "name": "stderr",
     "output_type": "stream",
     "text": [
      "100%|██████████| 79176/79176 [00:19<00:00, 4111.19it/s]\n"
     ]
    }
   ],
   "source": [
    "doc2vec=doc_embed(inverted_index_sortpost, tfreqs, idfs, w2v)"
   ]
  },
  {
   "cell_type": "code",
   "execution_count": 18,
   "metadata": {},
   "outputs": [
    {
     "name": "stdout",
     "output_type": "stream",
     "text": [
      "Computing K-means model for different values of K\n"
     ]
    },
    {
     "name": "stderr",
     "output_type": "stream",
     "text": [
      "100%|██████████| 2/2 [02:10<00:00, 65.24s/it]\n"
     ]
    },
    {
     "data": {
      "image/png": "[encoded data removed]",
      "text/plain": [
       "<Figure size 432x288 with 1 Axes>"
      ]
     },
     "metadata": {
      "needs_background": "light"
     },
     "output_type": "display_data"
    }
   ],
   "source": [
    "doc_kmeans=cluster_docs(inverted_index_sortpost, doc_embeds=doc2vec,num_min_centr=60,num_max_centr=80,step=10,plot=True)"
   ]
  },
  {
   "cell_type": "markdown",
   "metadata": {},
   "source": [
    "### Random subsample of the index (for latent semantic indexing (lsi) model)"
   ]
  },
  {
   "cell_type": "code",
   "execution_count": 19,
   "metadata": {},
   "outputs": [
    {
     "name": "stderr",
     "output_type": "stream",
     "text": [
      "100%|██████████| 132161/132161 [00:15<00:00, 8687.03it/s]  \n",
      "100%|██████████| 132161/132161 [00:00<00:00, 1964264.90it/s]\n",
      "100%|██████████| 1000/1000 [00:00<00:00, 564965.52it/s]\n",
      "100%|██████████| 1000/1000 [00:00<00:00, 762878.14it/s]\n"
     ]
    }
   ],
   "source": [
    "sub_inv = SubInvertedIndex()\n",
    "nb_docs=len(inverted_index_sortpost.documents)\n",
    "nb_sampled_docs=1000\n",
    "sampled_docs=np.random.choice(a=range(1,nb_docs+1),size=nb_sampled_docs, replace=False)\n",
    "sub_inv.reindex(inverted_index_sortpost, sampled_docs)"
   ]
  },
  {
   "cell_type": "code",
   "execution_count": 20,
   "metadata": {},
   "outputs": [
    {
     "name": "stderr",
     "output_type": "stream",
     "text": [
      "1000it [00:00, 16384.06it/s]\n"
     ]
    },
    {
     "data": {
      "text/plain": [
       "(11674, 1000)"
      ]
     },
     "execution_count": 20,
     "metadata": {},
     "output_type": "execute_result"
    }
   ],
   "source": [
    "WD, wtoi, dtoi = wd(sub_inv)\n",
    "WD.shape"
   ]
  },
  {
   "cell_type": "code",
   "execution_count": 21,
   "metadata": {},
   "outputs": [
    {
     "name": "stdout",
     "output_type": "stream",
     "text": [
      "Computing SVDs for different values of k\n"
     ]
    },
    {
     "name": "stderr",
     "output_type": "stream",
     "text": [
      "100%|██████████| 9/9 [01:03<00:00,  7.04s/it]\n"
     ]
    },
    {
     "data": {
      "image/png": "[encoded data removed]",
      "text/plain": [
       "<Figure size 432x288 with 1 Axes>"
      ]
     },
     "metadata": {
      "needs_background": "light"
     },
     "output_type": "display_data"
    }
   ],
   "source": [
    "svd_mats=opt_svd(WD,min_k=100,max_k=1000,step_k=100, penalty=5,plot=True)"
   ]
  },
  {
   "cell_type": "markdown",
   "metadata": {},
   "source": [
    "# Searching"
   ]
  },
  {
   "cell_type": "markdown",
   "metadata": {},
   "source": [
    "### Simple boolean retrieval"
   ]
  },
  {
   "cell_type": "code",
   "execution_count": 22,
   "metadata": {},
   "outputs": [
    {
     "name": "stdout",
     "output_type": "stream",
     "text": [
      "Did you mean: \u001b[36mwhat is mids\u001b[0m ?\n",
      "\n",
      "\n",
      "Your query:  what is AIDS ?\n",
      "\n",
      "Result(s): \n",
      "What is mean by opportunistic infection-Two examples of opportunistic infections are given below. In day to day life we unknowingly carry out many germs such as, fungi, bacteria, protozoa and viruses. When a person is HIV infection free the immune system resists such invaders. It controls them properly. Examples of Opportunistic Infection. Before going to see the examples of opportunistic infection, it would be better to learn that what is HIV and how it helps such infections to attack on the immune system. HIV is known as Human Immuno Deficiency Virus. The virus leads to develop the AIDS. It attacks on the CD4 cells \n",
      "\n",
      "Examples of opportunistic infections are given here for your sake. You can get the list of such examples in the given article. Moreover you would be able to know that what is opportunistic infection and how it leads a person to the life threatening disease that is AIDS. Examples of Opportunistic Infection. Before going to see the examples of opportunistic infection, it would be better to learn that what is HIV and how it helps such infections to attack on the immune system. HIV is known as Human Immuno Deficiency Virus. The virus leads to develop the AIDS. It attacks on the CD4 cells \n",
      "\n",
      "The salivary glands are located in the mouth, and their job is to secrete (guess what) saliva. When you first chew your food, the saliva moistens your food as it forms a bolus … . A moist bolus is easy to swallow. Making the world better, one answer at a time. The salivary glands secretes saliva that aids in chewing and starts the digestion process. This part of digestion is took place in your mouth. Saliva glands are located in the mouth providing the first ingested digestive chemical breakdown. Saliva also lubricates ingestion to aid in mastication \n",
      "\n",
      "The word mnemonic is derived from the Ancient Greek word μνημονικός (mnēmonikos), meaning of memory, or relating to memory and is related to Mnemosyne (remembrance), the name of the goddess of memory in Greek mythology. Both of these words are derived from μνήμη (mnēmē), remembrance, memory. Mnemonics in antiquity were most often considered in the context of what is today known as the art of memory. Ancient Greeks and Romans distinguished between two types of memory: the natural memory and the artificial memory. A mnemonic (. : /nəˈmɒnɨk/ , : /nɛˈmɑːnɪk/ the first m is silent), mnemonic device, or memory device is any learning technique that aids information retention in the human memory. Mnemonics aim to translate information into a form that the brain can retain better than its original form \n",
      "\n"
     ]
    }
   ],
   "source": [
    "bl=Boolean(index=inverted_index_sortpost, query_type=\"AND\", correct_query=True)\n",
    "searching(bl)"
   ]
  },
  {
   "cell_type": "markdown",
   "metadata": {},
   "source": [
    "## Phrase queries retrieval PENDING( POSITIONAL INDEXING TAKES TIME TO RUN DUE TO PREPROCESSING)"
   ]
  },
  {
   "cell_type": "code",
   "execution_count": 37,
   "metadata": {},
   "outputs": [],
   "source": [
    "# %%time\n",
    "# query='''the effects of humidity on the mach number and static pressure in the\n",
    "# working section were investigated and the results are compared with\n",
    "# theoretical estimates at a nominal mach number 2.0'''\n",
    "# phrase_retrieval(positional_index_sortpost, query)"
   ]
  },
  {
   "cell_type": "markdown",
   "metadata": {},
   "source": [
    "### Vector Space Model"
   ]
  },
  {
   "cell_type": "code",
   "execution_count": 23,
   "metadata": {},
   "outputs": [
    {
     "name": "stdout",
     "output_type": "stream",
     "text": [
      "Your query:  save the world\n",
      "\n",
      "Result(s): \n",
      "Definition of Green. Living a green lifestyle – or going green – can begin in small, easy to manage ways. Recycling is a huge, obvious part of helping to save the world through green living. Reducing one’s reliance on oil-based energy sources is another popular method employed in trying to save the world. \n",
      "\n",
      "Going Green Tips. Some people find that an easy way of going green and helping to save the planet is by creating a compost pile in their backyards. Planting a vegetable garden instead of water hugging grass is another method being used by many people who are trying to save the world. \n",
      "\n",
      "In Acrobat Reader DC Save As Save As. To save a copy of a PDF Portfolio Save As Other PDF Portfolio. If you are viewing a PDF in a web browser, the Acrobat File menu is not available. Use the Save A Copy button in the Acrobat toolbar to save the PDF. To the top. \n",
      "\n",
      "1 The average monthly fee to Planet Fitness is $15, while the average to other gyms is $50. 2  This is a huge difference and could save you over $400 a year. 3  The longer you sign up for, the more you’re going to be able to save on your membership. \n",
      "\n",
      "4. Save the file as a PDF. Once the file opens in Acrobat, click the File menu, and then click Save As. In the Save As window, select the location you'd like to save it to, and then name your PDF. Make sure the Save as type dropdown menu is set to Adobe PDF Files, and then click Save. Find the file you want to convert to PDF. Find the file on your computer you want to convert to PDF, and then click Open. 1  You can click and drag a file onto the Open window to select it, too. \n",
      "\n"
     ]
    }
   ],
   "source": [
    "vsm=Vsm(index=inverted_index_sortpost, tfreqs=tfreqs, idfs=idfs, top=5, correct_query=False)\n",
    "searching(vsm)"
   ]
  },
  {
   "cell_type": "code",
   "execution_count": 24,
   "metadata": {},
   "outputs": [
    {
     "name": "stdout",
     "output_type": "stream",
     "text": [
      "Your query:  what is Franc ?\n",
      "\n",
      "Result(s): \n",
      "[fʁɑ̃] ; sign: F or Fr), also commonly distinguished as the French franc (FF), was a currency of France. Between 1360 and 1641, it was the name of coins worth 1 livre tournois and it remained in common parlance as a term for this amount of money. It was reintroduced (in decimal form) in 1795. It was revalued in 1960, with each new franc (NF) being worth 100 old francs. \n",
      "\n",
      "By the end of the 20th century, the United States dollar was considered the world's most dominant reserve currency, and the world's need for dollars has allowed the United States government as well as Americans to borrow at lower costs, granting them an advantage in excess of $100 billion per year. The Swiss franc, despite gaining ground among the world's foreign-currency reserves and being often used in denominating foreign loans, cannot be considered as a world reserve currency, since the share of all foreign exchange reserves held in Swiss francs has historically been well below 0.5%. \n",
      "\n",
      "French currency conversion. The French Franc is no longer used as money in France, it is now the Euro. The value of the French Franc was fixed at 1 Euro = 6.55957 French Francs, or 1 French Franc = 0.1524490172374104 Euro.  \n",
      "\n"
     ]
    }
   ],
   "source": [
    "bim=Bim(index=inverted_index_sortpost , top=3, correct_query=True)\n",
    "searching(bim)"
   ]
  },
  {
   "cell_type": "markdown",
   "metadata": {},
   "source": [
    "### Improving with some extensions"
   ]
  },
  {
   "cell_type": "code",
   "execution_count": 25,
   "metadata": {},
   "outputs": [
    {
     "name": "stdout",
     "output_type": "stream",
     "text": [
      "Your query:  what is Franc ?\n",
      "\n",
      "Result(s): \n",
      "The currency of France before 2002 was the French Franc. The franc was abolished in 2002 and replaced by the Euro at the rate of €1 = 6.55957 francs. The subdivision of th … e franc was the centime, 1 franc = 100 centimes. The name 'centime' is also used in French for the subdivision of the Euro, €1 = 100 centimes.   France used the franc as its currency up till 2002. Confidence votes 55. The currency used in France is the Euro (symbol €) and its the subdivision is called the 'cent' (English) or 'centime' (French). The Euro replaced the French franc in 2002 at the rate of €1 = 6.55957 francs, and the franc was no longer redeemable after February 201 \n",
      "\n",
      "French currency conversion. The French Franc is no longer used as money in France, it is now the Euro. The value of the French Franc was fixed at 1 Euro = 6.55957 French Francs, or 1 French Franc = 0.1524490172374104 Euro.  \n",
      "\n",
      "The franc (₣) is the name of several currency units. The French franc was the former currency of France until the euro was adopted in 1999 (by law, 2002 de facto). The Swiss franc is a major world currency today due to the prominence of Swiss financial institution \n",
      "\n"
     ]
    }
   ],
   "source": [
    "two_poisson=BimExt(index=inverted_index_sortpost, extension='two_poisson', top=3)\n",
    "searching(two_poisson)"
   ]
  },
  {
   "cell_type": "code",
   "execution_count": 26,
   "metadata": {},
   "outputs": [
    {
     "name": "stdout",
     "output_type": "stream",
     "text": [
      "Your query:  what is Franc ?\n",
      "\n",
      "Result(s): \n",
      "The currency of France before 2002 was the French Franc. The franc was abolished in 2002 and replaced by the Euro at the rate of €1 = 6.55957 francs. The subdivision of th … e franc was the centime, 1 franc = 100 centimes. The name 'centime' is also used in French for the subdivision of the Euro, €1 = 100 centimes.   France used the franc as its currency up till 2002. Confidence votes 55. The currency used in France is the Euro (symbol €) and its the subdivision is called the 'cent' (English) or 'centime' (French). The Euro replaced the French franc in 2002 at the rate of €1 = 6.55957 francs, and the franc was no longer redeemable after February 201 \n",
      "\n",
      "French currency conversion. The French Franc is no longer used as money in France, it is now the Euro. The value of the French Franc was fixed at 1 Euro = 6.55957 French Francs, or 1 French Franc = 0.1524490172374104 Euro.  \n",
      "\n",
      "The franc (₣) is the name of several currency units. The French franc was the former currency of France until the euro was adopted in 1999 (by law, 2002 de facto). The Swiss franc is a major world currency today due to the prominence of Swiss financial institution \n",
      "\n",
      "[fʁɑ̃] ; sign: F or Fr), also commonly distinguished as the French franc (FF), was a currency of France. Between 1360 and 1641, it was the name of coins worth 1 livre tournois and it remained in common parlance as a term for this amount of money. It was reintroduced (in decimal form) in 1795. It was revalued in 1960, with each new franc (NF) being worth 100 old francs. \n",
      "\n",
      "The Australian dollar (sign: $; code: AUD) is the currency of the Commonwealth of Australia, including Christmas Island, Cocos (Keeling) Islands, and Norfolk Island, as well as the independent Pacific Island states of Kiribati, Nauru and Tuvalu. It is subdivided into 100 cents. The Australian dollar is currently the sixth-most-traded currency in the world foreign exchange markets behind the US dollar, the euro, the yen, the pound sterling, and the Swiss franc, accounting in 2007 for approx. 3.3% of worldwide daily foreign-exchange turnover. \n",
      "\n"
     ]
    }
   ],
   "source": [
    "bm11=BimExt(index=inverted_index_sortpost, extension='bm11', top=5, k=1.5)\n",
    "searching(bm11)"
   ]
  },
  {
   "cell_type": "code",
   "execution_count": 27,
   "metadata": {},
   "outputs": [
    {
     "name": "stdout",
     "output_type": "stream",
     "text": [
      "Your query:  what is Franc ?\n",
      "\n",
      "Result(s): \n",
      "The currency of France before 2002 was the French Franc. The franc was abolished in 2002 and replaced by the Euro at the rate of €1 = 6.55957 francs. The subdivision of th … e franc was the centime, 1 franc = 100 centimes. The name 'centime' is also used in French for the subdivision of the Euro, €1 = 100 centimes.   France used the franc as its currency up till 2002. Confidence votes 55. The currency used in France is the Euro (symbol €) and its the subdivision is called the 'cent' (English) or 'centime' (French). The Euro replaced the French franc in 2002 at the rate of €1 = 6.55957 francs, and the franc was no longer redeemable after February 201 \n",
      "\n",
      "French currency conversion. The French Franc is no longer used as money in France, it is now the Euro. The value of the French Franc was fixed at 1 Euro = 6.55957 French Francs, or 1 French Franc = 0.1524490172374104 Euro.  \n",
      "\n",
      "The franc (₣) is the name of several currency units. The French franc was the former currency of France until the euro was adopted in 1999 (by law, 2002 de facto). The Swiss franc is a major world currency today due to the prominence of Swiss financial institution \n",
      "\n",
      "[fʁɑ̃] ; sign: F or Fr), also commonly distinguished as the French franc (FF), was a currency of France. Between 1360 and 1641, it was the name of coins worth 1 livre tournois and it remained in common parlance as a term for this amount of money. It was reintroduced (in decimal form) in 1795. It was revalued in 1960, with each new franc (NF) being worth 100 old francs. \n",
      "\n",
      "The Australian dollar (sign: $; code: AUD) is the currency of the Commonwealth of Australia, including Christmas Island, Cocos (Keeling) Islands, and Norfolk Island, as well as the independent Pacific Island states of Kiribati, Nauru and Tuvalu. It is subdivided into 100 cents. The Australian dollar is currently the sixth-most-traded currency in the world foreign exchange markets behind the US dollar, the euro, the yen, the pound sterling, and the Swiss franc, accounting in 2007 for approx. 3.3% of worldwide daily foreign-exchange turnover. \n",
      "\n"
     ]
    }
   ],
   "source": [
    "bm25=BimExt(index=inverted_index_sortpost, extension='bm25', top=5, k=1.5, b=0.8)\n",
    "searching(bm25)"
   ]
  },
  {
   "cell_type": "markdown",
   "metadata": {},
   "source": [
    "### Language model"
   ]
  },
  {
   "cell_type": "code",
   "execution_count": 28,
   "metadata": {},
   "outputs": [
    {
     "name": "stdout",
     "output_type": "stream",
     "text": [
      "Did you mean: \u001b[36meave the world\u001b[0m ?\n",
      "\n",
      "\n",
      "Your query:  Save the world ?!\n",
      "\n",
      "Result(s): \n",
      "The shorter the pushrod side of the rocker arm and the longer the valve side of the rocker arm, the higher the lift ratio of the rocker. If the length of the valve side of the rocker is 1.5 times that of the pushrod side, the lift ratio will be 1.5:1.  \n",
      "\n",
      "Remove the Transmission from the Vehicle. Place a transmission jack underneath the transmission. Raise the jack until it is supporting the weight of the transmission. Remove the bolts that connect the engine to the transmission. Remove the bolts that secure the transmission to the engine. Remove the bolts that secure the transmission to the transmission crossmember. Remove the bolts that connect the transmission crossmember to the vehicle's frame. Remove the transmission crossmember from the vehicle. Slide the transmission rearward until the front of the transmission housing disengages from the locating pins on the engine block \n",
      "\n",
      "The vertebral border of the scapula is also known as the medial border of the scapula, the  internal border of the scapula  and sometimes as the  base (of the scapula). The 3 borders of the scapula are 1  : the superior border of the scapula. 2  the medial border of the scapula (also known as the vertebral border of the scapula), and. 3  the axillary border of the scapula (also known as the lateral border of the scapula). \n",
      "\n"
     ]
    }
   ],
   "source": [
    "ql=QueryLklhd(index=inverted_index_sortpost, lang_model=unigram_model, top=3, correct_query=True)\n",
    "searching(ql)"
   ]
  },
  {
   "cell_type": "markdown",
   "metadata": {},
   "source": [
    "### Word2Vec Vector Space model"
   ]
  },
  {
   "cell_type": "code",
   "execution_count": 29,
   "metadata": {},
   "outputs": [
    {
     "name": "stderr",
     "output_type": "stream",
     "text": [
      "100%|██████████| 79176/79176 [00:09<00:00, 7935.83it/s]\n"
     ]
    },
    {
     "name": "stdout",
     "output_type": "stream",
     "text": [
      "Your query:  what is AIDS ?\n",
      "\n",
      "Result(s): \n",
      "Physical therapist assistants (PTAs) work as part of a dynamic healthcare team. Assistants help physical therapists maintain therapy facilities and monitor patient progress, while also helping patients by assisting them on difficult movements and instructing them on how to use walking aids.  \n",
      "\n",
      "Biofeedback sessions are typically done in a therapist's office, but there are computer programs that connect the biofeedback sensor to your own computer. A biofeedback therapist helps you practice relaxation exercises, which you fine-tune to control different body functions. Researchers aren't exactly sure how or why biofeedback works. They do know that biofeedback promotes relaxation, which can help relieve a number of conditions that are related to stress. During a biofeedback session, electrodes are attached to your skin. Finger sensors can also be used. These electrodes/sensors send signals to a monitor, which displays a sound, flash of light, or image that represents your heart and breathing rate, blood pressure, skin temperature, sweating, or muscle activity \n",
      "\n",
      "Uses. Famotidine is used to help reduce the amount of stomach acid produced. It aids in the treatment of stomach ulcers that are present and helps prevent ulcer formation.  \n",
      "\n",
      "The biofeedback can help motivate a person to improve the technique. Biofeedback can help a person gain more control over some of the body's functions that they don’t usually think about. Biofeedback may also help with migraine headaches, chronic pain, incontinence and high blood pressure. The idea behind biofeedback is that, by harnessing the power of your mind and becoming aware of what's going on inside your body, you may gain more control over your health. Researchers aren't exactly sure how or why biofeedback works. They do know that biofeedback promotes relaxation, which can help relieve a number of conditions that are related to stress; but there is limited research on this treatment. During a biofeedback session, electrodes are attached to your skin. \n",
      "\n",
      "It's called biofeedback, and the therapy is used to help prevent or treat conditions, including migraine headaches, chronic pain, incontinence, and high blood pressure. Researchers aren't exactly sure how or why biofeedback works. They do know that biofeedback promotes relaxation, which can help relieve a number of conditions that are related to stress. During a biofeedback session, electrodes are attached to your skin. Finger sensors can also be used. These electrodes/sensors send signals to a monitor, which displays a sound, flash of light, or image that represents your heart and breathing rate, blood pressure, skin temperature, sweating, or muscle activity \n",
      "\n"
     ]
    }
   ],
   "source": [
    "# Not clustering the documents before hand takes up to 10 seconds\n",
    "w2vvsm_np=W2Vsm(index=inverted_index_sortpost, idfs=idfs, word_embeds=w2v, doc_embeds=doc2vec, precluster=False)\n",
    "searching(w2vvsm_np)"
   ]
  },
  {
   "cell_type": "code",
   "execution_count": 30,
   "metadata": {},
   "outputs": [
    {
     "name": "stdout",
     "output_type": "stream",
     "text": [
      "Your query:  what is AIDS ?\n",
      "\n",
      "Result(s): \n",
      "Physical therapist assistants (PTAs) work as part of a dynamic healthcare team. Assistants help physical therapists maintain therapy facilities and monitor patient progress, while also helping patients by assisting them on difficult movements and instructing them on how to use walking aids.  \n",
      "\n",
      "Biofeedback sessions are typically done in a therapist's office, but there are computer programs that connect the biofeedback sensor to your own computer. A biofeedback therapist helps you practice relaxation exercises, which you fine-tune to control different body functions. Researchers aren't exactly sure how or why biofeedback works. They do know that biofeedback promotes relaxation, which can help relieve a number of conditions that are related to stress. During a biofeedback session, electrodes are attached to your skin. Finger sensors can also be used. These electrodes/sensors send signals to a monitor, which displays a sound, flash of light, or image that represents your heart and breathing rate, blood pressure, skin temperature, sweating, or muscle activity \n",
      "\n",
      "The biofeedback can help motivate a person to improve the technique. Biofeedback can help a person gain more control over some of the body's functions that they don’t usually think about. Biofeedback may also help with migraine headaches, chronic pain, incontinence and high blood pressure. The idea behind biofeedback is that, by harnessing the power of your mind and becoming aware of what's going on inside your body, you may gain more control over your health. Researchers aren't exactly sure how or why biofeedback works. They do know that biofeedback promotes relaxation, which can help relieve a number of conditions that are related to stress; but there is limited research on this treatment. During a biofeedback session, electrodes are attached to your skin. \n",
      "\n",
      "It's called biofeedback, and the therapy is used to help prevent or treat conditions, including migraine headaches, chronic pain, incontinence, and high blood pressure. Researchers aren't exactly sure how or why biofeedback works. They do know that biofeedback promotes relaxation, which can help relieve a number of conditions that are related to stress. During a biofeedback session, electrodes are attached to your skin. Finger sensors can also be used. These electrodes/sensors send signals to a monitor, which displays a sound, flash of light, or image that represents your heart and breathing rate, blood pressure, skin temperature, sweating, or muscle activity \n",
      "\n",
      "About the SHOP Talk Bulletin. SIECUS is a 35-year-old nonprofit organization, dedicated to affirming that sexuality is a natural and healthy part of life. SIECUS develops, collects, and disseminates information, promotes comprehensive education, and advocates the right of individuals to make responsible sexual choices. SIECUS has initiated a special AIDS education project. SIECUS publishes the Guidelines for Comprehensive Sexuality Education: K-12th Grade. SIECUS is working internationally to adapt the guidelines for use in other countries. \n",
      "\n"
     ]
    }
   ],
   "source": [
    "w2vvsm_p=W2Vsm(index=inverted_index_sortpost, idfs=idfs, word_embeds=w2v, doc_embeds=doc2vec, precluster=True,\n",
    "               cluster_centers=doc_kmeans.cluster_centers_, doc_cluster_labels=doc_kmeans.labels_, top_center=10)\n",
    "searching(w2vvsm_p)"
   ]
  },
  {
   "cell_type": "markdown",
   "metadata": {},
   "source": [
    "### Latent semantic indexing"
   ]
  },
  {
   "cell_type": "code",
   "execution_count": 31,
   "metadata": {},
   "outputs": [
    {
     "name": "stdout",
     "output_type": "stream",
     "text": [
      "Your query:  text message\n",
      "\n",
      "Result(s): \n",
      "Becky is generally used as a girl's name. It consists of 5 letters and 2 syllables and is pronounced Bec-ky. In the U.S. in 2014, it ranked 3095 in baby name popularity for girls with 53 occurrences. Less than 5 boys were given the name. View the Becky Name Popularity Page to see how the popularity trend for Becky has changed since 1880, or to compare the popularity of Becky to other names. Becky is a diminutive (nickname) of Rebecca. Then just follow the diagram below. Just for fun, see the name Becky in Hieroglyphics, learn about ancient Egyptian Hieroglyphics and write a Hieroglyphic message. Learn about nautical flags and see your name or message written in nautical flags, on the Becky in Nautical Flags page. \n",
      "\n",
      "Sponsorship Basics. When advertising agencies and media refer to sponsors, they are typically talking about the company or organization that pays to buy media space. Thus, the general use of sponsorship is in reference to the paid sponsor of an advertising message delivery. Corporate or event sponsorship is a more specific form of advertising. US Legal actually uses the phrase a form of advertising in its definition of corporate sponsorship. Companies sometimes sponsor charitable events or community activities to build their image as a socially responsible company. \n",
      "\n",
      "Imagery, in a literary text, is an author's use of vivid and descriptive language to add depth to his or her work. It appeals to human senses to deepen the reader's understanding of the work. Powerful forms of imagery engage all of the senses pro lenses. 1 Organic imagery or subjective imagery, pertains to personal experiences of a character's body, including emotion and the senses of hunger, thirst, fatigue, and pain. \n",
      "\n"
     ]
    }
   ],
   "source": [
    "lsi=Lsi(index=sub_inv, idfs=idfs, top=3, svd_word_doc_mat=svd_mats, dtoi=dtoi, wtoi=wtoi)\n",
    "searching(lsi)"
   ]
  },
  {
   "cell_type": "markdown",
   "metadata": {},
   "source": [
    "# Evaluation"
   ]
  },
  {
   "cell_type": "code",
   "execution_count": 32,
   "metadata": {},
   "outputs": [
    {
     "data": {
      "text/plain": [
       "['does human hair stop squirrels: {1: 1, 2: 1, 3: 2, 4: 1, 5: 1, 6: 1, 7: 1}',\n",
       " 'what are the benefits of fossil fuels: {8: 1, 9: 2, 10: 1, 11: 1, 12: 1, 13: 1, 14: 1, 15: 1, 16: 1}',\n",
       " 'what is a apothem: {17: 1, 18: 1, 19: 1, 20: 1, 21: 1, 22: 2, 23: 1, 24: 1, 25: 1}']"
      ]
     },
     "execution_count": 32,
     "metadata": {},
     "output_type": "execute_result"
    }
   ],
   "source": [
    "[f'{query}: {judgments[query]}' for pos, query in enumerate(judgments) if pos<=2]"
   ]
  },
  {
   "cell_type": "code",
   "execution_count": 55,
   "metadata": {},
   "outputs": [
    {
     "name": "stderr",
     "output_type": "stream",
     "text": [
      "100%|██████████| 101/101 [00:17<00:00,  5.90it/s]\n"
     ]
    },
    {
     "data": {
      "text/plain": [
       "0.2356435643564356"
      ]
     },
     "execution_count": 55,
     "metadata": {},
     "output_type": "execute_result"
    }
   ],
   "source": [
    "bim2=Bim(index=inverted_index_sortpost , top=3, correct_query=False)\n",
    "MRR(bim2, {query: rel for pos, (query, rel) in enumerate(judgments.items()) if pos<=100}, at_K=5)"
   ]
  },
  {
   "cell_type": "code",
   "execution_count": 53,
   "metadata": {},
   "outputs": [
    {
     "name": "stderr",
     "output_type": "stream",
     "text": [
      "100%|██████████| 101/101 [00:44<00:00,  2.27it/s]\n"
     ]
    },
    {
     "data": {
      "text/plain": [
       "0.34069621247839077"
      ]
     },
     "execution_count": 53,
     "metadata": {},
     "output_type": "execute_result"
    }
   ],
   "source": [
    "bm25_2=BimExt(index=inverted_index_sortpost, extension='bm25', k=1.5, b=0.75)\n",
    "MRR(bm25_2, {query: rel for pos, (query, rel) in enumerate(judgments.items()) if pos<=100}, at_K=10)"
   ]
  }
 ],
 "metadata": {
  "kernelspec": {
   "display_name": "Python 3 (system-wide)",
   "language": "python",
   "name": "python3"
  },
  "language_info": {
   "codemirror_mode": {
    "name": "ipython",
    "version": 3
   },
   "file_extension": ".py",
   "mimetype": "text/x-python",
   "name": "python",
   "nbconvert_exporter": "python",
   "pygments_lexer": "ipython3",
   "version": "3.7.8"
  }
 },
 "nbformat": 4,
 "nbformat_minor": 4
}
