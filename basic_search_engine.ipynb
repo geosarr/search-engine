{
 "cells": [
  {
   "cell_type": "markdown",
   "metadata": {},
   "source": [
    "This project is greatly inspired by the following article:\n",
    "\n",
    "[Building a full-text search engine in 150 lines of Python code](https://bart.degoe.de/building-a-full-text-search-engine-150-lines-of-code/)\n",
    "\n",
    "and the Information Retrieval and Web Search lectures at the University of Mannheim, Germany"
   ]
  },
  {
   "cell_type": "markdown",
   "metadata": {},
   "source": [
    "# WARNING Rewrite positional index and phrase retrieval"
   ]
  },
  {
   "cell_type": "code",
   "execution_count": 1,
   "metadata": {},
   "outputs": [],
   "source": [
    "%load_ext autoreload\n",
    "%autoreload 2"
   ]
  },
  {
   "cell_type": "code",
   "execution_count": 9,
   "metadata": {
    "tags": []
   },
   "outputs": [
    {
     "data": {
      "text/plain": [
       "99311"
      ]
     },
     "execution_count": 9,
     "metadata": {},
     "output_type": "execute_result"
    }
   ],
   "source": [
    "len(inverted_index_sortpost.index)"
   ]
  },
  {
   "cell_type": "code",
   "execution_count": 2,
   "metadata": {},
   "outputs": [
    {
     "name": "stdout",
     "output_type": "stream",
     "text": [
      "CPU times: user 1.13 s, sys: 315 ms, total: 1.45 s\n",
      "Wall time: 6.5 s\n"
     ]
    }
   ],
   "source": [
    "%%time\n",
    "import warnings\n",
    "warnings.simplefilter(action='ignore', category=RuntimeWarning)\n",
    "\n",
    "from search import bool_retrieval, phrase_retrieval, vsm, bim, bim_extension, query_likelihood\n",
    "from saveload import save_load"
   ]
  },
  {
   "cell_type": "markdown",
   "metadata": {},
   "source": [
    "# Indexing the documents collection"
   ]
  },
  {
   "cell_type": "code",
   "execution_count": 3,
   "metadata": {},
   "outputs": [
    {
     "name": "stdout",
     "output_type": "stream",
     "text": [
      ".....................Inverted Index with sorted postings.....................\n",
      "200 document(s) have been indexed\n",
      "400 document(s) have been indexed\n",
      "600 document(s) have been indexed\n",
      "800 document(s) have been indexed\n",
      "1000 document(s) have been indexed\n",
      "1200 document(s) have been indexed\n",
      "1400 document(s) have been indexed\n",
      ".....................Inverted Index with unsorted postings.....................\n",
      "200 document(s) have been indexed\n",
      "400 document(s) have been indexed\n",
      "600 document(s) have been indexed\n",
      "800 document(s) have been indexed\n",
      "1000 document(s) have been indexed\n",
      "1200 document(s) have been indexed\n",
      "1400 document(s) have been indexed\n",
      ".....................Positional Index with sorted postings.....................\n",
      "200 document(s) have been indexed\n",
      "400 document(s) have been indexed\n",
      "600 document(s) have been indexed\n",
      "800 document(s) have been indexed\n",
      "1000 document(s) have been indexed\n",
      "1200 document(s) have been indexed\n",
      "1400 document(s) have been indexed\n",
      ".....................Positional Index with unsorted postings.....................\n",
      "200 document(s) have been indexed\n",
      "400 document(s) have been indexed\n",
      "600 document(s) have been indexed\n",
      "800 document(s) have been indexed\n",
      "1000 document(s) have been indexed\n",
      "1200 document(s) have been indexed\n",
      "1400 document(s) have been indexed\n",
      ".....................Term and document frequencies.....................\n",
      ".....................Unigram.....................\n",
      ".....................Saving the data.....................\n",
      "CPU times: user 2min 26s, sys: 17 s, total: 2min 43s\n",
      "Wall time: 4min 26s\n"
     ]
    }
   ],
   "source": [
    "%%time\n",
    "inverted_index_sortpost,inverted_index_unsortpost,positional_index_sortpost,positional_index_unsortpost,term_freqs_log,\\\n",
    "term_freqs_raw, doc_freqs, unigram=save_load(save=True, save_path=\"./data\")"
   ]
  },
  {
   "cell_type": "code",
   "execution_count": 4,
   "metadata": {},
   "outputs": [
    {
     "data": {
      "text/plain": [
       "([1, 11, 12, 16, 17, 19], 5853)"
      ]
     },
     "execution_count": 4,
     "metadata": {},
     "output_type": "execute_result"
    }
   ],
   "source": [
    "inverted_index_sortpost.index[\"experiment\"][:6], len(inverted_index_sortpost.index)"
   ]
  },
  {
   "cell_type": "markdown",
   "metadata": {},
   "source": [
    "'experiment' appears in docs 1, 11, 12, 16, 17, 19"
   ]
  },
  {
   "cell_type": "markdown",
   "metadata": {},
   "source": [
    "The collection is made of 5853 preprocessed terms"
   ]
  },
  {
   "cell_type": "code",
   "execution_count": 5,
   "metadata": {},
   "outputs": [
    {
     "data": {
      "text/plain": [
       "{'ent', 'eri', 'exp', 'ime', 'men', 'nta', 'per', 'rim', 'tal', 'xpe'}"
      ]
     },
     "execution_count": 5,
     "metadata": {},
     "output_type": "execute_result"
    }
   ],
   "source": [
    "inverted_index_sortpost.t_char_index['experimental']"
   ]
  },
  {
   "cell_type": "markdown",
   "metadata": {},
   "source": [
    "'experimental' is made of the above character k-grams"
   ]
  },
  {
   "cell_type": "code",
   "execution_count": 6,
   "metadata": {},
   "outputs": [
    {
     "name": "stdout",
     "output_type": "stream",
     "text": [
      "{'determinantal', 'installations', 'experimental-failure', 'complete-compressor-stall', 'abrupt-stall', 'parietale', 'incidental', 'metallic', 'total', 'metal', 'wing-stall', 'fundamentals', 'studies-experimental', 'horizontally', 'stall', 'horizontal', 'stalled', 'noncatalytic', 'static-to-total', 'total-head', 'environmental', 'etal', 'incremental-normal-force', 'stall-naca', 'experimental', 'transcendental', 'detrimental', 'catalytically', 'wing-stalling', 'digital', 'total-angle', 'talbot', 'intercrystalline', 'convection-fundamental', 'vital', 'polycrystalline', 'destalling', 'digital-computer', 'orbital', 'stall-limit', 'stalling', 'elemental', 'bimetallic', 'fundamental', 'installation', 'frontal', 'total-tail-assembly', 'catalytic', 'metals', 'liquid-metal', 'fundamentally', 'pivotal', 'stall-flutter', 'horizontal-tail', 'accidental', 'experimentally', 'incremental', 'centripetal', 'total-pressure'} 59\n"
     ]
    }
   ],
   "source": [
    "print(inverted_index_sortpost.char_t_index[\"tal\"], len(inverted_index_sortpost.char_t_index[\"tal\"]))"
   ]
  },
  {
   "cell_type": "markdown",
   "metadata": {},
   "source": [
    "59 terms in the collection include the character 3-gram 'tal'."
   ]
  },
  {
   "cell_type": "code",
   "execution_count": 7,
   "metadata": {},
   "outputs": [
    {
     "data": {
      "text/plain": [
       "[12,\n",
       " {144: [1, [35]]},\n",
       " {268: [2, [12, 69]]},\n",
       " {640: [1, [21]]},\n",
       " {763: [1, [51]]},\n",
       " {856: [1, [23]]},\n",
       " {865: [1, [4]]},\n",
       " {962: [1, [180]]},\n",
       " {1015: [2, [35, 39]]},\n",
       " {1027: [2, [14, 18]]},\n",
       " {1028: [3, [12, 21, 68]]},\n",
       " {1097: [1, [62]]},\n",
       " {1349: [2, [66, 72]]}]"
      ]
     },
     "execution_count": 7,
     "metadata": {},
     "output_type": "execute_result"
    }
   ],
   "source": [
    "positional_index_sortpost.index[\"metal\"]"
   ]
  },
  {
   "cell_type": "markdown",
   "metadata": {},
   "source": [
    "The preprocessed term 'metal' appears 12 documents: in document 144 once at positions 35, in document 1015 twice at postions 35 and 39."
   ]
  },
  {
   "cell_type": "markdown",
   "metadata": {},
   "source": [
    "# Searching"
   ]
  },
  {
   "cell_type": "markdown",
   "metadata": {},
   "source": [
    "## Simple boolean retrieval"
   ]
  },
  {
   "cell_type": "code",
   "execution_count": 8,
   "metadata": {},
   "outputs": [
    {
     "name": "stdout",
     "output_type": "stream",
     "text": [
      "Retrieving document(s) including at least one of the query terms (in their preprocessed form) ...\n",
      "Your query does not match the documents, please try a new one\n",
      "CPU times: user 3.08 ms, sys: 0 ns, total: 3.08 ms\n",
      "Wall time: 7.76 ms\n"
     ]
    },
    {
     "data": {
      "text/plain": [
       "[]"
      ]
     },
     "execution_count": 8,
     "metadata": {},
     "output_type": "execute_result"
    }
   ],
   "source": [
    "%%time\n",
    "query='Yes we can !!!'\n",
    "bool_retrieval(inverted_index_sortpost, query)"
   ]
  },
  {
   "cell_type": "code",
   "execution_count": 9,
   "metadata": {},
   "outputs": [
    {
     "name": "stdout",
     "output_type": "stream",
     "text": [
      "Retrieving document(s) including at least one of the query terms (in their preprocessed form) ...\n",
      "Your query does not match the documents, please try a new one\n",
      "CPU times: user 2.07 ms, sys: 0 ns, total: 2.07 ms\n",
      "Wall time: 6.47 ms\n"
     ]
    },
    {
     "data": {
      "text/plain": [
       "[]"
      ]
     },
     "execution_count": 9,
     "metadata": {},
     "output_type": "execute_result"
    }
   ],
   "source": [
    "%%time\n",
    "query='Yes we can !!!'\n",
    "bool_retrieval(inverted_index_unsortpost, query)"
   ]
  },
  {
   "cell_type": "code",
   "execution_count": 10,
   "metadata": {},
   "outputs": [
    {
     "name": "stdout",
     "output_type": "stream",
     "text": [
      "Retrieving document(s) including at least one of the query terms (in their preprocessed form) ...\n",
      "CPU times: user 1.65 ms, sys: 594 µs, total: 2.25 ms\n",
      "Wall time: 6.49 ms\n"
     ]
    },
    {
     "data": {
      "text/plain": [
       "[Document(ID=77, content='a comparative analysis of the performance of long range hypervelocity vehicles .   long-range hypervelocity vehicles are studied in terms of their motion in powered flight, and their motion and aerodynamic heating in unpowered flight .  powered flight is analyzed for an idealized propulsion system which rather closely approaches present-day rocket motors . unpowered flight is characterized by a return to earth along a ballistic, skip, or glide trajectory .  only those trajectories are treated which yield the maximum range for a given velocity at the end of powered flight . aerodynamic heating is treated in a manner similar to that employed previously by the senior authors in studying ballistic missiles (naca tn ), with the exception that radiant as well as convective heat transfer is considered in connection with glide and skip vehicles .   the ballistic vehicle is found to be the least efficient of the several types studied in the sense that it generally requires the highest velocity at the end of powered flight in order to attain a given range . this disadvantage may be offset, however, by reducing convective heat transfer to the re-entry body through the artifice of increasing pressure drag in relation to friction drag - that is, by using a blunt body .  thus the kinetic energy required by the vehicle at the end of powered flight may be reduced by minimizing the mass of coolant material involved .   the glide vehicle developing lift-drag ratios in the neighborhood of and greater than  is far superior to the ballistic vehicle in ability to convert velocity into range .  it has the disadvantage of having far more heat convected to it,. however, it has the compensating advantage that this heat can in the main be radiated back to the atmosphere . consequently, the mass of coolant material may be kept relatively low .   the skip vehicle developing lift-drag ratios from about  to  is found to be superior to comparable ballistic and glide vehicles in converting velocity into range .  at lift-drag ratios below  it is found to be about equal to comparable ballistic vehicles while at lift-drag ratios')]"
      ]
     },
     "execution_count": 10,
     "metadata": {},
     "output_type": "execute_result"
    }
   ],
   "source": [
    "%%time\n",
    "query='Aerodynamics motors'\n",
    "bool_retrieval(inverted_index_sortpost, query)"
   ]
  },
  {
   "cell_type": "code",
   "execution_count": 11,
   "metadata": {},
   "outputs": [
    {
     "name": "stdout",
     "output_type": "stream",
     "text": [
      "Retrieving document(s) including all the query terms (in their preprocessed form) ...\n",
      "CPU times: user 1.4 ms, sys: 506 µs, total: 1.91 ms\n",
      "Wall time: 6.01 ms\n"
     ]
    },
    {
     "data": {
      "text/plain": [
       "[Document(ID=77, content='a comparative analysis of the performance of long range hypervelocity vehicles .   long-range hypervelocity vehicles are studied in terms of their motion in powered flight, and their motion and aerodynamic heating in unpowered flight .  powered flight is analyzed for an idealized propulsion system which rather closely approaches present-day rocket motors . unpowered flight is characterized by a return to earth along a ballistic, skip, or glide trajectory .  only those trajectories are treated which yield the maximum range for a given velocity at the end of powered flight . aerodynamic heating is treated in a manner similar to that employed previously by the senior authors in studying ballistic missiles (naca tn ), with the exception that radiant as well as convective heat transfer is considered in connection with glide and skip vehicles .   the ballistic vehicle is found to be the least efficient of the several types studied in the sense that it generally requires the highest velocity at the end of powered flight in order to attain a given range . this disadvantage may be offset, however, by reducing convective heat transfer to the re-entry body through the artifice of increasing pressure drag in relation to friction drag - that is, by using a blunt body .  thus the kinetic energy required by the vehicle at the end of powered flight may be reduced by minimizing the mass of coolant material involved .   the glide vehicle developing lift-drag ratios in the neighborhood of and greater than  is far superior to the ballistic vehicle in ability to convert velocity into range .  it has the disadvantage of having far more heat convected to it,. however, it has the compensating advantage that this heat can in the main be radiated back to the atmosphere . consequently, the mass of coolant material may be kept relatively low .   the skip vehicle developing lift-drag ratios from about  to  is found to be superior to comparable ballistic and glide vehicles in converting velocity into range .  at lift-drag ratios below  it is found to be about equal to comparable ballistic vehicles while at lift-drag ratios')]"
      ]
     },
     "execution_count": 11,
     "metadata": {},
     "output_type": "execute_result"
    }
   ],
   "source": [
    "%%time\n",
    "query='Aerodynamics motors'\n",
    "bool_retrieval(inverted_index_sortpost, query, 'AND')"
   ]
  },
  {
   "cell_type": "markdown",
   "metadata": {},
   "source": [
    "## Phrase queries retrieval"
   ]
  },
  {
   "cell_type": "code",
   "execution_count": 12,
   "metadata": {},
   "outputs": [
    {
     "name": "stdout",
     "output_type": "stream",
     "text": [
      "CPU times: user 6.18 ms, sys: 726 µs, total: 6.9 ms\n",
      "Wall time: 9.54 ms\n"
     ]
    },
    {
     "data": {
      "text/plain": [
       "[Document(ID=466, content='development of the vapour screen method of flow visualization in the ft tunnel at rae bedford.   the vapour screen method of flow visualisation in supersonic wind tunnels is outlined, and the development of a suitable technique for use in the  ft tunnel described, together with the associated optical and photographic equipment .   the results of tests to determine the humidity required to produce an optimum density of fog in the working section over the mach number range temperature discussed .  numerous vapour screen photographs of the flow over and behind delta wings are included and some comparisons made with the corresponding surface oil-flow patterns .   the process of condensation, the physical and optical properties of the resulting fog, and the formation of the vapour screen picture are all considered in some detail .   the effects of humidity on the mach number and static pressure in the working section were investigated and the results are compared with theoretical estimates at a nominal mach number of . .  it is shown that the adverse effects of condensation on the flow at high mach numbers may be alleviated by the use of liquids with a lower latent heat of evaporation than water, and some results obtained at a mach number of   the possibility of extending the vapour screen technique to transonic and subsonic speeds is also considered, and some results obtained at a mach number of . are included .')]"
      ]
     },
     "execution_count": 12,
     "metadata": {},
     "output_type": "execute_result"
    }
   ],
   "source": [
    "%%time\n",
    "#query='''transition studies and skin friction measurements'''\n",
    "query='''the effects of humidity on the mach number and static pressure in the\n",
    "working section were investigated and the results are compared with\n",
    "theoretical estimates at a nominal mach number 2.0'''\n",
    "phrase_retrieval(positional_index_sortpost, query)"
   ]
  },
  {
   "cell_type": "markdown",
   "metadata": {},
   "source": [
    "## Vector Space Model"
   ]
  },
  {
   "cell_type": "code",
   "execution_count": 13,
   "metadata": {},
   "outputs": [
    {
     "name": "stdout",
     "output_type": "stream",
     "text": [
      "CPU times: user 19.8 ms, sys: 0 ns, total: 19.8 ms\n",
      "Wall time: 19.1 ms\n"
     ]
    },
    {
     "data": {
      "text/plain": [
       "[]"
      ]
     },
     "execution_count": 13,
     "metadata": {},
     "output_type": "execute_result"
    }
   ],
   "source": [
    "%%time\n",
    "query='Bla Bla bla'\n",
    "vsm(query, positional_index_sortpost, term_freqs_log, doc_freqs, top=3)"
   ]
  },
  {
   "cell_type": "code",
   "execution_count": 14,
   "metadata": {},
   "outputs": [
    {
     "name": "stdout",
     "output_type": "stream",
     "text": [
      "CPU times: user 17 ms, sys: 4.28 ms, total: 21.3 ms\n",
      "Wall time: 20.5 ms\n"
     ]
    },
    {
     "data": {
      "text/plain": [
       "[(Document(ID=396, content=\"variational and lagrangian thermodynamics of thermal convection-fundamental shortcomings of the heat transfer coefficient .   extension of previous analyses, indicating the possibility of extending the thermodynamics of irreversible processes to systems which are not in the vicinity of an equilibrium state and for which onsager's relations are not verified .  this involves generalizations beyond the narrow field of heat transfer and to principles of wider range than those of current nonequilibrium thermodynamics .\"),\n",
       "  'score = 0.6688725638908491'),\n",
       " (Document(ID=405, content='tables of thermal properties of gases . tables of thermodynamic and transport properties of air, argon, carbon dioxide, carbon monoxide, hydrogen, nitrogen, oxygen, and steam .'),\n",
       "  'score = 0.6626044991511518'),\n",
       " (Document(ID=1011, content='free-flight measurements of the static and dynamic .   charts have been prepared relating the thermodynamic properties of air in chemical equilibrium for temperatures to , k and for pressures from  to  atmospheres .  also included are charts showing the composition of air, the isentropic exponent, and the speed of sound .  these charts are based on thermodynamic data calculated by the national bureau of standards .'),\n",
       "  'score = 0.6242666785383831')]"
      ]
     },
     "execution_count": 14,
     "metadata": {},
     "output_type": "execute_result"
    }
   ],
   "source": [
    "%%time\n",
    "query=\"Thermodynamics is useful in aerodynamics\"\n",
    "vsm(query, positional_index_sortpost, term_freqs_log, doc_freqs, top=3)"
   ]
  },
  {
   "cell_type": "code",
   "execution_count": 15,
   "metadata": {},
   "outputs": [
    {
     "data": {
      "text/plain": [
       "[(Document(ID=573, content='viscous hypersonic similitude .   an extension of classical hypersonic similitude is developed which takes into account the interaction effect of the displacement thickness of the boundary layer .  a basic result of this viscous similitude is that the total drag including frictional drag obeys the classical similarity law for the pressure drag . additional similarity conditions governing viscous effects must be imposed in this similitude .   underlying the similitude is a new hypersonic boundary-layer independence principle .  according to this principle, the principal part of a hypersonic boundary layer with given pressure and wall temperature distributions and free-stream total enthalpy is independent of the (high) external mach number distribution outside the boundary layer .   various features of viscous hypersonic similitudes are discussed .  it is found, for example, that it applies to three- dimensional boundary-layer interaction effects on flat bodies, provided the concepts of strip theory may be applied, and provided the aspect ratio is an invariant .'),\n",
       "  'score = 1.3378485355694687'),\n",
       " (Document(ID=51, content='theory of aircraft structural models subjected to aerodynamic heating and external loads .   the problem of investigating the simultaneous effects of transient aerodynamic heating and external loads on aircraft structures for the purpose of determining the ability of the structure to withstand flight to supersonic speeds is studied .  by dimensional analyses it is shown that .. constructed of the same materials as the aircraft will be thermally similar to the aircraft with respect to the flow of heat through the structure will be similar to those of the aircraft when the structural model is constructed at the same temperature as the aircraft . external loads will be similar to those of the aircraft . subjected to heating and cooling that correctly simulate the aerodynamic heating of the aircraft, except with respect to angular velocities and angular accelerations, without requiring determination of the heat flux at each point on the surface and its variation with time . acting on the aerodynamically heated structural model to those acting on the aircraft is determined for the case of zero angular velocity and zero angular acceleration, so that the structural model may be subjected to the external loads required for simultaneous simulation of stresses and deformations due to external loads .'),\n",
       "  'score = 1.2031126427688696'),\n",
       " (Document(ID=944, content='one dimensional heat conduction through the skin of a vehicle upon entering a planetary atmosphere at constant velocity and entry angle .   closed-form solutions of the one-dimensional heat-conduction equations for the flow of heat into a plate with a laminar boundary layer have been obtained for a configuration entering a planetary atmosphere with constant velocity and negative entry angle .  the atmospheric density was assumed to obey an exponential law and the temperature was assumed constant initially .  the solution is in the form of a fourier series expansion which, for most practical applications, can be approximated by retaining only one term of the expression . the solution applies to the initial part of the entry before the maximum heating conditions are encountered .'),\n",
       "  'score = 1.1422497387926367')]"
      ]
     },
     "execution_count": 15,
     "metadata": {},
     "output_type": "execute_result"
    }
   ],
   "source": [
    "query='''what similarity laws must be obeyed when constructing aeroelastic models\n",
    "of heated high speed aircraft'''\n",
    "vsm(query, positional_index_sortpost, term_freqs_log, doc_freqs, top=3)"
   ]
  },
  {
   "cell_type": "markdown",
   "metadata": {},
   "source": [
    "## Binary Independence models"
   ]
  },
  {
   "cell_type": "code",
   "execution_count": 16,
   "metadata": {},
   "outputs": [
    {
     "name": "stdout",
     "output_type": "stream",
     "text": [
      "CPU times: user 2.29 ms, sys: 828 µs, total: 3.12 ms\n",
      "Wall time: 2.85 ms\n"
     ]
    },
    {
     "data": {
      "text/plain": [
       "[(Document(ID=1314, content='production of high temperature gases in shock tubes .   this paper is intended to set forth aerodynamic and thermodynamic calculations which are useful in the production of strong shock waves .  the experimental production of strong shock waves is discussed . comparison of the experimental shock strengths with the theoretical calcualtions is made, and finally, some preliminary results of shock tube studies in high temperature gases (up to ,k) are briefly surveyed .'),\n",
       "  'score = 2.0941132169500674'),\n",
       " (Document(ID=1335, content='use of freon- as a fluid for aerodynamic testing .   the thermodynamic properties of freon- have been investigated to determine the possibilities of the use of this gas as a fluid for aerodynamic testing .  the values of velocity of sound in freon-, which are less than one-half those in air, are presented as functions of temperatures and pressure, including measurements at room temperature .  the density of freon- is about four times that of air .  changes in state of freon- may be predicted by means of the ideal gas law with an accuracy of better than  percent at pressures below freon- is shown not to condense during an adiabatic expansion from normal conditions up to a mach number of  .  the values of the ratio of specific heats for freon- are lower than that for air, and therefore an additional parameter is introduced, which must be considered when comparisons are made of aerodynamic tests using freon- with those using air .   the time lag of the vibrational heat capacity of freon- to a change in temperature has been measured and found to be of the order of  x  second at atmospheric temperature and pressure .  this time is so short that no important energy dissipations should result in most engineering applications .'),\n",
       "  'score = 2.0941132169500674'),\n",
       " (Document(ID=1347, content='approximate analysis of atmospheric entry corridors and angles .   a simple closed-form solution for the achievable corridor depths and entry angles as a function of g-load limit, entry velocity, and vehicle aerodynamics and thermodynamics is developed for two modes of vehicle operation, constant angle of attack and modulated angle of attack .   for constant angle of attack, operation at maximum negative lift coefficient on the overshoot bound, and at an angle of attack between zero and that for maximum lift-drag ratio on the undershoot bound, gives the deepest corridor .  for modulated angle of attack, operating at maximum negative lift coefficient on the overshoot bound and modulating the angle of attack from maximum positive lift coefficient to zero on the undershoot bound give the deepest corridor .  the modulated angle of attack gives corridor depths two to four times larger than the fixed angle of attack .  for both cases the corridor depth is increased by increasing maximum lift-drag ratio, increasing g limit, and decreasing entry velocity .   consideration of hot-gas radiation places a limit on the maximum angle of attack for either mode of operation .  if a maximum free-stream reynolds number limit must be placed on the vehicle to ensure a laminar boundary layer, the deep atmospheric penetrations associated with configurations with high lift-drag ratio may be ruled out .  both of these thermodynamic considerations reduce the acceptable corridor depth below the value calculated from aerodynamic considerations alone .'),\n",
       "  'score = 1.9582851379116413')]"
      ]
     },
     "execution_count": 16,
     "metadata": {},
     "output_type": "execute_result"
    }
   ],
   "source": [
    "%%time\n",
    "query=\"Thermodynamics is useful in aerodynamics\"\n",
    "bim(query, inverted_index_sortpost, top=3)"
   ]
  },
  {
   "cell_type": "code",
   "execution_count": 17,
   "metadata": {},
   "outputs": [
    {
     "name": "stdout",
     "output_type": "stream",
     "text": [
      "CPU times: user 2.88 ms, sys: 0 ns, total: 2.88 ms\n",
      "Wall time: 2.71 ms\n"
     ]
    },
    {
     "data": {
      "text/plain": [
       "[(Document(ID=1314, content='production of high temperature gases in shock tubes .   this paper is intended to set forth aerodynamic and thermodynamic calculations which are useful in the production of strong shock waves .  the experimental production of strong shock waves is discussed . comparison of the experimental shock strengths with the theoretical calcualtions is made, and finally, some preliminary results of shock tube studies in high temperature gases (up to ,k) are briefly surveyed .'),\n",
       "  'score = 2.0941132169500674'),\n",
       " (Document(ID=1335, content='use of freon- as a fluid for aerodynamic testing .   the thermodynamic properties of freon- have been investigated to determine the possibilities of the use of this gas as a fluid for aerodynamic testing .  the values of velocity of sound in freon-, which are less than one-half those in air, are presented as functions of temperatures and pressure, including measurements at room temperature .  the density of freon- is about four times that of air .  changes in state of freon- may be predicted by means of the ideal gas law with an accuracy of better than  percent at pressures below freon- is shown not to condense during an adiabatic expansion from normal conditions up to a mach number of  .  the values of the ratio of specific heats for freon- are lower than that for air, and therefore an additional parameter is introduced, which must be considered when comparisons are made of aerodynamic tests using freon- with those using air .   the time lag of the vibrational heat capacity of freon- to a change in temperature has been measured and found to be of the order of  x  second at atmospheric temperature and pressure .  this time is so short that no important energy dissipations should result in most engineering applications .'),\n",
       "  'score = 2.0941132169500674'),\n",
       " (Document(ID=1347, content='approximate analysis of atmospheric entry corridors and angles .   a simple closed-form solution for the achievable corridor depths and entry angles as a function of g-load limit, entry velocity, and vehicle aerodynamics and thermodynamics is developed for two modes of vehicle operation, constant angle of attack and modulated angle of attack .   for constant angle of attack, operation at maximum negative lift coefficient on the overshoot bound, and at an angle of attack between zero and that for maximum lift-drag ratio on the undershoot bound, gives the deepest corridor .  for modulated angle of attack, operating at maximum negative lift coefficient on the overshoot bound and modulating the angle of attack from maximum positive lift coefficient to zero on the undershoot bound give the deepest corridor .  the modulated angle of attack gives corridor depths two to four times larger than the fixed angle of attack .  for both cases the corridor depth is increased by increasing maximum lift-drag ratio, increasing g limit, and decreasing entry velocity .   consideration of hot-gas radiation places a limit on the maximum angle of attack for either mode of operation .  if a maximum free-stream reynolds number limit must be placed on the vehicle to ensure a laminar boundary layer, the deep atmospheric penetrations associated with configurations with high lift-drag ratio may be ruled out .  both of these thermodynamic considerations reduce the acceptable corridor depth below the value calculated from aerodynamic considerations alone .'),\n",
       "  'score = 1.9582851379116413')]"
      ]
     },
     "execution_count": 17,
     "metadata": {},
     "output_type": "execute_result"
    }
   ],
   "source": [
    "%%time\n",
    "bim(query, inverted_index_unsortpost, top=3)"
   ]
  },
  {
   "cell_type": "code",
   "execution_count": 18,
   "metadata": {},
   "outputs": [
    {
     "data": {
      "text/plain": [
       "[(Document(ID=573, content='viscous hypersonic similitude .   an extension of classical hypersonic similitude is developed which takes into account the interaction effect of the displacement thickness of the boundary layer .  a basic result of this viscous similitude is that the total drag including frictional drag obeys the classical similarity law for the pressure drag . additional similarity conditions governing viscous effects must be imposed in this similitude .   underlying the similitude is a new hypersonic boundary-layer independence principle .  according to this principle, the principal part of a hypersonic boundary layer with given pressure and wall temperature distributions and free-stream total enthalpy is independent of the (high) external mach number distribution outside the boundary layer .   various features of viscous hypersonic similitudes are discussed .  it is found, for example, that it applies to three- dimensional boundary-layer interaction effects on flat bodies, provided the concepts of strip theory may be applied, and provided the aspect ratio is an invariant .'),\n",
       "  'score = 5.716957356884264'),\n",
       " (Document(ID=329, content='various aerodynamic characteristics in hypersonic rarefied gas flow .   this paper considers the problem of calculating viscous aerodynamic characteristics of blunt bodies at hypersonic speeds and at sufficiently high altitudes where the appropriate mean free path becomes too large for the use of familiar boundary-layer theory but not so large that free molecule concepts apply .   results of an order-of-magnitude analysis are presented to define the regimes of rarefied gas flow and the limits of continuum theory .  based on theoretical and experimental evidence, the complete navier-stokes equations are used as a model, except /very close/ to the free molecule condition .  this model may not necessarily give the shock wave structure in detail but satisfies overall conservation laws and should give a reasonably accurate picture of all mean aerodynamic quantities .   in this /intermediate/ regime there are two fundamental classes of problems ..  a /viscous layer/ class and a /merged layer/ class, the latter corresponding to a larger degree of rarefaction . for the viscous layer class there is a thin shock wave, but the shock layer region between the shock and the body is fully viscous, although the viscous stresses and conductive heat transfer are small at the shock wave boundary .  here, the use of the navier-stokes equations with outer boundary conditions given by the hugoniot relations is justified .  for the merged layer class, the shock wave is no longer thin, and the navier-stokes equations can be used to give a solution which includes the shock structure and has free-stream conditions as outer boundary conditions .  a simpler procedure is presented for /incipient merged/ conditions where the shock may no longer be considered an infinitesimally thin discontinuity but where it has not thickened sufficiently to entail the /fully merged layer/ analysis .  in this case we approximate the shock by a discontinuity obeying conservation laws which include curvature effects, viscous stresses, and heat conduction .   for a sphere and cylinder it is shown that the navier-stokes equations can be reduced to ordinary differential equations for both the viscous and merged layer class of problems .  solutions of these equations, when used in connection with hypersonic flow problems, are in general only valid in the stagnation region .  to illustrate the viscous layer solutions, numerical calculations have been performed for a sphere and cylinder with the assumption of constant density in the shock layer, which is a useful approximation at hypersonic speeds .  to illustrate the merged layer solution, calculations have been carried out for a sphere using the incipient merged layer approximation .   results are presented for detachment distance, surface shear, and heat-transfer rate in the stagnation region of a highly cooled sphere flying at hypersonic speed .  with decreasing reynolds number, the shear and heat transfer are shown to increase above the extrapolated boundary-layer values in the viscous layer regime and then to begin falling in the incipient merged regime . as the reynolds number decreases in the incipient merged regime, the density in the shock layer increases, and the static and stagnation enthalpy behind the shock decrease .   calculations performed for an insulated sphere show that, with decreasing reynolds number in the incipient merged regime, the density in the shock layer decreases,. the total enthalpy behind the shock and at the stagnation point increase so that they are higher than the free-stream total enthalpy,. and the stagnation-point pressure behaves like the total enthalpy .   for the highly cooled cylinder in the viscous layer regime, the same quantities are presented as for the sphere .  the increase found in shear and heat transfer above extrapolated boundary-layer theory is small, in agreement with vorticity interaction theory .   a discussion is given of the behavior of available experimental data for viscous flow quantities in the intermediate regime and the behavior predicted by the results of the present calculations . qualitative agreement is indicated .'),\n",
       "  'score = 5.3337112994232925'),\n",
       " (Document(ID=486, content='similarity laws for aerothermoelastic testing .   the similarity laws for aerothermoelastic testing are presented in the range .  these are obtained by making nondimensional the appropriate governing equations of the individual external aerodynamic flow, heat conduction to the interior, and stress-deflection problems which make up the combined aerothermoelastic problem .   for the general aerothermoelastic model, where the model is placed in a high-stagnation-temperature wind tunnel, similitude is shown to be very difficult to achieve for a scale ratio other than unity .  the primary conflict occurs between the free-stream mach number reynolds number aeroelastic parameter heat conduction parameter and thermal expansion parameter .   means of dealing with this basic conflict are presented .  these include () looking at more specialized situations, such as the behavior of wing structures and of thin solid plate lifting surfaces, and panel flutter, where the aerothermoelastic similarity parameters assume less restrictive forms, () the use of /incomplete aerothermoelastic/ testing in which the pressure and/or heating rates are estimated in advance and applied artificially to the model, and () the use of /restricted purpose/ models investigating separately one or another facet of the complete aerothermoelastic problem .   some numerical examples of modeling for the general aerothermoelastic case as well as for the specialized situations mentioned in () above are given .   finally, extension of the aerothermoelastic similarity laws to higher speeds and temperatures is discussed .'),\n",
       "  'score = 4.902697349606137')]"
      ]
     },
     "execution_count": 18,
     "metadata": {},
     "output_type": "execute_result"
    }
   ],
   "source": [
    "query='''what similarity laws must be obeyed when constructing aeroelastic models of heated high speed aircraft'''\n",
    "bim(query, inverted_index_unsortpost, top=3)"
   ]
  },
  {
   "cell_type": "code",
   "execution_count": 19,
   "metadata": {},
   "outputs": [
    {
     "name": "stdout",
     "output_type": "stream",
     "text": [
      "CPU times: user 8.21 ms, sys: 0 ns, total: 8.21 ms\n",
      "Wall time: 7.48 ms\n"
     ]
    },
    {
     "data": {
      "text/plain": [
       "[(Document(ID=329, content='various aerodynamic characteristics in hypersonic rarefied gas flow .   this paper considers the problem of calculating viscous aerodynamic characteristics of blunt bodies at hypersonic speeds and at sufficiently high altitudes where the appropriate mean free path becomes too large for the use of familiar boundary-layer theory but not so large that free molecule concepts apply .   results of an order-of-magnitude analysis are presented to define the regimes of rarefied gas flow and the limits of continuum theory .  based on theoretical and experimental evidence, the complete navier-stokes equations are used as a model, except /very close/ to the free molecule condition .  this model may not necessarily give the shock wave structure in detail but satisfies overall conservation laws and should give a reasonably accurate picture of all mean aerodynamic quantities .   in this /intermediate/ regime there are two fundamental classes of problems ..  a /viscous layer/ class and a /merged layer/ class, the latter corresponding to a larger degree of rarefaction . for the viscous layer class there is a thin shock wave, but the shock layer region between the shock and the body is fully viscous, although the viscous stresses and conductive heat transfer are small at the shock wave boundary .  here, the use of the navier-stokes equations with outer boundary conditions given by the hugoniot relations is justified .  for the merged layer class, the shock wave is no longer thin, and the navier-stokes equations can be used to give a solution which includes the shock structure and has free-stream conditions as outer boundary conditions .  a simpler procedure is presented for /incipient merged/ conditions where the shock may no longer be considered an infinitesimally thin discontinuity but where it has not thickened sufficiently to entail the /fully merged layer/ analysis .  in this case we approximate the shock by a discontinuity obeying conservation laws which include curvature effects, viscous stresses, and heat conduction .   for a sphere and cylinder it is shown that the navier-stokes equations can be reduced to ordinary differential equations for both the viscous and merged layer class of problems .  solutions of these equations, when used in connection with hypersonic flow problems, are in general only valid in the stagnation region .  to illustrate the viscous layer solutions, numerical calculations have been performed for a sphere and cylinder with the assumption of constant density in the shock layer, which is a useful approximation at hypersonic speeds .  to illustrate the merged layer solution, calculations have been carried out for a sphere using the incipient merged layer approximation .   results are presented for detachment distance, surface shear, and heat-transfer rate in the stagnation region of a highly cooled sphere flying at hypersonic speed .  with decreasing reynolds number, the shear and heat transfer are shown to increase above the extrapolated boundary-layer values in the viscous layer regime and then to begin falling in the incipient merged regime . as the reynolds number decreases in the incipient merged regime, the density in the shock layer increases, and the static and stagnation enthalpy behind the shock decrease .   calculations performed for an insulated sphere show that, with decreasing reynolds number in the incipient merged regime, the density in the shock layer decreases,. the total enthalpy behind the shock and at the stagnation point increase so that they are higher than the free-stream total enthalpy,. and the stagnation-point pressure behaves like the total enthalpy .   for the highly cooled cylinder in the viscous layer regime, the same quantities are presented as for the sphere .  the increase found in shear and heat transfer above extrapolated boundary-layer theory is small, in agreement with vorticity interaction theory .   a discussion is given of the behavior of available experimental data for viscous flow quantities in the intermediate regime and the behavior predicted by the results of the present calculations . qualitative agreement is indicated .'),\n",
       "  'score = 5.841550573960063'),\n",
       " (Document(ID=573, content='viscous hypersonic similitude .   an extension of classical hypersonic similitude is developed which takes into account the interaction effect of the displacement thickness of the boundary layer .  a basic result of this viscous similitude is that the total drag including frictional drag obeys the classical similarity law for the pressure drag . additional similarity conditions governing viscous effects must be imposed in this similitude .   underlying the similitude is a new hypersonic boundary-layer independence principle .  according to this principle, the principal part of a hypersonic boundary layer with given pressure and wall temperature distributions and free-stream total enthalpy is independent of the (high) external mach number distribution outside the boundary layer .   various features of viscous hypersonic similitudes are discussed .  it is found, for example, that it applies to three- dimensional boundary-layer interaction effects on flat bodies, provided the concepts of strip theory may be applied, and provided the aspect ratio is an invariant .'),\n",
       "  'score = 5.82669808806576'),\n",
       " (Document(ID=486, content='similarity laws for aerothermoelastic testing .   the similarity laws for aerothermoelastic testing are presented in the range .  these are obtained by making nondimensional the appropriate governing equations of the individual external aerodynamic flow, heat conduction to the interior, and stress-deflection problems which make up the combined aerothermoelastic problem .   for the general aerothermoelastic model, where the model is placed in a high-stagnation-temperature wind tunnel, similitude is shown to be very difficult to achieve for a scale ratio other than unity .  the primary conflict occurs between the free-stream mach number reynolds number aeroelastic parameter heat conduction parameter and thermal expansion parameter .   means of dealing with this basic conflict are presented .  these include () looking at more specialized situations, such as the behavior of wing structures and of thin solid plate lifting surfaces, and panel flutter, where the aerothermoelastic similarity parameters assume less restrictive forms, () the use of /incomplete aerothermoelastic/ testing in which the pressure and/or heating rates are estimated in advance and applied artificially to the model, and () the use of /restricted purpose/ models investigating separately one or another facet of the complete aerothermoelastic problem .   some numerical examples of modeling for the general aerothermoelastic case as well as for the specialized situations mentioned in () above are given .   finally, extension of the aerothermoelastic similarity laws to higher speeds and temperatures is discussed .'),\n",
       "  'score = 5.671497452168317')]"
      ]
     },
     "execution_count": 19,
     "metadata": {},
     "output_type": "execute_result"
    }
   ],
   "source": [
    "%%time\n",
    "bim_extension(query, positional_index_sortpost, term_freqs_log, extension='two_poisson', top=3)"
   ]
  },
  {
   "cell_type": "code",
   "execution_count": 20,
   "metadata": {},
   "outputs": [
    {
     "name": "stdout",
     "output_type": "stream",
     "text": [
      "CPU times: user 5.07 ms, sys: 2.96 ms, total: 8.03 ms\n",
      "Wall time: 7.63 ms\n"
     ]
    },
    {
     "data": {
      "text/plain": [
       "[(Document(ID=51, content='theory of aircraft structural models subjected to aerodynamic heating and external loads .   the problem of investigating the simultaneous effects of transient aerodynamic heating and external loads on aircraft structures for the purpose of determining the ability of the structure to withstand flight to supersonic speeds is studied .  by dimensional analyses it is shown that .. constructed of the same materials as the aircraft will be thermally similar to the aircraft with respect to the flow of heat through the structure will be similar to those of the aircraft when the structural model is constructed at the same temperature as the aircraft . external loads will be similar to those of the aircraft . subjected to heating and cooling that correctly simulate the aerodynamic heating of the aircraft, except with respect to angular velocities and angular accelerations, without requiring determination of the heat flux at each point on the surface and its variation with time . acting on the aerodynamically heated structural model to those acting on the aircraft is determined for the case of zero angular velocity and zero angular acceleration, so that the structural model may be subjected to the external loads required for simultaneous simulation of stresses and deformations due to external loads .'),\n",
       "  'score = 5.823543341320496'),\n",
       " (Document(ID=573, content='viscous hypersonic similitude .   an extension of classical hypersonic similitude is developed which takes into account the interaction effect of the displacement thickness of the boundary layer .  a basic result of this viscous similitude is that the total drag including frictional drag obeys the classical similarity law for the pressure drag . additional similarity conditions governing viscous effects must be imposed in this similitude .   underlying the similitude is a new hypersonic boundary-layer independence principle .  according to this principle, the principal part of a hypersonic boundary layer with given pressure and wall temperature distributions and free-stream total enthalpy is independent of the (high) external mach number distribution outside the boundary layer .   various features of viscous hypersonic similitudes are discussed .  it is found, for example, that it applies to three- dimensional boundary-layer interaction effects on flat bodies, provided the concepts of strip theory may be applied, and provided the aspect ratio is an invariant .'),\n",
       "  'score = 5.482387862358055'),\n",
       " (Document(ID=878, content='experimental model techniques and equipment for flutter investigations . an outline is given of the uses of flutter models as an aid to the designer in the avoidance of flutter .  details are given of the different types and methods of construction that are used for flutter models and of the various test facilities that are available for high speed and low speed tests .   the procedure followed in the u.k. for flutter clearance of the full scale aircraft is described, and the value of the electronic flutter simulator in this field is discussed .'),\n",
       "  'score = 5.262046093924647')]"
      ]
     },
     "execution_count": 20,
     "metadata": {},
     "output_type": "execute_result"
    }
   ],
   "source": [
    "%%time\n",
    "bim_extension(query, positional_index_sortpost, term_freqs_log, extension='bm11', top=3)"
   ]
  },
  {
   "cell_type": "code",
   "execution_count": 21,
   "metadata": {},
   "outputs": [
    {
     "name": "stdout",
     "output_type": "stream",
     "text": [
      "CPU times: user 10.9 ms, sys: 0 ns, total: 10.9 ms\n",
      "Wall time: 10.5 ms\n"
     ]
    },
    {
     "data": {
      "text/plain": [
       "[(Document(ID=51, content='theory of aircraft structural models subjected to aerodynamic heating and external loads .   the problem of investigating the simultaneous effects of transient aerodynamic heating and external loads on aircraft structures for the purpose of determining the ability of the structure to withstand flight to supersonic speeds is studied .  by dimensional analyses it is shown that .. constructed of the same materials as the aircraft will be thermally similar to the aircraft with respect to the flow of heat through the structure will be similar to those of the aircraft when the structural model is constructed at the same temperature as the aircraft . external loads will be similar to those of the aircraft . subjected to heating and cooling that correctly simulate the aerodynamic heating of the aircraft, except with respect to angular velocities and angular accelerations, without requiring determination of the heat flux at each point on the surface and its variation with time . acting on the aerodynamically heated structural model to those acting on the aircraft is determined for the case of zero angular velocity and zero angular acceleration, so that the structural model may be subjected to the external loads required for simultaneous simulation of stresses and deformations due to external loads .'),\n",
       "  'score = 5.739721458072529'),\n",
       " (Document(ID=573, content='viscous hypersonic similitude .   an extension of classical hypersonic similitude is developed which takes into account the interaction effect of the displacement thickness of the boundary layer .  a basic result of this viscous similitude is that the total drag including frictional drag obeys the classical similarity law for the pressure drag . additional similarity conditions governing viscous effects must be imposed in this similitude .   underlying the similitude is a new hypersonic boundary-layer independence principle .  according to this principle, the principal part of a hypersonic boundary layer with given pressure and wall temperature distributions and free-stream total enthalpy is independent of the (high) external mach number distribution outside the boundary layer .   various features of viscous hypersonic similitudes are discussed .  it is found, for example, that it applies to three- dimensional boundary-layer interaction effects on flat bodies, provided the concepts of strip theory may be applied, and provided the aspect ratio is an invariant .'),\n",
       "  'score = 5.56458838967064'),\n",
       " (Document(ID=878, content='experimental model techniques and equipment for flutter investigations . an outline is given of the uses of flutter models as an aid to the designer in the avoidance of flutter .  details are given of the different types and methods of construction that are used for flutter models and of the various test facilities that are available for high speed and low speed tests .   the procedure followed in the u.k. for flutter clearance of the full scale aircraft is described, and the value of the electronic flutter simulator in this field is discussed .'),\n",
       "  'score = 4.918046862496778')]"
      ]
     },
     "execution_count": 21,
     "metadata": {},
     "output_type": "execute_result"
    }
   ],
   "source": [
    "%%time\n",
    "bim_extension(query, positional_index_sortpost, term_freqs_log, extension='bm25', top=3)"
   ]
  },
  {
   "cell_type": "markdown",
   "metadata": {},
   "source": [
    "## Language model"
   ]
  },
  {
   "cell_type": "code",
   "execution_count": 22,
   "metadata": {},
   "outputs": [
    {
     "name": "stdout",
     "output_type": "stream",
     "text": [
      "CPU times: user 2.28 ms, sys: 870 µs, total: 3.15 ms\n",
      "Wall time: 3.05 ms\n"
     ]
    },
    {
     "data": {
      "text/plain": [
       "[(Document(ID=5, content='one-dimensional transient heat conduction into a double-layer slab subjected to a linear heat input for a small time internal .   analytic solutions are presented for the transient heat conduction in composite slabs exposed at one surface to a triangular heat rate .  this type of heating rate may occur, for example, during aerodynamic heating .'),\n",
       "  'score = 0.17142857142857143'),\n",
       " (Document(ID=158, content='temperature charts for induction and constant temperature heating .   charts are presented for determining complete temperature historics in spheres, cylinders, and plates .  it is shown that for values of the dimensionless time ratio x greater than . the heating equations reduce to such a simple form that for each shape two charts which give temperatures at any position within the heated or cooled bodies can be plotted .  it is also shown that the usual simple heating and cooling charts can also be used for the determination of temperatures and heating times in bodies heated by a constant rate of heat generation at the surface (induction heating) .  finally, a two dimensional chart is given for finding heating times in short cylinders, thereby eliminating the trial-and-error solution that is necessary when heating times are found from the present one-dimensional charts .'),\n",
       "  'score = 0.12345679012345678'),\n",
       " (Document(ID=509, content='a graphical approximation for temperatures and sublimation rates at surfaces subjected to small net and large gross heat transfer rates . considers a material, acted upon by heat of conduction, which changes its state by sublimation at the heated surface . the derived method is most suitable under conditions of severe heating such as space vehicle re-entry .'),\n",
       "  'score = 0.11764705882352941')]"
      ]
     },
     "execution_count": 22,
     "metadata": {},
     "output_type": "execute_result"
    }
   ],
   "source": [
    "%%time\n",
    "query_likelihood(query, inverted_index_sortpost, unigram, top=3)"
   ]
  }
 ],
 "metadata": {
  "kernelspec": {
   "display_name": "Python 3 (system-wide)",
   "language": "python",
   "name": "python3"
  },
  "language_info": {
   "codemirror_mode": {
    "name": "ipython",
    "version": 3
   },
   "file_extension": ".py",
   "mimetype": "text/x-python",
   "name": "python",
   "nbconvert_exporter": "python",
   "pygments_lexer": "ipython3",
   "version": "3.8.10"
  }
 },
 "nbformat": 4,
 "nbformat_minor": 4
}
