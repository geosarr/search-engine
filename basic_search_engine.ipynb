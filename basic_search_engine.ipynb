{
 "cells": [
  {
   "cell_type": "markdown",
   "metadata": {},
   "source": [
    "This project is greatly inspired by the following article:\n",
    "\n",
    "[Building a full-text search engine in 150 lines of Python code](https://bart.degoe.de/building-a-full-text-search-engine-150-lines-of-code/)\n",
    "\n",
    "and the Information Retrieval and Web Search lectures at the University of Mannheim, Germany"
   ]
  },
  {
   "cell_type": "code",
   "execution_count": 1,
   "metadata": {},
   "outputs": [],
   "source": [
    "%load_ext autoreload\n",
    "%autoreload 2"
   ]
  },
  {
   "cell_type": "code",
   "execution_count": 2,
   "metadata": {},
   "outputs": [],
   "source": [
    "# ! pip install datasets\n",
    "# ! pip install nltk\n",
    "# ! pip install tqdm"
   ]
  },
  {
   "cell_type": "code",
   "execution_count": 3,
   "metadata": {},
   "outputs": [
    {
     "name": "stderr",
     "output_type": "stream",
     "text": [
      "[nltk_data] Downloading package words to\n",
      "[nltk_data]     /home/georges_sarr/nltk_data...\n",
      "[nltk_data]   Package words is already up-to-date!\n",
      "[nltk_data] Downloading package stopwords to\n",
      "[nltk_data]     /home/georges_sarr/nltk_data...\n",
      "[nltk_data]   Package stopwords is already up-to-date!\n",
      "[nltk_data] Downloading package stopwords to\n",
      "[nltk_data]     /home/georges_sarr/nltk_data...\n",
      "[nltk_data]   Package stopwords is already up-to-date!\n"
     ]
    },
    {
     "name": "stdout",
     "output_type": "stream",
     "text": [
      "CPU times: user 6.5 s, sys: 4.31 s, total: 10.8 s\n",
      "Wall time: 3.69 s\n"
     ]
    }
   ],
   "source": [
    "%%time\n",
    "import warnings\n",
    "warnings.simplefilter(action='ignore', category=RuntimeWarning)\n",
    "\n",
    "from search import bool_retrieval, phrase_retrieval, vsm, bim, bim_extension, query_likelihood, tf, idf, unigram_model, searching\n",
    "from saveload import save_load\n",
    "import matplotlib.pyplot as plt\n",
    "import seaborn as sb\n",
    "import numpy as np\n",
    "import pandas as pd"
   ]
  },
  {
   "cell_type": "markdown",
   "metadata": {},
   "source": [
    "# Indexing the documents collection"
   ]
  },
  {
   "cell_type": "code",
   "execution_count": 4,
   "metadata": {},
   "outputs": [
    {
     "name": "stdout",
     "output_type": "stream",
     "text": [
      ".....................Inverted Index with sorted postings.....................\n"
     ]
    },
    {
     "name": "stderr",
     "output_type": "stream",
     "text": [
      "Reusing dataset ms_marco (/home/georges_sarr/.cache/huggingface/datasets/ms_marco/v1.1/1.1.0/b6a62715fa5219aea5275dd3556601004cd63945cb63e36e022f77bb3cbbca84)\n",
      "100%|██████████| 9650/9650 [00:35<00:00, 272.82it/s]\n"
     ]
    },
    {
     "name": "stdout",
     "output_type": "stream",
     "text": [
      "CPU times: user 37.2 s, sys: 1.04 s, total: 38.2 s\n",
      "Wall time: 39.3 s\n"
     ]
    }
   ],
   "source": [
    "%%time\n",
    "# inverted_index_sortpost,inverted_index_unsortpost,positional_index_sortpost,positional_index_unsortpost,term_freqs_log,\\\n",
    "# term_freqs_raw, doc_freqs, unigram=save_load(dataset=\"ms_marco\", save=True, save_path=\"./data\")\n",
    "inverted_index_sortpost=save_load(dataset=\"ms_marco\", save=True, save_path=\"./data\")"
   ]
  },
  {
   "cell_type": "markdown",
   "metadata": {},
   "source": [
    "# Statistics"
   ]
  },
  {
   "cell_type": "code",
   "execution_count": 5,
   "metadata": {},
   "outputs": [
    {
     "name": "stdout",
     "output_type": "stream",
     "text": [
      "The vocabulary is made of 135109 words\n"
     ]
    }
   ],
   "source": [
    "print(f\"The vocabulary is made of {len(inverted_index_sortpost.index)} words\")"
   ]
  },
  {
   "cell_type": "markdown",
   "metadata": {},
   "source": [
    "### Document lengths"
   ]
  },
  {
   "cell_type": "code",
   "execution_count": 6,
   "metadata": {},
   "outputs": [
    {
     "name": "stdout",
     "output_type": "stream",
     "text": [
      "There are 79176 documents\n"
     ]
    },
    {
     "data": {
      "text/plain": [
       "<AxesSubplot:ylabel='Count'>"
      ]
     },
     "execution_count": 6,
     "metadata": {},
     "output_type": "execute_result"
    },
    {
     "data": {
      "image/png": "[encoded data removed]",
      "text/plain": [
       "<Figure size 432x288 with 1 Axes>"
      ]
     },
     "metadata": {
      "needs_background": "light"
     },
     "output_type": "display_data"
    }
   ],
   "source": [
    "print(f\"There are {len(inverted_index_sortpost.documents)} documents\")\n",
    "doc_lenghts=[len(inverted_index_sortpost.raw_freq[ID]) for ID in inverted_index_sortpost.documents]\n",
    "sb.histplot(doc_lenghts)"
   ]
  },
  {
   "cell_type": "code",
   "execution_count": 7,
   "metadata": {},
   "outputs": [
    {
     "data": {
      "text/html": [
       "<div>\n",
       "<style scoped>\n",
       "    .dataframe tbody tr th:only-of-type {\n",
       "        vertical-align: middle;\n",
       "    }\n",
       "\n",
       "    .dataframe tbody tr th {\n",
       "        vertical-align: top;\n",
       "    }\n",
       "\n",
       "    .dataframe thead th {\n",
       "        text-align: right;\n",
       "    }\n",
       "</style>\n",
       "<table border=\"1\" class=\"dataframe\">\n",
       "  <thead>\n",
       "    <tr style=\"text-align: right;\">\n",
       "      <th></th>\n",
       "      <th>doc_lengths</th>\n",
       "    </tr>\n",
       "  </thead>\n",
       "  <tbody>\n",
       "    <tr>\n",
       "      <th>count</th>\n",
       "      <td>79176.0</td>\n",
       "    </tr>\n",
       "    <tr>\n",
       "      <th>mean</th>\n",
       "      <td>49.0</td>\n",
       "    </tr>\n",
       "    <tr>\n",
       "      <th>std</th>\n",
       "      <td>15.0</td>\n",
       "    </tr>\n",
       "    <tr>\n",
       "      <th>min</th>\n",
       "      <td>4.0</td>\n",
       "    </tr>\n",
       "    <tr>\n",
       "      <th>25%</th>\n",
       "      <td>37.0</td>\n",
       "    </tr>\n",
       "    <tr>\n",
       "      <th>50%</th>\n",
       "      <td>48.0</td>\n",
       "    </tr>\n",
       "    <tr>\n",
       "      <th>75%</th>\n",
       "      <td>60.0</td>\n",
       "    </tr>\n",
       "    <tr>\n",
       "      <th>max</th>\n",
       "      <td>125.0</td>\n",
       "    </tr>\n",
       "  </tbody>\n",
       "</table>\n",
       "</div>"
      ],
      "text/plain": [
       "       doc_lengths\n",
       "count      79176.0\n",
       "mean          49.0\n",
       "std           15.0\n",
       "min            4.0\n",
       "25%           37.0\n",
       "50%           48.0\n",
       "75%           60.0\n",
       "max          125.0"
      ]
     },
     "execution_count": 7,
     "metadata": {},
     "output_type": "execute_result"
    }
   ],
   "source": [
    "round(pd.DataFrame({\"doc_lengths\": doc_lenghts}).describe(),0)"
   ]
  },
  {
   "cell_type": "markdown",
   "metadata": {},
   "source": [
    "### Word raw frequencies"
   ]
  },
  {
   "cell_type": "code",
   "execution_count": 8,
   "metadata": {},
   "outputs": [
    {
     "data": {
      "text/html": [
       "<div>\n",
       "<style scoped>\n",
       "    .dataframe tbody tr th:only-of-type {\n",
       "        vertical-align: middle;\n",
       "    }\n",
       "\n",
       "    .dataframe tbody tr th {\n",
       "        vertical-align: top;\n",
       "    }\n",
       "\n",
       "    .dataframe thead th {\n",
       "        text-align: right;\n",
       "    }\n",
       "</style>\n",
       "<table border=\"1\" class=\"dataframe\">\n",
       "  <thead>\n",
       "    <tr style=\"text-align: right;\">\n",
       "      <th></th>\n",
       "      <th>avg_raw_freqs</th>\n",
       "    </tr>\n",
       "  </thead>\n",
       "  <tbody>\n",
       "    <tr>\n",
       "      <th>count</th>\n",
       "      <td>135109.0</td>\n",
       "    </tr>\n",
       "    <tr>\n",
       "      <th>mean</th>\n",
       "      <td>1.0</td>\n",
       "    </tr>\n",
       "    <tr>\n",
       "      <th>std</th>\n",
       "      <td>0.0</td>\n",
       "    </tr>\n",
       "    <tr>\n",
       "      <th>min</th>\n",
       "      <td>1.0</td>\n",
       "    </tr>\n",
       "    <tr>\n",
       "      <th>25%</th>\n",
       "      <td>1.0</td>\n",
       "    </tr>\n",
       "    <tr>\n",
       "      <th>50%</th>\n",
       "      <td>1.0</td>\n",
       "    </tr>\n",
       "    <tr>\n",
       "      <th>75%</th>\n",
       "      <td>1.0</td>\n",
       "    </tr>\n",
       "    <tr>\n",
       "      <th>max</th>\n",
       "      <td>24.0</td>\n",
       "    </tr>\n",
       "  </tbody>\n",
       "</table>\n",
       "</div>"
      ],
      "text/plain": [
       "       avg_raw_freqs\n",
       "count       135109.0\n",
       "mean             1.0\n",
       "std              0.0\n",
       "min              1.0\n",
       "25%              1.0\n",
       "50%              1.0\n",
       "75%              1.0\n",
       "max             24.0"
      ]
     },
     "execution_count": 8,
     "metadata": {},
     "output_type": "execute_result"
    }
   ],
   "source": [
    "# average number of time each token appears in a document\n",
    "avg_raw_freqs = [np.mean([inverted_index_sortpost.raw_freq[ID][term] for ID in inverted_index_sortpost.index[term]]) for term in inverted_index_sortpost.index]\n",
    "round(pd.DataFrame({\"avg_raw_freqs\":avg_raw_freqs}).describe(),0)"
   ]
  },
  {
   "cell_type": "markdown",
   "metadata": {},
   "source": [
    "Most of the terms appear just once in a document."
   ]
  },
  {
   "cell_type": "markdown",
   "metadata": {},
   "source": [
    "### Document frequencies"
   ]
  },
  {
   "cell_type": "code",
   "execution_count": 9,
   "metadata": {},
   "outputs": [
    {
     "name": "stdout",
     "output_type": "stream",
     "text": [
      "CPU times: user 93.5 ms, sys: 138 µs, total: 93.7 ms\n",
      "Wall time: 93 ms\n"
     ]
    },
    {
     "data": {
      "text/html": [
       "<div>\n",
       "<style scoped>\n",
       "    .dataframe tbody tr th:only-of-type {\n",
       "        vertical-align: middle;\n",
       "    }\n",
       "\n",
       "    .dataframe tbody tr th {\n",
       "        vertical-align: top;\n",
       "    }\n",
       "\n",
       "    .dataframe thead th {\n",
       "        text-align: right;\n",
       "    }\n",
       "</style>\n",
       "<table border=\"1\" class=\"dataframe\">\n",
       "  <thead>\n",
       "    <tr style=\"text-align: right;\">\n",
       "      <th></th>\n",
       "      <th>doc_freqs</th>\n",
       "    </tr>\n",
       "  </thead>\n",
       "  <tbody>\n",
       "    <tr>\n",
       "      <th>count</th>\n",
       "      <td>135109.0</td>\n",
       "    </tr>\n",
       "    <tr>\n",
       "      <th>mean</th>\n",
       "      <td>28.0</td>\n",
       "    </tr>\n",
       "    <tr>\n",
       "      <th>std</th>\n",
       "      <td>565.0</td>\n",
       "    </tr>\n",
       "    <tr>\n",
       "      <th>min</th>\n",
       "      <td>1.0</td>\n",
       "    </tr>\n",
       "    <tr>\n",
       "      <th>25%</th>\n",
       "      <td>1.0</td>\n",
       "    </tr>\n",
       "    <tr>\n",
       "      <th>50%</th>\n",
       "      <td>2.0</td>\n",
       "    </tr>\n",
       "    <tr>\n",
       "      <th>75%</th>\n",
       "      <td>4.0</td>\n",
       "    </tr>\n",
       "    <tr>\n",
       "      <th>max</th>\n",
       "      <td>73633.0</td>\n",
       "    </tr>\n",
       "  </tbody>\n",
       "</table>\n",
       "</div>"
      ],
      "text/plain": [
       "       doc_freqs\n",
       "count   135109.0\n",
       "mean        28.0\n",
       "std        565.0\n",
       "min          1.0\n",
       "25%          1.0\n",
       "50%          2.0\n",
       "75%          4.0\n",
       "max      73633.0"
      ]
     },
     "execution_count": 9,
     "metadata": {},
     "output_type": "execute_result"
    }
   ],
   "source": [
    "%%time \n",
    "doc_freqs=[len(inverted_index_sortpost.index[token]) for token in inverted_index_sortpost.index]\n",
    "round(pd.DataFrame({\"doc_freqs\": doc_freqs}).describe(),0)"
   ]
  },
  {
   "cell_type": "markdown",
   "metadata": {},
   "source": [
    "A term appears on average in 28 $\\pm$ 565 documents, 75% of the terms appear in less than 4 documents (a lot of rare terms, weird ??). Lets try to visualize why"
   ]
  },
  {
   "cell_type": "code",
   "execution_count": 10,
   "metadata": {},
   "outputs": [
    {
     "name": "stdout",
     "output_type": "stream",
     "text": [
      "stink\n",
      "npr\n",
      "deters\n",
      "contributory\n",
      "fuels-oil\n",
      "nonrenewable\n",
      "coal-take\n",
      "circumscribes\n",
      "4cm\n",
      "polygons-properties\n",
      "incircle\n",
      "congruent\n",
      "mathworld\n",
      "weisstein\n",
      "--a\n",
      "sagitta\n",
      "inradius\n",
      "hypotenuse\n"
     ]
    }
   ],
   "source": [
    "for pos , term in enumerate(inverted_index_sortpost.index) : \n",
    "    if pos<=500 and len(inverted_index_sortpost.index[term])<=4: print(term) "
   ]
  },
  {
   "cell_type": "markdown",
   "metadata": {},
   "source": [
    "It looks plausible when we look at the above sequence of words (they are rare indeed)"
   ]
  },
  {
   "cell_type": "code",
   "execution_count": 11,
   "metadata": {},
   "outputs": [],
   "source": [
    "# tfreqs, idfs, unigram=tf(inverted_index_sortpost), idf(inverted_index_sortpost), unigram_model(inverted_index_sortpost)\n",
    "tfreqs, idfs =tf(inverted_index_sortpost), idf(inverted_index_sortpost)"
   ]
  },
  {
   "cell_type": "markdown",
   "metadata": {},
   "source": [
    "# Searching"
   ]
  },
  {
   "cell_type": "markdown",
   "metadata": {},
   "source": [
    "## Simple boolean retrieval"
   ]
  },
  {
   "cell_type": "code",
   "execution_count": 13,
   "metadata": {},
   "outputs": [
    {
     "name": "stdout",
     "output_type": "stream",
     "text": [
      "Document(ID=202, content='The most common causes behind an inflamed pancreas are prolonged alcohol abuse and gallstones. Some hereditary disorders can cause pancreatitis, as can certain medications and viruses. When pancreatitis is caused by medication and viruses, it is usually an acute attack and rarely long-lived.') \n",
      "\n",
      "Document(ID=418, content='Plutonium is a member of the actinide group in the periodic table. Plutonium atoms have 94 electrons and 94 protons with 2 valence electrons in the outer shell. There are 150 neutrons in the most abundant isotope. Plutonium is used in both nuclear reactors and nuclear weapons. It was used to create the second nuclear weapon deployed during World War II which was the Fat Man nuclear bomb dropped on Nagasaki, Japan. Plutonium has also been used as a power and heat source for spacecraft.') \n",
      "\n",
      "Document(ID=459, content='Fox News figures are using a possible al Qaeda plot to falsely claim that President Obama declared the war on terror over. The State Department has closed embassies and consulates in the Middle East and Africa in response to an intercepted communication between al Qaeda leaders about a potential terror attack. During a segment on The Five about the threat, Fox producer Jesse Watters stated that in the big speech he gave three months ago, Obama said, technically the war on terror is over..') \n",
      "\n"
     ]
    }
   ],
   "source": [
    "searching(index=inverted_index_sortpost, modl='bool', retrieve_max=3)"
   ]
  },
  {
   "cell_type": "markdown",
   "metadata": {},
   "source": [
    "## Phrase queries retrieval PENDING( POSITIONAL INDEXING TAKES TIME TO RUN DUE TO PREPROCESSING)"
   ]
  },
  {
   "cell_type": "code",
   "execution_count": null,
   "metadata": {},
   "outputs": [],
   "source": [
    "# %%time\n",
    "# query='''the effects of humidity on the mach number and static pressure in the\n",
    "# working section were investigated and the results are compared with\n",
    "# theoretical estimates at a nominal mach number 2.0'''\n",
    "# phrase_retrieval(positional_index_sortpost, query)"
   ]
  },
  {
   "cell_type": "markdown",
   "metadata": {},
   "source": [
    "## Vector Space Model"
   ]
  },
  {
   "cell_type": "code",
   "execution_count": 14,
   "metadata": {},
   "outputs": [
    {
     "name": "stdout",
     "output_type": "stream",
     "text": [
      "(Document(ID=68411, content='Heat is also known as Energy. Heat can be transferred between objects by radiation, conduction and convection. Temperature is used as a measure of the internal energy or enthalpy, that is the level of elementary motion giving rise to heat transfer. Heat can only be transferred between objects, or areas within an object, with different temperatures (as given by the zeroth law of thermodynamics).'), 'score = 7.821683854082291') \n",
      "\n",
      "(Document(ID=68417, content='Therefore, to change the energy of a system, energy must be transferred to or from the system. Heat and work are the only two mechanisms by which energy can be transferred to or from a control mass. Heat is the transfer of energy caused by the temperature difference. Temperature is used as a measure of the internal energy or enthalpy, that is the level of elementary motion giving rise to heat transfer. Heat can only be transferred between objects, or areas within an object, with different temperatures (as given by the zeroth law of thermodynamics).'), 'score = 7.65056466844543') \n",
      "\n",
      "(Document(ID=1380, content='Useful energy transfer is when the energy is transferred into something that is used for a specific application. For example, boiling a water to make a cup of coffee, in this … case the heat is transferred into something that will be helpful for making the coffee.'), 'score = 3.383905448335409') \n",
      "\n"
     ]
    }
   ],
   "source": [
    "searching(inverted_index_sortpost, tfreqs, idfs, modl='tf_idf', retrieve_max=3)"
   ]
  },
  {
   "cell_type": "markdown",
   "metadata": {},
   "source": [
    "## Binary Independence models"
   ]
  },
  {
   "cell_type": "code",
   "execution_count": 16,
   "metadata": {},
   "outputs": [
    {
     "name": "stdout",
     "output_type": "stream",
     "text": [
      "(Document(ID=19, content=\"Apothem of a Regular Polygon. Definition: A line segment from the center of a regular polygon to the midpoint of a side. Try this Adjust the polygon below by dragging any orange dot, or alter the number of sides. Note the behavior of the apothem line shown in blue. The word apothem can refer to the line itself, or the length of that line. So you can correctly say 'draw the apothem' and 'the apothem is 4cm'. Each formula below shows how to find the length of the apothem of a regular polygon. Use the formula that uses the facts you are given to start.\"), 'score = 4.120442306873306') \n",
      "\n",
      "(Document(ID=21, content=\"The apothem is also the radius of the incircle of the polygon. For a polygon of n sides, there are n possible apothems, all the same length of course. The word apothem can refer to the line itself, or the length of that line. So you can correctly say 'draw the apothem' and 'the apothem is 4cm'. Each formula below shows how to find the length of the apothem of a regular polygon. Use the formula that uses the facts you are given to start.\"), 'score = 4.120442306873306') \n",
      "\n",
      "(Document(ID=8703, content='The human spleen is located in the upper left part of the abdomen, just below the diaphragm and behind the stomach. It is a small organ, not larger than the size of a fist. The average human spleen is about 12 cm in length, 7cm in height, 4cm thick and it weighs 150 gm approximately. Function of the Spleen. Spleen, a small, purple colored organ placed in the upper left part of the abdomen, has several important functions in human body. Basically, spleen functions as a part of the immune system and as a filter and reservoir of blood. Find out more information on function of the spleen.'), 'score = 4.120442306873306') \n",
      "\n"
     ]
    }
   ],
   "source": [
    "searching(inverted_index_sortpost, tfreqs, idfs, modl='bim', retrieve_max=3)"
   ]
  },
  {
   "cell_type": "code",
   "execution_count": null,
   "metadata": {},
   "outputs": [],
   "source": [
    "%%time\n",
    "bim_extension(query, positional_index_sortpost, term_freqs_log, extension='two_poisson', top=3)"
   ]
  },
  {
   "cell_type": "markdown",
   "metadata": {},
   "source": [
    "## Language model"
   ]
  },
  {
   "cell_type": "code",
   "execution_count": 22,
   "metadata": {},
   "outputs": [
    {
     "name": "stdout",
     "output_type": "stream",
     "text": [
      "CPU times: user 2.28 ms, sys: 870 µs, total: 3.15 ms\n",
      "Wall time: 3.05 ms\n"
     ]
    },
    {
     "data": {
      "text/plain": [
       "[(Document(ID=5, content='one-dimensional transient heat conduction into a double-layer slab subjected to a linear heat input for a small time internal .   analytic solutions are presented for the transient heat conduction in composite slabs exposed at one surface to a triangular heat rate .  this type of heating rate may occur, for example, during aerodynamic heating .'),\n",
       "  'score = 0.17142857142857143'),\n",
       " (Document(ID=158, content='temperature charts for induction and constant temperature heating .   charts are presented for determining complete temperature historics in spheres, cylinders, and plates .  it is shown that for values of the dimensionless time ratio x greater than . the heating equations reduce to such a simple form that for each shape two charts which give temperatures at any position within the heated or cooled bodies can be plotted .  it is also shown that the usual simple heating and cooling charts can also be used for the determination of temperatures and heating times in bodies heated by a constant rate of heat generation at the surface (induction heating) .  finally, a two dimensional chart is given for finding heating times in short cylinders, thereby eliminating the trial-and-error solution that is necessary when heating times are found from the present one-dimensional charts .'),\n",
       "  'score = 0.12345679012345678'),\n",
       " (Document(ID=509, content='a graphical approximation for temperatures and sublimation rates at surfaces subjected to small net and large gross heat transfer rates . considers a material, acted upon by heat of conduction, which changes its state by sublimation at the heated surface . the derived method is most suitable under conditions of severe heating such as space vehicle re-entry .'),\n",
       "  'score = 0.11764705882352941')]"
      ]
     },
     "execution_count": 22,
     "metadata": {},
     "output_type": "execute_result"
    }
   ],
   "source": [
    "%%time\n",
    "query_likelihood(query, inverted_index_sortpost, unigram, top=3)"
   ]
  }
 ],
 "metadata": {
  "kernelspec": {
   "display_name": "Python 3 (system-wide)",
   "language": "python",
   "name": "python3"
  },
  "language_info": {
   "codemirror_mode": {
    "name": "ipython",
    "version": 3
   },
   "file_extension": ".py",
   "mimetype": "text/x-python",
   "name": "python",
   "nbconvert_exporter": "python",
   "pygments_lexer": "ipython3",
   "version": "3.7.8"
  }
 },
 "nbformat": 4,
 "nbformat_minor": 4
}
