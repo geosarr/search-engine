{
 "cells": [
  {
   "cell_type": "markdown",
   "metadata": {},
   "source": [
    "This project is greatly inspired by the following article:\n",
    "\n",
    "[Building a full-text search engine in 150 lines of Python code](https://bart.degoe.de/building-a-full-text-search-engine-150-lines-of-code/)\n",
    "\n",
    "and the Information Retrieval and Web Search lectures at the University of Mannheim, Germany"
   ]
  },
  {
   "cell_type": "code",
   "execution_count": 1,
   "metadata": {},
   "outputs": [],
   "source": [
    "%load_ext autoreload\n",
    "%autoreload 2"
   ]
  },
  {
   "cell_type": "code",
   "execution_count": 2,
   "metadata": {},
   "outputs": [],
   "source": [
    "# ! pip install datasets\n",
    "# ! pip install nltk\n",
    "# ! pip install tqdm"
   ]
  },
  {
   "cell_type": "code",
   "execution_count": 3,
   "metadata": {},
   "outputs": [
    {
     "name": "stderr",
     "output_type": "stream",
     "text": [
      "[nltk_data] Downloading package words to\n",
      "[nltk_data]     /home/georges_sarr/nltk_data...\n",
      "[nltk_data]   Package words is already up-to-date!\n",
      "[nltk_data] Downloading package stopwords to\n",
      "[nltk_data]     /home/georges_sarr/nltk_data...\n",
      "[nltk_data]   Package stopwords is already up-to-date!\n",
      "[nltk_data] Downloading package stopwords to\n",
      "[nltk_data]     /home/georges_sarr/nltk_data...\n",
      "[nltk_data]   Package stopwords is already up-to-date!\n"
     ]
    },
    {
     "name": "stdout",
     "output_type": "stream",
     "text": [
      "CPU times: user 6.79 s, sys: 4.35 s, total: 11.1 s\n",
      "Wall time: 3.96 s\n"
     ]
    }
   ],
   "source": [
    "%%time\n",
    "import warnings\n",
    "warnings.simplefilter(action='ignore', category=RuntimeWarning)\n",
    "\n",
    "from search import bool_rtrvl, phrase_rtrvl, vsm, bim, bim_ext, query_lklh, tf, idf, unigram, searching\n",
    "from saveload import save_load\n",
    "import matplotlib.pyplot as plt\n",
    "import seaborn as sb\n",
    "import numpy as np\n",
    "import pandas as pd"
   ]
  },
  {
   "cell_type": "markdown",
   "metadata": {},
   "source": [
    "# Indexing the documents collection"
   ]
  },
  {
   "cell_type": "code",
   "execution_count": 4,
   "metadata": {},
   "outputs": [
    {
     "name": "stdout",
     "output_type": "stream",
     "text": [
      ".....................Inverted Index with sorted postings.....................\n"
     ]
    },
    {
     "name": "stderr",
     "output_type": "stream",
     "text": [
      "Reusing dataset ms_marco (/home/georges_sarr/.cache/huggingface/datasets/ms_marco/v1.1/1.1.0/b6a62715fa5219aea5275dd3556601004cd63945cb63e36e022f77bb3cbbca84)\n",
      "100%|██████████| 9650/9650 [00:39<00:00, 243.20it/s]\n"
     ]
    },
    {
     "name": "stdout",
     "output_type": "stream",
     "text": [
      "CPU times: user 41.9 s, sys: 1.01 s, total: 42.9 s\n",
      "Wall time: 43.6 s\n"
     ]
    }
   ],
   "source": [
    "%%time\n",
    "# inverted_index_sortpost,inverted_index_unsortpost,positional_index_sortpost,positional_index_unsortpost,term_freqs_log,\\\n",
    "# term_freqs_raw, doc_freqs, unigram=save_load(dataset=\"ms_marco\", save=True, save_path=\"./data\")\n",
    "inverted_index_sortpost=save_load(dataset=\"ms_marco\", save=True, save_path=\"./data\")"
   ]
  },
  {
   "cell_type": "markdown",
   "metadata": {},
   "source": [
    "# Statistics"
   ]
  },
  {
   "cell_type": "code",
   "execution_count": 5,
   "metadata": {},
   "outputs": [
    {
     "name": "stdout",
     "output_type": "stream",
     "text": [
      "The vocabulary is made of 132161 words\n"
     ]
    }
   ],
   "source": [
    "print(f\"The vocabulary is made of {len(inverted_index_sortpost.index)} words\")"
   ]
  },
  {
   "cell_type": "markdown",
   "metadata": {},
   "source": [
    "### Document lengths"
   ]
  },
  {
   "cell_type": "code",
   "execution_count": 6,
   "metadata": {},
   "outputs": [
    {
     "name": "stdout",
     "output_type": "stream",
     "text": [
      "There are 79176 documents\n"
     ]
    },
    {
     "data": {
      "text/plain": [
       "<AxesSubplot:ylabel='Count'>"
      ]
     },
     "execution_count": 6,
     "metadata": {},
     "output_type": "execute_result"
    },
    {
     "data": {
      "image/png": "[encoded data removed]",
      "text/plain": [
       "<Figure size 432x288 with 1 Axes>"
      ]
     },
     "metadata": {
      "needs_background": "light"
     },
     "output_type": "display_data"
    }
   ],
   "source": [
    "print(f\"There are {len(inverted_index_sortpost.documents)} documents\")\n",
    "doc_lenghts=[len(inverted_index_sortpost.raw_freq[ID]) for ID in inverted_index_sortpost.documents]\n",
    "sb.histplot(doc_lenghts)"
   ]
  },
  {
   "cell_type": "code",
   "execution_count": 7,
   "metadata": {},
   "outputs": [
    {
     "data": {
      "text/html": [
       "<div>\n",
       "<style scoped>\n",
       "    .dataframe tbody tr th:only-of-type {\n",
       "        vertical-align: middle;\n",
       "    }\n",
       "\n",
       "    .dataframe tbody tr th {\n",
       "        vertical-align: top;\n",
       "    }\n",
       "\n",
       "    .dataframe thead th {\n",
       "        text-align: right;\n",
       "    }\n",
       "</style>\n",
       "<table border=\"1\" class=\"dataframe\">\n",
       "  <thead>\n",
       "    <tr style=\"text-align: right;\">\n",
       "      <th></th>\n",
       "      <th>doc_lengths</th>\n",
       "    </tr>\n",
       "  </thead>\n",
       "  <tbody>\n",
       "    <tr>\n",
       "      <th>count</th>\n",
       "      <td>79176.0</td>\n",
       "    </tr>\n",
       "    <tr>\n",
       "      <th>mean</th>\n",
       "      <td>49.0</td>\n",
       "    </tr>\n",
       "    <tr>\n",
       "      <th>std</th>\n",
       "      <td>15.0</td>\n",
       "    </tr>\n",
       "    <tr>\n",
       "      <th>min</th>\n",
       "      <td>4.0</td>\n",
       "    </tr>\n",
       "    <tr>\n",
       "      <th>25%</th>\n",
       "      <td>37.0</td>\n",
       "    </tr>\n",
       "    <tr>\n",
       "      <th>50%</th>\n",
       "      <td>48.0</td>\n",
       "    </tr>\n",
       "    <tr>\n",
       "      <th>75%</th>\n",
       "      <td>60.0</td>\n",
       "    </tr>\n",
       "    <tr>\n",
       "      <th>max</th>\n",
       "      <td>125.0</td>\n",
       "    </tr>\n",
       "  </tbody>\n",
       "</table>\n",
       "</div>"
      ],
      "text/plain": [
       "       doc_lengths\n",
       "count      79176.0\n",
       "mean          49.0\n",
       "std           15.0\n",
       "min            4.0\n",
       "25%           37.0\n",
       "50%           48.0\n",
       "75%           60.0\n",
       "max          125.0"
      ]
     },
     "execution_count": 7,
     "metadata": {},
     "output_type": "execute_result"
    }
   ],
   "source": [
    "round(pd.DataFrame({\"doc_lengths\": doc_lenghts}).describe(),0)"
   ]
  },
  {
   "cell_type": "markdown",
   "metadata": {},
   "source": [
    "### Word raw frequencies"
   ]
  },
  {
   "cell_type": "code",
   "execution_count": 8,
   "metadata": {},
   "outputs": [
    {
     "data": {
      "text/html": [
       "<div>\n",
       "<style scoped>\n",
       "    .dataframe tbody tr th:only-of-type {\n",
       "        vertical-align: middle;\n",
       "    }\n",
       "\n",
       "    .dataframe tbody tr th {\n",
       "        vertical-align: top;\n",
       "    }\n",
       "\n",
       "    .dataframe thead th {\n",
       "        text-align: right;\n",
       "    }\n",
       "</style>\n",
       "<table border=\"1\" class=\"dataframe\">\n",
       "  <thead>\n",
       "    <tr style=\"text-align: right;\">\n",
       "      <th></th>\n",
       "      <th>avg_raw_freqs</th>\n",
       "    </tr>\n",
       "  </thead>\n",
       "  <tbody>\n",
       "    <tr>\n",
       "      <th>count</th>\n",
       "      <td>132161.0</td>\n",
       "    </tr>\n",
       "    <tr>\n",
       "      <th>mean</th>\n",
       "      <td>1.0</td>\n",
       "    </tr>\n",
       "    <tr>\n",
       "      <th>std</th>\n",
       "      <td>0.0</td>\n",
       "    </tr>\n",
       "    <tr>\n",
       "      <th>min</th>\n",
       "      <td>1.0</td>\n",
       "    </tr>\n",
       "    <tr>\n",
       "      <th>25%</th>\n",
       "      <td>1.0</td>\n",
       "    </tr>\n",
       "    <tr>\n",
       "      <th>50%</th>\n",
       "      <td>1.0</td>\n",
       "    </tr>\n",
       "    <tr>\n",
       "      <th>75%</th>\n",
       "      <td>1.0</td>\n",
       "    </tr>\n",
       "    <tr>\n",
       "      <th>max</th>\n",
       "      <td>24.0</td>\n",
       "    </tr>\n",
       "  </tbody>\n",
       "</table>\n",
       "</div>"
      ],
      "text/plain": [
       "       avg_raw_freqs\n",
       "count       132161.0\n",
       "mean             1.0\n",
       "std              0.0\n",
       "min              1.0\n",
       "25%              1.0\n",
       "50%              1.0\n",
       "75%              1.0\n",
       "max             24.0"
      ]
     },
     "execution_count": 8,
     "metadata": {},
     "output_type": "execute_result"
    }
   ],
   "source": [
    "# average number of time each token appears in a document\n",
    "avg_raw_freqs = [np.mean([inverted_index_sortpost.raw_freq[ID][term] for ID in inverted_index_sortpost.index[term]]) for term in inverted_index_sortpost.index]\n",
    "round(pd.DataFrame({\"avg_raw_freqs\":avg_raw_freqs}).describe(),0)"
   ]
  },
  {
   "cell_type": "markdown",
   "metadata": {},
   "source": [
    "Most of the terms appear just once in a document."
   ]
  },
  {
   "cell_type": "markdown",
   "metadata": {},
   "source": [
    "### Document frequencies"
   ]
  },
  {
   "cell_type": "code",
   "execution_count": 9,
   "metadata": {},
   "outputs": [
    {
     "name": "stdout",
     "output_type": "stream",
     "text": [
      "CPU times: user 94.7 ms, sys: 0 ns, total: 94.7 ms\n",
      "Wall time: 93.9 ms\n"
     ]
    },
    {
     "data": {
      "text/html": [
       "<div>\n",
       "<style scoped>\n",
       "    .dataframe tbody tr th:only-of-type {\n",
       "        vertical-align: middle;\n",
       "    }\n",
       "\n",
       "    .dataframe tbody tr th {\n",
       "        vertical-align: top;\n",
       "    }\n",
       "\n",
       "    .dataframe thead th {\n",
       "        text-align: right;\n",
       "    }\n",
       "</style>\n",
       "<table border=\"1\" class=\"dataframe\">\n",
       "  <thead>\n",
       "    <tr style=\"text-align: right;\">\n",
       "      <th></th>\n",
       "      <th>doc_freqs</th>\n",
       "    </tr>\n",
       "  </thead>\n",
       "  <tbody>\n",
       "    <tr>\n",
       "      <th>count</th>\n",
       "      <td>132161.0</td>\n",
       "    </tr>\n",
       "    <tr>\n",
       "      <th>mean</th>\n",
       "      <td>29.0</td>\n",
       "    </tr>\n",
       "    <tr>\n",
       "      <th>std</th>\n",
       "      <td>571.0</td>\n",
       "    </tr>\n",
       "    <tr>\n",
       "      <th>min</th>\n",
       "      <td>1.0</td>\n",
       "    </tr>\n",
       "    <tr>\n",
       "      <th>25%</th>\n",
       "      <td>1.0</td>\n",
       "    </tr>\n",
       "    <tr>\n",
       "      <th>50%</th>\n",
       "      <td>2.0</td>\n",
       "    </tr>\n",
       "    <tr>\n",
       "      <th>75%</th>\n",
       "      <td>5.0</td>\n",
       "    </tr>\n",
       "    <tr>\n",
       "      <th>max</th>\n",
       "      <td>73633.0</td>\n",
       "    </tr>\n",
       "  </tbody>\n",
       "</table>\n",
       "</div>"
      ],
      "text/plain": [
       "       doc_freqs\n",
       "count   132161.0\n",
       "mean        29.0\n",
       "std        571.0\n",
       "min          1.0\n",
       "25%          1.0\n",
       "50%          2.0\n",
       "75%          5.0\n",
       "max      73633.0"
      ]
     },
     "execution_count": 9,
     "metadata": {},
     "output_type": "execute_result"
    }
   ],
   "source": [
    "%%time \n",
    "doc_freqs=[len(inverted_index_sortpost.index[token]) for token in inverted_index_sortpost.index]\n",
    "round(pd.DataFrame({\"doc_freqs\": doc_freqs}).describe(),0)"
   ]
  },
  {
   "cell_type": "markdown",
   "metadata": {},
   "source": [
    "A term appears on average in 30 $\\pm$ 500 documents, 75% of the terms appear in less than 5 documents (a lot of rare terms, weird ??). Lets try to visualize why"
   ]
  },
  {
   "cell_type": "code",
   "execution_count": 10,
   "metadata": {},
   "outputs": [
    {
     "name": "stdout",
     "output_type": "stream",
     "text": [
      "stink\n",
      "relocate\n",
      "scatter\n",
      "deters\n",
      "npr\n",
      "contributory\n",
      "fuelsoil\n",
      "coaltake\n",
      "circumscribes\n",
      "apothems\n",
      "4cm\n",
      "polygonsproperties\n",
      "incircle\n",
      "congruent\n",
      "equilateral\n",
      "weisstein\n",
      "inradius\n",
      "mathworld\n",
      "sagitta\n",
      "hypotenuse\n"
     ]
    }
   ],
   "source": [
    "for pos , term in enumerate(inverted_index_sortpost.index) : \n",
    "    if pos<=500 and len(inverted_index_sortpost.index[term])<=5: print(term) "
   ]
  },
  {
   "cell_type": "markdown",
   "metadata": {},
   "source": [
    "It looks plausible when we look at the above sequence of words (they look rare indeed)"
   ]
  },
  {
   "cell_type": "markdown",
   "metadata": {},
   "source": [
    "## Preparing for search"
   ]
  },
  {
   "cell_type": "code",
   "execution_count": 11,
   "metadata": {},
   "outputs": [],
   "source": [
    "tfreqs, idfs, unigram_model=tf(inverted_index_sortpost), idf(inverted_index_sortpost), unigram(inverted_index_sortpost)\n",
    "# tfreqs, idfs =tf(inverted_index_sortpost), idf(inverted_index_sortpost)"
   ]
  },
  {
   "cell_type": "markdown",
   "metadata": {},
   "source": [
    "# Searching"
   ]
  },
  {
   "cell_type": "markdown",
   "metadata": {},
   "source": [
    "## Simple boolean retrieval"
   ]
  },
  {
   "cell_type": "code",
   "execution_count": 16,
   "metadata": {},
   "outputs": [
    {
     "name": "stdout",
     "output_type": "stream",
     "text": [
      "Your query:  what is AIDS ?\n",
      "\n",
      "Result(s): \n",
      "Document(ID=36036, content='What is mean by opportunistic infection-Two examples of opportunistic infections are given below. In day to day life we unknowingly carry out many germs such as, fungi, bacteria, protozoa and viruses. When a person is HIV infection free the immune system resists such invaders. It controls them properly. Examples of Opportunistic Infection. Before going to see the examples of opportunistic infection, it would be better to learn that what is HIV and how it helps such infections to attack on the immune system. HIV is known as Human Immuno Deficiency Virus. The virus leads to develop the AIDS. It attacks on the CD4 cells') \n",
      "\n",
      "Document(ID=36038, content='Examples of opportunistic infections are given here for your sake. You can get the list of such examples in the given article. Moreover you would be able to know that what is opportunistic infection and how it leads a person to the life threatening disease that is AIDS. Examples of Opportunistic Infection. Before going to see the examples of opportunistic infection, it would be better to learn that what is HIV and how it helps such infections to attack on the immune system. HIV is known as Human Immuno Deficiency Virus. The virus leads to develop the AIDS. It attacks on the CD4 cells') \n",
      "\n",
      "Document(ID=44218, content='The salivary glands are located in the mouth, and their job is to secrete (guess what) saliva. When you first chew your food, the saliva moistens your food as it forms a bolus … . A moist bolus is easy to swallow. Making the world better, one answer at a time. The salivary glands secretes saliva that aids in chewing and starts the digestion process. This part of digestion is took place in your mouth. Saliva glands are located in the mouth providing the first ingested digestive chemical breakdown. Saliva also lubricates ingestion to aid in mastication') \n",
      "\n"
     ]
    }
   ],
   "source": [
    "searching(index=inverted_index_sortpost, modl='bool', top=3, query_type='AND')"
   ]
  },
  {
   "cell_type": "markdown",
   "metadata": {},
   "source": [
    "## Phrase queries retrieval PENDING( POSITIONAL INDEXING TAKES TIME TO RUN DUE TO PREPROCESSING)"
   ]
  },
  {
   "cell_type": "code",
   "execution_count": 14,
   "metadata": {},
   "outputs": [],
   "source": [
    "# %%time\n",
    "# query='''the effects of humidity on the mach number and static pressure in the\n",
    "# working section were investigated and the results are compared with\n",
    "# theoretical estimates at a nominal mach number 2.0'''\n",
    "# phrase_retrieval(positional_index_sortpost, query)"
   ]
  },
  {
   "cell_type": "markdown",
   "metadata": {},
   "source": [
    "## Vector Space Model"
   ]
  },
  {
   "cell_type": "code",
   "execution_count": 19,
   "metadata": {},
   "outputs": [
    {
     "name": "stdout",
     "output_type": "stream",
     "text": [
      "Your query:  bomb attack\n",
      "\n",
      "Result(s): \n",
      "(Document(ID=34472, content='The history of the atomic bomb began with the Manhattan Project. It was tasked to create the bomb beginning in 1939. The scientists who invented the bomb included Robert Oppenheimer, Edward Teller, Rudolf Peierls and many others.'), 'score = 1.2531907190556753') \n",
      "\n",
      "(Document(ID=61695, content='During the attack on Pearl Harbor in Hawaii, the Japanese used war  planes and submarines to bomb the United States Naval Base there.  Many people lost their lives that day. … Some of them were caught on  a ship that sank in the harbor known as the USS Arizona. The attack  happened on December 6, 1941. 1 A Brief Look at the History of Pearl Harbor If you ask anyone about Pearl Harbor, he or she will probably delve into a description of the Japanese attack on it that initiated US involvement in World War II.'), 'score = 1.0908427465168598') \n",
      "\n",
      "(Document(ID=34469, content='Atomic Bomb. The atomic bomb was first used in warfare at Hiroshima and Nagasaki in August 1945 and the bomb played a key role in ending World War Two. The atomic bomb (A bomb), created via the Manhattan Project, was first exploded at the top secret base of Alamogordo on July 16th, 1945. A reconstruction of ‘Little Boy’ at the Imperial War Museum. The bomb that dropped on Hiroshima was code-named ‘Little Boy’.'), 'score = 1.0793224689007377') \n",
      "\n"
     ]
    }
   ],
   "source": [
    "searching(index=inverted_index_sortpost, modl='tf_idf',tfreqs= tfreqs, idfs=idfs, top=3)"
   ]
  },
  {
   "cell_type": "markdown",
   "metadata": {},
   "source": [
    "## Binary Independence models"
   ]
  },
  {
   "cell_type": "code",
   "execution_count": 20,
   "metadata": {},
   "outputs": [
    {
     "name": "stdout",
     "output_type": "stream",
     "text": [
      "Your query:  what is franc ?\n",
      "\n",
      "Result(s): \n",
      "(Document(ID=7493, content='[fʁɑ̃] ; sign: F or Fr), also commonly distinguished as the French franc (FF), was a currency of France. Between 1360 and 1641, it was the name of coins worth 1 livre tournois and it remained in common parlance as a term for this amount of money. It was reintroduced (in decimal form) in 1795. It was revalued in 1960, with each new franc (NF) being worth 100 old francs.'), 'score = 3.5975635615929686') \n",
      "\n",
      "(Document(ID=77924, content=\"By the end of the 20th century, the United States dollar was considered the world's most dominant reserve currency, and the world's need for dollars has allowed the United States government as well as Americans to borrow at lower costs, granting them an advantage in excess of $100 billion per year. The Swiss franc, despite gaining ground among the world's foreign-currency reserves and being often used in denominating foreign loans, cannot be considered as a world reserve currency, since the share of all foreign exchange reserves held in Swiss francs has historically been well below 0.5%.\"), 'score = 3.5975635615929686') \n",
      "\n",
      "(Document(ID=7487, content='French currency conversion. The French Franc is no longer used as money in France, it is now the Euro. The value of the French Franc was fixed at 1 Euro = 6.55957 French Francs, or 1 French Franc = 0.1524490172374104 Euro. '), 'score = 3.4512334049532027') \n",
      "\n"
     ]
    }
   ],
   "source": [
    "searching(inverted_index_sortpost, modl='bim', top=3)"
   ]
  },
  {
   "cell_type": "markdown",
   "metadata": {},
   "source": [
    "### Improving with some extensions"
   ]
  },
  {
   "cell_type": "code",
   "execution_count": 24,
   "metadata": {},
   "outputs": [
    {
     "name": "stdout",
     "output_type": "stream",
     "text": [
      "Your query:  what is franc ?\n",
      "\n",
      "Result(s): \n",
      "(Document(ID=7491, content=\"The currency of France before 2002 was the French Franc. The franc was abolished in 2002 and replaced by the Euro at the rate of €1 = 6.55957 francs. The subdivision of th … e franc was the centime, 1 franc = 100 centimes. The name 'centime' is also used in French for the subdivision of the Euro, €1 = 100 centimes.   France used the franc as its currency up till 2002. Confidence votes 55. The currency used in France is the Euro (symbol €) and its the subdivision is called the 'cent' (English) or 'centime' (French). The Euro replaced the French franc in 2002 at the rate of €1 = 6.55957 francs, and the franc was no longer redeemable after February 201\"), 'score = 4.779377065087853') \n",
      "\n",
      "(Document(ID=7487, content='French currency conversion. The French Franc is no longer used as money in France, it is now the Euro. The value of the French Franc was fixed at 1 Euro = 6.55957 French Francs, or 1 French Franc = 0.1524490172374104 Euro. '), 'score = 4.292476440608552') \n",
      "\n",
      "(Document(ID=7494, content='The franc (₣) is the name of several currency units. The French franc was the former currency of France until the euro was adopted in 1999 (by law, 2002 de facto). The Swiss franc is a major world currency today due to the prominence of Swiss financial institution'), 'score = 4.292476440608552') \n",
      "\n"
     ]
    }
   ],
   "source": [
    "searching(inverted_index_sortpost, modl='bim_ext', tfreqs=tfreqs, top=3, extension=\"two_poisson\", k=1.5, b=0.75)"
   ]
  },
  {
   "cell_type": "code",
   "execution_count": 27,
   "metadata": {},
   "outputs": [
    {
     "name": "stdout",
     "output_type": "stream",
     "text": [
      "Your query:  what is franc ?\n",
      "\n",
      "Result(s): \n",
      "(Document(ID=7487, content='French currency conversion. The French Franc is no longer used as money in France, it is now the Euro. The value of the French Franc was fixed at 1 Euro = 6.55957 French Francs, or 1 French Franc = 0.1524490172374104 Euro. '), 'score = 5.597790978394788') \n",
      "\n",
      "(Document(ID=7494, content='The franc (₣) is the name of several currency units. The French franc was the former currency of France until the euro was adopted in 1999 (by law, 2002 de facto). The Swiss franc is a major world currency today due to the prominence of Swiss financial institution'), 'score = 5.114119960900326') \n",
      "\n",
      "(Document(ID=7491, content=\"The currency of France before 2002 was the French Franc. The franc was abolished in 2002 and replaced by the Euro at the rate of €1 = 6.55957 francs. The subdivision of th … e franc was the centime, 1 franc = 100 centimes. The name 'centime' is also used in French for the subdivision of the Euro, €1 = 100 centimes.   France used the franc as its currency up till 2002. Confidence votes 55. The currency used in France is the Euro (symbol €) and its the subdivision is called the 'cent' (English) or 'centime' (French). The Euro replaced the French franc in 2002 at the rate of €1 = 6.55957 francs, and the franc was no longer redeemable after February 201\"), 'score = 4.6305301583234515') \n",
      "\n"
     ]
    }
   ],
   "source": [
    "searching(inverted_index_sortpost, modl='bim_ext', tfreqs=tfreqs, top=3, extension=\"bm11\", k=1.5, b=0.75)"
   ]
  },
  {
   "cell_type": "code",
   "execution_count": 28,
   "metadata": {},
   "outputs": [
    {
     "name": "stdout",
     "output_type": "stream",
     "text": [
      "Your query:  what is franc ?\n",
      "\n",
      "Result(s): \n",
      "(Document(ID=7487, content='French currency conversion. The French Franc is no longer used as money in France, it is now the Euro. The value of the French Franc was fixed at 1 Euro = 6.55957 French Francs, or 1 French Franc = 0.1524490172374104 Euro. '), 'score = 5.20231206592104') \n",
      "\n",
      "(Document(ID=7494, content='The franc (₣) is the name of several currency units. The French franc was the former currency of France until the euro was adopted in 1999 (by law, 2002 de facto). The Swiss franc is a major world currency today due to the prominence of Swiss financial institution'), 'score = 4.880572864412698') \n",
      "\n",
      "(Document(ID=7491, content=\"The currency of France before 2002 was the French Franc. The franc was abolished in 2002 and replaced by the Euro at the rate of €1 = 6.55957 francs. The subdivision of th … e franc was the centime, 1 franc = 100 centimes. The name 'centime' is also used in French for the subdivision of the Euro, €1 = 100 centimes.   France used the franc as its currency up till 2002. Confidence votes 55. The currency used in France is the Euro (symbol €) and its the subdivision is called the 'cent' (English) or 'centime' (French). The Euro replaced the French franc in 2002 at the rate of €1 = 6.55957 francs, and the franc was no longer redeemable after February 201\"), 'score = 4.666866388859202') \n",
      "\n"
     ]
    }
   ],
   "source": [
    "searching(inverted_index_sortpost, modl='bim_ext', tfreqs=tfreqs, top=3, extension=\"bm25\", k=1.5, b=0.75)"
   ]
  },
  {
   "cell_type": "markdown",
   "metadata": {},
   "source": [
    "## Language model"
   ]
  },
  {
   "cell_type": "code",
   "execution_count": 35,
   "metadata": {},
   "outputs": [
    {
     "name": "stdout",
     "output_type": "stream",
     "text": [
      "Your query:  Save the world !!!\n",
      "\n",
      "Result(s): \n",
      "(Document(ID=1, content='We have been feeding our back yard squirrels for the fall and winter and we noticed that a few of them have missing fur. One has a patch missing down his back and under both arms. Also another has some missing on his whole chest. They are all eating and seem to have a good appetite.'), 'score = 0.060670768902718046') \n",
      "\n",
      "(Document(ID=2, content='Critters cannot stand the smell of human hair, so sprinkling a barrier of hair clippings around your garden, or lightly working it into the soil when you plant bulbs, apparently does have some merit. The whole thing kind of makes me laugh. It never occurred to me that we are the ones that stink.'), 'score = 0.060670768902718046') \n",
      "\n",
      "(Document(ID=3, content=\"Spread some human hair around your vegetable and flower gardens. This will scare the squirrels away because humans are predators of squirrels. It is better if the hair hasn't been washed so the squirrels will easily pick up the human scent.\"), 'score = 0.060670768902718046') \n",
      "\n",
      "(Document(ID=4, content='1 You can sprinkle blood meal around your garden as well. 2  Don’t trap and relocate squirrels. 3  This is a losing battle since the population of squirrels is extremely high. 4  Also, if the animal is a female there is a high likelihood that you will remove her from babies that depend on her for survival.'), 'score = 0.060670768902718046') \n",
      "\n",
      "(Document(ID=5, content='Hair loss in squirrels can be caused by mange or fungal disease. Mange is a disease caused by microscopic mites that burrow under the skin. The squirrel mange mite has been reported in both fox and gray squirrels. There have been no reports of this type of mange being transmitted to humans or domestic pets.'), 'score = 0.060670768902718046') \n",
      "\n"
     ]
    }
   ],
   "source": [
    "searching(inverted_index_sortpost, modl='query_lklh', top=5, lang_model=unigram_model)"
   ]
  }
 ],
 "metadata": {
  "kernelspec": {
   "display_name": "Python 3 (system-wide)",
   "language": "python",
   "name": "python3"
  },
  "language_info": {
   "codemirror_mode": {
    "name": "ipython",
    "version": 3
   },
   "file_extension": ".py",
   "mimetype": "text/x-python",
   "name": "python",
   "nbconvert_exporter": "python",
   "pygments_lexer": "ipython3",
   "version": "3.7.8"
  }
 },
 "nbformat": 4,
 "nbformat_minor": 4
}
